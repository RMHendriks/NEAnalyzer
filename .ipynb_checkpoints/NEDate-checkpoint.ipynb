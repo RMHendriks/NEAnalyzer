{
 "cells": [
  {
   "cell_type": "code",
   "execution_count": 9,
   "id": "5cc02c40-230b-47fb-87c9-06a230e71d18",
   "metadata": {},
   "outputs": [
    {
     "name": "stdout",
     "output_type": "stream",
     "text": [
      "The autoreload extension is already loaded. To reload it, use:\n",
      "  %reload_ext autoreload\n"
     ]
    }
   ],
   "source": [
    "%load_ext autoreload\n",
    "%autoreload 2"
   ]
  },
  {
   "cell_type": "code",
   "execution_count": 10,
   "id": "de76d159-a01a-45d9-aed7-a15e5c687dd1",
   "metadata": {},
   "outputs": [],
   "source": [
    "from tf.app import use"
   ]
  },
  {
   "cell_type": "code",
   "execution_count": 11,
   "id": "ea5b632a-89f0-48bc-bc99-bec789914158",
   "metadata": {},
   "outputs": [
    {
     "data": {
      "text/markdown": [
       "**Locating corpus resources ...**"
      ],
      "text/plain": [
       "<IPython.core.display.Markdown object>"
      ]
     },
     "metadata": {},
     "output_type": "display_data"
    },
    {
     "data": {
      "text/html": [
       "<b title=\"local release\">app:</b> <span title=\"rv1.1=#g8666face5331ed80d6b88c942fa450d9f82d4959 offline under /home/ruben/text-fabric-data/github\">~/text-fabric-data/github/CLARIAH/wp6-missieven/app</span>"
      ],
      "text/plain": [
       "<IPython.core.display.HTML object>"
      ]
     },
     "metadata": {},
     "output_type": "display_data"
    },
    {
     "data": {
      "text/html": [
       "<b title=\"local release\">data:</b> <span title=\"rv1.1=#gd4a1683f62c987cb4454c8614059a0036d623fec offline under /home/ruben/text-fabric-data/github\">~/text-fabric-data/github/CLARIAH/wp6-missieven/tf/1.0</span>"
      ],
      "text/plain": [
       "<IPython.core.display.HTML object>"
      ]
     },
     "metadata": {},
     "output_type": "display_data"
    },
    {
     "data": {
      "text/html": [
       "<b title=\"local release\">data:</b> <span title=\"rv1.0e=#61b0cb1b6bb6e9c4549a53aa5db557ffe37c1946 offline under /home/ruben/text-fabric-data/github\">~/text-fabric-data/github/CLARIAH/wp6-missieven/voc-missives/export/tf/1.0</span>"
      ],
      "text/plain": [
       "<IPython.core.display.HTML object>"
      ]
     },
     "metadata": {},
     "output_type": "display_data"
    },
    {
     "data": {
      "text/html": [
       "<b title=\"local release\">data:</b> <span title=\"rv1.1=#g8666face5331ed80d6b88c942fa450d9f82d4959 offline under /home/ruben/text-fabric-data/github\">~/text-fabric-data/github/CLARIAH/wp6-missieven/ner</span>"
      ],
      "text/plain": [
       "<IPython.core.display.HTML object>"
      ]
     },
     "metadata": {},
     "output_type": "display_data"
    },
    {
     "data": {
      "text/html": [
       "\n",
       "            <b>TF:</b> <a target=\"_blank\" href=\"https://annotation.github.io/text-fabric/tf/cheatsheet.html\" title=\"text-fabric api\">TF API 12.2.10</a>, <a target=\"_blank\" href=\"https://github.com/CLARIAH/wp6-missieven/blob/master/app\" title=\"CLARIAH/wp6-missieven app\">CLARIAH/wp6-missieven/app  v3</a>, <a target=\"_blank\" href=\"https://annotation.github.io/text-fabric/tf/about/searchusage.html\" title=\"Search Templates Introduction and Reference\">Search Reference</a><br>\n",
       "            <b>Data:</b> <a target=\"_blank\" href=\"https://github.com/CLARIAH/wp6-missieven/blob/master/docs/about.md\" title=\"provenance of General Missives Dutch East India Company 1600-1800\">CLARIAH - wp6-missieven 1.0</a>, <a target=\"_blank\" href=\"https://annotation.github.io/text-fabric/tf/writing/\" title=\"How TF features represent text\">Character table</a>, <a target=\"_blank\" href=\"https://github.com/CLARIAH/wp6-missieven/blob/master/docs/transcription.md\" title=\"CLARIAH - wp6-missieven feature documentation\">Feature docs</a><br>\n",
       "            <details class=\"nodeinfo\"><summary><b>Node types</b></summary>\n",
       "<table class=\"nodeinfo\">\n",
       "    <tr>\n",
       "        <th>Name</th>\n",
       "        <th># of nodes</th>\n",
       "        <th># slots / node</th>\n",
       "        <th>% coverage</th>\n",
       "    </tr>\n",
       "\n",
       "<tr>\n",
       "    <th>volume</th>\n",
       "    <td>14</td>\n",
       "    <td>426954.79</td>\n",
       "    <td><b>100</b></td>\n",
       "</tr>\n",
       "\n",
       "<tr>\n",
       "    <th>letter</th>\n",
       "    <td>607</td>\n",
       "    <td>9847.39</td>\n",
       "    <td><b>100</b></td>\n",
       "</tr>\n",
       "\n",
       "<tr>\n",
       "    <th>page</th>\n",
       "    <td>11215</td>\n",
       "    <td>532.98</td>\n",
       "    <td><b>100</b></td>\n",
       "</tr>\n",
       "\n",
       "<tr>\n",
       "    <th>table</th>\n",
       "    <td>491</td>\n",
       "    <td>137.91</td>\n",
       "    <td>1</td>\n",
       "</tr>\n",
       "\n",
       "<tr>\n",
       "    <th>para</th>\n",
       "    <td>34773</td>\n",
       "    <td>100.79</td>\n",
       "    <td>59</td>\n",
       "</tr>\n",
       "\n",
       "<tr>\n",
       "    <th>remark</th>\n",
       "    <td>24110</td>\n",
       "    <td>97.49</td>\n",
       "    <td>39</td>\n",
       "</tr>\n",
       "\n",
       "<tr>\n",
       "    <th>head</th>\n",
       "    <td>607</td>\n",
       "    <td>31.12</td>\n",
       "    <td>0</td>\n",
       "</tr>\n",
       "\n",
       "<tr>\n",
       "    <th>note</th>\n",
       "    <td>12476</td>\n",
       "    <td>16.88</td>\n",
       "    <td>4</td>\n",
       "</tr>\n",
       "\n",
       "<tr>\n",
       "    <th>line</th>\n",
       "    <td>526918</td>\n",
       "    <td>11.34</td>\n",
       "    <td><b>100</b></td>\n",
       "</tr>\n",
       "\n",
       "<tr>\n",
       "    <th>row</th>\n",
       "    <td>8350</td>\n",
       "    <td>8.10</td>\n",
       "    <td>1</td>\n",
       "</tr>\n",
       "\n",
       "<tr>\n",
       "    <th>folio</th>\n",
       "    <td>7899</td>\n",
       "    <td>2.63</td>\n",
       "    <td>0</td>\n",
       "</tr>\n",
       "\n",
       "<tr>\n",
       "    <th>cell</th>\n",
       "    <td>32302</td>\n",
       "    <td>2.09</td>\n",
       "    <td>1</td>\n",
       "</tr>\n",
       "\n",
       "<tr>\n",
       "    <th>subhead</th>\n",
       "    <td>1864</td>\n",
       "    <td>1.42</td>\n",
       "    <td>0</td>\n",
       "</tr>\n",
       "\n",
       "<tr>\n",
       "    <th><i>word</i></th>\n",
       "    <td>5977367</td>\n",
       "    <td>1.00</td>\n",
       "    <td><b>100</b></td>\n",
       "</tr>\n",
       "</table></details>\n",
       "            <b>Sets:</b> no custom sets<br>\n",
       "            <b>Features:</b><br>\n",
       "<details><summary><b><github>CLARIAH/wp6-missieven/voc-missives/export/tf</b></summary>\n",
       "    <div class=\"fcorpus\">\n",
       "\n",
       "<div class=\"frow\">\n",
       "    <div class=\"fnamecat \">\n",
       "<a target=\"_blank\" href=\"https://github.com/CLARIAH/wp6-missieven/tree/master/voc-missives/export/tf\" title=\"~/text-fabric-data/github/CLARIAH/wp6-missieven/voc-missives/export/tf/1.0/entityId.tf\">entityId</a>\n",
       "</div>\n",
       "<div class=\"fmono\">str</div>\n",
       "\n",
       "<span> identifier of a named entity</span>\n",
       "\n",
       "</div>\n",
       "\n",
       "<div class=\"frow\">\n",
       "    <div class=\"fnamecat \">\n",
       "<a target=\"_blank\" href=\"https://github.com/CLARIAH/wp6-missieven/tree/master/voc-missives/export/tf\" title=\"~/text-fabric-data/github/CLARIAH/wp6-missieven/voc-missives/export/tf/1.0/entityKind.tf\">entityKind</a>\n",
       "</div>\n",
       "<div class=\"fmono\">str</div>\n",
       "\n",
       "<span> kind of a named entity</span>\n",
       "\n",
       "</div>\n",
       "\n",
       "    </div>\n",
       "</details>\n",
       "\n",
       "<details><summary><b>General Missives Dutch East India Company 1600-1800</b></summary>\n",
       "    <div class=\"fcorpus\">\n",
       "\n",
       "<div class=\"frow\">\n",
       "    <div class=\"fnamecat \">\n",
       "<a target=\"_blank\" href=\"https://github.com/CLARIAH/wp6-missieven/blob/master/docs/transcription.md\" title=\"~/text-fabric-data/github/CLARIAH/wp6-missieven/tf/1.0/author.tf\">author</a>\n",
       "</div>\n",
       "<div class=\"fmono\">str</div>\n",
       "\n",
       "<span> authors of the letter, surnames only</span>\n",
       "\n",
       "</div>\n",
       "\n",
       "<div class=\"frow\">\n",
       "    <div class=\"fnamecat \">\n",
       "<a target=\"_blank\" href=\"https://github.com/CLARIAH/wp6-missieven/blob/master/docs/transcription.md\" title=\"~/text-fabric-data/github/CLARIAH/wp6-missieven/tf/1.0/authorFull.tf\">authorFull</a>\n",
       "</div>\n",
       "<div class=\"fmono\">str</div>\n",
       "\n",
       "<span> authors of the letter, full names</span>\n",
       "\n",
       "</div>\n",
       "\n",
       "<div class=\"frow\">\n",
       "    <div class=\"fnamecat \">\n",
       "<a target=\"_blank\" href=\"https://github.com/CLARIAH/wp6-missieven/blob/master/docs/transcription.md\" title=\"~/text-fabric-data/github/CLARIAH/wp6-missieven/tf/1.0/col.tf\">col</a>\n",
       "</div>\n",
       "<div class=\"fmono\">int</div>\n",
       "\n",
       "<span> column number of a column in a row in a table</span>\n",
       "\n",
       "</div>\n",
       "\n",
       "<div class=\"frow\">\n",
       "    <div class=\"fnamecat \">\n",
       "<a target=\"_blank\" href=\"https://github.com/CLARIAH/wp6-missieven/blob/master/docs/transcription.md\" title=\"~/text-fabric-data/github/CLARIAH/wp6-missieven/tf/1.0/day.tf\">day</a>\n",
       "</div>\n",
       "<div class=\"fmono\">int</div>\n",
       "\n",
       "<span> day part of the date of the letter</span>\n",
       "\n",
       "</div>\n",
       "\n",
       "<div class=\"frow\">\n",
       "    <div class=\"fnamecat \">\n",
       "<a target=\"_blank\" href=\"https://github.com/CLARIAH/wp6-missieven/blob/master/docs/transcription.md\" title=\"~/text-fabric-data/github/CLARIAH/wp6-missieven/tf/1.0/isden.tf\">isden</a>\n",
       "</div>\n",
       "<div class=\"fmono\">int</div>\n",
       "\n",
       "<span> whether a word is the denominator in fraction, e.g. 4 in 1/4</span>\n",
       "\n",
       "</div>\n",
       "\n",
       "<div class=\"frow\">\n",
       "    <div class=\"fnamecat \">\n",
       "<a target=\"_blank\" href=\"https://github.com/CLARIAH/wp6-missieven/blob/master/docs/transcription.md\" title=\"~/text-fabric-data/github/CLARIAH/wp6-missieven/tf/1.0/isemph.tf\">isemph</a>\n",
       "</div>\n",
       "<div class=\"fmono\">str</div>\n",
       "\n",
       "<span> whether a word is emphasized by typography</span>\n",
       "\n",
       "</div>\n",
       "\n",
       "<div class=\"frow\">\n",
       "    <div class=\"fnamecat \">\n",
       "<a target=\"_blank\" href=\"https://github.com/CLARIAH/wp6-missieven/blob/master/docs/transcription.md\" title=\"~/text-fabric-data/github/CLARIAH/wp6-missieven/tf/1.0/isfolio.tf\">isfolio</a>\n",
       "</div>\n",
       "<div class=\"fmono\">int</div>\n",
       "\n",
       "<span> a folio reference</span>\n",
       "\n",
       "</div>\n",
       "\n",
       "<div class=\"frow\">\n",
       "    <div class=\"fnamecat \">\n",
       "<a target=\"_blank\" href=\"https://github.com/CLARIAH/wp6-missieven/blob/master/docs/transcription.md\" title=\"~/text-fabric-data/github/CLARIAH/wp6-missieven/tf/1.0/isnote.tf\">isnote</a>\n",
       "</div>\n",
       "<div class=\"fmono\">int</div>\n",
       "\n",
       "<span> whether a word belongs to footnote text</span>\n",
       "\n",
       "</div>\n",
       "\n",
       "<div class=\"frow\">\n",
       "    <div class=\"fnamecat \">\n",
       "<a target=\"_blank\" href=\"https://github.com/CLARIAH/wp6-missieven/blob/master/docs/transcription.md\" title=\"~/text-fabric-data/github/CLARIAH/wp6-missieven/tf/1.0/isnum.tf\">isnum</a>\n",
       "</div>\n",
       "<div class=\"fmono\">int</div>\n",
       "\n",
       "<span> whether a word is the numerator in fraction, e.g. 1 in 1/4</span>\n",
       "\n",
       "</div>\n",
       "\n",
       "<div class=\"frow\">\n",
       "    <div class=\"fnamecat \">\n",
       "<a target=\"_blank\" href=\"https://github.com/CLARIAH/wp6-missieven/blob/master/docs/transcription.md\" title=\"~/text-fabric-data/github/CLARIAH/wp6-missieven/tf/1.0/isorig.tf\">isorig</a>\n",
       "</div>\n",
       "<div class=\"fmono\">int</div>\n",
       "\n",
       "<span> whether a word belongs to original text</span>\n",
       "\n",
       "</div>\n",
       "\n",
       "<div class=\"frow\">\n",
       "    <div class=\"fnamecat \">\n",
       "<a target=\"_blank\" href=\"https://github.com/CLARIAH/wp6-missieven/blob/master/docs/transcription.md\" title=\"~/text-fabric-data/github/CLARIAH/wp6-missieven/tf/1.0/isq.tf\">isq</a>\n",
       "</div>\n",
       "<div class=\"fmono\">int</div>\n",
       "\n",
       "<span> whether a word is a numerical fraction, e.g. 1/4</span>\n",
       "\n",
       "</div>\n",
       "\n",
       "<div class=\"frow\">\n",
       "    <div class=\"fnamecat \">\n",
       "<a target=\"_blank\" href=\"https://github.com/CLARIAH/wp6-missieven/blob/master/docs/transcription.md\" title=\"~/text-fabric-data/github/CLARIAH/wp6-missieven/tf/1.0/isref.tf\">isref</a>\n",
       "</div>\n",
       "<div class=\"fmono\">int</div>\n",
       "\n",
       "<span> whether a word belongs to the text of reference</span>\n",
       "\n",
       "</div>\n",
       "\n",
       "<div class=\"frow\">\n",
       "    <div class=\"fnamecat \">\n",
       "<a target=\"_blank\" href=\"https://github.com/CLARIAH/wp6-missieven/blob/master/docs/transcription.md\" title=\"~/text-fabric-data/github/CLARIAH/wp6-missieven/tf/1.0/isremark.tf\">isremark</a>\n",
       "</div>\n",
       "<div class=\"fmono\">int</div>\n",
       "\n",
       "<span> whether a word belongs to the text of editorial remarks</span>\n",
       "\n",
       "</div>\n",
       "\n",
       "<div class=\"frow\">\n",
       "    <div class=\"fnamecat \">\n",
       "<a target=\"_blank\" href=\"https://github.com/CLARIAH/wp6-missieven/blob/master/docs/transcription.md\" title=\"~/text-fabric-data/github/CLARIAH/wp6-missieven/tf/1.0/isspecial.tf\">isspecial</a>\n",
       "</div>\n",
       "<div class=\"fmono\">int</div>\n",
       "\n",
       "<span> whether a word has special typography possibly with OCR mistakes as well</span>\n",
       "\n",
       "</div>\n",
       "\n",
       "<div class=\"frow\">\n",
       "    <div class=\"fnamecat \">\n",
       "<a target=\"_blank\" href=\"https://github.com/CLARIAH/wp6-missieven/blob/master/docs/transcription.md\" title=\"~/text-fabric-data/github/CLARIAH/wp6-missieven/tf/1.0/issub.tf\">issub</a>\n",
       "</div>\n",
       "<div class=\"fmono\">int</div>\n",
       "\n",
       "<span> whether a word has subscript typography possibly indicating the denominator of a fraction</span>\n",
       "\n",
       "</div>\n",
       "\n",
       "<div class=\"frow\">\n",
       "    <div class=\"fnamecat \">\n",
       "<a target=\"_blank\" href=\"https://github.com/CLARIAH/wp6-missieven/blob/master/docs/transcription.md\" title=\"~/text-fabric-data/github/CLARIAH/wp6-missieven/tf/1.0/issuper.tf\">issuper</a>\n",
       "</div>\n",
       "<div class=\"fmono\">int</div>\n",
       "\n",
       "<span> whether a word has superscript typography possibly indicating the numerator of a fraction</span>\n",
       "\n",
       "</div>\n",
       "\n",
       "<div class=\"frow\">\n",
       "    <div class=\"fnamecat \">\n",
       "<a target=\"_blank\" href=\"https://github.com/CLARIAH/wp6-missieven/blob/master/docs/transcription.md\" title=\"~/text-fabric-data/github/CLARIAH/wp6-missieven/tf/1.0/isund.tf\">isund</a>\n",
       "</div>\n",
       "<div class=\"fmono\">str</div>\n",
       "\n",
       "<span> whether a word is underlined by typography</span>\n",
       "\n",
       "</div>\n",
       "\n",
       "<div class=\"frow\">\n",
       "    <div class=\"fnamecat \">\n",
       "<a target=\"_blank\" href=\"https://github.com/CLARIAH/wp6-missieven/blob/master/docs/transcription.md\" title=\"~/text-fabric-data/github/CLARIAH/wp6-missieven/tf/1.0/mark.tf\">mark</a>\n",
       "</div>\n",
       "<div class=\"fmono\">int</div>\n",
       "\n",
       "<span> footnote mark (not necessarily the same as shown on the printed page</span>\n",
       "\n",
       "</div>\n",
       "\n",
       "<div class=\"frow\">\n",
       "    <div class=\"fnamecat \">\n",
       "<a target=\"_blank\" href=\"https://github.com/CLARIAH/wp6-missieven/blob/master/docs/transcription.md\" title=\"~/text-fabric-data/github/CLARIAH/wp6-missieven/tf/1.0/month.tf\">month</a>\n",
       "</div>\n",
       "<div class=\"fmono\">int</div>\n",
       "\n",
       "<span> month part of the date of the letter</span>\n",
       "\n",
       "</div>\n",
       "\n",
       "<div class=\"frow\">\n",
       "    <div class=\"fnamecat \">\n",
       "<a target=\"_blank\" href=\"https://github.com/CLARIAH/wp6-missieven/blob/master/docs/transcription.md\" title=\"~/text-fabric-data/github/CLARIAH/wp6-missieven/tf/1.0/n.tf\">n</a>\n",
       "</div>\n",
       "<div class=\"fmono\">int</div>\n",
       "\n",
       "<span> number of a volume, letter, page, para, line, table</span>\n",
       "\n",
       "</div>\n",
       "\n",
       "<div class=\"frow\">\n",
       "    <div class=\"fnamecat \">\n",
       "<a target=\"_blank\" href=\"https://github.com/CLARIAH/wp6-missieven/blob/master/docs/transcription.md\" title=\"~/text-fabric-data/github/CLARIAH/wp6-missieven/tf/1.0/otype.tf\">otype</a>\n",
       "</div>\n",
       "<div class=\"fmono\">str</div>\n",
       "\n",
       "<span> </span>\n",
       "\n",
       "</div>\n",
       "\n",
       "<div class=\"frow\">\n",
       "    <div class=\"fnamecat \">\n",
       "<a target=\"_blank\" href=\"https://github.com/CLARIAH/wp6-missieven/blob/master/docs/transcription.md\" title=\"~/text-fabric-data/github/CLARIAH/wp6-missieven/tf/1.0/page.tf\">page</a>\n",
       "</div>\n",
       "<div class=\"fmono\">str</div>\n",
       "\n",
       "<span> number of the first page of this letter in this volume</span>\n",
       "\n",
       "</div>\n",
       "\n",
       "<div class=\"frow\">\n",
       "    <div class=\"fnamecat \">\n",
       "<a target=\"_blank\" href=\"https://github.com/CLARIAH/wp6-missieven/blob/master/docs/transcription.md\" title=\"~/text-fabric-data/github/CLARIAH/wp6-missieven/tf/1.0/place.tf\">place</a>\n",
       "</div>\n",
       "<div class=\"fmono\">str</div>\n",
       "\n",
       "<span> place from where the letter was sent</span>\n",
       "\n",
       "</div>\n",
       "\n",
       "<div class=\"frow\">\n",
       "    <div class=\"fnamecat \">\n",
       "<a target=\"_blank\" href=\"https://github.com/CLARIAH/wp6-missieven/blob/master/docs/transcription.md\" title=\"~/text-fabric-data/github/CLARIAH/wp6-missieven/tf/1.0/punc.tf\">punc</a>\n",
       "</div>\n",
       "<div class=\"fmono\">str</div>\n",
       "\n",
       "<span> punctuation and/or whitespace following a wordup to the next word</span>\n",
       "\n",
       "</div>\n",
       "\n",
       "<div class=\"frow\">\n",
       "    <div class=\"fnamecat \">\n",
       "<a target=\"_blank\" href=\"https://github.com/CLARIAH/wp6-missieven/blob/master/docs/transcription.md\" title=\"~/text-fabric-data/github/CLARIAH/wp6-missieven/tf/1.0/puncn.tf\">puncn</a>\n",
       "</div>\n",
       "<div class=\"fmono\">str</div>\n",
       "\n",
       "<span> punctuation and/or whitespace following a word,up to the next word, footnote text only</span>\n",
       "\n",
       "</div>\n",
       "\n",
       "<div class=\"frow\">\n",
       "    <div class=\"fnamecat \">\n",
       "<a target=\"_blank\" href=\"https://github.com/CLARIAH/wp6-missieven/blob/master/docs/transcription.md\" title=\"~/text-fabric-data/github/CLARIAH/wp6-missieven/tf/1.0/punco.tf\">punco</a>\n",
       "</div>\n",
       "<div class=\"fmono\">str</div>\n",
       "\n",
       "<span> punctuation and/or whitespace following a word,up to the next word, original text only</span>\n",
       "\n",
       "</div>\n",
       "\n",
       "<div class=\"frow\">\n",
       "    <div class=\"fnamecat \">\n",
       "<a target=\"_blank\" href=\"https://github.com/CLARIAH/wp6-missieven/blob/master/docs/transcription.md\" title=\"~/text-fabric-data/github/CLARIAH/wp6-missieven/tf/1.0/puncr.tf\">puncr</a>\n",
       "</div>\n",
       "<div class=\"fmono\">str</div>\n",
       "\n",
       "<span> punctuation and/or whitespace following a word,up to the next word, remark text only</span>\n",
       "\n",
       "</div>\n",
       "\n",
       "<div class=\"frow\">\n",
       "    <div class=\"fnamecat \">\n",
       "<a target=\"_blank\" href=\"https://github.com/CLARIAH/wp6-missieven/blob/master/docs/transcription.md\" title=\"~/text-fabric-data/github/CLARIAH/wp6-missieven/tf/1.0/rawdate.tf\">rawdate</a>\n",
       "</div>\n",
       "<div class=\"fmono\">str</div>\n",
       "\n",
       "<span> the date the letter was sent</span>\n",
       "\n",
       "</div>\n",
       "\n",
       "<div class=\"frow\">\n",
       "    <div class=\"fnamecat \">\n",
       "<a target=\"_blank\" href=\"https://github.com/CLARIAH/wp6-missieven/blob/master/docs/transcription.md\" title=\"~/text-fabric-data/github/CLARIAH/wp6-missieven/tf/1.0/row.tf\">row</a>\n",
       "</div>\n",
       "<div class=\"fmono\">int</div>\n",
       "\n",
       "<span> row number of a row of column in a table</span>\n",
       "\n",
       "</div>\n",
       "\n",
       "<div class=\"frow\">\n",
       "    <div class=\"fnamecat \">\n",
       "<a target=\"_blank\" href=\"https://github.com/CLARIAH/wp6-missieven/blob/master/docs/transcription.md\" title=\"~/text-fabric-data/github/CLARIAH/wp6-missieven/tf/1.0/seq.tf\">seq</a>\n",
       "</div>\n",
       "<div class=\"fmono\">str</div>\n",
       "\n",
       "<span> ('sequence number of this letter among the letters of the same author in this volume',)</span>\n",
       "\n",
       "</div>\n",
       "\n",
       "<div class=\"frow\">\n",
       "    <div class=\"fnamecat \">\n",
       "<a target=\"_blank\" href=\"https://github.com/CLARIAH/wp6-missieven/blob/master/docs/transcription.md\" title=\"~/text-fabric-data/github/CLARIAH/wp6-missieven/tf/1.0/status.tf\">status</a>\n",
       "</div>\n",
       "<div class=\"fmono\">str</div>\n",
       "\n",
       "<span> status of the letter, e.g. secret, copy</span>\n",
       "\n",
       "</div>\n",
       "\n",
       "<div class=\"frow\">\n",
       "    <div class=\"fnamecat \">\n",
       "<a target=\"_blank\" href=\"https://github.com/CLARIAH/wp6-missieven/blob/master/docs/transcription.md\" title=\"~/text-fabric-data/github/CLARIAH/wp6-missieven/tf/1.0/title.tf\">title</a>\n",
       "</div>\n",
       "<div class=\"fmono\">str</div>\n",
       "\n",
       "<span> title of the letter</span>\n",
       "\n",
       "</div>\n",
       "\n",
       "<div class=\"frow\">\n",
       "    <div class=\"fnamecat \">\n",
       "<a target=\"_blank\" href=\"https://github.com/CLARIAH/wp6-missieven/blob/master/docs/transcription.md\" title=\"~/text-fabric-data/github/CLARIAH/wp6-missieven/tf/1.0/trans.tf\">trans</a>\n",
       "</div>\n",
       "<div class=\"fmono\">str</div>\n",
       "\n",
       "<span> transcription of a word</span>\n",
       "\n",
       "</div>\n",
       "\n",
       "<div class=\"frow\">\n",
       "    <div class=\"fnamecat \">\n",
       "<a target=\"_blank\" href=\"https://github.com/CLARIAH/wp6-missieven/blob/master/docs/transcription.md\" title=\"~/text-fabric-data/github/CLARIAH/wp6-missieven/tf/1.0/transn.tf\">transn</a>\n",
       "</div>\n",
       "<div class=\"fmono\">str</div>\n",
       "\n",
       "<span> transcription of a word, only for footnote text</span>\n",
       "\n",
       "</div>\n",
       "\n",
       "<div class=\"frow\">\n",
       "    <div class=\"fnamecat \">\n",
       "<a target=\"_blank\" href=\"https://github.com/CLARIAH/wp6-missieven/blob/master/docs/transcription.md\" title=\"~/text-fabric-data/github/CLARIAH/wp6-missieven/tf/1.0/transo.tf\">transo</a>\n",
       "</div>\n",
       "<div class=\"fmono\">str</div>\n",
       "\n",
       "<span> transcription of a word, only for original text</span>\n",
       "\n",
       "</div>\n",
       "\n",
       "<div class=\"frow\">\n",
       "    <div class=\"fnamecat \">\n",
       "<a target=\"_blank\" href=\"https://github.com/CLARIAH/wp6-missieven/blob/master/docs/transcription.md\" title=\"~/text-fabric-data/github/CLARIAH/wp6-missieven/tf/1.0/transr.tf\">transr</a>\n",
       "</div>\n",
       "<div class=\"fmono\">str</div>\n",
       "\n",
       "<span> transcription of a word, only for remark text</span>\n",
       "\n",
       "</div>\n",
       "\n",
       "<div class=\"frow\">\n",
       "    <div class=\"fnamecat \">\n",
       "<a target=\"_blank\" href=\"https://github.com/CLARIAH/wp6-missieven/blob/master/docs/transcription.md\" title=\"~/text-fabric-data/github/CLARIAH/wp6-missieven/tf/1.0/vol.tf\">vol</a>\n",
       "</div>\n",
       "<div class=\"fmono\">int</div>\n",
       "\n",
       "<span> volume number</span>\n",
       "\n",
       "</div>\n",
       "\n",
       "<div class=\"frow\">\n",
       "    <div class=\"fnamecat \">\n",
       "<a target=\"_blank\" href=\"https://github.com/CLARIAH/wp6-missieven/blob/master/docs/transcription.md\" title=\"~/text-fabric-data/github/CLARIAH/wp6-missieven/tf/1.0/weblink.tf\">weblink</a>\n",
       "</div>\n",
       "<div class=\"fmono\">str</div>\n",
       "\n",
       "<span> the page-specific part of web links for page nodes</span>\n",
       "\n",
       "</div>\n",
       "\n",
       "<div class=\"frow\">\n",
       "    <div class=\"fnamecat \">\n",
       "<a target=\"_blank\" href=\"https://github.com/CLARIAH/wp6-missieven/blob/master/docs/transcription.md\" title=\"~/text-fabric-data/github/CLARIAH/wp6-missieven/tf/1.0/x.tf\">x</a>\n",
       "</div>\n",
       "<div class=\"fmono\">int</div>\n",
       "\n",
       "<span> column offset of a column in a row in a table</span>\n",
       "\n",
       "</div>\n",
       "\n",
       "<div class=\"frow\">\n",
       "    <div class=\"fnamecat \">\n",
       "<a target=\"_blank\" href=\"https://github.com/CLARIAH/wp6-missieven/blob/master/docs/transcription.md\" title=\"~/text-fabric-data/github/CLARIAH/wp6-missieven/tf/1.0/year.tf\">year</a>\n",
       "</div>\n",
       "<div class=\"fmono\">int</div>\n",
       "\n",
       "<span> year part of the date of the letter</span>\n",
       "\n",
       "</div>\n",
       "\n",
       "<div class=\"frow\">\n",
       "    <div class=\"fnamecat edge\">\n",
       "<a target=\"_blank\" href=\"https://github.com/CLARIAH/wp6-missieven/blob/master/docs/transcription.md\" title=\"~/text-fabric-data/github/CLARIAH/wp6-missieven/tf/1.0/note.tf\">note</a>\n",
       "</div>\n",
       "<div class=\"fmono\">none</div>\n",
       "\n",
       "<span> edge between a word and the footnotes associated with it</span>\n",
       "\n",
       "</div>\n",
       "\n",
       "<div class=\"frow\">\n",
       "    <div class=\"fnamecat edge\">\n",
       "<a target=\"_blank\" href=\"https://github.com/CLARIAH/wp6-missieven/blob/master/docs/transcription.md\" title=\"~/text-fabric-data/github/CLARIAH/wp6-missieven/tf/1.0/oslots.tf\">oslots</a>\n",
       "</div>\n",
       "<div class=\"fmono\">none</div>\n",
       "\n",
       "<span> </span>\n",
       "\n",
       "</div>\n",
       "\n",
       "    </div>\n",
       "</details>\n",
       "\n",
       "            <b>Settings:</b><br><details ><summary><b>specified</b></summary><ol><li><b>apiVersion</b>: <code>3</code></li><li><b>appName</b>: <code>CLARIAH/wp6-missieven</code></li><li><details><summary><b>appPath</b>:</summary><code>/home/ruben/text-fabric-data/github/CLARIAH/wp6-missieven/app</code></details></li><li><b>commit</b>: <code>g8666face5331ed80d6b88c942fa450d9f82d4959</code></li><li><details><summary><b>css</b>:</summary><code>.remark {<br>  font-size: large;<br>  font-style: italic;<br>}<br>.folio {<br>  font-size: small;<br>  color: #668866;<br>}<br>.fmark:after {<br>  font-size: small;<br>  font-weight: bold;<br>  vertical-align: super;<br>  color: #ddaa22;<br>}<br>.note {<br>  vertical-align: super;<br>  font-size: small;<br>  color: #774400;<br>}<br>.ref {<br>  font-size: small;<br>  font-weight: bold;<br>  color: #666688;<br>}<br>.emph {<br>  font-style: italic;<br>}<br>.und {<br>  text-decoration: underline;<br>}<br>.q {<br>  color: #777777;<br>  font-weight: bold;<br>}<br>.num {<br>  font-size: small;<br>  vertical-align: super;<br>}<br>.den {<br>  font-size: small;<br>  vertical-align: sub;<br>}<br>.sub {<br>  vertical-align: sub;<br>}<br>.super {<br>  vertical-align: super;<br>}<br>.special {<br>  font-family: monospace;<br>  font-weight: bold;<br>  color: #886666;<br>}<br></code></details></li><li><details><summary><b>dataDisplay</b>:</summary><li><details open>\n",
       "                <summary><b>textFormats</b>:</summary>\n",
       "                <ul><li><b>layout-full</b>: {<b>method</b>: <code>layoutFull</code>}</li><li><b>layout-nonorig</b>: {<b>method</b>: <code>layoutNonOrig</code>}</li><li><b>layout-nonotes</b>: {<b>method</b>: <code>layoutNoNotes</code>}</li><li><b>layout-noremarks</b>: {<b>method</b>: <code>layoutNoRemarks</code>}</li><li><b>layout-notes</b>: {<b>method</b>: <code>layoutNotes</code>}</li><li><b>layout-orig</b>: {<b>method</b>: <code>layoutOrig</code>}</li><li><b>layout-remarks</b>: {<b>method</b>: <code>layoutRemarks</code>}</li></ul>\n",
       "                </details></li></details></li><li><details><summary><b>docs</b>:</summary><ul><li><b>docPage</b>: <code>about</code></li><li><details><summary><b>featureBase</b>:</summary><code>https://github.com/{org}/{repo}/blob/master/docs/transcription{docExt}</code></details></li><li><b>featurePage</b>: <code>''</code></li></ul></details></li><li><b>interfaceDefaults</b>: <code>{}</code></li><li><b>isCompatible</b>: <code>True</code></li><li><b>local</b>: <code>local</code></li><li><details><summary><b>localDir</b>:</summary><code>/home/ruben/text-fabric-data/github/CLARIAH/wp6-missieven/_temp</code></details></li><li><details><summary><b>provenanceSpec</b>:</summary><ul><li><b>corpus</b>: <code>General Missives Dutch East India Company 1600-1800</code></li><li><b>doi</b>: <code>10.5281/zenodo.4011801</code></li><li><b>extraData</b>: <code>ner</code></li><li><b>org</b>: <code>CLARIAH</code></li><li><b>relative</b>: <code>/tf</code></li><li><b>repo</b>: <code>wp6-missieven</code></li><li><b>version</b>: <code>1.0</code></li><li><details><summary><b>webBase</b>:</summary><code>http://resources.huygens.knaw.nl/retroboeken/generalemissiven</code></details></li><li><b>webFeature</b>: <code>weblink</code></li><li><b>webHint</b>: <code>Show this document on Huygens</code></li><li><details><summary><b>webOffset</b>:</summary><li><details open>\n",
       "                <summary><b>2</b>:</summary>\n",
       "                <ul><li><b>1</b>: <code>23</code></li><li><b>10</b>: <code>11</code></li><li><b>11</b>: <code>11</code></li><li><b>12</b>: <code>11</code></li><li><b>13</b>: <code>11</code></li><li><b>2</b>: <code>13</code></li><li><b>3</b>: <code>13</code></li><li><b>4</b>: <code>15</code></li><li><b>5</b>: <code>15</code></li><li><b>6</b>: <code>15</code></li><li><b>7</b>: <code>13</code></li><li><b>8</b>: <code>11</code></li><li><b>9</b>: <code>13</code></li></ul>\n",
       "                </details></li></details></li><li><b>webUrl</b>: <code>{webBase}/#page=&lt;2&gt;&amp;source=&lt;1&gt;</code></li></ul></details></li><li><b>release</b>: <code>v1.1</code></li><li><b>typeDisplay</b>: <code>{}</code></li></ol></details>\n"
      ],
      "text/plain": [
       "<IPython.core.display.HTML object>"
      ]
     },
     "metadata": {},
     "output_type": "display_data"
    },
    {
     "data": {
      "text/html": [
       "<style>tr.tf.ltr, td.tf.ltr, th.tf.ltr { text-align: left ! important;}\n",
       "tr.tf.rtl, td.tf.rtl, th.tf.rtl { text-align: right ! important;}\n",
       "@font-face {\n",
       "  font-family: \"Gentium Plus\";\n",
       "  src: local('Gentium Plus'), local('GentiumPlus'),\n",
       "    url('/browser/static/fonts/GentiumPlus-R.woff') format('woff'),\n",
       "    url('https://github.com/annotation/text-fabric/blob/master/tf/browser/static/fonts/GentiumPlus-R.woff?raw=true') format('woff');\n",
       "}\n",
       "\n",
       "@font-face {\n",
       "  font-family: \"Ezra SIL\";\n",
       "  src: local('Ezra SIL'), local('EzraSIL'),\n",
       "    url('/browser/static/fonts/SILEOT.woff') format('woff'),\n",
       "    url('https://github.com/annotation/text-fabric/blob/master/tf/browser/static/fonts/SILEOT.woff?raw=true') format('woff');\n",
       "}\n",
       "\n",
       "@font-face {\n",
       "  font-family: \"SBL Hebrew\";\n",
       "  src: local('SBL Hebrew'), local('SBLHebrew'),\n",
       "    url('/browser/static/fonts/SBL_Hbrw.woff') format('woff'),\n",
       "    url('https://github.com/annotation/text-fabric/blob/master/tf/browser/static/fonts/SBL_Hbrw.woff?raw=true') format('woff');\n",
       "}\n",
       "\n",
       "@font-face {\n",
       "  font-family: \"Estrangelo Edessa\";\n",
       "  src: local('Estrangelo Edessa'), local('EstrangeloEdessa');\n",
       "    url('/browser/static/fonts/SyrCOMEdessa.woff') format('woff'),\n",
       "    url('https://github.com/annotation/text-fabric/blob/master/tf/browser/static/fonts/SyrCOMEdessa.woff?raw=true') format('woff');\n",
       "}\n",
       "\n",
       "@font-face {\n",
       "  font-family: AmiriQuran;\n",
       "  font-style: normal;\n",
       "  font-weight: 400;\n",
       "  src: local('Amiri Quran'), local('AmiriQuran'),\n",
       "    url('/browser/static/fonts/AmiriQuran.woff') format('woff'),\n",
       "    url('https://github.com/annotation/text-fabric/blob/master/tf/browser/static/fonts/AmiriQuran.woff?raw=true') format('woff');\n",
       "}\n",
       "\n",
       "@font-face {\n",
       "  font-family: AmiriQuranColored;\n",
       "  font-style: normal;\n",
       "  font-weight: 400;\n",
       "  src: local('Amiri Quran Colored'), local('AmiriQuranColored'),\n",
       "    url('/browser/static/fonts/AmiriQuranColored.woff') format('woff'),\n",
       "    url('https://github.com/annotation/text-fabric/blob/master/tf/browser/static/fonts/AmiriQuranColored.woff?raw=true') format('woff');\n",
       "}\n",
       "\n",
       "@font-face {\n",
       "  font-family: \"Santakku\";\n",
       "  src: local('Santakku'),\n",
       "    url('/browser/static/fonts/Santakku.woff') format('woff'),\n",
       "    url('https://github.com/annotation/text-fabric/blob/master/tf/browser/static/fonts/Santakku.woff?raw=true') format('woff');\n",
       "}\n",
       "\n",
       "@font-face {\n",
       "  font-family: \"SantakkuM\";\n",
       "  src: local('SantakkuM'),\n",
       "    url('/browser/static/fonts/SantakkuM.woff') format('woff'),\n",
       "    url('https://github.com/annotation/text-fabric/blob/master/tf/browser/static/fonts/SantakkuM.woff?raw=true') format('woff');\n",
       "}\n",
       "\n",
       "/* bypassing some classical notebook settings */\n",
       "div#notebook {\n",
       "  line-height: unset;\n",
       "}\n",
       "/* neutral text */\n",
       ".txtn,.txtn a:visited,.txtn a:link {\n",
       "    font-family: sans-serif;\n",
       "    font-size: medium;\n",
       "    direction: ltr;\n",
       "    unicode-bidi: embed;\n",
       "    text-decoration: none;\n",
       "    color: var(--text-color);\n",
       "}\n",
       "/* transcription text */\n",
       ".txtt,.txtt a:visited,.txtt a:link {\n",
       "    font-family: monospace;\n",
       "    font-size: medium;\n",
       "    direction: ltr;\n",
       "    unicode-bidi: embed;\n",
       "    text-decoration: none;\n",
       "    color: var(--text-color);\n",
       "}\n",
       "/* source text */\n",
       ".txto,.txto a:visited,.txto a:link {\n",
       "    font-family: serif;\n",
       "    font-size: medium;\n",
       "    direction: ltr;\n",
       "    unicode-bidi: embed;\n",
       "    text-decoration: none;\n",
       "    color: var(--text-color);\n",
       "}\n",
       "/* phonetic text */\n",
       ".txtp,.txtp a:visited,.txtp a:link {\n",
       "    font-family: Gentium, sans-serif;\n",
       "    font-size: medium;\n",
       "    direction: ltr;\n",
       "    unicode-bidi: embed;\n",
       "    text-decoration: none;\n",
       "    color: var(--text-color);\n",
       "}\n",
       "/* original script text */\n",
       ".txtu,.txtu a:visited,.txtu a:link {\n",
       "    font-family: Gentium, sans-serif;\n",
       "    font-size: medium;\n",
       "    text-decoration: none;\n",
       "    color: var(--text-color);\n",
       "}\n",
       "/* hebrew */\n",
       ".txtu.hbo,.lex.hbo {\n",
       "    font-family: \"Ezra SIL\", \"SBL Hebrew\", sans-serif;\n",
       "    font-size: large;\n",
       "    direction: rtl ! important;\n",
       "    unicode-bidi: embed;\n",
       "}\n",
       "/* syriac */\n",
       ".txtu.syc,.lex.syc {\n",
       "    font-family: \"Estrangelo Edessa\", sans-serif;\n",
       "    font-size: medium;\n",
       "    direction: rtl ! important;\n",
       "    unicode-bidi: embed;\n",
       "}\n",
       "/* neo aramaic */\n",
       ".txtu.cld,.lex.cld {\n",
       "    font-family: \"CharisSIL-R\", sans-serif;\n",
       "    font-size: medium;\n",
       "    direction: ltr ! important;\n",
       "    unicode-bidi: embed;\n",
       "}\n",
       "/* standard arabic */\n",
       ".txtu.ara,.lex.ara {\n",
       "    font-family: \"AmiriQuran\", sans-serif;\n",
       "    font-size: large;\n",
       "    direction: rtl ! important;\n",
       "    unicode-bidi: embed;\n",
       "}\n",
       "/* cuneiform */\n",
       ".txtu.akk,.lex.akk {\n",
       "    font-family: Santakku, sans-serif;\n",
       "    font-size: large;\n",
       "    direction: ltr ! important;\n",
       "    unicode-bidi: embed;\n",
       "}\n",
       ".txtu.uga,.lex.uga {\n",
       "    font-family: sans-serif;\n",
       "    /*font-family: Noto Sans Ugaritic, sans-serif;*/\n",
       "    font-size: large;\n",
       "    direction: ltr ! important;\n",
       "    unicode-bidi: embed;\n",
       "}\n",
       "/* greek */\n",
       ".txtu.grc,.lex.grc a:link {\n",
       "    font-family: Gentium, sans-serif;\n",
       "    font-size: medium;\n",
       "    direction: ltr ! important;\n",
       "    unicode-bidi: embed;\n",
       "}\n",
       "a:hover {\n",
       "    text-decoration: underline | important;\n",
       "    color: #0000ff | important;\n",
       "}\n",
       ".ltr {\n",
       "    direction: ltr ! important;\n",
       "    unicode-bidi: embed;\n",
       "}\n",
       ".rtl {\n",
       "    direction: rtl ! important;\n",
       "    unicode-bidi: embed;\n",
       "}\n",
       ".ubd {\n",
       "    unicode-bidi: embed;\n",
       "}\n",
       ".col {\n",
       "   display: inline-block;\n",
       "}\n",
       ".features {\n",
       "    font-family: monospace;\n",
       "    font-size: medium;\n",
       "    font-weight: bold;\n",
       "    color: var(--features);\n",
       "    display: flex;\n",
       "    flex-flow: column nowrap;\n",
       "    justify-content: flex-start;\n",
       "    align-items: flex-start;\n",
       "    align-content: flex-start;\n",
       "    padding: 2px;\n",
       "    margin: 2px;\n",
       "    direction: ltr;\n",
       "    unicode-bidi: embed;\n",
       "    border: var(--meta-width) solid var(--meta-color);\n",
       "    border-radius: var(--meta-width);\n",
       "}\n",
       ".features div,.features span {\n",
       "    padding: 0;\n",
       "    margin: -2px 0;\n",
       "}\n",
       ".features .f {\n",
       "    font-family: sans-serif;\n",
       "    font-size: small;\n",
       "    font-weight: normal;\n",
       "    color: #5555bb;\n",
       "}\n",
       ".features .xft {\n",
       "  color: #000000;\n",
       "  background-color: #eeeeee;\n",
       "  font-size: medium;\n",
       "  margin: 2px 0px;\n",
       "}\n",
       ".features .xft .f {\n",
       "  color: #000000;\n",
       "  background-color: #eeeeee;\n",
       "  font-size: small;\n",
       "  font-weight: normal;\n",
       "}\n",
       ".tfsechead {\n",
       "    font-family: sans-serif;\n",
       "    font-size: small;\n",
       "    font-weight: bold;\n",
       "    color: var(--tfsechead);\n",
       "    unicode-bidi: embed;\n",
       "    text-align: start;\n",
       "}\n",
       ".structure {\n",
       "    font-family: sans-serif;\n",
       "    font-size: small;\n",
       "    font-weight: bold;\n",
       "    color: var(--structure);\n",
       "    unicode-bidi: embed;\n",
       "    text-align: start;\n",
       "}\n",
       ".comments {\n",
       "    display: flex;\n",
       "    justify-content: flex-start;\n",
       "    align-items: flex-start;\n",
       "    align-content: flex-start;\n",
       "    flex-flow: column nowrap;\n",
       "}\n",
       ".nd, a:link.nd {\n",
       "    font-family: sans-serif;\n",
       "    font-size: small;\n",
       "    color: var(--node);\n",
       "    vertical-align: super;\n",
       "    direction: ltr ! important;\n",
       "    unicode-bidi: embed;\n",
       "}\n",
       ".nde, a:link.nde {\n",
       "    font-family: sans-serif;\n",
       "    font-size: small;\n",
       "    color: var(--node);\n",
       "    direction: ltr ! important;\n",
       "    unicode-bidi: embed;\n",
       "}\n",
       ".etf {\n",
       "    font-size: normal;\n",
       "    border-radius: 0.2rem;\n",
       "    border: 1pt solid white;\n",
       "    padding: 0 0.2rem ! important;\n",
       "    margin: 0 0.2rem ! important;\n",
       "}\n",
       ".etfx {\n",
       "    font-size: x-large;\n",
       "}\n",
       ".lex {\n",
       "  color: var(--lex-color);;\n",
       "}\n",
       "#colormapplus, #colormapmin, .ecolormapmin {\n",
       "  font-weight: bold;\n",
       "  border-radius: 0.1rem;\n",
       "  background-color: #eeeeff;\n",
       "  padding: 0 1rem;\n",
       "  margin: 0 1rem;\n",
       "}\n",
       ".clr {\n",
       "  font-style: italic;\n",
       "  font-size: small;\n",
       "}\n",
       ".clmap,.eclmap {\n",
       "  padding: 0;\n",
       "}\n",
       ".children,.children.ltr {\n",
       "    display: flex;\n",
       "    border: 0;\n",
       "    background-color: #ffffff;\n",
       "    justify-content: flex-start;\n",
       "    align-items: flex-start;\n",
       "    align-content: flex-start;\n",
       "}\n",
       ".children.stretch {\n",
       "    align-items: stretch;\n",
       "}\n",
       ".children.hor {\n",
       "    flex-flow: row nowrap;\n",
       "}\n",
       ".children.hor.wrap {\n",
       "    flex-flow: row wrap;\n",
       "}\n",
       ".children.ver {\n",
       "    flex-flow: column nowrap;\n",
       "}\n",
       ".children.ver.wrap {\n",
       "    flex-flow: column wrap;\n",
       "}\n",
       ".contnr {\n",
       "    width: fit-content;\n",
       "    display: flex;\n",
       "    justify-content: flex-start;\n",
       "    align-items: flex-start;\n",
       "    align-content: flex-start;\n",
       "    flex-flow: column nowrap;\n",
       "    background: #ffffff none repeat scroll 0 0;\n",
       "    padding:  10px 2px 2px 2px;\n",
       "    margin: 16px 2px 2px 2px;\n",
       "    border-style: solid;\n",
       "    font-size: small;\n",
       "}\n",
       ".contnr.trm {\n",
       "    background-attachment: local;\n",
       "}\n",
       ".contnr.cnul {\n",
       "    padding:  0;\n",
       "    margin: 0;\n",
       "    border-style: solid;\n",
       "    font-size: xx-small;\n",
       "}\n",
       ".contnr.cnul,.lbl.cnul {\n",
       "    border-color: var(--border-color-nul);\n",
       "    border-width: var(--border-width-nul);\n",
       "    border-radius: var(--border-width-nul);\n",
       "}\n",
       ".contnr.c0,.lbl.c0 {\n",
       "    border-color: var(--border-color0);\n",
       "    border-width: var(--border-width0);\n",
       "    border-radius: var(--border-width0);\n",
       "}\n",
       ".contnr.c1,.lbl.c1 {\n",
       "    border-color: var(--border-color1);\n",
       "    border-width: var(--border-width1);\n",
       "    border-radius: var(--border-width1);\n",
       "}\n",
       ".contnr.c2,.lbl.c2 {\n",
       "    border-color: var(--border-color2);\n",
       "    border-width: var(--border-width2);\n",
       "    border-radius: var(--border-width2);\n",
       "}\n",
       ".contnr.c3,.lbl.c3 {\n",
       "    border-color: var(--border-color3);\n",
       "    border-width: var(--border-width3);\n",
       "    border-radius: var(--border-width3);\n",
       "}\n",
       ".contnr.c4,.lbl.c4 {\n",
       "    border-color: var(--border-color4);\n",
       "    border-width: var(--border-width4);\n",
       "    border-radius: var(--border-width4);\n",
       "}\n",
       "span.plain {\n",
       "    /*display: inline-block;*/\n",
       "    display: inline-flex;\n",
       "    flex-flow: row wrap;\n",
       "    white-space: pre-wrap;\n",
       "}\n",
       "span.break {\n",
       "  flex-basis: 100%;\n",
       "  height: 0;\n",
       "}\n",
       ".plain {\n",
       "    background-color: #ffffff;\n",
       "}\n",
       ".plain.l,.contnr.l,.contnr.l>.lbl {\n",
       "    border-left-style: dotted\n",
       "}\n",
       ".plain.r,.contnr.r,.contnr.r>.lbl {\n",
       "    border-right-style: dotted\n",
       "}\n",
       ".plain.lno,.contnr.lno,.contnr.lno>.lbl {\n",
       "    border-left-style: none\n",
       "}\n",
       ".plain.rno,.contnr.rno,.contnr.rno>.lbl {\n",
       "    border-right-style: none\n",
       "}\n",
       ".plain.l {\n",
       "    padding-left: 4px;\n",
       "    margin-left: 2px;\n",
       "    border-width: var(--border-width-plain);\n",
       "}\n",
       ".plain.r {\n",
       "    padding-right: 4px;\n",
       "    margin-right: 2px;\n",
       "    border-width: var(--border-width-plain);\n",
       "}\n",
       ".lbl {\n",
       "    font-family: monospace;\n",
       "    margin-top: -24px;\n",
       "    margin-left: 20px;\n",
       "    background: #ffffff none repeat scroll 0 0;\n",
       "    padding: 0 6px;\n",
       "    border-style: solid;\n",
       "    display: block;\n",
       "    color: var(--label)\n",
       "}\n",
       ".lbl.trm {\n",
       "    background-attachment: local;\n",
       "    margin-top: 2px;\n",
       "    margin-left: 2px;\n",
       "    padding: 2px 2px;\n",
       "    border-style: none;\n",
       "}\n",
       ".lbl.cnul {\n",
       "    font-size: xx-small;\n",
       "}\n",
       ".lbl.c0 {\n",
       "    font-size: small;\n",
       "}\n",
       ".lbl.c1 {\n",
       "    font-size: small;\n",
       "}\n",
       ".lbl.c2 {\n",
       "    font-size: medium;\n",
       "}\n",
       ".lbl.c3 {\n",
       "    font-size: medium;\n",
       "}\n",
       ".lbl.c4 {\n",
       "    font-size: large;\n",
       "}\n",
       ".occs, a:link.occs {\n",
       "    font-size: small;\n",
       "}\n",
       "\n",
       "/* PROVENANCE */\n",
       "\n",
       "div.prov {\n",
       "\tmargin: 40px;\n",
       "\tpadding: 20px;\n",
       "\tborder: 2px solid var(--fog-rim);\n",
       "}\n",
       "div.pline {\n",
       "\tdisplay: flex;\n",
       "\tflex-flow: row nowrap;\n",
       "\tjustify-content: stretch;\n",
       "\talign-items: baseline;\n",
       "}\n",
       "div.p2line {\n",
       "\tmargin-left: 2em;\n",
       "\tdisplay: flex;\n",
       "\tflex-flow: row nowrap;\n",
       "\tjustify-content: stretch;\n",
       "\talign-items: baseline;\n",
       "}\n",
       "div.psline {\n",
       "\tdisplay: flex;\n",
       "\tflex-flow: row nowrap;\n",
       "\tjustify-content: stretch;\n",
       "\talign-items: baseline;\n",
       "\tbackground-color: var(--gold-mist-back);\n",
       "}\n",
       "div.pname {\n",
       "\tflex: 0 0 5rem;\n",
       "\tfont-weight: bold;\n",
       "}\n",
       "div.pval {\n",
       "    flex: 1 1 auto;\n",
       "}\n",
       "\n",
       "/* KEYBOARD */\n",
       ".ccoff {\n",
       "  background-color: inherit;\n",
       "}\n",
       ".ccon {\n",
       "  background-color: yellow ! important;\n",
       "}\n",
       ".ccon,.ccoff {\n",
       "  padding: 0.2rem;\n",
       "  margin: 0.2rem;\n",
       "  border: 0.1rem solid var(--letter-box-border);\n",
       "  border-radius: 0.1rem;\n",
       "}\n",
       ".ccline {\n",
       "  font-size: xx-large ! important;\n",
       "  font-weight: bold;\n",
       "  line-height: 2em ! important;\n",
       "}\n",
       "/* TF header */\n",
       "\n",
       "summary {\n",
       "  /* needed to override the normalize.less\n",
       "   * in the classical Jupyter Notebook\n",
       "   */\n",
       "  display: list-item ! important;\n",
       "}\n",
       "\n",
       ".fcorpus {\n",
       "  display: flex;\n",
       "  flex-flow: column nowrap;\n",
       "  justify-content: flex-start;\n",
       "  align-items: flex-start;\n",
       "  align-content: flex-start;\n",
       "  overflow: auto;\n",
       "}\n",
       ".frow {\n",
       "  display: flex;\n",
       "  flex-flow: row nowrap;\n",
       "  justify-content: flex-start;\n",
       "  align-items: flex-start;\n",
       "  align-content: flex-start;\n",
       "}\n",
       ".fmeta {\n",
       "  display: flex;\n",
       "  flex-flow: column nowrap;\n",
       "  justify-content: flex-start;\n",
       "  align-items: flex-start;\n",
       "  align-content: flex-start;\n",
       "}\n",
       ".fmetarow {\n",
       "  display: flex;\n",
       "  flex-flow: row nowrap;\n",
       "  justify-content: flex-start;\n",
       "  align-items: flex-start;\n",
       "  align-content: flex-start;\n",
       "}\n",
       ".fmetakey {\n",
       "  min-width: 8em;\n",
       "  font-family: monospace;\n",
       "}\n",
       ".fnamecat {\n",
       "  min-width: 8em;\n",
       "}\n",
       ".fnamecat.edge {\n",
       "  font-weight: bold;\n",
       "  font-style: italic;\n",
       "}\n",
       ".fmono {\n",
       "    font-family: monospace;\n",
       "}\n",
       "\n",
       ":root {\n",
       "\t--node:               hsla(120, 100%,  20%, 1.0  );\n",
       "\t--label:              hsla(  0, 100%,  20%, 1.0  );\n",
       "\t--tfsechead:          hsla(  0, 100%,  25%, 1.0  );\n",
       "\t--structure:          hsla(120, 100%,  25%, 1.0  );\n",
       "\t--features:           hsla(  0,   0%,  30%, 1.0  );\n",
       "  --text-color:         hsla( 60,  80%,  10%, 1.0  );\n",
       "  --lex-color:          hsla(220,  90%,  60%, 1.0  );\n",
       "  --meta-color:         hsla(  0,   0%,  90%, 0.7  );\n",
       "  --meta-width:         3px;\n",
       "  --border-color-nul:   hsla(  0,   0%,  90%, 0.5  );\n",
       "  --border-color0:      hsla(  0,   0%,  90%, 0.9  );\n",
       "  --border-color1:      hsla(  0,   0%,  80%, 0.9  );\n",
       "  --border-color2:      hsla(  0,   0%,  70%, 0.9  );\n",
       "  --border-color3:      hsla(  0,   0%,  80%, 0.8  );\n",
       "  --border-color4:      hsla(  0,   0%,  60%, 0.9  );\n",
       "\t--letter-box-border:  hsla(  0,   0%,  80%, 0.5  );\n",
       "  --border-width-nul:   2px;\n",
       "  --border-width0:      2px;\n",
       "  --border-width1:      3px;\n",
       "  --border-width2:      4px;\n",
       "  --border-width3:      6px;\n",
       "  --border-width4:      5px;\n",
       "  --border-width-plain: 2px;\n",
       "}\n",
       ".hl {\n",
       "  background-color: var(--hl-strong);\n",
       "}\n",
       "span.hl {\n",
       "\tbackground-color: var(--hl-strong);\n",
       "\tborder-width: 0;\n",
       "\tborder-radius: 2px;\n",
       "\tborder-style: solid;\n",
       "}\n",
       "div.contnr.hl,div.lbl.hl {\n",
       "  background-color: var(--hl-strong);\n",
       "}\n",
       "div.contnr.hl {\n",
       "  border-color: var(--hl-rim) ! important;\n",
       "\tborder-width: 4px ! important;\n",
       "}\n",
       "\n",
       "span.hlbx {\n",
       "\tborder-color: var(--hl-rim);\n",
       "\tborder-width: 4px ! important;\n",
       "\tborder-style: solid;\n",
       "\tborder-radius: 6px;\n",
       "  padding: 4px;\n",
       "  margin: 4px;\n",
       "}\n",
       ".ehl {\n",
       "  background-color: var(--ehl-strong);\n",
       "}\n",
       "\n",
       ":root {\n",
       "\t--hl-strong:        hsla( 60, 100%,  70%, 0.9  );\n",
       "\t--hl-rim:           hsla( 55,  80%,  50%, 1.0  );\n",
       "\t--ehl-strong:       hsla(240, 100%,  70%, 0.9  );\n",
       "}\n",
       ".remark {\n",
       "  font-size: large;\n",
       "  font-style: italic;\n",
       "}\n",
       ".folio {\n",
       "  font-size: small;\n",
       "  color: #668866;\n",
       "}\n",
       ".fmark:after {\n",
       "  font-size: small;\n",
       "  font-weight: bold;\n",
       "  vertical-align: super;\n",
       "  color: #ddaa22;\n",
       "}\n",
       ".note {\n",
       "  vertical-align: super;\n",
       "  font-size: small;\n",
       "  color: #774400;\n",
       "}\n",
       ".ref {\n",
       "  font-size: small;\n",
       "  font-weight: bold;\n",
       "  color: #666688;\n",
       "}\n",
       ".emph {\n",
       "  font-style: italic;\n",
       "}\n",
       ".und {\n",
       "  text-decoration: underline;\n",
       "}\n",
       ".q {\n",
       "  color: #777777;\n",
       "  font-weight: bold;\n",
       "}\n",
       ".num {\n",
       "  font-size: small;\n",
       "  vertical-align: super;\n",
       "}\n",
       ".den {\n",
       "  font-size: small;\n",
       "  vertical-align: sub;\n",
       "}\n",
       ".sub {\n",
       "  vertical-align: sub;\n",
       "}\n",
       ".super {\n",
       "  vertical-align: super;\n",
       "}\n",
       ".special {\n",
       "  font-family: monospace;\n",
       "  font-weight: bold;\n",
       "  color: #886666;\n",
       "}\n",
       "</style>"
      ],
      "text/plain": [
       "<IPython.core.display.HTML object>"
      ]
     },
     "metadata": {},
     "output_type": "display_data"
    },
    {
     "data": {
      "text/html": [
       "\n",
       "<script>\n",
       "globalThis.copyChar = (el, c) => {\n",
       "    for (const el of document.getElementsByClassName('ccon')) {\n",
       "        el.className = 'ccoff'\n",
       "    }\n",
       "    el.className = 'ccon'\n",
       "    navigator.clipboard.writeText(String.fromCharCode(c))\n",
       "}\n",
       "</script>\n"
      ],
      "text/plain": [
       "<IPython.core.display.HTML object>"
      ]
     },
     "metadata": {},
     "output_type": "display_data"
    },
    {
     "data": {
      "text/html": [
       "<div><b>TF API:</b> names <a target=\"_blank\" href=\"https://annotation.github.io/text-fabric/tf/cheatsheet.html\" title=\"doc\">N F E L T S C TF Fs Fall Es Eall Cs Call</a> directly usable</div><hr>"
      ],
      "text/plain": [
       "<IPython.core.display.HTML object>"
      ]
     },
     "metadata": {},
     "output_type": "display_data"
    }
   ],
   "source": [
    "A = use(\n",
    "    \"CLARIAH/wp6-missieven\",\n",
    "    version=\"1.0\",\n",
    "    mod=\"CLARIAH/wp6-missieven/voc-missives/export/tf\", # copy of entity data\n",
    "    # mod=\"cltl/voc-missives/export/tf\",\n",
    "    hoist=globals(),\n",
    ")"
   ]
  },
  {
   "cell_type": "code",
   "execution_count": 12,
   "id": "ce87c6be-1483-40ed-83dc-4586a76f5c26",
   "metadata": {},
   "outputs": [
    {
     "name": "stdout",
     "output_type": "stream",
     "text": [
      "  1.92s 8 results\n"
     ]
    },
    {
     "data": {
      "text/plain": [
       "[(6018487, 2025046),\n",
       " (6018490, 2038321),\n",
       " (6018490, 2038364),\n",
       " (6018497, 2059256),\n",
       " (6018504, 2105237),\n",
       " (6018526, 2211135),\n",
       " (6018527, 2211444),\n",
       " (6018538, 2280147)]"
      ]
     },
     "execution_count": 12,
     "metadata": {},
     "output_type": "execute_result"
    }
   ],
   "source": [
    "query = \"\"\"\n",
    "letter\n",
    "    word trans~Theeboom entityId entityKind*\n",
    "\"\"\"\n",
    "\n",
    "results = A.search(query)\n",
    "results"
   ]
  },
  {
   "cell_type": "code",
   "execution_count": 13,
   "id": "ff83f814-5224-4d58-8cc6-0568e8e75ccf",
   "metadata": {},
   "outputs": [
    {
     "name": "stdout",
     "output_type": "stream",
     "text": [
      "26 oktober 1700 \t Theeboom \n",
      "22 december 1700 \t Theeboom \n",
      "22 december 1700 \t Theeboom \n",
      "30 november 1702 \t Theeboom . \n",
      "29 augustus 1704 \t Theeboom, \n",
      "18 december 1707 \t Theeboom \n",
      "15 januari 1708 \t Theeboom \n",
      "29 november 1710 \t Theeboom, \n"
     ]
    }
   ],
   "source": [
    "for letter, word in results:\n",
    "    print(F.rawdate.v(letter),\"\\t\", T.text(word))"
   ]
  },
  {
   "cell_type": "code",
   "execution_count": 14,
   "id": "ff00c05b-7c28-4d99-a22f-28958dd97b77",
   "metadata": {},
   "outputs": [
    {
     "name": "stdout",
     "output_type": "stream",
     "text": [
      "  1.90s 380 results\n",
      "  1.78s 8 results\n",
      "  1.80s 196 results\n",
      "Succes!\n"
     ]
    }
   ],
   "source": [
    "from NEAnalyzer import NEA\n",
    "obj = NEA([\"Batavia\", \"Theeboom\", \"Banda\"], A, F, T, L)"
   ]
  },
  {
   "cell_type": "code",
   "execution_count": 15,
   "id": "071dfe45-e393-4e22-9b70-5a8f6fe9ad4f",
   "metadata": {},
   "outputs": [
    {
     "name": "stdout",
     "output_type": "stream",
     "text": [
      "[        Node       Name  Year  Month  Day EntityKind    EntityId  \\\n",
      "0      47186   Batavia   1621     11   16        LOC   e_1_50_14   \n",
      "1      47289   Batavia   1621     11   16        LOC   e_1_50_22   \n",
      "2      49837   Batavia   1623      2   24        LOC   e_1_57_15   \n",
      "3      71807   Batavia   1625      8   13        LOC   e_1_62_12   \n",
      "4     101149   Batavia   1626     12   15        LOC   e_1_68_11   \n",
      "..       ...        ...   ...    ...  ...        ...         ...   \n",
      "375  5745797   Batavia   1765     12   31        LOC  e_14_14_31   \n",
      "376  5841532   Batavia   1766      4    8        LOC  e_14_15_30   \n",
      "377  5883441   Batavia   1766     12   31        LOC  e_14_17_29   \n",
      "378  5968176  Batavia,   1767      5   15        LOC  e_14_18_33   \n",
      "379  5968238   Batavia   1767      5   15        LOC  e_14_18_37   \n",
      "\n",
      "                                                Letter  \n",
      "0    Coen, De Carpentier, Lam, Van Antzen; Batavia,...  \n",
      "1    Coen, De Carpentier, Lam, Van Antzen; Batavia,...  \n",
      "2      De Carpentier, Raden; Batavia, 24 februari 1623  \n",
      "3      De Carpentier, Raden; Batavia, 13 augustus 1625  \n",
      "4    De Carpentier, Specx, Vlack, Van Diemen, Schra...  \n",
      "..                                                 ...  \n",
      "375  Van der Parra, Van Riemsdijk, Schreuder, Van B...  \n",
      "376  Van der Parra, Van Riemsdijk, Schreuder, Van B...  \n",
      "377  Van der Parra, Van Riemsdijk, Schreuder, Van B...  \n",
      "378  Van der Parra, Van Riemsdijk, Schreuder, Van B...  \n",
      "379  Van der Parra, Van Riemsdijk, Schreuder, Van B...  \n",
      "\n",
      "[380 rows x 8 columns],       Node         Name  Year  Month  Day EntityKind   EntityId  \\\n",
      "0  2025046    Theeboom   1700     10   26        SHP  e_6_12_37   \n",
      "1  2038321    Theeboom   1700     12   22        SHP  e_6_15_33   \n",
      "2  2038364    Theeboom   1700     12   22        SHP  e_6_15_45   \n",
      "3  2059256  Theeboom .   1702     11   30        SHP  e_6_22_56   \n",
      "4  2105237   Theeboom,   1704      8   29        SHP  e_6_29_33   \n",
      "5  2211135    Theeboom   1707     12   18        SHP  e_6_51_18   \n",
      "6  2211444    Theeboom   1708      1   15        SHP  e_6_52_26   \n",
      "7  2280147   Theeboom,   1710     11   29        SHP  e_6_63_66   \n",
      "\n",
      "                                              Letter  \n",
      "0  Van Outhoorn, Van Hoorn, Pijl, De Haas, Van Ri...  \n",
      "1  Van Outhoorn, Van Hoorn, Pijl, De Haas, Van Ri...  \n",
      "2  Van Outhoorn, Van Hoorn, Pijl, De Haas, Van Ri...  \n",
      "3  Van Outhoorn, Van Hoorn, Pijl, Van Riebeeck, C...  \n",
      "4  Van Hoorn, Van Riebeeck, Pijl, Cops, Bornezee,...  \n",
      "5  Van Hoorn, Van Riebeeck, Van Swoll, Van Rijn, ...  \n",
      "6  Van Hoorn, Van Riebeeck, Van Swoll, Douglas, D...  \n",
      "7  Van Riebeeck, Douglas, Van Swoll, De Vos, Chas...  ,         Node      Name  Year  Month  Day EntityKind    EntityId  \\\n",
      "0        221    Banda-  1611      7   18        LOC    e_1_4_15   \n",
      "1        265    Banda-  1611      7   18        LOC    e_1_4_18   \n",
      "2       6574   Banda,   1612      7   26        LOC    e_1_11_9   \n",
      "3       6629  Bandase   1612      7   26   LOCderiv   e_1_11_19   \n",
      "4      20187   Banda,   1615     10   26        LOC    e_1_25_5   \n",
      "..       ...       ...   ...    ...  ...        ...         ...   \n",
      "191  5561605    Banda   1764      5    8        LOC   e_14_9_44   \n",
      "192  5561609    Banda   1764      5    8        LOC   e_14_9_45   \n",
      "193  5569789    Banda   1764     10   20        LOC  e_14_10_38   \n",
      "194  5702441    Banda   1765      5    8        LOC  e_14_12_40   \n",
      "195  5702459    Banda   1765      5    8        LOC  e_14_12_43   \n",
      "\n",
      "                                                Letter  \n",
      "0    Both; Kasteel Nassau op Banda-Neira, 18 juli 1611  \n",
      "1    Both; Kasteel Nassau op Banda-Neira, 18 juli 1611  \n",
      "2    Both; Fort Mauritius nabij Ngofakiaha op het e...  \n",
      "3    Both; Fort Mauritius nabij Ngofakiaha op het e...  \n",
      "4                      Reynst; Bantam, 26 oktober 1615  \n",
      "..                                                 ...  \n",
      "191  Van der Parra, Hooreman, Van der Spar, Van Rie...  \n",
      "192  Van der Parra, Hooreman, Van der Spar, Van Rie...  \n",
      "193  Van der Parra, Hooreman, Van Riemsdijk, Schreu...  \n",
      "194  Van der Parra, Van Riemsdijk, Schreuder, Van B...  \n",
      "195  Van der Parra, Van Riemsdijk, Schreuder, Van B...  \n",
      "\n",
      "[196 rows x 8 columns]]\n"
     ]
    }
   ],
   "source": [
    "obj.print_info()"
   ]
  },
  {
   "cell_type": "code",
   "execution_count": 30,
   "id": "2508157d-3389-42b5-a150-c3fc531b618f",
   "metadata": {},
   "outputs": [
    {
     "data": {
      "image/png": "[encoded data removed]",
      "text/plain": [
       "<Figure size 628x500 with 1 Axes>"
      ]
     },
     "metadata": {},
     "output_type": "display_data"
    }
   ],
   "source": [
    "obj.draw_plot(use_fixed_x=True, normalize=True)"
   ]
  },
  {
   "cell_type": "code",
   "execution_count": 17,
   "id": "be670388-5dcd-4cc0-aafc-3c7e580cc9f5",
   "metadata": {},
   "outputs": [
    {
     "name": "stdout",
     "output_type": "stream",
     "text": [
      "()\n",
      "Done!\n",
      "14521\n"
     ]
    }
   ],
   "source": [
    "node = [1]\n",
    "i = 0\n",
    "while True:\n",
    "    node = L.n(node[0], otype=\"word\")\n",
    "    if not node:\n",
    "        print(node)\n",
    "        break\n",
    "    elif \"Batavia\" in T.text(node):\n",
    "        i += 1\n",
    "\n",
    "print(\"Done!\")\n",
    "print(i)"
   ]
  },
  {
   "cell_type": "code",
   "execution_count": 18,
   "id": "443ce82b-167b-40ae-9e80-99022134de40",
   "metadata": {},
   "outputs": [
    {
     "name": "stdout",
     "output_type": "stream",
     "text": [
      "189 overlap(s)\n",
      "Overlap 1: Banda - Batavia "
     ]
    },
    {
     "data": {
      "text/html": [
       "<div class=\"\"><span class=\"tfsechead \"><span class=\"ltr\"><a target=\"_blank\" href=\"http://resources.huygens.knaw.nl/retroboeken/generalemissiven/#page=213&amp;source=2\" title=\"Show this document on Huygens\" sec=\"2 200:1\">2 200:1</a></span></span>  <span class=\"txtu \"><span class=\"structure\"><span class=\"nd\">volume</span> 2, <span class=\"nd\">letter</span> Van Diemen, Caen, Van der Lijn, Maetsuycker, Schouten, Sweers; Batavia, 22 december 1643</span></span></div>"
      ],
      "text/plain": [
       "<IPython.core.display.HTML object>"
      ]
     },
     "metadata": {},
     "output_type": "display_data"
    },
    {
     "data": {
      "text/html": [
       "<div class=\"\"><span class=\"tfsechead \"><span class=\"ltr\"><a target=\"_blank\" href=\"http://resources.huygens.knaw.nl/retroboeken/generalemissiven/#page=213&amp;source=2\" title=\"Show this document on Huygens\" sec=\"2 200:16\">2 200:16</a></span></span>  <span class=\"txtu\">Banda </span></div>"
      ],
      "text/plain": [
       "<IPython.core.display.HTML object>"
      ]
     },
     "metadata": {},
     "output_type": "display_data"
    },
    {
     "data": {
      "text/html": [
       "<div class=\"\"><span class=\"tfsechead \"><span class=\"ltr\"><a target=\"_blank\" href=\"http://resources.huygens.knaw.nl/retroboeken/generalemissiven/#page=213&amp;source=2\" title=\"Show this document on Huygens\" sec=\"2 200:16\">2 200:16</a></span></span>  <span class=\"txtu\">Amboyna </span><span class=\"txtu\">ende </span><span class=\"txtu\">Banda </span><span class=\"txtu\">hun </span><span class=\"txtu\">competentie </span><span class=\"txtu\">bestellen (</span><span class=\"txtu\">daermede </span><span class=\"txtu\">nu </span><span class=\"txtu\">besigh </span><span class=\"txtu\">sijn), </span><span class=\"txtu\">in </span></div>"
      ],
      "text/plain": [
       "<IPython.core.display.HTML object>"
      ]
     },
     "metadata": {},
     "output_type": "display_data"
    },
    {
     "data": {
      "text/html": [
       "<div class=\"\"><span class=\"tfsechead \"><span class=\"ltr\"><a target=\"_blank\" href=\"http://resources.huygens.knaw.nl/retroboeken/generalemissiven/#page=213&amp;source=2\" title=\"Show this document on Huygens\" sec=\"2 200:17\">2 200:17</a></span></span>  <span class=\"txtu\">Batavia </span></div>"
      ],
      "text/plain": [
       "<IPython.core.display.HTML object>"
      ]
     },
     "metadata": {},
     "output_type": "display_data"
    },
    {
     "data": {
      "text/html": [
       "<div class=\"\"><span class=\"tfsechead \"><span class=\"ltr\"><a target=\"_blank\" href=\"http://resources.huygens.knaw.nl/retroboeken/generalemissiven/#page=213&amp;source=2\" title=\"Show this document on Huygens\" sec=\"2 200:17\">2 200:17</a></span></span>  <span class=\"txtu\">Batavia </span><span class=\"txtu\">tot </span><span class=\"txtu\">vervolgh </span><span class=\"txtu\">des </span><span class=\"txtu\">handels </span><span class=\"txtu\">ter </span><span class=\"txtu\">tijd </span><span class=\"txtu\">toe </span><span class=\"txtu\">’t </span><span class=\"txtu\">ontseth, </span><span class=\"txtu\">van </span><span class=\"txtu\">U </span><span class=\"txtu\">Ed. </span><span class=\"txtu\">equipagie </span><span class=\"txtu\">in </span></div>"
      ],
      "text/plain": [
       "<IPython.core.display.HTML object>"
      ]
     },
     "metadata": {},
     "output_type": "display_data"
    },
    {
     "name": "stdout",
     "output_type": "stream",
     "text": [
      "Overlap 2: Banda - Batavia; "
     ]
    },
    {
     "data": {
      "text/html": [
       "<div class=\"\"><span class=\"tfsechead \"><span class=\"ltr\"><a target=\"_blank\" href=\"http://resources.huygens.knaw.nl/retroboeken/generalemissiven/#page=596&amp;source=2\" title=\"Show this document on Huygens\" sec=\"2 583:1\">2 583:1</a></span></span>  <span class=\"txtu \"><span class=\"structure\"><span class=\"nd\">volume</span> 2, <span class=\"nd\">letter</span> Reniers, Maetsuycker, Demmer, Hartsinck, De Vlaming van Oudtshoorn, Caesar, Versteghen; Batavia, 5 februari 1652</span></span></div>"
      ],
      "text/plain": [
       "<IPython.core.display.HTML object>"
      ]
     },
     "metadata": {},
     "output_type": "display_data"
    },
    {
     "data": {
      "text/html": [
       "<div class=\"\"><span class=\"tfsechead \"><span class=\"ltr\"><a target=\"_blank\" href=\"http://resources.huygens.knaw.nl/retroboeken/generalemissiven/#page=596&amp;source=2\" title=\"Show this document on Huygens\" sec=\"2 583:7\">2 583:7</a></span></span>  <span class=\"txtu\">Banda </span></div>"
      ],
      "text/plain": [
       "<IPython.core.display.HTML object>"
      ]
     },
     "metadata": {},
     "output_type": "display_data"
    },
    {
     "data": {
      "text/html": [
       "<div class=\"\"><span class=\"tfsechead \"><span class=\"ltr\"><a target=\"_blank\" href=\"http://resources.huygens.knaw.nl/retroboeken/generalemissiven/#page=596&amp;source=2\" title=\"Show this document on Huygens\" sec=\"2 583:7\">2 583:7</a></span></span>  <span class=\"txtu\">f. </span><span class=\"txtu\">76608. </span><span class=\"txtu\">2- </span><span class=\"txtu\">voor </span><span class=\"txtu\">Amboina </span><span class=\"txtu\">en </span><span class=\"txtu\">f. </span><span class=\"txtu\">34007. </span><span class=\"txtu\">6. </span><span class=\"txtu\">10 </span><span class=\"txtu\">voor </span><span class=\"txtu\">Banda </span><span class=\"txtu\">en </span><span class=\"txtu\">266 </span><span class=\"txtu\">soldaten; </span><span class=\"txtu\">De </span><span class=\"txtu\">Vlaming </span></div>"
      ],
      "text/plain": [
       "<IPython.core.display.HTML object>"
      ]
     },
     "metadata": {},
     "output_type": "display_data"
    },
    {
     "data": {
      "text/html": [
       "<div class=\"\"><span class=\"tfsechead \"><span class=\"ltr\"><a target=\"_blank\" href=\"http://resources.huygens.knaw.nl/retroboeken/generalemissiven/#page=596&amp;source=2\" title=\"Show this document on Huygens\" sec=\"2 583:15\">2 583:15</a></span></span>  <span class=\"txtu\">Batavia; </span></div>"
      ],
      "text/plain": [
       "<IPython.core.display.HTML object>"
      ]
     },
     "metadata": {},
     "output_type": "display_data"
    },
    {
     "data": {
      "text/html": [
       "<div class=\"\"><span class=\"tfsechead \"><span class=\"ltr\"><a target=\"_blank\" href=\"http://resources.huygens.knaw.nl/retroboeken/generalemissiven/#page=596&amp;source=2\" title=\"Show this document on Huygens\" sec=\"2 583:15\">2 583:15</a></span></span>  <span class=\"txtu\">Batavia; </span><span class=\"txtu\">zij </span><span class=\"txtu\">hebben </span><span class=\"txtu\">bijna </span><span class=\"txtu\">het </span><span class=\"txtu\">leven </span><span class=\"txtu\">verloren, </span><span class=\"txtu\">vgl. </span><span class=\"txtu\">Quinam, </span><span class=\"txtu\">p. </span><span class=\"txtu\">113-</span><span class=\"txtu\">114 » </span></div>"
      ],
      "text/plain": [
       "<IPython.core.display.HTML object>"
      ]
     },
     "metadata": {},
     "output_type": "display_data"
    },
    {
     "name": "stdout",
     "output_type": "stream",
     "text": [
      "Overlap 3: Banda, - Batavia; "
     ]
    },
    {
     "data": {
      "text/html": [
       "<div class=\"\"><span class=\"tfsechead \"><span class=\"ltr\"><a target=\"_blank\" href=\"http://resources.huygens.knaw.nl/retroboeken/generalemissiven/#page=596&amp;source=2\" title=\"Show this document on Huygens\" sec=\"2 583:1\">2 583:1</a></span></span>  <span class=\"txtu \"><span class=\"structure\"><span class=\"nd\">volume</span> 2, <span class=\"nd\">letter</span> Reniers, Maetsuycker, Demmer, Hartsinck, De Vlaming van Oudtshoorn, Caesar, Versteghen; Batavia, 5 februari 1652</span></span></div>"
      ],
      "text/plain": [
       "<IPython.core.display.HTML object>"
      ]
     },
     "metadata": {},
     "output_type": "display_data"
    },
    {
     "data": {
      "text/html": [
       "<div class=\"\"><span class=\"tfsechead \"><span class=\"ltr\"><a target=\"_blank\" href=\"http://resources.huygens.knaw.nl/retroboeken/generalemissiven/#page=596&amp;source=2\" title=\"Show this document on Huygens\" sec=\"2 583:11\">2 583:11</a></span></span>  <span class=\"txtu\">Banda, </span></div>"
      ],
      "text/plain": [
       "<IPython.core.display.HTML object>"
      ]
     },
     "metadata": {},
     "output_type": "display_data"
    },
    {
     "data": {
      "text/html": [
       "<div class=\"\"><span class=\"tfsechead \"><span class=\"ltr\"><a target=\"_blank\" href=\"http://resources.huygens.knaw.nl/retroboeken/generalemissiven/#page=596&amp;source=2\" title=\"Show this document on Huygens\" sec=\"2 583:11\">2 583:11</a></span></span>  <span class=\"txtu\">nog </span><span class=\"txtu\">naar </span><span class=\"txtu\">Amboina; </span><span class=\"txtu\">ds. </span><span class=\"txtu\">Daniël </span><span class=\"txtu\">Brouwerius </span><span class=\"txtu\">gaat </span><span class=\"txtu\">naar </span><span class=\"txtu\">Banda, </span><span class=\"txtu\">ds. </span><span class=\"txtu\">Philippus </span><span class=\"txtu\">Joannes </span></div>"
      ],
      "text/plain": [
       "<IPython.core.display.HTML object>"
      ]
     },
     "metadata": {},
     "output_type": "display_data"
    },
    {
     "data": {
      "text/html": [
       "<div class=\"\"><span class=\"tfsechead \"><span class=\"ltr\"><a target=\"_blank\" href=\"http://resources.huygens.knaw.nl/retroboeken/generalemissiven/#page=596&amp;source=2\" title=\"Show this document on Huygens\" sec=\"2 583:15\">2 583:15</a></span></span>  <span class=\"txtu\">Batavia; </span></div>"
      ],
      "text/plain": [
       "<IPython.core.display.HTML object>"
      ]
     },
     "metadata": {},
     "output_type": "display_data"
    },
    {
     "data": {
      "text/html": [
       "<div class=\"\"><span class=\"tfsechead \"><span class=\"ltr\"><a target=\"_blank\" href=\"http://resources.huygens.knaw.nl/retroboeken/generalemissiven/#page=596&amp;source=2\" title=\"Show this document on Huygens\" sec=\"2 583:15\">2 583:15</a></span></span>  <span class=\"txtu\">Batavia; </span><span class=\"txtu\">zij </span><span class=\"txtu\">hebben </span><span class=\"txtu\">bijna </span><span class=\"txtu\">het </span><span class=\"txtu\">leven </span><span class=\"txtu\">verloren, </span><span class=\"txtu\">vgl. </span><span class=\"txtu\">Quinam, </span><span class=\"txtu\">p. </span><span class=\"txtu\">113-</span><span class=\"txtu\">114 » </span></div>"
      ],
      "text/plain": [
       "<IPython.core.display.HTML object>"
      ]
     },
     "metadata": {},
     "output_type": "display_data"
    },
    {
     "name": "stdout",
     "output_type": "stream",
     "text": [
      "Overlap 4: Banda - Batavia; "
     ]
    },
    {
     "data": {
      "text/html": [
       "<div class=\"\"><span class=\"tfsechead \"><span class=\"ltr\"><a target=\"_blank\" href=\"http://resources.huygens.knaw.nl/retroboeken/generalemissiven/#page=596&amp;source=2\" title=\"Show this document on Huygens\" sec=\"2 583:1\">2 583:1</a></span></span>  <span class=\"txtu \"><span class=\"structure\"><span class=\"nd\">volume</span> 2, <span class=\"nd\">letter</span> Reniers, Maetsuycker, Demmer, Hartsinck, De Vlaming van Oudtshoorn, Caesar, Versteghen; Batavia, 5 februari 1652</span></span></div>"
      ],
      "text/plain": [
       "<IPython.core.display.HTML object>"
      ]
     },
     "metadata": {},
     "output_type": "display_data"
    },
    {
     "data": {
      "text/html": [
       "<div class=\"\"><span class=\"tfsechead \"><span class=\"ltr\"><a target=\"_blank\" href=\"http://resources.huygens.knaw.nl/retroboeken/generalemissiven/#page=596&amp;source=2\" title=\"Show this document on Huygens\" sec=\"2 583:13\">2 583:13</a></span></span>  <span class=\"txtu\">Banda </span></div>"
      ],
      "text/plain": [
       "<IPython.core.display.HTML object>"
      ]
     },
     "metadata": {},
     "output_type": "display_data"
    },
    {
     "data": {
      "text/html": [
       "<div class=\"\"><span class=\"tfsechead \"><span class=\"ltr\"><a target=\"_blank\" href=\"http://resources.huygens.knaw.nl/retroboeken/generalemissiven/#page=596&amp;source=2\" title=\"Show this document on Huygens\" sec=\"2 583:13\">2 583:13</a></span></span>  <span class=\"txtu\">Banda </span><span class=\"txtu\">f. </span><span class=\"txtu\">72000, </span><span class=\"txtu\">w. </span><span class=\"txtu\">o. </span><span class=\"txtu\">12000 </span><span class=\"txtu\">realen, </span><span class=\"txtu\">voor </span><span class=\"txtu\">de </span><span class=\"txtu\">Molukken </span><span class=\"txtu\">f. </span><span class=\"txtu\">240000, </span><span class=\"txtu\">w. </span><span class=\"txtu\">o. </span><span class=\"txtu\">40000 </span><span class=\"txtu\">realen; </span></div>"
      ],
      "text/plain": [
       "<IPython.core.display.HTML object>"
      ]
     },
     "metadata": {},
     "output_type": "display_data"
    },
    {
     "data": {
      "text/html": [
       "<div class=\"\"><span class=\"tfsechead \"><span class=\"ltr\"><a target=\"_blank\" href=\"http://resources.huygens.knaw.nl/retroboeken/generalemissiven/#page=596&amp;source=2\" title=\"Show this document on Huygens\" sec=\"2 583:15\">2 583:15</a></span></span>  <span class=\"txtu\">Batavia; </span></div>"
      ],
      "text/plain": [
       "<IPython.core.display.HTML object>"
      ]
     },
     "metadata": {},
     "output_type": "display_data"
    },
    {
     "data": {
      "text/html": [
       "<div class=\"\"><span class=\"tfsechead \"><span class=\"ltr\"><a target=\"_blank\" href=\"http://resources.huygens.knaw.nl/retroboeken/generalemissiven/#page=596&amp;source=2\" title=\"Show this document on Huygens\" sec=\"2 583:15\">2 583:15</a></span></span>  <span class=\"txtu\">Batavia; </span><span class=\"txtu\">zij </span><span class=\"txtu\">hebben </span><span class=\"txtu\">bijna </span><span class=\"txtu\">het </span><span class=\"txtu\">leven </span><span class=\"txtu\">verloren, </span><span class=\"txtu\">vgl. </span><span class=\"txtu\">Quinam, </span><span class=\"txtu\">p. </span><span class=\"txtu\">113-</span><span class=\"txtu\">114 » </span></div>"
      ],
      "text/plain": [
       "<IPython.core.display.HTML object>"
      ]
     },
     "metadata": {},
     "output_type": "display_data"
    },
    {
     "name": "stdout",
     "output_type": "stream",
     "text": [
      "Overlap 5: Batavia; - Banda "
     ]
    },
    {
     "data": {
      "text/html": [
       "<div class=\"\"><span class=\"tfsechead \"><span class=\"ltr\"><a target=\"_blank\" href=\"http://resources.huygens.knaw.nl/retroboeken/generalemissiven/#page=465&amp;source=3\" title=\"Show this document on Huygens\" sec=\"3 452:1\">3 452:1</a></span></span>  <span class=\"txtu \"><span class=\"structure\"><span class=\"nd\">volume</span> 3, <span class=\"nd\">letter</span> Maetsuycker, Hartsinck, Verburch, Steur, Thijsz; Batavia, 29 januari 1663</span></span></div>"
      ],
      "text/plain": [
       "<IPython.core.display.HTML object>"
      ]
     },
     "metadata": {},
     "output_type": "display_data"
    },
    {
     "data": {
      "text/html": [
       "<div class=\"\"><span class=\"tfsechead \"><span class=\"ltr\"><a target=\"_blank\" href=\"http://resources.huygens.knaw.nl/retroboeken/generalemissiven/#page=465&amp;source=3\" title=\"Show this document on Huygens\" sec=\"3 452:7\">3 452:7</a></span></span>  <span class=\"txtu\">Batavia; </span></div>"
      ],
      "text/plain": [
       "<IPython.core.display.HTML object>"
      ]
     },
     "metadata": {},
     "output_type": "display_data"
    },
    {
     "data": {
      "text/html": [
       "<div class=\"\"><span class=\"tfsechead \"><span class=\"ltr\"><a target=\"_blank\" href=\"http://resources.huygens.knaw.nl/retroboeken/generalemissiven/#page=465&amp;source=3\" title=\"Show this document on Huygens\" sec=\"3 452:7\">3 452:7</a></span></span>  <span class=\"txtu\">de </span><span class=\"txtu\">late </span><span class=\"txtu\">aankomst </span><span class=\"txtu\">van </span><span class=\"txtu\">schepen </span><span class=\"txtu\">uit </span><span class=\"txtu\">allerlei </span><span class=\"txtu\">delen </span><span class=\"txtu\">van </span><span class=\"txtu\">Azië </span><span class=\"txtu\">te </span><span class=\"txtu\">Batavia; </span><span class=\"txtu\">door </span><span class=\"txtu\">tegenwind </span><span class=\"txtu\">is </span></div>"
      ],
      "text/plain": [
       "<IPython.core.display.HTML object>"
      ]
     },
     "metadata": {},
     "output_type": "display_data"
    },
    {
     "data": {
      "text/html": [
       "<div class=\"\"><span class=\"tfsechead \"><span class=\"ltr\"><a target=\"_blank\" href=\"http://resources.huygens.knaw.nl/retroboeken/generalemissiven/#page=465&amp;source=3\" title=\"Show this document on Huygens\" sec=\"3 452:10\">3 452:10</a></span></span>  <span class=\"txtu\">Banda </span></div>"
      ],
      "text/plain": [
       "<IPython.core.display.HTML object>"
      ]
     },
     "metadata": {},
     "output_type": "display_data"
    },
    {
     "data": {
      "text/html": [
       "<div class=\"\"><span class=\"tfsechead \"><span class=\"ltr\"><a target=\"_blank\" href=\"http://resources.huygens.knaw.nl/retroboeken/generalemissiven/#page=465&amp;source=3\" title=\"Show this document on Huygens\" sec=\"3 452:10\">3 452:10</a></span></span>  <span class=\"txtu\">geen </span><span class=\"txtu\">schip </span><span class=\"txtu\">uit </span><span class=\"txtu\">Banda </span><span class=\"txtu\">met </span><span class=\"txtu\">muskaatnoten; </span><span class=\"txtu\">er </span><span class=\"txtu\">is </span><span class=\"txtu\">geen </span><span class=\"txtu\">rijst </span><span class=\"txtu\">naar </span><span class=\"txtu\">de </span><span class=\"txtu\">Molukken </span><span class=\"txtu\">gezonden, </span></div>"
      ],
      "text/plain": [
       "<IPython.core.display.HTML object>"
      ]
     },
     "metadata": {},
     "output_type": "display_data"
    },
    {
     "name": "stdout",
     "output_type": "stream",
     "text": [
      "Overlap 6: Banda - Batavia "
     ]
    },
    {
     "data": {
      "text/html": [
       "<div class=\"\"><span class=\"tfsechead \"><span class=\"ltr\"><a target=\"_blank\" href=\"http://resources.huygens.knaw.nl/retroboeken/generalemissiven/#page=465&amp;source=3\" title=\"Show this document on Huygens\" sec=\"3 452:1\">3 452:1</a></span></span>  <span class=\"txtu \"><span class=\"structure\"><span class=\"nd\">volume</span> 3, <span class=\"nd\">letter</span> Maetsuycker, Hartsinck, Verburch, Steur, Thijsz; Batavia, 29 januari 1663</span></span></div>"
      ],
      "text/plain": [
       "<IPython.core.display.HTML object>"
      ]
     },
     "metadata": {},
     "output_type": "display_data"
    },
    {
     "data": {
      "text/html": [
       "<div class=\"\"><span class=\"tfsechead \"><span class=\"ltr\"><a target=\"_blank\" href=\"http://resources.huygens.knaw.nl/retroboeken/generalemissiven/#page=465&amp;source=3\" title=\"Show this document on Huygens\" sec=\"3 452:10\">3 452:10</a></span></span>  <span class=\"txtu\">Banda </span></div>"
      ],
      "text/plain": [
       "<IPython.core.display.HTML object>"
      ]
     },
     "metadata": {},
     "output_type": "display_data"
    },
    {
     "data": {
      "text/html": [
       "<div class=\"\"><span class=\"tfsechead \"><span class=\"ltr\"><a target=\"_blank\" href=\"http://resources.huygens.knaw.nl/retroboeken/generalemissiven/#page=465&amp;source=3\" title=\"Show this document on Huygens\" sec=\"3 452:10\">3 452:10</a></span></span>  <span class=\"txtu\">geen </span><span class=\"txtu\">schip </span><span class=\"txtu\">uit </span><span class=\"txtu\">Banda </span><span class=\"txtu\">met </span><span class=\"txtu\">muskaatnoten; </span><span class=\"txtu\">er </span><span class=\"txtu\">is </span><span class=\"txtu\">geen </span><span class=\"txtu\">rijst </span><span class=\"txtu\">naar </span><span class=\"txtu\">de </span><span class=\"txtu\">Molukken </span><span class=\"txtu\">gezonden, </span></div>"
      ],
      "text/plain": [
       "<IPython.core.display.HTML object>"
      ]
     },
     "metadata": {},
     "output_type": "display_data"
    },
    {
     "data": {
      "text/html": [
       "<div class=\"\"><span class=\"tfsechead \"><span class=\"ltr\"><a target=\"_blank\" href=\"http://resources.huygens.knaw.nl/retroboeken/generalemissiven/#page=465&amp;source=3\" title=\"Show this document on Huygens\" sec=\"3 452:21\">3 452:21</a></span></span>  <span class=\"txtu\">Batavia </span></div>"
      ],
      "text/plain": [
       "<IPython.core.display.HTML object>"
      ]
     },
     "metadata": {},
     "output_type": "display_data"
    },
    {
     "data": {
      "text/html": [
       "<div class=\"\"><span class=\"tfsechead \"><span class=\"ltr\"><a target=\"_blank\" href=\"http://resources.huygens.knaw.nl/retroboeken/generalemissiven/#page=465&amp;source=3\" title=\"Show this document on Huygens\" sec=\"3 452:21\">3 452:21</a></span></span>  <span class=\"txtu\">Het </span><span class=\"txtu\">aantal </span><span class=\"txtu\">te </span><span class=\"txtu\">Batavia </span><span class=\"txtu\">voor </span><span class=\"txtu\">pairia </span><span class=\"txtu\">aangevraagde </span><span class=\"txtu\">wissels </span><span class=\"txtu\">neemt </span><span class=\"txtu\">af, .. . . » </span></div>"
      ],
      "text/plain": [
       "<IPython.core.display.HTML object>"
      ]
     },
     "metadata": {},
     "output_type": "display_data"
    },
    {
     "name": "stdout",
     "output_type": "stream",
     "text": [
      "Overlap 7: Batavia . . . . » - Bandase "
     ]
    },
    {
     "data": {
      "text/html": [
       "<div class=\"\"><span class=\"tfsechead \"><span class=\"ltr\"><a target=\"_blank\" href=\"http://resources.huygens.knaw.nl/retroboeken/generalemissiven/#page=792&amp;source=3\" title=\"Show this document on Huygens\" sec=\"3 779:1\">3 779:1</a></span></span>  <span class=\"txtu \"><span class=\"structure\"><span class=\"nd\">volume</span> 3, <span class=\"nd\">letter</span> Maetsuycker, Verburch, Pit, Overtwater, Speelman, Van Hoorn; Batavia, 31 januari 1672</span></span></div>"
      ],
      "text/plain": [
       "<IPython.core.display.HTML object>"
      ]
     },
     "metadata": {},
     "output_type": "display_data"
    },
    {
     "data": {
      "text/html": [
       "<div class=\"\"><span class=\"tfsechead \"><span class=\"ltr\"><a target=\"_blank\" href=\"http://resources.huygens.knaw.nl/retroboeken/generalemissiven/#page=792&amp;source=3\" title=\"Show this document on Huygens\" sec=\"3 779:7\">3 779:7</a></span></span>  <span class=\"txtu\">Batavia . . . . » </span></div>"
      ],
      "text/plain": [
       "<IPython.core.display.HTML object>"
      ]
     },
     "metadata": {},
     "output_type": "display_data"
    },
    {
     "data": {
      "text/html": [
       "<div class=\"\"><span class=\"tfsechead \"><span class=\"ltr\"><a target=\"_blank\" href=\"http://resources.huygens.knaw.nl/retroboeken/generalemissiven/#page=792&amp;source=3\" title=\"Show this document on Huygens\" sec=\"3 779:7\">3 779:7</a></span></span>  <span class=\"txtu\">de </span><span class=\"txtu\">Heren </span><span class=\"txtu\">te </span><span class=\"txtu\">Batavia . . . . » </span></div>"
      ],
      "text/plain": [
       "<IPython.core.display.HTML object>"
      ]
     },
     "metadata": {},
     "output_type": "display_data"
    },
    {
     "data": {
      "text/html": [
       "<div class=\"\"><span class=\"tfsechead \"><span class=\"ltr\"><a target=\"_blank\" href=\"http://resources.huygens.knaw.nl/retroboeken/generalemissiven/#page=792&amp;source=3\" title=\"Show this document on Huygens\" sec=\"3 779:11\">3 779:11</a></span></span>  <span class=\"txtu\">Bandase </span></div>"
      ],
      "text/plain": [
       "<IPython.core.display.HTML object>"
      ]
     },
     "metadata": {},
     "output_type": "display_data"
    },
    {
     "data": {
      "text/html": [
       "<div class=\"\"><span class=\"tfsechead \"><span class=\"ltr\"><a target=\"_blank\" href=\"http://resources.huygens.knaw.nl/retroboeken/generalemissiven/#page=792&amp;source=3\" title=\"Show this document on Huygens\" sec=\"3 779:11\">3 779:11</a></span></span>  <span class=\"txtu\">Ambonse </span><span class=\"txtu\">en </span><span class=\"txtu\">Bandase </span><span class=\"txtu\">borgerije </span><span class=\"txtu\">soo </span><span class=\"txtu\">verre </span><span class=\"txtu\">te </span><span class=\"txtu\">limitteren, </span><span class=\"txtu\">dat </span><span class=\"txtu\">gene </span><span class=\"txtu\">Ambonse </span><span class=\"txtu\">off </span></div>"
      ],
      "text/plain": [
       "<IPython.core.display.HTML object>"
      ]
     },
     "metadata": {},
     "output_type": "display_data"
    },
    {
     "name": "stdout",
     "output_type": "stream",
     "text": [
      "Overlap 8: Batavia . . . . » - Bandase "
     ]
    },
    {
     "data": {
      "text/html": [
       "<div class=\"\"><span class=\"tfsechead \"><span class=\"ltr\"><a target=\"_blank\" href=\"http://resources.huygens.knaw.nl/retroboeken/generalemissiven/#page=792&amp;source=3\" title=\"Show this document on Huygens\" sec=\"3 779:1\">3 779:1</a></span></span>  <span class=\"txtu \"><span class=\"structure\"><span class=\"nd\">volume</span> 3, <span class=\"nd\">letter</span> Maetsuycker, Verburch, Pit, Overtwater, Speelman, Van Hoorn; Batavia, 31 januari 1672</span></span></div>"
      ],
      "text/plain": [
       "<IPython.core.display.HTML object>"
      ]
     },
     "metadata": {},
     "output_type": "display_data"
    },
    {
     "data": {
      "text/html": [
       "<div class=\"\"><span class=\"tfsechead \"><span class=\"ltr\"><a target=\"_blank\" href=\"http://resources.huygens.knaw.nl/retroboeken/generalemissiven/#page=792&amp;source=3\" title=\"Show this document on Huygens\" sec=\"3 779:7\">3 779:7</a></span></span>  <span class=\"txtu\">Batavia . . . . » </span></div>"
      ],
      "text/plain": [
       "<IPython.core.display.HTML object>"
      ]
     },
     "metadata": {},
     "output_type": "display_data"
    },
    {
     "data": {
      "text/html": [
       "<div class=\"\"><span class=\"tfsechead \"><span class=\"ltr\"><a target=\"_blank\" href=\"http://resources.huygens.knaw.nl/retroboeken/generalemissiven/#page=792&amp;source=3\" title=\"Show this document on Huygens\" sec=\"3 779:7\">3 779:7</a></span></span>  <span class=\"txtu\">de </span><span class=\"txtu\">Heren </span><span class=\"txtu\">te </span><span class=\"txtu\">Batavia . . . . » </span></div>"
      ],
      "text/plain": [
       "<IPython.core.display.HTML object>"
      ]
     },
     "metadata": {},
     "output_type": "display_data"
    },
    {
     "data": {
      "text/html": [
       "<div class=\"\"><span class=\"tfsechead \"><span class=\"ltr\"><a target=\"_blank\" href=\"http://resources.huygens.knaw.nl/retroboeken/generalemissiven/#page=792&amp;source=3\" title=\"Show this document on Huygens\" sec=\"3 779:12\">3 779:12</a></span></span>  <span class=\"txtu\">Bandase </span></div>"
      ],
      "text/plain": [
       "<IPython.core.display.HTML object>"
      ]
     },
     "metadata": {},
     "output_type": "display_data"
    },
    {
     "data": {
      "text/html": [
       "<div class=\"\"><span class=\"tfsechead \"><span class=\"ltr\"><a target=\"_blank\" href=\"http://resources.huygens.knaw.nl/retroboeken/generalemissiven/#page=792&amp;source=3\" title=\"Show this document on Huygens\" sec=\"3 779:12\">3 779:12</a></span></span>  <span class=\"txtu\">Bandase </span><span class=\"txtu\">nogh </span><span class=\"txtu\">Moluxe </span><span class=\"txtu\">borgerscheepjens </span><span class=\"txtu\">en -</span><span class=\"txtu\">vaertuygen, </span><span class=\"txtu\">naer </span><span class=\"txtu\">voorgaende </span><span class=\"txtu\">naeuwe </span></div>"
      ],
      "text/plain": [
       "<IPython.core.display.HTML object>"
      ]
     },
     "metadata": {},
     "output_type": "display_data"
    },
    {
     "name": "stdout",
     "output_type": "stream",
     "text": [
      "Overlap 9: Bataviase, - Bandase "
     ]
    },
    {
     "data": {
      "text/html": [
       "<div class=\"\"><span class=\"tfsechead \"><span class=\"ltr\"><a target=\"_blank\" href=\"http://resources.huygens.knaw.nl/retroboeken/generalemissiven/#page=792&amp;source=3\" title=\"Show this document on Huygens\" sec=\"3 779:1\">3 779:1</a></span></span>  <span class=\"txtu \"><span class=\"structure\"><span class=\"nd\">volume</span> 3, <span class=\"nd\">letter</span> Maetsuycker, Verburch, Pit, Overtwater, Speelman, Van Hoorn; Batavia, 31 januari 1672</span></span></div>"
      ],
      "text/plain": [
       "<IPython.core.display.HTML object>"
      ]
     },
     "metadata": {},
     "output_type": "display_data"
    },
    {
     "data": {
      "text/html": [
       "<div class=\"\"><span class=\"tfsechead \"><span class=\"ltr\"><a target=\"_blank\" href=\"http://resources.huygens.knaw.nl/retroboeken/generalemissiven/#page=792&amp;source=3\" title=\"Show this document on Huygens\" sec=\"3 779:10\">3 779:10</a></span></span>  <span class=\"txtu\">Bataviase, </span></div>"
      ],
      "text/plain": [
       "<IPython.core.display.HTML object>"
      ]
     },
     "metadata": {},
     "output_type": "display_data"
    },
    {
     "data": {
      "text/html": [
       "<div class=\"\"><span class=\"tfsechead \"><span class=\"ltr\"><a target=\"_blank\" href=\"http://resources.huygens.knaw.nl/retroboeken/generalemissiven/#page=792&amp;source=3\" title=\"Show this document on Huygens\" sec=\"3 779:10\">3 779:10</a></span></span>  <span class=\"txtu\">cust </span><span class=\"txtu\">naer </span><span class=\"txtu\">derwarts </span><span class=\"txtu\">t’eenemael </span><span class=\"txtu\">te </span><span class=\"txtu\">interdiceren, </span><span class=\"txtu\">maer </span><span class=\"txtu\">oocq </span><span class=\"txtu\">selve </span><span class=\"txtu\">die </span><span class=\"txtu\">van </span><span class=\"txtu\">de </span><span class=\"txtu\">Bataviase, </span></div>"
      ],
      "text/plain": [
       "<IPython.core.display.HTML object>"
      ]
     },
     "metadata": {},
     "output_type": "display_data"
    },
    {
     "data": {
      "text/html": [
       "<div class=\"\"><span class=\"tfsechead \"><span class=\"ltr\"><a target=\"_blank\" href=\"http://resources.huygens.knaw.nl/retroboeken/generalemissiven/#page=792&amp;source=3\" title=\"Show this document on Huygens\" sec=\"3 779:11\">3 779:11</a></span></span>  <span class=\"txtu\">Bandase </span></div>"
      ],
      "text/plain": [
       "<IPython.core.display.HTML object>"
      ]
     },
     "metadata": {},
     "output_type": "display_data"
    },
    {
     "data": {
      "text/html": [
       "<div class=\"\"><span class=\"tfsechead \"><span class=\"ltr\"><a target=\"_blank\" href=\"http://resources.huygens.knaw.nl/retroboeken/generalemissiven/#page=792&amp;source=3\" title=\"Show this document on Huygens\" sec=\"3 779:11\">3 779:11</a></span></span>  <span class=\"txtu\">Ambonse </span><span class=\"txtu\">en </span><span class=\"txtu\">Bandase </span><span class=\"txtu\">borgerije </span><span class=\"txtu\">soo </span><span class=\"txtu\">verre </span><span class=\"txtu\">te </span><span class=\"txtu\">limitteren, </span><span class=\"txtu\">dat </span><span class=\"txtu\">gene </span><span class=\"txtu\">Ambonse </span><span class=\"txtu\">off </span></div>"
      ],
      "text/plain": [
       "<IPython.core.display.HTML object>"
      ]
     },
     "metadata": {},
     "output_type": "display_data"
    },
    {
     "name": "stdout",
     "output_type": "stream",
     "text": [
      "Overlap 10: Bataviase, - Bandase "
     ]
    },
    {
     "data": {
      "text/html": [
       "<div class=\"\"><span class=\"tfsechead \"><span class=\"ltr\"><a target=\"_blank\" href=\"http://resources.huygens.knaw.nl/retroboeken/generalemissiven/#page=792&amp;source=3\" title=\"Show this document on Huygens\" sec=\"3 779:1\">3 779:1</a></span></span>  <span class=\"txtu \"><span class=\"structure\"><span class=\"nd\">volume</span> 3, <span class=\"nd\">letter</span> Maetsuycker, Verburch, Pit, Overtwater, Speelman, Van Hoorn; Batavia, 31 januari 1672</span></span></div>"
      ],
      "text/plain": [
       "<IPython.core.display.HTML object>"
      ]
     },
     "metadata": {},
     "output_type": "display_data"
    },
    {
     "data": {
      "text/html": [
       "<div class=\"\"><span class=\"tfsechead \"><span class=\"ltr\"><a target=\"_blank\" href=\"http://resources.huygens.knaw.nl/retroboeken/generalemissiven/#page=792&amp;source=3\" title=\"Show this document on Huygens\" sec=\"3 779:10\">3 779:10</a></span></span>  <span class=\"txtu\">Bataviase, </span></div>"
      ],
      "text/plain": [
       "<IPython.core.display.HTML object>"
      ]
     },
     "metadata": {},
     "output_type": "display_data"
    },
    {
     "data": {
      "text/html": [
       "<div class=\"\"><span class=\"tfsechead \"><span class=\"ltr\"><a target=\"_blank\" href=\"http://resources.huygens.knaw.nl/retroboeken/generalemissiven/#page=792&amp;source=3\" title=\"Show this document on Huygens\" sec=\"3 779:10\">3 779:10</a></span></span>  <span class=\"txtu\">cust </span><span class=\"txtu\">naer </span><span class=\"txtu\">derwarts </span><span class=\"txtu\">t’eenemael </span><span class=\"txtu\">te </span><span class=\"txtu\">interdiceren, </span><span class=\"txtu\">maer </span><span class=\"txtu\">oocq </span><span class=\"txtu\">selve </span><span class=\"txtu\">die </span><span class=\"txtu\">van </span><span class=\"txtu\">de </span><span class=\"txtu\">Bataviase, </span></div>"
      ],
      "text/plain": [
       "<IPython.core.display.HTML object>"
      ]
     },
     "metadata": {},
     "output_type": "display_data"
    },
    {
     "data": {
      "text/html": [
       "<div class=\"\"><span class=\"tfsechead \"><span class=\"ltr\"><a target=\"_blank\" href=\"http://resources.huygens.knaw.nl/retroboeken/generalemissiven/#page=792&amp;source=3\" title=\"Show this document on Huygens\" sec=\"3 779:12\">3 779:12</a></span></span>  <span class=\"txtu\">Bandase </span></div>"
      ],
      "text/plain": [
       "<IPython.core.display.HTML object>"
      ]
     },
     "metadata": {},
     "output_type": "display_data"
    },
    {
     "data": {
      "text/html": [
       "<div class=\"\"><span class=\"tfsechead \"><span class=\"ltr\"><a target=\"_blank\" href=\"http://resources.huygens.knaw.nl/retroboeken/generalemissiven/#page=792&amp;source=3\" title=\"Show this document on Huygens\" sec=\"3 779:12\">3 779:12</a></span></span>  <span class=\"txtu\">Bandase </span><span class=\"txtu\">nogh </span><span class=\"txtu\">Moluxe </span><span class=\"txtu\">borgerscheepjens </span><span class=\"txtu\">en -</span><span class=\"txtu\">vaertuygen, </span><span class=\"txtu\">naer </span><span class=\"txtu\">voorgaende </span><span class=\"txtu\">naeuwe </span></div>"
      ],
      "text/plain": [
       "<IPython.core.display.HTML object>"
      ]
     },
     "metadata": {},
     "output_type": "display_data"
    },
    {
     "name": "stdout",
     "output_type": "stream",
     "text": [
      "Overlap 11: Banda - Batavia , "
     ]
    },
    {
     "data": {
      "text/html": [
       "<div class=\"\"><span class=\"tfsechead \"><span class=\"ltr\"><a target=\"_blank\" href=\"http://resources.huygens.knaw.nl/retroboeken/generalemissiven/#page=116&amp;source=4\" title=\"Show this document on Huygens\" sec=\"4 101:1\">4 101:1</a></span></span>  <span class=\"txtu \"><span class=\"structure\"><span class=\"nd\">volume</span> 4, <span class=\"nd\">letter</span> Maetsuycker, Van Goens, Pit, Overtwater, Speelman, Ranst, Van Hoorn; Batavia, 30 september 1676</span></span></div>"
      ],
      "text/plain": [
       "<IPython.core.display.HTML object>"
      ]
     },
     "metadata": {},
     "output_type": "display_data"
    },
    {
     "data": {
      "text/html": [
       "<div class=\"\"><span class=\"tfsechead \"><span class=\"ltr\"><a target=\"_blank\" href=\"http://resources.huygens.knaw.nl/retroboeken/generalemissiven/#page=116&amp;source=4\" title=\"Show this document on Huygens\" sec=\"4 101:8\">4 101:8</a></span></span>  <span class=\"txtu\">Banda </span></div>"
      ],
      "text/plain": [
       "<IPython.core.display.HTML object>"
      ]
     },
     "metadata": {},
     "output_type": "display_data"
    },
    {
     "data": {
      "text/html": [
       "<div class=\"\"><span class=\"tfsechead \"><span class=\"ltr\"><a target=\"_blank\" href=\"http://resources.huygens.knaw.nl/retroboeken/generalemissiven/#page=116&amp;source=4\" title=\"Show this document on Huygens\" sec=\"4 101:8\">4 101:8</a></span></span>  <span class=\"txtu\">schepen; </span><span class=\"txtu\">200 </span><span class=\"txtu\">soldaten </span><span class=\"txtu\">naar </span><span class=\"txtu\">Banda </span><span class=\"txtu\">gezonden </span><span class=\"txtu\">en </span><span class=\"txtu\">50 </span><span class=\"txtu\">naar </span><span class=\"txtu\">Timor » </span></div>"
      ],
      "text/plain": [
       "<IPython.core.display.HTML object>"
      ]
     },
     "metadata": {},
     "output_type": "display_data"
    },
    {
     "data": {
      "text/html": [
       "<div class=\"\"><span class=\"tfsechead \"><span class=\"ltr\"><a target=\"_blank\" href=\"http://resources.huygens.knaw.nl/retroboeken/generalemissiven/#page=116&amp;source=4\" title=\"Show this document on Huygens\" sec=\"4 101:24\">4 101:24</a></span></span>  <span class=\"txtu\">Batavia , </span></div>"
      ],
      "text/plain": [
       "<IPython.core.display.HTML object>"
      ]
     },
     "metadata": {},
     "output_type": "display_data"
    },
    {
     "data": {
      "text/html": [
       "<div class=\"\"><span class=\"tfsechead \"><span class=\"ltr\"><a target=\"_blank\" href=\"http://resources.huygens.knaw.nl/retroboeken/generalemissiven/#page=116&amp;source=4\" title=\"Show this document on Huygens\" sec=\"4 101:24\">4 101:24</a></span></span>  <span class=\"txtu\">Het </span><span class=\"txtu\">duurt </span><span class=\"txtu\">lang , </span><span class=\"txtu\">eer </span><span class=\"txtu\">de </span><span class=\"txtu\">gezant </span><span class=\"txtu\">van </span><span class=\"txtu\">Temate </span><span class=\"txtu\">naar </span><span class=\"txtu\">Batavia , </span><span class=\"txtu\">Majuda, </span><span class=\"txtu\">naar </span><span class=\"txtu\">Temate </span></div>"
      ],
      "text/plain": [
       "<IPython.core.display.HTML object>"
      ]
     },
     "metadata": {},
     "output_type": "display_data"
    },
    {
     "name": "stdout",
     "output_type": "stream",
     "text": [
      "Overlap 12: Banda - Batavia , "
     ]
    },
    {
     "data": {
      "text/html": [
       "<div class=\"\"><span class=\"tfsechead \"><span class=\"ltr\"><a target=\"_blank\" href=\"http://resources.huygens.knaw.nl/retroboeken/generalemissiven/#page=116&amp;source=4\" title=\"Show this document on Huygens\" sec=\"4 101:1\">4 101:1</a></span></span>  <span class=\"txtu \"><span class=\"structure\"><span class=\"nd\">volume</span> 4, <span class=\"nd\">letter</span> Maetsuycker, Van Goens, Pit, Overtwater, Speelman, Ranst, Van Hoorn; Batavia, 30 september 1676</span></span></div>"
      ],
      "text/plain": [
       "<IPython.core.display.HTML object>"
      ]
     },
     "metadata": {},
     "output_type": "display_data"
    },
    {
     "data": {
      "text/html": [
       "<div class=\"\"><span class=\"tfsechead \"><span class=\"ltr\"><a target=\"_blank\" href=\"http://resources.huygens.knaw.nl/retroboeken/generalemissiven/#page=116&amp;source=4\" title=\"Show this document on Huygens\" sec=\"4 101:13\">4 101:13</a></span></span>  <span class=\"txtu\">Banda </span></div>"
      ],
      "text/plain": [
       "<IPython.core.display.HTML object>"
      ]
     },
     "metadata": {},
     "output_type": "display_data"
    },
    {
     "data": {
      "text/html": [
       "<div class=\"\"><span class=\"tfsechead \"><span class=\"ltr\"><a target=\"_blank\" href=\"http://resources.huygens.knaw.nl/retroboeken/generalemissiven/#page=116&amp;source=4\" title=\"Show this document on Huygens\" sec=\"4 101:13\">4 101:13</a></span></span>  <span class=\"txtu\">Het </span><span class=\"txtu\">notengewas </span><span class=\"txtu\">op </span><span class=\"txtu\">Banda </span><span class=\"txtu\">leed </span><span class=\"txtu\">zeer </span><span class=\"txtu\">door </span><span class=\"txtu\">de </span><span class=\"txtu\">zware </span><span class=\"txtu\">stormen , </span><span class=\"txtu\">thans </span><span class=\"txtu\">is </span><span class=\"txtu\">het </span><span class=\"txtu\">weer </span><span class=\"txtu\">er </span></div>"
      ],
      "text/plain": [
       "<IPython.core.display.HTML object>"
      ]
     },
     "metadata": {},
     "output_type": "display_data"
    },
    {
     "data": {
      "text/html": [
       "<div class=\"\"><span class=\"tfsechead \"><span class=\"ltr\"><a target=\"_blank\" href=\"http://resources.huygens.knaw.nl/retroboeken/generalemissiven/#page=116&amp;source=4\" title=\"Show this document on Huygens\" sec=\"4 101:24\">4 101:24</a></span></span>  <span class=\"txtu\">Batavia , </span></div>"
      ],
      "text/plain": [
       "<IPython.core.display.HTML object>"
      ]
     },
     "metadata": {},
     "output_type": "display_data"
    },
    {
     "data": {
      "text/html": [
       "<div class=\"\"><span class=\"tfsechead \"><span class=\"ltr\"><a target=\"_blank\" href=\"http://resources.huygens.knaw.nl/retroboeken/generalemissiven/#page=116&amp;source=4\" title=\"Show this document on Huygens\" sec=\"4 101:24\">4 101:24</a></span></span>  <span class=\"txtu\">Het </span><span class=\"txtu\">duurt </span><span class=\"txtu\">lang , </span><span class=\"txtu\">eer </span><span class=\"txtu\">de </span><span class=\"txtu\">gezant </span><span class=\"txtu\">van </span><span class=\"txtu\">Temate </span><span class=\"txtu\">naar </span><span class=\"txtu\">Batavia , </span><span class=\"txtu\">Majuda, </span><span class=\"txtu\">naar </span><span class=\"txtu\">Temate </span></div>"
      ],
      "text/plain": [
       "<IPython.core.display.HTML object>"
      ]
     },
     "metadata": {},
     "output_type": "display_data"
    },
    {
     "name": "stdout",
     "output_type": "stream",
     "text": [
      "Overlap 13: Banda - Batavia "
     ]
    },
    {
     "data": {
      "text/html": [
       "<div class=\"\"><span class=\"tfsechead \"><span class=\"ltr\"><a target=\"_blank\" href=\"http://resources.huygens.knaw.nl/retroboeken/generalemissiven/#page=233&amp;source=4\" title=\"Show this document on Huygens\" sec=\"4 218:1\">4 218:1</a></span></span>  <span class=\"txtu \"><span class=\"structure\"><span class=\"nd\">volume</span> 4, <span class=\"nd\">letter</span> Van Goens, Pit, Overtwater, Van Hoorn, Paviljoen; Batavia, 15 februari 1678</span></span></div>"
      ],
      "text/plain": [
       "<IPython.core.display.HTML object>"
      ]
     },
     "metadata": {},
     "output_type": "display_data"
    },
    {
     "data": {
      "text/html": [
       "<div class=\"\"><span class=\"tfsechead \"><span class=\"ltr\"><a target=\"_blank\" href=\"http://resources.huygens.knaw.nl/retroboeken/generalemissiven/#page=233&amp;source=4\" title=\"Show this document on Huygens\" sec=\"4 218:22\">4 218:22</a></span></span>  <span class=\"txtu\">Banda </span></div>"
      ],
      "text/plain": [
       "<IPython.core.display.HTML object>"
      ]
     },
     "metadata": {},
     "output_type": "display_data"
    },
    {
     "data": {
      "text/html": [
       "<div class=\"\"><span class=\"tfsechead \"><span class=\"ltr\"><a target=\"_blank\" href=\"http://resources.huygens.knaw.nl/retroboeken/generalemissiven/#page=233&amp;source=4\" title=\"Show this document on Huygens\" sec=\"4 218:22\">4 218:22</a></span></span>  <span class=\"txtu\">Twee </span><span class=\"txtu\">djatihouten </span><span class=\"txtu\">vaartuigen </span><span class=\"txtu\">voor </span><span class=\"txtu\">Banda </span><span class=\"txtu\">gekocht </span><span class=\"txtu\">ter </span><span class=\"txtu\">vervanging </span><span class=\"txtu\">van </span><span class=\"txtu\">andere; </span></div>"
      ],
      "text/plain": [
       "<IPython.core.display.HTML object>"
      ]
     },
     "metadata": {},
     "output_type": "display_data"
    },
    {
     "data": {
      "text/html": [
       "<div class=\"\"><span class=\"tfsechead \"><span class=\"ltr\"><a target=\"_blank\" href=\"http://resources.huygens.knaw.nl/retroboeken/generalemissiven/#page=233&amp;source=4\" title=\"Show this document on Huygens\" sec=\"4 218:23\">4 218:23</a></span></span>  <span class=\"txtu\">Batavia </span></div>"
      ],
      "text/plain": [
       "<IPython.core.display.HTML object>"
      ]
     },
     "metadata": {},
     "output_type": "display_data"
    },
    {
     "data": {
      "text/html": [
       "<div class=\"\"><span class=\"tfsechead \"><span class=\"ltr\"><a target=\"_blank\" href=\"http://resources.huygens.knaw.nl/retroboeken/generalemissiven/#page=233&amp;source=4\" title=\"Show this document on Huygens\" sec=\"4 218:23\">4 218:23</a></span></span>  <span class=\"txtu\">daar </span><span class=\"txtu\">werden </span><span class=\"txtu\">unssels </span><span class=\"txtu\">voor </span><span class=\"txtu\">21939 </span><span class=\"txtu\">rsd. </span><span class=\"txtu\">op </span><span class=\"txtu\">Batavia </span><span class=\"txtu\">getrokken, </span><span class=\"txtu\">waar </span><span class=\"txtu\">4700 </span><span class=\"txtu\">rsd. </span><span class=\"txtu\">aan </span><span class=\"txtu\">burgers </span></div>"
      ],
      "text/plain": [
       "<IPython.core.display.HTML object>"
      ]
     },
     "metadata": {},
     "output_type": "display_data"
    },
    {
     "name": "stdout",
     "output_type": "stream",
     "text": [
      "Overlap 14: Batavia - Banda "
     ]
    },
    {
     "data": {
      "text/html": [
       "<div class=\"\"><span class=\"tfsechead \"><span class=\"ltr\"><a target=\"_blank\" href=\"http://resources.huygens.knaw.nl/retroboeken/generalemissiven/#page=233&amp;source=4\" title=\"Show this document on Huygens\" sec=\"4 218:1\">4 218:1</a></span></span>  <span class=\"txtu \"><span class=\"structure\"><span class=\"nd\">volume</span> 4, <span class=\"nd\">letter</span> Van Goens, Pit, Overtwater, Van Hoorn, Paviljoen; Batavia, 15 februari 1678</span></span></div>"
      ],
      "text/plain": [
       "<IPython.core.display.HTML object>"
      ]
     },
     "metadata": {},
     "output_type": "display_data"
    },
    {
     "data": {
      "text/html": [
       "<div class=\"\"><span class=\"tfsechead \"><span class=\"ltr\"><a target=\"_blank\" href=\"http://resources.huygens.knaw.nl/retroboeken/generalemissiven/#page=233&amp;source=4\" title=\"Show this document on Huygens\" sec=\"4 218:23\">4 218:23</a></span></span>  <span class=\"txtu\">Batavia </span></div>"
      ],
      "text/plain": [
       "<IPython.core.display.HTML object>"
      ]
     },
     "metadata": {},
     "output_type": "display_data"
    },
    {
     "data": {
      "text/html": [
       "<div class=\"\"><span class=\"tfsechead \"><span class=\"ltr\"><a target=\"_blank\" href=\"http://resources.huygens.knaw.nl/retroboeken/generalemissiven/#page=233&amp;source=4\" title=\"Show this document on Huygens\" sec=\"4 218:23\">4 218:23</a></span></span>  <span class=\"txtu\">daar </span><span class=\"txtu\">werden </span><span class=\"txtu\">unssels </span><span class=\"txtu\">voor </span><span class=\"txtu\">21939 </span><span class=\"txtu\">rsd. </span><span class=\"txtu\">op </span><span class=\"txtu\">Batavia </span><span class=\"txtu\">getrokken, </span><span class=\"txtu\">waar </span><span class=\"txtu\">4700 </span><span class=\"txtu\">rsd. </span><span class=\"txtu\">aan </span><span class=\"txtu\">burgers </span></div>"
      ],
      "text/plain": [
       "<IPython.core.display.HTML object>"
      ]
     },
     "metadata": {},
     "output_type": "display_data"
    },
    {
     "data": {
      "text/html": [
       "<div class=\"\"><span class=\"tfsechead \"><span class=\"ltr\"><a target=\"_blank\" href=\"http://resources.huygens.knaw.nl/retroboeken/generalemissiven/#page=233&amp;source=4\" title=\"Show this document on Huygens\" sec=\"4 218:24\">4 218:24</a></span></span>  <span class=\"txtu\">Banda </span></div>"
      ],
      "text/plain": [
       "<IPython.core.display.HTML object>"
      ]
     },
     "metadata": {},
     "output_type": "display_data"
    },
    {
     "data": {
      "text/html": [
       "<div class=\"\"><span class=\"tfsechead \"><span class=\"ltr\"><a target=\"_blank\" href=\"http://resources.huygens.knaw.nl/retroboeken/generalemissiven/#page=233&amp;source=4\" title=\"Show this document on Huygens\" sec=\"4 218:24\">4 218:24</a></span></span>  <span class=\"txtu\">werden </span><span class=\"txtu\">verstrekt, </span><span class=\"txtu\">die </span><span class=\"txtu\">te </span><span class=\"txtu\">Banda </span><span class=\"txtu\">zullen </span><span class=\"txtu\">terugbetalen; </span><span class=\"txtu\">100 </span><span class=\"txtu\">soldaten </span><span class=\"txtu\">derwaarts </span><span class=\"txtu\">gezonden; </span></div>"
      ],
      "text/plain": [
       "<IPython.core.display.HTML object>"
      ]
     },
     "metadata": {},
     "output_type": "display_data"
    },
    {
     "name": "stdout",
     "output_type": "stream",
     "text": [
      "Overlap 15: Banda - Batavia "
     ]
    },
    {
     "data": {
      "text/html": [
       "<div class=\"\"><span class=\"tfsechead \"><span class=\"ltr\"><a target=\"_blank\" href=\"http://resources.huygens.knaw.nl/retroboeken/generalemissiven/#page=495&amp;source=4\" title=\"Show this document on Huygens\" sec=\"4 480:1\">4 480:1</a></span></span>  <span class=\"txtu \"><span class=\"structure\"><span class=\"nd\">volume</span> 4, <span class=\"nd\">letter</span> Van Goens, Speelman, Bort, Hurdt, Van Outhoorn, Bent; Batavia, 30 augustus 1681</span></span></div>"
      ],
      "text/plain": [
       "<IPython.core.display.HTML object>"
      ]
     },
     "metadata": {},
     "output_type": "display_data"
    },
    {
     "data": {
      "text/html": [
       "<div class=\"\"><span class=\"tfsechead \"><span class=\"ltr\"><a target=\"_blank\" href=\"http://resources.huygens.knaw.nl/retroboeken/generalemissiven/#page=495&amp;source=4\" title=\"Show this document on Huygens\" sec=\"4 480:9\">4 480:9</a></span></span>  <span class=\"txtu\">Banda </span></div>"
      ],
      "text/plain": [
       "<IPython.core.display.HTML object>"
      ]
     },
     "metadata": {},
     "output_type": "display_data"
    },
    {
     "data": {
      "text/html": [
       "<div class=\"\"><span class=\"tfsechead \"><span class=\"ltr\"><a target=\"_blank\" href=\"http://resources.huygens.knaw.nl/retroboeken/generalemissiven/#page=495&amp;source=4\" title=\"Show this document on Huygens\" sec=\"4 480:9\">4 480:9</a></span></span>  <span class=\"txtu\">Boeginezen </span><span class=\"txtu\">en </span><span class=\"txtu\">Maleiers </span><span class=\"txtu\">op; </span><span class=\"txtu\">in </span><span class=\"txtu\">Banda </span><span class=\"txtu\">zeer </span><span class=\"txtu\">grote </span><span class=\"txtu\">notemuscaatoogst </span><span class=\"txtu\">verwacht; </span><span class=\"txtu\">de </span><span class=\"txtu\">fluit </span></div>"
      ],
      "text/plain": [
       "<IPython.core.display.HTML object>"
      ]
     },
     "metadata": {},
     "output_type": "display_data"
    },
    {
     "data": {
      "text/html": [
       "<div class=\"\"><span class=\"tfsechead \"><span class=\"ltr\"><a target=\"_blank\" href=\"http://resources.huygens.knaw.nl/retroboeken/generalemissiven/#page=495&amp;source=4\" title=\"Show this document on Huygens\" sec=\"4 480:15\">4 480:15</a></span></span>  <span class=\"txtu\">Batavia </span></div>"
      ],
      "text/plain": [
       "<IPython.core.display.HTML object>"
      ]
     },
     "metadata": {},
     "output_type": "display_data"
    },
    {
     "data": {
      "text/html": [
       "<div class=\"\"><span class=\"tfsechead \"><span class=\"ltr\"><a target=\"_blank\" href=\"http://resources.huygens.knaw.nl/retroboeken/generalemissiven/#page=495&amp;source=4\" title=\"Show this document on Huygens\" sec=\"4 480:15\">4 480:15</a></span></span>  <span class=\"txtu\">Batavia </span><span class=\"txtu\">gelegen, </span><span class=\"txtu\">voor </span><span class=\"txtu\">dese </span><span class=\"txtu\">smalle </span><span class=\"txtu\">Tronisch </span><span class=\"txtu\">gebruikt </span><span class=\"txtu\">voor </span><span class=\"txtu\">zeerovers -</span><span class=\"txtu\">kleine -</span><span class=\"txtu\">stijl. </span></div>"
      ],
      "text/plain": [
       "<IPython.core.display.HTML object>"
      ]
     },
     "metadata": {},
     "output_type": "display_data"
    },
    {
     "name": "stdout",
     "output_type": "stream",
     "text": [
      "Overlap 16: Banda - Batavia "
     ]
    },
    {
     "data": {
      "text/html": [
       "<div class=\"\"><span class=\"tfsechead \"><span class=\"ltr\"><a target=\"_blank\" href=\"http://resources.huygens.knaw.nl/retroboeken/generalemissiven/#page=510&amp;source=4\" title=\"Show this document on Huygens\" sec=\"4 495:1\">4 495:1</a></span></span>  <span class=\"txtu \"><span class=\"structure\"><span class=\"nd\">volume</span> 4, <span class=\"nd\">letter</span> Gouverneur-generaal, Raden; Batavia, 12 november 1682</span></span></div>"
      ],
      "text/plain": [
       "<IPython.core.display.HTML object>"
      ]
     },
     "metadata": {},
     "output_type": "display_data"
    },
    {
     "data": {
      "text/html": [
       "<div class=\"\"><span class=\"tfsechead \"><span class=\"ltr\"><a target=\"_blank\" href=\"http://resources.huygens.knaw.nl/retroboeken/generalemissiven/#page=510&amp;source=4\" title=\"Show this document on Huygens\" sec=\"4 495:5\">4 495:5</a></span></span>  <span class=\"txtu\">Banda </span></div>"
      ],
      "text/plain": [
       "<IPython.core.display.HTML object>"
      ]
     },
     "metadata": {},
     "output_type": "display_data"
    },
    {
     "data": {
      "text/html": [
       "<div class=\"\"><span class=\"tfsechead \"><span class=\"ltr\"><a target=\"_blank\" href=\"http://resources.huygens.knaw.nl/retroboeken/generalemissiven/#page=510&amp;source=4\" title=\"Show this document on Huygens\" sec=\"4 495:5\">4 495:5</a></span></span>  <span class=\"txtu\">Vgl. </span><span class=\"txtu\">Daghregisters </span><span class=\"txtu\">1682, </span><span class=\"txtu\">p. </span><span class=\"txtu\">1174-</span><span class=\"txtu\">1303</span><span class=\"txtu\">goede </span><span class=\"txtu\">notenoogst </span><span class=\"txtu\">op </span><span class=\"txtu\">Banda </span><span class=\"txtu\">verwacht; </span></div>"
      ],
      "text/plain": [
       "<IPython.core.display.HTML object>"
      ]
     },
     "metadata": {},
     "output_type": "display_data"
    },
    {
     "data": {
      "text/html": [
       "<div class=\"\"><span class=\"tfsechead \"><span class=\"ltr\"><a target=\"_blank\" href=\"http://resources.huygens.knaw.nl/retroboeken/generalemissiven/#page=510&amp;source=4\" title=\"Show this document on Huygens\" sec=\"4 495:8\">4 495:8</a></span></span>  <span class=\"txtu\">Batavia </span></div>"
      ],
      "text/plain": [
       "<IPython.core.display.HTML object>"
      ]
     },
     "metadata": {},
     "output_type": "display_data"
    },
    {
     "data": {
      "text/html": [
       "<div class=\"\"><span class=\"tfsechead \"><span class=\"ltr\"><a target=\"_blank\" href=\"http://resources.huygens.knaw.nl/retroboeken/generalemissiven/#page=510&amp;source=4\" title=\"Show this document on Huygens\" sec=\"4 495:8\">4 495:8</a></span></span>  <span class=\"txtu\">Zijnde </span><span class=\"txtu\">de </span><span class=\"txtu\">sterkte </span><span class=\"txtu\">der </span><span class=\"txtu\">rebellen </span><span class=\"txtu\">in </span><span class=\"txtu\">de </span><span class=\"txtu\">lantstreeke </span><span class=\"txtu\">van </span><span class=\"txtu\">Tangaran </span><span class=\"txtu\">Tangerang, </span><span class=\"txtu\">plaats </span><span class=\"txtu\">bewesten </span><span class=\"txtu\">Batavia </span><span class=\"txtu\">aan </span><span class=\"txtu\">de </span><span class=\"txtu\">Tjisadane </span><span class=\"txtu\">op </span><span class=\"txtu\">106°38' </span><span class=\"txtu\">O. </span><span class=\"txtu\">L., </span><span class=\"txtu\">ze </span><span class=\"txtu\">werd </span><span class=\"txtu\">in </span></div>"
      ],
      "text/plain": [
       "<IPython.core.display.HTML object>"
      ]
     },
     "metadata": {},
     "output_type": "display_data"
    },
    {
     "name": "stdout",
     "output_type": "stream",
     "text": [
      "Overlap 17: Batavia , - Banda "
     ]
    },
    {
     "data": {
      "text/html": [
       "<div class=\"\"><span class=\"tfsechead \"><span class=\"ltr\"><a target=\"_blank\" href=\"http://resources.huygens.knaw.nl/retroboeken/generalemissiven/#page=275&amp;source=5\" title=\"Show this document on Huygens\" sec=\"5 260:1\">5 260:1</a></span></span>  <span class=\"txtu \"><span class=\"structure\"><span class=\"nd\">volume</span> 5, <span class=\"nd\">letter</span> Camphuys, Van Outhoorn, Pit, Van Hoorn, De Saint-martin, De Beveren; Batavia, 27 februari 1689</span></span></div>"
      ],
      "text/plain": [
       "<IPython.core.display.HTML object>"
      ]
     },
     "metadata": {},
     "output_type": "display_data"
    },
    {
     "data": {
      "text/html": [
       "<div class=\"\"><span class=\"tfsechead \"><span class=\"ltr\"><a target=\"_blank\" href=\"http://resources.huygens.knaw.nl/retroboeken/generalemissiven/#page=275&amp;source=5\" title=\"Show this document on Huygens\" sec=\"5 260:5\">5 260:5</a></span></span>  <span class=\"txtu\">Batavia , </span></div>"
      ],
      "text/plain": [
       "<IPython.core.display.HTML object>"
      ]
     },
     "metadata": {},
     "output_type": "display_data"
    },
    {
     "data": {
      "text/html": [
       "<div class=\"\"><span class=\"tfsechead \"><span class=\"ltr\"><a target=\"_blank\" href=\"http://resources.huygens.knaw.nl/retroboeken/generalemissiven/#page=275&amp;source=5\" title=\"Show this document on Huygens\" sec=\"5 260:5\">5 260:5</a></span></span>  <span class=\"txtu\">De </span><span class=\"txtu\">vorige </span><span class=\"txtu\">retourschepen </span><span class=\"txtu\">vertrokken </span><span class=\"txtu\">25 </span><span class=\"txtu\">dec. </span><span class=\"txtu\">van </span><span class=\"txtu\">Batavia , </span><span class=\"txtu\">3 </span><span class=\"txtu\">jan. </span><span class=\"txtu\">van </span><span class=\"txtu\">voor </span><span class=\"txtu\">Bantam </span></div>"
      ],
      "text/plain": [
       "<IPython.core.display.HTML object>"
      ]
     },
     "metadata": {},
     "output_type": "display_data"
    },
    {
     "data": {
      "text/html": [
       "<div class=\"\"><span class=\"tfsechead \"><span class=\"ltr\"><a target=\"_blank\" href=\"http://resources.huygens.knaw.nl/retroboeken/generalemissiven/#page=275&amp;source=5\" title=\"Show this document on Huygens\" sec=\"5 260:12\">5 260:12</a></span></span>  <span class=\"txtu\">Banda </span></div>"
      ],
      "text/plain": [
       "<IPython.core.display.HTML object>"
      ]
     },
     "metadata": {},
     "output_type": "display_data"
    },
    {
     "data": {
      "text/html": [
       "<div class=\"\"><span class=\"tfsechead \"><span class=\"ltr\"><a target=\"_blank\" href=\"http://resources.huygens.knaw.nl/retroboeken/generalemissiven/#page=275&amp;source=5\" title=\"Show this document on Huygens\" sec=\"5 260:12\">5 260:12</a></span></span>  <span class=\"txtu\">te </span><span class=\"txtu\">Banda </span><span class=\"txtu\">thuis; </span><span class=\"txtu\">De </span><span class=\"txtu\">Haas </span><span class=\"txtu\">werd </span><span class=\"txtu\">benoemd </span><span class=\"txtu\">tot </span><span class=\"txtu\">commissaris </span><span class=\"txtu\">over </span><span class=\"txtu\">de </span><span class=\"txtu\">Ooster </span><span class=\"txtu\">provinciën, </span></div>"
      ],
      "text/plain": [
       "<IPython.core.display.HTML object>"
      ]
     },
     "metadata": {},
     "output_type": "display_data"
    },
    {
     "name": "stdout",
     "output_type": "stream",
     "text": [
      "Overlap 18: Batavia , - Banda "
     ]
    },
    {
     "data": {
      "text/html": [
       "<div class=\"\"><span class=\"tfsechead \"><span class=\"ltr\"><a target=\"_blank\" href=\"http://resources.huygens.knaw.nl/retroboeken/generalemissiven/#page=275&amp;source=5\" title=\"Show this document on Huygens\" sec=\"5 260:1\">5 260:1</a></span></span>  <span class=\"txtu \"><span class=\"structure\"><span class=\"nd\">volume</span> 5, <span class=\"nd\">letter</span> Camphuys, Van Outhoorn, Pit, Van Hoorn, De Saint-martin, De Beveren; Batavia, 27 februari 1689</span></span></div>"
      ],
      "text/plain": [
       "<IPython.core.display.HTML object>"
      ]
     },
     "metadata": {},
     "output_type": "display_data"
    },
    {
     "data": {
      "text/html": [
       "<div class=\"\"><span class=\"tfsechead \"><span class=\"ltr\"><a target=\"_blank\" href=\"http://resources.huygens.knaw.nl/retroboeken/generalemissiven/#page=275&amp;source=5\" title=\"Show this document on Huygens\" sec=\"5 260:5\">5 260:5</a></span></span>  <span class=\"txtu\">Batavia , </span></div>"
      ],
      "text/plain": [
       "<IPython.core.display.HTML object>"
      ]
     },
     "metadata": {},
     "output_type": "display_data"
    },
    {
     "data": {
      "text/html": [
       "<div class=\"\"><span class=\"tfsechead \"><span class=\"ltr\"><a target=\"_blank\" href=\"http://resources.huygens.knaw.nl/retroboeken/generalemissiven/#page=275&amp;source=5\" title=\"Show this document on Huygens\" sec=\"5 260:5\">5 260:5</a></span></span>  <span class=\"txtu\">De </span><span class=\"txtu\">vorige </span><span class=\"txtu\">retourschepen </span><span class=\"txtu\">vertrokken </span><span class=\"txtu\">25 </span><span class=\"txtu\">dec. </span><span class=\"txtu\">van </span><span class=\"txtu\">Batavia , </span><span class=\"txtu\">3 </span><span class=\"txtu\">jan. </span><span class=\"txtu\">van </span><span class=\"txtu\">voor </span><span class=\"txtu\">Bantam </span></div>"
      ],
      "text/plain": [
       "<IPython.core.display.HTML object>"
      ]
     },
     "metadata": {},
     "output_type": "display_data"
    },
    {
     "data": {
      "text/html": [
       "<div class=\"\"><span class=\"tfsechead \"><span class=\"ltr\"><a target=\"_blank\" href=\"http://resources.huygens.knaw.nl/retroboeken/generalemissiven/#page=275&amp;source=5\" title=\"Show this document on Huygens\" sec=\"5 260:20\">5 260:20</a></span></span>  <span class=\"txtu\">Banda </span></div>"
      ],
      "text/plain": [
       "<IPython.core.display.HTML object>"
      ]
     },
     "metadata": {},
     "output_type": "display_data"
    },
    {
     "data": {
      "text/html": [
       "<div class=\"\"><span class=\"tfsechead \"><span class=\"ltr\"><a target=\"_blank\" href=\"http://resources.huygens.knaw.nl/retroboeken/generalemissiven/#page=275&amp;source=5\" title=\"Show this document on Huygens\" sec=\"5 260:20\">5 260:20</a></span></span>  <span class=\"txtu\">te </span><span class=\"txtu\">wesen </span><span class=\"txtu\">ende </span><span class=\"txtu\">van </span><span class=\"txtu\">de </span><span class=\"txtu\">overige </span><span class=\"txtu\">de </span><span class=\"txtu\">helft </span><span class=\"txtu\">na </span><span class=\"txtu\">Amboina </span><span class=\"txtu\">ende </span><span class=\"txtu\">d’andere </span><span class=\"txtu\">helft </span><span class=\"txtu\">na </span><span class=\"txtu\">Banda </span></div>"
      ],
      "text/plain": [
       "<IPython.core.display.HTML object>"
      ]
     },
     "metadata": {},
     "output_type": "display_data"
    },
    {
     "name": "stdout",
     "output_type": "stream",
     "text": [
      "Overlap 19: Banda - Batavia "
     ]
    },
    {
     "data": {
      "text/html": [
       "<div class=\"\"><span class=\"tfsechead \"><span class=\"ltr\"><a target=\"_blank\" href=\"http://resources.huygens.knaw.nl/retroboeken/generalemissiven/#page=275&amp;source=5\" title=\"Show this document on Huygens\" sec=\"5 260:1\">5 260:1</a></span></span>  <span class=\"txtu \"><span class=\"structure\"><span class=\"nd\">volume</span> 5, <span class=\"nd\">letter</span> Camphuys, Van Outhoorn, Pit, Van Hoorn, De Saint-martin, De Beveren; Batavia, 27 februari 1689</span></span></div>"
      ],
      "text/plain": [
       "<IPython.core.display.HTML object>"
      ]
     },
     "metadata": {},
     "output_type": "display_data"
    },
    {
     "data": {
      "text/html": [
       "<div class=\"\"><span class=\"tfsechead \"><span class=\"ltr\"><a target=\"_blank\" href=\"http://resources.huygens.knaw.nl/retroboeken/generalemissiven/#page=275&amp;source=5\" title=\"Show this document on Huygens\" sec=\"5 260:12\">5 260:12</a></span></span>  <span class=\"txtu\">Banda </span></div>"
      ],
      "text/plain": [
       "<IPython.core.display.HTML object>"
      ]
     },
     "metadata": {},
     "output_type": "display_data"
    },
    {
     "data": {
      "text/html": [
       "<div class=\"\"><span class=\"tfsechead \"><span class=\"ltr\"><a target=\"_blank\" href=\"http://resources.huygens.knaw.nl/retroboeken/generalemissiven/#page=275&amp;source=5\" title=\"Show this document on Huygens\" sec=\"5 260:12\">5 260:12</a></span></span>  <span class=\"txtu\">te </span><span class=\"txtu\">Banda </span><span class=\"txtu\">thuis; </span><span class=\"txtu\">De </span><span class=\"txtu\">Haas </span><span class=\"txtu\">werd </span><span class=\"txtu\">benoemd </span><span class=\"txtu\">tot </span><span class=\"txtu\">commissaris </span><span class=\"txtu\">over </span><span class=\"txtu\">de </span><span class=\"txtu\">Ooster </span><span class=\"txtu\">provinciën, </span></div>"
      ],
      "text/plain": [
       "<IPython.core.display.HTML object>"
      ]
     },
     "metadata": {},
     "output_type": "display_data"
    },
    {
     "data": {
      "text/html": [
       "<div class=\"\"><span class=\"tfsechead \"><span class=\"ltr\"><a target=\"_blank\" href=\"http://resources.huygens.knaw.nl/retroboeken/generalemissiven/#page=275&amp;source=5\" title=\"Show this document on Huygens\" sec=\"5 260:24\">5 260:24</a></span></span>  <span class=\"txtu\">Batavia </span></div>"
      ],
      "text/plain": [
       "<IPython.core.display.HTML object>"
      ]
     },
     "metadata": {},
     "output_type": "display_data"
    },
    {
     "data": {
      "text/html": [
       "<div class=\"\"><span class=\"tfsechead \"><span class=\"ltr\"><a target=\"_blank\" href=\"http://resources.huygens.knaw.nl/retroboeken/generalemissiven/#page=275&amp;source=5\" title=\"Show this document on Huygens\" sec=\"5 260:24\">5 260:24</a></span></span>  <span class=\"txtu\">jaren </span><span class=\"txtu\">te </span><span class=\"txtu\">Batavia </span><span class=\"txtu\">al </span><span class=\"txtu\">het </span><span class=\"txtu\">buskruit </span><span class=\"txtu\">voor </span><span class=\"txtu\">de </span><span class=\"txtu\">Specerij -</span><span class=\"txtu\">Eilanden </span><span class=\"txtu\">en </span><span class=\"txtu\">Makassar </span><span class=\"txtu\">te </span><span class=\"txtu\">kunnen </span></div>"
      ],
      "text/plain": [
       "<IPython.core.display.HTML object>"
      ]
     },
     "metadata": {},
     "output_type": "display_data"
    },
    {
     "name": "stdout",
     "output_type": "stream",
     "text": [
      "Overlap 20: Banda - Batavia "
     ]
    },
    {
     "data": {
      "text/html": [
       "<div class=\"\"><span class=\"tfsechead \"><span class=\"ltr\"><a target=\"_blank\" href=\"http://resources.huygens.knaw.nl/retroboeken/generalemissiven/#page=275&amp;source=5\" title=\"Show this document on Huygens\" sec=\"5 260:1\">5 260:1</a></span></span>  <span class=\"txtu \"><span class=\"structure\"><span class=\"nd\">volume</span> 5, <span class=\"nd\">letter</span> Camphuys, Van Outhoorn, Pit, Van Hoorn, De Saint-martin, De Beveren; Batavia, 27 februari 1689</span></span></div>"
      ],
      "text/plain": [
       "<IPython.core.display.HTML object>"
      ]
     },
     "metadata": {},
     "output_type": "display_data"
    },
    {
     "data": {
      "text/html": [
       "<div class=\"\"><span class=\"tfsechead \"><span class=\"ltr\"><a target=\"_blank\" href=\"http://resources.huygens.knaw.nl/retroboeken/generalemissiven/#page=275&amp;source=5\" title=\"Show this document on Huygens\" sec=\"5 260:20\">5 260:20</a></span></span>  <span class=\"txtu\">Banda </span></div>"
      ],
      "text/plain": [
       "<IPython.core.display.HTML object>"
      ]
     },
     "metadata": {},
     "output_type": "display_data"
    },
    {
     "data": {
      "text/html": [
       "<div class=\"\"><span class=\"tfsechead \"><span class=\"ltr\"><a target=\"_blank\" href=\"http://resources.huygens.knaw.nl/retroboeken/generalemissiven/#page=275&amp;source=5\" title=\"Show this document on Huygens\" sec=\"5 260:20\">5 260:20</a></span></span>  <span class=\"txtu\">te </span><span class=\"txtu\">wesen </span><span class=\"txtu\">ende </span><span class=\"txtu\">van </span><span class=\"txtu\">de </span><span class=\"txtu\">overige </span><span class=\"txtu\">de </span><span class=\"txtu\">helft </span><span class=\"txtu\">na </span><span class=\"txtu\">Amboina </span><span class=\"txtu\">ende </span><span class=\"txtu\">d’andere </span><span class=\"txtu\">helft </span><span class=\"txtu\">na </span><span class=\"txtu\">Banda </span></div>"
      ],
      "text/plain": [
       "<IPython.core.display.HTML object>"
      ]
     },
     "metadata": {},
     "output_type": "display_data"
    },
    {
     "data": {
      "text/html": [
       "<div class=\"\"><span class=\"tfsechead \"><span class=\"ltr\"><a target=\"_blank\" href=\"http://resources.huygens.knaw.nl/retroboeken/generalemissiven/#page=275&amp;source=5\" title=\"Show this document on Huygens\" sec=\"5 260:24\">5 260:24</a></span></span>  <span class=\"txtu\">Batavia </span></div>"
      ],
      "text/plain": [
       "<IPython.core.display.HTML object>"
      ]
     },
     "metadata": {},
     "output_type": "display_data"
    },
    {
     "data": {
      "text/html": [
       "<div class=\"\"><span class=\"tfsechead \"><span class=\"ltr\"><a target=\"_blank\" href=\"http://resources.huygens.knaw.nl/retroboeken/generalemissiven/#page=275&amp;source=5\" title=\"Show this document on Huygens\" sec=\"5 260:24\">5 260:24</a></span></span>  <span class=\"txtu\">jaren </span><span class=\"txtu\">te </span><span class=\"txtu\">Batavia </span><span class=\"txtu\">al </span><span class=\"txtu\">het </span><span class=\"txtu\">buskruit </span><span class=\"txtu\">voor </span><span class=\"txtu\">de </span><span class=\"txtu\">Specerij -</span><span class=\"txtu\">Eilanden </span><span class=\"txtu\">en </span><span class=\"txtu\">Makassar </span><span class=\"txtu\">te </span><span class=\"txtu\">kunnen </span></div>"
      ],
      "text/plain": [
       "<IPython.core.display.HTML object>"
      ]
     },
     "metadata": {},
     "output_type": "display_data"
    },
    {
     "name": "stdout",
     "output_type": "stream",
     "text": [
      "Overlap 21: Batavia - Banda, "
     ]
    },
    {
     "data": {
      "text/html": [
       "<div class=\"\"><span class=\"tfsechead \"><span class=\"ltr\"><a target=\"_blank\" href=\"http://resources.huygens.knaw.nl/retroboeken/generalemissiven/#page=311&amp;source=5\" title=\"Show this document on Huygens\" sec=\"5 296:1\">5 296:1</a></span></span>  <span class=\"txtu \"><span class=\"structure\"><span class=\"nd\">volume</span> 5, <span class=\"nd\">letter</span> Camphuys, Van Outhoorn, Pit, Van Hoorn, De Saint-martin, De Beveren, Valckenier; Batavia, 30 december 1689</span></span></div>"
      ],
      "text/plain": [
       "<IPython.core.display.HTML object>"
      ]
     },
     "metadata": {},
     "output_type": "display_data"
    },
    {
     "data": {
      "text/html": [
       "<div class=\"\"><span class=\"tfsechead \"><span class=\"ltr\"><a target=\"_blank\" href=\"http://resources.huygens.knaw.nl/retroboeken/generalemissiven/#page=311&amp;source=5\" title=\"Show this document on Huygens\" sec=\"5 296:10\">5 296:10</a></span></span>  <span class=\"txtu\">Batavia </span></div>"
      ],
      "text/plain": [
       "<IPython.core.display.HTML object>"
      ]
     },
     "metadata": {},
     "output_type": "display_data"
    },
    {
     "data": {
      "text/html": [
       "<div class=\"\"><span class=\"tfsechead \"><span class=\"ltr\"><a target=\"_blank\" href=\"http://resources.huygens.knaw.nl/retroboeken/generalemissiven/#page=311&amp;source=5\" title=\"Show this document on Huygens\" sec=\"5 296:10\">5 296:10</a></span></span>  <span class=\"txtu\">mei </span><span class=\"txtu\">tot </span><span class=\"txtu\">11 </span><span class=\"txtu\">sept. </span><span class=\"txtu\">als </span><span class=\"txtu\">commissaris </span><span class=\"txtu\">naar </span><span class=\"txtu\">Ternate; </span><span class=\"txtu\">het </span><span class=\"txtu\">Huis </span><span class=\"txtu\">te </span><span class=\"txtu\">Spijk </span><span class=\"txtu\">en </span><span class=\"txtu\">het </span><span class=\"txtu\">Kasteel </span><span class=\"txtu\">Batavia </span></div>"
      ],
      "text/plain": [
       "<IPython.core.display.HTML object>"
      ]
     },
     "metadata": {},
     "output_type": "display_data"
    },
    {
     "data": {
      "text/html": [
       "<div class=\"\"><span class=\"tfsechead \"><span class=\"ltr\"><a target=\"_blank\" href=\"http://resources.huygens.knaw.nl/retroboeken/generalemissiven/#page=311&amp;source=5\" title=\"Show this document on Huygens\" sec=\"5 296:18\">5 296:18</a></span></span>  <span class=\"txtu\">Banda, </span></div>"
      ],
      "text/plain": [
       "<IPython.core.display.HTML object>"
      ]
     },
     "metadata": {},
     "output_type": "display_data"
    },
    {
     "data": {
      "text/html": [
       "<div class=\"\"><span class=\"tfsechead \"><span class=\"ltr\"><a target=\"_blank\" href=\"http://resources.huygens.knaw.nl/retroboeken/generalemissiven/#page=311&amp;source=5\" title=\"Show this document on Huygens\" sec=\"5 296:18\">5 296:18</a></span></span>  <span class=\"txtu\">bedunkes, </span><span class=\"txtu\">dat </span><span class=\"txtu\">se </span><span class=\"txtu\">dan </span><span class=\"txtu\">ook </span><span class=\"txtu\">vierden </span><span class=\"txtu\">wederhouden </span><span class=\"txtu\">te </span><span class=\"txtu\">varen </span><span class=\"txtu\">na </span><span class=\"txtu\">Banda, </span><span class=\"txtu\">Ternaten </span><span class=\"txtu\">ende </span></div>"
      ],
      "text/plain": [
       "<IPython.core.display.HTML object>"
      ]
     },
     "metadata": {},
     "output_type": "display_data"
    },
    {
     "name": "stdout",
     "output_type": "stream",
     "text": [
      "Overlap 22: Banda - Batavia "
     ]
    },
    {
     "data": {
      "text/html": [
       "<div class=\"\"><span class=\"tfsechead \"><span class=\"ltr\"><a target=\"_blank\" href=\"http://resources.huygens.knaw.nl/retroboeken/generalemissiven/#page=366&amp;source=5\" title=\"Show this document on Huygens\" sec=\"5 351:1\">5 351:1</a></span></span>  <span class=\"txtu \"><span class=\"structure\"><span class=\"nd\">volume</span> 5, <span class=\"nd\">letter</span> Camphuys, Van Outhoorn, Pit, Van Hoorn, De Saint-martin, De Beveren, Valckenier; Batavia, 14 maart 1690</span></span></div>"
      ],
      "text/plain": [
       "<IPython.core.display.HTML object>"
      ]
     },
     "metadata": {},
     "output_type": "display_data"
    },
    {
     "data": {
      "text/html": [
       "<div class=\"\"><span class=\"tfsechead \"><span class=\"ltr\"><a target=\"_blank\" href=\"http://resources.huygens.knaw.nl/retroboeken/generalemissiven/#page=366&amp;source=5\" title=\"Show this document on Huygens\" sec=\"5 351:7\">5 351:7</a></span></span>  <span class=\"txtu\">Banda </span></div>"
      ],
      "text/plain": [
       "<IPython.core.display.HTML object>"
      ]
     },
     "metadata": {},
     "output_type": "display_data"
    },
    {
     "data": {
      "text/html": [
       "<div class=\"\"><span class=\"tfsechead \"><span class=\"ltr\"><a target=\"_blank\" href=\"http://resources.huygens.knaw.nl/retroboeken/generalemissiven/#page=366&amp;source=5\" title=\"Show this document on Huygens\" sec=\"5 351:7\">5 351:7</a></span></span>  <span class=\"txtu\">eisten </span><span class=\"txtu\">Amboina </span><span class=\"txtu\">en </span><span class=\"txtu\">Banda </span><span class=\"txtu\">geen </span><span class=\"txtu\">rijst, </span><span class=\"txtu\">de </span><span class=\"txtu\">op </span><span class=\"txtu\">Java </span><span class=\"txtu\">ingekochte </span><span class=\"txtu\">kan </span><span class=\"txtu\">te </span><span class=\"txtu\">Batavia </span><span class=\"txtu\">en </span><span class=\"txtu\">op </span></div>"
      ],
      "text/plain": [
       "<IPython.core.display.HTML object>"
      ]
     },
     "metadata": {},
     "output_type": "display_data"
    },
    {
     "data": {
      "text/html": [
       "<div class=\"\"><span class=\"tfsechead \"><span class=\"ltr\"><a target=\"_blank\" href=\"http://resources.huygens.knaw.nl/retroboeken/generalemissiven/#page=366&amp;source=5\" title=\"Show this document on Huygens\" sec=\"5 351:7\">5 351:7</a></span></span>  <span class=\"txtu\">Batavia </span></div>"
      ],
      "text/plain": [
       "<IPython.core.display.HTML object>"
      ]
     },
     "metadata": {},
     "output_type": "display_data"
    },
    {
     "data": {
      "text/html": [
       "<div class=\"\"><span class=\"tfsechead \"><span class=\"ltr\"><a target=\"_blank\" href=\"http://resources.huygens.knaw.nl/retroboeken/generalemissiven/#page=366&amp;source=5\" title=\"Show this document on Huygens\" sec=\"5 351:7\">5 351:7</a></span></span>  <span class=\"txtu\">eisten </span><span class=\"txtu\">Amboina </span><span class=\"txtu\">en </span><span class=\"txtu\">Banda </span><span class=\"txtu\">geen </span><span class=\"txtu\">rijst, </span><span class=\"txtu\">de </span><span class=\"txtu\">op </span><span class=\"txtu\">Java </span><span class=\"txtu\">ingekochte </span><span class=\"txtu\">kan </span><span class=\"txtu\">te </span><span class=\"txtu\">Batavia </span><span class=\"txtu\">en </span><span class=\"txtu\">op </span></div>"
      ],
      "text/plain": [
       "<IPython.core.display.HTML object>"
      ]
     },
     "metadata": {},
     "output_type": "display_data"
    },
    {
     "name": "stdout",
     "output_type": "stream",
     "text": [
      "Overlap 23: Batavia - Banda "
     ]
    },
    {
     "data": {
      "text/html": [
       "<div class=\"\"><span class=\"tfsechead \"><span class=\"ltr\"><a target=\"_blank\" href=\"http://resources.huygens.knaw.nl/retroboeken/generalemissiven/#page=366&amp;source=5\" title=\"Show this document on Huygens\" sec=\"5 351:1\">5 351:1</a></span></span>  <span class=\"txtu \"><span class=\"structure\"><span class=\"nd\">volume</span> 5, <span class=\"nd\">letter</span> Camphuys, Van Outhoorn, Pit, Van Hoorn, De Saint-martin, De Beveren, Valckenier; Batavia, 14 maart 1690</span></span></div>"
      ],
      "text/plain": [
       "<IPython.core.display.HTML object>"
      ]
     },
     "metadata": {},
     "output_type": "display_data"
    },
    {
     "data": {
      "text/html": [
       "<div class=\"\"><span class=\"tfsechead \"><span class=\"ltr\"><a target=\"_blank\" href=\"http://resources.huygens.knaw.nl/retroboeken/generalemissiven/#page=366&amp;source=5\" title=\"Show this document on Huygens\" sec=\"5 351:7\">5 351:7</a></span></span>  <span class=\"txtu\">Batavia </span></div>"
      ],
      "text/plain": [
       "<IPython.core.display.HTML object>"
      ]
     },
     "metadata": {},
     "output_type": "display_data"
    },
    {
     "data": {
      "text/html": [
       "<div class=\"\"><span class=\"tfsechead \"><span class=\"ltr\"><a target=\"_blank\" href=\"http://resources.huygens.knaw.nl/retroboeken/generalemissiven/#page=366&amp;source=5\" title=\"Show this document on Huygens\" sec=\"5 351:7\">5 351:7</a></span></span>  <span class=\"txtu\">eisten </span><span class=\"txtu\">Amboina </span><span class=\"txtu\">en </span><span class=\"txtu\">Banda </span><span class=\"txtu\">geen </span><span class=\"txtu\">rijst, </span><span class=\"txtu\">de </span><span class=\"txtu\">op </span><span class=\"txtu\">Java </span><span class=\"txtu\">ingekochte </span><span class=\"txtu\">kan </span><span class=\"txtu\">te </span><span class=\"txtu\">Batavia </span><span class=\"txtu\">en </span><span class=\"txtu\">op </span></div>"
      ],
      "text/plain": [
       "<IPython.core.display.HTML object>"
      ]
     },
     "metadata": {},
     "output_type": "display_data"
    },
    {
     "data": {
      "text/html": [
       "<div class=\"\"><span class=\"tfsechead \"><span class=\"ltr\"><a target=\"_blank\" href=\"http://resources.huygens.knaw.nl/retroboeken/generalemissiven/#page=366&amp;source=5\" title=\"Show this document on Huygens\" sec=\"5 351:13\">5 351:13</a></span></span>  <span class=\"txtu\">Banda </span></div>"
      ],
      "text/plain": [
       "<IPython.core.display.HTML object>"
      ]
     },
     "metadata": {},
     "output_type": "display_data"
    },
    {
     "data": {
      "text/html": [
       "<div class=\"\"><span class=\"tfsechead \"><span class=\"ltr\"><a target=\"_blank\" href=\"http://resources.huygens.knaw.nl/retroboeken/generalemissiven/#page=366&amp;source=5\" title=\"Show this document on Huygens\" sec=\"5 351:13\">5 351:13</a></span></span>  <span class=\"txtu\">evenals </span><span class=\"txtu\">de </span><span class=\"txtu\">Egmond </span><span class=\"txtu\">en </span><span class=\"txtu\">de </span><span class=\"txtu\">aldaar </span><span class=\"txtu\">reeds </span><span class=\"txtu\">zijnde </span><span class=\"txtu\">Bronsté, </span><span class=\"txtu\">naar </span><span class=\"txtu\">Banda </span><span class=\"txtu\">vertrok </span><span class=\"txtu\">2 </span><span class=\"txtu\">febr. </span></div>"
      ],
      "text/plain": [
       "<IPython.core.display.HTML object>"
      ]
     },
     "metadata": {},
     "output_type": "display_data"
    },
    {
     "name": "stdout",
     "output_type": "stream",
     "text": [
      "Overlap 24: Banda - Batavia "
     ]
    },
    {
     "data": {
      "text/html": [
       "<div class=\"\"><span class=\"tfsechead \"><span class=\"ltr\"><a target=\"_blank\" href=\"http://resources.huygens.knaw.nl/retroboeken/generalemissiven/#page=366&amp;source=5\" title=\"Show this document on Huygens\" sec=\"5 351:1\">5 351:1</a></span></span>  <span class=\"txtu \"><span class=\"structure\"><span class=\"nd\">volume</span> 5, <span class=\"nd\">letter</span> Camphuys, Van Outhoorn, Pit, Van Hoorn, De Saint-martin, De Beveren, Valckenier; Batavia, 14 maart 1690</span></span></div>"
      ],
      "text/plain": [
       "<IPython.core.display.HTML object>"
      ]
     },
     "metadata": {},
     "output_type": "display_data"
    },
    {
     "data": {
      "text/html": [
       "<div class=\"\"><span class=\"tfsechead \"><span class=\"ltr\"><a target=\"_blank\" href=\"http://resources.huygens.knaw.nl/retroboeken/generalemissiven/#page=366&amp;source=5\" title=\"Show this document on Huygens\" sec=\"5 351:7\">5 351:7</a></span></span>  <span class=\"txtu\">Banda </span></div>"
      ],
      "text/plain": [
       "<IPython.core.display.HTML object>"
      ]
     },
     "metadata": {},
     "output_type": "display_data"
    },
    {
     "data": {
      "text/html": [
       "<div class=\"\"><span class=\"tfsechead \"><span class=\"ltr\"><a target=\"_blank\" href=\"http://resources.huygens.knaw.nl/retroboeken/generalemissiven/#page=366&amp;source=5\" title=\"Show this document on Huygens\" sec=\"5 351:7\">5 351:7</a></span></span>  <span class=\"txtu\">eisten </span><span class=\"txtu\">Amboina </span><span class=\"txtu\">en </span><span class=\"txtu\">Banda </span><span class=\"txtu\">geen </span><span class=\"txtu\">rijst, </span><span class=\"txtu\">de </span><span class=\"txtu\">op </span><span class=\"txtu\">Java </span><span class=\"txtu\">ingekochte </span><span class=\"txtu\">kan </span><span class=\"txtu\">te </span><span class=\"txtu\">Batavia </span><span class=\"txtu\">en </span><span class=\"txtu\">op </span></div>"
      ],
      "text/plain": [
       "<IPython.core.display.HTML object>"
      ]
     },
     "metadata": {},
     "output_type": "display_data"
    },
    {
     "data": {
      "text/html": [
       "<div class=\"\"><span class=\"tfsechead \"><span class=\"ltr\"><a target=\"_blank\" href=\"http://resources.huygens.knaw.nl/retroboeken/generalemissiven/#page=366&amp;source=5\" title=\"Show this document on Huygens\" sec=\"5 351:10\">5 351:10</a></span></span>  <span class=\"txtu\">Batavia </span></div>"
      ],
      "text/plain": [
       "<IPython.core.display.HTML object>"
      ]
     },
     "metadata": {},
     "output_type": "display_data"
    },
    {
     "data": {
      "text/html": [
       "<div class=\"\"><span class=\"tfsechead \"><span class=\"ltr\"><a target=\"_blank\" href=\"http://resources.huygens.knaw.nl/retroboeken/generalemissiven/#page=366&amp;source=5\" title=\"Show this document on Huygens\" sec=\"5 351:10\">5 351:10</a></span></span>  <span class=\"txtu\">Bantam </span><span class=\"txtu\">van </span><span class=\"txtu\">Batavia </span><span class=\"txtu\">vertrok </span><span class=\"txtu\">met </span><span class=\"txtu\">carg. </span><span class=\"txtu\">van </span><span class=\"txtu\">f. </span><span class=\"txtu\">157676, </span><span class=\"txtu\">15 </span><span class=\"txtu\">febr. </span><span class=\"txtu\">de </span><span class=\"txtu\">Tarnen </span><span class=\"txtu\">met </span><span class=\"txtu\">de </span></div>"
      ],
      "text/plain": [
       "<IPython.core.display.HTML object>"
      ]
     },
     "metadata": {},
     "output_type": "display_data"
    },
    {
     "name": "stdout",
     "output_type": "stream",
     "text": [
      "Overlap 25: Batavia - Banda "
     ]
    },
    {
     "data": {
      "text/html": [
       "<div class=\"\"><span class=\"tfsechead \"><span class=\"ltr\"><a target=\"_blank\" href=\"http://resources.huygens.knaw.nl/retroboeken/generalemissiven/#page=366&amp;source=5\" title=\"Show this document on Huygens\" sec=\"5 351:1\">5 351:1</a></span></span>  <span class=\"txtu \"><span class=\"structure\"><span class=\"nd\">volume</span> 5, <span class=\"nd\">letter</span> Camphuys, Van Outhoorn, Pit, Van Hoorn, De Saint-martin, De Beveren, Valckenier; Batavia, 14 maart 1690</span></span></div>"
      ],
      "text/plain": [
       "<IPython.core.display.HTML object>"
      ]
     },
     "metadata": {},
     "output_type": "display_data"
    },
    {
     "data": {
      "text/html": [
       "<div class=\"\"><span class=\"tfsechead \"><span class=\"ltr\"><a target=\"_blank\" href=\"http://resources.huygens.knaw.nl/retroboeken/generalemissiven/#page=366&amp;source=5\" title=\"Show this document on Huygens\" sec=\"5 351:10\">5 351:10</a></span></span>  <span class=\"txtu\">Batavia </span></div>"
      ],
      "text/plain": [
       "<IPython.core.display.HTML object>"
      ]
     },
     "metadata": {},
     "output_type": "display_data"
    },
    {
     "data": {
      "text/html": [
       "<div class=\"\"><span class=\"tfsechead \"><span class=\"ltr\"><a target=\"_blank\" href=\"http://resources.huygens.knaw.nl/retroboeken/generalemissiven/#page=366&amp;source=5\" title=\"Show this document on Huygens\" sec=\"5 351:10\">5 351:10</a></span></span>  <span class=\"txtu\">Bantam </span><span class=\"txtu\">van </span><span class=\"txtu\">Batavia </span><span class=\"txtu\">vertrok </span><span class=\"txtu\">met </span><span class=\"txtu\">carg. </span><span class=\"txtu\">van </span><span class=\"txtu\">f. </span><span class=\"txtu\">157676, </span><span class=\"txtu\">15 </span><span class=\"txtu\">febr. </span><span class=\"txtu\">de </span><span class=\"txtu\">Tarnen </span><span class=\"txtu\">met </span><span class=\"txtu\">de </span></div>"
      ],
      "text/plain": [
       "<IPython.core.display.HTML object>"
      ]
     },
     "metadata": {},
     "output_type": "display_data"
    },
    {
     "data": {
      "text/html": [
       "<div class=\"\"><span class=\"tfsechead \"><span class=\"ltr\"><a target=\"_blank\" href=\"http://resources.huygens.knaw.nl/retroboeken/generalemissiven/#page=366&amp;source=5\" title=\"Show this document on Huygens\" sec=\"5 351:13\">5 351:13</a></span></span>  <span class=\"txtu\">Banda </span></div>"
      ],
      "text/plain": [
       "<IPython.core.display.HTML object>"
      ]
     },
     "metadata": {},
     "output_type": "display_data"
    },
    {
     "data": {
      "text/html": [
       "<div class=\"\"><span class=\"tfsechead \"><span class=\"ltr\"><a target=\"_blank\" href=\"http://resources.huygens.knaw.nl/retroboeken/generalemissiven/#page=366&amp;source=5\" title=\"Show this document on Huygens\" sec=\"5 351:13\">5 351:13</a></span></span>  <span class=\"txtu\">evenals </span><span class=\"txtu\">de </span><span class=\"txtu\">Egmond </span><span class=\"txtu\">en </span><span class=\"txtu\">de </span><span class=\"txtu\">aldaar </span><span class=\"txtu\">reeds </span><span class=\"txtu\">zijnde </span><span class=\"txtu\">Bronsté, </span><span class=\"txtu\">naar </span><span class=\"txtu\">Banda </span><span class=\"txtu\">vertrok </span><span class=\"txtu\">2 </span><span class=\"txtu\">febr. </span></div>"
      ],
      "text/plain": [
       "<IPython.core.display.HTML object>"
      ]
     },
     "metadata": {},
     "output_type": "display_data"
    },
    {
     "name": "stdout",
     "output_type": "stream",
     "text": [
      "Overlap 26: Batavia - Banda "
     ]
    },
    {
     "data": {
      "text/html": [
       "<div class=\"\"><span class=\"tfsechead \"><span class=\"ltr\"><a target=\"_blank\" href=\"http://resources.huygens.knaw.nl/retroboeken/generalemissiven/#page=508&amp;source=5\" title=\"Show this document on Huygens\" sec=\"5 493:1\">5 493:1</a></span></span>  <span class=\"txtu \"><span class=\"structure\"><span class=\"nd\">volume</span> 5, <span class=\"nd\">letter</span> Van Outhoorn, Van Hoorn, Pijl, De Saint-martin, De Haas, Valckenier, Van Riebeeck, Bornezee, Lycochthon; Batavia, 24 maart 1692</span></span></div>"
      ],
      "text/plain": [
       "<IPython.core.display.HTML object>"
      ]
     },
     "metadata": {},
     "output_type": "display_data"
    },
    {
     "data": {
      "text/html": [
       "<div class=\"\"><span class=\"tfsechead \"><span class=\"ltr\"><a target=\"_blank\" href=\"http://resources.huygens.knaw.nl/retroboeken/generalemissiven/#page=508&amp;source=5\" title=\"Show this document on Huygens\" sec=\"5 493:4\">5 493:4</a></span></span>  <span class=\"txtu\">Batavia </span></div>"
      ],
      "text/plain": [
       "<IPython.core.display.HTML object>"
      ]
     },
     "metadata": {},
     "output_type": "display_data"
    },
    {
     "data": {
      "text/html": [
       "<div class=\"\"><span class=\"tfsechead \"><span class=\"ltr\"><a target=\"_blank\" href=\"http://resources.huygens.knaw.nl/retroboeken/generalemissiven/#page=508&amp;source=5\" title=\"Show this document on Huygens\" sec=\"5 493:4\">5 493:4</a></span></span>  <span class=\"txtu\">LYCOCHTHON, </span><span class=\"txtu\">Batavia </span><span class=\"txtu\">24 </span><span class=\"txtu\">maart </span><span class=\"txtu\">1692. </span></div>"
      ],
      "text/plain": [
       "<IPython.core.display.HTML object>"
      ]
     },
     "metadata": {},
     "output_type": "display_data"
    },
    {
     "data": {
      "text/html": [
       "<div class=\"\"><span class=\"tfsechead \"><span class=\"ltr\"><a target=\"_blank\" href=\"http://resources.huygens.knaw.nl/retroboeken/generalemissiven/#page=508&amp;source=5\" title=\"Show this document on Huygens\" sec=\"5 493:11\">5 493:11</a></span></span>  <span class=\"txtu\">Banda </span></div>"
      ],
      "text/plain": [
       "<IPython.core.display.HTML object>"
      ]
     },
     "metadata": {},
     "output_type": "display_data"
    },
    {
     "data": {
      "text/html": [
       "<div class=\"\"><span class=\"tfsechead \"><span class=\"ltr\"><a target=\"_blank\" href=\"http://resources.huygens.knaw.nl/retroboeken/generalemissiven/#page=508&amp;source=5\" title=\"Show this document on Huygens\" sec=\"5 493:11\">5 493:11</a></span></span>  <span class=\"txtu\">14 </span><span class=\"txtu\">febr. </span><span class=\"txtu\">en </span><span class=\"txtu\">de </span><span class=\"txtu\">Walenburg </span><span class=\"txtu\">25 </span><span class=\"txtu\">febr. </span><span class=\"txtu\">naar </span><span class=\"txtu\">Amboina, </span><span class=\"txtu\">met </span><span class=\"txtu\">de </span><span class=\"txtu\">via </span><span class=\"txtu\">Banda </span><span class=\"txtu\">vertrokken </span></div>"
      ],
      "text/plain": [
       "<IPython.core.display.HTML object>"
      ]
     },
     "metadata": {},
     "output_type": "display_data"
    },
    {
     "name": "stdout",
     "output_type": "stream",
     "text": [
      "Overlap 27: Batavia - Banda "
     ]
    },
    {
     "data": {
      "text/html": [
       "<div class=\"\"><span class=\"tfsechead \"><span class=\"ltr\"><a target=\"_blank\" href=\"http://resources.huygens.knaw.nl/retroboeken/generalemissiven/#page=523&amp;source=5\" title=\"Show this document on Huygens\" sec=\"5 508:1\">5 508:1</a></span></span>  <span class=\"txtu \"><span class=\"structure\"><span class=\"nd\">volume</span> 5, <span class=\"nd\">letter</span> Van Outhoorn, Van Hoorn, Pijl, De Saint-martin, De Haas, Van Leene, Valckenier, Van Riebeeck, Bornezee, Lycochthon; Batavia, 11 december 1692</span></span></div>"
      ],
      "text/plain": [
       "<IPython.core.display.HTML object>"
      ]
     },
     "metadata": {},
     "output_type": "display_data"
    },
    {
     "data": {
      "text/html": [
       "<div class=\"\"><span class=\"tfsechead \"><span class=\"ltr\"><a target=\"_blank\" href=\"http://resources.huygens.knaw.nl/retroboeken/generalemissiven/#page=523&amp;source=5\" title=\"Show this document on Huygens\" sec=\"5 508:16\">5 508:16</a></span></span>  <span class=\"txtu\">Batavia </span></div>"
      ],
      "text/plain": [
       "<IPython.core.display.HTML object>"
      ]
     },
     "metadata": {},
     "output_type": "display_data"
    },
    {
     "data": {
      "text/html": [
       "<div class=\"\"><span class=\"tfsechead \"><span class=\"ltr\"><a target=\"_blank\" href=\"http://resources.huygens.knaw.nl/retroboeken/generalemissiven/#page=523&amp;source=5\" title=\"Show this document on Huygens\" sec=\"5 508:16\">5 508:16</a></span></span>  <span class=\"txtu\">te </span><span class=\"txtu\">Batavia </span><span class=\"txtu\">15 </span><span class=\"txtu\">aug. </span><span class=\"txtu\">de </span><span class=\"txtu\">Borsenburg, </span><span class=\"txtu\">18 </span><span class=\"txtu\">sept. </span><span class=\"txtu\">de </span><span class=\"txtu\">Princenland, </span><span class=\"txtu\">Isselt </span><span class=\"txtu\">en </span><span class=\"txtu\">Reygersdael, </span></div>"
      ],
      "text/plain": [
       "<IPython.core.display.HTML object>"
      ]
     },
     "metadata": {},
     "output_type": "display_data"
    },
    {
     "data": {
      "text/html": [
       "<div class=\"\"><span class=\"tfsechead \"><span class=\"ltr\"><a target=\"_blank\" href=\"http://resources.huygens.knaw.nl/retroboeken/generalemissiven/#page=523&amp;source=5\" title=\"Show this document on Huygens\" sec=\"5 508:20\">5 508:20</a></span></span>  <span class=\"txtu\">Banda </span></div>"
      ],
      "text/plain": [
       "<IPython.core.display.HTML object>"
      ]
     },
     "metadata": {},
     "output_type": "display_data"
    },
    {
     "data": {
      "text/html": [
       "<div class=\"\"><span class=\"tfsechead \"><span class=\"ltr\"><a target=\"_blank\" href=\"http://resources.huygens.knaw.nl/retroboeken/generalemissiven/#page=523&amp;source=5\" title=\"Show this document on Huygens\" sec=\"5 508:20\">5 508:20</a></span></span>  <span class=\"txtu\">de </span><span class=\"txtu\">Cronenburg, </span><span class=\"txtu\">3 </span><span class=\"txtu\">aug. </span><span class=\"txtu\">de </span><span class=\"txtu\">Zwarte </span><span class=\"txtu\">Arend, </span><span class=\"txtu\">die </span><span class=\"txtu\">Banda </span><span class=\"txtu\">niet </span><span class=\"txtu\">had </span><span class=\"txtu\">kunnen </span><span class=\"txtu\">bereiken </span><span class=\"txtu\">en </span></div>"
      ],
      "text/plain": [
       "<IPython.core.display.HTML object>"
      ]
     },
     "metadata": {},
     "output_type": "display_data"
    },
    {
     "name": "stdout",
     "output_type": "stream",
     "text": [
      "Overlap 28: Batavia, - Banda "
     ]
    },
    {
     "data": {
      "text/html": [
       "<div class=\"\"><span class=\"tfsechead \"><span class=\"ltr\"><a target=\"_blank\" href=\"http://resources.huygens.knaw.nl/retroboeken/generalemissiven/#page=582&amp;source=5\" title=\"Show this document on Huygens\" sec=\"5 567:1\">5 567:1</a></span></span>  <span class=\"txtu \"><span class=\"structure\"><span class=\"nd\">volume</span> 5, <span class=\"nd\">letter</span> Van Outhoorn, Van Hoorn, Pijl, De Saint-martin, De Haas, Van Leene, Valckenier, Van Riebeeck, Bornezee, Lycochthon; Batavia, 9 februari 1693</span></span></div>"
      ],
      "text/plain": [
       "<IPython.core.display.HTML object>"
      ]
     },
     "metadata": {},
     "output_type": "display_data"
    },
    {
     "data": {
      "text/html": [
       "<div class=\"\"><span class=\"tfsechead \"><span class=\"ltr\"><a target=\"_blank\" href=\"http://resources.huygens.knaw.nl/retroboeken/generalemissiven/#page=582&amp;source=5\" title=\"Show this document on Huygens\" sec=\"5 567:4\">5 567:4</a></span></span>  <span class=\"txtu\">Batavia, </span></div>"
      ],
      "text/plain": [
       "<IPython.core.display.HTML object>"
      ]
     },
     "metadata": {},
     "output_type": "display_data"
    },
    {
     "data": {
      "text/html": [
       "<div class=\"\"><span class=\"tfsechead \"><span class=\"ltr\"><a target=\"_blank\" href=\"http://resources.huygens.knaw.nl/retroboeken/generalemissiven/#page=582&amp;source=5\" title=\"Show this document on Huygens\" sec=\"5 567:4\">5 567:4</a></span></span>  <span class=\"txtu\">WYBRAND </span><span class=\"txtu\">LYCOCHTHON, </span><span class=\"txtu\">Batavia, </span><span class=\"txtu\">9 </span><span class=\"txtu\">februari </span><span class=\"txtu\">1693. </span></div>"
      ],
      "text/plain": [
       "<IPython.core.display.HTML object>"
      ]
     },
     "metadata": {},
     "output_type": "display_data"
    },
    {
     "data": {
      "text/html": [
       "<div class=\"\"><span class=\"tfsechead \"><span class=\"ltr\"><a target=\"_blank\" href=\"http://resources.huygens.knaw.nl/retroboeken/generalemissiven/#page=582&amp;source=5\" title=\"Show this document on Huygens\" sec=\"5 567:13\">5 567:13</a></span></span>  <span class=\"txtu\">Banda </span></div>"
      ],
      "text/plain": [
       "<IPython.core.display.HTML object>"
      ]
     },
     "metadata": {},
     "output_type": "display_data"
    },
    {
     "data": {
      "text/html": [
       "<div class=\"\"><span class=\"tfsechead \"><span class=\"ltr\"><a target=\"_blank\" href=\"http://resources.huygens.knaw.nl/retroboeken/generalemissiven/#page=582&amp;source=5\" title=\"Show this document on Huygens\" sec=\"5 567:13\">5 567:13</a></span></span>  <span class=\"txtu\">de </span><span class=\"txtu\">borgersvaert </span><span class=\"txtu\">tusschen </span><span class=\"txtu\">Batavia </span><span class=\"txtu\">ende </span><span class=\"txtu\">Amboina, </span><span class=\"txtu\">Banda </span><span class=\"txtu\">enTernaten, </span></div>"
      ],
      "text/plain": [
       "<IPython.core.display.HTML object>"
      ]
     },
     "metadata": {},
     "output_type": "display_data"
    },
    {
     "name": "stdout",
     "output_type": "stream",
     "text": [
      "Overlap 29: Batavia - Banda "
     ]
    },
    {
     "data": {
      "text/html": [
       "<div class=\"\"><span class=\"tfsechead \"><span class=\"ltr\"><a target=\"_blank\" href=\"http://resources.huygens.knaw.nl/retroboeken/generalemissiven/#page=582&amp;source=5\" title=\"Show this document on Huygens\" sec=\"5 567:1\">5 567:1</a></span></span>  <span class=\"txtu \"><span class=\"structure\"><span class=\"nd\">volume</span> 5, <span class=\"nd\">letter</span> Van Outhoorn, Van Hoorn, Pijl, De Saint-martin, De Haas, Van Leene, Valckenier, Van Riebeeck, Bornezee, Lycochthon; Batavia, 9 februari 1693</span></span></div>"
      ],
      "text/plain": [
       "<IPython.core.display.HTML object>"
      ]
     },
     "metadata": {},
     "output_type": "display_data"
    },
    {
     "data": {
      "text/html": [
       "<div class=\"\"><span class=\"tfsechead \"><span class=\"ltr\"><a target=\"_blank\" href=\"http://resources.huygens.knaw.nl/retroboeken/generalemissiven/#page=582&amp;source=5\" title=\"Show this document on Huygens\" sec=\"5 567:13\">5 567:13</a></span></span>  <span class=\"txtu\">Batavia </span></div>"
      ],
      "text/plain": [
       "<IPython.core.display.HTML object>"
      ]
     },
     "metadata": {},
     "output_type": "display_data"
    },
    {
     "data": {
      "text/html": [
       "<div class=\"\"><span class=\"tfsechead \"><span class=\"ltr\"><a target=\"_blank\" href=\"http://resources.huygens.knaw.nl/retroboeken/generalemissiven/#page=582&amp;source=5\" title=\"Show this document on Huygens\" sec=\"5 567:13\">5 567:13</a></span></span>  <span class=\"txtu\">de </span><span class=\"txtu\">borgersvaert </span><span class=\"txtu\">tusschen </span><span class=\"txtu\">Batavia </span><span class=\"txtu\">ende </span><span class=\"txtu\">Amboina, </span><span class=\"txtu\">Banda </span><span class=\"txtu\">enTernaten, </span></div>"
      ],
      "text/plain": [
       "<IPython.core.display.HTML object>"
      ]
     },
     "metadata": {},
     "output_type": "display_data"
    },
    {
     "data": {
      "text/html": [
       "<div class=\"\"><span class=\"tfsechead \"><span class=\"ltr\"><a target=\"_blank\" href=\"http://resources.huygens.knaw.nl/retroboeken/generalemissiven/#page=582&amp;source=5\" title=\"Show this document on Huygens\" sec=\"5 567:13\">5 567:13</a></span></span>  <span class=\"txtu\">Banda </span></div>"
      ],
      "text/plain": [
       "<IPython.core.display.HTML object>"
      ]
     },
     "metadata": {},
     "output_type": "display_data"
    },
    {
     "data": {
      "text/html": [
       "<div class=\"\"><span class=\"tfsechead \"><span class=\"ltr\"><a target=\"_blank\" href=\"http://resources.huygens.knaw.nl/retroboeken/generalemissiven/#page=582&amp;source=5\" title=\"Show this document on Huygens\" sec=\"5 567:13\">5 567:13</a></span></span>  <span class=\"txtu\">de </span><span class=\"txtu\">borgersvaert </span><span class=\"txtu\">tusschen </span><span class=\"txtu\">Batavia </span><span class=\"txtu\">ende </span><span class=\"txtu\">Amboina, </span><span class=\"txtu\">Banda </span><span class=\"txtu\">enTernaten, </span></div>"
      ],
      "text/plain": [
       "<IPython.core.display.HTML object>"
      ]
     },
     "metadata": {},
     "output_type": "display_data"
    },
    {
     "name": "stdout",
     "output_type": "stream",
     "text": [
      "Overlap 30: Banda - Batavia "
     ]
    },
    {
     "data": {
      "text/html": [
       "<div class=\"\"><span class=\"tfsechead \"><span class=\"ltr\"><a target=\"_blank\" href=\"http://resources.huygens.knaw.nl/retroboeken/generalemissiven/#page=582&amp;source=5\" title=\"Show this document on Huygens\" sec=\"5 567:1\">5 567:1</a></span></span>  <span class=\"txtu \"><span class=\"structure\"><span class=\"nd\">volume</span> 5, <span class=\"nd\">letter</span> Van Outhoorn, Van Hoorn, Pijl, De Saint-martin, De Haas, Van Leene, Valckenier, Van Riebeeck, Bornezee, Lycochthon; Batavia, 9 februari 1693</span></span></div>"
      ],
      "text/plain": [
       "<IPython.core.display.HTML object>"
      ]
     },
     "metadata": {},
     "output_type": "display_data"
    },
    {
     "data": {
      "text/html": [
       "<div class=\"\"><span class=\"tfsechead \"><span class=\"ltr\"><a target=\"_blank\" href=\"http://resources.huygens.knaw.nl/retroboeken/generalemissiven/#page=582&amp;source=5\" title=\"Show this document on Huygens\" sec=\"5 567:13\">5 567:13</a></span></span>  <span class=\"txtu\">Banda </span></div>"
      ],
      "text/plain": [
       "<IPython.core.display.HTML object>"
      ]
     },
     "metadata": {},
     "output_type": "display_data"
    },
    {
     "data": {
      "text/html": [
       "<div class=\"\"><span class=\"tfsechead \"><span class=\"ltr\"><a target=\"_blank\" href=\"http://resources.huygens.knaw.nl/retroboeken/generalemissiven/#page=582&amp;source=5\" title=\"Show this document on Huygens\" sec=\"5 567:13\">5 567:13</a></span></span>  <span class=\"txtu\">de </span><span class=\"txtu\">borgersvaert </span><span class=\"txtu\">tusschen </span><span class=\"txtu\">Batavia </span><span class=\"txtu\">ende </span><span class=\"txtu\">Amboina, </span><span class=\"txtu\">Banda </span><span class=\"txtu\">enTernaten, </span></div>"
      ],
      "text/plain": [
       "<IPython.core.display.HTML object>"
      ]
     },
     "metadata": {},
     "output_type": "display_data"
    },
    {
     "data": {
      "text/html": [
       "<div class=\"\"><span class=\"tfsechead \"><span class=\"ltr\"><a target=\"_blank\" href=\"http://resources.huygens.knaw.nl/retroboeken/generalemissiven/#page=582&amp;source=5\" title=\"Show this document on Huygens\" sec=\"5 567:18\">5 567:18</a></span></span>  <span class=\"txtu\">Batavia </span></div>"
      ],
      "text/plain": [
       "<IPython.core.display.HTML object>"
      ]
     },
     "metadata": {},
     "output_type": "display_data"
    },
    {
     "data": {
      "text/html": [
       "<div class=\"\"><span class=\"tfsechead \"><span class=\"ltr\"><a target=\"_blank\" href=\"http://resources.huygens.knaw.nl/retroboeken/generalemissiven/#page=582&amp;source=5\" title=\"Show this document on Huygens\" sec=\"5 567:18\">5 567:18</a></span></span>  <span class=\"txtu\">der </span><span class=\"txtu\">Batavise </span><span class=\"txtu\">soude </span><span class=\"txtu\">konnen </span><span class=\"txtu\">toestaan </span><span class=\"txtu\">directelijk </span><span class=\"txtu\">na </span><span class=\"txtu\">Batavia </span><span class=\"txtu\">met </span><span class=\"txtu\">vaartuygen </span><span class=\"txtu\">van </span></div>"
      ],
      "text/plain": [
       "<IPython.core.display.HTML object>"
      ]
     },
     "metadata": {},
     "output_type": "display_data"
    },
    {
     "name": "stdout",
     "output_type": "stream",
     "text": [
      "Overlap 31: Batavia - Banda "
     ]
    },
    {
     "data": {
      "text/html": [
       "<div class=\"\"><span class=\"tfsechead \"><span class=\"ltr\"><a target=\"_blank\" href=\"http://resources.huygens.knaw.nl/retroboeken/generalemissiven/#page=614&amp;source=5\" title=\"Show this document on Huygens\" sec=\"5 599:1\">5 599:1</a></span></span>  <span class=\"txtu \"><span class=\"structure\"><span class=\"nd\">volume</span> 5, <span class=\"nd\">letter</span> Van Outhoorn, Van Hoorn, Pijl, De Saint-martin, De Haas, Van Riebeeck, Van Leene, Valckenier, Bornezee, Lycochthon, Nieustadt; Batavia, 14 maart 1693</span></span></div>"
      ],
      "text/plain": [
       "<IPython.core.display.HTML object>"
      ]
     },
     "metadata": {},
     "output_type": "display_data"
    },
    {
     "data": {
      "text/html": [
       "<div class=\"\"><span class=\"tfsechead \"><span class=\"ltr\"><a target=\"_blank\" href=\"http://resources.huygens.knaw.nl/retroboeken/generalemissiven/#page=614&amp;source=5\" title=\"Show this document on Huygens\" sec=\"5 599:4\">5 599:4</a></span></span>  <span class=\"txtu\">Batavia </span></div>"
      ],
      "text/plain": [
       "<IPython.core.display.HTML object>"
      ]
     },
     "metadata": {},
     "output_type": "display_data"
    },
    {
     "data": {
      "text/html": [
       "<div class=\"\"><span class=\"tfsechead \"><span class=\"ltr\"><a target=\"_blank\" href=\"http://resources.huygens.knaw.nl/retroboeken/generalemissiven/#page=614&amp;source=5\" title=\"Show this document on Huygens\" sec=\"5 599:4\">5 599:4</a></span></span>  <span class=\"txtu\">WIJBRAND </span><span class=\"txtu\">LYCOCHTHON </span><span class=\"txtu\">en </span><span class=\"txtu\">JOACHIM </span><span class=\"txtu\">NIEUSTADT, </span><span class=\"txtu\">Batavia </span></div>"
      ],
      "text/plain": [
       "<IPython.core.display.HTML object>"
      ]
     },
     "metadata": {},
     "output_type": "display_data"
    },
    {
     "data": {
      "text/html": [
       "<div class=\"\"><span class=\"tfsechead \"><span class=\"ltr\"><a target=\"_blank\" href=\"http://resources.huygens.knaw.nl/retroboeken/generalemissiven/#page=614&amp;source=5\" title=\"Show this document on Huygens\" sec=\"5 599:21\">5 599:21</a></span></span>  <span class=\"txtu\">Banda </span></div>"
      ],
      "text/plain": [
       "<IPython.core.display.HTML object>"
      ]
     },
     "metadata": {},
     "output_type": "display_data"
    },
    {
     "data": {
      "text/html": [
       "<div class=\"\"><span class=\"tfsechead \"><span class=\"ltr\"><a target=\"_blank\" href=\"http://resources.huygens.knaw.nl/retroboeken/generalemissiven/#page=614&amp;source=5\" title=\"Show this document on Huygens\" sec=\"5 599:21\">5 599:21</a></span></span>  <span class=\"txtu\">van </span><span class=\"txtu\">Banda </span><span class=\"txtu\">verlost </span><span class=\"txtu\">worden, </span><span class=\"txtu\">hij </span><span class=\"txtu\">moet </span><span class=\"txtu\">in </span><span class=\"txtu\">die </span><span class=\"txtu\">tijd </span><span class=\"txtu\">weer </span><span class=\"txtu\">herstellen, </span><span class=\"txtu\">wat </span><span class=\"txtu\">wijlen </span><span class=\"txtu\">Bastingh </span><span class=\"txtu\">en </span></div>"
      ],
      "text/plain": [
       "<IPython.core.display.HTML object>"
      ]
     },
     "metadata": {},
     "output_type": "display_data"
    },
    {
     "name": "stdout",
     "output_type": "stream",
     "text": [
      "Overlap 32: Batavia - Banda "
     ]
    },
    {
     "data": {
      "text/html": [
       "<div class=\"\"><span class=\"tfsechead \"><span class=\"ltr\"><a target=\"_blank\" href=\"http://resources.huygens.knaw.nl/retroboeken/generalemissiven/#page=614&amp;source=5\" title=\"Show this document on Huygens\" sec=\"5 599:1\">5 599:1</a></span></span>  <span class=\"txtu \"><span class=\"structure\"><span class=\"nd\">volume</span> 5, <span class=\"nd\">letter</span> Van Outhoorn, Van Hoorn, Pijl, De Saint-martin, De Haas, Van Riebeeck, Van Leene, Valckenier, Bornezee, Lycochthon, Nieustadt; Batavia, 14 maart 1693</span></span></div>"
      ],
      "text/plain": [
       "<IPython.core.display.HTML object>"
      ]
     },
     "metadata": {},
     "output_type": "display_data"
    },
    {
     "data": {
      "text/html": [
       "<div class=\"\"><span class=\"tfsechead \"><span class=\"ltr\"><a target=\"_blank\" href=\"http://resources.huygens.knaw.nl/retroboeken/generalemissiven/#page=614&amp;source=5\" title=\"Show this document on Huygens\" sec=\"5 599:17\">5 599:17</a></span></span>  <span class=\"txtu\">Batavia </span></div>"
      ],
      "text/plain": [
       "<IPython.core.display.HTML object>"
      ]
     },
     "metadata": {},
     "output_type": "display_data"
    },
    {
     "data": {
      "text/html": [
       "<div class=\"\"><span class=\"tfsechead \"><span class=\"ltr\"><a target=\"_blank\" href=\"http://resources.huygens.knaw.nl/retroboeken/generalemissiven/#page=614&amp;source=5\" title=\"Show this document on Huygens\" sec=\"5 599:17\">5 599:17</a></span></span>  <span class=\"txtu\">warden </span><span class=\"txtu\">ze </span><span class=\"txtu\">te </span><span class=\"txtu\">Batavia </span><span class=\"txtu\">tegen </span><span class=\"txtu\">63 </span><span class=\"txtu\">zware </span><span class=\"txtu\">stuivers </span><span class=\"txtu\">uitgegeven, </span><span class=\"txtu\">dan </span><span class=\"txtu\">worden </span><span class=\"txtu\">ze </span><span class=\"txtu\">door </span><span class=\"txtu\">de </span></div>"
      ],
      "text/plain": [
       "<IPython.core.display.HTML object>"
      ]
     },
     "metadata": {},
     "output_type": "display_data"
    },
    {
     "data": {
      "text/html": [
       "<div class=\"\"><span class=\"tfsechead \"><span class=\"ltr\"><a target=\"_blank\" href=\"http://resources.huygens.knaw.nl/retroboeken/generalemissiven/#page=614&amp;source=5\" title=\"Show this document on Huygens\" sec=\"5 599:21\">5 599:21</a></span></span>  <span class=\"txtu\">Banda </span></div>"
      ],
      "text/plain": [
       "<IPython.core.display.HTML object>"
      ]
     },
     "metadata": {},
     "output_type": "display_data"
    },
    {
     "data": {
      "text/html": [
       "<div class=\"\"><span class=\"tfsechead \"><span class=\"ltr\"><a target=\"_blank\" href=\"http://resources.huygens.knaw.nl/retroboeken/generalemissiven/#page=614&amp;source=5\" title=\"Show this document on Huygens\" sec=\"5 599:21\">5 599:21</a></span></span>  <span class=\"txtu\">van </span><span class=\"txtu\">Banda </span><span class=\"txtu\">verlost </span><span class=\"txtu\">worden, </span><span class=\"txtu\">hij </span><span class=\"txtu\">moet </span><span class=\"txtu\">in </span><span class=\"txtu\">die </span><span class=\"txtu\">tijd </span><span class=\"txtu\">weer </span><span class=\"txtu\">herstellen, </span><span class=\"txtu\">wat </span><span class=\"txtu\">wijlen </span><span class=\"txtu\">Bastingh </span><span class=\"txtu\">en </span></div>"
      ],
      "text/plain": [
       "<IPython.core.display.HTML object>"
      ]
     },
     "metadata": {},
     "output_type": "display_data"
    },
    {
     "name": "stdout",
     "output_type": "stream",
     "text": [
      "Overlap 33: Banda , - Batavia "
     ]
    },
    {
     "data": {
      "text/html": [
       "<div class=\"\"><span class=\"tfsechead \"><span class=\"ltr\"><a target=\"_blank\" href=\"http://resources.huygens.knaw.nl/retroboeken/generalemissiven/#page=26&amp;source=6\" title=\"Show this document on Huygens\" sec=\"6 11:1\">6 11:1</a></span></span>  <span class=\"txtu \"><span class=\"structure\"><span class=\"nd\">volume</span> 6, <span class=\"nd\">letter</span> Van Outhoorn, Van Hoorn, Pijl, De Haas, Van Riebeeck, Valckenier, Cops, Bornezee, Lycochthon, Van Rhee; Batavia, 21 februari 1698</span></span></div>"
      ],
      "text/plain": [
       "<IPython.core.display.HTML object>"
      ]
     },
     "metadata": {},
     "output_type": "display_data"
    },
    {
     "data": {
      "text/html": [
       "<div class=\"\"><span class=\"tfsechead \"><span class=\"ltr\"><a target=\"_blank\" href=\"http://resources.huygens.knaw.nl/retroboeken/generalemissiven/#page=26&amp;source=6\" title=\"Show this document on Huygens\" sec=\"6 11:14\">6 11:14</a></span></span>  <span class=\"txtu\">Banda , </span></div>"
      ],
      "text/plain": [
       "<IPython.core.display.HTML object>"
      ]
     },
     "metadata": {},
     "output_type": "display_data"
    },
    {
     "data": {
      "text/html": [
       "<div class=\"\"><span class=\"tfsechead \"><span class=\"ltr\"><a target=\"_blank\" href=\"http://resources.huygens.knaw.nl/retroboeken/generalemissiven/#page=26&amp;source=6\" title=\"Show this document on Huygens\" sec=\"6 11:14\">6 11:14</a></span></span>  <span class=\"txtu\">Haasje </span><span class=\"txtu\">vertrok </span><span class=\"txtu\">14 </span><span class=\"txtu\">febr. </span><span class=\"txtu\">naar </span><span class=\"txtu\">Banda , </span><span class=\"txtu\">carg. </span><span class=\"txtu\">f. </span><span class=\"txtu\">22058, </span><span class=\"txtu\">de </span><span class=\"txtu\">Schelde </span><span class=\"txtu\">17 </span><span class=\"txtu\">febr. </span><span class=\"txtu\">naar </span><span class=\"txtu\">Ternate, </span></div>"
      ],
      "text/plain": [
       "<IPython.core.display.HTML object>"
      ]
     },
     "metadata": {},
     "output_type": "display_data"
    },
    {
     "data": {
      "text/html": [
       "<div class=\"\"><span class=\"tfsechead \"><span class=\"ltr\"><a target=\"_blank\" href=\"http://resources.huygens.knaw.nl/retroboeken/generalemissiven/#page=26&amp;source=6\" title=\"Show this document on Huygens\" sec=\"6 11:23\">6 11:23</a></span></span>  <span class=\"txtu\">Batavia </span></div>"
      ],
      "text/plain": [
       "<IPython.core.display.HTML object>"
      ]
     },
     "metadata": {},
     "output_type": "display_data"
    },
    {
     "data": {
      "text/html": [
       "<div class=\"\"><span class=\"tfsechead \"><span class=\"ltr\"><a target=\"_blank\" href=\"http://resources.huygens.knaw.nl/retroboeken/generalemissiven/#page=26&amp;source=6\" title=\"Show this document on Huygens\" sec=\"6 11:23\">6 11:23</a></span></span>  <span class=\"txtu\">voor </span><span class=\"txtu\">altoos </span><span class=\"txtu\">ter </span><span class=\"txtu\">woon </span><span class=\"txtu\">naar </span><span class=\"txtu\">Batavia </span><span class=\"txtu\">moeten </span><span class=\"txtu\">komen </span><span class=\"txtu\">met </span><span class=\"txtu\">klein </span><span class=\"txtu\">gevolg, </span><span class=\"txtu\">terwijl </span><span class=\"txtu\">hun </span><span class=\"txtu\">overige </span></div>"
      ],
      "text/plain": [
       "<IPython.core.display.HTML object>"
      ]
     },
     "metadata": {},
     "output_type": "display_data"
    },
    {
     "name": "stdout",
     "output_type": "stream",
     "text": [
      "Overlap 34: Batavia - Banda, "
     ]
    },
    {
     "data": {
      "text/html": [
       "<div class=\"\"><span class=\"tfsechead \"><span class=\"ltr\"><a target=\"_blank\" href=\"http://resources.huygens.knaw.nl/retroboeken/generalemissiven/#page=110&amp;source=6\" title=\"Show this document on Huygens\" sec=\"6 95:1\">6 95:1</a></span></span>  <span class=\"txtu \"><span class=\"structure\"><span class=\"nd\">volume</span> 6, <span class=\"nd\">letter</span> Van Outhoorn, Van Hoorn, Pijl, De Haas, Van Riebeeck, Cops, Bornezee, Pit, Van Rhee, Van Dam; Batavia, 20 januari 1700</span></span></div>"
      ],
      "text/plain": [
       "<IPython.core.display.HTML object>"
      ]
     },
     "metadata": {},
     "output_type": "display_data"
    },
    {
     "data": {
      "text/html": [
       "<div class=\"\"><span class=\"tfsechead \"><span class=\"ltr\"><a target=\"_blank\" href=\"http://resources.huygens.knaw.nl/retroboeken/generalemissiven/#page=110&amp;source=6\" title=\"Show this document on Huygens\" sec=\"6 95:13\">6 95:13</a></span></span>  <span class=\"txtu\">Batavia </span></div>"
      ],
      "text/plain": [
       "<IPython.core.display.HTML object>"
      ]
     },
     "metadata": {},
     "output_type": "display_data"
    },
    {
     "data": {
      "text/html": [
       "<div class=\"\"><span class=\"tfsechead \"><span class=\"ltr\"><a target=\"_blank\" href=\"http://resources.huygens.knaw.nl/retroboeken/generalemissiven/#page=110&amp;source=6\" title=\"Show this document on Huygens\" sec=\"6 95:13\">6 95:13</a></span></span>  <span class=\"txtu\">begin </span><span class=\"txtu\">september </span><span class=\"txtu\">te </span><span class=\"txtu\">Batavia </span><span class=\"txtu\">te </span><span class=\"txtu\">komen » </span></div>"
      ],
      "text/plain": [
       "<IPython.core.display.HTML object>"
      ]
     },
     "metadata": {},
     "output_type": "display_data"
    },
    {
     "data": {
      "text/html": [
       "<div class=\"\"><span class=\"tfsechead \"><span class=\"ltr\"><a target=\"_blank\" href=\"http://resources.huygens.knaw.nl/retroboeken/generalemissiven/#page=110&amp;source=6\" title=\"Show this document on Huygens\" sec=\"6 95:25\">6 95:25</a></span></span>  <span class=\"txtu\">Banda, </span></div>"
      ],
      "text/plain": [
       "<IPython.core.display.HTML object>"
      ]
     },
     "metadata": {},
     "output_type": "display_data"
    },
    {
     "data": {
      "text/html": [
       "<div class=\"\"><span class=\"tfsechead \"><span class=\"ltr\"><a target=\"_blank\" href=\"http://resources.huygens.knaw.nl/retroboeken/generalemissiven/#page=110&amp;source=6\" title=\"Show this document on Huygens\" sec=\"6 95:25\">6 95:25</a></span></span>  <span class=\"txtu\">naar </span><span class=\"txtu\">Banda, </span><span class=\"txtu\">terwijl </span><span class=\"txtu\">er </span><span class=\"txtu\">nog </span><span class=\"txtu\">25 </span><span class=\"txtu\">zullen </span><span class=\"txtu\">volgen </span><span class=\"txtu\">met </span><span class=\"txtu\">het </span><span class=\"txtu\">oog </span><span class=\"txtu\">op </span><span class=\"txtu\">de </span><span class=\"txtu\">wederbezetting </span><span class=\"txtu\">van </span><span class=\"txtu\">Moa, </span></div>"
      ],
      "text/plain": [
       "<IPython.core.display.HTML object>"
      ]
     },
     "metadata": {},
     "output_type": "display_data"
    },
    {
     "name": "stdout",
     "output_type": "stream",
     "text": [
      "Overlap 35: Batavia - Banda, "
     ]
    },
    {
     "data": {
      "text/html": [
       "<div class=\"\"><span class=\"tfsechead \"><span class=\"ltr\"><a target=\"_blank\" href=\"http://resources.huygens.knaw.nl/retroboeken/generalemissiven/#page=110&amp;source=6\" title=\"Show this document on Huygens\" sec=\"6 95:1\">6 95:1</a></span></span>  <span class=\"txtu \"><span class=\"structure\"><span class=\"nd\">volume</span> 6, <span class=\"nd\">letter</span> Van Outhoorn, Van Hoorn, Pijl, De Haas, Van Riebeeck, Cops, Bornezee, Pit, Van Rhee, Van Dam; Batavia, 20 januari 1700</span></span></div>"
      ],
      "text/plain": [
       "<IPython.core.display.HTML object>"
      ]
     },
     "metadata": {},
     "output_type": "display_data"
    },
    {
     "data": {
      "text/html": [
       "<div class=\"\"><span class=\"tfsechead \"><span class=\"ltr\"><a target=\"_blank\" href=\"http://resources.huygens.knaw.nl/retroboeken/generalemissiven/#page=110&amp;source=6\" title=\"Show this document on Huygens\" sec=\"6 95:22\">6 95:22</a></span></span>  <span class=\"txtu\">Batavia </span></div>"
      ],
      "text/plain": [
       "<IPython.core.display.HTML object>"
      ]
     },
     "metadata": {},
     "output_type": "display_data"
    },
    {
     "data": {
      "text/html": [
       "<div class=\"\"><span class=\"tfsechead \"><span class=\"ltr\"><a target=\"_blank\" href=\"http://resources.huygens.knaw.nl/retroboeken/generalemissiven/#page=110&amp;source=6\" title=\"Show this document on Huygens\" sec=\"6 95:22\">6 95:22</a></span></span>  <span class=\"txtu\">men </span><span class=\"txtu\">heeft </span><span class=\"txtu\">resp. </span><span class=\"txtu\">5493000 </span><span class=\"txtu\">en </span><span class=\"txtu\">5450725 </span><span class=\"txtu\">pond </span><span class=\"txtu\">te </span><span class=\"txtu\">Batavia </span><span class=\"txtu\">in </span><span class=\"txtu\">voorraad; </span><span class=\"txtu\">29 </span><span class=\"txtu\">dec. </span><span class=\"txtu\">vertrok </span><span class=\"txtu\">naar </span></div>"
      ],
      "text/plain": [
       "<IPython.core.display.HTML object>"
      ]
     },
     "metadata": {},
     "output_type": "display_data"
    },
    {
     "data": {
      "text/html": [
       "<div class=\"\"><span class=\"tfsechead \"><span class=\"ltr\"><a target=\"_blank\" href=\"http://resources.huygens.knaw.nl/retroboeken/generalemissiven/#page=110&amp;source=6\" title=\"Show this document on Huygens\" sec=\"6 95:25\">6 95:25</a></span></span>  <span class=\"txtu\">Banda, </span></div>"
      ],
      "text/plain": [
       "<IPython.core.display.HTML object>"
      ]
     },
     "metadata": {},
     "output_type": "display_data"
    },
    {
     "data": {
      "text/html": [
       "<div class=\"\"><span class=\"tfsechead \"><span class=\"ltr\"><a target=\"_blank\" href=\"http://resources.huygens.knaw.nl/retroboeken/generalemissiven/#page=110&amp;source=6\" title=\"Show this document on Huygens\" sec=\"6 95:25\">6 95:25</a></span></span>  <span class=\"txtu\">naar </span><span class=\"txtu\">Banda, </span><span class=\"txtu\">terwijl </span><span class=\"txtu\">er </span><span class=\"txtu\">nog </span><span class=\"txtu\">25 </span><span class=\"txtu\">zullen </span><span class=\"txtu\">volgen </span><span class=\"txtu\">met </span><span class=\"txtu\">het </span><span class=\"txtu\">oog </span><span class=\"txtu\">op </span><span class=\"txtu\">de </span><span class=\"txtu\">wederbezetting </span><span class=\"txtu\">van </span><span class=\"txtu\">Moa, </span></div>"
      ],
      "text/plain": [
       "<IPython.core.display.HTML object>"
      ]
     },
     "metadata": {},
     "output_type": "display_data"
    },
    {
     "name": "stdout",
     "output_type": "stream",
     "text": [
      "Overlap 36: Theeboom - Batavia "
     ]
    },
    {
     "data": {
      "text/html": [
       "<div class=\"\"><span class=\"tfsechead \"><span class=\"ltr\"><a target=\"_blank\" href=\"http://resources.huygens.knaw.nl/retroboeken/generalemissiven/#page=129&amp;source=6\" title=\"Show this document on Huygens\" sec=\"6 114:1\">6 114:1</a></span></span>  <span class=\"txtu \"><span class=\"structure\"><span class=\"nd\">volume</span> 6, <span class=\"nd\">letter</span> Van Outhoorn, Van Hoorn, Pijl, De Haas, Van Riebeeck, Cops, Bornezee, Van Rhee, Van Dam, Van Swoll; Batavia, 26 oktober 1700</span></span></div>"
      ],
      "text/plain": [
       "<IPython.core.display.HTML object>"
      ]
     },
     "metadata": {},
     "output_type": "display_data"
    },
    {
     "data": {
      "text/html": [
       "<div class=\"\"><span class=\"tfsechead \"><span class=\"ltr\"><a target=\"_blank\" href=\"http://resources.huygens.knaw.nl/retroboeken/generalemissiven/#page=129&amp;source=6\" title=\"Show this document on Huygens\" sec=\"6 114:9\">6 114:9</a></span></span>  <span class=\"txtu\">Theeboom </span></div>"
      ],
      "text/plain": [
       "<IPython.core.display.HTML object>"
      ]
     },
     "metadata": {},
     "output_type": "display_data"
    },
    {
     "data": {
      "text/html": [
       "<div class=\"\"><span class=\"tfsechead \"><span class=\"ltr\"><a target=\"_blank\" href=\"http://resources.huygens.knaw.nl/retroboeken/generalemissiven/#page=129&amp;source=6\" title=\"Show this document on Huygens\" sec=\"6 114:9\">6 114:9</a></span></span>  <span class=\"txtu\">Nieuwburgh </span><span class=\"txtu\">108, </span><span class=\"txtu\">14 </span><span class=\"txtu\">juli </span><span class=\"txtu\">Theeboom </span><span class=\"txtu\">90, </span><span class=\"txtu\">14 </span><span class=\"txtu\">augustus </span><span class=\"txtu\">Carthago </span><span class=\"txtu\">225, </span><span class=\"txtu\">Flora </span><span class=\"txtu\">81, </span><span class=\"txtu\">27 </span><span class=\"txtu\">aug. </span></div>"
      ],
      "text/plain": [
       "<IPython.core.display.HTML object>"
      ]
     },
     "metadata": {},
     "output_type": "display_data"
    },
    {
     "data": {
      "text/html": [
       "<div class=\"\"><span class=\"tfsechead \"><span class=\"ltr\"><a target=\"_blank\" href=\"http://resources.huygens.knaw.nl/retroboeken/generalemissiven/#page=129&amp;source=6\" title=\"Show this document on Huygens\" sec=\"6 114:12\">6 114:12</a></span></span>  <span class=\"txtu\">Batavia </span></div>"
      ],
      "text/plain": [
       "<IPython.core.display.HTML object>"
      ]
     },
     "metadata": {},
     "output_type": "display_data"
    },
    {
     "data": {
      "text/html": [
       "<div class=\"\"><span class=\"tfsechead \"><span class=\"ltr\"><a target=\"_blank\" href=\"http://resources.huygens.knaw.nl/retroboeken/generalemissiven/#page=129&amp;source=6\" title=\"Show this document on Huygens\" sec=\"6 114:12\">6 114:12</a></span></span>  <span class=\"txtu\">Oostersteyn </span><span class=\"txtu\">en </span><span class=\"txtu\">V </span><span class=\"txtu\">enhuysen, </span><span class=\"txtu\">de </span><span class=\"txtu\">eerste </span><span class=\"txtu\">twee </span><span class=\"txtu\">vooral </span><span class=\"txtu\">met </span><span class=\"txtu\">zijdestoffen, </span><span class=\"txtu\">te </span><span class=\"txtu\">Batavia </span><span class=\"txtu\">van </span><span class=\"txtu\">jonken </span></div>"
      ],
      "text/plain": [
       "<IPython.core.display.HTML object>"
      ]
     },
     "metadata": {},
     "output_type": "display_data"
    },
    {
     "name": "stdout",
     "output_type": "stream",
     "text": [
      "Overlap 37: Theeboom - Batavia "
     ]
    },
    {
     "data": {
      "text/html": [
       "<div class=\"\"><span class=\"tfsechead \"><span class=\"ltr\"><a target=\"_blank\" href=\"http://resources.huygens.knaw.nl/retroboeken/generalemissiven/#page=129&amp;source=6\" title=\"Show this document on Huygens\" sec=\"6 114:1\">6 114:1</a></span></span>  <span class=\"txtu \"><span class=\"structure\"><span class=\"nd\">volume</span> 6, <span class=\"nd\">letter</span> Van Outhoorn, Van Hoorn, Pijl, De Haas, Van Riebeeck, Cops, Bornezee, Van Rhee, Van Dam, Van Swoll; Batavia, 26 oktober 1700</span></span></div>"
      ],
      "text/plain": [
       "<IPython.core.display.HTML object>"
      ]
     },
     "metadata": {},
     "output_type": "display_data"
    },
    {
     "data": {
      "text/html": [
       "<div class=\"\"><span class=\"tfsechead \"><span class=\"ltr\"><a target=\"_blank\" href=\"http://resources.huygens.knaw.nl/retroboeken/generalemissiven/#page=129&amp;source=6\" title=\"Show this document on Huygens\" sec=\"6 114:9\">6 114:9</a></span></span>  <span class=\"txtu\">Theeboom </span></div>"
      ],
      "text/plain": [
       "<IPython.core.display.HTML object>"
      ]
     },
     "metadata": {},
     "output_type": "display_data"
    },
    {
     "data": {
      "text/html": [
       "<div class=\"\"><span class=\"tfsechead \"><span class=\"ltr\"><a target=\"_blank\" href=\"http://resources.huygens.knaw.nl/retroboeken/generalemissiven/#page=129&amp;source=6\" title=\"Show this document on Huygens\" sec=\"6 114:9\">6 114:9</a></span></span>  <span class=\"txtu\">Nieuwburgh </span><span class=\"txtu\">108, </span><span class=\"txtu\">14 </span><span class=\"txtu\">juli </span><span class=\"txtu\">Theeboom </span><span class=\"txtu\">90, </span><span class=\"txtu\">14 </span><span class=\"txtu\">augustus </span><span class=\"txtu\">Carthago </span><span class=\"txtu\">225, </span><span class=\"txtu\">Flora </span><span class=\"txtu\">81, </span><span class=\"txtu\">27 </span><span class=\"txtu\">aug. </span></div>"
      ],
      "text/plain": [
       "<IPython.core.display.HTML object>"
      ]
     },
     "metadata": {},
     "output_type": "display_data"
    },
    {
     "data": {
      "text/html": [
       "<div class=\"\"><span class=\"tfsechead \"><span class=\"ltr\"><a target=\"_blank\" href=\"http://resources.huygens.knaw.nl/retroboeken/generalemissiven/#page=129&amp;source=6\" title=\"Show this document on Huygens\" sec=\"6 114:13\">6 114:13</a></span></span>  <span class=\"txtu\">Batavia </span></div>"
      ],
      "text/plain": [
       "<IPython.core.display.HTML object>"
      ]
     },
     "metadata": {},
     "output_type": "display_data"
    },
    {
     "data": {
      "text/html": [
       "<div class=\"\"><span class=\"tfsechead \"><span class=\"ltr\"><a target=\"_blank\" href=\"http://resources.huygens.knaw.nl/retroboeken/generalemissiven/#page=129&amp;source=6\" title=\"Show this document on Huygens\" sec=\"6 114:13\">6 114:13</a></span></span>  <span class=\"txtu\">ingekocht; </span><span class=\"txtu\">van </span><span class=\"txtu\">de </span><span class=\"txtu\">13 </span><span class=\"txtu\">Engelse </span><span class=\"txtu\">schepen, </span><span class=\"txtu\">in </span><span class=\"txtu\">1700 </span><span class=\"txtu\">te </span><span class=\"txtu\">Batavia </span><span class=\"txtu\">gekomen, </span><span class=\"txtu\">hadden </span><span class=\"txtu\">er </span><span class=\"txtu\">zes </span><span class=\"txtu\">als </span></div>"
      ],
      "text/plain": [
       "<IPython.core.display.HTML object>"
      ]
     },
     "metadata": {},
     "output_type": "display_data"
    },
    {
     "name": "stdout",
     "output_type": "stream",
     "text": [
      "Overlap 38: Banda - Batavia "
     ]
    },
    {
     "data": {
      "text/html": [
       "<div class=\"\"><span class=\"tfsechead \"><span class=\"ltr\"><a target=\"_blank\" href=\"http://resources.huygens.knaw.nl/retroboeken/generalemissiven/#page=159&amp;source=6\" title=\"Show this document on Huygens\" sec=\"6 144:1\">6 144:1</a></span></span>  <span class=\"txtu \"><span class=\"structure\"><span class=\"nd\">volume</span> 6, <span class=\"nd\">letter</span> Van Outhoorn, Van Hoorn, Pijl, De Haas, Van Riebeeck, Cops, Bornezee, Van Rhee, Van Dam, Van Swoll; Batavia, 28 januari 1701</span></span></div>"
      ],
      "text/plain": [
       "<IPython.core.display.HTML object>"
      ]
     },
     "metadata": {},
     "output_type": "display_data"
    },
    {
     "data": {
      "text/html": [
       "<div class=\"\"><span class=\"tfsechead \"><span class=\"ltr\"><a target=\"_blank\" href=\"http://resources.huygens.knaw.nl/retroboeken/generalemissiven/#page=159&amp;source=6\" title=\"Show this document on Huygens\" sec=\"6 144:9\">6 144:9</a></span></span>  <span class=\"txtu\">Banda </span></div>"
      ],
      "text/plain": [
       "<IPython.core.display.HTML object>"
      ]
     },
     "metadata": {},
     "output_type": "display_data"
    },
    {
     "data": {
      "text/html": [
       "<div class=\"\"><span class=\"tfsechead \"><span class=\"ltr\"><a target=\"_blank\" href=\"http://resources.huygens.knaw.nl/retroboeken/generalemissiven/#page=159&amp;source=6\" title=\"Show this document on Huygens\" sec=\"6 144:9\">6 144:9</a></span></span>  <span class=\"txtu\">in </span><span class=\"txtu\">Banda </span><span class=\"txtu\">door </span><span class=\"txtu\">Stull </span><span class=\"txtu\">wordt </span><span class=\"txtu\">opgevolgd, </span><span class=\"txtu\">Pieter </span><span class=\"txtu\">de </span><span class=\"txtu\">Vos </span><span class=\"txtu\">wordt </span><span class=\"txtu\">secunde </span><span class=\"txtu\">te </span><span class=\"txtu\">Ternate, </span><span class=\"txtu\">de </span></div>"
      ],
      "text/plain": [
       "<IPython.core.display.HTML object>"
      ]
     },
     "metadata": {},
     "output_type": "display_data"
    },
    {
     "data": {
      "text/html": [
       "<div class=\"\"><span class=\"tfsechead \"><span class=\"ltr\"><a target=\"_blank\" href=\"http://resources.huygens.knaw.nl/retroboeken/generalemissiven/#page=159&amp;source=6\" title=\"Show this document on Huygens\" sec=\"6 144:20\">6 144:20</a></span></span>  <span class=\"txtu\">Batavia </span></div>"
      ],
      "text/plain": [
       "<IPython.core.display.HTML object>"
      ]
     },
     "metadata": {},
     "output_type": "display_data"
    },
    {
     "data": {
      "text/html": [
       "<div class=\"\"><span class=\"tfsechead \"><span class=\"ltr\"><a target=\"_blank\" href=\"http://resources.huygens.knaw.nl/retroboeken/generalemissiven/#page=159&amp;source=6\" title=\"Show this document on Huygens\" sec=\"6 144:20\">6 144:20</a></span></span>  <span class=\"txtu\">Vrede, </span><span class=\"txtu\">30 </span><span class=\"txtu\">dec. </span><span class=\"txtu\">vertrok </span><span class=\"txtu\">de </span><span class=\"txtu\">sloep </span><span class=\"txtu\">Hitu </span><span class=\"txtu\">via </span><span class=\"txtu\">Bima; </span><span class=\"txtu\">de </span><span class=\"txtu\">schepen </span><span class=\"txtu\">moeten </span><span class=\"txtu\">1 </span><span class=\"txtu\">juni </span><span class=\"txtu\">te </span><span class=\"txtu\">Batavia </span></div>"
      ],
      "text/plain": [
       "<IPython.core.display.HTML object>"
      ]
     },
     "metadata": {},
     "output_type": "display_data"
    },
    {
     "name": "stdout",
     "output_type": "stream",
     "text": [
      "Overlap 39: Batavia - Banda "
     ]
    },
    {
     "data": {
      "text/html": [
       "<div class=\"\"><span class=\"tfsechead \"><span class=\"ltr\"><a target=\"_blank\" href=\"http://resources.huygens.knaw.nl/retroboeken/generalemissiven/#page=168&amp;source=6\" title=\"Show this document on Huygens\" sec=\"6 153:1\">6 153:1</a></span></span>  <span class=\"txtu \"><span class=\"structure\"><span class=\"nd\">volume</span> 6, <span class=\"nd\">letter</span> Van Outhoorn, Van Hoorn, Pijl, Van Riebeeck, Cops, Bornezee, Van Dam, Van Swoll; Batavia, 26 november 1701</span></span></div>"
      ],
      "text/plain": [
       "<IPython.core.display.HTML object>"
      ]
     },
     "metadata": {},
     "output_type": "display_data"
    },
    {
     "data": {
      "text/html": [
       "<div class=\"\"><span class=\"tfsechead \"><span class=\"ltr\"><a target=\"_blank\" href=\"http://resources.huygens.knaw.nl/retroboeken/generalemissiven/#page=168&amp;source=6\" title=\"Show this document on Huygens\" sec=\"6 153:10\">6 153:10</a></span></span>  <span class=\"txtu\">Batavia </span></div>"
      ],
      "text/plain": [
       "<IPython.core.display.HTML object>"
      ]
     },
     "metadata": {},
     "output_type": "display_data"
    },
    {
     "data": {
      "text/html": [
       "<div class=\"\"><span class=\"tfsechead \"><span class=\"ltr\"><a target=\"_blank\" href=\"http://resources.huygens.knaw.nl/retroboeken/generalemissiven/#page=168&amp;source=6\" title=\"Show this document on Huygens\" sec=\"6 153:10\">6 153:10</a></span></span>  <span class=\"txtu\">van </span><span class=\"txtu\">Londen </span><span class=\"txtu\">vertrokken, </span><span class=\"txtu\">op </span><span class=\"txtu\">weg </span><span class=\"txtu\">naar </span><span class=\"txtu\">China </span><span class=\"txtu\">van </span><span class=\"txtu\">29 </span><span class=\"txtu\">juli </span><span class=\"txtu\">tot </span><span class=\"txtu\">10 </span><span class=\"txtu\">aug. </span><span class=\"txtu\">bij </span><span class=\"txtu\">Batavia </span><span class=\"txtu\">was </span><span class=\"txtu\">en </span></div>"
      ],
      "text/plain": [
       "<IPython.core.display.HTML object>"
      ]
     },
     "metadata": {},
     "output_type": "display_data"
    },
    {
     "data": {
      "text/html": [
       "<div class=\"\"><span class=\"tfsechead \"><span class=\"ltr\"><a target=\"_blank\" href=\"http://resources.huygens.knaw.nl/retroboeken/generalemissiven/#page=168&amp;source=6\" title=\"Show this document on Huygens\" sec=\"6 153:43\">6 153:43</a></span></span>  <span class=\"txtu\">Banda </span></div>"
      ],
      "text/plain": [
       "<IPython.core.display.HTML object>"
      ]
     },
     "metadata": {},
     "output_type": "display_data"
    },
    {
     "data": {
      "text/html": [
       "<div class=\"\"><span class=\"tfsechead \"><span class=\"ltr\"><a target=\"_blank\" href=\"http://resources.huygens.knaw.nl/retroboeken/generalemissiven/#page=168&amp;source=6\" title=\"Show this document on Huygens\" sec=\"6 153:43\">6 153:43</a></span></span>  <span class=\"txtu\">Stull </span><span class=\"txtu\">nam </span><span class=\"txtu\">eind </span><span class=\"txtu\">maart </span><span class=\"txtu\">het </span><span class=\"txtu\">gouvernement </span><span class=\"txtu\">van </span><span class=\"txtu\">Banda </span><span class=\"txtu\">van </span><span class=\"txtu\">Coyet </span><span class=\"txtu\">over, </span><span class=\"txtu\">die </span><span class=\"txtu\">pas </span><span class=\"txtu\">11 </span><span class=\"txtu\">juni </span></div>"
      ],
      "text/plain": [
       "<IPython.core.display.HTML object>"
      ]
     },
     "metadata": {},
     "output_type": "display_data"
    },
    {
     "name": "stdout",
     "output_type": "stream",
     "text": [
      "Overlap 40: Batavia - Banda "
     ]
    },
    {
     "data": {
      "text/html": [
       "<div class=\"\"><span class=\"tfsechead \"><span class=\"ltr\"><a target=\"_blank\" href=\"http://resources.huygens.knaw.nl/retroboeken/generalemissiven/#page=168&amp;source=6\" title=\"Show this document on Huygens\" sec=\"6 153:1\">6 153:1</a></span></span>  <span class=\"txtu \"><span class=\"structure\"><span class=\"nd\">volume</span> 6, <span class=\"nd\">letter</span> Van Outhoorn, Van Hoorn, Pijl, Van Riebeeck, Cops, Bornezee, Van Dam, Van Swoll; Batavia, 26 november 1701</span></span></div>"
      ],
      "text/plain": [
       "<IPython.core.display.HTML object>"
      ]
     },
     "metadata": {},
     "output_type": "display_data"
    },
    {
     "data": {
      "text/html": [
       "<div class=\"\"><span class=\"tfsechead \"><span class=\"ltr\"><a target=\"_blank\" href=\"http://resources.huygens.knaw.nl/retroboeken/generalemissiven/#page=168&amp;source=6\" title=\"Show this document on Huygens\" sec=\"6 153:10\">6 153:10</a></span></span>  <span class=\"txtu\">Batavia </span></div>"
      ],
      "text/plain": [
       "<IPython.core.display.HTML object>"
      ]
     },
     "metadata": {},
     "output_type": "display_data"
    },
    {
     "data": {
      "text/html": [
       "<div class=\"\"><span class=\"tfsechead \"><span class=\"ltr\"><a target=\"_blank\" href=\"http://resources.huygens.knaw.nl/retroboeken/generalemissiven/#page=168&amp;source=6\" title=\"Show this document on Huygens\" sec=\"6 153:10\">6 153:10</a></span></span>  <span class=\"txtu\">van </span><span class=\"txtu\">Londen </span><span class=\"txtu\">vertrokken, </span><span class=\"txtu\">op </span><span class=\"txtu\">weg </span><span class=\"txtu\">naar </span><span class=\"txtu\">China </span><span class=\"txtu\">van </span><span class=\"txtu\">29 </span><span class=\"txtu\">juli </span><span class=\"txtu\">tot </span><span class=\"txtu\">10 </span><span class=\"txtu\">aug. </span><span class=\"txtu\">bij </span><span class=\"txtu\">Batavia </span><span class=\"txtu\">was </span><span class=\"txtu\">en </span></div>"
      ],
      "text/plain": [
       "<IPython.core.display.HTML object>"
      ]
     },
     "metadata": {},
     "output_type": "display_data"
    },
    {
     "data": {
      "text/html": [
       "<div class=\"\"><span class=\"tfsechead \"><span class=\"ltr\"><a target=\"_blank\" href=\"http://resources.huygens.knaw.nl/retroboeken/generalemissiven/#page=168&amp;source=6\" title=\"Show this document on Huygens\" sec=\"6 153:48\">6 153:48</a></span></span>  <span class=\"txtu\">Banda </span></div>"
      ],
      "text/plain": [
       "<IPython.core.display.HTML object>"
      ]
     },
     "metadata": {},
     "output_type": "display_data"
    },
    {
     "data": {
      "text/html": [
       "<div class=\"\"><span class=\"tfsechead \"><span class=\"ltr\"><a target=\"_blank\" href=\"http://resources.huygens.knaw.nl/retroboeken/generalemissiven/#page=168&amp;source=6\" title=\"Show this document on Huygens\" sec=\"6 153:48\">6 153:48</a></span></span>  <span class=\"txtu\">Banda </span><span class=\"txtu\">werden </span><span class=\"txtu\">in </span><span class=\"txtu\">3 </span><span class=\"txtu\">schepen </span><span class=\"txtu\">1276 </span><span class=\"txtu\">sokkels </span><span class=\"txtu\">foelie </span><span class=\"txtu\">en </span><span class=\"txtu\">616633 </span><span class=\"txtu\">notemuscaat </span><span class=\"txtu\">ontvangen, </span></div>"
      ],
      "text/plain": [
       "<IPython.core.display.HTML object>"
      ]
     },
     "metadata": {},
     "output_type": "display_data"
    },
    {
     "name": "stdout",
     "output_type": "stream",
     "text": [
      "Overlap 41: Banda - Batavia, "
     ]
    },
    {
     "data": {
      "text/html": [
       "<div class=\"\"><span class=\"tfsechead \"><span class=\"ltr\"><a target=\"_blank\" href=\"http://resources.huygens.knaw.nl/retroboeken/generalemissiven/#page=168&amp;source=6\" title=\"Show this document on Huygens\" sec=\"6 153:1\">6 153:1</a></span></span>  <span class=\"txtu \"><span class=\"structure\"><span class=\"nd\">volume</span> 6, <span class=\"nd\">letter</span> Van Outhoorn, Van Hoorn, Pijl, Van Riebeeck, Cops, Bornezee, Van Dam, Van Swoll; Batavia, 26 november 1701</span></span></div>"
      ],
      "text/plain": [
       "<IPython.core.display.HTML object>"
      ]
     },
     "metadata": {},
     "output_type": "display_data"
    },
    {
     "data": {
      "text/html": [
       "<div class=\"\"><span class=\"tfsechead \"><span class=\"ltr\"><a target=\"_blank\" href=\"http://resources.huygens.knaw.nl/retroboeken/generalemissiven/#page=168&amp;source=6\" title=\"Show this document on Huygens\" sec=\"6 153:43\">6 153:43</a></span></span>  <span class=\"txtu\">Banda </span></div>"
      ],
      "text/plain": [
       "<IPython.core.display.HTML object>"
      ]
     },
     "metadata": {},
     "output_type": "display_data"
    },
    {
     "data": {
      "text/html": [
       "<div class=\"\"><span class=\"tfsechead \"><span class=\"ltr\"><a target=\"_blank\" href=\"http://resources.huygens.knaw.nl/retroboeken/generalemissiven/#page=168&amp;source=6\" title=\"Show this document on Huygens\" sec=\"6 153:43\">6 153:43</a></span></span>  <span class=\"txtu\">Stull </span><span class=\"txtu\">nam </span><span class=\"txtu\">eind </span><span class=\"txtu\">maart </span><span class=\"txtu\">het </span><span class=\"txtu\">gouvernement </span><span class=\"txtu\">van </span><span class=\"txtu\">Banda </span><span class=\"txtu\">van </span><span class=\"txtu\">Coyet </span><span class=\"txtu\">over, </span><span class=\"txtu\">die </span><span class=\"txtu\">pas </span><span class=\"txtu\">11 </span><span class=\"txtu\">juni </span></div>"
      ],
      "text/plain": [
       "<IPython.core.display.HTML object>"
      ]
     },
     "metadata": {},
     "output_type": "display_data"
    },
    {
     "data": {
      "text/html": [
       "<div class=\"\"><span class=\"tfsechead \"><span class=\"ltr\"><a target=\"_blank\" href=\"http://resources.huygens.knaw.nl/retroboeken/generalemissiven/#page=168&amp;source=6\" title=\"Show this document on Huygens\" sec=\"6 153:45\">6 153:45</a></span></span>  <span class=\"txtu\">Batavia, </span></div>"
      ],
      "text/plain": [
       "<IPython.core.display.HTML object>"
      ]
     },
     "metadata": {},
     "output_type": "display_data"
    },
    {
     "data": {
      "text/html": [
       "<div class=\"\"><span class=\"tfsechead \"><span class=\"ltr\"><a target=\"_blank\" href=\"http://resources.huygens.knaw.nl/retroboeken/generalemissiven/#page=168&amp;source=6\" title=\"Show this document on Huygens\" sec=\"6 153:45\">6 153:45</a></span></span>  <span class=\"txtu\">laatste </span><span class=\"txtu\">kwam </span><span class=\"txtu\">28 </span><span class=\"txtu\">juni </span><span class=\"txtu\">te </span><span class=\"txtu\">Batavia, </span><span class=\"txtu\">in </span><span class=\"txtu\">3 </span><span class=\"txtu\">schepen </span><span class=\"txtu\">werd </span><span class=\"txtu\">cargasoen </span><span class=\"txtu\">van </span><span class=\"txtu\">f. </span><span class=\"txtu\">207228 </span><span class=\"txtu\">uit </span></div>"
      ],
      "text/plain": [
       "<IPython.core.display.HTML object>"
      ]
     },
     "metadata": {},
     "output_type": "display_data"
    },
    {
     "name": "stdout",
     "output_type": "stream",
     "text": [
      "Overlap 42: Batavia, - Banda "
     ]
    },
    {
     "data": {
      "text/html": [
       "<div class=\"\"><span class=\"tfsechead \"><span class=\"ltr\"><a target=\"_blank\" href=\"http://resources.huygens.knaw.nl/retroboeken/generalemissiven/#page=168&amp;source=6\" title=\"Show this document on Huygens\" sec=\"6 153:1\">6 153:1</a></span></span>  <span class=\"txtu \"><span class=\"structure\"><span class=\"nd\">volume</span> 6, <span class=\"nd\">letter</span> Van Outhoorn, Van Hoorn, Pijl, Van Riebeeck, Cops, Bornezee, Van Dam, Van Swoll; Batavia, 26 november 1701</span></span></div>"
      ],
      "text/plain": [
       "<IPython.core.display.HTML object>"
      ]
     },
     "metadata": {},
     "output_type": "display_data"
    },
    {
     "data": {
      "text/html": [
       "<div class=\"\"><span class=\"tfsechead \"><span class=\"ltr\"><a target=\"_blank\" href=\"http://resources.huygens.knaw.nl/retroboeken/generalemissiven/#page=168&amp;source=6\" title=\"Show this document on Huygens\" sec=\"6 153:45\">6 153:45</a></span></span>  <span class=\"txtu\">Batavia, </span></div>"
      ],
      "text/plain": [
       "<IPython.core.display.HTML object>"
      ]
     },
     "metadata": {},
     "output_type": "display_data"
    },
    {
     "data": {
      "text/html": [
       "<div class=\"\"><span class=\"tfsechead \"><span class=\"ltr\"><a target=\"_blank\" href=\"http://resources.huygens.knaw.nl/retroboeken/generalemissiven/#page=168&amp;source=6\" title=\"Show this document on Huygens\" sec=\"6 153:45\">6 153:45</a></span></span>  <span class=\"txtu\">laatste </span><span class=\"txtu\">kwam </span><span class=\"txtu\">28 </span><span class=\"txtu\">juni </span><span class=\"txtu\">te </span><span class=\"txtu\">Batavia, </span><span class=\"txtu\">in </span><span class=\"txtu\">3 </span><span class=\"txtu\">schepen </span><span class=\"txtu\">werd </span><span class=\"txtu\">cargasoen </span><span class=\"txtu\">van </span><span class=\"txtu\">f. </span><span class=\"txtu\">207228 </span><span class=\"txtu\">uit </span></div>"
      ],
      "text/plain": [
       "<IPython.core.display.HTML object>"
      ]
     },
     "metadata": {},
     "output_type": "display_data"
    },
    {
     "data": {
      "text/html": [
       "<div class=\"\"><span class=\"tfsechead \"><span class=\"ltr\"><a target=\"_blank\" href=\"http://resources.huygens.knaw.nl/retroboeken/generalemissiven/#page=168&amp;source=6\" title=\"Show this document on Huygens\" sec=\"6 153:48\">6 153:48</a></span></span>  <span class=\"txtu\">Banda </span></div>"
      ],
      "text/plain": [
       "<IPython.core.display.HTML object>"
      ]
     },
     "metadata": {},
     "output_type": "display_data"
    },
    {
     "data": {
      "text/html": [
       "<div class=\"\"><span class=\"tfsechead \"><span class=\"ltr\"><a target=\"_blank\" href=\"http://resources.huygens.knaw.nl/retroboeken/generalemissiven/#page=168&amp;source=6\" title=\"Show this document on Huygens\" sec=\"6 153:48\">6 153:48</a></span></span>  <span class=\"txtu\">Banda </span><span class=\"txtu\">werden </span><span class=\"txtu\">in </span><span class=\"txtu\">3 </span><span class=\"txtu\">schepen </span><span class=\"txtu\">1276 </span><span class=\"txtu\">sokkels </span><span class=\"txtu\">foelie </span><span class=\"txtu\">en </span><span class=\"txtu\">616633 </span><span class=\"txtu\">notemuscaat </span><span class=\"txtu\">ontvangen, </span></div>"
      ],
      "text/plain": [
       "<IPython.core.display.HTML object>"
      ]
     },
     "metadata": {},
     "output_type": "display_data"
    },
    {
     "name": "stdout",
     "output_type": "stream",
     "text": [
      "Overlap 43: Batavia - Banda "
     ]
    },
    {
     "data": {
      "text/html": [
       "<div class=\"\"><span class=\"tfsechead \"><span class=\"ltr\"><a target=\"_blank\" href=\"http://resources.huygens.knaw.nl/retroboeken/generalemissiven/#page=176&amp;source=6\" title=\"Show this document on Huygens\" sec=\"6 161:1\">6 161:1</a></span></span>  <span class=\"txtu \"><span class=\"structure\"><span class=\"nd\">volume</span> 6, <span class=\"nd\">letter</span> Van Outhoorn, Van Hoorn, Pijl, Van Riebeeck, Cops, Bornezee, Van Dam, Van Swoll; Batavia, 31 december 1701</span></span></div>"
      ],
      "text/plain": [
       "<IPython.core.display.HTML object>"
      ]
     },
     "metadata": {},
     "output_type": "display_data"
    },
    {
     "data": {
      "text/html": [
       "<div class=\"\"><span class=\"tfsechead \"><span class=\"ltr\"><a target=\"_blank\" href=\"http://resources.huygens.knaw.nl/retroboeken/generalemissiven/#page=176&amp;source=6\" title=\"Show this document on Huygens\" sec=\"6 161:11\">6 161:11</a></span></span>  <span class=\"txtu\">Batavia </span></div>"
      ],
      "text/plain": [
       "<IPython.core.display.HTML object>"
      ]
     },
     "metadata": {},
     "output_type": "display_data"
    },
    {
     "data": {
      "text/html": [
       "<div class=\"\"><span class=\"tfsechead \"><span class=\"ltr\"><a target=\"_blank\" href=\"http://resources.huygens.knaw.nl/retroboeken/generalemissiven/#page=176&amp;source=6\" title=\"Show this document on Huygens\" sec=\"6 161:11\">6 161:11</a></span></span>  <span class=\"txtu\">aan </span><span class=\"txtu\">payement, </span><span class=\"txtu\">men </span><span class=\"txtu\">heeft </span><span class=\"txtu\">er </span><span class=\"txtu\">69000 </span><span class=\"txtu\">in </span><span class=\"txtu\">kas, </span><span class=\"txtu\">terwijl </span><span class=\"txtu\">er </span><span class=\"txtu\">voor </span><span class=\"txtu\">f. </span><span class=\"txtu\">49503 </span><span class=\"txtu\">wissels </span><span class=\"txtu\">op </span><span class=\"txtu\">Batavia </span></div>"
      ],
      "text/plain": [
       "<IPython.core.display.HTML object>"
      ]
     },
     "metadata": {},
     "output_type": "display_data"
    },
    {
     "data": {
      "text/html": [
       "<div class=\"\"><span class=\"tfsechead \"><span class=\"ltr\"><a target=\"_blank\" href=\"http://resources.huygens.knaw.nl/retroboeken/generalemissiven/#page=176&amp;source=6\" title=\"Show this document on Huygens\" sec=\"6 161:18\">6 161:18</a></span></span>  <span class=\"txtu\">Banda </span></div>"
      ],
      "text/plain": [
       "<IPython.core.display.HTML object>"
      ]
     },
     "metadata": {},
     "output_type": "display_data"
    },
    {
     "data": {
      "text/html": [
       "<div class=\"\"><span class=\"tfsechead \"><span class=\"ltr\"><a target=\"_blank\" href=\"http://resources.huygens.knaw.nl/retroboeken/generalemissiven/#page=176&amp;source=6\" title=\"Show this document on Huygens\" sec=\"6 161:18\">6 161:18</a></span></span>  <span class=\"txtu\">Banda </span><span class=\"txtu\">zijn </span><span class=\"txtu\">geordend, </span><span class=\"txtu\">de </span><span class=\"txtu\">Hoge </span><span class=\"txtu\">Regering </span><span class=\"txtu\">vindt </span><span class=\"txtu\">dit </span><span class=\"txtu\">overdreven </span><span class=\"txtu\">en </span><span class=\"txtu\">ook </span><span class=\"txtu\">onjuist, </span><span class=\"txtu\">dat </span><span class=\"txtu\">hij </span></div>"
      ],
      "text/plain": [
       "<IPython.core.display.HTML object>"
      ]
     },
     "metadata": {},
     "output_type": "display_data"
    },
    {
     "name": "stdout",
     "output_type": "stream",
     "text": [
      "Overlap 44: Batavia , - Banda "
     ]
    },
    {
     "data": {
      "text/html": [
       "<div class=\"\"><span class=\"tfsechead \"><span class=\"ltr\"><a target=\"_blank\" href=\"http://resources.huygens.knaw.nl/retroboeken/generalemissiven/#page=234&amp;source=6\" title=\"Show this document on Huygens\" sec=\"6 219:1\">6 219:1</a></span></span>  <span class=\"txtu \"><span class=\"structure\"><span class=\"nd\">volume</span> 6, <span class=\"nd\">letter</span> Van Outhoorn, Van Hoorn, Pijl, Van Riebeeck, Cops, Bornezee, Van Dam, Van Swoll, Douglas; Batavia, 25 februari 1703</span></span></div>"
      ],
      "text/plain": [
       "<IPython.core.display.HTML object>"
      ]
     },
     "metadata": {},
     "output_type": "display_data"
    },
    {
     "data": {
      "text/html": [
       "<div class=\"\"><span class=\"tfsechead \"><span class=\"ltr\"><a target=\"_blank\" href=\"http://resources.huygens.knaw.nl/retroboeken/generalemissiven/#page=234&amp;source=6\" title=\"Show this document on Huygens\" sec=\"6 219:12\">6 219:12</a></span></span>  <span class=\"txtu\">Batavia , </span></div>"
      ],
      "text/plain": [
       "<IPython.core.display.HTML object>"
      ]
     },
     "metadata": {},
     "output_type": "display_data"
    },
    {
     "data": {
      "text/html": [
       "<div class=\"\"><span class=\"tfsechead \"><span class=\"ltr\"><a target=\"_blank\" href=\"http://resources.huygens.knaw.nl/retroboeken/generalemissiven/#page=234&amp;source=6\" title=\"Show this document on Huygens\" sec=\"6 219:12\">6 219:12</a></span></span>  <span class=\"txtu\">de </span><span class=\"txtu\">Kasteel </span><span class=\"txtu\">Batavia , </span><span class=\"txtu\">13 </span><span class=\"txtu\">febr. </span><span class=\"txtu\">via </span><span class=\"txtu\">Banda </span><span class=\"txtu\">de </span><span class=\"txtu\">Eykelenburg, </span><span class=\"txtu\">samen </span><span class=\"txtu\">met </span><span class=\"txtu\">carg. </span><span class=\"txtu\">vanf. </span><span class=\"txtu\">325142 , </span></div>"
      ],
      "text/plain": [
       "<IPython.core.display.HTML object>"
      ]
     },
     "metadata": {},
     "output_type": "display_data"
    },
    {
     "data": {
      "text/html": [
       "<div class=\"\"><span class=\"tfsechead \"><span class=\"ltr\"><a target=\"_blank\" href=\"http://resources.huygens.knaw.nl/retroboeken/generalemissiven/#page=234&amp;source=6\" title=\"Show this document on Huygens\" sec=\"6 219:12\">6 219:12</a></span></span>  <span class=\"txtu\">Banda </span></div>"
      ],
      "text/plain": [
       "<IPython.core.display.HTML object>"
      ]
     },
     "metadata": {},
     "output_type": "display_data"
    },
    {
     "data": {
      "text/html": [
       "<div class=\"\"><span class=\"tfsechead \"><span class=\"ltr\"><a target=\"_blank\" href=\"http://resources.huygens.knaw.nl/retroboeken/generalemissiven/#page=234&amp;source=6\" title=\"Show this document on Huygens\" sec=\"6 219:12\">6 219:12</a></span></span>  <span class=\"txtu\">de </span><span class=\"txtu\">Kasteel </span><span class=\"txtu\">Batavia , </span><span class=\"txtu\">13 </span><span class=\"txtu\">febr. </span><span class=\"txtu\">via </span><span class=\"txtu\">Banda </span><span class=\"txtu\">de </span><span class=\"txtu\">Eykelenburg, </span><span class=\"txtu\">samen </span><span class=\"txtu\">met </span><span class=\"txtu\">carg. </span><span class=\"txtu\">vanf. </span><span class=\"txtu\">325142 , </span></div>"
      ],
      "text/plain": [
       "<IPython.core.display.HTML object>"
      ]
     },
     "metadata": {},
     "output_type": "display_data"
    },
    {
     "name": "stdout",
     "output_type": "stream",
     "text": [
      "Overlap 45: Banda - Batavia "
     ]
    },
    {
     "data": {
      "text/html": [
       "<div class=\"\"><span class=\"tfsechead \"><span class=\"ltr\"><a target=\"_blank\" href=\"http://resources.huygens.knaw.nl/retroboeken/generalemissiven/#page=234&amp;source=6\" title=\"Show this document on Huygens\" sec=\"6 219:1\">6 219:1</a></span></span>  <span class=\"txtu \"><span class=\"structure\"><span class=\"nd\">volume</span> 6, <span class=\"nd\">letter</span> Van Outhoorn, Van Hoorn, Pijl, Van Riebeeck, Cops, Bornezee, Van Dam, Van Swoll, Douglas; Batavia, 25 februari 1703</span></span></div>"
      ],
      "text/plain": [
       "<IPython.core.display.HTML object>"
      ]
     },
     "metadata": {},
     "output_type": "display_data"
    },
    {
     "data": {
      "text/html": [
       "<div class=\"\"><span class=\"tfsechead \"><span class=\"ltr\"><a target=\"_blank\" href=\"http://resources.huygens.knaw.nl/retroboeken/generalemissiven/#page=234&amp;source=6\" title=\"Show this document on Huygens\" sec=\"6 219:12\">6 219:12</a></span></span>  <span class=\"txtu\">Banda </span></div>"
      ],
      "text/plain": [
       "<IPython.core.display.HTML object>"
      ]
     },
     "metadata": {},
     "output_type": "display_data"
    },
    {
     "data": {
      "text/html": [
       "<div class=\"\"><span class=\"tfsechead \"><span class=\"ltr\"><a target=\"_blank\" href=\"http://resources.huygens.knaw.nl/retroboeken/generalemissiven/#page=234&amp;source=6\" title=\"Show this document on Huygens\" sec=\"6 219:12\">6 219:12</a></span></span>  <span class=\"txtu\">de </span><span class=\"txtu\">Kasteel </span><span class=\"txtu\">Batavia , </span><span class=\"txtu\">13 </span><span class=\"txtu\">febr. </span><span class=\"txtu\">via </span><span class=\"txtu\">Banda </span><span class=\"txtu\">de </span><span class=\"txtu\">Eykelenburg, </span><span class=\"txtu\">samen </span><span class=\"txtu\">met </span><span class=\"txtu\">carg. </span><span class=\"txtu\">vanf. </span><span class=\"txtu\">325142 , </span></div>"
      ],
      "text/plain": [
       "<IPython.core.display.HTML object>"
      ]
     },
     "metadata": {},
     "output_type": "display_data"
    },
    {
     "data": {
      "text/html": [
       "<div class=\"\"><span class=\"tfsechead \"><span class=\"ltr\"><a target=\"_blank\" href=\"http://resources.huygens.knaw.nl/retroboeken/generalemissiven/#page=234&amp;source=6\" title=\"Show this document on Huygens\" sec=\"6 219:15\">6 219:15</a></span></span>  <span class=\"txtu\">Batavia </span></div>"
      ],
      "text/plain": [
       "<IPython.core.display.HTML object>"
      ]
     },
     "metadata": {},
     "output_type": "display_data"
    },
    {
     "data": {
      "text/html": [
       "<div class=\"\"><span class=\"tfsechead \"><span class=\"ltr\"><a target=\"_blank\" href=\"http://resources.huygens.knaw.nl/retroboeken/generalemissiven/#page=234&amp;source=6\" title=\"Show this document on Huygens\" sec=\"6 219:15\">6 219:15</a></span></span>  <span class=\"txtu\">voor </span><span class=\"txtu\">de </span><span class=\"txtu\">andere </span><span class=\"txtu\">oosterse </span><span class=\"txtu\">gouvernementen </span><span class=\"txtu\">o. </span><span class=\"txtu\">a. </span><span class=\"txtu\">omdat </span><span class=\"txtu\">thans </span><span class=\"txtu\">geen </span><span class=\"txtu\">buskruit </span><span class=\"txtu\">van </span><span class=\"txtu\">Batavia </span></div>"
      ],
      "text/plain": [
       "<IPython.core.display.HTML object>"
      ]
     },
     "metadata": {},
     "output_type": "display_data"
    },
    {
     "name": "stdout",
     "output_type": "stream",
     "text": [
      "Overlap 46: Batavia - Banda "
     ]
    },
    {
     "data": {
      "text/html": [
       "<div class=\"\"><span class=\"tfsechead \"><span class=\"ltr\"><a target=\"_blank\" href=\"http://resources.huygens.knaw.nl/retroboeken/generalemissiven/#page=282&amp;source=6\" title=\"Show this document on Huygens\" sec=\"6 267:1\">6 267:1</a></span></span>  <span class=\"txtu \"><span class=\"structure\"><span class=\"nd\">volume</span> 6, <span class=\"nd\">letter</span> Van Outhoorn, Van Hoorn, Van Riebeeck, Pijl, Cops, Bornezee, Van Dam, Van Swoll, De Wilde, Douglas, Van Rijn, Van der Stel; Batavia, 1 februari 1704</span></span></div>"
      ],
      "text/plain": [
       "<IPython.core.display.HTML object>"
      ]
     },
     "metadata": {},
     "output_type": "display_data"
    },
    {
     "data": {
      "text/html": [
       "<div class=\"\"><span class=\"tfsechead \"><span class=\"ltr\"><a target=\"_blank\" href=\"http://resources.huygens.knaw.nl/retroboeken/generalemissiven/#page=282&amp;source=6\" title=\"Show this document on Huygens\" sec=\"6 267:13\">6 267:13</a></span></span>  <span class=\"txtu\">Batavia </span></div>"
      ],
      "text/plain": [
       "<IPython.core.display.HTML object>"
      ]
     },
     "metadata": {},
     "output_type": "display_data"
    },
    {
     "data": {
      "text/html": [
       "<div class=\"\"><span class=\"tfsechead \"><span class=\"ltr\"><a target=\"_blank\" href=\"http://resources.huygens.knaw.nl/retroboeken/generalemissiven/#page=282&amp;source=6\" title=\"Show this document on Huygens\" sec=\"6 267:13\">6 267:13</a></span></span>  <span class=\"txtu\">kruidnagelen </span><span class=\"txtu\">in </span><span class=\"txtu\">Honimoa, </span><span class=\"txtu\">moeten </span><span class=\"txtu\">opgezonden </span><span class=\"txtu\">worden; </span><span class=\"txtu\">de </span><span class=\"txtu\">fiskaal </span><span class=\"txtu\">te </span><span class=\"txtu\">Batavia </span><span class=\"txtu\">ontdekte, </span></div>"
      ],
      "text/plain": [
       "<IPython.core.display.HTML object>"
      ]
     },
     "metadata": {},
     "output_type": "display_data"
    },
    {
     "data": {
      "text/html": [
       "<div class=\"\"><span class=\"tfsechead \"><span class=\"ltr\"><a target=\"_blank\" href=\"http://resources.huygens.knaw.nl/retroboeken/generalemissiven/#page=282&amp;source=6\" title=\"Show this document on Huygens\" sec=\"6 267:17\">6 267:17</a></span></span>  <span class=\"txtu\">Banda </span></div>"
      ],
      "text/plain": [
       "<IPython.core.display.HTML object>"
      ]
     },
     "metadata": {},
     "output_type": "display_data"
    },
    {
     "data": {
      "text/html": [
       "<div class=\"\"><span class=\"tfsechead \"><span class=\"ltr\"><a target=\"_blank\" href=\"http://resources.huygens.knaw.nl/retroboeken/generalemissiven/#page=282&amp;source=6\" title=\"Show this document on Huygens\" sec=\"6 267:17\">6 267:17</a></span></span>  <span class=\"txtu\">aldaar; </span><span class=\"txtu\">naar </span><span class=\"txtu\">Banda </span><span class=\"txtu\">werd </span><span class=\"txtu\">in </span><span class=\"txtu\">de </span><span class=\"txtu\">Andromeda </span><span class=\"txtu\">carg. </span><span class=\"txtu\">van </span><span class=\"txtu\">f. </span><span class=\"txtu\">36162 </span><span class=\"txtu\">gezonden, </span><span class=\"txtu\">w. </span><span class=\"txtu\">o. </span><span class=\"txtu\">10021 </span></div>"
      ],
      "text/plain": [
       "<IPython.core.display.HTML object>"
      ]
     },
     "metadata": {},
     "output_type": "display_data"
    },
    {
     "name": "stdout",
     "output_type": "stream",
     "text": [
      "Overlap 47: Batavia, - Banda "
     ]
    },
    {
     "data": {
      "text/html": [
       "<div class=\"\"><span class=\"tfsechead \"><span class=\"ltr\"><a target=\"_blank\" href=\"http://resources.huygens.knaw.nl/retroboeken/generalemissiven/#page=282&amp;source=6\" title=\"Show this document on Huygens\" sec=\"6 267:1\">6 267:1</a></span></span>  <span class=\"txtu \"><span class=\"structure\"><span class=\"nd\">volume</span> 6, <span class=\"nd\">letter</span> Van Outhoorn, Van Hoorn, Van Riebeeck, Pijl, Cops, Bornezee, Van Dam, Van Swoll, De Wilde, Douglas, Van Rijn, Van der Stel; Batavia, 1 februari 1704</span></span></div>"
      ],
      "text/plain": [
       "<IPython.core.display.HTML object>"
      ]
     },
     "metadata": {},
     "output_type": "display_data"
    },
    {
     "data": {
      "text/html": [
       "<div class=\"\"><span class=\"tfsechead \"><span class=\"ltr\"><a target=\"_blank\" href=\"http://resources.huygens.knaw.nl/retroboeken/generalemissiven/#page=282&amp;source=6\" title=\"Show this document on Huygens\" sec=\"6 267:15\">6 267:15</a></span></span>  <span class=\"txtu\">Batavia, </span></div>"
      ],
      "text/plain": [
       "<IPython.core.display.HTML object>"
      ]
     },
     "metadata": {},
     "output_type": "display_data"
    },
    {
     "data": {
      "text/html": [
       "<div class=\"\"><span class=\"tfsechead \"><span class=\"ltr\"><a target=\"_blank\" href=\"http://resources.huygens.knaw.nl/retroboeken/generalemissiven/#page=282&amp;source=6\" title=\"Show this document on Huygens\" sec=\"6 267:15\">6 267:15</a></span></span>  <span class=\"txtu\">40 </span><span class=\"txtu\">legger </span><span class=\"txtu\">arak </span><span class=\"txtu\">met </span><span class=\"txtu\">de </span><span class=\"txtu\">Casteel </span><span class=\"txtu\">Batavia, </span><span class=\"txtu\">met </span><span class=\"txtu\">medeweten </span><span class=\"txtu\">van </span><span class=\"txtu\">den </span><span class=\"txtu\">fiskaal </span><span class=\"txtu\">Jacob </span><span class=\"txtu\">Gloeck, </span></div>"
      ],
      "text/plain": [
       "<IPython.core.display.HTML object>"
      ]
     },
     "metadata": {},
     "output_type": "display_data"
    },
    {
     "data": {
      "text/html": [
       "<div class=\"\"><span class=\"tfsechead \"><span class=\"ltr\"><a target=\"_blank\" href=\"http://resources.huygens.knaw.nl/retroboeken/generalemissiven/#page=282&amp;source=6\" title=\"Show this document on Huygens\" sec=\"6 267:17\">6 267:17</a></span></span>  <span class=\"txtu\">Banda </span></div>"
      ],
      "text/plain": [
       "<IPython.core.display.HTML object>"
      ]
     },
     "metadata": {},
     "output_type": "display_data"
    },
    {
     "data": {
      "text/html": [
       "<div class=\"\"><span class=\"tfsechead \"><span class=\"ltr\"><a target=\"_blank\" href=\"http://resources.huygens.knaw.nl/retroboeken/generalemissiven/#page=282&amp;source=6\" title=\"Show this document on Huygens\" sec=\"6 267:17\">6 267:17</a></span></span>  <span class=\"txtu\">aldaar; </span><span class=\"txtu\">naar </span><span class=\"txtu\">Banda </span><span class=\"txtu\">werd </span><span class=\"txtu\">in </span><span class=\"txtu\">de </span><span class=\"txtu\">Andromeda </span><span class=\"txtu\">carg. </span><span class=\"txtu\">van </span><span class=\"txtu\">f. </span><span class=\"txtu\">36162 </span><span class=\"txtu\">gezonden, </span><span class=\"txtu\">w. </span><span class=\"txtu\">o. </span><span class=\"txtu\">10021 </span></div>"
      ],
      "text/plain": [
       "<IPython.core.display.HTML object>"
      ]
     },
     "metadata": {},
     "output_type": "display_data"
    },
    {
     "name": "stdout",
     "output_type": "stream",
     "text": [
      "Overlap 48: Banda - Batavia "
     ]
    },
    {
     "data": {
      "text/html": [
       "<div class=\"\"><span class=\"tfsechead \"><span class=\"ltr\"><a target=\"_blank\" href=\"http://resources.huygens.knaw.nl/retroboeken/generalemissiven/#page=282&amp;source=6\" title=\"Show this document on Huygens\" sec=\"6 267:1\">6 267:1</a></span></span>  <span class=\"txtu \"><span class=\"structure\"><span class=\"nd\">volume</span> 6, <span class=\"nd\">letter</span> Van Outhoorn, Van Hoorn, Van Riebeeck, Pijl, Cops, Bornezee, Van Dam, Van Swoll, De Wilde, Douglas, Van Rijn, Van der Stel; Batavia, 1 februari 1704</span></span></div>"
      ],
      "text/plain": [
       "<IPython.core.display.HTML object>"
      ]
     },
     "metadata": {},
     "output_type": "display_data"
    },
    {
     "data": {
      "text/html": [
       "<div class=\"\"><span class=\"tfsechead \"><span class=\"ltr\"><a target=\"_blank\" href=\"http://resources.huygens.knaw.nl/retroboeken/generalemissiven/#page=282&amp;source=6\" title=\"Show this document on Huygens\" sec=\"6 267:17\">6 267:17</a></span></span>  <span class=\"txtu\">Banda </span></div>"
      ],
      "text/plain": [
       "<IPython.core.display.HTML object>"
      ]
     },
     "metadata": {},
     "output_type": "display_data"
    },
    {
     "data": {
      "text/html": [
       "<div class=\"\"><span class=\"tfsechead \"><span class=\"ltr\"><a target=\"_blank\" href=\"http://resources.huygens.knaw.nl/retroboeken/generalemissiven/#page=282&amp;source=6\" title=\"Show this document on Huygens\" sec=\"6 267:17\">6 267:17</a></span></span>  <span class=\"txtu\">aldaar; </span><span class=\"txtu\">naar </span><span class=\"txtu\">Banda </span><span class=\"txtu\">werd </span><span class=\"txtu\">in </span><span class=\"txtu\">de </span><span class=\"txtu\">Andromeda </span><span class=\"txtu\">carg. </span><span class=\"txtu\">van </span><span class=\"txtu\">f. </span><span class=\"txtu\">36162 </span><span class=\"txtu\">gezonden, </span><span class=\"txtu\">w. </span><span class=\"txtu\">o. </span><span class=\"txtu\">10021 </span></div>"
      ],
      "text/plain": [
       "<IPython.core.display.HTML object>"
      ]
     },
     "metadata": {},
     "output_type": "display_data"
    },
    {
     "data": {
      "text/html": [
       "<div class=\"\"><span class=\"tfsechead \"><span class=\"ltr\"><a target=\"_blank\" href=\"http://resources.huygens.knaw.nl/retroboeken/generalemissiven/#page=282&amp;source=6\" title=\"Show this document on Huygens\" sec=\"6 267:19\">6 267:19</a></span></span>  <span class=\"txtu\">Batavia </span></div>"
      ],
      "text/plain": [
       "<IPython.core.display.HTML object>"
      ]
     },
     "metadata": {},
     "output_type": "display_data"
    },
    {
     "data": {
      "text/html": [
       "<div class=\"\"><span class=\"tfsechead \"><span class=\"ltr\"><a target=\"_blank\" href=\"http://resources.huygens.knaw.nl/retroboeken/generalemissiven/#page=282&amp;source=6\" title=\"Show this document on Huygens\" sec=\"6 267:19\">6 267:19</a></span></span>  <span class=\"txtu\">met </span><span class=\"txtu\">100 </span><span class=\"txtu\">militairen; </span><span class=\"txtu\">de </span><span class=\"txtu\">derwaarts </span><span class=\"txtu\">verbannen </span><span class=\"txtu\">schipper </span><span class=\"txtu\">Jan </span><span class=\"txtu\">Boogaard </span><span class=\"txtu\">werd </span><span class=\"txtu\">te </span><span class=\"txtu\">Batavia </span></div>"
      ],
      "text/plain": [
       "<IPython.core.display.HTML object>"
      ]
     },
     "metadata": {},
     "output_type": "display_data"
    },
    {
     "name": "stdout",
     "output_type": "stream",
     "text": [
      "Overlap 49: Batavia - Banda "
     ]
    },
    {
     "data": {
      "text/html": [
       "<div class=\"\"><span class=\"tfsechead \"><span class=\"ltr\"><a target=\"_blank\" href=\"http://resources.huygens.knaw.nl/retroboeken/generalemissiven/#page=305&amp;source=6\" title=\"Show this document on Huygens\" sec=\"6 290:1\">6 290:1</a></span></span>  <span class=\"txtu \"><span class=\"structure\"><span class=\"nd\">volume</span> 6, <span class=\"nd\">letter</span> Van Hoorn, Van Riebeeck, Pijl, Cops, Bornezee, Van Swoll, De Wilde, Douglas, Van Rijn, Van der Stel, Zwaardecroon, De Haan; Batavia, 30 november 1704</span></span></div>"
      ],
      "text/plain": [
       "<IPython.core.display.HTML object>"
      ]
     },
     "metadata": {},
     "output_type": "display_data"
    },
    {
     "data": {
      "text/html": [
       "<div class=\"\"><span class=\"tfsechead \"><span class=\"ltr\"><a target=\"_blank\" href=\"http://resources.huygens.knaw.nl/retroboeken/generalemissiven/#page=305&amp;source=6\" title=\"Show this document on Huygens\" sec=\"6 290:12\">6 290:12</a></span></span>  <span class=\"txtu\">Batavia </span></div>"
      ],
      "text/plain": [
       "<IPython.core.display.HTML object>"
      ]
     },
     "metadata": {},
     "output_type": "display_data"
    },
    {
     "data": {
      "text/html": [
       "<div class=\"\"><span class=\"tfsechead \"><span class=\"ltr\"><a target=\"_blank\" href=\"http://resources.huygens.knaw.nl/retroboeken/generalemissiven/#page=305&amp;source=6\" title=\"Show this document on Huygens\" sec=\"6 290:12\">6 290:12</a></span></span>  <span class=\"txtu\">IJsselt </span><span class=\"txtu\">11, </span><span class=\"txtu\">de </span><span class=\"txtu\">Kasteel </span><span class=\"txtu\">Batavia </span><span class=\"txtu\">14, </span><span class=\"txtu\">de </span><span class=\"txtu\">Spierdijck </span><span class=\"txtu\">23 </span><span class=\"txtu\">juni, </span><span class=\"txtu\">de </span><span class=\"txtu\">Andromeda </span><span class=\"txtu\">22 </span><span class=\"txtu\">juli </span><span class=\"txtu\">en </span><span class=\"txtu\">de </span></div>"
      ],
      "text/plain": [
       "<IPython.core.display.HTML object>"
      ]
     },
     "metadata": {},
     "output_type": "display_data"
    },
    {
     "data": {
      "text/html": [
       "<div class=\"\"><span class=\"tfsechead \"><span class=\"ltr\"><a target=\"_blank\" href=\"http://resources.huygens.knaw.nl/retroboeken/generalemissiven/#page=305&amp;source=6\" title=\"Show this document on Huygens\" sec=\"6 290:22\">6 290:22</a></span></span>  <span class=\"txtu\">Banda </span></div>"
      ],
      "text/plain": [
       "<IPython.core.display.HTML object>"
      ]
     },
     "metadata": {},
     "output_type": "display_data"
    },
    {
     "data": {
      "text/html": [
       "<div class=\"\"><span class=\"tfsechead \"><span class=\"ltr\"><a target=\"_blank\" href=\"http://resources.huygens.knaw.nl/retroboeken/generalemissiven/#page=305&amp;source=6\" title=\"Show this document on Huygens\" sec=\"6 290:22\">6 290:22</a></span></span>  <span class=\"txtu\">van </span><span class=\"txtu\">hier </span><span class=\"txtu\">na </span><span class=\"txtu\">Banda </span><span class=\"txtu\">gedestineerde </span><span class=\"txtu\">en </span><span class=\"txtu\">verongeluckte </span><span class=\"txtu\">fluyt </span><span class=\"txtu\">de </span><span class=\"txtu\">Swaag </span><span class=\"txtu\">in </span><span class=\"txtu\">seer </span><span class=\"txtu\">desolaten </span></div>"
      ],
      "text/plain": [
       "<IPython.core.display.HTML object>"
      ]
     },
     "metadata": {},
     "output_type": "display_data"
    },
    {
     "name": "stdout",
     "output_type": "stream",
     "text": [
      "Overlap 50: Banda - Batavia "
     ]
    },
    {
     "data": {
      "text/html": [
       "<div class=\"\"><span class=\"tfsechead \"><span class=\"ltr\"><a target=\"_blank\" href=\"http://resources.huygens.knaw.nl/retroboeken/generalemissiven/#page=305&amp;source=6\" title=\"Show this document on Huygens\" sec=\"6 290:1\">6 290:1</a></span></span>  <span class=\"txtu \"><span class=\"structure\"><span class=\"nd\">volume</span> 6, <span class=\"nd\">letter</span> Van Hoorn, Van Riebeeck, Pijl, Cops, Bornezee, Van Swoll, De Wilde, Douglas, Van Rijn, Van der Stel, Zwaardecroon, De Haan; Batavia, 30 november 1704</span></span></div>"
      ],
      "text/plain": [
       "<IPython.core.display.HTML object>"
      ]
     },
     "metadata": {},
     "output_type": "display_data"
    },
    {
     "data": {
      "text/html": [
       "<div class=\"\"><span class=\"tfsechead \"><span class=\"ltr\"><a target=\"_blank\" href=\"http://resources.huygens.knaw.nl/retroboeken/generalemissiven/#page=305&amp;source=6\" title=\"Show this document on Huygens\" sec=\"6 290:22\">6 290:22</a></span></span>  <span class=\"txtu\">Banda </span></div>"
      ],
      "text/plain": [
       "<IPython.core.display.HTML object>"
      ]
     },
     "metadata": {},
     "output_type": "display_data"
    },
    {
     "data": {
      "text/html": [
       "<div class=\"\"><span class=\"tfsechead \"><span class=\"ltr\"><a target=\"_blank\" href=\"http://resources.huygens.knaw.nl/retroboeken/generalemissiven/#page=305&amp;source=6\" title=\"Show this document on Huygens\" sec=\"6 290:22\">6 290:22</a></span></span>  <span class=\"txtu\">van </span><span class=\"txtu\">hier </span><span class=\"txtu\">na </span><span class=\"txtu\">Banda </span><span class=\"txtu\">gedestineerde </span><span class=\"txtu\">en </span><span class=\"txtu\">verongeluckte </span><span class=\"txtu\">fluyt </span><span class=\"txtu\">de </span><span class=\"txtu\">Swaag </span><span class=\"txtu\">in </span><span class=\"txtu\">seer </span><span class=\"txtu\">desolaten </span></div>"
      ],
      "text/plain": [
       "<IPython.core.display.HTML object>"
      ]
     },
     "metadata": {},
     "output_type": "display_data"
    },
    {
     "data": {
      "text/html": [
       "<div class=\"\"><span class=\"tfsechead \"><span class=\"ltr\"><a target=\"_blank\" href=\"http://resources.huygens.knaw.nl/retroboeken/generalemissiven/#page=305&amp;source=6\" title=\"Show this document on Huygens\" sec=\"6 290:24\">6 290:24</a></span></span>  <span class=\"txtu\">Batavia </span></div>"
      ],
      "text/plain": [
       "<IPython.core.display.HTML object>"
      ]
     },
     "metadata": {},
     "output_type": "display_data"
    },
    {
     "data": {
      "text/html": [
       "<div class=\"\"><span class=\"tfsechead \"><span class=\"ltr\"><a target=\"_blank\" href=\"http://resources.huygens.knaw.nl/retroboeken/generalemissiven/#page=305&amp;source=6\" title=\"Show this document on Huygens\" sec=\"6 290:24\">6 290:24</a></span></span>  <span class=\"txtu\">Zij </span><span class=\"txtu\">werden, </span><span class=\"txtu\">over </span><span class=\"txtu\">de </span><span class=\"txtu\">schepen </span><span class=\"txtu\">verdeeld, </span><span class=\"txtu\">naar </span><span class=\"txtu\">Batavia </span><span class=\"txtu\">gezonden, </span><span class=\"txtu\">de </span><span class=\"txtu\">soldaten </span><span class=\"txtu\">met </span><span class=\"txtu\">de </span></div>"
      ],
      "text/plain": [
       "<IPython.core.display.HTML object>"
      ]
     },
     "metadata": {},
     "output_type": "display_data"
    },
    {
     "name": "stdout",
     "output_type": "stream",
     "text": [
      "Overlap 51: Banda, - Batavia "
     ]
    },
    {
     "data": {
      "text/html": [
       "<div class=\"\"><span class=\"tfsechead \"><span class=\"ltr\"><a target=\"_blank\" href=\"http://resources.huygens.knaw.nl/retroboeken/generalemissiven/#page=344&amp;source=6\" title=\"Show this document on Huygens\" sec=\"6 329:1\">6 329:1</a></span></span>  <span class=\"txtu \"><span class=\"structure\"><span class=\"nd\">volume</span> 6, <span class=\"nd\">letter</span> Van Hoorn, Van Riebeeck, Pijl, Cops, Bornezee, Van Swoll, De Wilde, Douglas, Van Rijn, Van der Stel, Zwaardecroon, De Haan; Batavia, 31 januari 1705</span></span></div>"
      ],
      "text/plain": [
       "<IPython.core.display.HTML object>"
      ]
     },
     "metadata": {},
     "output_type": "display_data"
    },
    {
     "data": {
      "text/html": [
       "<div class=\"\"><span class=\"tfsechead \"><span class=\"ltr\"><a target=\"_blank\" href=\"http://resources.huygens.knaw.nl/retroboeken/generalemissiven/#page=344&amp;source=6\" title=\"Show this document on Huygens\" sec=\"6 329:13\">6 329:13</a></span></span>  <span class=\"txtu\">Banda, </span></div>"
      ],
      "text/plain": [
       "<IPython.core.display.HTML object>"
      ]
     },
     "metadata": {},
     "output_type": "display_data"
    },
    {
     "data": {
      "text/html": [
       "<div class=\"\"><span class=\"tfsechead \"><span class=\"ltr\"><a target=\"_blank\" href=\"http://resources.huygens.knaw.nl/retroboeken/generalemissiven/#page=344&amp;source=6\" title=\"Show this document on Huygens\" sec=\"6 329:13\">6 329:13</a></span></span>  <span class=\"txtu\">vervangt </span><span class=\"txtu\">Caspar </span><span class=\"txtu\">Tabbart; </span><span class=\"txtu\">de </span><span class=\"txtu\">Keulen </span><span class=\"txtu\">vertrok </span><span class=\"txtu\">met </span><span class=\"txtu\">carg. </span><span class=\"txtu\">van </span><span class=\"txtu\">f. </span><span class=\"txtu\">145210 </span><span class=\"txtu\">Tiaar </span><span class=\"txtu\">Banda, </span><span class=\"txtu\">21 </span></div>"
      ],
      "text/plain": [
       "<IPython.core.display.HTML object>"
      ]
     },
     "metadata": {},
     "output_type": "display_data"
    },
    {
     "data": {
      "text/html": [
       "<div class=\"\"><span class=\"tfsechead \"><span class=\"ltr\"><a target=\"_blank\" href=\"http://resources.huygens.knaw.nl/retroboeken/generalemissiven/#page=344&amp;source=6\" title=\"Show this document on Huygens\" sec=\"6 329:17\">6 329:17</a></span></span>  <span class=\"txtu\">Batavia </span></div>"
      ],
      "text/plain": [
       "<IPython.core.display.HTML object>"
      ]
     },
     "metadata": {},
     "output_type": "display_data"
    },
    {
     "data": {
      "text/html": [
       "<div class=\"\"><span class=\"tfsechead \"><span class=\"ltr\"><a target=\"_blank\" href=\"http://resources.huygens.knaw.nl/retroboeken/generalemissiven/#page=344&amp;source=6\" title=\"Show this document on Huygens\" sec=\"6 329:17\">6 329:17</a></span></span>  <span class=\"txtu\">bij </span><span class=\"txtu\">rijstgebrek </span><span class=\"txtu\">mag </span><span class=\"txtu\">men </span><span class=\"txtu\">er </span><span class=\"txtu\">geen </span><span class=\"txtu\">vaartuigen </span><span class=\"txtu\">naar </span><span class=\"txtu\">Bima </span><span class=\"txtu\">zenden, </span><span class=\"txtu\">wel </span><span class=\"txtu\">naar </span><span class=\"txtu\">Batavia </span><span class=\"txtu\">of </span></div>"
      ],
      "text/plain": [
       "<IPython.core.display.HTML object>"
      ]
     },
     "metadata": {},
     "output_type": "display_data"
    },
    {
     "name": "stdout",
     "output_type": "stream",
     "text": [
      "Overlap 52: Batavia - Banda "
     ]
    },
    {
     "data": {
      "text/html": [
       "<div class=\"\"><span class=\"tfsechead \"><span class=\"ltr\"><a target=\"_blank\" href=\"http://resources.huygens.knaw.nl/retroboeken/generalemissiven/#page=481&amp;source=6\" title=\"Show this document on Huygens\" sec=\"6 466:1\">6 466:1</a></span></span>  <span class=\"txtu \"><span class=\"structure\"><span class=\"nd\">volume</span> 6, <span class=\"nd\">letter</span> Van Hoorn, Van Riebeeck, Van Swoll, De Wilde, Douglas, De Vos, Phoonsen, Van Rijn, Zwaardecroon, Becker, Chasteleyn; Batavia, 15 februari 1707</span></span></div>"
      ],
      "text/plain": [
       "<IPython.core.display.HTML object>"
      ]
     },
     "metadata": {},
     "output_type": "display_data"
    },
    {
     "data": {
      "text/html": [
       "<div class=\"\"><span class=\"tfsechead \"><span class=\"ltr\"><a target=\"_blank\" href=\"http://resources.huygens.knaw.nl/retroboeken/generalemissiven/#page=481&amp;source=6\" title=\"Show this document on Huygens\" sec=\"6 466:10\">6 466:10</a></span></span>  <span class=\"txtu\">Batavia </span></div>"
      ],
      "text/plain": [
       "<IPython.core.display.HTML object>"
      ]
     },
     "metadata": {},
     "output_type": "display_data"
    },
    {
     "data": {
      "text/html": [
       "<div class=\"\"><span class=\"tfsechead \"><span class=\"ltr\"><a target=\"_blank\" href=\"http://resources.huygens.knaw.nl/retroboeken/generalemissiven/#page=481&amp;source=6\" title=\"Show this document on Huygens\" sec=\"6 466:10\">6 466:10</a></span></span>  <span class=\"txtu\">moet </span><span class=\"txtu\">het </span><span class=\"txtu\">restant </span><span class=\"txtu\">er </span><span class=\"txtu\">veilig </span><span class=\"txtu\">op </span><span class=\"txtu\">het </span><span class=\"txtu\">hoofdkantoor </span><span class=\"txtu\">worden </span><span class=\"txtu\">bewaard , </span><span class=\"txtu\">men </span><span class=\"txtu\">weet </span><span class=\"txtu\">er </span><span class=\"txtu\">te </span><span class=\"txtu\">Batavia </span></div>"
      ],
      "text/plain": [
       "<IPython.core.display.HTML object>"
      ]
     },
     "metadata": {},
     "output_type": "display_data"
    },
    {
     "data": {
      "text/html": [
       "<div class=\"\"><span class=\"tfsechead \"><span class=\"ltr\"><a target=\"_blank\" href=\"http://resources.huygens.knaw.nl/retroboeken/generalemissiven/#page=481&amp;source=6\" title=\"Show this document on Huygens\" sec=\"6 466:22\">6 466:22</a></span></span>  <span class=\"txtu\">Banda </span></div>"
      ],
      "text/plain": [
       "<IPython.core.display.HTML object>"
      ]
     },
     "metadata": {},
     "output_type": "display_data"
    },
    {
     "data": {
      "text/html": [
       "<div class=\"\"><span class=\"tfsechead \"><span class=\"ltr\"><a target=\"_blank\" href=\"http://resources.huygens.knaw.nl/retroboeken/generalemissiven/#page=481&amp;source=6\" title=\"Show this document on Huygens\" sec=\"6 466:22\">6 466:22</a></span></span>  <span class=\"txtu\">Haruku; </span><span class=\"txtu\">personalia; </span><span class=\"txtu\">men </span><span class=\"txtu\">moet </span><span class=\"txtu\">Banda </span><span class=\"txtu\">en </span><span class=\"txtu\">Ternate </span><span class=\"txtu\">van </span><span class=\"txtu\">de </span><span class=\"txtu\">ruime </span><span class=\"txtu\">hoeveelheid </span><span class=\"txtu\">buskruit </span></div>"
      ],
      "text/plain": [
       "<IPython.core.display.HTML object>"
      ]
     },
     "metadata": {},
     "output_type": "display_data"
    },
    {
     "name": "stdout",
     "output_type": "stream",
     "text": [
      "Overlap 53: Batavia - Banda; "
     ]
    },
    {
     "data": {
      "text/html": [
       "<div class=\"\"><span class=\"tfsechead \"><span class=\"ltr\"><a target=\"_blank\" href=\"http://resources.huygens.knaw.nl/retroboeken/generalemissiven/#page=481&amp;source=6\" title=\"Show this document on Huygens\" sec=\"6 466:1\">6 466:1</a></span></span>  <span class=\"txtu \"><span class=\"structure\"><span class=\"nd\">volume</span> 6, <span class=\"nd\">letter</span> Van Hoorn, Van Riebeeck, Van Swoll, De Wilde, Douglas, De Vos, Phoonsen, Van Rijn, Zwaardecroon, Becker, Chasteleyn; Batavia, 15 februari 1707</span></span></div>"
      ],
      "text/plain": [
       "<IPython.core.display.HTML object>"
      ]
     },
     "metadata": {},
     "output_type": "display_data"
    },
    {
     "data": {
      "text/html": [
       "<div class=\"\"><span class=\"tfsechead \"><span class=\"ltr\"><a target=\"_blank\" href=\"http://resources.huygens.knaw.nl/retroboeken/generalemissiven/#page=481&amp;source=6\" title=\"Show this document on Huygens\" sec=\"6 466:10\">6 466:10</a></span></span>  <span class=\"txtu\">Batavia </span></div>"
      ],
      "text/plain": [
       "<IPython.core.display.HTML object>"
      ]
     },
     "metadata": {},
     "output_type": "display_data"
    },
    {
     "data": {
      "text/html": [
       "<div class=\"\"><span class=\"tfsechead \"><span class=\"ltr\"><a target=\"_blank\" href=\"http://resources.huygens.knaw.nl/retroboeken/generalemissiven/#page=481&amp;source=6\" title=\"Show this document on Huygens\" sec=\"6 466:10\">6 466:10</a></span></span>  <span class=\"txtu\">moet </span><span class=\"txtu\">het </span><span class=\"txtu\">restant </span><span class=\"txtu\">er </span><span class=\"txtu\">veilig </span><span class=\"txtu\">op </span><span class=\"txtu\">het </span><span class=\"txtu\">hoofdkantoor </span><span class=\"txtu\">worden </span><span class=\"txtu\">bewaard , </span><span class=\"txtu\">men </span><span class=\"txtu\">weet </span><span class=\"txtu\">er </span><span class=\"txtu\">te </span><span class=\"txtu\">Batavia </span></div>"
      ],
      "text/plain": [
       "<IPython.core.display.HTML object>"
      ]
     },
     "metadata": {},
     "output_type": "display_data"
    },
    {
     "data": {
      "text/html": [
       "<div class=\"\"><span class=\"tfsechead \"><span class=\"ltr\"><a target=\"_blank\" href=\"http://resources.huygens.knaw.nl/retroboeken/generalemissiven/#page=481&amp;source=6\" title=\"Show this document on Huygens\" sec=\"6 466:25\">6 466:25</a></span></span>  <span class=\"txtu\">Banda; </span></div>"
      ],
      "text/plain": [
       "<IPython.core.display.HTML object>"
      ]
     },
     "metadata": {},
     "output_type": "display_data"
    },
    {
     "data": {
      "text/html": [
       "<div class=\"\"><span class=\"tfsechead \"><span class=\"ltr\"><a target=\"_blank\" href=\"http://resources.huygens.knaw.nl/retroboeken/generalemissiven/#page=481&amp;source=6\" title=\"Show this document on Huygens\" sec=\"6 466:25\">6 466:25</a></span></span>  <span class=\"txtu\">Amboina </span><span class=\"txtu\">beschikbaar; </span><span class=\"txtu\">12 </span><span class=\"txtu\">jan. </span><span class=\"txtu\">vertrok </span><span class=\"txtu\">de </span><span class=\"txtu\">Casteel </span><span class=\"txtu\">Batavia </span><span class=\"txtu\">via </span><span class=\"txtu\">Malcassar </span><span class=\"txtu\">naar </span><span class=\"txtu\">Banda; </span></div>"
      ],
      "text/plain": [
       "<IPython.core.display.HTML object>"
      ]
     },
     "metadata": {},
     "output_type": "display_data"
    },
    {
     "name": "stdout",
     "output_type": "stream",
     "text": [
      "Overlap 54: Banda - Batavia "
     ]
    },
    {
     "data": {
      "text/html": [
       "<div class=\"\"><span class=\"tfsechead \"><span class=\"ltr\"><a target=\"_blank\" href=\"http://resources.huygens.knaw.nl/retroboeken/generalemissiven/#page=481&amp;source=6\" title=\"Show this document on Huygens\" sec=\"6 466:1\">6 466:1</a></span></span>  <span class=\"txtu \"><span class=\"structure\"><span class=\"nd\">volume</span> 6, <span class=\"nd\">letter</span> Van Hoorn, Van Riebeeck, Van Swoll, De Wilde, Douglas, De Vos, Phoonsen, Van Rijn, Zwaardecroon, Becker, Chasteleyn; Batavia, 15 februari 1707</span></span></div>"
      ],
      "text/plain": [
       "<IPython.core.display.HTML object>"
      ]
     },
     "metadata": {},
     "output_type": "display_data"
    },
    {
     "data": {
      "text/html": [
       "<div class=\"\"><span class=\"tfsechead \"><span class=\"ltr\"><a target=\"_blank\" href=\"http://resources.huygens.knaw.nl/retroboeken/generalemissiven/#page=481&amp;source=6\" title=\"Show this document on Huygens\" sec=\"6 466:22\">6 466:22</a></span></span>  <span class=\"txtu\">Banda </span></div>"
      ],
      "text/plain": [
       "<IPython.core.display.HTML object>"
      ]
     },
     "metadata": {},
     "output_type": "display_data"
    },
    {
     "data": {
      "text/html": [
       "<div class=\"\"><span class=\"tfsechead \"><span class=\"ltr\"><a target=\"_blank\" href=\"http://resources.huygens.knaw.nl/retroboeken/generalemissiven/#page=481&amp;source=6\" title=\"Show this document on Huygens\" sec=\"6 466:22\">6 466:22</a></span></span>  <span class=\"txtu\">Haruku; </span><span class=\"txtu\">personalia; </span><span class=\"txtu\">men </span><span class=\"txtu\">moet </span><span class=\"txtu\">Banda </span><span class=\"txtu\">en </span><span class=\"txtu\">Ternate </span><span class=\"txtu\">van </span><span class=\"txtu\">de </span><span class=\"txtu\">ruime </span><span class=\"txtu\">hoeveelheid </span><span class=\"txtu\">buskruit </span></div>"
      ],
      "text/plain": [
       "<IPython.core.display.HTML object>"
      ]
     },
     "metadata": {},
     "output_type": "display_data"
    },
    {
     "data": {
      "text/html": [
       "<div class=\"\"><span class=\"tfsechead \"><span class=\"ltr\"><a target=\"_blank\" href=\"http://resources.huygens.knaw.nl/retroboeken/generalemissiven/#page=481&amp;source=6\" title=\"Show this document on Huygens\" sec=\"6 466:25\">6 466:25</a></span></span>  <span class=\"txtu\">Batavia </span></div>"
      ],
      "text/plain": [
       "<IPython.core.display.HTML object>"
      ]
     },
     "metadata": {},
     "output_type": "display_data"
    },
    {
     "data": {
      "text/html": [
       "<div class=\"\"><span class=\"tfsechead \"><span class=\"ltr\"><a target=\"_blank\" href=\"http://resources.huygens.knaw.nl/retroboeken/generalemissiven/#page=481&amp;source=6\" title=\"Show this document on Huygens\" sec=\"6 466:25\">6 466:25</a></span></span>  <span class=\"txtu\">Amboina </span><span class=\"txtu\">beschikbaar; </span><span class=\"txtu\">12 </span><span class=\"txtu\">jan. </span><span class=\"txtu\">vertrok </span><span class=\"txtu\">de </span><span class=\"txtu\">Casteel </span><span class=\"txtu\">Batavia </span><span class=\"txtu\">via </span><span class=\"txtu\">Malcassar </span><span class=\"txtu\">naar </span><span class=\"txtu\">Banda; </span></div>"
      ],
      "text/plain": [
       "<IPython.core.display.HTML object>"
      ]
     },
     "metadata": {},
     "output_type": "display_data"
    },
    {
     "name": "stdout",
     "output_type": "stream",
     "text": [
      "Overlap 55: Batavia - Banda; "
     ]
    },
    {
     "data": {
      "text/html": [
       "<div class=\"\"><span class=\"tfsechead \"><span class=\"ltr\"><a target=\"_blank\" href=\"http://resources.huygens.knaw.nl/retroboeken/generalemissiven/#page=481&amp;source=6\" title=\"Show this document on Huygens\" sec=\"6 466:1\">6 466:1</a></span></span>  <span class=\"txtu \"><span class=\"structure\"><span class=\"nd\">volume</span> 6, <span class=\"nd\">letter</span> Van Hoorn, Van Riebeeck, Van Swoll, De Wilde, Douglas, De Vos, Phoonsen, Van Rijn, Zwaardecroon, Becker, Chasteleyn; Batavia, 15 februari 1707</span></span></div>"
      ],
      "text/plain": [
       "<IPython.core.display.HTML object>"
      ]
     },
     "metadata": {},
     "output_type": "display_data"
    },
    {
     "data": {
      "text/html": [
       "<div class=\"\"><span class=\"tfsechead \"><span class=\"ltr\"><a target=\"_blank\" href=\"http://resources.huygens.knaw.nl/retroboeken/generalemissiven/#page=481&amp;source=6\" title=\"Show this document on Huygens\" sec=\"6 466:25\">6 466:25</a></span></span>  <span class=\"txtu\">Batavia </span></div>"
      ],
      "text/plain": [
       "<IPython.core.display.HTML object>"
      ]
     },
     "metadata": {},
     "output_type": "display_data"
    },
    {
     "data": {
      "text/html": [
       "<div class=\"\"><span class=\"tfsechead \"><span class=\"ltr\"><a target=\"_blank\" href=\"http://resources.huygens.knaw.nl/retroboeken/generalemissiven/#page=481&amp;source=6\" title=\"Show this document on Huygens\" sec=\"6 466:25\">6 466:25</a></span></span>  <span class=\"txtu\">Amboina </span><span class=\"txtu\">beschikbaar; </span><span class=\"txtu\">12 </span><span class=\"txtu\">jan. </span><span class=\"txtu\">vertrok </span><span class=\"txtu\">de </span><span class=\"txtu\">Casteel </span><span class=\"txtu\">Batavia </span><span class=\"txtu\">via </span><span class=\"txtu\">Malcassar </span><span class=\"txtu\">naar </span><span class=\"txtu\">Banda; </span></div>"
      ],
      "text/plain": [
       "<IPython.core.display.HTML object>"
      ]
     },
     "metadata": {},
     "output_type": "display_data"
    },
    {
     "data": {
      "text/html": [
       "<div class=\"\"><span class=\"tfsechead \"><span class=\"ltr\"><a target=\"_blank\" href=\"http://resources.huygens.knaw.nl/retroboeken/generalemissiven/#page=481&amp;source=6\" title=\"Show this document on Huygens\" sec=\"6 466:25\">6 466:25</a></span></span>  <span class=\"txtu\">Banda; </span></div>"
      ],
      "text/plain": [
       "<IPython.core.display.HTML object>"
      ]
     },
     "metadata": {},
     "output_type": "display_data"
    },
    {
     "data": {
      "text/html": [
       "<div class=\"\"><span class=\"tfsechead \"><span class=\"ltr\"><a target=\"_blank\" href=\"http://resources.huygens.knaw.nl/retroboeken/generalemissiven/#page=481&amp;source=6\" title=\"Show this document on Huygens\" sec=\"6 466:25\">6 466:25</a></span></span>  <span class=\"txtu\">Amboina </span><span class=\"txtu\">beschikbaar; </span><span class=\"txtu\">12 </span><span class=\"txtu\">jan. </span><span class=\"txtu\">vertrok </span><span class=\"txtu\">de </span><span class=\"txtu\">Casteel </span><span class=\"txtu\">Batavia </span><span class=\"txtu\">via </span><span class=\"txtu\">Malcassar </span><span class=\"txtu\">naar </span><span class=\"txtu\">Banda; </span></div>"
      ],
      "text/plain": [
       "<IPython.core.display.HTML object>"
      ]
     },
     "metadata": {},
     "output_type": "display_data"
    },
    {
     "name": "stdout",
     "output_type": "stream",
     "text": [
      "Overlap 56: Batavia - Banda , "
     ]
    },
    {
     "data": {
      "text/html": [
       "<div class=\"\"><span class=\"tfsechead \"><span class=\"ltr\"><a target=\"_blank\" href=\"http://resources.huygens.knaw.nl/retroboeken/generalemissiven/#page=540&amp;source=6\" title=\"Show this document on Huygens\" sec=\"6 525:1\">6 525:1</a></span></span>  <span class=\"txtu \"><span class=\"structure\"><span class=\"nd\">volume</span> 6, <span class=\"nd\">letter</span> Van Hoorn, Van Riebeeck, Van Swoll, Douglas, De Vos, Van Rijn, Phoonsen, Zwaardecroon, Chasteleyn; Batavia, 10 februari 1708</span></span></div>"
      ],
      "text/plain": [
       "<IPython.core.display.HTML object>"
      ]
     },
     "metadata": {},
     "output_type": "display_data"
    },
    {
     "data": {
      "text/html": [
       "<div class=\"\"><span class=\"tfsechead \"><span class=\"ltr\"><a target=\"_blank\" href=\"http://resources.huygens.knaw.nl/retroboeken/generalemissiven/#page=540&amp;source=6\" title=\"Show this document on Huygens\" sec=\"6 525:8\">6 525:8</a></span></span>  <span class=\"txtu\">Batavia </span></div>"
      ],
      "text/plain": [
       "<IPython.core.display.HTML object>"
      ]
     },
     "metadata": {},
     "output_type": "display_data"
    },
    {
     "data": {
      "text/html": [
       "<div class=\"\"><span class=\"tfsechead \"><span class=\"ltr\"><a target=\"_blank\" href=\"http://resources.huygens.knaw.nl/retroboeken/generalemissiven/#page=540&amp;source=6\" title=\"Show this document on Huygens\" sec=\"6 525:8\">6 525:8</a></span></span>  <span class=\"txtu\">vertrok </span><span class=\"txtu\">de </span><span class=\"txtu\">Kasteel </span><span class=\"txtu\">Batavia </span><span class=\"txtu\">naar </span><span class=\"txtu\">Amboina </span><span class=\"txtu\">via </span><span class=\"txtu\">Makassar </span><span class=\"txtu\">om </span><span class=\"txtu\">daar </span><span class=\"txtu\">200 </span><span class=\"txtu\">last </span><span class=\"txtu\">rijst </span><span class=\"txtu\">in </span><span class=\"txtu\">te </span></div>"
      ],
      "text/plain": [
       "<IPython.core.display.HTML object>"
      ]
     },
     "metadata": {},
     "output_type": "display_data"
    },
    {
     "data": {
      "text/html": [
       "<div class=\"\"><span class=\"tfsechead \"><span class=\"ltr\"><a target=\"_blank\" href=\"http://resources.huygens.knaw.nl/retroboeken/generalemissiven/#page=540&amp;source=6\" title=\"Show this document on Huygens\" sec=\"6 525:9\">6 525:9</a></span></span>  <span class=\"txtu\">Banda , </span></div>"
      ],
      "text/plain": [
       "<IPython.core.display.HTML object>"
      ]
     },
     "metadata": {},
     "output_type": "display_data"
    },
    {
     "data": {
      "text/html": [
       "<div class=\"\"><span class=\"tfsechead \"><span class=\"ltr\"><a target=\"_blank\" href=\"http://resources.huygens.knaw.nl/retroboeken/generalemissiven/#page=540&amp;source=6\" title=\"Show this document on Huygens\" sec=\"6 525:9\">6 525:9</a></span></span>  <span class=\"txtu\">laden </span><span class=\"txtu\">en </span><span class=\"txtu\">voorts </span><span class=\"txtu\">naar </span><span class=\"txtu\">Banda , </span><span class=\"txtu\">rechtstreeks </span><span class=\"txtu\">vertrokken </span><span class=\"txtu\">31 </span><span class=\"txtu\">jan. </span><span class=\"txtu\">de </span><span class=\"txtu\">Flora </span><span class=\"txtu\">en </span><span class=\"txtu\">6 </span><span class=\"txtu\">febr. </span><span class=\"txtu\">de </span></div>"
      ],
      "text/plain": [
       "<IPython.core.display.HTML object>"
      ]
     },
     "metadata": {},
     "output_type": "display_data"
    },
    {
     "name": "stdout",
     "output_type": "stream",
     "text": [
      "Overlap 57: Batavia - Banda; "
     ]
    },
    {
     "data": {
      "text/html": [
       "<div class=\"\"><span class=\"tfsechead \"><span class=\"ltr\"><a target=\"_blank\" href=\"http://resources.huygens.knaw.nl/retroboeken/generalemissiven/#page=540&amp;source=6\" title=\"Show this document on Huygens\" sec=\"6 525:1\">6 525:1</a></span></span>  <span class=\"txtu \"><span class=\"structure\"><span class=\"nd\">volume</span> 6, <span class=\"nd\">letter</span> Van Hoorn, Van Riebeeck, Van Swoll, Douglas, De Vos, Van Rijn, Phoonsen, Zwaardecroon, Chasteleyn; Batavia, 10 februari 1708</span></span></div>"
      ],
      "text/plain": [
       "<IPython.core.display.HTML object>"
      ]
     },
     "metadata": {},
     "output_type": "display_data"
    },
    {
     "data": {
      "text/html": [
       "<div class=\"\"><span class=\"tfsechead \"><span class=\"ltr\"><a target=\"_blank\" href=\"http://resources.huygens.knaw.nl/retroboeken/generalemissiven/#page=540&amp;source=6\" title=\"Show this document on Huygens\" sec=\"6 525:8\">6 525:8</a></span></span>  <span class=\"txtu\">Batavia </span></div>"
      ],
      "text/plain": [
       "<IPython.core.display.HTML object>"
      ]
     },
     "metadata": {},
     "output_type": "display_data"
    },
    {
     "data": {
      "text/html": [
       "<div class=\"\"><span class=\"tfsechead \"><span class=\"ltr\"><a target=\"_blank\" href=\"http://resources.huygens.knaw.nl/retroboeken/generalemissiven/#page=540&amp;source=6\" title=\"Show this document on Huygens\" sec=\"6 525:8\">6 525:8</a></span></span>  <span class=\"txtu\">vertrok </span><span class=\"txtu\">de </span><span class=\"txtu\">Kasteel </span><span class=\"txtu\">Batavia </span><span class=\"txtu\">naar </span><span class=\"txtu\">Amboina </span><span class=\"txtu\">via </span><span class=\"txtu\">Makassar </span><span class=\"txtu\">om </span><span class=\"txtu\">daar </span><span class=\"txtu\">200 </span><span class=\"txtu\">last </span><span class=\"txtu\">rijst </span><span class=\"txtu\">in </span><span class=\"txtu\">te </span></div>"
      ],
      "text/plain": [
       "<IPython.core.display.HTML object>"
      ]
     },
     "metadata": {},
     "output_type": "display_data"
    },
    {
     "data": {
      "text/html": [
       "<div class=\"\"><span class=\"tfsechead \"><span class=\"ltr\"><a target=\"_blank\" href=\"http://resources.huygens.knaw.nl/retroboeken/generalemissiven/#page=540&amp;source=6\" title=\"Show this document on Huygens\" sec=\"6 525:13\">6 525:13</a></span></span>  <span class=\"txtu\">Banda; </span></div>"
      ],
      "text/plain": [
       "<IPython.core.display.HTML object>"
      ]
     },
     "metadata": {},
     "output_type": "display_data"
    },
    {
     "data": {
      "text/html": [
       "<div class=\"\"><span class=\"tfsechead \"><span class=\"ltr\"><a target=\"_blank\" href=\"http://resources.huygens.knaw.nl/retroboeken/generalemissiven/#page=540&amp;source=6\" title=\"Show this document on Huygens\" sec=\"6 525:13\">6 525:13</a></span></span>  <span class=\"txtu\">als </span><span class=\"txtu\">fiskaal </span><span class=\"txtu\">werd </span><span class=\"txtu\">hij </span><span class=\"txtu\">opgevolgd </span><span class=\"txtu\">door </span><span class=\"txtu\">Jacob </span><span class=\"txtu\">Bottendorp </span><span class=\"txtu\">uit </span><span class=\"txtu\">Banda; </span><span class=\"txtu\">ds. </span><span class=\"txtu\">Jacobus </span><span class=\"txtu\">van </span><span class=\"txtu\">der </span></div>"
      ],
      "text/plain": [
       "<IPython.core.display.HTML object>"
      ]
     },
     "metadata": {},
     "output_type": "display_data"
    },
    {
     "name": "stdout",
     "output_type": "stream",
     "text": [
      "Overlap 58: Batavia - Banda "
     ]
    },
    {
     "data": {
      "text/html": [
       "<div class=\"\"><span class=\"tfsechead \"><span class=\"ltr\"><a target=\"_blank\" href=\"http://resources.huygens.knaw.nl/retroboeken/generalemissiven/#page=540&amp;source=6\" title=\"Show this document on Huygens\" sec=\"6 525:1\">6 525:1</a></span></span>  <span class=\"txtu \"><span class=\"structure\"><span class=\"nd\">volume</span> 6, <span class=\"nd\">letter</span> Van Hoorn, Van Riebeeck, Van Swoll, Douglas, De Vos, Van Rijn, Phoonsen, Zwaardecroon, Chasteleyn; Batavia, 10 februari 1708</span></span></div>"
      ],
      "text/plain": [
       "<IPython.core.display.HTML object>"
      ]
     },
     "metadata": {},
     "output_type": "display_data"
    },
    {
     "data": {
      "text/html": [
       "<div class=\"\"><span class=\"tfsechead \"><span class=\"ltr\"><a target=\"_blank\" href=\"http://resources.huygens.knaw.nl/retroboeken/generalemissiven/#page=540&amp;source=6\" title=\"Show this document on Huygens\" sec=\"6 525:8\">6 525:8</a></span></span>  <span class=\"txtu\">Batavia </span></div>"
      ],
      "text/plain": [
       "<IPython.core.display.HTML object>"
      ]
     },
     "metadata": {},
     "output_type": "display_data"
    },
    {
     "data": {
      "text/html": [
       "<div class=\"\"><span class=\"tfsechead \"><span class=\"ltr\"><a target=\"_blank\" href=\"http://resources.huygens.knaw.nl/retroboeken/generalemissiven/#page=540&amp;source=6\" title=\"Show this document on Huygens\" sec=\"6 525:8\">6 525:8</a></span></span>  <span class=\"txtu\">vertrok </span><span class=\"txtu\">de </span><span class=\"txtu\">Kasteel </span><span class=\"txtu\">Batavia </span><span class=\"txtu\">naar </span><span class=\"txtu\">Amboina </span><span class=\"txtu\">via </span><span class=\"txtu\">Makassar </span><span class=\"txtu\">om </span><span class=\"txtu\">daar </span><span class=\"txtu\">200 </span><span class=\"txtu\">last </span><span class=\"txtu\">rijst </span><span class=\"txtu\">in </span><span class=\"txtu\">te </span></div>"
      ],
      "text/plain": [
       "<IPython.core.display.HTML object>"
      ]
     },
     "metadata": {},
     "output_type": "display_data"
    },
    {
     "data": {
      "text/html": [
       "<div class=\"\"><span class=\"tfsechead \"><span class=\"ltr\"><a target=\"_blank\" href=\"http://resources.huygens.knaw.nl/retroboeken/generalemissiven/#page=540&amp;source=6\" title=\"Show this document on Huygens\" sec=\"6 525:18\">6 525:18</a></span></span>  <span class=\"txtu\">Banda </span></div>"
      ],
      "text/plain": [
       "<IPython.core.display.HTML object>"
      ]
     },
     "metadata": {},
     "output_type": "display_data"
    },
    {
     "data": {
      "text/html": [
       "<div class=\"\"><span class=\"tfsechead \"><span class=\"ltr\"><a target=\"_blank\" href=\"http://resources.huygens.knaw.nl/retroboeken/generalemissiven/#page=540&amp;source=6\" title=\"Show this document on Huygens\" sec=\"6 525:18\">6 525:18</a></span></span>  <span class=\"txtu\">sloep </span><span class=\"txtu\">Rommelpot </span><span class=\"txtu\">naar </span><span class=\"txtu\">Banda </span><span class=\"txtu\">om </span><span class=\"txtu\">daar </span><span class=\"txtu\">gebruikt </span><span class=\"txtu\">te </span><span class=\"txtu\">worden; </span><span class=\"txtu\">de </span><span class=\"txtu\">oude </span><span class=\"txtu\">rijstvoorraad </span></div>"
      ],
      "text/plain": [
       "<IPython.core.display.HTML object>"
      ]
     },
     "metadata": {},
     "output_type": "display_data"
    },
    {
     "name": "stdout",
     "output_type": "stream",
     "text": [
      "Overlap 59: Batavia - Banda "
     ]
    },
    {
     "data": {
      "text/html": [
       "<div class=\"\"><span class=\"tfsechead \"><span class=\"ltr\"><a target=\"_blank\" href=\"http://resources.huygens.knaw.nl/retroboeken/generalemissiven/#page=540&amp;source=6\" title=\"Show this document on Huygens\" sec=\"6 525:1\">6 525:1</a></span></span>  <span class=\"txtu \"><span class=\"structure\"><span class=\"nd\">volume</span> 6, <span class=\"nd\">letter</span> Van Hoorn, Van Riebeeck, Van Swoll, Douglas, De Vos, Van Rijn, Phoonsen, Zwaardecroon, Chasteleyn; Batavia, 10 februari 1708</span></span></div>"
      ],
      "text/plain": [
       "<IPython.core.display.HTML object>"
      ]
     },
     "metadata": {},
     "output_type": "display_data"
    },
    {
     "data": {
      "text/html": [
       "<div class=\"\"><span class=\"tfsechead \"><span class=\"ltr\"><a target=\"_blank\" href=\"http://resources.huygens.knaw.nl/retroboeken/generalemissiven/#page=540&amp;source=6\" title=\"Show this document on Huygens\" sec=\"6 525:8\">6 525:8</a></span></span>  <span class=\"txtu\">Batavia </span></div>"
      ],
      "text/plain": [
       "<IPython.core.display.HTML object>"
      ]
     },
     "metadata": {},
     "output_type": "display_data"
    },
    {
     "data": {
      "text/html": [
       "<div class=\"\"><span class=\"tfsechead \"><span class=\"ltr\"><a target=\"_blank\" href=\"http://resources.huygens.knaw.nl/retroboeken/generalemissiven/#page=540&amp;source=6\" title=\"Show this document on Huygens\" sec=\"6 525:8\">6 525:8</a></span></span>  <span class=\"txtu\">vertrok </span><span class=\"txtu\">de </span><span class=\"txtu\">Kasteel </span><span class=\"txtu\">Batavia </span><span class=\"txtu\">naar </span><span class=\"txtu\">Amboina </span><span class=\"txtu\">via </span><span class=\"txtu\">Makassar </span><span class=\"txtu\">om </span><span class=\"txtu\">daar </span><span class=\"txtu\">200 </span><span class=\"txtu\">last </span><span class=\"txtu\">rijst </span><span class=\"txtu\">in </span><span class=\"txtu\">te </span></div>"
      ],
      "text/plain": [
       "<IPython.core.display.HTML object>"
      ]
     },
     "metadata": {},
     "output_type": "display_data"
    },
    {
     "data": {
      "text/html": [
       "<div class=\"\"><span class=\"tfsechead \"><span class=\"ltr\"><a target=\"_blank\" href=\"http://resources.huygens.knaw.nl/retroboeken/generalemissiven/#page=540&amp;source=6\" title=\"Show this document on Huygens\" sec=\"6 525:21\">6 525:21</a></span></span>  <span class=\"txtu\">Banda </span></div>"
      ],
      "text/plain": [
       "<IPython.core.display.HTML object>"
      ]
     },
     "metadata": {},
     "output_type": "display_data"
    },
    {
     "data": {
      "text/html": [
       "<div class=\"\"><span class=\"tfsechead \"><span class=\"ltr\"><a target=\"_blank\" href=\"http://resources.huygens.knaw.nl/retroboeken/generalemissiven/#page=540&amp;source=6\" title=\"Show this document on Huygens\" sec=\"6 525:21\">6 525:21</a></span></span>  <span class=\"txtu\">werd </span><span class=\"txtu\">naar </span><span class=\"txtu\">Banda </span><span class=\"txtu\">teruggezonden, </span><span class=\"txtu\">maar </span><span class=\"txtu\">hij </span><span class=\"txtu\">mag </span><span class=\"txtu\">na </span><span class=\"txtu\">afdoening </span><span class=\"txtu\">van </span><span class=\"txtu\">de </span><span class=\"txtu\">rechtszaak </span><span class=\"txtu\">tegen </span></div>"
      ],
      "text/plain": [
       "<IPython.core.display.HTML object>"
      ]
     },
     "metadata": {},
     "output_type": "display_data"
    },
    {
     "name": "stdout",
     "output_type": "stream",
     "text": [
      "Overlap 60: Banda , - Batavia "
     ]
    },
    {
     "data": {
      "text/html": [
       "<div class=\"\"><span class=\"tfsechead \"><span class=\"ltr\"><a target=\"_blank\" href=\"http://resources.huygens.knaw.nl/retroboeken/generalemissiven/#page=540&amp;source=6\" title=\"Show this document on Huygens\" sec=\"6 525:1\">6 525:1</a></span></span>  <span class=\"txtu \"><span class=\"structure\"><span class=\"nd\">volume</span> 6, <span class=\"nd\">letter</span> Van Hoorn, Van Riebeeck, Van Swoll, Douglas, De Vos, Van Rijn, Phoonsen, Zwaardecroon, Chasteleyn; Batavia, 10 februari 1708</span></span></div>"
      ],
      "text/plain": [
       "<IPython.core.display.HTML object>"
      ]
     },
     "metadata": {},
     "output_type": "display_data"
    },
    {
     "data": {
      "text/html": [
       "<div class=\"\"><span class=\"tfsechead \"><span class=\"ltr\"><a target=\"_blank\" href=\"http://resources.huygens.knaw.nl/retroboeken/generalemissiven/#page=540&amp;source=6\" title=\"Show this document on Huygens\" sec=\"6 525:9\">6 525:9</a></span></span>  <span class=\"txtu\">Banda , </span></div>"
      ],
      "text/plain": [
       "<IPython.core.display.HTML object>"
      ]
     },
     "metadata": {},
     "output_type": "display_data"
    },
    {
     "data": {
      "text/html": [
       "<div class=\"\"><span class=\"tfsechead \"><span class=\"ltr\"><a target=\"_blank\" href=\"http://resources.huygens.knaw.nl/retroboeken/generalemissiven/#page=540&amp;source=6\" title=\"Show this document on Huygens\" sec=\"6 525:9\">6 525:9</a></span></span>  <span class=\"txtu\">laden </span><span class=\"txtu\">en </span><span class=\"txtu\">voorts </span><span class=\"txtu\">naar </span><span class=\"txtu\">Banda , </span><span class=\"txtu\">rechtstreeks </span><span class=\"txtu\">vertrokken </span><span class=\"txtu\">31 </span><span class=\"txtu\">jan. </span><span class=\"txtu\">de </span><span class=\"txtu\">Flora </span><span class=\"txtu\">en </span><span class=\"txtu\">6 </span><span class=\"txtu\">febr. </span><span class=\"txtu\">de </span></div>"
      ],
      "text/plain": [
       "<IPython.core.display.HTML object>"
      ]
     },
     "metadata": {},
     "output_type": "display_data"
    },
    {
     "data": {
      "text/html": [
       "<div class=\"\"><span class=\"tfsechead \"><span class=\"ltr\"><a target=\"_blank\" href=\"http://resources.huygens.knaw.nl/retroboeken/generalemissiven/#page=540&amp;source=6\" title=\"Show this document on Huygens\" sec=\"6 525:14\">6 525:14</a></span></span>  <span class=\"txtu\">Batavia </span></div>"
      ],
      "text/plain": [
       "<IPython.core.display.HTML object>"
      ]
     },
     "metadata": {},
     "output_type": "display_data"
    },
    {
     "data": {
      "text/html": [
       "<div class=\"\"><span class=\"tfsechead \"><span class=\"ltr\"><a target=\"_blank\" href=\"http://resources.huygens.knaw.nl/retroboeken/generalemissiven/#page=540&amp;source=6\" title=\"Show this document on Huygens\" sec=\"6 525:14\">6 525:14</a></span></span>  <span class=\"txtu\">Vorm </span><span class=\"txtu\">mag </span><span class=\"txtu\">een </span><span class=\"txtu\">reis </span><span class=\"txtu\">naar </span><span class=\"txtu\">Batavia </span><span class=\"txtu\">maken </span><span class=\"txtu\">om </span><span class=\"txtu\">daar </span><span class=\"txtu\">te </span><span class=\"txtu\">hertrouwen; </span><span class=\"txtu\">oud-</span><span class=\"txtu\">gouvemeur </span></div>"
      ],
      "text/plain": [
       "<IPython.core.display.HTML object>"
      ]
     },
     "metadata": {},
     "output_type": "display_data"
    },
    {
     "name": "stdout",
     "output_type": "stream",
     "text": [
      "Overlap 61: Banda; - Batavia "
     ]
    },
    {
     "data": {
      "text/html": [
       "<div class=\"\"><span class=\"tfsechead \"><span class=\"ltr\"><a target=\"_blank\" href=\"http://resources.huygens.knaw.nl/retroboeken/generalemissiven/#page=540&amp;source=6\" title=\"Show this document on Huygens\" sec=\"6 525:1\">6 525:1</a></span></span>  <span class=\"txtu \"><span class=\"structure\"><span class=\"nd\">volume</span> 6, <span class=\"nd\">letter</span> Van Hoorn, Van Riebeeck, Van Swoll, Douglas, De Vos, Van Rijn, Phoonsen, Zwaardecroon, Chasteleyn; Batavia, 10 februari 1708</span></span></div>"
      ],
      "text/plain": [
       "<IPython.core.display.HTML object>"
      ]
     },
     "metadata": {},
     "output_type": "display_data"
    },
    {
     "data": {
      "text/html": [
       "<div class=\"\"><span class=\"tfsechead \"><span class=\"ltr\"><a target=\"_blank\" href=\"http://resources.huygens.knaw.nl/retroboeken/generalemissiven/#page=540&amp;source=6\" title=\"Show this document on Huygens\" sec=\"6 525:13\">6 525:13</a></span></span>  <span class=\"txtu\">Banda; </span></div>"
      ],
      "text/plain": [
       "<IPython.core.display.HTML object>"
      ]
     },
     "metadata": {},
     "output_type": "display_data"
    },
    {
     "data": {
      "text/html": [
       "<div class=\"\"><span class=\"tfsechead \"><span class=\"ltr\"><a target=\"_blank\" href=\"http://resources.huygens.knaw.nl/retroboeken/generalemissiven/#page=540&amp;source=6\" title=\"Show this document on Huygens\" sec=\"6 525:13\">6 525:13</a></span></span>  <span class=\"txtu\">als </span><span class=\"txtu\">fiskaal </span><span class=\"txtu\">werd </span><span class=\"txtu\">hij </span><span class=\"txtu\">opgevolgd </span><span class=\"txtu\">door </span><span class=\"txtu\">Jacob </span><span class=\"txtu\">Bottendorp </span><span class=\"txtu\">uit </span><span class=\"txtu\">Banda; </span><span class=\"txtu\">ds. </span><span class=\"txtu\">Jacobus </span><span class=\"txtu\">van </span><span class=\"txtu\">der </span></div>"
      ],
      "text/plain": [
       "<IPython.core.display.HTML object>"
      ]
     },
     "metadata": {},
     "output_type": "display_data"
    },
    {
     "data": {
      "text/html": [
       "<div class=\"\"><span class=\"tfsechead \"><span class=\"ltr\"><a target=\"_blank\" href=\"http://resources.huygens.knaw.nl/retroboeken/generalemissiven/#page=540&amp;source=6\" title=\"Show this document on Huygens\" sec=\"6 525:14\">6 525:14</a></span></span>  <span class=\"txtu\">Batavia </span></div>"
      ],
      "text/plain": [
       "<IPython.core.display.HTML object>"
      ]
     },
     "metadata": {},
     "output_type": "display_data"
    },
    {
     "data": {
      "text/html": [
       "<div class=\"\"><span class=\"tfsechead \"><span class=\"ltr\"><a target=\"_blank\" href=\"http://resources.huygens.knaw.nl/retroboeken/generalemissiven/#page=540&amp;source=6\" title=\"Show this document on Huygens\" sec=\"6 525:14\">6 525:14</a></span></span>  <span class=\"txtu\">Vorm </span><span class=\"txtu\">mag </span><span class=\"txtu\">een </span><span class=\"txtu\">reis </span><span class=\"txtu\">naar </span><span class=\"txtu\">Batavia </span><span class=\"txtu\">maken </span><span class=\"txtu\">om </span><span class=\"txtu\">daar </span><span class=\"txtu\">te </span><span class=\"txtu\">hertrouwen; </span><span class=\"txtu\">oud-</span><span class=\"txtu\">gouvemeur </span></div>"
      ],
      "text/plain": [
       "<IPython.core.display.HTML object>"
      ]
     },
     "metadata": {},
     "output_type": "display_data"
    },
    {
     "name": "stdout",
     "output_type": "stream",
     "text": [
      "Overlap 62: Batavia - Banda "
     ]
    },
    {
     "data": {
      "text/html": [
       "<div class=\"\"><span class=\"tfsechead \"><span class=\"ltr\"><a target=\"_blank\" href=\"http://resources.huygens.knaw.nl/retroboeken/generalemissiven/#page=540&amp;source=6\" title=\"Show this document on Huygens\" sec=\"6 525:1\">6 525:1</a></span></span>  <span class=\"txtu \"><span class=\"structure\"><span class=\"nd\">volume</span> 6, <span class=\"nd\">letter</span> Van Hoorn, Van Riebeeck, Van Swoll, Douglas, De Vos, Van Rijn, Phoonsen, Zwaardecroon, Chasteleyn; Batavia, 10 februari 1708</span></span></div>"
      ],
      "text/plain": [
       "<IPython.core.display.HTML object>"
      ]
     },
     "metadata": {},
     "output_type": "display_data"
    },
    {
     "data": {
      "text/html": [
       "<div class=\"\"><span class=\"tfsechead \"><span class=\"ltr\"><a target=\"_blank\" href=\"http://resources.huygens.knaw.nl/retroboeken/generalemissiven/#page=540&amp;source=6\" title=\"Show this document on Huygens\" sec=\"6 525:14\">6 525:14</a></span></span>  <span class=\"txtu\">Batavia </span></div>"
      ],
      "text/plain": [
       "<IPython.core.display.HTML object>"
      ]
     },
     "metadata": {},
     "output_type": "display_data"
    },
    {
     "data": {
      "text/html": [
       "<div class=\"\"><span class=\"tfsechead \"><span class=\"ltr\"><a target=\"_blank\" href=\"http://resources.huygens.knaw.nl/retroboeken/generalemissiven/#page=540&amp;source=6\" title=\"Show this document on Huygens\" sec=\"6 525:14\">6 525:14</a></span></span>  <span class=\"txtu\">Vorm </span><span class=\"txtu\">mag </span><span class=\"txtu\">een </span><span class=\"txtu\">reis </span><span class=\"txtu\">naar </span><span class=\"txtu\">Batavia </span><span class=\"txtu\">maken </span><span class=\"txtu\">om </span><span class=\"txtu\">daar </span><span class=\"txtu\">te </span><span class=\"txtu\">hertrouwen; </span><span class=\"txtu\">oud-</span><span class=\"txtu\">gouvemeur </span></div>"
      ],
      "text/plain": [
       "<IPython.core.display.HTML object>"
      ]
     },
     "metadata": {},
     "output_type": "display_data"
    },
    {
     "data": {
      "text/html": [
       "<div class=\"\"><span class=\"tfsechead \"><span class=\"ltr\"><a target=\"_blank\" href=\"http://resources.huygens.knaw.nl/retroboeken/generalemissiven/#page=540&amp;source=6\" title=\"Show this document on Huygens\" sec=\"6 525:18\">6 525:18</a></span></span>  <span class=\"txtu\">Banda </span></div>"
      ],
      "text/plain": [
       "<IPython.core.display.HTML object>"
      ]
     },
     "metadata": {},
     "output_type": "display_data"
    },
    {
     "data": {
      "text/html": [
       "<div class=\"\"><span class=\"tfsechead \"><span class=\"ltr\"><a target=\"_blank\" href=\"http://resources.huygens.knaw.nl/retroboeken/generalemissiven/#page=540&amp;source=6\" title=\"Show this document on Huygens\" sec=\"6 525:18\">6 525:18</a></span></span>  <span class=\"txtu\">sloep </span><span class=\"txtu\">Rommelpot </span><span class=\"txtu\">naar </span><span class=\"txtu\">Banda </span><span class=\"txtu\">om </span><span class=\"txtu\">daar </span><span class=\"txtu\">gebruikt </span><span class=\"txtu\">te </span><span class=\"txtu\">worden; </span><span class=\"txtu\">de </span><span class=\"txtu\">oude </span><span class=\"txtu\">rijstvoorraad </span></div>"
      ],
      "text/plain": [
       "<IPython.core.display.HTML object>"
      ]
     },
     "metadata": {},
     "output_type": "display_data"
    },
    {
     "name": "stdout",
     "output_type": "stream",
     "text": [
      "Overlap 63: Batavia - Banda "
     ]
    },
    {
     "data": {
      "text/html": [
       "<div class=\"\"><span class=\"tfsechead \"><span class=\"ltr\"><a target=\"_blank\" href=\"http://resources.huygens.knaw.nl/retroboeken/generalemissiven/#page=540&amp;source=6\" title=\"Show this document on Huygens\" sec=\"6 525:1\">6 525:1</a></span></span>  <span class=\"txtu \"><span class=\"structure\"><span class=\"nd\">volume</span> 6, <span class=\"nd\">letter</span> Van Hoorn, Van Riebeeck, Van Swoll, Douglas, De Vos, Van Rijn, Phoonsen, Zwaardecroon, Chasteleyn; Batavia, 10 februari 1708</span></span></div>"
      ],
      "text/plain": [
       "<IPython.core.display.HTML object>"
      ]
     },
     "metadata": {},
     "output_type": "display_data"
    },
    {
     "data": {
      "text/html": [
       "<div class=\"\"><span class=\"tfsechead \"><span class=\"ltr\"><a target=\"_blank\" href=\"http://resources.huygens.knaw.nl/retroboeken/generalemissiven/#page=540&amp;source=6\" title=\"Show this document on Huygens\" sec=\"6 525:14\">6 525:14</a></span></span>  <span class=\"txtu\">Batavia </span></div>"
      ],
      "text/plain": [
       "<IPython.core.display.HTML object>"
      ]
     },
     "metadata": {},
     "output_type": "display_data"
    },
    {
     "data": {
      "text/html": [
       "<div class=\"\"><span class=\"tfsechead \"><span class=\"ltr\"><a target=\"_blank\" href=\"http://resources.huygens.knaw.nl/retroboeken/generalemissiven/#page=540&amp;source=6\" title=\"Show this document on Huygens\" sec=\"6 525:14\">6 525:14</a></span></span>  <span class=\"txtu\">Vorm </span><span class=\"txtu\">mag </span><span class=\"txtu\">een </span><span class=\"txtu\">reis </span><span class=\"txtu\">naar </span><span class=\"txtu\">Batavia </span><span class=\"txtu\">maken </span><span class=\"txtu\">om </span><span class=\"txtu\">daar </span><span class=\"txtu\">te </span><span class=\"txtu\">hertrouwen; </span><span class=\"txtu\">oud-</span><span class=\"txtu\">gouvemeur </span></div>"
      ],
      "text/plain": [
       "<IPython.core.display.HTML object>"
      ]
     },
     "metadata": {},
     "output_type": "display_data"
    },
    {
     "data": {
      "text/html": [
       "<div class=\"\"><span class=\"tfsechead \"><span class=\"ltr\"><a target=\"_blank\" href=\"http://resources.huygens.knaw.nl/retroboeken/generalemissiven/#page=540&amp;source=6\" title=\"Show this document on Huygens\" sec=\"6 525:21\">6 525:21</a></span></span>  <span class=\"txtu\">Banda </span></div>"
      ],
      "text/plain": [
       "<IPython.core.display.HTML object>"
      ]
     },
     "metadata": {},
     "output_type": "display_data"
    },
    {
     "data": {
      "text/html": [
       "<div class=\"\"><span class=\"tfsechead \"><span class=\"ltr\"><a target=\"_blank\" href=\"http://resources.huygens.knaw.nl/retroboeken/generalemissiven/#page=540&amp;source=6\" title=\"Show this document on Huygens\" sec=\"6 525:21\">6 525:21</a></span></span>  <span class=\"txtu\">werd </span><span class=\"txtu\">naar </span><span class=\"txtu\">Banda </span><span class=\"txtu\">teruggezonden, </span><span class=\"txtu\">maar </span><span class=\"txtu\">hij </span><span class=\"txtu\">mag </span><span class=\"txtu\">na </span><span class=\"txtu\">afdoening </span><span class=\"txtu\">van </span><span class=\"txtu\">de </span><span class=\"txtu\">rechtszaak </span><span class=\"txtu\">tegen </span></div>"
      ],
      "text/plain": [
       "<IPython.core.display.HTML object>"
      ]
     },
     "metadata": {},
     "output_type": "display_data"
    },
    {
     "name": "stdout",
     "output_type": "stream",
     "text": [
      "Overlap 64: Banda , - Batavia "
     ]
    },
    {
     "data": {
      "text/html": [
       "<div class=\"\"><span class=\"tfsechead \"><span class=\"ltr\"><a target=\"_blank\" href=\"http://resources.huygens.knaw.nl/retroboeken/generalemissiven/#page=540&amp;source=6\" title=\"Show this document on Huygens\" sec=\"6 525:1\">6 525:1</a></span></span>  <span class=\"txtu \"><span class=\"structure\"><span class=\"nd\">volume</span> 6, <span class=\"nd\">letter</span> Van Hoorn, Van Riebeeck, Van Swoll, Douglas, De Vos, Van Rijn, Phoonsen, Zwaardecroon, Chasteleyn; Batavia, 10 februari 1708</span></span></div>"
      ],
      "text/plain": [
       "<IPython.core.display.HTML object>"
      ]
     },
     "metadata": {},
     "output_type": "display_data"
    },
    {
     "data": {
      "text/html": [
       "<div class=\"\"><span class=\"tfsechead \"><span class=\"ltr\"><a target=\"_blank\" href=\"http://resources.huygens.knaw.nl/retroboeken/generalemissiven/#page=540&amp;source=6\" title=\"Show this document on Huygens\" sec=\"6 525:9\">6 525:9</a></span></span>  <span class=\"txtu\">Banda , </span></div>"
      ],
      "text/plain": [
       "<IPython.core.display.HTML object>"
      ]
     },
     "metadata": {},
     "output_type": "display_data"
    },
    {
     "data": {
      "text/html": [
       "<div class=\"\"><span class=\"tfsechead \"><span class=\"ltr\"><a target=\"_blank\" href=\"http://resources.huygens.knaw.nl/retroboeken/generalemissiven/#page=540&amp;source=6\" title=\"Show this document on Huygens\" sec=\"6 525:9\">6 525:9</a></span></span>  <span class=\"txtu\">laden </span><span class=\"txtu\">en </span><span class=\"txtu\">voorts </span><span class=\"txtu\">naar </span><span class=\"txtu\">Banda , </span><span class=\"txtu\">rechtstreeks </span><span class=\"txtu\">vertrokken </span><span class=\"txtu\">31 </span><span class=\"txtu\">jan. </span><span class=\"txtu\">de </span><span class=\"txtu\">Flora </span><span class=\"txtu\">en </span><span class=\"txtu\">6 </span><span class=\"txtu\">febr. </span><span class=\"txtu\">de </span></div>"
      ],
      "text/plain": [
       "<IPython.core.display.HTML object>"
      ]
     },
     "metadata": {},
     "output_type": "display_data"
    },
    {
     "data": {
      "text/html": [
       "<div class=\"\"><span class=\"tfsechead \"><span class=\"ltr\"><a target=\"_blank\" href=\"http://resources.huygens.knaw.nl/retroboeken/generalemissiven/#page=540&amp;source=6\" title=\"Show this document on Huygens\" sec=\"6 525:22\">6 525:22</a></span></span>  <span class=\"txtu\">Batavia </span></div>"
      ],
      "text/plain": [
       "<IPython.core.display.HTML object>"
      ]
     },
     "metadata": {},
     "output_type": "display_data"
    },
    {
     "data": {
      "text/html": [
       "<div class=\"\"><span class=\"tfsechead \"><span class=\"ltr\"><a target=\"_blank\" href=\"http://resources.huygens.knaw.nl/retroboeken/generalemissiven/#page=540&amp;source=6\" title=\"Show this document on Huygens\" sec=\"6 525:22\">6 525:22</a></span></span>  <span class=\"txtu\">hem </span><span class=\"txtu\">naar </span><span class=\"txtu\">Batavia </span><span class=\"txtu\">komen, </span><span class=\"txtu\">hij </span><span class=\"txtu\">diende </span><span class=\"txtu\">een </span><span class=\"txtu\">geschrift </span><span class=\"txtu\">in, </span><span class=\"txtu\">handelende </span><span class=\"txtu\">over </span><span class=\"txtu\">betere </span><span class=\"txtu\">preservatie </span></div>"
      ],
      "text/plain": [
       "<IPython.core.display.HTML object>"
      ]
     },
     "metadata": {},
     "output_type": "display_data"
    },
    {
     "name": "stdout",
     "output_type": "stream",
     "text": [
      "Overlap 65: Banda; - Batavia "
     ]
    },
    {
     "data": {
      "text/html": [
       "<div class=\"\"><span class=\"tfsechead \"><span class=\"ltr\"><a target=\"_blank\" href=\"http://resources.huygens.knaw.nl/retroboeken/generalemissiven/#page=540&amp;source=6\" title=\"Show this document on Huygens\" sec=\"6 525:1\">6 525:1</a></span></span>  <span class=\"txtu \"><span class=\"structure\"><span class=\"nd\">volume</span> 6, <span class=\"nd\">letter</span> Van Hoorn, Van Riebeeck, Van Swoll, Douglas, De Vos, Van Rijn, Phoonsen, Zwaardecroon, Chasteleyn; Batavia, 10 februari 1708</span></span></div>"
      ],
      "text/plain": [
       "<IPython.core.display.HTML object>"
      ]
     },
     "metadata": {},
     "output_type": "display_data"
    },
    {
     "data": {
      "text/html": [
       "<div class=\"\"><span class=\"tfsechead \"><span class=\"ltr\"><a target=\"_blank\" href=\"http://resources.huygens.knaw.nl/retroboeken/generalemissiven/#page=540&amp;source=6\" title=\"Show this document on Huygens\" sec=\"6 525:13\">6 525:13</a></span></span>  <span class=\"txtu\">Banda; </span></div>"
      ],
      "text/plain": [
       "<IPython.core.display.HTML object>"
      ]
     },
     "metadata": {},
     "output_type": "display_data"
    },
    {
     "data": {
      "text/html": [
       "<div class=\"\"><span class=\"tfsechead \"><span class=\"ltr\"><a target=\"_blank\" href=\"http://resources.huygens.knaw.nl/retroboeken/generalemissiven/#page=540&amp;source=6\" title=\"Show this document on Huygens\" sec=\"6 525:13\">6 525:13</a></span></span>  <span class=\"txtu\">als </span><span class=\"txtu\">fiskaal </span><span class=\"txtu\">werd </span><span class=\"txtu\">hij </span><span class=\"txtu\">opgevolgd </span><span class=\"txtu\">door </span><span class=\"txtu\">Jacob </span><span class=\"txtu\">Bottendorp </span><span class=\"txtu\">uit </span><span class=\"txtu\">Banda; </span><span class=\"txtu\">ds. </span><span class=\"txtu\">Jacobus </span><span class=\"txtu\">van </span><span class=\"txtu\">der </span></div>"
      ],
      "text/plain": [
       "<IPython.core.display.HTML object>"
      ]
     },
     "metadata": {},
     "output_type": "display_data"
    },
    {
     "data": {
      "text/html": [
       "<div class=\"\"><span class=\"tfsechead \"><span class=\"ltr\"><a target=\"_blank\" href=\"http://resources.huygens.knaw.nl/retroboeken/generalemissiven/#page=540&amp;source=6\" title=\"Show this document on Huygens\" sec=\"6 525:22\">6 525:22</a></span></span>  <span class=\"txtu\">Batavia </span></div>"
      ],
      "text/plain": [
       "<IPython.core.display.HTML object>"
      ]
     },
     "metadata": {},
     "output_type": "display_data"
    },
    {
     "data": {
      "text/html": [
       "<div class=\"\"><span class=\"tfsechead \"><span class=\"ltr\"><a target=\"_blank\" href=\"http://resources.huygens.knaw.nl/retroboeken/generalemissiven/#page=540&amp;source=6\" title=\"Show this document on Huygens\" sec=\"6 525:22\">6 525:22</a></span></span>  <span class=\"txtu\">hem </span><span class=\"txtu\">naar </span><span class=\"txtu\">Batavia </span><span class=\"txtu\">komen, </span><span class=\"txtu\">hij </span><span class=\"txtu\">diende </span><span class=\"txtu\">een </span><span class=\"txtu\">geschrift </span><span class=\"txtu\">in, </span><span class=\"txtu\">handelende </span><span class=\"txtu\">over </span><span class=\"txtu\">betere </span><span class=\"txtu\">preservatie </span></div>"
      ],
      "text/plain": [
       "<IPython.core.display.HTML object>"
      ]
     },
     "metadata": {},
     "output_type": "display_data"
    },
    {
     "name": "stdout",
     "output_type": "stream",
     "text": [
      "Overlap 66: Banda - Batavia "
     ]
    },
    {
     "data": {
      "text/html": [
       "<div class=\"\"><span class=\"tfsechead \"><span class=\"ltr\"><a target=\"_blank\" href=\"http://resources.huygens.knaw.nl/retroboeken/generalemissiven/#page=540&amp;source=6\" title=\"Show this document on Huygens\" sec=\"6 525:1\">6 525:1</a></span></span>  <span class=\"txtu \"><span class=\"structure\"><span class=\"nd\">volume</span> 6, <span class=\"nd\">letter</span> Van Hoorn, Van Riebeeck, Van Swoll, Douglas, De Vos, Van Rijn, Phoonsen, Zwaardecroon, Chasteleyn; Batavia, 10 februari 1708</span></span></div>"
      ],
      "text/plain": [
       "<IPython.core.display.HTML object>"
      ]
     },
     "metadata": {},
     "output_type": "display_data"
    },
    {
     "data": {
      "text/html": [
       "<div class=\"\"><span class=\"tfsechead \"><span class=\"ltr\"><a target=\"_blank\" href=\"http://resources.huygens.knaw.nl/retroboeken/generalemissiven/#page=540&amp;source=6\" title=\"Show this document on Huygens\" sec=\"6 525:18\">6 525:18</a></span></span>  <span class=\"txtu\">Banda </span></div>"
      ],
      "text/plain": [
       "<IPython.core.display.HTML object>"
      ]
     },
     "metadata": {},
     "output_type": "display_data"
    },
    {
     "data": {
      "text/html": [
       "<div class=\"\"><span class=\"tfsechead \"><span class=\"ltr\"><a target=\"_blank\" href=\"http://resources.huygens.knaw.nl/retroboeken/generalemissiven/#page=540&amp;source=6\" title=\"Show this document on Huygens\" sec=\"6 525:18\">6 525:18</a></span></span>  <span class=\"txtu\">sloep </span><span class=\"txtu\">Rommelpot </span><span class=\"txtu\">naar </span><span class=\"txtu\">Banda </span><span class=\"txtu\">om </span><span class=\"txtu\">daar </span><span class=\"txtu\">gebruikt </span><span class=\"txtu\">te </span><span class=\"txtu\">worden; </span><span class=\"txtu\">de </span><span class=\"txtu\">oude </span><span class=\"txtu\">rijstvoorraad </span></div>"
      ],
      "text/plain": [
       "<IPython.core.display.HTML object>"
      ]
     },
     "metadata": {},
     "output_type": "display_data"
    },
    {
     "data": {
      "text/html": [
       "<div class=\"\"><span class=\"tfsechead \"><span class=\"ltr\"><a target=\"_blank\" href=\"http://resources.huygens.knaw.nl/retroboeken/generalemissiven/#page=540&amp;source=6\" title=\"Show this document on Huygens\" sec=\"6 525:22\">6 525:22</a></span></span>  <span class=\"txtu\">Batavia </span></div>"
      ],
      "text/plain": [
       "<IPython.core.display.HTML object>"
      ]
     },
     "metadata": {},
     "output_type": "display_data"
    },
    {
     "data": {
      "text/html": [
       "<div class=\"\"><span class=\"tfsechead \"><span class=\"ltr\"><a target=\"_blank\" href=\"http://resources.huygens.knaw.nl/retroboeken/generalemissiven/#page=540&amp;source=6\" title=\"Show this document on Huygens\" sec=\"6 525:22\">6 525:22</a></span></span>  <span class=\"txtu\">hem </span><span class=\"txtu\">naar </span><span class=\"txtu\">Batavia </span><span class=\"txtu\">komen, </span><span class=\"txtu\">hij </span><span class=\"txtu\">diende </span><span class=\"txtu\">een </span><span class=\"txtu\">geschrift </span><span class=\"txtu\">in, </span><span class=\"txtu\">handelende </span><span class=\"txtu\">over </span><span class=\"txtu\">betere </span><span class=\"txtu\">preservatie </span></div>"
      ],
      "text/plain": [
       "<IPython.core.display.HTML object>"
      ]
     },
     "metadata": {},
     "output_type": "display_data"
    },
    {
     "name": "stdout",
     "output_type": "stream",
     "text": [
      "Overlap 67: Banda - Batavia "
     ]
    },
    {
     "data": {
      "text/html": [
       "<div class=\"\"><span class=\"tfsechead \"><span class=\"ltr\"><a target=\"_blank\" href=\"http://resources.huygens.knaw.nl/retroboeken/generalemissiven/#page=540&amp;source=6\" title=\"Show this document on Huygens\" sec=\"6 525:1\">6 525:1</a></span></span>  <span class=\"txtu \"><span class=\"structure\"><span class=\"nd\">volume</span> 6, <span class=\"nd\">letter</span> Van Hoorn, Van Riebeeck, Van Swoll, Douglas, De Vos, Van Rijn, Phoonsen, Zwaardecroon, Chasteleyn; Batavia, 10 februari 1708</span></span></div>"
      ],
      "text/plain": [
       "<IPython.core.display.HTML object>"
      ]
     },
     "metadata": {},
     "output_type": "display_data"
    },
    {
     "data": {
      "text/html": [
       "<div class=\"\"><span class=\"tfsechead \"><span class=\"ltr\"><a target=\"_blank\" href=\"http://resources.huygens.knaw.nl/retroboeken/generalemissiven/#page=540&amp;source=6\" title=\"Show this document on Huygens\" sec=\"6 525:21\">6 525:21</a></span></span>  <span class=\"txtu\">Banda </span></div>"
      ],
      "text/plain": [
       "<IPython.core.display.HTML object>"
      ]
     },
     "metadata": {},
     "output_type": "display_data"
    },
    {
     "data": {
      "text/html": [
       "<div class=\"\"><span class=\"tfsechead \"><span class=\"ltr\"><a target=\"_blank\" href=\"http://resources.huygens.knaw.nl/retroboeken/generalemissiven/#page=540&amp;source=6\" title=\"Show this document on Huygens\" sec=\"6 525:21\">6 525:21</a></span></span>  <span class=\"txtu\">werd </span><span class=\"txtu\">naar </span><span class=\"txtu\">Banda </span><span class=\"txtu\">teruggezonden, </span><span class=\"txtu\">maar </span><span class=\"txtu\">hij </span><span class=\"txtu\">mag </span><span class=\"txtu\">na </span><span class=\"txtu\">afdoening </span><span class=\"txtu\">van </span><span class=\"txtu\">de </span><span class=\"txtu\">rechtszaak </span><span class=\"txtu\">tegen </span></div>"
      ],
      "text/plain": [
       "<IPython.core.display.HTML object>"
      ]
     },
     "metadata": {},
     "output_type": "display_data"
    },
    {
     "data": {
      "text/html": [
       "<div class=\"\"><span class=\"tfsechead \"><span class=\"ltr\"><a target=\"_blank\" href=\"http://resources.huygens.knaw.nl/retroboeken/generalemissiven/#page=540&amp;source=6\" title=\"Show this document on Huygens\" sec=\"6 525:22\">6 525:22</a></span></span>  <span class=\"txtu\">Batavia </span></div>"
      ],
      "text/plain": [
       "<IPython.core.display.HTML object>"
      ]
     },
     "metadata": {},
     "output_type": "display_data"
    },
    {
     "data": {
      "text/html": [
       "<div class=\"\"><span class=\"tfsechead \"><span class=\"ltr\"><a target=\"_blank\" href=\"http://resources.huygens.knaw.nl/retroboeken/generalemissiven/#page=540&amp;source=6\" title=\"Show this document on Huygens\" sec=\"6 525:22\">6 525:22</a></span></span>  <span class=\"txtu\">hem </span><span class=\"txtu\">naar </span><span class=\"txtu\">Batavia </span><span class=\"txtu\">komen, </span><span class=\"txtu\">hij </span><span class=\"txtu\">diende </span><span class=\"txtu\">een </span><span class=\"txtu\">geschrift </span><span class=\"txtu\">in, </span><span class=\"txtu\">handelende </span><span class=\"txtu\">over </span><span class=\"txtu\">betere </span><span class=\"txtu\">preservatie </span></div>"
      ],
      "text/plain": [
       "<IPython.core.display.HTML object>"
      ]
     },
     "metadata": {},
     "output_type": "display_data"
    },
    {
     "name": "stdout",
     "output_type": "stream",
     "text": [
      "Overlap 68: Banda - Batavia "
     ]
    },
    {
     "data": {
      "text/html": [
       "<div class=\"\"><span class=\"tfsechead \"><span class=\"ltr\"><a target=\"_blank\" href=\"http://resources.huygens.knaw.nl/retroboeken/generalemissiven/#page=546&amp;source=6\" title=\"Show this document on Huygens\" sec=\"6 531:1\">6 531:1</a></span></span>  <span class=\"txtu \"><span class=\"structure\"><span class=\"nd\">volume</span> 6, <span class=\"nd\">letter</span> Van Hoorn, Van Riebeeck, Van Swoll, Douglas, De Vos, Van Rijn, Zwaardecroon, Chasteleyn; Batavia, 25 november 1708</span></span></div>"
      ],
      "text/plain": [
       "<IPython.core.display.HTML object>"
      ]
     },
     "metadata": {},
     "output_type": "display_data"
    },
    {
     "data": {
      "text/html": [
       "<div class=\"\"><span class=\"tfsechead \"><span class=\"ltr\"><a target=\"_blank\" href=\"http://resources.huygens.knaw.nl/retroboeken/generalemissiven/#page=546&amp;source=6\" title=\"Show this document on Huygens\" sec=\"6 531:11\">6 531:11</a></span></span>  <span class=\"txtu\">Banda </span></div>"
      ],
      "text/plain": [
       "<IPython.core.display.HTML object>"
      ]
     },
     "metadata": {},
     "output_type": "display_data"
    },
    {
     "data": {
      "text/html": [
       "<div class=\"\"><span class=\"tfsechead \"><span class=\"ltr\"><a target=\"_blank\" href=\"http://resources.huygens.knaw.nl/retroboeken/generalemissiven/#page=546&amp;source=6\" title=\"Show this document on Huygens\" sec=\"6 531:11\">6 531:11</a></span></span>  <span class=\"txtu\">Overrijp </span><span class=\"txtu\">naar </span><span class=\"txtu\">Banda </span><span class=\"txtu\">via </span><span class=\"txtu\">Amboina, </span><span class=\"txtu\">ze </span><span class=\"txtu\">kwam . </span><span class=\"txtu\">van </span><span class=\"txtu\">daar </span><span class=\"txtu\">3 </span><span class=\"txtu\">juni </span><span class=\"txtu\">terug, </span><span class=\"txtu\">20 </span><span class=\"txtu\">juni </span><span class=\"txtu\">de </span><span class=\"txtu\">Flora </span></div>"
      ],
      "text/plain": [
       "<IPython.core.display.HTML object>"
      ]
     },
     "metadata": {},
     "output_type": "display_data"
    },
    {
     "data": {
      "text/html": [
       "<div class=\"\"><span class=\"tfsechead \"><span class=\"ltr\"><a target=\"_blank\" href=\"http://resources.huygens.knaw.nl/retroboeken/generalemissiven/#page=546&amp;source=6\" title=\"Show this document on Huygens\" sec=\"6 531:15\">6 531:15</a></span></span>  <span class=\"txtu\">Batavia </span></div>"
      ],
      "text/plain": [
       "<IPython.core.display.HTML object>"
      ]
     },
     "metadata": {},
     "output_type": "display_data"
    },
    {
     "data": {
      "text/html": [
       "<div class=\"\"><span class=\"tfsechead \"><span class=\"ltr\"><a target=\"_blank\" href=\"http://resources.huygens.knaw.nl/retroboeken/generalemissiven/#page=546&amp;source=6\" title=\"Show this document on Huygens\" sec=\"6 531:15\">6 531:15</a></span></span>  <span class=\"txtu\">voor </span><span class=\"txtu\">een </span><span class=\"txtu\">grote </span><span class=\"txtu\">oogst; </span><span class=\"txtu\">te </span><span class=\"txtu\">Batavia </span><span class=\"txtu\">is </span><span class=\"txtu\">nog </span><span class=\"txtu\">8654794 </span><span class=\"txtu\">in </span><span class=\"txtu\">voorraad; </span><span class=\"txtu\">Van </span><span class=\"txtu\">der </span><span class=\"txtu\">Stel </span><span class=\"txtu\">ondernam </span></div>"
      ],
      "text/plain": [
       "<IPython.core.display.HTML object>"
      ]
     },
     "metadata": {},
     "output_type": "display_data"
    },
    {
     "name": "stdout",
     "output_type": "stream",
     "text": [
      "Overlap 69: Banda - Batavia "
     ]
    },
    {
     "data": {
      "text/html": [
       "<div class=\"\"><span class=\"tfsechead \"><span class=\"ltr\"><a target=\"_blank\" href=\"http://resources.huygens.knaw.nl/retroboeken/generalemissiven/#page=546&amp;source=6\" title=\"Show this document on Huygens\" sec=\"6 531:1\">6 531:1</a></span></span>  <span class=\"txtu \"><span class=\"structure\"><span class=\"nd\">volume</span> 6, <span class=\"nd\">letter</span> Van Hoorn, Van Riebeeck, Van Swoll, Douglas, De Vos, Van Rijn, Zwaardecroon, Chasteleyn; Batavia, 25 november 1708</span></span></div>"
      ],
      "text/plain": [
       "<IPython.core.display.HTML object>"
      ]
     },
     "metadata": {},
     "output_type": "display_data"
    },
    {
     "data": {
      "text/html": [
       "<div class=\"\"><span class=\"tfsechead \"><span class=\"ltr\"><a target=\"_blank\" href=\"http://resources.huygens.knaw.nl/retroboeken/generalemissiven/#page=546&amp;source=6\" title=\"Show this document on Huygens\" sec=\"6 531:11\">6 531:11</a></span></span>  <span class=\"txtu\">Banda </span></div>"
      ],
      "text/plain": [
       "<IPython.core.display.HTML object>"
      ]
     },
     "metadata": {},
     "output_type": "display_data"
    },
    {
     "data": {
      "text/html": [
       "<div class=\"\"><span class=\"tfsechead \"><span class=\"ltr\"><a target=\"_blank\" href=\"http://resources.huygens.knaw.nl/retroboeken/generalemissiven/#page=546&amp;source=6\" title=\"Show this document on Huygens\" sec=\"6 531:11\">6 531:11</a></span></span>  <span class=\"txtu\">Overrijp </span><span class=\"txtu\">naar </span><span class=\"txtu\">Banda </span><span class=\"txtu\">via </span><span class=\"txtu\">Amboina, </span><span class=\"txtu\">ze </span><span class=\"txtu\">kwam . </span><span class=\"txtu\">van </span><span class=\"txtu\">daar </span><span class=\"txtu\">3 </span><span class=\"txtu\">juni </span><span class=\"txtu\">terug, </span><span class=\"txtu\">20 </span><span class=\"txtu\">juni </span><span class=\"txtu\">de </span><span class=\"txtu\">Flora </span></div>"
      ],
      "text/plain": [
       "<IPython.core.display.HTML object>"
      ]
     },
     "metadata": {},
     "output_type": "display_data"
    },
    {
     "data": {
      "text/html": [
       "<div class=\"\"><span class=\"tfsechead \"><span class=\"ltr\"><a target=\"_blank\" href=\"http://resources.huygens.knaw.nl/retroboeken/generalemissiven/#page=546&amp;source=6\" title=\"Show this document on Huygens\" sec=\"6 531:22\">6 531:22</a></span></span>  <span class=\"txtu\">Batavia </span></div>"
      ],
      "text/plain": [
       "<IPython.core.display.HTML object>"
      ]
     },
     "metadata": {},
     "output_type": "display_data"
    },
    {
     "data": {
      "text/html": [
       "<div class=\"\"><span class=\"tfsechead \"><span class=\"ltr\"><a target=\"_blank\" href=\"http://resources.huygens.knaw.nl/retroboeken/generalemissiven/#page=546&amp;source=6\" title=\"Show this document on Huygens\" sec=\"6 531:22\">6 531:22</a></span></span>  <span class=\"txtu\">f. </span><span class=\"txtu\">89061 </span><span class=\"txtu\">winsten ; </span><span class=\"txtu\">er </span><span class=\"txtu\">werd </span><span class=\"txtu\">voor </span><span class=\"txtu\">9483 </span><span class=\"txtu\">rsd. </span><span class=\"txtu\">aan </span><span class=\"txtu\">wissels </span><span class=\"txtu\">op </span><span class=\"txtu\">Batavia </span><span class=\"txtu\">getrokken; </span><span class=\"txtu\">28 </span><span class=\"txtu\">mei </span></div>"
      ],
      "text/plain": [
       "<IPython.core.display.HTML object>"
      ]
     },
     "metadata": {},
     "output_type": "display_data"
    },
    {
     "name": "stdout",
     "output_type": "stream",
     "text": [
      "Overlap 70: Batavia - Bandanesen, "
     ]
    },
    {
     "data": {
      "text/html": [
       "<div class=\"\"><span class=\"tfsechead \"><span class=\"ltr\"><a target=\"_blank\" href=\"http://resources.huygens.knaw.nl/retroboeken/generalemissiven/#page=179&amp;source=7\" title=\"Show this document on Huygens\" sec=\"7 166:1\">7 166:1</a></span></span>  <span class=\"txtu \"><span class=\"structure\"><span class=\"nd\">volume</span> 7, <span class=\"nd\">letter</span> Van Swoll, Castelyn, De Haan, Zwaardecroon, De Haeze, Tolling, Rooselaar, Timmerman, Faes, d'Ableing, De Groot; Batavia, 28 november 1715</span></span></div>"
      ],
      "text/plain": [
       "<IPython.core.display.HTML object>"
      ]
     },
     "metadata": {},
     "output_type": "display_data"
    },
    {
     "data": {
      "text/html": [
       "<div class=\"\"><span class=\"tfsechead \"><span class=\"ltr\"><a target=\"_blank\" href=\"http://resources.huygens.knaw.nl/retroboeken/generalemissiven/#page=179&amp;source=7\" title=\"Show this document on Huygens\" sec=\"7 166:18\">7 166:18</a></span></span>  <span class=\"txtu\">Batavia </span></div>"
      ],
      "text/plain": [
       "<IPython.core.display.HTML object>"
      ]
     },
     "metadata": {},
     "output_type": "display_data"
    },
    {
     "data": {
      "text/html": [
       "<div class=\"\"><span class=\"tfsechead \"><span class=\"ltr\"><a target=\"_blank\" href=\"http://resources.huygens.knaw.nl/retroboeken/generalemissiven/#page=179&amp;source=7\" title=\"Show this document on Huygens\" sec=\"7 166:18\">7 166:18</a></span></span>  <span class=\"txtu\">wissels </span><span class=\"txtu\">op </span><span class=\"txtu\">Batavia </span><span class=\"txtu\">getrokken; </span><span class=\"txtu\">de </span><span class=\"txtu\">bevolking </span><span class=\"txtu\">telde </span><span class=\"txtu\">215169 </span><span class=\"txtu\">volwassen, </span><span class=\"txtu\">37021 </span><span class=\"txtu\">halfwassen </span><span class=\"txtu\">en </span></div>"
      ],
      "text/plain": [
       "<IPython.core.display.HTML object>"
      ]
     },
     "metadata": {},
     "output_type": "display_data"
    },
    {
     "data": {
      "text/html": [
       "<div class=\"\"><span class=\"tfsechead \"><span class=\"ltr\"><a target=\"_blank\" href=\"http://resources.huygens.knaw.nl/retroboeken/generalemissiven/#page=179&amp;source=7\" title=\"Show this document on Huygens\" sec=\"7 166:21\">7 166:21</a></span></span>  <span class=\"txtu\">Bandanesen, </span></div>"
      ],
      "text/plain": [
       "<IPython.core.display.HTML object>"
      ]
     },
     "metadata": {},
     "output_type": "display_data"
    },
    {
     "data": {
      "text/html": [
       "<div class=\"\"><span class=\"tfsechead \"><span class=\"ltr\"><a target=\"_blank\" href=\"http://resources.huygens.knaw.nl/retroboeken/generalemissiven/#page=179&amp;source=7\" title=\"Show this document on Huygens\" sec=\"7 166:21\">7 166:21</a></span></span>  <span class=\"txtu\">Een </span><span class=\"txtu\">seer </span><span class=\"txtu\">execrabel </span><span class=\"txtu\">complot </span><span class=\"txtu\">van </span><span class=\"txtu\">drie </span><span class=\"txtu\">Europeaanse </span><span class=\"txtu\">Bandanesen, </span><span class=\"txtu\">die </span><span class=\"txtu\">voorgenomen </span><span class=\"txtu\">hadden </span></div>"
      ],
      "text/plain": [
       "<IPython.core.display.HTML object>"
      ]
     },
     "metadata": {},
     "output_type": "display_data"
    },
    {
     "name": "stdout",
     "output_type": "stream",
     "text": [
      "Overlap 71: Banda - Batavia "
     ]
    },
    {
     "data": {
      "text/html": [
       "<div class=\"\"><span class=\"tfsechead \"><span class=\"ltr\"><a target=\"_blank\" href=\"http://resources.huygens.knaw.nl/retroboeken/generalemissiven/#page=278&amp;source=7\" title=\"Show this document on Huygens\" sec=\"7 265:1\">7 265:1</a></span></span>  <span class=\"txtu \"><span class=\"structure\"><span class=\"nd\">volume</span> 7, <span class=\"nd\">letter</span> Van Swoll, Castelyn, De Haan, Zwaardecroon, De Haeze, Timmerman, Faes, Tolling, d'Ableing, De Groot, Six; Batavia, 15 januari 1717</span></span></div>"
      ],
      "text/plain": [
       "<IPython.core.display.HTML object>"
      ]
     },
     "metadata": {},
     "output_type": "display_data"
    },
    {
     "data": {
      "text/html": [
       "<div class=\"\"><span class=\"tfsechead \"><span class=\"ltr\"><a target=\"_blank\" href=\"http://resources.huygens.knaw.nl/retroboeken/generalemissiven/#page=278&amp;source=7\" title=\"Show this document on Huygens\" sec=\"7 265:20\">7 265:20</a></span></span>  <span class=\"txtu\">Banda </span></div>"
      ],
      "text/plain": [
       "<IPython.core.display.HTML object>"
      ]
     },
     "metadata": {},
     "output_type": "display_data"
    },
    {
     "data": {
      "text/html": [
       "<div class=\"\"><span class=\"tfsechead \"><span class=\"ltr\"><a target=\"_blank\" href=\"http://resources.huygens.knaw.nl/retroboeken/generalemissiven/#page=278&amp;source=7\" title=\"Show this document on Huygens\" sec=\"7 265:20\">7 265:20</a></span></span>  <span class=\"txtu\">de </span><span class=\"txtu\">Beverwijk </span><span class=\"txtu\">naar </span><span class=\"txtu\">Banda </span><span class=\"txtu\">via </span><span class=\"txtu\">Tegal </span><span class=\"txtu\">om </span><span class=\"txtu\">rijst </span><span class=\"txtu\">in </span><span class=\"txtu\">te </span><span class=\"txtu\">nemen, </span><span class=\"txtu\">de </span><span class=\"txtu\">Nederhoven </span><span class=\"txtu\">en </span><span class=\"txtu\">Rosenburg </span><span class=\"txtu\">zullen </span></div>"
      ],
      "text/plain": [
       "<IPython.core.display.HTML object>"
      ]
     },
     "metadata": {},
     "output_type": "display_data"
    },
    {
     "data": {
      "text/html": [
       "<div class=\"\"><span class=\"tfsechead \"><span class=\"ltr\"><a target=\"_blank\" href=\"http://resources.huygens.knaw.nl/retroboeken/generalemissiven/#page=278&amp;source=7\" title=\"Show this document on Huygens\" sec=\"7 265:21\">7 265:21</a></span></span>  <span class=\"txtu\">Batavia </span></div>"
      ],
      "text/plain": [
       "<IPython.core.display.HTML object>"
      ]
     },
     "metadata": {},
     "output_type": "display_data"
    },
    {
     "data": {
      "text/html": [
       "<div class=\"\"><span class=\"tfsechead \"><span class=\"ltr\"><a target=\"_blank\" href=\"http://resources.huygens.knaw.nl/retroboeken/generalemissiven/#page=278&amp;source=7\" title=\"Show this document on Huygens\" sec=\"7 265:21\">7 265:21</a></span></span>  <span class=\"txtu\">rechtstreeks </span><span class=\"txtu\">volgen; </span><span class=\"txtu\">Van </span><span class=\"txtu\">Eps </span><span class=\"txtu\">moet </span><span class=\"txtu\">naar </span><span class=\"txtu\">Batavia </span><span class=\"txtu\">komen </span><span class=\"txtu\">wegens </span><span class=\"txtu\">zijn </span><span class=\"txtu\">optreden </span><span class=\"txtu\">tegen </span><span class=\"txtu\">Castella; </span></div>"
      ],
      "text/plain": [
       "<IPython.core.display.HTML object>"
      ]
     },
     "metadata": {},
     "output_type": "display_data"
    },
    {
     "name": "stdout",
     "output_type": "stream",
     "text": [
      "Overlap 72: Batavia - Banda; "
     ]
    },
    {
     "data": {
      "text/html": [
       "<div class=\"\"><span class=\"tfsechead \"><span class=\"ltr\"><a target=\"_blank\" href=\"http://resources.huygens.knaw.nl/retroboeken/generalemissiven/#page=278&amp;source=7\" title=\"Show this document on Huygens\" sec=\"7 265:1\">7 265:1</a></span></span>  <span class=\"txtu \"><span class=\"structure\"><span class=\"nd\">volume</span> 7, <span class=\"nd\">letter</span> Van Swoll, Castelyn, De Haan, Zwaardecroon, De Haeze, Timmerman, Faes, Tolling, d'Ableing, De Groot, Six; Batavia, 15 januari 1717</span></span></div>"
      ],
      "text/plain": [
       "<IPython.core.display.HTML object>"
      ]
     },
     "metadata": {},
     "output_type": "display_data"
    },
    {
     "data": {
      "text/html": [
       "<div class=\"\"><span class=\"tfsechead \"><span class=\"ltr\"><a target=\"_blank\" href=\"http://resources.huygens.knaw.nl/retroboeken/generalemissiven/#page=278&amp;source=7\" title=\"Show this document on Huygens\" sec=\"7 265:21\">7 265:21</a></span></span>  <span class=\"txtu\">Batavia </span></div>"
      ],
      "text/plain": [
       "<IPython.core.display.HTML object>"
      ]
     },
     "metadata": {},
     "output_type": "display_data"
    },
    {
     "data": {
      "text/html": [
       "<div class=\"\"><span class=\"tfsechead \"><span class=\"ltr\"><a target=\"_blank\" href=\"http://resources.huygens.knaw.nl/retroboeken/generalemissiven/#page=278&amp;source=7\" title=\"Show this document on Huygens\" sec=\"7 265:21\">7 265:21</a></span></span>  <span class=\"txtu\">rechtstreeks </span><span class=\"txtu\">volgen; </span><span class=\"txtu\">Van </span><span class=\"txtu\">Eps </span><span class=\"txtu\">moet </span><span class=\"txtu\">naar </span><span class=\"txtu\">Batavia </span><span class=\"txtu\">komen </span><span class=\"txtu\">wegens </span><span class=\"txtu\">zijn </span><span class=\"txtu\">optreden </span><span class=\"txtu\">tegen </span><span class=\"txtu\">Castella; </span></div>"
      ],
      "text/plain": [
       "<IPython.core.display.HTML object>"
      ]
     },
     "metadata": {},
     "output_type": "display_data"
    },
    {
     "data": {
      "text/html": [
       "<div class=\"\"><span class=\"tfsechead \"><span class=\"ltr\"><a target=\"_blank\" href=\"http://resources.huygens.knaw.nl/retroboeken/generalemissiven/#page=278&amp;source=7\" title=\"Show this document on Huygens\" sec=\"7 265:22\">7 265:22</a></span></span>  <span class=\"txtu\">Banda; </span></div>"
      ],
      "text/plain": [
       "<IPython.core.display.HTML object>"
      ]
     },
     "metadata": {},
     "output_type": "display_data"
    },
    {
     "data": {
      "text/html": [
       "<div class=\"\"><span class=\"tfsechead \"><span class=\"ltr\"><a target=\"_blank\" href=\"http://resources.huygens.knaw.nl/retroboeken/generalemissiven/#page=278&amp;source=7\" title=\"Show this document on Huygens\" sec=\"7 265:22\">7 265:22</a></span></span>  <span class=\"txtu\">Johannes </span><span class=\"txtu\">de </span><span class=\"txtu\">Crouse </span><span class=\"txtu\">wordt </span><span class=\"txtu\">secunde </span><span class=\"txtu\">in </span><span class=\"txtu\">Banda; </span><span class=\"txtu\">een </span><span class=\"txtu\">brief </span><span class=\"txtu\">van </span><span class=\"txtu\">den </span><span class=\"txtu\">gouverneur </span><span class=\"txtu\">van </span><span class=\"txtu\">Ternate </span><span class=\"txtu\">van </span></div>"
      ],
      "text/plain": [
       "<IPython.core.display.HTML object>"
      ]
     },
     "metadata": {},
     "output_type": "display_data"
    },
    {
     "name": "stdout",
     "output_type": "stream",
     "text": [
      "Overlap 73: Batavia - Banda "
     ]
    },
    {
     "data": {
      "text/html": [
       "<div class=\"\"><span class=\"tfsechead \"><span class=\"ltr\"><a target=\"_blank\" href=\"http://resources.huygens.knaw.nl/retroboeken/generalemissiven/#page=338&amp;source=7\" title=\"Show this document on Huygens\" sec=\"7 325:1\">7 325:1</a></span></span>  <span class=\"txtu \"><span class=\"structure\"><span class=\"nd\">volume</span> 7, <span class=\"nd\">letter</span> Van Swoll, Castelyn, De Haan, Zwaardecroon, De Haeze, Timmerman, Faes, Tolling, d'Ableing, De Groot, Six, Hasselaar; Batavia, 15 januari 1718</span></span></div>"
      ],
      "text/plain": [
       "<IPython.core.display.HTML object>"
      ]
     },
     "metadata": {},
     "output_type": "display_data"
    },
    {
     "data": {
      "text/html": [
       "<div class=\"\"><span class=\"tfsechead \"><span class=\"ltr\"><a target=\"_blank\" href=\"http://resources.huygens.knaw.nl/retroboeken/generalemissiven/#page=338&amp;source=7\" title=\"Show this document on Huygens\" sec=\"7 325:11\">7 325:11</a></span></span>  <span class=\"txtu\">Batavia </span></div>"
      ],
      "text/plain": [
       "<IPython.core.display.HTML object>"
      ]
     },
     "metadata": {},
     "output_type": "display_data"
    },
    {
     "data": {
      "text/html": [
       "<div class=\"\"><span class=\"tfsechead \"><span class=\"ltr\"><a target=\"_blank\" href=\"http://resources.huygens.knaw.nl/retroboeken/generalemissiven/#page=338&amp;source=7\" title=\"Show this document on Huygens\" sec=\"7 325:11\">7 325:11</a></span></span>  <span class=\"txtu\">zal </span><span class=\"txtu\">er </span><span class=\"txtu\">evenveel </span><span class=\"txtu\">als </span><span class=\"txtu\">te </span><span class=\"txtu\">Batavia </span><span class=\"txtu\">voor </span><span class=\"txtu\">betalen, </span><span class=\"txtu\">nl. </span><span class=\"txtu\">per </span><span class=\"txtu\">pond </span><span class=\"txtu\">resp. </span><span class=\"txtu\">3/</span><span class=\"txtu\">s </span><span class=\"txtu\">tot </span><span class=\"txtu\">s/</span><span class=\"txtu\">s </span><span class=\"txtu\">rsd. </span><span class=\"txtu\">en </span><span class=\"txtu\">8 </span><span class=\"txtu\">zware </span><span class=\"txtu\">of </span><span class=\"txtu\">10 </span><span class=\"txtu\">lichte </span></div>"
      ],
      "text/plain": [
       "<IPython.core.display.HTML object>"
      ]
     },
     "metadata": {},
     "output_type": "display_data"
    },
    {
     "data": {
      "text/html": [
       "<div class=\"\"><span class=\"tfsechead \"><span class=\"ltr\"><a target=\"_blank\" href=\"http://resources.huygens.knaw.nl/retroboeken/generalemissiven/#page=338&amp;source=7\" title=\"Show this document on Huygens\" sec=\"7 325:21\">7 325:21</a></span></span>  <span class=\"txtu\">Banda </span></div>"
      ],
      "text/plain": [
       "<IPython.core.display.HTML object>"
      ]
     },
     "metadata": {},
     "output_type": "display_data"
    },
    {
     "data": {
      "text/html": [
       "<div class=\"\"><span class=\"tfsechead \"><span class=\"ltr\"><a target=\"_blank\" href=\"http://resources.huygens.knaw.nl/retroboeken/generalemissiven/#page=338&amp;source=7\" title=\"Show this document on Huygens\" sec=\"7 325:21\">7 325:21</a></span></span>  <span class=\"txtu\">moet </span><span class=\"txtu\">er </span><span class=\"txtu\">trachten </span><span class=\"txtu\">uitgedienden </span><span class=\"txtu\">tot </span><span class=\"txtu\">doordienen </span><span class=\"txtu\">te </span><span class=\"txtu\">bewegen; </span><span class=\"txtu\">de </span><span class=\"txtu\">Gamron </span><span class=\"txtu\">vertrok </span><span class=\"txtu\">4 </span><span class=\"txtu\">dec. </span><span class=\"txtu\">naar </span><span class=\"txtu\">Banda </span></div>"
      ],
      "text/plain": [
       "<IPython.core.display.HTML object>"
      ]
     },
     "metadata": {},
     "output_type": "display_data"
    },
    {
     "name": "stdout",
     "output_type": "stream",
     "text": [
      "Overlap 74: Batavia - Banda "
     ]
    },
    {
     "data": {
      "text/html": [
       "<div class=\"\"><span class=\"tfsechead \"><span class=\"ltr\"><a target=\"_blank\" href=\"http://resources.huygens.knaw.nl/retroboeken/generalemissiven/#page=338&amp;source=7\" title=\"Show this document on Huygens\" sec=\"7 325:1\">7 325:1</a></span></span>  <span class=\"txtu \"><span class=\"structure\"><span class=\"nd\">volume</span> 7, <span class=\"nd\">letter</span> Van Swoll, Castelyn, De Haan, Zwaardecroon, De Haeze, Timmerman, Faes, Tolling, d'Ableing, De Groot, Six, Hasselaar; Batavia, 15 januari 1718</span></span></div>"
      ],
      "text/plain": [
       "<IPython.core.display.HTML object>"
      ]
     },
     "metadata": {},
     "output_type": "display_data"
    },
    {
     "data": {
      "text/html": [
       "<div class=\"\"><span class=\"tfsechead \"><span class=\"ltr\"><a target=\"_blank\" href=\"http://resources.huygens.knaw.nl/retroboeken/generalemissiven/#page=338&amp;source=7\" title=\"Show this document on Huygens\" sec=\"7 325:17\">7 325:17</a></span></span>  <span class=\"txtu\">Batavia </span></div>"
      ],
      "text/plain": [
       "<IPython.core.display.HTML object>"
      ]
     },
     "metadata": {},
     "output_type": "display_data"
    },
    {
     "data": {
      "text/html": [
       "<div class=\"\"><span class=\"tfsechead \"><span class=\"ltr\"><a target=\"_blank\" href=\"http://resources.huygens.knaw.nl/retroboeken/generalemissiven/#page=338&amp;source=7\" title=\"Show this document on Huygens\" sec=\"7 325:17\">7 325:17</a></span></span>  <span class=\"txtu\">van </span><span class=\"txtu\">maakt; </span><span class=\"txtu\">ds. </span><span class=\"txtu\">Arnoldus </span><span class=\"txtu\">Brands </span><span class=\"txtu\">mag </span><span class=\"txtu\">naar </span><span class=\"txtu\">Batavia </span><span class=\"txtu\">komen, </span><span class=\"txtu\">ds. </span><span class=\"txtu\">Jacobus </span><span class=\"txtu\">Rennet </span><span class=\"txtu\">volgt </span><span class=\"txtu\">hem </span><span class=\"txtu\">op; </span></div>"
      ],
      "text/plain": [
       "<IPython.core.display.HTML object>"
      ]
     },
     "metadata": {},
     "output_type": "display_data"
    },
    {
     "data": {
      "text/html": [
       "<div class=\"\"><span class=\"tfsechead \"><span class=\"ltr\"><a target=\"_blank\" href=\"http://resources.huygens.knaw.nl/retroboeken/generalemissiven/#page=338&amp;source=7\" title=\"Show this document on Huygens\" sec=\"7 325:21\">7 325:21</a></span></span>  <span class=\"txtu\">Banda </span></div>"
      ],
      "text/plain": [
       "<IPython.core.display.HTML object>"
      ]
     },
     "metadata": {},
     "output_type": "display_data"
    },
    {
     "data": {
      "text/html": [
       "<div class=\"\"><span class=\"tfsechead \"><span class=\"ltr\"><a target=\"_blank\" href=\"http://resources.huygens.knaw.nl/retroboeken/generalemissiven/#page=338&amp;source=7\" title=\"Show this document on Huygens\" sec=\"7 325:21\">7 325:21</a></span></span>  <span class=\"txtu\">moet </span><span class=\"txtu\">er </span><span class=\"txtu\">trachten </span><span class=\"txtu\">uitgedienden </span><span class=\"txtu\">tot </span><span class=\"txtu\">doordienen </span><span class=\"txtu\">te </span><span class=\"txtu\">bewegen; </span><span class=\"txtu\">de </span><span class=\"txtu\">Gamron </span><span class=\"txtu\">vertrok </span><span class=\"txtu\">4 </span><span class=\"txtu\">dec. </span><span class=\"txtu\">naar </span><span class=\"txtu\">Banda </span></div>"
      ],
      "text/plain": [
       "<IPython.core.display.HTML object>"
      ]
     },
     "metadata": {},
     "output_type": "display_data"
    },
    {
     "name": "stdout",
     "output_type": "stream",
     "text": [
      "Overlap 75: Batavia - Banda "
     ]
    },
    {
     "data": {
      "text/html": [
       "<div class=\"\"><span class=\"tfsechead \"><span class=\"ltr\"><a target=\"_blank\" href=\"http://resources.huygens.knaw.nl/retroboeken/generalemissiven/#page=480&amp;source=7\" title=\"Show this document on Huygens\" sec=\"7 467:1\">7 467:1</a></span></span>  <span class=\"txtu \"><span class=\"structure\"><span class=\"nd\">volume</span> 7, <span class=\"nd\">letter</span> Zwaardecroon, Castelyn, De Haan, Timmerman, Faes, Tolling, d'Ableing, Huysman; Batavia, 26 maart 1720</span></span></div>"
      ],
      "text/plain": [
       "<IPython.core.display.HTML object>"
      ]
     },
     "metadata": {},
     "output_type": "display_data"
    },
    {
     "data": {
      "text/html": [
       "<div class=\"\"><span class=\"tfsechead \"><span class=\"ltr\"><a target=\"_blank\" href=\"http://resources.huygens.knaw.nl/retroboeken/generalemissiven/#page=480&amp;source=7\" title=\"Show this document on Huygens\" sec=\"7 467:4\">7 467:4</a></span></span>  <span class=\"txtu\">Batavia </span></div>"
      ],
      "text/plain": [
       "<IPython.core.display.HTML object>"
      ]
     },
     "metadata": {},
     "output_type": "display_data"
    },
    {
     "data": {
      "text/html": [
       "<div class=\"\"><span class=\"tfsechead \"><span class=\"ltr\"><a target=\"_blank\" href=\"http://resources.huygens.knaw.nl/retroboeken/generalemissiven/#page=480&amp;source=7\" title=\"Show this document on Huygens\" sec=\"7 467:4\">7 467:4</a></span></span>  <span class=\"txtu\">vertrek </span><span class=\"txtu\">van </span><span class=\"txtu\">Batavia </span><span class=\"txtu\">met </span><span class=\"txtu\">de </span><span class=\"txtu\">Anna </span><span class=\"txtu\">van </span><span class=\"txtu\">Malabar </span><span class=\"txtu\">ontvangen </span><span class=\"txtu\">brieven </span><span class=\"txtu\">van </span><span class=\"txtu\">19 </span><span class=\"txtu\">nov. </span><span class=\"txtu\">nog </span><span class=\"txtu\">meenemen; </span></div>"
      ],
      "text/plain": [
       "<IPython.core.display.HTML object>"
      ]
     },
     "metadata": {},
     "output_type": "display_data"
    },
    {
     "data": {
      "text/html": [
       "<div class=\"\"><span class=\"tfsechead \"><span class=\"ltr\"><a target=\"_blank\" href=\"http://resources.huygens.knaw.nl/retroboeken/generalemissiven/#page=480&amp;source=7\" title=\"Show this document on Huygens\" sec=\"7 467:20\">7 467:20</a></span></span>  <span class=\"txtu\">Banda </span></div>"
      ],
      "text/plain": [
       "<IPython.core.display.HTML object>"
      ]
     },
     "metadata": {},
     "output_type": "display_data"
    },
    {
     "data": {
      "text/html": [
       "<div class=\"\"><span class=\"tfsechead \"><span class=\"ltr\"><a target=\"_blank\" href=\"http://resources.huygens.knaw.nl/retroboeken/generalemissiven/#page=480&amp;source=7\" title=\"Show this document on Huygens\" sec=\"7 467:20\">7 467:20</a></span></span>  <span class=\"txtu\">van </span><span class=\"txtu\">de </span><span class=\"txtu\">vooraf </span><span class=\"txtu\">vertrokken </span><span class=\"txtu\">Ellemeet </span><span class=\"txtu\">f. </span><span class=\"txtu\">386280; </span><span class=\"txtu\">naar </span><span class=\"txtu\">Banda </span><span class=\"txtu\">vertrokken </span><span class=\"txtu\">27 </span><span class=\"txtu\">jan. </span><span class=\"txtu\">de </span><span class=\"txtu\">Nesserak </span><span class=\"txtu\">en </span></div>"
      ],
      "text/plain": [
       "<IPython.core.display.HTML object>"
      ]
     },
     "metadata": {},
     "output_type": "display_data"
    },
    {
     "name": "stdout",
     "output_type": "stream",
     "text": [
      "Overlap 76: Batavia - Banda, "
     ]
    },
    {
     "data": {
      "text/html": [
       "<div class=\"\"><span class=\"tfsechead \"><span class=\"ltr\"><a target=\"_blank\" href=\"http://resources.huygens.knaw.nl/retroboeken/generalemissiven/#page=550&amp;source=7\" title=\"Show this document on Huygens\" sec=\"7 537:1\">7 537:1</a></span></span>  <span class=\"txtu \"><span class=\"structure\"><span class=\"nd\">volume</span> 7, <span class=\"nd\">letter</span> Zwaardecroon, Castelyn, De Haan, Timmerman, Faes, d'Ableing, Huysman, Tolling, Hasselaar, Crudop, Durven, Blom; Batavia, 31 maart 1721</span></span></div>"
      ],
      "text/plain": [
       "<IPython.core.display.HTML object>"
      ]
     },
     "metadata": {},
     "output_type": "display_data"
    },
    {
     "data": {
      "text/html": [
       "<div class=\"\"><span class=\"tfsechead \"><span class=\"ltr\"><a target=\"_blank\" href=\"http://resources.huygens.knaw.nl/retroboeken/generalemissiven/#page=550&amp;source=7\" title=\"Show this document on Huygens\" sec=\"7 537:7\">7 537:7</a></span></span>  <span class=\"txtu\">Batavia </span></div>"
      ],
      "text/plain": [
       "<IPython.core.display.HTML object>"
      ]
     },
     "metadata": {},
     "output_type": "display_data"
    },
    {
     "data": {
      "text/html": [
       "<div class=\"\"><span class=\"tfsechead \"><span class=\"ltr\"><a target=\"_blank\" href=\"http://resources.huygens.knaw.nl/retroboeken/generalemissiven/#page=550&amp;source=7\" title=\"Show this document on Huygens\" sec=\"7 537:7\">7 537:7</a></span></span>  <span class=\"txtu\">de </span><span class=\"txtu\">eerste </span><span class=\"txtu\">brachten </span><span class=\"txtu\">door </span><span class=\"txtu\">tegenwind </span><span class=\"txtu\">drie </span><span class=\"txtu\">weken </span><span class=\"txtu\">door </span><span class=\"txtu\">tussen </span><span class=\"txtu\">Batavia </span><span class=\"txtu\">en </span><span class=\"txtu\">Bantam; </span><span class=\"txtu\">de </span><span class=\"txtu\">prijs </span><span class=\"txtu\">van </span><span class=\"txtu\">de </span></div>"
      ],
      "text/plain": [
       "<IPython.core.display.HTML object>"
      ]
     },
     "metadata": {},
     "output_type": "display_data"
    },
    {
     "data": {
      "text/html": [
       "<div class=\"\"><span class=\"tfsechead \"><span class=\"ltr\"><a target=\"_blank\" href=\"http://resources.huygens.knaw.nl/retroboeken/generalemissiven/#page=550&amp;source=7\" title=\"Show this document on Huygens\" sec=\"7 537:10\">7 537:10</a></span></span>  <span class=\"txtu\">Banda, </span></div>"
      ],
      "text/plain": [
       "<IPython.core.display.HTML object>"
      ]
     },
     "metadata": {},
     "output_type": "display_data"
    },
    {
     "data": {
      "text/html": [
       "<div class=\"\"><span class=\"tfsechead \"><span class=\"ltr\"><a target=\"_blank\" href=\"http://resources.huygens.knaw.nl/retroboeken/generalemissiven/#page=550&amp;source=7\" title=\"Show this document on Huygens\" sec=\"7 537:10\">7 537:10</a></span></span>  <span class=\"txtu\">van </span><span class=\"txtu\">Justitie </span><span class=\"txtu\">in </span><span class=\"txtu\">Banda, </span><span class=\"txtu\">Plakaatboek </span><span class=\"txtu\">IV, </span><span class=\"txtu\">p. </span><span class=\"txtu\">151-</span><span class=\"txtu\">152, </span><span class=\"txtu\">18 </span><span class=\"txtu\">febr. </span><span class=\"txtu\">1 </span><span class=\"txtu\">721; </span><span class=\"txtu\">naar </span><span class=\"txtu\">Ternate </span><span class=\"txtu\">werd </span><span class=\"txtu\">8 </span><span class=\"txtu\">febr. </span><span class=\"txtu\">met </span></div>"
      ],
      "text/plain": [
       "<IPython.core.display.HTML object>"
      ]
     },
     "metadata": {},
     "output_type": "display_data"
    },
    {
     "name": "stdout",
     "output_type": "stream",
     "text": [
      "Overlap 77: Banda, - Batavia "
     ]
    },
    {
     "data": {
      "text/html": [
       "<div class=\"\"><span class=\"tfsechead \"><span class=\"ltr\"><a target=\"_blank\" href=\"http://resources.huygens.knaw.nl/retroboeken/generalemissiven/#page=550&amp;source=7\" title=\"Show this document on Huygens\" sec=\"7 537:1\">7 537:1</a></span></span>  <span class=\"txtu \"><span class=\"structure\"><span class=\"nd\">volume</span> 7, <span class=\"nd\">letter</span> Zwaardecroon, Castelyn, De Haan, Timmerman, Faes, d'Ableing, Huysman, Tolling, Hasselaar, Crudop, Durven, Blom; Batavia, 31 maart 1721</span></span></div>"
      ],
      "text/plain": [
       "<IPython.core.display.HTML object>"
      ]
     },
     "metadata": {},
     "output_type": "display_data"
    },
    {
     "data": {
      "text/html": [
       "<div class=\"\"><span class=\"tfsechead \"><span class=\"ltr\"><a target=\"_blank\" href=\"http://resources.huygens.knaw.nl/retroboeken/generalemissiven/#page=550&amp;source=7\" title=\"Show this document on Huygens\" sec=\"7 537:10\">7 537:10</a></span></span>  <span class=\"txtu\">Banda, </span></div>"
      ],
      "text/plain": [
       "<IPython.core.display.HTML object>"
      ]
     },
     "metadata": {},
     "output_type": "display_data"
    },
    {
     "data": {
      "text/html": [
       "<div class=\"\"><span class=\"tfsechead \"><span class=\"ltr\"><a target=\"_blank\" href=\"http://resources.huygens.knaw.nl/retroboeken/generalemissiven/#page=550&amp;source=7\" title=\"Show this document on Huygens\" sec=\"7 537:10\">7 537:10</a></span></span>  <span class=\"txtu\">van </span><span class=\"txtu\">Justitie </span><span class=\"txtu\">in </span><span class=\"txtu\">Banda, </span><span class=\"txtu\">Plakaatboek </span><span class=\"txtu\">IV, </span><span class=\"txtu\">p. </span><span class=\"txtu\">151-</span><span class=\"txtu\">152, </span><span class=\"txtu\">18 </span><span class=\"txtu\">febr. </span><span class=\"txtu\">1 </span><span class=\"txtu\">721; </span><span class=\"txtu\">naar </span><span class=\"txtu\">Ternate </span><span class=\"txtu\">werd </span><span class=\"txtu\">8 </span><span class=\"txtu\">febr. </span><span class=\"txtu\">met </span></div>"
      ],
      "text/plain": [
       "<IPython.core.display.HTML object>"
      ]
     },
     "metadata": {},
     "output_type": "display_data"
    },
    {
     "data": {
      "text/html": [
       "<div class=\"\"><span class=\"tfsechead \"><span class=\"ltr\"><a target=\"_blank\" href=\"http://resources.huygens.knaw.nl/retroboeken/generalemissiven/#page=550&amp;source=7\" title=\"Show this document on Huygens\" sec=\"7 537:16\">7 537:16</a></span></span>  <span class=\"txtu\">Batavia </span></div>"
      ],
      "text/plain": [
       "<IPython.core.display.HTML object>"
      ]
     },
     "metadata": {},
     "output_type": "display_data"
    },
    {
     "data": {
      "text/html": [
       "<div class=\"\"><span class=\"tfsechead \"><span class=\"ltr\"><a target=\"_blank\" href=\"http://resources.huygens.knaw.nl/retroboeken/generalemissiven/#page=550&amp;source=7\" title=\"Show this document on Huygens\" sec=\"7 537:16\">7 537:16</a></span></span>  <span class=\"txtu\">dan </span><span class=\"txtu\">80 </span><span class=\"txtu\">slaven </span><span class=\"txtu\">naar </span><span class=\"txtu\">Batavia </span><span class=\"txtu\">brengen, </span><span class=\"txtu\">wat </span><span class=\"txtu\">men </span><span class=\"txtu\">er </span><span class=\"txtu\">tracht </span><span class=\"txtu\">te </span><span class=\"txtu\">ontduiken; </span><span class=\"txtu\">artikel </span><span class=\"txtu\">8 </span><span class=\"txtu\">van </span><span class=\"txtu\">het </span><span class=\"txtu\">contract </span></div>"
      ],
      "text/plain": [
       "<IPython.core.display.HTML object>"
      ]
     },
     "metadata": {},
     "output_type": "display_data"
    },
    {
     "name": "stdout",
     "output_type": "stream",
     "text": [
      "Overlap 78: Batavia; - Banda, "
     ]
    },
    {
     "data": {
      "text/html": [
       "<div class=\"\"><span class=\"tfsechead \"><span class=\"ltr\"><a target=\"_blank\" href=\"http://resources.huygens.knaw.nl/retroboeken/generalemissiven/#page=596&amp;source=7\" title=\"Show this document on Huygens\" sec=\"7 583:1\">7 583:1</a></span></span>  <span class=\"txtu \"><span class=\"structure\"><span class=\"nd\">volume</span> 7, <span class=\"nd\">letter</span> Zwaardecroon, Castelyn, De Haan, Faes, Huysman, Hasselaar, Crudop, Tolling, Bergman, Durven, Blom, Vuyst; Batavia, 20 januari 1722</span></span></div>"
      ],
      "text/plain": [
       "<IPython.core.display.HTML object>"
      ]
     },
     "metadata": {},
     "output_type": "display_data"
    },
    {
     "data": {
      "text/html": [
       "<div class=\"\"><span class=\"tfsechead \"><span class=\"ltr\"><a target=\"_blank\" href=\"http://resources.huygens.knaw.nl/retroboeken/generalemissiven/#page=596&amp;source=7\" title=\"Show this document on Huygens\" sec=\"7 583:12\">7 583:12</a></span></span>  <span class=\"txtu\">Batavia; </span></div>"
      ],
      "text/plain": [
       "<IPython.core.display.HTML object>"
      ]
     },
     "metadata": {},
     "output_type": "display_data"
    },
    {
     "data": {
      "text/html": [
       "<div class=\"\"><span class=\"tfsechead \"><span class=\"ltr\"><a target=\"_blank\" href=\"http://resources.huygens.knaw.nl/retroboeken/generalemissiven/#page=596&amp;source=7\" title=\"Show this document on Huygens\" sec=\"7 583:12\">7 583:12</a></span></span>  <span class=\"txtu\">daaraan </span><span class=\"txtu\">te </span><span class=\"txtu\">Batavia; </span><span class=\"txtu\">de </span><span class=\"txtu\">4 </span><span class=\"txtu\">dorpen </span><span class=\"txtu\">van </span><span class=\"txtu\">Amblau </span><span class=\"txtu\">moesten </span><span class=\"txtu\">20 </span><span class=\"txtu\">balken </span><span class=\"txtu\">leveren </span><span class=\"txtu\">als </span><span class=\"txtu\">boete </span><span class=\"txtu\">voor </span><span class=\"txtu\">hun </span><span class=\"txtu\">verzuim </span></div>"
      ],
      "text/plain": [
       "<IPython.core.display.HTML object>"
      ]
     },
     "metadata": {},
     "output_type": "display_data"
    },
    {
     "data": {
      "text/html": [
       "<div class=\"\"><span class=\"tfsechead \"><span class=\"ltr\"><a target=\"_blank\" href=\"http://resources.huygens.knaw.nl/retroboeken/generalemissiven/#page=596&amp;source=7\" title=\"Show this document on Huygens\" sec=\"7 583:15\">7 583:15</a></span></span>  <span class=\"txtu\">Banda, </span></div>"
      ],
      "text/plain": [
       "<IPython.core.display.HTML object>"
      ]
     },
     "metadata": {},
     "output_type": "display_data"
    },
    {
     "data": {
      "text/html": [
       "<div class=\"\"><span class=\"tfsechead \"><span class=\"ltr\"><a target=\"_blank\" href=\"http://resources.huygens.knaw.nl/retroboeken/generalemissiven/#page=596&amp;source=7\" title=\"Show this document on Huygens\" sec=\"7 583:15\">7 583:15</a></span></span>  <span class=\"txtu\">nemen </span><span class=\"txtu\">naar </span><span class=\"txtu\">Banda, </span><span class=\"txtu\">de </span><span class=\"txtu\">A </span><span class=\"txtu\">bbekerk </span><span class=\"txtu\">en </span><span class=\"txtu\">Huis </span><span class=\"txtu\">ter </span><span class=\"txtu\">Leede </span><span class=\"txtu\">zullen </span><span class=\"txtu\">volgen, </span><span class=\"txtu\">de </span><span class=\"txtu\">drie </span><span class=\"txtu\">samen </span><span class=\"txtu\">met </span><span class=\"txtu\">o. </span><span class=\"txtu\">a. </span><span class=\"txtu\">40000 </span></div>"
      ],
      "text/plain": [
       "<IPython.core.display.HTML object>"
      ]
     },
     "metadata": {},
     "output_type": "display_data"
    },
    {
     "name": "stdout",
     "output_type": "stream",
     "text": [
      "Overlap 79: Batavia, - Banda "
     ]
    },
    {
     "data": {
      "text/html": [
       "<div class=\"\"><span class=\"tfsechead \"><span class=\"ltr\"><a target=\"_blank\" href=\"http://resources.huygens.knaw.nl/retroboeken/generalemissiven/#page=697&amp;source=7\" title=\"Show this document on Huygens\" sec=\"7 684:1\">7 684:1</a></span></span>  <span class=\"txtu \"><span class=\"structure\"><span class=\"nd\">volume</span> 7, <span class=\"nd\">letter</span> Zwaardecroon, De Haan, Huysman, Hasselaar, Crudop, Tolling, Durven, Van Dishoeck, Blom; Batavia, 19 januari 1724</span></span></div>"
      ],
      "text/plain": [
       "<IPython.core.display.HTML object>"
      ]
     },
     "metadata": {},
     "output_type": "display_data"
    },
    {
     "data": {
      "text/html": [
       "<div class=\"\"><span class=\"tfsechead \"><span class=\"ltr\"><a target=\"_blank\" href=\"http://resources.huygens.knaw.nl/retroboeken/generalemissiven/#page=697&amp;source=7\" title=\"Show this document on Huygens\" sec=\"7 684:6\">7 684:6</a></span></span>  <span class=\"txtu\">Batavia, </span></div>"
      ],
      "text/plain": [
       "<IPython.core.display.HTML object>"
      ]
     },
     "metadata": {},
     "output_type": "display_data"
    },
    {
     "data": {
      "text/html": [
       "<div class=\"\"><span class=\"tfsechead \"><span class=\"ltr\"><a target=\"_blank\" href=\"http://resources.huygens.knaw.nl/retroboeken/generalemissiven/#page=697&amp;source=7\" title=\"Show this document on Huygens\" sec=\"7 684:6\">7 684:6</a></span></span>  <span class=\"txtu\">Bergman </span><span class=\"txtu\">zond </span><span class=\"txtu\">7 </span><span class=\"txtu\">dec. </span><span class=\"txtu\">het </span><span class=\"txtu\">waterschip </span><span class=\"txtu\">Haringtuin </span><span class=\"txtu\">onnodig </span><span class=\"txtu\">naar </span><span class=\"txtu\">Batavia, </span><span class=\"txtu\">het </span><span class=\"txtu\">werd </span><span class=\"txtu\">13 </span><span class=\"txtu\">dec. </span></div>"
      ],
      "text/plain": [
       "<IPython.core.display.HTML object>"
      ]
     },
     "metadata": {},
     "output_type": "display_data"
    },
    {
     "data": {
      "text/html": [
       "<div class=\"\"><span class=\"tfsechead \"><span class=\"ltr\"><a target=\"_blank\" href=\"http://resources.huygens.knaw.nl/retroboeken/generalemissiven/#page=697&amp;source=7\" title=\"Show this document on Huygens\" sec=\"7 684:15\">7 684:15</a></span></span>  <span class=\"txtu\">Banda </span></div>"
      ],
      "text/plain": [
       "<IPython.core.display.HTML object>"
      ]
     },
     "metadata": {},
     "output_type": "display_data"
    },
    {
     "data": {
      "text/html": [
       "<div class=\"\"><span class=\"tfsechead \"><span class=\"ltr\"><a target=\"_blank\" href=\"http://resources.huygens.knaw.nl/retroboeken/generalemissiven/#page=697&amp;source=7\" title=\"Show this document on Huygens\" sec=\"7 684:15\">7 684:15</a></span></span>  <span class=\"txtu\">en </span><span class=\"txtu\">mag </span><span class=\"txtu\">een </span><span class=\"txtu\">sloep </span><span class=\"txtu\">bezitten; </span><span class=\"txtu\">17 </span><span class=\"txtu\">dec. </span><span class=\"txtu\">vertrok </span><span class=\"txtu\">naar </span><span class=\"txtu\">Banda </span><span class=\"txtu\">via </span><span class=\"txtu\">Tegal </span><span class=\"txtu\">om </span><span class=\"txtu\">daar </span><span class=\"txtu\">300 </span><span class=\"txtu\">last </span><span class=\"txtu\">rijst </span></div>"
      ],
      "text/plain": [
       "<IPython.core.display.HTML object>"
      ]
     },
     "metadata": {},
     "output_type": "display_data"
    },
    {
     "name": "stdout",
     "output_type": "stream",
     "text": [
      "Overlap 80: Batavia, - Banda; "
     ]
    },
    {
     "data": {
      "text/html": [
       "<div class=\"\"><span class=\"tfsechead \"><span class=\"ltr\"><a target=\"_blank\" href=\"http://resources.huygens.knaw.nl/retroboeken/generalemissiven/#page=697&amp;source=7\" title=\"Show this document on Huygens\" sec=\"7 684:1\">7 684:1</a></span></span>  <span class=\"txtu \"><span class=\"structure\"><span class=\"nd\">volume</span> 7, <span class=\"nd\">letter</span> Zwaardecroon, De Haan, Huysman, Hasselaar, Crudop, Tolling, Durven, Van Dishoeck, Blom; Batavia, 19 januari 1724</span></span></div>"
      ],
      "text/plain": [
       "<IPython.core.display.HTML object>"
      ]
     },
     "metadata": {},
     "output_type": "display_data"
    },
    {
     "data": {
      "text/html": [
       "<div class=\"\"><span class=\"tfsechead \"><span class=\"ltr\"><a target=\"_blank\" href=\"http://resources.huygens.knaw.nl/retroboeken/generalemissiven/#page=697&amp;source=7\" title=\"Show this document on Huygens\" sec=\"7 684:6\">7 684:6</a></span></span>  <span class=\"txtu\">Batavia, </span></div>"
      ],
      "text/plain": [
       "<IPython.core.display.HTML object>"
      ]
     },
     "metadata": {},
     "output_type": "display_data"
    },
    {
     "data": {
      "text/html": [
       "<div class=\"\"><span class=\"tfsechead \"><span class=\"ltr\"><a target=\"_blank\" href=\"http://resources.huygens.knaw.nl/retroboeken/generalemissiven/#page=697&amp;source=7\" title=\"Show this document on Huygens\" sec=\"7 684:6\">7 684:6</a></span></span>  <span class=\"txtu\">Bergman </span><span class=\"txtu\">zond </span><span class=\"txtu\">7 </span><span class=\"txtu\">dec. </span><span class=\"txtu\">het </span><span class=\"txtu\">waterschip </span><span class=\"txtu\">Haringtuin </span><span class=\"txtu\">onnodig </span><span class=\"txtu\">naar </span><span class=\"txtu\">Batavia, </span><span class=\"txtu\">het </span><span class=\"txtu\">werd </span><span class=\"txtu\">13 </span><span class=\"txtu\">dec. </span></div>"
      ],
      "text/plain": [
       "<IPython.core.display.HTML object>"
      ]
     },
     "metadata": {},
     "output_type": "display_data"
    },
    {
     "data": {
      "text/html": [
       "<div class=\"\"><span class=\"tfsechead \"><span class=\"ltr\"><a target=\"_blank\" href=\"http://resources.huygens.knaw.nl/retroboeken/generalemissiven/#page=697&amp;source=7\" title=\"Show this document on Huygens\" sec=\"7 684:16\">7 684:16</a></span></span>  <span class=\"txtu\">Banda; </span></div>"
      ],
      "text/plain": [
       "<IPython.core.display.HTML object>"
      ]
     },
     "metadata": {},
     "output_type": "display_data"
    },
    {
     "data": {
      "text/html": [
       "<div class=\"\"><span class=\"tfsechead \"><span class=\"ltr\"><a target=\"_blank\" href=\"http://resources.huygens.knaw.nl/retroboeken/generalemissiven/#page=697&amp;source=7\" title=\"Show this document on Huygens\" sec=\"7 684:16\">7 684:16</a></span></span>  <span class=\"txtu\">in </span><span class=\"txtu\">te </span><span class=\"txtu\">nemen </span><span class=\"txtu\">de </span><span class=\"txtu\">Hoedekenskerke </span><span class=\"txtu\">met </span><span class=\"txtu\">40 </span><span class=\"txtu\">matrozen </span><span class=\"txtu\">voor </span><span class=\"txtu\">de </span><span class=\"txtu\">dienst </span><span class=\"txtu\">in </span><span class=\"txtu\">Banda; </span><span class=\"txtu\">men </span><span class=\"txtu\">gaf </span><span class=\"txtu\">daar </span><span class=\"txtu\">de </span></div>"
      ],
      "text/plain": [
       "<IPython.core.display.HTML object>"
      ]
     },
     "metadata": {},
     "output_type": "display_data"
    },
    {
     "name": "stdout",
     "output_type": "stream",
     "text": [
      "Overlap 81: Batavia - Banda "
     ]
    },
    {
     "data": {
      "text/html": [
       "<div class=\"\"><span class=\"tfsechead \"><span class=\"ltr\"><a target=\"_blank\" href=\"http://resources.huygens.knaw.nl/retroboeken/generalemissiven/#page=697&amp;source=7\" title=\"Show this document on Huygens\" sec=\"7 684:1\">7 684:1</a></span></span>  <span class=\"txtu \"><span class=\"structure\"><span class=\"nd\">volume</span> 7, <span class=\"nd\">letter</span> Zwaardecroon, De Haan, Huysman, Hasselaar, Crudop, Tolling, Durven, Van Dishoeck, Blom; Batavia, 19 januari 1724</span></span></div>"
      ],
      "text/plain": [
       "<IPython.core.display.HTML object>"
      ]
     },
     "metadata": {},
     "output_type": "display_data"
    },
    {
     "data": {
      "text/html": [
       "<div class=\"\"><span class=\"tfsechead \"><span class=\"ltr\"><a target=\"_blank\" href=\"http://resources.huygens.knaw.nl/retroboeken/generalemissiven/#page=697&amp;source=7\" title=\"Show this document on Huygens\" sec=\"7 684:13\">7 684:13</a></span></span>  <span class=\"txtu\">Batavia </span></div>"
      ],
      "text/plain": [
       "<IPython.core.display.HTML object>"
      ]
     },
     "metadata": {},
     "output_type": "display_data"
    },
    {
     "data": {
      "text/html": [
       "<div class=\"\"><span class=\"tfsechead \"><span class=\"ltr\"><a target=\"_blank\" href=\"http://resources.huygens.knaw.nl/retroboeken/generalemissiven/#page=697&amp;source=7\" title=\"Show this document on Huygens\" sec=\"7 684:13\">7 684:13</a></span></span>  <span class=\"txtu\">Amboina </span><span class=\"txtu\">mogen </span><span class=\"txtu\">hun </span><span class=\"txtu\">afgevaren </span><span class=\"txtu\">vaartuigen </span><span class=\"txtu\">te </span><span class=\"txtu\">Batavia </span><span class=\"txtu\">verruilen </span><span class=\"txtu\">tegen </span><span class=\"txtu\">nieuwe; </span><span class=\"txtu\">Zacharias </span><span class=\"txtu\">Bintang </span></div>"
      ],
      "text/plain": [
       "<IPython.core.display.HTML object>"
      ]
     },
     "metadata": {},
     "output_type": "display_data"
    },
    {
     "data": {
      "text/html": [
       "<div class=\"\"><span class=\"tfsechead \"><span class=\"ltr\"><a target=\"_blank\" href=\"http://resources.huygens.knaw.nl/retroboeken/generalemissiven/#page=697&amp;source=7\" title=\"Show this document on Huygens\" sec=\"7 684:15\">7 684:15</a></span></span>  <span class=\"txtu\">Banda </span></div>"
      ],
      "text/plain": [
       "<IPython.core.display.HTML object>"
      ]
     },
     "metadata": {},
     "output_type": "display_data"
    },
    {
     "data": {
      "text/html": [
       "<div class=\"\"><span class=\"tfsechead \"><span class=\"ltr\"><a target=\"_blank\" href=\"http://resources.huygens.knaw.nl/retroboeken/generalemissiven/#page=697&amp;source=7\" title=\"Show this document on Huygens\" sec=\"7 684:15\">7 684:15</a></span></span>  <span class=\"txtu\">en </span><span class=\"txtu\">mag </span><span class=\"txtu\">een </span><span class=\"txtu\">sloep </span><span class=\"txtu\">bezitten; </span><span class=\"txtu\">17 </span><span class=\"txtu\">dec. </span><span class=\"txtu\">vertrok </span><span class=\"txtu\">naar </span><span class=\"txtu\">Banda </span><span class=\"txtu\">via </span><span class=\"txtu\">Tegal </span><span class=\"txtu\">om </span><span class=\"txtu\">daar </span><span class=\"txtu\">300 </span><span class=\"txtu\">last </span><span class=\"txtu\">rijst </span></div>"
      ],
      "text/plain": [
       "<IPython.core.display.HTML object>"
      ]
     },
     "metadata": {},
     "output_type": "display_data"
    },
    {
     "name": "stdout",
     "output_type": "stream",
     "text": [
      "Overlap 82: Batavia - Banda; "
     ]
    },
    {
     "data": {
      "text/html": [
       "<div class=\"\"><span class=\"tfsechead \"><span class=\"ltr\"><a target=\"_blank\" href=\"http://resources.huygens.knaw.nl/retroboeken/generalemissiven/#page=697&amp;source=7\" title=\"Show this document on Huygens\" sec=\"7 684:1\">7 684:1</a></span></span>  <span class=\"txtu \"><span class=\"structure\"><span class=\"nd\">volume</span> 7, <span class=\"nd\">letter</span> Zwaardecroon, De Haan, Huysman, Hasselaar, Crudop, Tolling, Durven, Van Dishoeck, Blom; Batavia, 19 januari 1724</span></span></div>"
      ],
      "text/plain": [
       "<IPython.core.display.HTML object>"
      ]
     },
     "metadata": {},
     "output_type": "display_data"
    },
    {
     "data": {
      "text/html": [
       "<div class=\"\"><span class=\"tfsechead \"><span class=\"ltr\"><a target=\"_blank\" href=\"http://resources.huygens.knaw.nl/retroboeken/generalemissiven/#page=697&amp;source=7\" title=\"Show this document on Huygens\" sec=\"7 684:13\">7 684:13</a></span></span>  <span class=\"txtu\">Batavia </span></div>"
      ],
      "text/plain": [
       "<IPython.core.display.HTML object>"
      ]
     },
     "metadata": {},
     "output_type": "display_data"
    },
    {
     "data": {
      "text/html": [
       "<div class=\"\"><span class=\"tfsechead \"><span class=\"ltr\"><a target=\"_blank\" href=\"http://resources.huygens.knaw.nl/retroboeken/generalemissiven/#page=697&amp;source=7\" title=\"Show this document on Huygens\" sec=\"7 684:13\">7 684:13</a></span></span>  <span class=\"txtu\">Amboina </span><span class=\"txtu\">mogen </span><span class=\"txtu\">hun </span><span class=\"txtu\">afgevaren </span><span class=\"txtu\">vaartuigen </span><span class=\"txtu\">te </span><span class=\"txtu\">Batavia </span><span class=\"txtu\">verruilen </span><span class=\"txtu\">tegen </span><span class=\"txtu\">nieuwe; </span><span class=\"txtu\">Zacharias </span><span class=\"txtu\">Bintang </span></div>"
      ],
      "text/plain": [
       "<IPython.core.display.HTML object>"
      ]
     },
     "metadata": {},
     "output_type": "display_data"
    },
    {
     "data": {
      "text/html": [
       "<div class=\"\"><span class=\"tfsechead \"><span class=\"ltr\"><a target=\"_blank\" href=\"http://resources.huygens.knaw.nl/retroboeken/generalemissiven/#page=697&amp;source=7\" title=\"Show this document on Huygens\" sec=\"7 684:16\">7 684:16</a></span></span>  <span class=\"txtu\">Banda; </span></div>"
      ],
      "text/plain": [
       "<IPython.core.display.HTML object>"
      ]
     },
     "metadata": {},
     "output_type": "display_data"
    },
    {
     "data": {
      "text/html": [
       "<div class=\"\"><span class=\"tfsechead \"><span class=\"ltr\"><a target=\"_blank\" href=\"http://resources.huygens.knaw.nl/retroboeken/generalemissiven/#page=697&amp;source=7\" title=\"Show this document on Huygens\" sec=\"7 684:16\">7 684:16</a></span></span>  <span class=\"txtu\">in </span><span class=\"txtu\">te </span><span class=\"txtu\">nemen </span><span class=\"txtu\">de </span><span class=\"txtu\">Hoedekenskerke </span><span class=\"txtu\">met </span><span class=\"txtu\">40 </span><span class=\"txtu\">matrozen </span><span class=\"txtu\">voor </span><span class=\"txtu\">de </span><span class=\"txtu\">dienst </span><span class=\"txtu\">in </span><span class=\"txtu\">Banda; </span><span class=\"txtu\">men </span><span class=\"txtu\">gaf </span><span class=\"txtu\">daar </span><span class=\"txtu\">de </span></div>"
      ],
      "text/plain": [
       "<IPython.core.display.HTML object>"
      ]
     },
     "metadata": {},
     "output_type": "display_data"
    },
    {
     "name": "stdout",
     "output_type": "stream",
     "text": [
      "Overlap 83: Banda - Batavia "
     ]
    },
    {
     "data": {
      "text/html": [
       "<div class=\"\"><span class=\"tfsechead \"><span class=\"ltr\"><a target=\"_blank\" href=\"http://resources.huygens.knaw.nl/retroboeken/generalemissiven/#page=697&amp;source=7\" title=\"Show this document on Huygens\" sec=\"7 684:1\">7 684:1</a></span></span>  <span class=\"txtu \"><span class=\"structure\"><span class=\"nd\">volume</span> 7, <span class=\"nd\">letter</span> Zwaardecroon, De Haan, Huysman, Hasselaar, Crudop, Tolling, Durven, Van Dishoeck, Blom; Batavia, 19 januari 1724</span></span></div>"
      ],
      "text/plain": [
       "<IPython.core.display.HTML object>"
      ]
     },
     "metadata": {},
     "output_type": "display_data"
    },
    {
     "data": {
      "text/html": [
       "<div class=\"\"><span class=\"tfsechead \"><span class=\"ltr\"><a target=\"_blank\" href=\"http://resources.huygens.knaw.nl/retroboeken/generalemissiven/#page=697&amp;source=7\" title=\"Show this document on Huygens\" sec=\"7 684:15\">7 684:15</a></span></span>  <span class=\"txtu\">Banda </span></div>"
      ],
      "text/plain": [
       "<IPython.core.display.HTML object>"
      ]
     },
     "metadata": {},
     "output_type": "display_data"
    },
    {
     "data": {
      "text/html": [
       "<div class=\"\"><span class=\"tfsechead \"><span class=\"ltr\"><a target=\"_blank\" href=\"http://resources.huygens.knaw.nl/retroboeken/generalemissiven/#page=697&amp;source=7\" title=\"Show this document on Huygens\" sec=\"7 684:15\">7 684:15</a></span></span>  <span class=\"txtu\">en </span><span class=\"txtu\">mag </span><span class=\"txtu\">een </span><span class=\"txtu\">sloep </span><span class=\"txtu\">bezitten; </span><span class=\"txtu\">17 </span><span class=\"txtu\">dec. </span><span class=\"txtu\">vertrok </span><span class=\"txtu\">naar </span><span class=\"txtu\">Banda </span><span class=\"txtu\">via </span><span class=\"txtu\">Tegal </span><span class=\"txtu\">om </span><span class=\"txtu\">daar </span><span class=\"txtu\">300 </span><span class=\"txtu\">last </span><span class=\"txtu\">rijst </span></div>"
      ],
      "text/plain": [
       "<IPython.core.display.HTML object>"
      ]
     },
     "metadata": {},
     "output_type": "display_data"
    },
    {
     "data": {
      "text/html": [
       "<div class=\"\"><span class=\"tfsechead \"><span class=\"ltr\"><a target=\"_blank\" href=\"http://resources.huygens.knaw.nl/retroboeken/generalemissiven/#page=697&amp;source=7\" title=\"Show this document on Huygens\" sec=\"7 684:18\">7 684:18</a></span></span>  <span class=\"txtu\">Batavia </span></div>"
      ],
      "text/plain": [
       "<IPython.core.display.HTML object>"
      ]
     },
     "metadata": {},
     "output_type": "display_data"
    },
    {
     "data": {
      "text/html": [
       "<div class=\"\"><span class=\"tfsechead \"><span class=\"ltr\"><a target=\"_blank\" href=\"http://resources.huygens.knaw.nl/retroboeken/generalemissiven/#page=697&amp;source=7\" title=\"Show this document on Huygens\" sec=\"7 684:18\">7 684:18</a></span></span>  <span class=\"txtu\">mag </span><span class=\"txtu\">naar </span><span class=\"txtu\">Batavia </span><span class=\"txtu\">komen, </span><span class=\"txtu\">hem </span><span class=\"txtu\">volgt </span><span class=\"txtu\">op </span><span class=\"txtu\">de </span><span class=\"txtu\">uit </span><span class=\"txtu\">patria </span><span class=\"txtu\">gekomen </span><span class=\"txtu\">ds. </span><span class=\"txtu\">Johannes </span><span class=\"txtu\">Wilhelmus </span></div>"
      ],
      "text/plain": [
       "<IPython.core.display.HTML object>"
      ]
     },
     "metadata": {},
     "output_type": "display_data"
    },
    {
     "name": "stdout",
     "output_type": "stream",
     "text": [
      "Overlap 84: Banda; - Batavia "
     ]
    },
    {
     "data": {
      "text/html": [
       "<div class=\"\"><span class=\"tfsechead \"><span class=\"ltr\"><a target=\"_blank\" href=\"http://resources.huygens.knaw.nl/retroboeken/generalemissiven/#page=697&amp;source=7\" title=\"Show this document on Huygens\" sec=\"7 684:1\">7 684:1</a></span></span>  <span class=\"txtu \"><span class=\"structure\"><span class=\"nd\">volume</span> 7, <span class=\"nd\">letter</span> Zwaardecroon, De Haan, Huysman, Hasselaar, Crudop, Tolling, Durven, Van Dishoeck, Blom; Batavia, 19 januari 1724</span></span></div>"
      ],
      "text/plain": [
       "<IPython.core.display.HTML object>"
      ]
     },
     "metadata": {},
     "output_type": "display_data"
    },
    {
     "data": {
      "text/html": [
       "<div class=\"\"><span class=\"tfsechead \"><span class=\"ltr\"><a target=\"_blank\" href=\"http://resources.huygens.knaw.nl/retroboeken/generalemissiven/#page=697&amp;source=7\" title=\"Show this document on Huygens\" sec=\"7 684:16\">7 684:16</a></span></span>  <span class=\"txtu\">Banda; </span></div>"
      ],
      "text/plain": [
       "<IPython.core.display.HTML object>"
      ]
     },
     "metadata": {},
     "output_type": "display_data"
    },
    {
     "data": {
      "text/html": [
       "<div class=\"\"><span class=\"tfsechead \"><span class=\"ltr\"><a target=\"_blank\" href=\"http://resources.huygens.knaw.nl/retroboeken/generalemissiven/#page=697&amp;source=7\" title=\"Show this document on Huygens\" sec=\"7 684:16\">7 684:16</a></span></span>  <span class=\"txtu\">in </span><span class=\"txtu\">te </span><span class=\"txtu\">nemen </span><span class=\"txtu\">de </span><span class=\"txtu\">Hoedekenskerke </span><span class=\"txtu\">met </span><span class=\"txtu\">40 </span><span class=\"txtu\">matrozen </span><span class=\"txtu\">voor </span><span class=\"txtu\">de </span><span class=\"txtu\">dienst </span><span class=\"txtu\">in </span><span class=\"txtu\">Banda; </span><span class=\"txtu\">men </span><span class=\"txtu\">gaf </span><span class=\"txtu\">daar </span><span class=\"txtu\">de </span></div>"
      ],
      "text/plain": [
       "<IPython.core.display.HTML object>"
      ]
     },
     "metadata": {},
     "output_type": "display_data"
    },
    {
     "data": {
      "text/html": [
       "<div class=\"\"><span class=\"tfsechead \"><span class=\"ltr\"><a target=\"_blank\" href=\"http://resources.huygens.knaw.nl/retroboeken/generalemissiven/#page=697&amp;source=7\" title=\"Show this document on Huygens\" sec=\"7 684:18\">7 684:18</a></span></span>  <span class=\"txtu\">Batavia </span></div>"
      ],
      "text/plain": [
       "<IPython.core.display.HTML object>"
      ]
     },
     "metadata": {},
     "output_type": "display_data"
    },
    {
     "data": {
      "text/html": [
       "<div class=\"\"><span class=\"tfsechead \"><span class=\"ltr\"><a target=\"_blank\" href=\"http://resources.huygens.knaw.nl/retroboeken/generalemissiven/#page=697&amp;source=7\" title=\"Show this document on Huygens\" sec=\"7 684:18\">7 684:18</a></span></span>  <span class=\"txtu\">mag </span><span class=\"txtu\">naar </span><span class=\"txtu\">Batavia </span><span class=\"txtu\">komen, </span><span class=\"txtu\">hem </span><span class=\"txtu\">volgt </span><span class=\"txtu\">op </span><span class=\"txtu\">de </span><span class=\"txtu\">uit </span><span class=\"txtu\">patria </span><span class=\"txtu\">gekomen </span><span class=\"txtu\">ds. </span><span class=\"txtu\">Johannes </span><span class=\"txtu\">Wilhelmus </span></div>"
      ],
      "text/plain": [
       "<IPython.core.display.HTML object>"
      ]
     },
     "metadata": {},
     "output_type": "display_data"
    },
    {
     "name": "stdout",
     "output_type": "stream",
     "text": [
      "Overlap 85: Banda - Batavia "
     ]
    },
    {
     "data": {
      "text/html": [
       "<div class=\"\"><span class=\"tfsechead \"><span class=\"ltr\"><a target=\"_blank\" href=\"http://resources.huygens.knaw.nl/retroboeken/generalemissiven/#page=706&amp;source=7\" title=\"Show this document on Huygens\" sec=\"7 693:1\">7 693:1</a></span></span>  <span class=\"txtu \"><span class=\"structure\"><span class=\"nd\">volume</span> 7, <span class=\"nd\">letter</span> Zwaardecroon, De Haan, Huysman, Hasselaar, Crudop, Tolling, Durven, Van Dishoeck, Blom; Batavia, 28 maart 1724</span></span></div>"
      ],
      "text/plain": [
       "<IPython.core.display.HTML object>"
      ]
     },
     "metadata": {},
     "output_type": "display_data"
    },
    {
     "data": {
      "text/html": [
       "<div class=\"\"><span class=\"tfsechead \"><span class=\"ltr\"><a target=\"_blank\" href=\"http://resources.huygens.knaw.nl/retroboeken/generalemissiven/#page=706&amp;source=7\" title=\"Show this document on Huygens\" sec=\"7 693:11\">7 693:11</a></span></span>  <span class=\"txtu\">Banda </span></div>"
      ],
      "text/plain": [
       "<IPython.core.display.HTML object>"
      ]
     },
     "metadata": {},
     "output_type": "display_data"
    },
    {
     "data": {
      "text/html": [
       "<div class=\"\"><span class=\"tfsechead \"><span class=\"ltr\"><a target=\"_blank\" href=\"http://resources.huygens.knaw.nl/retroboeken/generalemissiven/#page=706&amp;source=7\" title=\"Show this document on Huygens\" sec=\"7 693:11\">7 693:11</a></span></span>  <span class=\"txtu\">f. </span><span class=\"txtu\">25781; </span><span class=\"txtu\">25 </span><span class=\"txtu\">jan. </span><span class=\"txtu\">vertrokken </span><span class=\"txtu\">de </span><span class=\"txtu\">Nederhoven </span><span class=\"txtu\">en </span><span class=\"txtu\">Behliet </span><span class=\"txtu\">naar </span><span class=\"txtu\">Banda </span><span class=\"txtu\">met </span><span class=\"txtu\">Van </span><span class=\"txtu\">Tets, </span><span class=\"txtu\">20 </span><span class=\"txtu\">febr. </span><span class=\"txtu\">naar </span></div>"
      ],
      "text/plain": [
       "<IPython.core.display.HTML object>"
      ]
     },
     "metadata": {},
     "output_type": "display_data"
    },
    {
     "data": {
      "text/html": [
       "<div class=\"\"><span class=\"tfsechead \"><span class=\"ltr\"><a target=\"_blank\" href=\"http://resources.huygens.knaw.nl/retroboeken/generalemissiven/#page=706&amp;source=7\" title=\"Show this document on Huygens\" sec=\"7 693:20\">7 693:20</a></span></span>  <span class=\"txtu\">Batavia </span></div>"
      ],
      "text/plain": [
       "<IPython.core.display.HTML object>"
      ]
     },
     "metadata": {},
     "output_type": "display_data"
    },
    {
     "data": {
      "text/html": [
       "<div class=\"\"><span class=\"tfsechead \"><span class=\"ltr\"><a target=\"_blank\" href=\"http://resources.huygens.knaw.nl/retroboeken/generalemissiven/#page=706&amp;source=7\" title=\"Show this document on Huygens\" sec=\"7 693:20\">7 693:20</a></span></span>  <span class=\"txtu\">Die </span><span class=\"txtu\">bleek </span><span class=\"txtu\">te </span><span class=\"txtu\">Batavia </span><span class=\"txtu\">namelijk </span><span class=\"txtu\">niet </span><span class=\"txtu\">te </span><span class=\"txtu\">deugen » </span></div>"
      ],
      "text/plain": [
       "<IPython.core.display.HTML object>"
      ]
     },
     "metadata": {},
     "output_type": "display_data"
    },
    {
     "name": "stdout",
     "output_type": "stream",
     "text": [
      "Overlap 86: Banda - Batavia "
     ]
    },
    {
     "data": {
      "text/html": [
       "<div class=\"\"><span class=\"tfsechead \"><span class=\"ltr\"><a target=\"_blank\" href=\"http://resources.huygens.knaw.nl/retroboeken/generalemissiven/#page=706&amp;source=7\" title=\"Show this document on Huygens\" sec=\"7 693:1\">7 693:1</a></span></span>  <span class=\"txtu \"><span class=\"structure\"><span class=\"nd\">volume</span> 7, <span class=\"nd\">letter</span> Zwaardecroon, De Haan, Huysman, Hasselaar, Crudop, Tolling, Durven, Van Dishoeck, Blom; Batavia, 28 maart 1724</span></span></div>"
      ],
      "text/plain": [
       "<IPython.core.display.HTML object>"
      ]
     },
     "metadata": {},
     "output_type": "display_data"
    },
    {
     "data": {
      "text/html": [
       "<div class=\"\"><span class=\"tfsechead \"><span class=\"ltr\"><a target=\"_blank\" href=\"http://resources.huygens.knaw.nl/retroboeken/generalemissiven/#page=706&amp;source=7\" title=\"Show this document on Huygens\" sec=\"7 693:15\">7 693:15</a></span></span>  <span class=\"txtu\">Banda </span></div>"
      ],
      "text/plain": [
       "<IPython.core.display.HTML object>"
      ]
     },
     "metadata": {},
     "output_type": "display_data"
    },
    {
     "data": {
      "text/html": [
       "<div class=\"\"><span class=\"tfsechead \"><span class=\"ltr\"><a target=\"_blank\" href=\"http://resources.huygens.knaw.nl/retroboeken/generalemissiven/#page=706&amp;source=7\" title=\"Show this document on Huygens\" sec=\"7 693:15\">7 693:15</a></span></span>  <span class=\"txtu\">Heynsius </span><span class=\"txtu\">keerde </span><span class=\"txtu\">de </span><span class=\"txtu\">sloep </span><span class=\"txtu\">Reuk </span><span class=\"txtu\">op </span><span class=\"txtu\">weg </span><span class=\"txtu\">naar </span><span class=\"txtu\">Banda </span><span class=\"txtu\">op </span><span class=\"txtu\">last </span><span class=\"txtu\">van </span><span class=\"txtu\">zijn </span><span class=\"txtu\">weduwe </span><span class=\"txtu\">naar </span><span class=\"txtu\">Ternate </span><span class=\"txtu\">terug; </span></div>"
      ],
      "text/plain": [
       "<IPython.core.display.HTML object>"
      ]
     },
     "metadata": {},
     "output_type": "display_data"
    },
    {
     "data": {
      "text/html": [
       "<div class=\"\"><span class=\"tfsechead \"><span class=\"ltr\"><a target=\"_blank\" href=\"http://resources.huygens.knaw.nl/retroboeken/generalemissiven/#page=706&amp;source=7\" title=\"Show this document on Huygens\" sec=\"7 693:20\">7 693:20</a></span></span>  <span class=\"txtu\">Batavia </span></div>"
      ],
      "text/plain": [
       "<IPython.core.display.HTML object>"
      ]
     },
     "metadata": {},
     "output_type": "display_data"
    },
    {
     "data": {
      "text/html": [
       "<div class=\"\"><span class=\"tfsechead \"><span class=\"ltr\"><a target=\"_blank\" href=\"http://resources.huygens.knaw.nl/retroboeken/generalemissiven/#page=706&amp;source=7\" title=\"Show this document on Huygens\" sec=\"7 693:20\">7 693:20</a></span></span>  <span class=\"txtu\">Die </span><span class=\"txtu\">bleek </span><span class=\"txtu\">te </span><span class=\"txtu\">Batavia </span><span class=\"txtu\">namelijk </span><span class=\"txtu\">niet </span><span class=\"txtu\">te </span><span class=\"txtu\">deugen » </span></div>"
      ],
      "text/plain": [
       "<IPython.core.display.HTML object>"
      ]
     },
     "metadata": {},
     "output_type": "display_data"
    },
    {
     "name": "stdout",
     "output_type": "stream",
     "text": [
      "Overlap 87: Banda, - Batavia "
     ]
    },
    {
     "data": {
      "text/html": [
       "<div class=\"\"><span class=\"tfsechead \"><span class=\"ltr\"><a target=\"_blank\" href=\"http://resources.huygens.knaw.nl/retroboeken/generalemissiven/#page=759&amp;source=7\" title=\"Show this document on Huygens\" sec=\"7 746:1\">7 746:1</a></span></span>  <span class=\"txtu \"><span class=\"structure\"><span class=\"nd\">volume</span> 7, <span class=\"nd\">letter</span> Zwaardecroon, De Haan, Huysman, Hasselaar, Tolling, Durven, Blom, Vuyst, Sipman; Batavia, 30 januari 1725</span></span></div>"
      ],
      "text/plain": [
       "<IPython.core.display.HTML object>"
      ]
     },
     "metadata": {},
     "output_type": "display_data"
    },
    {
     "data": {
      "text/html": [
       "<div class=\"\"><span class=\"tfsechead \"><span class=\"ltr\"><a target=\"_blank\" href=\"http://resources.huygens.knaw.nl/retroboeken/generalemissiven/#page=759&amp;source=7\" title=\"Show this document on Huygens\" sec=\"7 746:9\">7 746:9</a></span></span>  <span class=\"txtu\">Banda, </span></div>"
      ],
      "text/plain": [
       "<IPython.core.display.HTML object>"
      ]
     },
     "metadata": {},
     "output_type": "display_data"
    },
    {
     "data": {
      "text/html": [
       "<div class=\"\"><span class=\"tfsechead \"><span class=\"ltr\"><a target=\"_blank\" href=\"http://resources.huygens.knaw.nl/retroboeken/generalemissiven/#page=759&amp;source=7\" title=\"Show this document on Huygens\" sec=\"7 746:9\">7 746:9</a></span></span>  <span class=\"txtu\">Comans </span><span class=\"txtu\">wordt </span><span class=\"txtu\">secunde </span><span class=\"txtu\">van </span><span class=\"txtu\">Banda, </span><span class=\"txtu\">als </span><span class=\"txtu\">fiskaal </span><span class=\"txtu\">van </span><span class=\"txtu\">Amboina </span><span class=\"txtu\">opgevolgd </span><span class=\"txtu\">door </span><span class=\"txtu\">David </span><span class=\"txtu\">van </span><span class=\"txtu\">Eps, </span><span class=\"txtu\">nu </span></div>"
      ],
      "text/plain": [
       "<IPython.core.display.HTML object>"
      ]
     },
     "metadata": {},
     "output_type": "display_data"
    },
    {
     "data": {
      "text/html": [
       "<div class=\"\"><span class=\"tfsechead \"><span class=\"ltr\"><a target=\"_blank\" href=\"http://resources.huygens.knaw.nl/retroboeken/generalemissiven/#page=759&amp;source=7\" title=\"Show this document on Huygens\" sec=\"7 746:11\">7 746:11</a></span></span>  <span class=\"txtu\">Batavia </span></div>"
      ],
      "text/plain": [
       "<IPython.core.display.HTML object>"
      ]
     },
     "metadata": {},
     "output_type": "display_data"
    },
    {
     "data": {
      "text/html": [
       "<div class=\"\"><span class=\"tfsechead \"><span class=\"ltr\"><a target=\"_blank\" href=\"http://resources.huygens.knaw.nl/retroboeken/generalemissiven/#page=759&amp;source=7\" title=\"Show this document on Huygens\" sec=\"7 746:11\">7 746:11</a></span></span>  <span class=\"txtu\">veel </span><span class=\"txtu\">in </span><span class=\"txtu\">kas </span><span class=\"txtu\">had, </span><span class=\"txtu\">hij </span><span class=\"txtu\">moet </span><span class=\"txtu\">die </span><span class=\"txtu\">som </span><span class=\"txtu\">restitueren </span><span class=\"txtu\">en </span><span class=\"txtu\">zich </span><span class=\"txtu\">te </span><span class=\"txtu\">Batavia </span><span class=\"txtu\">voor </span><span class=\"txtu\">de </span><span class=\"txtu\">Raad </span><span class=\"txtu\">van </span><span class=\"txtu\">Justitie </span><span class=\"txtu\">verantwoorden; </span></div>"
      ],
      "text/plain": [
       "<IPython.core.display.HTML object>"
      ]
     },
     "metadata": {},
     "output_type": "display_data"
    },
    {
     "name": "stdout",
     "output_type": "stream",
     "text": [
      "Overlap 88: Banda; - Batavia "
     ]
    },
    {
     "data": {
      "text/html": [
       "<div class=\"\"><span class=\"tfsechead \"><span class=\"ltr\"><a target=\"_blank\" href=\"http://resources.huygens.knaw.nl/retroboeken/generalemissiven/#page=759&amp;source=7\" title=\"Show this document on Huygens\" sec=\"7 746:1\">7 746:1</a></span></span>  <span class=\"txtu \"><span class=\"structure\"><span class=\"nd\">volume</span> 7, <span class=\"nd\">letter</span> Zwaardecroon, De Haan, Huysman, Hasselaar, Tolling, Durven, Blom, Vuyst, Sipman; Batavia, 30 januari 1725</span></span></div>"
      ],
      "text/plain": [
       "<IPython.core.display.HTML object>"
      ]
     },
     "metadata": {},
     "output_type": "display_data"
    },
    {
     "data": {
      "text/html": [
       "<div class=\"\"><span class=\"tfsechead \"><span class=\"ltr\"><a target=\"_blank\" href=\"http://resources.huygens.knaw.nl/retroboeken/generalemissiven/#page=759&amp;source=7\" title=\"Show this document on Huygens\" sec=\"7 746:10\">7 746:10</a></span></span>  <span class=\"txtu\">Banda; </span></div>"
      ],
      "text/plain": [
       "<IPython.core.display.HTML object>"
      ]
     },
     "metadata": {},
     "output_type": "display_data"
    },
    {
     "data": {
      "text/html": [
       "<div class=\"\"><span class=\"tfsechead \"><span class=\"ltr\"><a target=\"_blank\" href=\"http://resources.huygens.knaw.nl/retroboeken/generalemissiven/#page=759&amp;source=7\" title=\"Show this document on Huygens\" sec=\"7 746:10\">7 746:10</a></span></span>  <span class=\"txtu\">fiskaal </span><span class=\"txtu\">van </span><span class=\"txtu\">Banda; </span><span class=\"txtu\">in </span><span class=\"txtu\">Amboina </span><span class=\"txtu\">keerde </span><span class=\"txtu\">men </span><span class=\"txtu\">den </span><span class=\"txtu\">dispensier </span><span class=\"txtu\">Isaac </span><span class=\"txtu\">Meester </span><span class=\"txtu\">f. </span><span class=\"txtu\">993 </span><span class=\"txtu\">uit, </span><span class=\"txtu\">die </span><span class=\"txtu\">hij </span><span class=\"txtu\">te </span></div>"
      ],
      "text/plain": [
       "<IPython.core.display.HTML object>"
      ]
     },
     "metadata": {},
     "output_type": "display_data"
    },
    {
     "data": {
      "text/html": [
       "<div class=\"\"><span class=\"tfsechead \"><span class=\"ltr\"><a target=\"_blank\" href=\"http://resources.huygens.knaw.nl/retroboeken/generalemissiven/#page=759&amp;source=7\" title=\"Show this document on Huygens\" sec=\"7 746:11\">7 746:11</a></span></span>  <span class=\"txtu\">Batavia </span></div>"
      ],
      "text/plain": [
       "<IPython.core.display.HTML object>"
      ]
     },
     "metadata": {},
     "output_type": "display_data"
    },
    {
     "data": {
      "text/html": [
       "<div class=\"\"><span class=\"tfsechead \"><span class=\"ltr\"><a target=\"_blank\" href=\"http://resources.huygens.knaw.nl/retroboeken/generalemissiven/#page=759&amp;source=7\" title=\"Show this document on Huygens\" sec=\"7 746:11\">7 746:11</a></span></span>  <span class=\"txtu\">veel </span><span class=\"txtu\">in </span><span class=\"txtu\">kas </span><span class=\"txtu\">had, </span><span class=\"txtu\">hij </span><span class=\"txtu\">moet </span><span class=\"txtu\">die </span><span class=\"txtu\">som </span><span class=\"txtu\">restitueren </span><span class=\"txtu\">en </span><span class=\"txtu\">zich </span><span class=\"txtu\">te </span><span class=\"txtu\">Batavia </span><span class=\"txtu\">voor </span><span class=\"txtu\">de </span><span class=\"txtu\">Raad </span><span class=\"txtu\">van </span><span class=\"txtu\">Justitie </span><span class=\"txtu\">verantwoorden; </span></div>"
      ],
      "text/plain": [
       "<IPython.core.display.HTML object>"
      ]
     },
     "metadata": {},
     "output_type": "display_data"
    },
    {
     "name": "stdout",
     "output_type": "stream",
     "text": [
      "Overlap 89: Batavia - Banda "
     ]
    },
    {
     "data": {
      "text/html": [
       "<div class=\"\"><span class=\"tfsechead \"><span class=\"ltr\"><a target=\"_blank\" href=\"http://resources.huygens.knaw.nl/retroboeken/generalemissiven/#page=759&amp;source=7\" title=\"Show this document on Huygens\" sec=\"7 746:1\">7 746:1</a></span></span>  <span class=\"txtu \"><span class=\"structure\"><span class=\"nd\">volume</span> 7, <span class=\"nd\">letter</span> Zwaardecroon, De Haan, Huysman, Hasselaar, Tolling, Durven, Blom, Vuyst, Sipman; Batavia, 30 januari 1725</span></span></div>"
      ],
      "text/plain": [
       "<IPython.core.display.HTML object>"
      ]
     },
     "metadata": {},
     "output_type": "display_data"
    },
    {
     "data": {
      "text/html": [
       "<div class=\"\"><span class=\"tfsechead \"><span class=\"ltr\"><a target=\"_blank\" href=\"http://resources.huygens.knaw.nl/retroboeken/generalemissiven/#page=759&amp;source=7\" title=\"Show this document on Huygens\" sec=\"7 746:11\">7 746:11</a></span></span>  <span class=\"txtu\">Batavia </span></div>"
      ],
      "text/plain": [
       "<IPython.core.display.HTML object>"
      ]
     },
     "metadata": {},
     "output_type": "display_data"
    },
    {
     "data": {
      "text/html": [
       "<div class=\"\"><span class=\"tfsechead \"><span class=\"ltr\"><a target=\"_blank\" href=\"http://resources.huygens.knaw.nl/retroboeken/generalemissiven/#page=759&amp;source=7\" title=\"Show this document on Huygens\" sec=\"7 746:11\">7 746:11</a></span></span>  <span class=\"txtu\">veel </span><span class=\"txtu\">in </span><span class=\"txtu\">kas </span><span class=\"txtu\">had, </span><span class=\"txtu\">hij </span><span class=\"txtu\">moet </span><span class=\"txtu\">die </span><span class=\"txtu\">som </span><span class=\"txtu\">restitueren </span><span class=\"txtu\">en </span><span class=\"txtu\">zich </span><span class=\"txtu\">te </span><span class=\"txtu\">Batavia </span><span class=\"txtu\">voor </span><span class=\"txtu\">de </span><span class=\"txtu\">Raad </span><span class=\"txtu\">van </span><span class=\"txtu\">Justitie </span><span class=\"txtu\">verantwoorden; </span></div>"
      ],
      "text/plain": [
       "<IPython.core.display.HTML object>"
      ]
     },
     "metadata": {},
     "output_type": "display_data"
    },
    {
     "data": {
      "text/html": [
       "<div class=\"\"><span class=\"tfsechead \"><span class=\"ltr\"><a target=\"_blank\" href=\"http://resources.huygens.knaw.nl/retroboeken/generalemissiven/#page=759&amp;source=7\" title=\"Show this document on Huygens\" sec=\"7 746:12\">7 746:12</a></span></span>  <span class=\"txtu\">Banda </span></div>"
      ],
      "text/plain": [
       "<IPython.core.display.HTML object>"
      ]
     },
     "metadata": {},
     "output_type": "display_data"
    },
    {
     "data": {
      "text/html": [
       "<div class=\"\"><span class=\"tfsechead \"><span class=\"ltr\"><a target=\"_blank\" href=\"http://resources.huygens.knaw.nl/retroboeken/generalemissiven/#page=759&amp;source=7\" title=\"Show this document on Huygens\" sec=\"7 746:12\">7 746:12</a></span></span>  <span class=\"txtu\">naar </span><span class=\"txtu\">Banda </span><span class=\"txtu\">vertrok </span><span class=\"txtu\">15 </span><span class=\"txtu\">dec. </span><span class=\"txtu\">de </span><span class=\"txtu\">Bentveld </span><span class=\"txtu\">met </span><span class=\"txtu\">50 </span><span class=\"txtu\">soldaten </span><span class=\"txtu\">en </span><span class=\"txtu\">40 </span><span class=\"txtu\">matrozen </span><span class=\"txtu\">via </span><span class=\"txtu\">Tegal </span></div>"
      ],
      "text/plain": [
       "<IPython.core.display.HTML object>"
      ]
     },
     "metadata": {},
     "output_type": "display_data"
    },
    {
     "name": "stdout",
     "output_type": "stream",
     "text": [
      "Overlap 90: Banda, - Batavia "
     ]
    },
    {
     "data": {
      "text/html": [
       "<div class=\"\"><span class=\"tfsechead \"><span class=\"ltr\"><a target=\"_blank\" href=\"http://resources.huygens.knaw.nl/retroboeken/generalemissiven/#page=759&amp;source=7\" title=\"Show this document on Huygens\" sec=\"7 746:1\">7 746:1</a></span></span>  <span class=\"txtu \"><span class=\"structure\"><span class=\"nd\">volume</span> 7, <span class=\"nd\">letter</span> Zwaardecroon, De Haan, Huysman, Hasselaar, Tolling, Durven, Blom, Vuyst, Sipman; Batavia, 30 januari 1725</span></span></div>"
      ],
      "text/plain": [
       "<IPython.core.display.HTML object>"
      ]
     },
     "metadata": {},
     "output_type": "display_data"
    },
    {
     "data": {
      "text/html": [
       "<div class=\"\"><span class=\"tfsechead \"><span class=\"ltr\"><a target=\"_blank\" href=\"http://resources.huygens.knaw.nl/retroboeken/generalemissiven/#page=759&amp;source=7\" title=\"Show this document on Huygens\" sec=\"7 746:9\">7 746:9</a></span></span>  <span class=\"txtu\">Banda, </span></div>"
      ],
      "text/plain": [
       "<IPython.core.display.HTML object>"
      ]
     },
     "metadata": {},
     "output_type": "display_data"
    },
    {
     "data": {
      "text/html": [
       "<div class=\"\"><span class=\"tfsechead \"><span class=\"ltr\"><a target=\"_blank\" href=\"http://resources.huygens.knaw.nl/retroboeken/generalemissiven/#page=759&amp;source=7\" title=\"Show this document on Huygens\" sec=\"7 746:9\">7 746:9</a></span></span>  <span class=\"txtu\">Comans </span><span class=\"txtu\">wordt </span><span class=\"txtu\">secunde </span><span class=\"txtu\">van </span><span class=\"txtu\">Banda, </span><span class=\"txtu\">als </span><span class=\"txtu\">fiskaal </span><span class=\"txtu\">van </span><span class=\"txtu\">Amboina </span><span class=\"txtu\">opgevolgd </span><span class=\"txtu\">door </span><span class=\"txtu\">David </span><span class=\"txtu\">van </span><span class=\"txtu\">Eps, </span><span class=\"txtu\">nu </span></div>"
      ],
      "text/plain": [
       "<IPython.core.display.HTML object>"
      ]
     },
     "metadata": {},
     "output_type": "display_data"
    },
    {
     "data": {
      "text/html": [
       "<div class=\"\"><span class=\"tfsechead \"><span class=\"ltr\"><a target=\"_blank\" href=\"http://resources.huygens.knaw.nl/retroboeken/generalemissiven/#page=759&amp;source=7\" title=\"Show this document on Huygens\" sec=\"7 746:20\">7 746:20</a></span></span>  <span class=\"txtu\">Batavia </span></div>"
      ],
      "text/plain": [
       "<IPython.core.display.HTML object>"
      ]
     },
     "metadata": {},
     "output_type": "display_data"
    },
    {
     "data": {
      "text/html": [
       "<div class=\"\"><span class=\"tfsechead \"><span class=\"ltr\"><a target=\"_blank\" href=\"http://resources.huygens.knaw.nl/retroboeken/generalemissiven/#page=759&amp;source=7\" title=\"Show this document on Huygens\" sec=\"7 746:20\">7 746:20</a></span></span>  <span class=\"txtu\">door </span><span class=\"txtu\">Jacob </span><span class=\"txtu\">Boner, </span><span class=\"txtu\">de </span><span class=\"txtu\">fiskaal </span><span class=\"txtu\">door </span><span class=\"txtu\">Jan </span><span class=\"txtu\">van </span><span class=\"txtu\">Gorten </span><span class=\"txtu\">bos; </span><span class=\"txtu\">ds. </span><span class=\"txtu\">Dominicus </span><span class=\"txtu\">Se! </span><span class=\"txtu\">mag </span><span class=\"txtu\">naar </span><span class=\"txtu\">Batavia </span></div>"
      ],
      "text/plain": [
       "<IPython.core.display.HTML object>"
      ]
     },
     "metadata": {},
     "output_type": "display_data"
    },
    {
     "name": "stdout",
     "output_type": "stream",
     "text": [
      "Overlap 91: Banda; - Batavia "
     ]
    },
    {
     "data": {
      "text/html": [
       "<div class=\"\"><span class=\"tfsechead \"><span class=\"ltr\"><a target=\"_blank\" href=\"http://resources.huygens.knaw.nl/retroboeken/generalemissiven/#page=759&amp;source=7\" title=\"Show this document on Huygens\" sec=\"7 746:1\">7 746:1</a></span></span>  <span class=\"txtu \"><span class=\"structure\"><span class=\"nd\">volume</span> 7, <span class=\"nd\">letter</span> Zwaardecroon, De Haan, Huysman, Hasselaar, Tolling, Durven, Blom, Vuyst, Sipman; Batavia, 30 januari 1725</span></span></div>"
      ],
      "text/plain": [
       "<IPython.core.display.HTML object>"
      ]
     },
     "metadata": {},
     "output_type": "display_data"
    },
    {
     "data": {
      "text/html": [
       "<div class=\"\"><span class=\"tfsechead \"><span class=\"ltr\"><a target=\"_blank\" href=\"http://resources.huygens.knaw.nl/retroboeken/generalemissiven/#page=759&amp;source=7\" title=\"Show this document on Huygens\" sec=\"7 746:10\">7 746:10</a></span></span>  <span class=\"txtu\">Banda; </span></div>"
      ],
      "text/plain": [
       "<IPython.core.display.HTML object>"
      ]
     },
     "metadata": {},
     "output_type": "display_data"
    },
    {
     "data": {
      "text/html": [
       "<div class=\"\"><span class=\"tfsechead \"><span class=\"ltr\"><a target=\"_blank\" href=\"http://resources.huygens.knaw.nl/retroboeken/generalemissiven/#page=759&amp;source=7\" title=\"Show this document on Huygens\" sec=\"7 746:10\">7 746:10</a></span></span>  <span class=\"txtu\">fiskaal </span><span class=\"txtu\">van </span><span class=\"txtu\">Banda; </span><span class=\"txtu\">in </span><span class=\"txtu\">Amboina </span><span class=\"txtu\">keerde </span><span class=\"txtu\">men </span><span class=\"txtu\">den </span><span class=\"txtu\">dispensier </span><span class=\"txtu\">Isaac </span><span class=\"txtu\">Meester </span><span class=\"txtu\">f. </span><span class=\"txtu\">993 </span><span class=\"txtu\">uit, </span><span class=\"txtu\">die </span><span class=\"txtu\">hij </span><span class=\"txtu\">te </span></div>"
      ],
      "text/plain": [
       "<IPython.core.display.HTML object>"
      ]
     },
     "metadata": {},
     "output_type": "display_data"
    },
    {
     "data": {
      "text/html": [
       "<div class=\"\"><span class=\"tfsechead \"><span class=\"ltr\"><a target=\"_blank\" href=\"http://resources.huygens.knaw.nl/retroboeken/generalemissiven/#page=759&amp;source=7\" title=\"Show this document on Huygens\" sec=\"7 746:20\">7 746:20</a></span></span>  <span class=\"txtu\">Batavia </span></div>"
      ],
      "text/plain": [
       "<IPython.core.display.HTML object>"
      ]
     },
     "metadata": {},
     "output_type": "display_data"
    },
    {
     "data": {
      "text/html": [
       "<div class=\"\"><span class=\"tfsechead \"><span class=\"ltr\"><a target=\"_blank\" href=\"http://resources.huygens.knaw.nl/retroboeken/generalemissiven/#page=759&amp;source=7\" title=\"Show this document on Huygens\" sec=\"7 746:20\">7 746:20</a></span></span>  <span class=\"txtu\">door </span><span class=\"txtu\">Jacob </span><span class=\"txtu\">Boner, </span><span class=\"txtu\">de </span><span class=\"txtu\">fiskaal </span><span class=\"txtu\">door </span><span class=\"txtu\">Jan </span><span class=\"txtu\">van </span><span class=\"txtu\">Gorten </span><span class=\"txtu\">bos; </span><span class=\"txtu\">ds. </span><span class=\"txtu\">Dominicus </span><span class=\"txtu\">Se! </span><span class=\"txtu\">mag </span><span class=\"txtu\">naar </span><span class=\"txtu\">Batavia </span></div>"
      ],
      "text/plain": [
       "<IPython.core.display.HTML object>"
      ]
     },
     "metadata": {},
     "output_type": "display_data"
    },
    {
     "name": "stdout",
     "output_type": "stream",
     "text": [
      "Overlap 92: Banda - Batavia "
     ]
    },
    {
     "data": {
      "text/html": [
       "<div class=\"\"><span class=\"tfsechead \"><span class=\"ltr\"><a target=\"_blank\" href=\"http://resources.huygens.knaw.nl/retroboeken/generalemissiven/#page=759&amp;source=7\" title=\"Show this document on Huygens\" sec=\"7 746:1\">7 746:1</a></span></span>  <span class=\"txtu \"><span class=\"structure\"><span class=\"nd\">volume</span> 7, <span class=\"nd\">letter</span> Zwaardecroon, De Haan, Huysman, Hasselaar, Tolling, Durven, Blom, Vuyst, Sipman; Batavia, 30 januari 1725</span></span></div>"
      ],
      "text/plain": [
       "<IPython.core.display.HTML object>"
      ]
     },
     "metadata": {},
     "output_type": "display_data"
    },
    {
     "data": {
      "text/html": [
       "<div class=\"\"><span class=\"tfsechead \"><span class=\"ltr\"><a target=\"_blank\" href=\"http://resources.huygens.knaw.nl/retroboeken/generalemissiven/#page=759&amp;source=7\" title=\"Show this document on Huygens\" sec=\"7 746:12\">7 746:12</a></span></span>  <span class=\"txtu\">Banda </span></div>"
      ],
      "text/plain": [
       "<IPython.core.display.HTML object>"
      ]
     },
     "metadata": {},
     "output_type": "display_data"
    },
    {
     "data": {
      "text/html": [
       "<div class=\"\"><span class=\"tfsechead \"><span class=\"ltr\"><a target=\"_blank\" href=\"http://resources.huygens.knaw.nl/retroboeken/generalemissiven/#page=759&amp;source=7\" title=\"Show this document on Huygens\" sec=\"7 746:12\">7 746:12</a></span></span>  <span class=\"txtu\">naar </span><span class=\"txtu\">Banda </span><span class=\"txtu\">vertrok </span><span class=\"txtu\">15 </span><span class=\"txtu\">dec. </span><span class=\"txtu\">de </span><span class=\"txtu\">Bentveld </span><span class=\"txtu\">met </span><span class=\"txtu\">50 </span><span class=\"txtu\">soldaten </span><span class=\"txtu\">en </span><span class=\"txtu\">40 </span><span class=\"txtu\">matrozen </span><span class=\"txtu\">via </span><span class=\"txtu\">Tegal </span></div>"
      ],
      "text/plain": [
       "<IPython.core.display.HTML object>"
      ]
     },
     "metadata": {},
     "output_type": "display_data"
    },
    {
     "data": {
      "text/html": [
       "<div class=\"\"><span class=\"tfsechead \"><span class=\"ltr\"><a target=\"_blank\" href=\"http://resources.huygens.knaw.nl/retroboeken/generalemissiven/#page=759&amp;source=7\" title=\"Show this document on Huygens\" sec=\"7 746:20\">7 746:20</a></span></span>  <span class=\"txtu\">Batavia </span></div>"
      ],
      "text/plain": [
       "<IPython.core.display.HTML object>"
      ]
     },
     "metadata": {},
     "output_type": "display_data"
    },
    {
     "data": {
      "text/html": [
       "<div class=\"\"><span class=\"tfsechead \"><span class=\"ltr\"><a target=\"_blank\" href=\"http://resources.huygens.knaw.nl/retroboeken/generalemissiven/#page=759&amp;source=7\" title=\"Show this document on Huygens\" sec=\"7 746:20\">7 746:20</a></span></span>  <span class=\"txtu\">door </span><span class=\"txtu\">Jacob </span><span class=\"txtu\">Boner, </span><span class=\"txtu\">de </span><span class=\"txtu\">fiskaal </span><span class=\"txtu\">door </span><span class=\"txtu\">Jan </span><span class=\"txtu\">van </span><span class=\"txtu\">Gorten </span><span class=\"txtu\">bos; </span><span class=\"txtu\">ds. </span><span class=\"txtu\">Dominicus </span><span class=\"txtu\">Se! </span><span class=\"txtu\">mag </span><span class=\"txtu\">naar </span><span class=\"txtu\">Batavia </span></div>"
      ],
      "text/plain": [
       "<IPython.core.display.HTML object>"
      ]
     },
     "metadata": {},
     "output_type": "display_data"
    },
    {
     "name": "stdout",
     "output_type": "stream",
     "text": [
      "Overlap 93: Banda , - Batavia "
     ]
    },
    {
     "data": {
      "text/html": [
       "<div class=\"\"><span class=\"tfsechead \"><span class=\"ltr\"><a target=\"_blank\" href=\"http://resources.huygens.knaw.nl/retroboeken/generalemissiven/#page=57&amp;source=8\" title=\"Show this document on Huygens\" sec=\"8 46:1\">8 46:1</a></span></span>  <span class=\"txtu \"><span class=\"structure\"><span class=\"nd\">volume</span> 8, <span class=\"nd\">letter</span> De Haan, Huysman, Hasselaar, Blom, Durven, Vuyst, Gabry, Dubbeldekop, Van der Schuer; Batavia, 27 maart 1726</span></span></div>"
      ],
      "text/plain": [
       "<IPython.core.display.HTML object>"
      ]
     },
     "metadata": {},
     "output_type": "display_data"
    },
    {
     "data": {
      "text/html": [
       "<div class=\"\"><span class=\"tfsechead \"><span class=\"ltr\"><a target=\"_blank\" href=\"http://resources.huygens.knaw.nl/retroboeken/generalemissiven/#page=57&amp;source=8\" title=\"Show this document on Huygens\" sec=\"8 46:9\">8 46:9</a></span></span>  <span class=\"txtu\">Banda , </span></div>"
      ],
      "text/plain": [
       "<IPython.core.display.HTML object>"
      ]
     },
     "metadata": {},
     "output_type": "display_data"
    },
    {
     "data": {
      "text/html": [
       "<div class=\"\"><span class=\"tfsechead \"><span class=\"ltr\"><a target=\"_blank\" href=\"http://resources.huygens.knaw.nl/retroboeken/generalemissiven/#page=57&amp;source=8\" title=\"Show this document on Huygens\" sec=\"8 46:9\">8 46:9</a></span></span>  <span class=\"txtu\">militairen , </span><span class=\"txtu\">de </span><span class=\"txtu\">Meerhuizen </span><span class=\"txtu\">en </span><span class=\"txtu\">Westerbeek </span><span class=\"txtu\">vertrokken </span><span class=\"txtu\">4 </span><span class=\"txtu\">febr. </span><span class=\"txtu\">naar </span><span class=\"txtu\">Banda , </span><span class=\"txtu\">met </span><span class=\"txtu\">de </span></div>"
      ],
      "text/plain": [
       "<IPython.core.display.HTML object>"
      ]
     },
     "metadata": {},
     "output_type": "display_data"
    },
    {
     "data": {
      "text/html": [
       "<div class=\"\"><span class=\"tfsechead \"><span class=\"ltr\"><a target=\"_blank\" href=\"http://resources.huygens.knaw.nl/retroboeken/generalemissiven/#page=57&amp;source=8\" title=\"Show this document on Huygens\" sec=\"8 46:20\">8 46:20</a></span></span>  <span class=\"txtu\">Batavia </span></div>"
      ],
      "text/plain": [
       "<IPython.core.display.HTML object>"
      ]
     },
     "metadata": {},
     "output_type": "display_data"
    },
    {
     "data": {
      "text/html": [
       "<div class=\"\"><span class=\"tfsechead \"><span class=\"ltr\"><a target=\"_blank\" href=\"http://resources.huygens.knaw.nl/retroboeken/generalemissiven/#page=57&amp;source=8\" title=\"Show this document on Huygens\" sec=\"8 46:20\">8 46:20</a></span></span>  <span class=\"txtu\">de </span><span class=\"txtu\">Bonthainse </span><span class=\"txtu\">prins </span><span class=\"txtu\">Païnga, </span><span class=\"txtu\">een </span><span class=\"txtu\">mensendief, </span><span class=\"txtu\">moet </span><span class=\"txtu\">naar </span><span class=\"txtu\">Batavia </span><span class=\"txtu\">worden </span><span class=\"txtu\">gezonden; </span></div>"
      ],
      "text/plain": [
       "<IPython.core.display.HTML object>"
      ]
     },
     "metadata": {},
     "output_type": "display_data"
    },
    {
     "name": "stdout",
     "output_type": "stream",
     "text": [
      "Overlap 94: Batavia - Banda "
     ]
    },
    {
     "data": {
      "text/html": [
       "<div class=\"\"><span class=\"tfsechead \"><span class=\"ltr\"><a target=\"_blank\" href=\"http://resources.huygens.knaw.nl/retroboeken/generalemissiven/#page=246&amp;source=8\" title=\"Show this document on Huygens\" sec=\"8 235:1\">8 235:1</a></span></span>  <span class=\"txtu \"><span class=\"structure\"><span class=\"nd\">volume</span> 8, <span class=\"nd\">letter</span> De Haan, Huysman, Hasselaar, Blom, Durven, Van der Schuer, Versluys, Westpalm, Van Baerle, De Witte, Van Schooten, Van Heyningen, Van Bayen; Batavia, 29 maart 1729</span></span></div>"
      ],
      "text/plain": [
       "<IPython.core.display.HTML object>"
      ]
     },
     "metadata": {},
     "output_type": "display_data"
    },
    {
     "data": {
      "text/html": [
       "<div class=\"\"><span class=\"tfsechead \"><span class=\"ltr\"><a target=\"_blank\" href=\"http://resources.huygens.knaw.nl/retroboeken/generalemissiven/#page=246&amp;source=8\" title=\"Show this document on Huygens\" sec=\"8 235:17\">8 235:17</a></span></span>  <span class=\"txtu\">Batavia </span></div>"
      ],
      "text/plain": [
       "<IPython.core.display.HTML object>"
      ]
     },
     "metadata": {},
     "output_type": "display_data"
    },
    {
     "data": {
      "text/html": [
       "<div class=\"\"><span class=\"tfsechead \"><span class=\"ltr\"><a target=\"_blank\" href=\"http://resources.huygens.knaw.nl/retroboeken/generalemissiven/#page=246&amp;source=8\" title=\"Show this document on Huygens\" sec=\"8 235:17\">8 235:17</a></span></span>  <span class=\"txtu\">samen </span><span class=\"txtu\">kregen </span><span class=\"txtu\">ze </span><span class=\"txtu\">te </span><span class=\"txtu\">Batavia </span><span class=\"txtu\">een </span><span class=\"txtu\">lading </span><span class=\"txtu\">van </span><span class=\"txtu\">f. </span><span class=\"txtu\">67. </span><span class=\"txtu\">735 </span><span class=\"txtu\">Dit </span><span class=\"txtu\">klopt </span><span class=\"txtu\">niet </span><span class=\"txtu\">met </span><span class=\"txtu\">p. </span><span class=\"txtu\">225. </span></div>"
      ],
      "text/plain": [
       "<IPython.core.display.HTML object>"
      ]
     },
     "metadata": {},
     "output_type": "display_data"
    },
    {
     "data": {
      "text/html": [
       "<div class=\"\"><span class=\"tfsechead \"><span class=\"ltr\"><a target=\"_blank\" href=\"http://resources.huygens.knaw.nl/retroboeken/generalemissiven/#page=246&amp;source=8\" title=\"Show this document on Huygens\" sec=\"8 235:19\">8 235:19</a></span></span>  <span class=\"txtu\">Banda </span></div>"
      ],
      "text/plain": [
       "<IPython.core.display.HTML object>"
      ]
     },
     "metadata": {},
     "output_type": "display_data"
    },
    {
     "data": {
      "text/html": [
       "<div class=\"\"><span class=\"tfsechead \"><span class=\"ltr\"><a target=\"_blank\" href=\"http://resources.huygens.knaw.nl/retroboeken/generalemissiven/#page=246&amp;source=8\" title=\"Show this document on Huygens\" sec=\"8 235:19\">8 235:19</a></span></span>  <span class=\"txtu\">50 </span><span class=\"txtu\">militairen </span><span class=\"txtu\">over </span><span class=\"txtu\">en </span><span class=\"txtu\">15. </span><span class=\"txtu\">000 </span><span class=\"txtu\">rsd. </span><span class=\"txtu\">aan </span><span class=\"txtu\">ducatons </span><span class=\"txtu\">en </span><span class=\"txtu\">payement; </span><span class=\"txtu\">naar </span><span class=\"txtu\">Banda </span><span class=\"txtu\">vertrok </span><span class=\"txtu\">8 </span></div>"
      ],
      "text/plain": [
       "<IPython.core.display.HTML object>"
      ]
     },
     "metadata": {},
     "output_type": "display_data"
    },
    {
     "name": "stdout",
     "output_type": "stream",
     "text": [
      "Overlap 95: Batavia - Banda "
     ]
    },
    {
     "data": {
      "text/html": [
       "<div class=\"\"><span class=\"tfsechead \"><span class=\"ltr\"><a target=\"_blank\" href=\"http://resources.huygens.knaw.nl/retroboeken/generalemissiven/#page=125&amp;source=9\" title=\"Show this document on Huygens\" sec=\"9 112:1\">9 112:1</a></span></span>  <span class=\"txtu \"><span class=\"structure\"><span class=\"nd\">volume</span> 9, <span class=\"nd\">letter</span> Durven, Hasselaar, Blom, Van der Schuer, Westpalm, Van Baerle, De Witte, Van Schooten, Van Heyningen, Van Bayen, Oostwalt, Valckenier, Van Cloon, Hendrix; Batavia, 17 oktober 1730</span></span></div>"
      ],
      "text/plain": [
       "<IPython.core.display.HTML object>"
      ]
     },
     "metadata": {},
     "output_type": "display_data"
    },
    {
     "data": {
      "text/html": [
       "<div class=\"\"><span class=\"tfsechead \"><span class=\"ltr\"><a target=\"_blank\" href=\"http://resources.huygens.knaw.nl/retroboeken/generalemissiven/#page=125&amp;source=9\" title=\"Show this document on Huygens\" sec=\"9 112:13\">9 112:13</a></span></span>  <span class=\"txtu\">Batavia </span></div>"
      ],
      "text/plain": [
       "<IPython.core.display.HTML object>"
      ]
     },
     "metadata": {},
     "output_type": "display_data"
    },
    {
     "data": {
      "text/html": [
       "<div class=\"\"><span class=\"tfsechead \"><span class=\"ltr\"><a target=\"_blank\" href=\"http://resources.huygens.knaw.nl/retroboeken/generalemissiven/#page=125&amp;source=9\" title=\"Show this document on Huygens\" sec=\"9 112:13\">9 112:13</a></span></span>  <span class=\"txtu\">de </span><span class=\"txtu\">Stadhuis </span><span class=\"txtu\">van </span><span class=\"txtu\">Delft </span><span class=\"txtu\">zijn </span><span class=\"txtu\">op </span><span class=\"txtu\">10 </span><span class=\"txtu\">mei </span><span class=\"txtu\">gearriveerd </span><span class=\"txtu\">te </span><span class=\"txtu\">Batavia </span><span class=\"txtu\">de </span><span class=\"txtu\">brieven </span><span class=\"txtu\">van </span><span class=\"txtu\">Heren </span><span class=\"txtu\">XVII </span><span class=\"txtu\">van </span></div>"
      ],
      "text/plain": [
       "<IPython.core.display.HTML object>"
      ]
     },
     "metadata": {},
     "output_type": "display_data"
    },
    {
     "data": {
      "text/html": [
       "<div class=\"\"><span class=\"tfsechead \"><span class=\"ltr\"><a target=\"_blank\" href=\"http://resources.huygens.knaw.nl/retroboeken/generalemissiven/#page=125&amp;source=9\" title=\"Show this document on Huygens\" sec=\"9 112:24\">9 112:24</a></span></span>  <span class=\"txtu\">Banda </span></div>"
      ],
      "text/plain": [
       "<IPython.core.display.HTML object>"
      ]
     },
     "metadata": {},
     "output_type": "display_data"
    },
    {
     "data": {
      "text/html": [
       "<div class=\"\"><span class=\"tfsechead \"><span class=\"ltr\"><a target=\"_blank\" href=\"http://resources.huygens.knaw.nl/retroboeken/generalemissiven/#page=125&amp;source=9\" title=\"Show this document on Huygens\" sec=\"9 112:24\">9 112:24</a></span></span>  <span class=\"txtu\">Banda </span></div>"
      ],
      "text/plain": [
       "<IPython.core.display.HTML object>"
      ]
     },
     "metadata": {},
     "output_type": "display_data"
    },
    {
     "name": "stdout",
     "output_type": "stream",
     "text": [
      "Overlap 96: Banda, - Batavia "
     ]
    },
    {
     "data": {
      "text/html": [
       "<div class=\"\"><span class=\"tfsechead \"><span class=\"ltr\"><a target=\"_blank\" href=\"http://resources.huygens.knaw.nl/retroboeken/generalemissiven/#page=340&amp;source=9\" title=\"Show this document on Huygens\" sec=\"9 327:1\">9 327:1</a></span></span>  <span class=\"txtu \"><span class=\"structure\"><span class=\"nd\">volume</span> 9, <span class=\"nd\">letter</span> Durven, Hasselaar, Blom, Van der Schuer, Westpalm, Van Baerle, De Witte, Van Schooten, Van Bayen, Oostwalt, Valckenier, Van Cloon, Pielat, Schaghen, Van der Maas; Batavia, 25 maart 1732</span></span></div>"
      ],
      "text/plain": [
       "<IPython.core.display.HTML object>"
      ]
     },
     "metadata": {},
     "output_type": "display_data"
    },
    {
     "data": {
      "text/html": [
       "<div class=\"\"><span class=\"tfsechead \"><span class=\"ltr\"><a target=\"_blank\" href=\"http://resources.huygens.knaw.nl/retroboeken/generalemissiven/#page=340&amp;source=9\" title=\"Show this document on Huygens\" sec=\"9 327:9\">9 327:9</a></span></span>  <span class=\"txtu\">Banda, </span></div>"
      ],
      "text/plain": [
       "<IPython.core.display.HTML object>"
      ]
     },
     "metadata": {},
     "output_type": "display_data"
    },
    {
     "data": {
      "text/html": [
       "<div class=\"\"><span class=\"tfsechead \"><span class=\"ltr\"><a target=\"_blank\" href=\"http://resources.huygens.knaw.nl/retroboeken/generalemissiven/#page=340&amp;source=9\" title=\"Show this document on Huygens\" sec=\"9 327:9\">9 327:9</a></span></span>  <span class=\"txtu\">Amboina, </span><span class=\"txtu\">Banda, </span><span class=\"txtu\">Ternate </span></div>"
      ],
      "text/plain": [
       "<IPython.core.display.HTML object>"
      ]
     },
     "metadata": {},
     "output_type": "display_data"
    },
    {
     "data": {
      "text/html": [
       "<div class=\"\"><span class=\"tfsechead \"><span class=\"ltr\"><a target=\"_blank\" href=\"http://resources.huygens.knaw.nl/retroboeken/generalemissiven/#page=340&amp;source=9\" title=\"Show this document on Huygens\" sec=\"9 327:24\">9 327:24</a></span></span>  <span class=\"txtu\">Batavia </span></div>"
      ],
      "text/plain": [
       "<IPython.core.display.HTML object>"
      ]
     },
     "metadata": {},
     "output_type": "display_data"
    },
    {
     "data": {
      "text/html": [
       "<div class=\"\"><span class=\"tfsechead \"><span class=\"ltr\"><a target=\"_blank\" href=\"http://resources.huygens.knaw.nl/retroboeken/generalemissiven/#page=340&amp;source=9\" title=\"Show this document on Huygens\" sec=\"9 327:24\">9 327:24</a></span></span>  <span class=\"txtu\">koninklijke </span><span class=\"txtu\">ambassadeurs </span><span class=\"txtu\">naar </span><span class=\"txtu\">Batavia </span><span class=\"txtu\">te </span><span class=\"txtu\">vervoeren. </span></div>"
      ],
      "text/plain": [
       "<IPython.core.display.HTML object>"
      ]
     },
     "metadata": {},
     "output_type": "display_data"
    },
    {
     "name": "stdout",
     "output_type": "stream",
     "text": [
      "Overlap 97: Banda , - Batavia "
     ]
    },
    {
     "data": {
      "text/html": [
       "<div class=\"\"><span class=\"tfsechead \"><span class=\"ltr\"><a target=\"_blank\" href=\"http://resources.huygens.knaw.nl/retroboeken/generalemissiven/#page=340&amp;source=9\" title=\"Show this document on Huygens\" sec=\"9 327:1\">9 327:1</a></span></span>  <span class=\"txtu \"><span class=\"structure\"><span class=\"nd\">volume</span> 9, <span class=\"nd\">letter</span> Durven, Hasselaar, Blom, Van der Schuer, Westpalm, Van Baerle, De Witte, Van Schooten, Van Bayen, Oostwalt, Valckenier, Van Cloon, Pielat, Schaghen, Van der Maas; Batavia, 25 maart 1732</span></span></div>"
      ],
      "text/plain": [
       "<IPython.core.display.HTML object>"
      ]
     },
     "metadata": {},
     "output_type": "display_data"
    },
    {
     "data": {
      "text/html": [
       "<div class=\"\"><span class=\"tfsechead \"><span class=\"ltr\"><a target=\"_blank\" href=\"http://resources.huygens.knaw.nl/retroboeken/generalemissiven/#page=340&amp;source=9\" title=\"Show this document on Huygens\" sec=\"9 327:10\">9 327:10</a></span></span>  <span class=\"txtu\">Banda , </span></div>"
      ],
      "text/plain": [
       "<IPython.core.display.HTML object>"
      ]
     },
     "metadata": {},
     "output_type": "display_data"
    },
    {
     "data": {
      "text/html": [
       "<div class=\"\"><span class=\"tfsechead \"><span class=\"ltr\"><a target=\"_blank\" href=\"http://resources.huygens.knaw.nl/retroboeken/generalemissiven/#page=340&amp;source=9\" title=\"Show this document on Huygens\" sec=\"9 327:10\">9 327:10</a></span></span>  <span class=\"txtu\">De </span><span class=\"txtu\">Hogenes </span><span class=\"txtu\">op </span><span class=\"txtu\">21 </span><span class=\"txtu\">december </span><span class=\"txtu\">met </span><span class=\"txtu\">200 </span><span class=\"txtu\">last </span><span class=\"txtu\">rijst </span><span class=\"txtu\">via </span><span class=\"txtu\">Makassar </span><span class=\"txtu\">naar </span><span class=\"txtu\">Banda , </span><span class=\"txtu\">op </span><span class=\"txtu\">2 </span><span class=\"txtu\">en </span><span class=\"txtu\">15 </span></div>"
      ],
      "text/plain": [
       "<IPython.core.display.HTML object>"
      ]
     },
     "metadata": {},
     "output_type": "display_data"
    },
    {
     "data": {
      "text/html": [
       "<div class=\"\"><span class=\"tfsechead \"><span class=\"ltr\"><a target=\"_blank\" href=\"http://resources.huygens.knaw.nl/retroboeken/generalemissiven/#page=340&amp;source=9\" title=\"Show this document on Huygens\" sec=\"9 327:24\">9 327:24</a></span></span>  <span class=\"txtu\">Batavia </span></div>"
      ],
      "text/plain": [
       "<IPython.core.display.HTML object>"
      ]
     },
     "metadata": {},
     "output_type": "display_data"
    },
    {
     "data": {
      "text/html": [
       "<div class=\"\"><span class=\"tfsechead \"><span class=\"ltr\"><a target=\"_blank\" href=\"http://resources.huygens.knaw.nl/retroboeken/generalemissiven/#page=340&amp;source=9\" title=\"Show this document on Huygens\" sec=\"9 327:24\">9 327:24</a></span></span>  <span class=\"txtu\">koninklijke </span><span class=\"txtu\">ambassadeurs </span><span class=\"txtu\">naar </span><span class=\"txtu\">Batavia </span><span class=\"txtu\">te </span><span class=\"txtu\">vervoeren. </span></div>"
      ],
      "text/plain": [
       "<IPython.core.display.HTML object>"
      ]
     },
     "metadata": {},
     "output_type": "display_data"
    },
    {
     "name": "stdout",
     "output_type": "stream",
     "text": [
      "Overlap 98: Banda. - Batavia "
     ]
    },
    {
     "data": {
      "text/html": [
       "<div class=\"\"><span class=\"tfsechead \"><span class=\"ltr\"><a target=\"_blank\" href=\"http://resources.huygens.knaw.nl/retroboeken/generalemissiven/#page=340&amp;source=9\" title=\"Show this document on Huygens\" sec=\"9 327:1\">9 327:1</a></span></span>  <span class=\"txtu \"><span class=\"structure\"><span class=\"nd\">volume</span> 9, <span class=\"nd\">letter</span> Durven, Hasselaar, Blom, Van der Schuer, Westpalm, Van Baerle, De Witte, Van Schooten, Van Bayen, Oostwalt, Valckenier, Van Cloon, Pielat, Schaghen, Van der Maas; Batavia, 25 maart 1732</span></span></div>"
      ],
      "text/plain": [
       "<IPython.core.display.HTML object>"
      ]
     },
     "metadata": {},
     "output_type": "display_data"
    },
    {
     "data": {
      "text/html": [
       "<div class=\"\"><span class=\"tfsechead \"><span class=\"ltr\"><a target=\"_blank\" href=\"http://resources.huygens.knaw.nl/retroboeken/generalemissiven/#page=340&amp;source=9\" title=\"Show this document on Huygens\" sec=\"9 327:13\">9 327:13</a></span></span>  <span class=\"txtu\">Banda. </span></div>"
      ],
      "text/plain": [
       "<IPython.core.display.HTML object>"
      ]
     },
     "metadata": {},
     "output_type": "display_data"
    },
    {
     "data": {
      "text/html": [
       "<div class=\"\"><span class=\"tfsechead \"><span class=\"ltr\"><a target=\"_blank\" href=\"http://resources.huygens.knaw.nl/retroboeken/generalemissiven/#page=340&amp;source=9\" title=\"Show this document on Huygens\" sec=\"9 327:13\">9 327:13</a></span></span>  <span class=\"txtu\">naar </span><span class=\"txtu\">Amboina </span><span class=\"txtu\">en </span><span class=\"txtu\">13 </span><span class=\"txtu\">naar </span><span class=\"txtu\">Banda. </span><span class=\"txtu\">Totale </span><span class=\"txtu\">waarde </span><span class=\"txtu\">lading </span><span class=\"txtu\">voor </span><span class=\"txtu\">Ternate </span><span class=\"txtu\">ƒ </span><span class=\"txtu\">169. </span><span class=\"txtu\">230. </span></div>"
      ],
      "text/plain": [
       "<IPython.core.display.HTML object>"
      ]
     },
     "metadata": {},
     "output_type": "display_data"
    },
    {
     "data": {
      "text/html": [
       "<div class=\"\"><span class=\"tfsechead \"><span class=\"ltr\"><a target=\"_blank\" href=\"http://resources.huygens.knaw.nl/retroboeken/generalemissiven/#page=340&amp;source=9\" title=\"Show this document on Huygens\" sec=\"9 327:24\">9 327:24</a></span></span>  <span class=\"txtu\">Batavia </span></div>"
      ],
      "text/plain": [
       "<IPython.core.display.HTML object>"
      ]
     },
     "metadata": {},
     "output_type": "display_data"
    },
    {
     "data": {
      "text/html": [
       "<div class=\"\"><span class=\"tfsechead \"><span class=\"ltr\"><a target=\"_blank\" href=\"http://resources.huygens.knaw.nl/retroboeken/generalemissiven/#page=340&amp;source=9\" title=\"Show this document on Huygens\" sec=\"9 327:24\">9 327:24</a></span></span>  <span class=\"txtu\">koninklijke </span><span class=\"txtu\">ambassadeurs </span><span class=\"txtu\">naar </span><span class=\"txtu\">Batavia </span><span class=\"txtu\">te </span><span class=\"txtu\">vervoeren. </span></div>"
      ],
      "text/plain": [
       "<IPython.core.display.HTML object>"
      ]
     },
     "metadata": {},
     "output_type": "display_data"
    },
    {
     "name": "stdout",
     "output_type": "stream",
     "text": [
      "Overlap 99: Batavia - Banda "
     ]
    },
    {
     "data": {
      "text/html": [
       "<div class=\"\"><span class=\"tfsechead \"><span class=\"ltr\"><a target=\"_blank\" href=\"http://resources.huygens.knaw.nl/retroboeken/generalemissiven/#page=538&amp;source=9\" title=\"Show this document on Huygens\" sec=\"9 525:1\">9 525:1</a></span></span>  <span class=\"txtu \"><span class=\"structure\"><span class=\"nd\">volume</span> 9, <span class=\"nd\">letter</span> Van Cloon, Van der Schuer, Westpalm, De Witte, Van Schooten, Van Bayen, Oostwalt, Valckenier, Schaghen, Patras, Thedens, Coyett, Van Imhoff, Van Arrewijne, Bernard; Batavia, 22 december 1733</span></span></div>"
      ],
      "text/plain": [
       "<IPython.core.display.HTML object>"
      ]
     },
     "metadata": {},
     "output_type": "display_data"
    },
    {
     "data": {
      "text/html": [
       "<div class=\"\"><span class=\"tfsechead \"><span class=\"ltr\"><a target=\"_blank\" href=\"http://resources.huygens.knaw.nl/retroboeken/generalemissiven/#page=538&amp;source=9\" title=\"Show this document on Huygens\" sec=\"9 525:17\">9 525:17</a></span></span>  <span class=\"txtu\">Batavia </span></div>"
      ],
      "text/plain": [
       "<IPython.core.display.HTML object>"
      ]
     },
     "metadata": {},
     "output_type": "display_data"
    },
    {
     "data": {
      "text/html": [
       "<div class=\"\"><span class=\"tfsechead \"><span class=\"ltr\"><a target=\"_blank\" href=\"http://resources.huygens.knaw.nl/retroboeken/generalemissiven/#page=538&amp;source=9\" title=\"Show this document on Huygens\" sec=\"9 525:17\">9 525:17</a></span></span>  <span class=\"txtu\">Rijksdorp </span><span class=\"txtu\">is </span><span class=\"txtu\">15 </span><span class=\"txtu\">december </span><span class=\"txtu\">naar </span><span class=\"txtu\">Amboina </span><span class=\"txtu\">vertrokken </span><span class=\"txtu\">met </span><span class=\"txtu\">150 </span><span class=\"txtu\">last </span><span class=\"txtu\">rijst </span><span class=\"txtu\">voor </span><span class=\"txtu\">Batavia </span><span class=\"txtu\">en </span><span class=\"txtu\">150 </span></div>"
      ],
      "text/plain": [
       "<IPython.core.display.HTML object>"
      ]
     },
     "metadata": {},
     "output_type": "display_data"
    },
    {
     "data": {
      "text/html": [
       "<div class=\"\"><span class=\"tfsechead \"><span class=\"ltr\"><a target=\"_blank\" href=\"http://resources.huygens.knaw.nl/retroboeken/generalemissiven/#page=538&amp;source=9\" title=\"Show this document on Huygens\" sec=\"9 525:20\">9 525:20</a></span></span>  <span class=\"txtu\">Banda </span></div>"
      ],
      "text/plain": [
       "<IPython.core.display.HTML object>"
      ]
     },
     "metadata": {},
     "output_type": "display_data"
    },
    {
     "data": {
      "text/html": [
       "<div class=\"\"><span class=\"tfsechead \"><span class=\"ltr\"><a target=\"_blank\" href=\"http://resources.huygens.knaw.nl/retroboeken/generalemissiven/#page=538&amp;source=9\" title=\"Show this document on Huygens\" sec=\"9 525:20\">9 525:20</a></span></span>  <span class=\"txtu\">Banda </span></div>"
      ],
      "text/plain": [
       "<IPython.core.display.HTML object>"
      ]
     },
     "metadata": {},
     "output_type": "display_data"
    },
    {
     "name": "stdout",
     "output_type": "stream",
     "text": [
      "Overlap 100: Batavia - Banda "
     ]
    },
    {
     "data": {
      "text/html": [
       "<div class=\"\"><span class=\"tfsechead \"><span class=\"ltr\"><a target=\"_blank\" href=\"http://resources.huygens.knaw.nl/retroboeken/generalemissiven/#page=538&amp;source=9\" title=\"Show this document on Huygens\" sec=\"9 525:1\">9 525:1</a></span></span>  <span class=\"txtu \"><span class=\"structure\"><span class=\"nd\">volume</span> 9, <span class=\"nd\">letter</span> Van Cloon, Van der Schuer, Westpalm, De Witte, Van Schooten, Van Bayen, Oostwalt, Valckenier, Schaghen, Patras, Thedens, Coyett, Van Imhoff, Van Arrewijne, Bernard; Batavia, 22 december 1733</span></span></div>"
      ],
      "text/plain": [
       "<IPython.core.display.HTML object>"
      ]
     },
     "metadata": {},
     "output_type": "display_data"
    },
    {
     "data": {
      "text/html": [
       "<div class=\"\"><span class=\"tfsechead \"><span class=\"ltr\"><a target=\"_blank\" href=\"http://resources.huygens.knaw.nl/retroboeken/generalemissiven/#page=538&amp;source=9\" title=\"Show this document on Huygens\" sec=\"9 525:17\">9 525:17</a></span></span>  <span class=\"txtu\">Batavia </span></div>"
      ],
      "text/plain": [
       "<IPython.core.display.HTML object>"
      ]
     },
     "metadata": {},
     "output_type": "display_data"
    },
    {
     "data": {
      "text/html": [
       "<div class=\"\"><span class=\"tfsechead \"><span class=\"ltr\"><a target=\"_blank\" href=\"http://resources.huygens.knaw.nl/retroboeken/generalemissiven/#page=538&amp;source=9\" title=\"Show this document on Huygens\" sec=\"9 525:17\">9 525:17</a></span></span>  <span class=\"txtu\">Rijksdorp </span><span class=\"txtu\">is </span><span class=\"txtu\">15 </span><span class=\"txtu\">december </span><span class=\"txtu\">naar </span><span class=\"txtu\">Amboina </span><span class=\"txtu\">vertrokken </span><span class=\"txtu\">met </span><span class=\"txtu\">150 </span><span class=\"txtu\">last </span><span class=\"txtu\">rijst </span><span class=\"txtu\">voor </span><span class=\"txtu\">Batavia </span><span class=\"txtu\">en </span><span class=\"txtu\">150 </span></div>"
      ],
      "text/plain": [
       "<IPython.core.display.HTML object>"
      ]
     },
     "metadata": {},
     "output_type": "display_data"
    },
    {
     "data": {
      "text/html": [
       "<div class=\"\"><span class=\"tfsechead \"><span class=\"ltr\"><a target=\"_blank\" href=\"http://resources.huygens.knaw.nl/retroboeken/generalemissiven/#page=538&amp;source=9\" title=\"Show this document on Huygens\" sec=\"9 525:21\">9 525:21</a></span></span>  <span class=\"txtu\">Banda </span></div>"
      ],
      "text/plain": [
       "<IPython.core.display.HTML object>"
      ]
     },
     "metadata": {},
     "output_type": "display_data"
    },
    {
     "data": {
      "text/html": [
       "<div class=\"\"><span class=\"tfsechead \"><span class=\"ltr\"><a target=\"_blank\" href=\"http://resources.huygens.knaw.nl/retroboeken/generalemissiven/#page=538&amp;source=9\" title=\"Show this document on Huygens\" sec=\"9 525:21\">9 525:21</a></span></span>  <span class=\"txtu\">Op </span><span class=\"txtu\">1 </span><span class=\"txtu\">7 </span><span class=\"txtu\">december </span><span class=\"txtu\">is </span><span class=\"txtu\">de </span><span class=\"txtu\">Langer </span><span class=\"txtu\">o </span><span class=\"txtu\">de </span><span class=\"txtu\">naar </span><span class=\"txtu\">Banda </span><span class=\"txtu\">vertrokken , </span><span class=\"txtu\">via </span><span class=\"txtu\">Te </span><span class=\"txtu\">gal </span><span class=\"txtu\">om </span><span class=\"txtu\">rijst </span><span class=\"txtu\">in </span><span class=\"txtu\">te </span><span class=\"txtu\">nemen. </span></div>"
      ],
      "text/plain": [
       "<IPython.core.display.HTML object>"
      ]
     },
     "metadata": {},
     "output_type": "display_data"
    },
    {
     "name": "stdout",
     "output_type": "stream",
     "text": [
      "Overlap 101: Batavia - Banda "
     ]
    },
    {
     "data": {
      "text/html": [
       "<div class=\"\"><span class=\"tfsechead \"><span class=\"ltr\"><a target=\"_blank\" href=\"http://resources.huygens.knaw.nl/retroboeken/generalemissiven/#page=601&amp;source=9\" title=\"Show this document on Huygens\" sec=\"9 588:1\">9 588:1</a></span></span>  <span class=\"txtu \"><span class=\"structure\"><span class=\"nd\">volume</span> 9, <span class=\"nd\">letter</span> Van Cloon, Blom, De Witte, Van Schooten, Van Bayen, Oostwalt, Valckenier, Pielat, Schaghen, Patras, Thedens, Coyett, Van Imhoff, De Haeze, Van Schinne, Van Suchtelen; Batavia, 6 oktober 1734</span></span></div>"
      ],
      "text/plain": [
       "<IPython.core.display.HTML object>"
      ]
     },
     "metadata": {},
     "output_type": "display_data"
    },
    {
     "data": {
      "text/html": [
       "<div class=\"\"><span class=\"tfsechead \"><span class=\"ltr\"><a target=\"_blank\" href=\"http://resources.huygens.knaw.nl/retroboeken/generalemissiven/#page=601&amp;source=9\" title=\"Show this document on Huygens\" sec=\"9 588:12\">9 588:12</a></span></span>  <span class=\"txtu\">Batavia </span></div>"
      ],
      "text/plain": [
       "<IPython.core.display.HTML object>"
      ]
     },
     "metadata": {},
     "output_type": "display_data"
    },
    {
     "data": {
      "text/html": [
       "<div class=\"\"><span class=\"tfsechead \"><span class=\"ltr\"><a target=\"_blank\" href=\"http://resources.huygens.knaw.nl/retroboeken/generalemissiven/#page=601&amp;source=9\" title=\"Show this document on Huygens\" sec=\"9 588:12\">9 588:12</a></span></span>  <span class=\"txtu\">Te </span><span class=\"txtu\">Batavia </span><span class=\"txtu\">is </span><span class=\"txtu\">de </span><span class=\"txtu\">bemanning </span><span class=\"txtu\">aangevuld </span><span class=\"txtu\">met </span><span class=\"txtu\">Moorse </span><span class=\"txtu\">matrozen. </span><span class=\"txtu\">Ook </span><span class=\"txtu\">de </span><span class=\"txtu\">retourvloot </span><span class=\"txtu\">is </span><span class=\"txtu\">hiervan </span></div>"
      ],
      "text/plain": [
       "<IPython.core.display.HTML object>"
      ]
     },
     "metadata": {},
     "output_type": "display_data"
    },
    {
     "data": {
      "text/html": [
       "<div class=\"\"><span class=\"tfsechead \"><span class=\"ltr\"><a target=\"_blank\" href=\"http://resources.huygens.knaw.nl/retroboeken/generalemissiven/#page=601&amp;source=9\" title=\"Show this document on Huygens\" sec=\"9 588:13\">9 588:13</a></span></span>  <span class=\"txtu\">Banda </span></div>"
      ],
      "text/plain": [
       "<IPython.core.display.HTML object>"
      ]
     },
     "metadata": {},
     "output_type": "display_data"
    },
    {
     "data": {
      "text/html": [
       "<div class=\"\"><span class=\"tfsechead \"><span class=\"ltr\"><a target=\"_blank\" href=\"http://resources.huygens.knaw.nl/retroboeken/generalemissiven/#page=601&amp;source=9\" title=\"Show this document on Huygens\" sec=\"9 588:13\">9 588:13</a></span></span>  <span class=\"txtu\">afhankelijk. </span><span class=\"txtu\">100 </span><span class=\"txtu\">soldaten </span><span class=\"txtu\">voor </span><span class=\"txtu\">Banda </span><span class=\"txtu\">heeft </span><span class=\"txtu\">men </span><span class=\"txtu\">niet. </span><span class=\"txtu\">Aangekomen </span><span class=\"txtu\">zijn </span><span class=\"txtu\">op </span><span class=\"txtu\">6 </span><span class=\"txtu\">juni </span><span class=\"txtu\">de </span><span class=\"txtu\">Haften, </span></div>"
      ],
      "text/plain": [
       "<IPython.core.display.HTML object>"
      ]
     },
     "metadata": {},
     "output_type": "display_data"
    },
    {
     "name": "stdout",
     "output_type": "stream",
     "text": [
      "Overlap 102: Batavia - Banda "
     ]
    },
    {
     "data": {
      "text/html": [
       "<div class=\"\"><span class=\"tfsechead \"><span class=\"ltr\"><a target=\"_blank\" href=\"http://resources.huygens.knaw.nl/retroboeken/generalemissiven/#page=123&amp;source=10\" title=\"Show this document on Huygens\" sec=\"10 112:1\">10 112:1</a></span></span>  <span class=\"txtu \"><span class=\"structure\"><span class=\"nd\">volume</span> 10, <span class=\"nd\">letter</span> Valckenier, Schaghen, Thedens, De Haeze, Van Schinne, Van Suchtelen, Pasques de Chavonnes, Duquesne, Wouters, Guillot; Batavia, 10 november 1738</span></span></div>"
      ],
      "text/plain": [
       "<IPython.core.display.HTML object>"
      ]
     },
     "metadata": {},
     "output_type": "display_data"
    },
    {
     "data": {
      "text/html": [
       "<div class=\"\"><span class=\"tfsechead \"><span class=\"ltr\"><a target=\"_blank\" href=\"http://resources.huygens.knaw.nl/retroboeken/generalemissiven/#page=123&amp;source=10\" title=\"Show this document on Huygens\" sec=\"10 112:20\">10 112:20</a></span></span>  <span class=\"txtu\">Batavia </span></div>"
      ],
      "text/plain": [
       "<IPython.core.display.HTML object>"
      ]
     },
     "metadata": {},
     "output_type": "display_data"
    },
    {
     "data": {
      "text/html": [
       "<div class=\"\"><span class=\"tfsechead \"><span class=\"ltr\"><a target=\"_blank\" href=\"http://resources.huygens.knaw.nl/retroboeken/generalemissiven/#page=123&amp;source=10\" title=\"Show this document on Huygens\" sec=\"10 112:20\">10 112:20</a></span></span>  <span class=\"txtu\">opvolger </span><span class=\"txtu\">Jacob </span><span class=\"txtu\">de </span><span class=\"txtu\">Jong. </span><span class=\"txtu\">Bake </span><span class=\"txtu\">is </span><span class=\"txtu\">op </span><span class=\"txtu\">29 </span><span class=\"txtu\">juni </span><span class=\"txtu\">met </span><span class=\"txtu\">de </span><span class=\"txtu\">Westerdijkshorn </span><span class=\"txtu\">te </span><span class=\"txtu\">Batavia </span><span class=\"txtu\">aangekomen. </span></div>"
      ],
      "text/plain": [
       "<IPython.core.display.HTML object>"
      ]
     },
     "metadata": {},
     "output_type": "display_data"
    },
    {
     "data": {
      "text/html": [
       "<div class=\"\"><span class=\"tfsechead \"><span class=\"ltr\"><a target=\"_blank\" href=\"http://resources.huygens.knaw.nl/retroboeken/generalemissiven/#page=123&amp;source=10\" title=\"Show this document on Huygens\" sec=\"10 112:25\">10 112:25</a></span></span>  <span class=\"txtu\">Banda </span></div>"
      ],
      "text/plain": [
       "<IPython.core.display.HTML object>"
      ]
     },
     "metadata": {},
     "output_type": "display_data"
    },
    {
     "data": {
      "text/html": [
       "<div class=\"\"><span class=\"tfsechead \"><span class=\"ltr\"><a target=\"_blank\" href=\"http://resources.huygens.knaw.nl/retroboeken/generalemissiven/#page=123&amp;source=10\" title=\"Show this document on Huygens\" sec=\"10 112:25\">10 112:25</a></span></span>  <span class=\"txtu\">Banda </span></div>"
      ],
      "text/plain": [
       "<IPython.core.display.HTML object>"
      ]
     },
     "metadata": {},
     "output_type": "display_data"
    },
    {
     "name": "stdout",
     "output_type": "stream",
     "text": [
      "Overlap 103: Batavia - Banda "
     ]
    },
    {
     "data": {
      "text/html": [
       "<div class=\"\"><span class=\"tfsechead \"><span class=\"ltr\"><a target=\"_blank\" href=\"http://resources.huygens.knaw.nl/retroboeken/generalemissiven/#page=12&amp;source=11\" title=\"Show this document on Huygens\" sec=\"11 1:1\">11 1:1</a></span></span>  <span class=\"txtu \"><span class=\"structure\"><span class=\"nd\">volume</span> 11, <span class=\"nd\">letter</span> Van Imhoff, Pasques de Chavonnes, Crul, Nolthenius, Van Aerden, Lakeman, Cluysenaar; Batavia, 3 juli 1743</span></span></div>"
      ],
      "text/plain": [
       "<IPython.core.display.HTML object>"
      ]
     },
     "metadata": {},
     "output_type": "display_data"
    },
    {
     "data": {
      "text/html": [
       "<div class=\"\"><span class=\"tfsechead \"><span class=\"ltr\"><a target=\"_blank\" href=\"http://resources.huygens.knaw.nl/retroboeken/generalemissiven/#page=12&amp;source=11\" title=\"Show this document on Huygens\" sec=\"11 1:8\">11 1:8</a></span></span>  <span class=\"txtu\">Batavia </span></div>"
      ],
      "text/plain": [
       "<IPython.core.display.HTML object>"
      ]
     },
     "metadata": {},
     "output_type": "display_data"
    },
    {
     "data": {
      "text/html": [
       "<div class=\"\"><span class=\"tfsechead \"><span class=\"ltr\"><a target=\"_blank\" href=\"http://resources.huygens.knaw.nl/retroboeken/generalemissiven/#page=12&amp;source=11\" title=\"Show this document on Huygens\" sec=\"11 1:8\">11 1:8</a></span></span>  <span class=\"txtu\">in </span><span class=\"txtu\">Batavia </span><span class=\"txtu\">aangekomen. </span><span class=\"txtu\">Hij </span><span class=\"txtu\">heeft </span><span class=\"txtu\">onmiddellijk </span><span class=\"txtu\">zijn </span><span class=\"txtu\">ambt </span><span class=\"txtu\">aanvaard </span><span class=\"txtu\">en </span><span class=\"txtu\">dit </span><span class=\"txtu\">bericht </span><span class=\"txtu\">per </span><span class=\"txtu\">expres </span></div>"
      ],
      "text/plain": [
       "<IPython.core.display.HTML object>"
      ]
     },
     "metadata": {},
     "output_type": "display_data"
    },
    {
     "data": {
      "text/html": [
       "<div class=\"\"><span class=\"tfsechead \"><span class=\"ltr\"><a target=\"_blank\" href=\"http://resources.huygens.knaw.nl/retroboeken/generalemissiven/#page=12&amp;source=11\" title=\"Show this document on Huygens\" sec=\"11 1:14\">11 1:14</a></span></span>  <span class=\"txtu\">Banda </span></div>"
      ],
      "text/plain": [
       "<IPython.core.display.HTML object>"
      ]
     },
     "metadata": {},
     "output_type": "display_data"
    },
    {
     "data": {
      "text/html": [
       "<div class=\"\"><span class=\"tfsechead \"><span class=\"ltr\"><a target=\"_blank\" href=\"http://resources.huygens.knaw.nl/retroboeken/generalemissiven/#page=12&amp;source=11\" title=\"Show this document on Huygens\" sec=\"11 1:14\">11 1:14</a></span></span>  <span class=\"txtu\">Banda </span></div>"
      ],
      "text/plain": [
       "<IPython.core.display.HTML object>"
      ]
     },
     "metadata": {},
     "output_type": "display_data"
    },
    {
     "name": "stdout",
     "output_type": "stream",
     "text": [
      "Overlap 104: Batavia - Banda "
     ]
    },
    {
     "data": {
      "text/html": [
       "<div class=\"\"><span class=\"tfsechead \"><span class=\"ltr\"><a target=\"_blank\" href=\"http://resources.huygens.knaw.nl/retroboeken/generalemissiven/#page=12&amp;source=11\" title=\"Show this document on Huygens\" sec=\"11 1:1\">11 1:1</a></span></span>  <span class=\"txtu \"><span class=\"structure\"><span class=\"nd\">volume</span> 11, <span class=\"nd\">letter</span> Van Imhoff, Pasques de Chavonnes, Crul, Nolthenius, Van Aerden, Lakeman, Cluysenaar; Batavia, 3 juli 1743</span></span></div>"
      ],
      "text/plain": [
       "<IPython.core.display.HTML object>"
      ]
     },
     "metadata": {},
     "output_type": "display_data"
    },
    {
     "data": {
      "text/html": [
       "<div class=\"\"><span class=\"tfsechead \"><span class=\"ltr\"><a target=\"_blank\" href=\"http://resources.huygens.knaw.nl/retroboeken/generalemissiven/#page=12&amp;source=11\" title=\"Show this document on Huygens\" sec=\"11 1:8\">11 1:8</a></span></span>  <span class=\"txtu\">Batavia </span></div>"
      ],
      "text/plain": [
       "<IPython.core.display.HTML object>"
      ]
     },
     "metadata": {},
     "output_type": "display_data"
    },
    {
     "data": {
      "text/html": [
       "<div class=\"\"><span class=\"tfsechead \"><span class=\"ltr\"><a target=\"_blank\" href=\"http://resources.huygens.knaw.nl/retroboeken/generalemissiven/#page=12&amp;source=11\" title=\"Show this document on Huygens\" sec=\"11 1:8\">11 1:8</a></span></span>  <span class=\"txtu\">in </span><span class=\"txtu\">Batavia </span><span class=\"txtu\">aangekomen. </span><span class=\"txtu\">Hij </span><span class=\"txtu\">heeft </span><span class=\"txtu\">onmiddellijk </span><span class=\"txtu\">zijn </span><span class=\"txtu\">ambt </span><span class=\"txtu\">aanvaard </span><span class=\"txtu\">en </span><span class=\"txtu\">dit </span><span class=\"txtu\">bericht </span><span class=\"txtu\">per </span><span class=\"txtu\">expres </span></div>"
      ],
      "text/plain": [
       "<IPython.core.display.HTML object>"
      ]
     },
     "metadata": {},
     "output_type": "display_data"
    },
    {
     "data": {
      "text/html": [
       "<div class=\"\"><span class=\"tfsechead \"><span class=\"ltr\"><a target=\"_blank\" href=\"http://resources.huygens.knaw.nl/retroboeken/generalemissiven/#page=12&amp;source=11\" title=\"Show this document on Huygens\" sec=\"11 1:15\">11 1:15</a></span></span>  <span class=\"txtu\">Banda </span></div>"
      ],
      "text/plain": [
       "<IPython.core.display.HTML object>"
      ]
     },
     "metadata": {},
     "output_type": "display_data"
    },
    {
     "data": {
      "text/html": [
       "<div class=\"\"><span class=\"tfsechead \"><span class=\"ltr\"><a target=\"_blank\" href=\"http://resources.huygens.knaw.nl/retroboeken/generalemissiven/#page=12&amp;source=11\" title=\"Show this document on Huygens\" sec=\"11 1:15\">11 1:15</a></span></span>  <span class=\"txtu\">De </span><span class=\"txtu\">Delfland </span><span class=\"txtu\">is </span><span class=\"txtu\">waarschijnlijk </span><span class=\"txtu\">vergaan. </span><span class=\"txtu\">Het </span><span class=\"txtu\">schip </span><span class=\"txtu\">was </span><span class=\"txtu\">op </span><span class=\"txtu\">weg </span><span class=\"txtu\">van </span><span class=\"txtu\">Batavia </span><span class=\"txtu\">naar </span><span class=\"txtu\">Banda </span></div>"
      ],
      "text/plain": [
       "<IPython.core.display.HTML object>"
      ]
     },
     "metadata": {},
     "output_type": "display_data"
    },
    {
     "name": "stdout",
     "output_type": "stream",
     "text": [
      "Overlap 105: Batavia - Banda "
     ]
    },
    {
     "data": {
      "text/html": [
       "<div class=\"\"><span class=\"tfsechead \"><span class=\"ltr\"><a target=\"_blank\" href=\"http://resources.huygens.knaw.nl/retroboeken/generalemissiven/#page=12&amp;source=11\" title=\"Show this document on Huygens\" sec=\"11 1:1\">11 1:1</a></span></span>  <span class=\"txtu \"><span class=\"structure\"><span class=\"nd\">volume</span> 11, <span class=\"nd\">letter</span> Van Imhoff, Pasques de Chavonnes, Crul, Nolthenius, Van Aerden, Lakeman, Cluysenaar; Batavia, 3 juli 1743</span></span></div>"
      ],
      "text/plain": [
       "<IPython.core.display.HTML object>"
      ]
     },
     "metadata": {},
     "output_type": "display_data"
    },
    {
     "data": {
      "text/html": [
       "<div class=\"\"><span class=\"tfsechead \"><span class=\"ltr\"><a target=\"_blank\" href=\"http://resources.huygens.knaw.nl/retroboeken/generalemissiven/#page=12&amp;source=11\" title=\"Show this document on Huygens\" sec=\"11 1:8\">11 1:8</a></span></span>  <span class=\"txtu\">Batavia </span></div>"
      ],
      "text/plain": [
       "<IPython.core.display.HTML object>"
      ]
     },
     "metadata": {},
     "output_type": "display_data"
    },
    {
     "data": {
      "text/html": [
       "<div class=\"\"><span class=\"tfsechead \"><span class=\"ltr\"><a target=\"_blank\" href=\"http://resources.huygens.knaw.nl/retroboeken/generalemissiven/#page=12&amp;source=11\" title=\"Show this document on Huygens\" sec=\"11 1:8\">11 1:8</a></span></span>  <span class=\"txtu\">in </span><span class=\"txtu\">Batavia </span><span class=\"txtu\">aangekomen. </span><span class=\"txtu\">Hij </span><span class=\"txtu\">heeft </span><span class=\"txtu\">onmiddellijk </span><span class=\"txtu\">zijn </span><span class=\"txtu\">ambt </span><span class=\"txtu\">aanvaard </span><span class=\"txtu\">en </span><span class=\"txtu\">dit </span><span class=\"txtu\">bericht </span><span class=\"txtu\">per </span><span class=\"txtu\">expres </span></div>"
      ],
      "text/plain": [
       "<IPython.core.display.HTML object>"
      ]
     },
     "metadata": {},
     "output_type": "display_data"
    },
    {
     "data": {
      "text/html": [
       "<div class=\"\"><span class=\"tfsechead \"><span class=\"ltr\"><a target=\"_blank\" href=\"http://resources.huygens.knaw.nl/retroboeken/generalemissiven/#page=12&amp;source=11\" title=\"Show this document on Huygens\" sec=\"11 1:21\">11 1:21</a></span></span>  <span class=\"txtu\">Banda </span></div>"
      ],
      "text/plain": [
       "<IPython.core.display.HTML object>"
      ]
     },
     "metadata": {},
     "output_type": "display_data"
    },
    {
     "data": {
      "text/html": [
       "<div class=\"\"><span class=\"tfsechead \"><span class=\"ltr\"><a target=\"_blank\" href=\"http://resources.huygens.knaw.nl/retroboeken/generalemissiven/#page=12&amp;source=11\" title=\"Show this document on Huygens\" sec=\"11 1:21\">11 1:21</a></span></span>  <span class=\"txtu\">Er </span><span class=\"txtu\">zal </span><span class=\"txtu\">een </span><span class=\"txtu\">onderzoek </span><span class=\"txtu\">ingesteld </span><span class=\"txtu\">worden. </span><span class=\"txtu\">De </span><span class=\"txtu\">oogst </span><span class=\"txtu\">op </span><span class=\"txtu\">Banda </span><span class=\"txtu\">is </span><span class=\"txtu\">dit </span><span class=\"txtu\">jaar </span><span class=\"txtu\">zo </span><span class=\"txtu\">gering </span><span class=\"txtu\">dat </span><span class=\"txtu\">de </span></div>"
      ],
      "text/plain": [
       "<IPython.core.display.HTML object>"
      ]
     },
     "metadata": {},
     "output_type": "display_data"
    },
    {
     "name": "stdout",
     "output_type": "stream",
     "text": [
      "Overlap 106: Batavia - Banda "
     ]
    },
    {
     "data": {
      "text/html": [
       "<div class=\"\"><span class=\"tfsechead \"><span class=\"ltr\"><a target=\"_blank\" href=\"http://resources.huygens.knaw.nl/retroboeken/generalemissiven/#page=12&amp;source=11\" title=\"Show this document on Huygens\" sec=\"11 1:1\">11 1:1</a></span></span>  <span class=\"txtu \"><span class=\"structure\"><span class=\"nd\">volume</span> 11, <span class=\"nd\">letter</span> Van Imhoff, Pasques de Chavonnes, Crul, Nolthenius, Van Aerden, Lakeman, Cluysenaar; Batavia, 3 juli 1743</span></span></div>"
      ],
      "text/plain": [
       "<IPython.core.display.HTML object>"
      ]
     },
     "metadata": {},
     "output_type": "display_data"
    },
    {
     "data": {
      "text/html": [
       "<div class=\"\"><span class=\"tfsechead \"><span class=\"ltr\"><a target=\"_blank\" href=\"http://resources.huygens.knaw.nl/retroboeken/generalemissiven/#page=12&amp;source=11\" title=\"Show this document on Huygens\" sec=\"11 1:13\">11 1:13</a></span></span>  <span class=\"txtu\">Batavia </span></div>"
      ],
      "text/plain": [
       "<IPython.core.display.HTML object>"
      ]
     },
     "metadata": {},
     "output_type": "display_data"
    },
    {
     "data": {
      "text/html": [
       "<div class=\"\"><span class=\"tfsechead \"><span class=\"ltr\"><a target=\"_blank\" href=\"http://resources.huygens.knaw.nl/retroboeken/generalemissiven/#page=12&amp;source=11\" title=\"Show this document on Huygens\" sec=\"11 1:13\">11 1:13</a></span></span>  <span class=\"txtu\">De </span><span class=\"txtu\">Duinenburg </span><span class=\"txtu\">en </span><span class=\"txtu\">Huis </span><span class=\"txtu\">den </span><span class=\"txtu\">Eult </span><span class=\"txtu\">worden </span><span class=\"txtu\">spoedig </span><span class=\"txtu\">in </span><span class=\"txtu\">Batavia </span><span class=\"txtu\">verwacht. </span></div>"
      ],
      "text/plain": [
       "<IPython.core.display.HTML object>"
      ]
     },
     "metadata": {},
     "output_type": "display_data"
    },
    {
     "data": {
      "text/html": [
       "<div class=\"\"><span class=\"tfsechead \"><span class=\"ltr\"><a target=\"_blank\" href=\"http://resources.huygens.knaw.nl/retroboeken/generalemissiven/#page=12&amp;source=11\" title=\"Show this document on Huygens\" sec=\"11 1:14\">11 1:14</a></span></span>  <span class=\"txtu\">Banda </span></div>"
      ],
      "text/plain": [
       "<IPython.core.display.HTML object>"
      ]
     },
     "metadata": {},
     "output_type": "display_data"
    },
    {
     "data": {
      "text/html": [
       "<div class=\"\"><span class=\"tfsechead \"><span class=\"ltr\"><a target=\"_blank\" href=\"http://resources.huygens.knaw.nl/retroboeken/generalemissiven/#page=12&amp;source=11\" title=\"Show this document on Huygens\" sec=\"11 1:14\">11 1:14</a></span></span>  <span class=\"txtu\">Banda </span></div>"
      ],
      "text/plain": [
       "<IPython.core.display.HTML object>"
      ]
     },
     "metadata": {},
     "output_type": "display_data"
    },
    {
     "name": "stdout",
     "output_type": "stream",
     "text": [
      "Overlap 107: Batavia - Banda "
     ]
    },
    {
     "data": {
      "text/html": [
       "<div class=\"\"><span class=\"tfsechead \"><span class=\"ltr\"><a target=\"_blank\" href=\"http://resources.huygens.knaw.nl/retroboeken/generalemissiven/#page=12&amp;source=11\" title=\"Show this document on Huygens\" sec=\"11 1:1\">11 1:1</a></span></span>  <span class=\"txtu \"><span class=\"structure\"><span class=\"nd\">volume</span> 11, <span class=\"nd\">letter</span> Van Imhoff, Pasques de Chavonnes, Crul, Nolthenius, Van Aerden, Lakeman, Cluysenaar; Batavia, 3 juli 1743</span></span></div>"
      ],
      "text/plain": [
       "<IPython.core.display.HTML object>"
      ]
     },
     "metadata": {},
     "output_type": "display_data"
    },
    {
     "data": {
      "text/html": [
       "<div class=\"\"><span class=\"tfsechead \"><span class=\"ltr\"><a target=\"_blank\" href=\"http://resources.huygens.knaw.nl/retroboeken/generalemissiven/#page=12&amp;source=11\" title=\"Show this document on Huygens\" sec=\"11 1:13\">11 1:13</a></span></span>  <span class=\"txtu\">Batavia </span></div>"
      ],
      "text/plain": [
       "<IPython.core.display.HTML object>"
      ]
     },
     "metadata": {},
     "output_type": "display_data"
    },
    {
     "data": {
      "text/html": [
       "<div class=\"\"><span class=\"tfsechead \"><span class=\"ltr\"><a target=\"_blank\" href=\"http://resources.huygens.knaw.nl/retroboeken/generalemissiven/#page=12&amp;source=11\" title=\"Show this document on Huygens\" sec=\"11 1:13\">11 1:13</a></span></span>  <span class=\"txtu\">De </span><span class=\"txtu\">Duinenburg </span><span class=\"txtu\">en </span><span class=\"txtu\">Huis </span><span class=\"txtu\">den </span><span class=\"txtu\">Eult </span><span class=\"txtu\">worden </span><span class=\"txtu\">spoedig </span><span class=\"txtu\">in </span><span class=\"txtu\">Batavia </span><span class=\"txtu\">verwacht. </span></div>"
      ],
      "text/plain": [
       "<IPython.core.display.HTML object>"
      ]
     },
     "metadata": {},
     "output_type": "display_data"
    },
    {
     "data": {
      "text/html": [
       "<div class=\"\"><span class=\"tfsechead \"><span class=\"ltr\"><a target=\"_blank\" href=\"http://resources.huygens.knaw.nl/retroboeken/generalemissiven/#page=12&amp;source=11\" title=\"Show this document on Huygens\" sec=\"11 1:15\">11 1:15</a></span></span>  <span class=\"txtu\">Banda </span></div>"
      ],
      "text/plain": [
       "<IPython.core.display.HTML object>"
      ]
     },
     "metadata": {},
     "output_type": "display_data"
    },
    {
     "data": {
      "text/html": [
       "<div class=\"\"><span class=\"tfsechead \"><span class=\"ltr\"><a target=\"_blank\" href=\"http://resources.huygens.knaw.nl/retroboeken/generalemissiven/#page=12&amp;source=11\" title=\"Show this document on Huygens\" sec=\"11 1:15\">11 1:15</a></span></span>  <span class=\"txtu\">De </span><span class=\"txtu\">Delfland </span><span class=\"txtu\">is </span><span class=\"txtu\">waarschijnlijk </span><span class=\"txtu\">vergaan. </span><span class=\"txtu\">Het </span><span class=\"txtu\">schip </span><span class=\"txtu\">was </span><span class=\"txtu\">op </span><span class=\"txtu\">weg </span><span class=\"txtu\">van </span><span class=\"txtu\">Batavia </span><span class=\"txtu\">naar </span><span class=\"txtu\">Banda </span></div>"
      ],
      "text/plain": [
       "<IPython.core.display.HTML object>"
      ]
     },
     "metadata": {},
     "output_type": "display_data"
    },
    {
     "name": "stdout",
     "output_type": "stream",
     "text": [
      "Overlap 108: Batavia - Banda "
     ]
    },
    {
     "data": {
      "text/html": [
       "<div class=\"\"><span class=\"tfsechead \"><span class=\"ltr\"><a target=\"_blank\" href=\"http://resources.huygens.knaw.nl/retroboeken/generalemissiven/#page=12&amp;source=11\" title=\"Show this document on Huygens\" sec=\"11 1:1\">11 1:1</a></span></span>  <span class=\"txtu \"><span class=\"structure\"><span class=\"nd\">volume</span> 11, <span class=\"nd\">letter</span> Van Imhoff, Pasques de Chavonnes, Crul, Nolthenius, Van Aerden, Lakeman, Cluysenaar; Batavia, 3 juli 1743</span></span></div>"
      ],
      "text/plain": [
       "<IPython.core.display.HTML object>"
      ]
     },
     "metadata": {},
     "output_type": "display_data"
    },
    {
     "data": {
      "text/html": [
       "<div class=\"\"><span class=\"tfsechead \"><span class=\"ltr\"><a target=\"_blank\" href=\"http://resources.huygens.knaw.nl/retroboeken/generalemissiven/#page=12&amp;source=11\" title=\"Show this document on Huygens\" sec=\"11 1:13\">11 1:13</a></span></span>  <span class=\"txtu\">Batavia </span></div>"
      ],
      "text/plain": [
       "<IPython.core.display.HTML object>"
      ]
     },
     "metadata": {},
     "output_type": "display_data"
    },
    {
     "data": {
      "text/html": [
       "<div class=\"\"><span class=\"tfsechead \"><span class=\"ltr\"><a target=\"_blank\" href=\"http://resources.huygens.knaw.nl/retroboeken/generalemissiven/#page=12&amp;source=11\" title=\"Show this document on Huygens\" sec=\"11 1:13\">11 1:13</a></span></span>  <span class=\"txtu\">De </span><span class=\"txtu\">Duinenburg </span><span class=\"txtu\">en </span><span class=\"txtu\">Huis </span><span class=\"txtu\">den </span><span class=\"txtu\">Eult </span><span class=\"txtu\">worden </span><span class=\"txtu\">spoedig </span><span class=\"txtu\">in </span><span class=\"txtu\">Batavia </span><span class=\"txtu\">verwacht. </span></div>"
      ],
      "text/plain": [
       "<IPython.core.display.HTML object>"
      ]
     },
     "metadata": {},
     "output_type": "display_data"
    },
    {
     "data": {
      "text/html": [
       "<div class=\"\"><span class=\"tfsechead \"><span class=\"ltr\"><a target=\"_blank\" href=\"http://resources.huygens.knaw.nl/retroboeken/generalemissiven/#page=12&amp;source=11\" title=\"Show this document on Huygens\" sec=\"11 1:21\">11 1:21</a></span></span>  <span class=\"txtu\">Banda </span></div>"
      ],
      "text/plain": [
       "<IPython.core.display.HTML object>"
      ]
     },
     "metadata": {},
     "output_type": "display_data"
    },
    {
     "data": {
      "text/html": [
       "<div class=\"\"><span class=\"tfsechead \"><span class=\"ltr\"><a target=\"_blank\" href=\"http://resources.huygens.knaw.nl/retroboeken/generalemissiven/#page=12&amp;source=11\" title=\"Show this document on Huygens\" sec=\"11 1:21\">11 1:21</a></span></span>  <span class=\"txtu\">Er </span><span class=\"txtu\">zal </span><span class=\"txtu\">een </span><span class=\"txtu\">onderzoek </span><span class=\"txtu\">ingesteld </span><span class=\"txtu\">worden. </span><span class=\"txtu\">De </span><span class=\"txtu\">oogst </span><span class=\"txtu\">op </span><span class=\"txtu\">Banda </span><span class=\"txtu\">is </span><span class=\"txtu\">dit </span><span class=\"txtu\">jaar </span><span class=\"txtu\">zo </span><span class=\"txtu\">gering </span><span class=\"txtu\">dat </span><span class=\"txtu\">de </span></div>"
      ],
      "text/plain": [
       "<IPython.core.display.HTML object>"
      ]
     },
     "metadata": {},
     "output_type": "display_data"
    },
    {
     "name": "stdout",
     "output_type": "stream",
     "text": [
      "Overlap 109: Banda - Batavia "
     ]
    },
    {
     "data": {
      "text/html": [
       "<div class=\"\"><span class=\"tfsechead \"><span class=\"ltr\"><a target=\"_blank\" href=\"http://resources.huygens.knaw.nl/retroboeken/generalemissiven/#page=12&amp;source=11\" title=\"Show this document on Huygens\" sec=\"11 1:1\">11 1:1</a></span></span>  <span class=\"txtu \"><span class=\"structure\"><span class=\"nd\">volume</span> 11, <span class=\"nd\">letter</span> Van Imhoff, Pasques de Chavonnes, Crul, Nolthenius, Van Aerden, Lakeman, Cluysenaar; Batavia, 3 juli 1743</span></span></div>"
      ],
      "text/plain": [
       "<IPython.core.display.HTML object>"
      ]
     },
     "metadata": {},
     "output_type": "display_data"
    },
    {
     "data": {
      "text/html": [
       "<div class=\"\"><span class=\"tfsechead \"><span class=\"ltr\"><a target=\"_blank\" href=\"http://resources.huygens.knaw.nl/retroboeken/generalemissiven/#page=12&amp;source=11\" title=\"Show this document on Huygens\" sec=\"11 1:14\">11 1:14</a></span></span>  <span class=\"txtu\">Banda </span></div>"
      ],
      "text/plain": [
       "<IPython.core.display.HTML object>"
      ]
     },
     "metadata": {},
     "output_type": "display_data"
    },
    {
     "data": {
      "text/html": [
       "<div class=\"\"><span class=\"tfsechead \"><span class=\"ltr\"><a target=\"_blank\" href=\"http://resources.huygens.knaw.nl/retroboeken/generalemissiven/#page=12&amp;source=11\" title=\"Show this document on Huygens\" sec=\"11 1:14\">11 1:14</a></span></span>  <span class=\"txtu\">Banda </span></div>"
      ],
      "text/plain": [
       "<IPython.core.display.HTML object>"
      ]
     },
     "metadata": {},
     "output_type": "display_data"
    },
    {
     "data": {
      "text/html": [
       "<div class=\"\"><span class=\"tfsechead \"><span class=\"ltr\"><a target=\"_blank\" href=\"http://resources.huygens.knaw.nl/retroboeken/generalemissiven/#page=12&amp;source=11\" title=\"Show this document on Huygens\" sec=\"11 1:15\">11 1:15</a></span></span>  <span class=\"txtu\">Batavia </span></div>"
      ],
      "text/plain": [
       "<IPython.core.display.HTML object>"
      ]
     },
     "metadata": {},
     "output_type": "display_data"
    },
    {
     "data": {
      "text/html": [
       "<div class=\"\"><span class=\"tfsechead \"><span class=\"ltr\"><a target=\"_blank\" href=\"http://resources.huygens.knaw.nl/retroboeken/generalemissiven/#page=12&amp;source=11\" title=\"Show this document on Huygens\" sec=\"11 1:15\">11 1:15</a></span></span>  <span class=\"txtu\">De </span><span class=\"txtu\">Delfland </span><span class=\"txtu\">is </span><span class=\"txtu\">waarschijnlijk </span><span class=\"txtu\">vergaan. </span><span class=\"txtu\">Het </span><span class=\"txtu\">schip </span><span class=\"txtu\">was </span><span class=\"txtu\">op </span><span class=\"txtu\">weg </span><span class=\"txtu\">van </span><span class=\"txtu\">Batavia </span><span class=\"txtu\">naar </span><span class=\"txtu\">Banda </span></div>"
      ],
      "text/plain": [
       "<IPython.core.display.HTML object>"
      ]
     },
     "metadata": {},
     "output_type": "display_data"
    },
    {
     "name": "stdout",
     "output_type": "stream",
     "text": [
      "Overlap 110: Batavia - Banda "
     ]
    },
    {
     "data": {
      "text/html": [
       "<div class=\"\"><span class=\"tfsechead \"><span class=\"ltr\"><a target=\"_blank\" href=\"http://resources.huygens.knaw.nl/retroboeken/generalemissiven/#page=12&amp;source=11\" title=\"Show this document on Huygens\" sec=\"11 1:1\">11 1:1</a></span></span>  <span class=\"txtu \"><span class=\"structure\"><span class=\"nd\">volume</span> 11, <span class=\"nd\">letter</span> Van Imhoff, Pasques de Chavonnes, Crul, Nolthenius, Van Aerden, Lakeman, Cluysenaar; Batavia, 3 juli 1743</span></span></div>"
      ],
      "text/plain": [
       "<IPython.core.display.HTML object>"
      ]
     },
     "metadata": {},
     "output_type": "display_data"
    },
    {
     "data": {
      "text/html": [
       "<div class=\"\"><span class=\"tfsechead \"><span class=\"ltr\"><a target=\"_blank\" href=\"http://resources.huygens.knaw.nl/retroboeken/generalemissiven/#page=12&amp;source=11\" title=\"Show this document on Huygens\" sec=\"11 1:15\">11 1:15</a></span></span>  <span class=\"txtu\">Batavia </span></div>"
      ],
      "text/plain": [
       "<IPython.core.display.HTML object>"
      ]
     },
     "metadata": {},
     "output_type": "display_data"
    },
    {
     "data": {
      "text/html": [
       "<div class=\"\"><span class=\"tfsechead \"><span class=\"ltr\"><a target=\"_blank\" href=\"http://resources.huygens.knaw.nl/retroboeken/generalemissiven/#page=12&amp;source=11\" title=\"Show this document on Huygens\" sec=\"11 1:15\">11 1:15</a></span></span>  <span class=\"txtu\">De </span><span class=\"txtu\">Delfland </span><span class=\"txtu\">is </span><span class=\"txtu\">waarschijnlijk </span><span class=\"txtu\">vergaan. </span><span class=\"txtu\">Het </span><span class=\"txtu\">schip </span><span class=\"txtu\">was </span><span class=\"txtu\">op </span><span class=\"txtu\">weg </span><span class=\"txtu\">van </span><span class=\"txtu\">Batavia </span><span class=\"txtu\">naar </span><span class=\"txtu\">Banda </span></div>"
      ],
      "text/plain": [
       "<IPython.core.display.HTML object>"
      ]
     },
     "metadata": {},
     "output_type": "display_data"
    },
    {
     "data": {
      "text/html": [
       "<div class=\"\"><span class=\"tfsechead \"><span class=\"ltr\"><a target=\"_blank\" href=\"http://resources.huygens.knaw.nl/retroboeken/generalemissiven/#page=12&amp;source=11\" title=\"Show this document on Huygens\" sec=\"11 1:15\">11 1:15</a></span></span>  <span class=\"txtu\">Banda </span></div>"
      ],
      "text/plain": [
       "<IPython.core.display.HTML object>"
      ]
     },
     "metadata": {},
     "output_type": "display_data"
    },
    {
     "data": {
      "text/html": [
       "<div class=\"\"><span class=\"tfsechead \"><span class=\"ltr\"><a target=\"_blank\" href=\"http://resources.huygens.knaw.nl/retroboeken/generalemissiven/#page=12&amp;source=11\" title=\"Show this document on Huygens\" sec=\"11 1:15\">11 1:15</a></span></span>  <span class=\"txtu\">De </span><span class=\"txtu\">Delfland </span><span class=\"txtu\">is </span><span class=\"txtu\">waarschijnlijk </span><span class=\"txtu\">vergaan. </span><span class=\"txtu\">Het </span><span class=\"txtu\">schip </span><span class=\"txtu\">was </span><span class=\"txtu\">op </span><span class=\"txtu\">weg </span><span class=\"txtu\">van </span><span class=\"txtu\">Batavia </span><span class=\"txtu\">naar </span><span class=\"txtu\">Banda </span></div>"
      ],
      "text/plain": [
       "<IPython.core.display.HTML object>"
      ]
     },
     "metadata": {},
     "output_type": "display_data"
    },
    {
     "name": "stdout",
     "output_type": "stream",
     "text": [
      "Overlap 111: Batavia - Banda "
     ]
    },
    {
     "data": {
      "text/html": [
       "<div class=\"\"><span class=\"tfsechead \"><span class=\"ltr\"><a target=\"_blank\" href=\"http://resources.huygens.knaw.nl/retroboeken/generalemissiven/#page=12&amp;source=11\" title=\"Show this document on Huygens\" sec=\"11 1:1\">11 1:1</a></span></span>  <span class=\"txtu \"><span class=\"structure\"><span class=\"nd\">volume</span> 11, <span class=\"nd\">letter</span> Van Imhoff, Pasques de Chavonnes, Crul, Nolthenius, Van Aerden, Lakeman, Cluysenaar; Batavia, 3 juli 1743</span></span></div>"
      ],
      "text/plain": [
       "<IPython.core.display.HTML object>"
      ]
     },
     "metadata": {},
     "output_type": "display_data"
    },
    {
     "data": {
      "text/html": [
       "<div class=\"\"><span class=\"tfsechead \"><span class=\"ltr\"><a target=\"_blank\" href=\"http://resources.huygens.knaw.nl/retroboeken/generalemissiven/#page=12&amp;source=11\" title=\"Show this document on Huygens\" sec=\"11 1:15\">11 1:15</a></span></span>  <span class=\"txtu\">Batavia </span></div>"
      ],
      "text/plain": [
       "<IPython.core.display.HTML object>"
      ]
     },
     "metadata": {},
     "output_type": "display_data"
    },
    {
     "data": {
      "text/html": [
       "<div class=\"\"><span class=\"tfsechead \"><span class=\"ltr\"><a target=\"_blank\" href=\"http://resources.huygens.knaw.nl/retroboeken/generalemissiven/#page=12&amp;source=11\" title=\"Show this document on Huygens\" sec=\"11 1:15\">11 1:15</a></span></span>  <span class=\"txtu\">De </span><span class=\"txtu\">Delfland </span><span class=\"txtu\">is </span><span class=\"txtu\">waarschijnlijk </span><span class=\"txtu\">vergaan. </span><span class=\"txtu\">Het </span><span class=\"txtu\">schip </span><span class=\"txtu\">was </span><span class=\"txtu\">op </span><span class=\"txtu\">weg </span><span class=\"txtu\">van </span><span class=\"txtu\">Batavia </span><span class=\"txtu\">naar </span><span class=\"txtu\">Banda </span></div>"
      ],
      "text/plain": [
       "<IPython.core.display.HTML object>"
      ]
     },
     "metadata": {},
     "output_type": "display_data"
    },
    {
     "data": {
      "text/html": [
       "<div class=\"\"><span class=\"tfsechead \"><span class=\"ltr\"><a target=\"_blank\" href=\"http://resources.huygens.knaw.nl/retroboeken/generalemissiven/#page=12&amp;source=11\" title=\"Show this document on Huygens\" sec=\"11 1:21\">11 1:21</a></span></span>  <span class=\"txtu\">Banda </span></div>"
      ],
      "text/plain": [
       "<IPython.core.display.HTML object>"
      ]
     },
     "metadata": {},
     "output_type": "display_data"
    },
    {
     "data": {
      "text/html": [
       "<div class=\"\"><span class=\"tfsechead \"><span class=\"ltr\"><a target=\"_blank\" href=\"http://resources.huygens.knaw.nl/retroboeken/generalemissiven/#page=12&amp;source=11\" title=\"Show this document on Huygens\" sec=\"11 1:21\">11 1:21</a></span></span>  <span class=\"txtu\">Er </span><span class=\"txtu\">zal </span><span class=\"txtu\">een </span><span class=\"txtu\">onderzoek </span><span class=\"txtu\">ingesteld </span><span class=\"txtu\">worden. </span><span class=\"txtu\">De </span><span class=\"txtu\">oogst </span><span class=\"txtu\">op </span><span class=\"txtu\">Banda </span><span class=\"txtu\">is </span><span class=\"txtu\">dit </span><span class=\"txtu\">jaar </span><span class=\"txtu\">zo </span><span class=\"txtu\">gering </span><span class=\"txtu\">dat </span><span class=\"txtu\">de </span></div>"
      ],
      "text/plain": [
       "<IPython.core.display.HTML object>"
      ]
     },
     "metadata": {},
     "output_type": "display_data"
    },
    {
     "name": "stdout",
     "output_type": "stream",
     "text": [
      "Overlap 112: Banda - Batavia "
     ]
    },
    {
     "data": {
      "text/html": [
       "<div class=\"\"><span class=\"tfsechead \"><span class=\"ltr\"><a target=\"_blank\" href=\"http://resources.huygens.knaw.nl/retroboeken/generalemissiven/#page=12&amp;source=11\" title=\"Show this document on Huygens\" sec=\"11 1:1\">11 1:1</a></span></span>  <span class=\"txtu \"><span class=\"structure\"><span class=\"nd\">volume</span> 11, <span class=\"nd\">letter</span> Van Imhoff, Pasques de Chavonnes, Crul, Nolthenius, Van Aerden, Lakeman, Cluysenaar; Batavia, 3 juli 1743</span></span></div>"
      ],
      "text/plain": [
       "<IPython.core.display.HTML object>"
      ]
     },
     "metadata": {},
     "output_type": "display_data"
    },
    {
     "data": {
      "text/html": [
       "<div class=\"\"><span class=\"tfsechead \"><span class=\"ltr\"><a target=\"_blank\" href=\"http://resources.huygens.knaw.nl/retroboeken/generalemissiven/#page=12&amp;source=11\" title=\"Show this document on Huygens\" sec=\"11 1:14\">11 1:14</a></span></span>  <span class=\"txtu\">Banda </span></div>"
      ],
      "text/plain": [
       "<IPython.core.display.HTML object>"
      ]
     },
     "metadata": {},
     "output_type": "display_data"
    },
    {
     "data": {
      "text/html": [
       "<div class=\"\"><span class=\"tfsechead \"><span class=\"ltr\"><a target=\"_blank\" href=\"http://resources.huygens.knaw.nl/retroboeken/generalemissiven/#page=12&amp;source=11\" title=\"Show this document on Huygens\" sec=\"11 1:14\">11 1:14</a></span></span>  <span class=\"txtu\">Banda </span></div>"
      ],
      "text/plain": [
       "<IPython.core.display.HTML object>"
      ]
     },
     "metadata": {},
     "output_type": "display_data"
    },
    {
     "data": {
      "text/html": [
       "<div class=\"\"><span class=\"tfsechead \"><span class=\"ltr\"><a target=\"_blank\" href=\"http://resources.huygens.knaw.nl/retroboeken/generalemissiven/#page=12&amp;source=11\" title=\"Show this document on Huygens\" sec=\"11 1:23\">11 1:23</a></span></span>  <span class=\"txtu\">Batavia </span></div>"
      ],
      "text/plain": [
       "<IPython.core.display.HTML object>"
      ]
     },
     "metadata": {},
     "output_type": "display_data"
    },
    {
     "data": {
      "text/html": [
       "<div class=\"\"><span class=\"tfsechead \"><span class=\"ltr\"><a target=\"_blank\" href=\"http://resources.huygens.knaw.nl/retroboeken/generalemissiven/#page=12&amp;source=11\" title=\"Show this document on Huygens\" sec=\"11 1:23\">11 1:23</a></span></span>  <span class=\"txtu\">niet </span><span class=\"txtu\">voor </span><span class=\"txtu\">september </span><span class=\"txtu\">in </span><span class=\"txtu\">Batavia </span><span class=\"txtu\">verwacht. </span></div>"
      ],
      "text/plain": [
       "<IPython.core.display.HTML object>"
      ]
     },
     "metadata": {},
     "output_type": "display_data"
    },
    {
     "name": "stdout",
     "output_type": "stream",
     "text": [
      "Overlap 113: Banda - Batavia "
     ]
    },
    {
     "data": {
      "text/html": [
       "<div class=\"\"><span class=\"tfsechead \"><span class=\"ltr\"><a target=\"_blank\" href=\"http://resources.huygens.knaw.nl/retroboeken/generalemissiven/#page=12&amp;source=11\" title=\"Show this document on Huygens\" sec=\"11 1:1\">11 1:1</a></span></span>  <span class=\"txtu \"><span class=\"structure\"><span class=\"nd\">volume</span> 11, <span class=\"nd\">letter</span> Van Imhoff, Pasques de Chavonnes, Crul, Nolthenius, Van Aerden, Lakeman, Cluysenaar; Batavia, 3 juli 1743</span></span></div>"
      ],
      "text/plain": [
       "<IPython.core.display.HTML object>"
      ]
     },
     "metadata": {},
     "output_type": "display_data"
    },
    {
     "data": {
      "text/html": [
       "<div class=\"\"><span class=\"tfsechead \"><span class=\"ltr\"><a target=\"_blank\" href=\"http://resources.huygens.knaw.nl/retroboeken/generalemissiven/#page=12&amp;source=11\" title=\"Show this document on Huygens\" sec=\"11 1:15\">11 1:15</a></span></span>  <span class=\"txtu\">Banda </span></div>"
      ],
      "text/plain": [
       "<IPython.core.display.HTML object>"
      ]
     },
     "metadata": {},
     "output_type": "display_data"
    },
    {
     "data": {
      "text/html": [
       "<div class=\"\"><span class=\"tfsechead \"><span class=\"ltr\"><a target=\"_blank\" href=\"http://resources.huygens.knaw.nl/retroboeken/generalemissiven/#page=12&amp;source=11\" title=\"Show this document on Huygens\" sec=\"11 1:15\">11 1:15</a></span></span>  <span class=\"txtu\">De </span><span class=\"txtu\">Delfland </span><span class=\"txtu\">is </span><span class=\"txtu\">waarschijnlijk </span><span class=\"txtu\">vergaan. </span><span class=\"txtu\">Het </span><span class=\"txtu\">schip </span><span class=\"txtu\">was </span><span class=\"txtu\">op </span><span class=\"txtu\">weg </span><span class=\"txtu\">van </span><span class=\"txtu\">Batavia </span><span class=\"txtu\">naar </span><span class=\"txtu\">Banda </span></div>"
      ],
      "text/plain": [
       "<IPython.core.display.HTML object>"
      ]
     },
     "metadata": {},
     "output_type": "display_data"
    },
    {
     "data": {
      "text/html": [
       "<div class=\"\"><span class=\"tfsechead \"><span class=\"ltr\"><a target=\"_blank\" href=\"http://resources.huygens.knaw.nl/retroboeken/generalemissiven/#page=12&amp;source=11\" title=\"Show this document on Huygens\" sec=\"11 1:23\">11 1:23</a></span></span>  <span class=\"txtu\">Batavia </span></div>"
      ],
      "text/plain": [
       "<IPython.core.display.HTML object>"
      ]
     },
     "metadata": {},
     "output_type": "display_data"
    },
    {
     "data": {
      "text/html": [
       "<div class=\"\"><span class=\"tfsechead \"><span class=\"ltr\"><a target=\"_blank\" href=\"http://resources.huygens.knaw.nl/retroboeken/generalemissiven/#page=12&amp;source=11\" title=\"Show this document on Huygens\" sec=\"11 1:23\">11 1:23</a></span></span>  <span class=\"txtu\">niet </span><span class=\"txtu\">voor </span><span class=\"txtu\">september </span><span class=\"txtu\">in </span><span class=\"txtu\">Batavia </span><span class=\"txtu\">verwacht. </span></div>"
      ],
      "text/plain": [
       "<IPython.core.display.HTML object>"
      ]
     },
     "metadata": {},
     "output_type": "display_data"
    },
    {
     "name": "stdout",
     "output_type": "stream",
     "text": [
      "Overlap 114: Banda - Batavia "
     ]
    },
    {
     "data": {
      "text/html": [
       "<div class=\"\"><span class=\"tfsechead \"><span class=\"ltr\"><a target=\"_blank\" href=\"http://resources.huygens.knaw.nl/retroboeken/generalemissiven/#page=12&amp;source=11\" title=\"Show this document on Huygens\" sec=\"11 1:1\">11 1:1</a></span></span>  <span class=\"txtu \"><span class=\"structure\"><span class=\"nd\">volume</span> 11, <span class=\"nd\">letter</span> Van Imhoff, Pasques de Chavonnes, Crul, Nolthenius, Van Aerden, Lakeman, Cluysenaar; Batavia, 3 juli 1743</span></span></div>"
      ],
      "text/plain": [
       "<IPython.core.display.HTML object>"
      ]
     },
     "metadata": {},
     "output_type": "display_data"
    },
    {
     "data": {
      "text/html": [
       "<div class=\"\"><span class=\"tfsechead \"><span class=\"ltr\"><a target=\"_blank\" href=\"http://resources.huygens.knaw.nl/retroboeken/generalemissiven/#page=12&amp;source=11\" title=\"Show this document on Huygens\" sec=\"11 1:21\">11 1:21</a></span></span>  <span class=\"txtu\">Banda </span></div>"
      ],
      "text/plain": [
       "<IPython.core.display.HTML object>"
      ]
     },
     "metadata": {},
     "output_type": "display_data"
    },
    {
     "data": {
      "text/html": [
       "<div class=\"\"><span class=\"tfsechead \"><span class=\"ltr\"><a target=\"_blank\" href=\"http://resources.huygens.knaw.nl/retroboeken/generalemissiven/#page=12&amp;source=11\" title=\"Show this document on Huygens\" sec=\"11 1:21\">11 1:21</a></span></span>  <span class=\"txtu\">Er </span><span class=\"txtu\">zal </span><span class=\"txtu\">een </span><span class=\"txtu\">onderzoek </span><span class=\"txtu\">ingesteld </span><span class=\"txtu\">worden. </span><span class=\"txtu\">De </span><span class=\"txtu\">oogst </span><span class=\"txtu\">op </span><span class=\"txtu\">Banda </span><span class=\"txtu\">is </span><span class=\"txtu\">dit </span><span class=\"txtu\">jaar </span><span class=\"txtu\">zo </span><span class=\"txtu\">gering </span><span class=\"txtu\">dat </span><span class=\"txtu\">de </span></div>"
      ],
      "text/plain": [
       "<IPython.core.display.HTML object>"
      ]
     },
     "metadata": {},
     "output_type": "display_data"
    },
    {
     "data": {
      "text/html": [
       "<div class=\"\"><span class=\"tfsechead \"><span class=\"ltr\"><a target=\"_blank\" href=\"http://resources.huygens.knaw.nl/retroboeken/generalemissiven/#page=12&amp;source=11\" title=\"Show this document on Huygens\" sec=\"11 1:23\">11 1:23</a></span></span>  <span class=\"txtu\">Batavia </span></div>"
      ],
      "text/plain": [
       "<IPython.core.display.HTML object>"
      ]
     },
     "metadata": {},
     "output_type": "display_data"
    },
    {
     "data": {
      "text/html": [
       "<div class=\"\"><span class=\"tfsechead \"><span class=\"ltr\"><a target=\"_blank\" href=\"http://resources.huygens.knaw.nl/retroboeken/generalemissiven/#page=12&amp;source=11\" title=\"Show this document on Huygens\" sec=\"11 1:23\">11 1:23</a></span></span>  <span class=\"txtu\">niet </span><span class=\"txtu\">voor </span><span class=\"txtu\">september </span><span class=\"txtu\">in </span><span class=\"txtu\">Batavia </span><span class=\"txtu\">verwacht. </span></div>"
      ],
      "text/plain": [
       "<IPython.core.display.HTML object>"
      ]
     },
     "metadata": {},
     "output_type": "display_data"
    },
    {
     "name": "stdout",
     "output_type": "stream",
     "text": [
      "Overlap 115: Banda - Batavia "
     ]
    },
    {
     "data": {
      "text/html": [
       "<div class=\"\"><span class=\"tfsechead \"><span class=\"ltr\"><a target=\"_blank\" href=\"http://resources.huygens.knaw.nl/retroboeken/generalemissiven/#page=12&amp;source=11\" title=\"Show this document on Huygens\" sec=\"11 1:1\">11 1:1</a></span></span>  <span class=\"txtu \"><span class=\"structure\"><span class=\"nd\">volume</span> 11, <span class=\"nd\">letter</span> Van Imhoff, Pasques de Chavonnes, Crul, Nolthenius, Van Aerden, Lakeman, Cluysenaar; Batavia, 3 juli 1743</span></span></div>"
      ],
      "text/plain": [
       "<IPython.core.display.HTML object>"
      ]
     },
     "metadata": {},
     "output_type": "display_data"
    },
    {
     "data": {
      "text/html": [
       "<div class=\"\"><span class=\"tfsechead \"><span class=\"ltr\"><a target=\"_blank\" href=\"http://resources.huygens.knaw.nl/retroboeken/generalemissiven/#page=12&amp;source=11\" title=\"Show this document on Huygens\" sec=\"11 1:14\">11 1:14</a></span></span>  <span class=\"txtu\">Banda </span></div>"
      ],
      "text/plain": [
       "<IPython.core.display.HTML object>"
      ]
     },
     "metadata": {},
     "output_type": "display_data"
    },
    {
     "data": {
      "text/html": [
       "<div class=\"\"><span class=\"tfsechead \"><span class=\"ltr\"><a target=\"_blank\" href=\"http://resources.huygens.knaw.nl/retroboeken/generalemissiven/#page=12&amp;source=11\" title=\"Show this document on Huygens\" sec=\"11 1:14\">11 1:14</a></span></span>  <span class=\"txtu\">Banda </span></div>"
      ],
      "text/plain": [
       "<IPython.core.display.HTML object>"
      ]
     },
     "metadata": {},
     "output_type": "display_data"
    },
    {
     "data": {
      "text/html": [
       "<div class=\"\"><span class=\"tfsechead \"><span class=\"ltr\"><a target=\"_blank\" href=\"http://resources.huygens.knaw.nl/retroboeken/generalemissiven/#page=12&amp;source=11\" title=\"Show this document on Huygens\" sec=\"11 1:27\">11 1:27</a></span></span>  <span class=\"txtu\">Batavia </span></div>"
      ],
      "text/plain": [
       "<IPython.core.display.HTML object>"
      ]
     },
     "metadata": {},
     "output_type": "display_data"
    },
    {
     "data": {
      "text/html": [
       "<div class=\"\"><span class=\"tfsechead \"><span class=\"ltr\"><a target=\"_blank\" href=\"http://resources.huygens.knaw.nl/retroboeken/generalemissiven/#page=12&amp;source=11\" title=\"Show this document on Huygens\" sec=\"11 1:27\">11 1:27</a></span></span>  <span class=\"txtu\">De </span><span class=\"txtu\">Gaasperdam, </span><span class=\"txtu\">te </span><span class=\"txtu\">Bima </span><span class=\"txtu\">geladen </span><span class=\"txtu\">met </span><span class=\"txtu\">sapanhout, </span><span class=\"txtu\">kan </span><span class=\"txtu\">elk </span><span class=\"txtu\">moment </span><span class=\"txtu\">in </span><span class=\"txtu\">Batavia </span><span class=\"txtu\">binnenlopen. </span></div>"
      ],
      "text/plain": [
       "<IPython.core.display.HTML object>"
      ]
     },
     "metadata": {},
     "output_type": "display_data"
    },
    {
     "name": "stdout",
     "output_type": "stream",
     "text": [
      "Overlap 116: Banda - Batavia "
     ]
    },
    {
     "data": {
      "text/html": [
       "<div class=\"\"><span class=\"tfsechead \"><span class=\"ltr\"><a target=\"_blank\" href=\"http://resources.huygens.knaw.nl/retroboeken/generalemissiven/#page=12&amp;source=11\" title=\"Show this document on Huygens\" sec=\"11 1:1\">11 1:1</a></span></span>  <span class=\"txtu \"><span class=\"structure\"><span class=\"nd\">volume</span> 11, <span class=\"nd\">letter</span> Van Imhoff, Pasques de Chavonnes, Crul, Nolthenius, Van Aerden, Lakeman, Cluysenaar; Batavia, 3 juli 1743</span></span></div>"
      ],
      "text/plain": [
       "<IPython.core.display.HTML object>"
      ]
     },
     "metadata": {},
     "output_type": "display_data"
    },
    {
     "data": {
      "text/html": [
       "<div class=\"\"><span class=\"tfsechead \"><span class=\"ltr\"><a target=\"_blank\" href=\"http://resources.huygens.knaw.nl/retroboeken/generalemissiven/#page=12&amp;source=11\" title=\"Show this document on Huygens\" sec=\"11 1:15\">11 1:15</a></span></span>  <span class=\"txtu\">Banda </span></div>"
      ],
      "text/plain": [
       "<IPython.core.display.HTML object>"
      ]
     },
     "metadata": {},
     "output_type": "display_data"
    },
    {
     "data": {
      "text/html": [
       "<div class=\"\"><span class=\"tfsechead \"><span class=\"ltr\"><a target=\"_blank\" href=\"http://resources.huygens.knaw.nl/retroboeken/generalemissiven/#page=12&amp;source=11\" title=\"Show this document on Huygens\" sec=\"11 1:15\">11 1:15</a></span></span>  <span class=\"txtu\">De </span><span class=\"txtu\">Delfland </span><span class=\"txtu\">is </span><span class=\"txtu\">waarschijnlijk </span><span class=\"txtu\">vergaan. </span><span class=\"txtu\">Het </span><span class=\"txtu\">schip </span><span class=\"txtu\">was </span><span class=\"txtu\">op </span><span class=\"txtu\">weg </span><span class=\"txtu\">van </span><span class=\"txtu\">Batavia </span><span class=\"txtu\">naar </span><span class=\"txtu\">Banda </span></div>"
      ],
      "text/plain": [
       "<IPython.core.display.HTML object>"
      ]
     },
     "metadata": {},
     "output_type": "display_data"
    },
    {
     "data": {
      "text/html": [
       "<div class=\"\"><span class=\"tfsechead \"><span class=\"ltr\"><a target=\"_blank\" href=\"http://resources.huygens.knaw.nl/retroboeken/generalemissiven/#page=12&amp;source=11\" title=\"Show this document on Huygens\" sec=\"11 1:27\">11 1:27</a></span></span>  <span class=\"txtu\">Batavia </span></div>"
      ],
      "text/plain": [
       "<IPython.core.display.HTML object>"
      ]
     },
     "metadata": {},
     "output_type": "display_data"
    },
    {
     "data": {
      "text/html": [
       "<div class=\"\"><span class=\"tfsechead \"><span class=\"ltr\"><a target=\"_blank\" href=\"http://resources.huygens.knaw.nl/retroboeken/generalemissiven/#page=12&amp;source=11\" title=\"Show this document on Huygens\" sec=\"11 1:27\">11 1:27</a></span></span>  <span class=\"txtu\">De </span><span class=\"txtu\">Gaasperdam, </span><span class=\"txtu\">te </span><span class=\"txtu\">Bima </span><span class=\"txtu\">geladen </span><span class=\"txtu\">met </span><span class=\"txtu\">sapanhout, </span><span class=\"txtu\">kan </span><span class=\"txtu\">elk </span><span class=\"txtu\">moment </span><span class=\"txtu\">in </span><span class=\"txtu\">Batavia </span><span class=\"txtu\">binnenlopen. </span></div>"
      ],
      "text/plain": [
       "<IPython.core.display.HTML object>"
      ]
     },
     "metadata": {},
     "output_type": "display_data"
    },
    {
     "name": "stdout",
     "output_type": "stream",
     "text": [
      "Overlap 117: Banda - Batavia "
     ]
    },
    {
     "data": {
      "text/html": [
       "<div class=\"\"><span class=\"tfsechead \"><span class=\"ltr\"><a target=\"_blank\" href=\"http://resources.huygens.knaw.nl/retroboeken/generalemissiven/#page=12&amp;source=11\" title=\"Show this document on Huygens\" sec=\"11 1:1\">11 1:1</a></span></span>  <span class=\"txtu \"><span class=\"structure\"><span class=\"nd\">volume</span> 11, <span class=\"nd\">letter</span> Van Imhoff, Pasques de Chavonnes, Crul, Nolthenius, Van Aerden, Lakeman, Cluysenaar; Batavia, 3 juli 1743</span></span></div>"
      ],
      "text/plain": [
       "<IPython.core.display.HTML object>"
      ]
     },
     "metadata": {},
     "output_type": "display_data"
    },
    {
     "data": {
      "text/html": [
       "<div class=\"\"><span class=\"tfsechead \"><span class=\"ltr\"><a target=\"_blank\" href=\"http://resources.huygens.knaw.nl/retroboeken/generalemissiven/#page=12&amp;source=11\" title=\"Show this document on Huygens\" sec=\"11 1:21\">11 1:21</a></span></span>  <span class=\"txtu\">Banda </span></div>"
      ],
      "text/plain": [
       "<IPython.core.display.HTML object>"
      ]
     },
     "metadata": {},
     "output_type": "display_data"
    },
    {
     "data": {
      "text/html": [
       "<div class=\"\"><span class=\"tfsechead \"><span class=\"ltr\"><a target=\"_blank\" href=\"http://resources.huygens.knaw.nl/retroboeken/generalemissiven/#page=12&amp;source=11\" title=\"Show this document on Huygens\" sec=\"11 1:21\">11 1:21</a></span></span>  <span class=\"txtu\">Er </span><span class=\"txtu\">zal </span><span class=\"txtu\">een </span><span class=\"txtu\">onderzoek </span><span class=\"txtu\">ingesteld </span><span class=\"txtu\">worden. </span><span class=\"txtu\">De </span><span class=\"txtu\">oogst </span><span class=\"txtu\">op </span><span class=\"txtu\">Banda </span><span class=\"txtu\">is </span><span class=\"txtu\">dit </span><span class=\"txtu\">jaar </span><span class=\"txtu\">zo </span><span class=\"txtu\">gering </span><span class=\"txtu\">dat </span><span class=\"txtu\">de </span></div>"
      ],
      "text/plain": [
       "<IPython.core.display.HTML object>"
      ]
     },
     "metadata": {},
     "output_type": "display_data"
    },
    {
     "data": {
      "text/html": [
       "<div class=\"\"><span class=\"tfsechead \"><span class=\"ltr\"><a target=\"_blank\" href=\"http://resources.huygens.knaw.nl/retroboeken/generalemissiven/#page=12&amp;source=11\" title=\"Show this document on Huygens\" sec=\"11 1:27\">11 1:27</a></span></span>  <span class=\"txtu\">Batavia </span></div>"
      ],
      "text/plain": [
       "<IPython.core.display.HTML object>"
      ]
     },
     "metadata": {},
     "output_type": "display_data"
    },
    {
     "data": {
      "text/html": [
       "<div class=\"\"><span class=\"tfsechead \"><span class=\"ltr\"><a target=\"_blank\" href=\"http://resources.huygens.knaw.nl/retroboeken/generalemissiven/#page=12&amp;source=11\" title=\"Show this document on Huygens\" sec=\"11 1:27\">11 1:27</a></span></span>  <span class=\"txtu\">De </span><span class=\"txtu\">Gaasperdam, </span><span class=\"txtu\">te </span><span class=\"txtu\">Bima </span><span class=\"txtu\">geladen </span><span class=\"txtu\">met </span><span class=\"txtu\">sapanhout, </span><span class=\"txtu\">kan </span><span class=\"txtu\">elk </span><span class=\"txtu\">moment </span><span class=\"txtu\">in </span><span class=\"txtu\">Batavia </span><span class=\"txtu\">binnenlopen. </span></div>"
      ],
      "text/plain": [
       "<IPython.core.display.HTML object>"
      ]
     },
     "metadata": {},
     "output_type": "display_data"
    },
    {
     "name": "stdout",
     "output_type": "stream",
     "text": [
      "Overlap 118: Batavia - Banda "
     ]
    },
    {
     "data": {
      "text/html": [
       "<div class=\"\"><span class=\"tfsechead \"><span class=\"ltr\"><a target=\"_blank\" href=\"http://resources.huygens.knaw.nl/retroboeken/generalemissiven/#page=218&amp;source=11\" title=\"Show this document on Huygens\" sec=\"11 207:1\">11 207:1</a></span></span>  <span class=\"txtu \"><span class=\"structure\"><span class=\"nd\">volume</span> 11, <span class=\"nd\">letter</span> Van Imhoff, Pasques de Chavonnes, Crul, Nolthenius, Van Aerden, Lakeman, Cluysenaar, Overbeek, Schuylenburg, Mossel; Batavia, 10 maart 1745</span></span></div>"
      ],
      "text/plain": [
       "<IPython.core.display.HTML object>"
      ]
     },
     "metadata": {},
     "output_type": "display_data"
    },
    {
     "data": {
      "text/html": [
       "<div class=\"\"><span class=\"tfsechead \"><span class=\"ltr\"><a target=\"_blank\" href=\"http://resources.huygens.knaw.nl/retroboeken/generalemissiven/#page=218&amp;source=11\" title=\"Show this document on Huygens\" sec=\"11 207:17\">11 207:17</a></span></span>  <span class=\"txtu\">Batavia </span></div>"
      ],
      "text/plain": [
       "<IPython.core.display.HTML object>"
      ]
     },
     "metadata": {},
     "output_type": "display_data"
    },
    {
     "data": {
      "text/html": [
       "<div class=\"\"><span class=\"tfsechead \"><span class=\"ltr\"><a target=\"_blank\" href=\"http://resources.huygens.knaw.nl/retroboeken/generalemissiven/#page=218&amp;source=11\" title=\"Show this document on Huygens\" sec=\"11 207:17\">11 207:17</a></span></span>  <span class=\"txtu\">Ballas </span><span class=\"txtu\">meegegeven </span><span class=\"txtu\">worden </span><span class=\"txtu\">en </span><span class=\"txtu\">de </span><span class=\"txtu\">rest </span><span class=\"txtu\">met </span><span class=\"txtu\">kleinere </span><span class=\"txtu\">vaartuigen </span><span class=\"txtu\">naar </span><span class=\"txtu\">Batavia </span><span class=\"txtu\">gestuurd </span><span class=\"txtu\">worden. </span></div>"
      ],
      "text/plain": [
       "<IPython.core.display.HTML object>"
      ]
     },
     "metadata": {},
     "output_type": "display_data"
    },
    {
     "data": {
      "text/html": [
       "<div class=\"\"><span class=\"tfsechead \"><span class=\"ltr\"><a target=\"_blank\" href=\"http://resources.huygens.knaw.nl/retroboeken/generalemissiven/#page=218&amp;source=11\" title=\"Show this document on Huygens\" sec=\"11 207:19\">11 207:19</a></span></span>  <span class=\"txtu\">Banda </span></div>"
      ],
      "text/plain": [
       "<IPython.core.display.HTML object>"
      ]
     },
     "metadata": {},
     "output_type": "display_data"
    },
    {
     "data": {
      "text/html": [
       "<div class=\"\"><span class=\"tfsechead \"><span class=\"ltr\"><a target=\"_blank\" href=\"http://resources.huygens.knaw.nl/retroboeken/generalemissiven/#page=218&amp;source=11\" title=\"Show this document on Huygens\" sec=\"11 207:19\">11 207:19</a></span></span>  <span class=\"txtu\">Banda </span></div>"
      ],
      "text/plain": [
       "<IPython.core.display.HTML object>"
      ]
     },
     "metadata": {},
     "output_type": "display_data"
    },
    {
     "name": "stdout",
     "output_type": "stream",
     "text": [
      "Overlap 119: Batavia - Banda "
     ]
    },
    {
     "data": {
      "text/html": [
       "<div class=\"\"><span class=\"tfsechead \"><span class=\"ltr\"><a target=\"_blank\" href=\"http://resources.huygens.knaw.nl/retroboeken/generalemissiven/#page=218&amp;source=11\" title=\"Show this document on Huygens\" sec=\"11 207:1\">11 207:1</a></span></span>  <span class=\"txtu \"><span class=\"structure\"><span class=\"nd\">volume</span> 11, <span class=\"nd\">letter</span> Van Imhoff, Pasques de Chavonnes, Crul, Nolthenius, Van Aerden, Lakeman, Cluysenaar, Overbeek, Schuylenburg, Mossel; Batavia, 10 maart 1745</span></span></div>"
      ],
      "text/plain": [
       "<IPython.core.display.HTML object>"
      ]
     },
     "metadata": {},
     "output_type": "display_data"
    },
    {
     "data": {
      "text/html": [
       "<div class=\"\"><span class=\"tfsechead \"><span class=\"ltr\"><a target=\"_blank\" href=\"http://resources.huygens.knaw.nl/retroboeken/generalemissiven/#page=218&amp;source=11\" title=\"Show this document on Huygens\" sec=\"11 207:17\">11 207:17</a></span></span>  <span class=\"txtu\">Batavia </span></div>"
      ],
      "text/plain": [
       "<IPython.core.display.HTML object>"
      ]
     },
     "metadata": {},
     "output_type": "display_data"
    },
    {
     "data": {
      "text/html": [
       "<div class=\"\"><span class=\"tfsechead \"><span class=\"ltr\"><a target=\"_blank\" href=\"http://resources.huygens.knaw.nl/retroboeken/generalemissiven/#page=218&amp;source=11\" title=\"Show this document on Huygens\" sec=\"11 207:17\">11 207:17</a></span></span>  <span class=\"txtu\">Ballas </span><span class=\"txtu\">meegegeven </span><span class=\"txtu\">worden </span><span class=\"txtu\">en </span><span class=\"txtu\">de </span><span class=\"txtu\">rest </span><span class=\"txtu\">met </span><span class=\"txtu\">kleinere </span><span class=\"txtu\">vaartuigen </span><span class=\"txtu\">naar </span><span class=\"txtu\">Batavia </span><span class=\"txtu\">gestuurd </span><span class=\"txtu\">worden. </span></div>"
      ],
      "text/plain": [
       "<IPython.core.display.HTML object>"
      ]
     },
     "metadata": {},
     "output_type": "display_data"
    },
    {
     "data": {
      "text/html": [
       "<div class=\"\"><span class=\"tfsechead \"><span class=\"ltr\"><a target=\"_blank\" href=\"http://resources.huygens.knaw.nl/retroboeken/generalemissiven/#page=218&amp;source=11\" title=\"Show this document on Huygens\" sec=\"11 207:20\">11 207:20</a></span></span>  <span class=\"txtu\">Banda </span></div>"
      ],
      "text/plain": [
       "<IPython.core.display.HTML object>"
      ]
     },
     "metadata": {},
     "output_type": "display_data"
    },
    {
     "data": {
      "text/html": [
       "<div class=\"\"><span class=\"tfsechead \"><span class=\"ltr\"><a target=\"_blank\" href=\"http://resources.huygens.knaw.nl/retroboeken/generalemissiven/#page=218&amp;source=11\" title=\"Show this document on Huygens\" sec=\"11 207:20\">11 207:20</a></span></span>  <span class=\"txtu\">De </span><span class=\"txtu\">Wickenburg </span><span class=\"txtu\">is </span><span class=\"txtu\">eind </span><span class=\"txtu\">januari </span><span class=\"txtu\">en </span><span class=\"txtu\">de </span><span class=\"txtu\">Barel </span><span class=\"txtu\">half </span><span class=\"txtu\">februari </span><span class=\"txtu\">naar </span><span class=\"txtu\">Banda </span><span class=\"txtu\">vertrokken. </span><span class=\"txtu\">De </span></div>"
      ],
      "text/plain": [
       "<IPython.core.display.HTML object>"
      ]
     },
     "metadata": {},
     "output_type": "display_data"
    },
    {
     "name": "stdout",
     "output_type": "stream",
     "text": [
      "Overlap 120: Banda - Batavia "
     ]
    },
    {
     "data": {
      "text/html": [
       "<div class=\"\"><span class=\"tfsechead \"><span class=\"ltr\"><a target=\"_blank\" href=\"http://resources.huygens.knaw.nl/retroboeken/generalemissiven/#page=218&amp;source=11\" title=\"Show this document on Huygens\" sec=\"11 207:1\">11 207:1</a></span></span>  <span class=\"txtu \"><span class=\"structure\"><span class=\"nd\">volume</span> 11, <span class=\"nd\">letter</span> Van Imhoff, Pasques de Chavonnes, Crul, Nolthenius, Van Aerden, Lakeman, Cluysenaar, Overbeek, Schuylenburg, Mossel; Batavia, 10 maart 1745</span></span></div>"
      ],
      "text/plain": [
       "<IPython.core.display.HTML object>"
      ]
     },
     "metadata": {},
     "output_type": "display_data"
    },
    {
     "data": {
      "text/html": [
       "<div class=\"\"><span class=\"tfsechead \"><span class=\"ltr\"><a target=\"_blank\" href=\"http://resources.huygens.knaw.nl/retroboeken/generalemissiven/#page=218&amp;source=11\" title=\"Show this document on Huygens\" sec=\"11 207:19\">11 207:19</a></span></span>  <span class=\"txtu\">Banda </span></div>"
      ],
      "text/plain": [
       "<IPython.core.display.HTML object>"
      ]
     },
     "metadata": {},
     "output_type": "display_data"
    },
    {
     "data": {
      "text/html": [
       "<div class=\"\"><span class=\"tfsechead \"><span class=\"ltr\"><a target=\"_blank\" href=\"http://resources.huygens.knaw.nl/retroboeken/generalemissiven/#page=218&amp;source=11\" title=\"Show this document on Huygens\" sec=\"11 207:19\">11 207:19</a></span></span>  <span class=\"txtu\">Banda </span></div>"
      ],
      "text/plain": [
       "<IPython.core.display.HTML object>"
      ]
     },
     "metadata": {},
     "output_type": "display_data"
    },
    {
     "data": {
      "text/html": [
       "<div class=\"\"><span class=\"tfsechead \"><span class=\"ltr\"><a target=\"_blank\" href=\"http://resources.huygens.knaw.nl/retroboeken/generalemissiven/#page=218&amp;source=11\" title=\"Show this document on Huygens\" sec=\"11 207:28\">11 207:28</a></span></span>  <span class=\"txtu\">Batavia </span></div>"
      ],
      "text/plain": [
       "<IPython.core.display.HTML object>"
      ]
     },
     "metadata": {},
     "output_type": "display_data"
    },
    {
     "data": {
      "text/html": [
       "<div class=\"\"><span class=\"tfsechead \"><span class=\"ltr\"><a target=\"_blank\" href=\"http://resources.huygens.knaw.nl/retroboeken/generalemissiven/#page=218&amp;source=11\" title=\"Show this document on Huygens\" sec=\"11 207:28\">11 207:28</a></span></span>  <span class=\"txtu\">thuishoort, </span><span class=\"txtu\">is </span><span class=\"txtu\">eveneens </span><span class=\"txtu\">vertrokken. </span><span class=\"txtu\">Batavia </span><span class=\"txtu\">heeft </span><span class=\"txtu\">niet </span><span class=\"txtu\">meer </span><span class=\"txtu\">kunnen </span><span class=\"txtu\">doen </span><span class=\"txtu\">ter </span><span class=\"txtu\">versterking </span></div>"
      ],
      "text/plain": [
       "<IPython.core.display.HTML object>"
      ]
     },
     "metadata": {},
     "output_type": "display_data"
    },
    {
     "name": "stdout",
     "output_type": "stream",
     "text": [
      "Overlap 121: Banda - Batavia "
     ]
    },
    {
     "data": {
      "text/html": [
       "<div class=\"\"><span class=\"tfsechead \"><span class=\"ltr\"><a target=\"_blank\" href=\"http://resources.huygens.knaw.nl/retroboeken/generalemissiven/#page=218&amp;source=11\" title=\"Show this document on Huygens\" sec=\"11 207:1\">11 207:1</a></span></span>  <span class=\"txtu \"><span class=\"structure\"><span class=\"nd\">volume</span> 11, <span class=\"nd\">letter</span> Van Imhoff, Pasques de Chavonnes, Crul, Nolthenius, Van Aerden, Lakeman, Cluysenaar, Overbeek, Schuylenburg, Mossel; Batavia, 10 maart 1745</span></span></div>"
      ],
      "text/plain": [
       "<IPython.core.display.HTML object>"
      ]
     },
     "metadata": {},
     "output_type": "display_data"
    },
    {
     "data": {
      "text/html": [
       "<div class=\"\"><span class=\"tfsechead \"><span class=\"ltr\"><a target=\"_blank\" href=\"http://resources.huygens.knaw.nl/retroboeken/generalemissiven/#page=218&amp;source=11\" title=\"Show this document on Huygens\" sec=\"11 207:20\">11 207:20</a></span></span>  <span class=\"txtu\">Banda </span></div>"
      ],
      "text/plain": [
       "<IPython.core.display.HTML object>"
      ]
     },
     "metadata": {},
     "output_type": "display_data"
    },
    {
     "data": {
      "text/html": [
       "<div class=\"\"><span class=\"tfsechead \"><span class=\"ltr\"><a target=\"_blank\" href=\"http://resources.huygens.knaw.nl/retroboeken/generalemissiven/#page=218&amp;source=11\" title=\"Show this document on Huygens\" sec=\"11 207:20\">11 207:20</a></span></span>  <span class=\"txtu\">De </span><span class=\"txtu\">Wickenburg </span><span class=\"txtu\">is </span><span class=\"txtu\">eind </span><span class=\"txtu\">januari </span><span class=\"txtu\">en </span><span class=\"txtu\">de </span><span class=\"txtu\">Barel </span><span class=\"txtu\">half </span><span class=\"txtu\">februari </span><span class=\"txtu\">naar </span><span class=\"txtu\">Banda </span><span class=\"txtu\">vertrokken. </span><span class=\"txtu\">De </span></div>"
      ],
      "text/plain": [
       "<IPython.core.display.HTML object>"
      ]
     },
     "metadata": {},
     "output_type": "display_data"
    },
    {
     "data": {
      "text/html": [
       "<div class=\"\"><span class=\"tfsechead \"><span class=\"ltr\"><a target=\"_blank\" href=\"http://resources.huygens.knaw.nl/retroboeken/generalemissiven/#page=218&amp;source=11\" title=\"Show this document on Huygens\" sec=\"11 207:28\">11 207:28</a></span></span>  <span class=\"txtu\">Batavia </span></div>"
      ],
      "text/plain": [
       "<IPython.core.display.HTML object>"
      ]
     },
     "metadata": {},
     "output_type": "display_data"
    },
    {
     "data": {
      "text/html": [
       "<div class=\"\"><span class=\"tfsechead \"><span class=\"ltr\"><a target=\"_blank\" href=\"http://resources.huygens.knaw.nl/retroboeken/generalemissiven/#page=218&amp;source=11\" title=\"Show this document on Huygens\" sec=\"11 207:28\">11 207:28</a></span></span>  <span class=\"txtu\">thuishoort, </span><span class=\"txtu\">is </span><span class=\"txtu\">eveneens </span><span class=\"txtu\">vertrokken. </span><span class=\"txtu\">Batavia </span><span class=\"txtu\">heeft </span><span class=\"txtu\">niet </span><span class=\"txtu\">meer </span><span class=\"txtu\">kunnen </span><span class=\"txtu\">doen </span><span class=\"txtu\">ter </span><span class=\"txtu\">versterking </span></div>"
      ],
      "text/plain": [
       "<IPython.core.display.HTML object>"
      ]
     },
     "metadata": {},
     "output_type": "display_data"
    },
    {
     "name": "stdout",
     "output_type": "stream",
     "text": [
      "Overlap 122: Batavia - Banda "
     ]
    },
    {
     "data": {
      "text/html": [
       "<div class=\"\"><span class=\"tfsechead \"><span class=\"ltr\"><a target=\"_blank\" href=\"http://resources.huygens.knaw.nl/retroboeken/generalemissiven/#page=228&amp;source=11\" title=\"Show this document on Huygens\" sec=\"11 217:1\">11 217:1</a></span></span>  <span class=\"txtu \"><span class=\"structure\"><span class=\"nd\">volume</span> 11, <span class=\"nd\">letter</span> Van Imhoff, Pasques de Chavonnes, Crul, Nolthenius, Van Aerden, Cluysenaar, Overbeek, Van den Bosch, Schuylenburg, Mossel; Batavia, 20 oktober 1745</span></span></div>"
      ],
      "text/plain": [
       "<IPython.core.display.HTML object>"
      ]
     },
     "metadata": {},
     "output_type": "display_data"
    },
    {
     "data": {
      "text/html": [
       "<div class=\"\"><span class=\"tfsechead \"><span class=\"ltr\"><a target=\"_blank\" href=\"http://resources.huygens.knaw.nl/retroboeken/generalemissiven/#page=228&amp;source=11\" title=\"Show this document on Huygens\" sec=\"11 217:7\">11 217:7</a></span></span>  <span class=\"txtu\">Batavia </span></div>"
      ],
      "text/plain": [
       "<IPython.core.display.HTML object>"
      ]
     },
     "metadata": {},
     "output_type": "display_data"
    },
    {
     "data": {
      "text/html": [
       "<div class=\"\"><span class=\"tfsechead \"><span class=\"ltr\"><a target=\"_blank\" href=\"http://resources.huygens.knaw.nl/retroboeken/generalemissiven/#page=228&amp;source=11\" title=\"Show this document on Huygens\" sec=\"11 217:7\">11 217:7</a></span></span>  <span class=\"txtu\">Batavia </span><span class=\"txtu\">verwacht </span><span class=\"txtu\">niet </span><span class=\"txtu\">dat </span><span class=\"txtu\">deze </span><span class=\"txtu\">missive , </span><span class=\"txtu\">die </span><span class=\"txtu\">met </span><span class=\"txtu\">de </span><span class=\"txtu\">retourschepen </span><span class=\"txtu\">Leiden , </span><span class=\"txtu\">Spanderswoud </span></div>"
      ],
      "text/plain": [
       "<IPython.core.display.HTML object>"
      ]
     },
     "metadata": {},
     "output_type": "display_data"
    },
    {
     "data": {
      "text/html": [
       "<div class=\"\"><span class=\"tfsechead \"><span class=\"ltr\"><a target=\"_blank\" href=\"http://resources.huygens.knaw.nl/retroboeken/generalemissiven/#page=228&amp;source=11\" title=\"Show this document on Huygens\" sec=\"11 217:24\">11 217:24</a></span></span>  <span class=\"txtu\">Banda </span></div>"
      ],
      "text/plain": [
       "<IPython.core.display.HTML object>"
      ]
     },
     "metadata": {},
     "output_type": "display_data"
    },
    {
     "data": {
      "text/html": [
       "<div class=\"\"><span class=\"tfsechead \"><span class=\"ltr\"><a target=\"_blank\" href=\"http://resources.huygens.knaw.nl/retroboeken/generalemissiven/#page=228&amp;source=11\" title=\"Show this document on Huygens\" sec=\"11 217:24\">11 217:24</a></span></span>  <span class=\"txtu\">Banda </span></div>"
      ],
      "text/plain": [
       "<IPython.core.display.HTML object>"
      ]
     },
     "metadata": {},
     "output_type": "display_data"
    },
    {
     "name": "stdout",
     "output_type": "stream",
     "text": [
      "Overlap 123: Batavia - Banda "
     ]
    },
    {
     "data": {
      "text/html": [
       "<div class=\"\"><span class=\"tfsechead \"><span class=\"ltr\"><a target=\"_blank\" href=\"http://resources.huygens.knaw.nl/retroboeken/generalemissiven/#page=228&amp;source=11\" title=\"Show this document on Huygens\" sec=\"11 217:1\">11 217:1</a></span></span>  <span class=\"txtu \"><span class=\"structure\"><span class=\"nd\">volume</span> 11, <span class=\"nd\">letter</span> Van Imhoff, Pasques de Chavonnes, Crul, Nolthenius, Van Aerden, Cluysenaar, Overbeek, Van den Bosch, Schuylenburg, Mossel; Batavia, 20 oktober 1745</span></span></div>"
      ],
      "text/plain": [
       "<IPython.core.display.HTML object>"
      ]
     },
     "metadata": {},
     "output_type": "display_data"
    },
    {
     "data": {
      "text/html": [
       "<div class=\"\"><span class=\"tfsechead \"><span class=\"ltr\"><a target=\"_blank\" href=\"http://resources.huygens.knaw.nl/retroboeken/generalemissiven/#page=228&amp;source=11\" title=\"Show this document on Huygens\" sec=\"11 217:7\">11 217:7</a></span></span>  <span class=\"txtu\">Batavia </span></div>"
      ],
      "text/plain": [
       "<IPython.core.display.HTML object>"
      ]
     },
     "metadata": {},
     "output_type": "display_data"
    },
    {
     "data": {
      "text/html": [
       "<div class=\"\"><span class=\"tfsechead \"><span class=\"ltr\"><a target=\"_blank\" href=\"http://resources.huygens.knaw.nl/retroboeken/generalemissiven/#page=228&amp;source=11\" title=\"Show this document on Huygens\" sec=\"11 217:7\">11 217:7</a></span></span>  <span class=\"txtu\">Batavia </span><span class=\"txtu\">verwacht </span><span class=\"txtu\">niet </span><span class=\"txtu\">dat </span><span class=\"txtu\">deze </span><span class=\"txtu\">missive , </span><span class=\"txtu\">die </span><span class=\"txtu\">met </span><span class=\"txtu\">de </span><span class=\"txtu\">retourschepen </span><span class=\"txtu\">Leiden , </span><span class=\"txtu\">Spanderswoud </span></div>"
      ],
      "text/plain": [
       "<IPython.core.display.HTML object>"
      ]
     },
     "metadata": {},
     "output_type": "display_data"
    },
    {
     "data": {
      "text/html": [
       "<div class=\"\"><span class=\"tfsechead \"><span class=\"ltr\"><a target=\"_blank\" href=\"http://resources.huygens.knaw.nl/retroboeken/generalemissiven/#page=228&amp;source=11\" title=\"Show this document on Huygens\" sec=\"11 217:25\">11 217:25</a></span></span>  <span class=\"txtu\">Banda </span></div>"
      ],
      "text/plain": [
       "<IPython.core.display.HTML object>"
      ]
     },
     "metadata": {},
     "output_type": "display_data"
    },
    {
     "data": {
      "text/html": [
       "<div class=\"\"><span class=\"tfsechead \"><span class=\"ltr\"><a target=\"_blank\" href=\"http://resources.huygens.knaw.nl/retroboeken/generalemissiven/#page=228&amp;source=11\" title=\"Show this document on Huygens\" sec=\"11 217:25\">11 217:25</a></span></span>  <span class=\"txtu\">Banda </span><span class=\"txtu\">heeft </span><span class=\"txtu\">een </span><span class=\"txtu\">groot </span><span class=\"txtu\">tekort </span><span class=\"txtu\">aan </span><span class=\"txtu\">rijst </span><span class=\"txtu\">gehad </span><span class=\"txtu\">door </span><span class=\"txtu\">een </span><span class=\"txtu\">fout </span><span class=\"txtu\">bij </span><span class=\"txtu\">het </span><span class=\"txtu\">berekenen </span><span class=\"txtu\">van </span><span class=\"txtu\">het </span></div>"
      ],
      "text/plain": [
       "<IPython.core.display.HTML object>"
      ]
     },
     "metadata": {},
     "output_type": "display_data"
    },
    {
     "name": "stdout",
     "output_type": "stream",
     "text": [
      "Overlap 124: Banda - Batavia "
     ]
    },
    {
     "data": {
      "text/html": [
       "<div class=\"\"><span class=\"tfsechead \"><span class=\"ltr\"><a target=\"_blank\" href=\"http://resources.huygens.knaw.nl/retroboeken/generalemissiven/#page=235&amp;source=11\" title=\"Show this document on Huygens\" sec=\"11 224:1\">11 224:1</a></span></span>  <span class=\"txtu \"><span class=\"structure\"><span class=\"nd\">volume</span> 11, <span class=\"nd\">letter</span> Van Imhoff, Pasques de Chavonnes, Crul, Nolthenius, Van Aerden, Cluysenaar, Overbeek, Van den Bosch, Schuylenburg, Mossel, Van Broyel; Batavia, 12 november 1745</span></span></div>"
      ],
      "text/plain": [
       "<IPython.core.display.HTML object>"
      ]
     },
     "metadata": {},
     "output_type": "display_data"
    },
    {
     "data": {
      "text/html": [
       "<div class=\"\"><span class=\"tfsechead \"><span class=\"ltr\"><a target=\"_blank\" href=\"http://resources.huygens.knaw.nl/retroboeken/generalemissiven/#page=235&amp;source=11\" title=\"Show this document on Huygens\" sec=\"11 224:17\">11 224:17</a></span></span>  <span class=\"txtu\">Banda </span></div>"
      ],
      "text/plain": [
       "<IPython.core.display.HTML object>"
      ]
     },
     "metadata": {},
     "output_type": "display_data"
    },
    {
     "data": {
      "text/html": [
       "<div class=\"\"><span class=\"tfsechead \"><span class=\"ltr\"><a target=\"_blank\" href=\"http://resources.huygens.knaw.nl/retroboeken/generalemissiven/#page=235&amp;source=11\" title=\"Show this document on Huygens\" sec=\"11 224:17\">11 224:17</a></span></span>  <span class=\"txtu\">de </span><span class=\"txtu\">beloofde </span><span class=\"txtu\">twee </span><span class=\"txtu\">fluiten </span><span class=\"txtu\">en </span><span class=\"txtu\">twee </span><span class=\"txtu\">barken. </span><span class=\"txtu\">De </span><span class=\"txtu\">Parel </span><span class=\"txtu\">is </span><span class=\"txtu\">van </span><span class=\"txtu\">Banda </span><span class=\"txtu\">en </span><span class=\"txtu\">de </span><span class=\"txtu\">Loverendaal </span><span class=\"txtu\">van </span><span class=\"txtu\">Ternate </span></div>"
      ],
      "text/plain": [
       "<IPython.core.display.HTML object>"
      ]
     },
     "metadata": {},
     "output_type": "display_data"
    },
    {
     "data": {
      "text/html": [
       "<div class=\"\"><span class=\"tfsechead \"><span class=\"ltr\"><a target=\"_blank\" href=\"http://resources.huygens.knaw.nl/retroboeken/generalemissiven/#page=235&amp;source=11\" title=\"Show this document on Huygens\" sec=\"11 224:22\">11 224:22</a></span></span>  <span class=\"txtu\">Batavia </span></div>"
      ],
      "text/plain": [
       "<IPython.core.display.HTML object>"
      ]
     },
     "metadata": {},
     "output_type": "display_data"
    },
    {
     "data": {
      "text/html": [
       "<div class=\"\"><span class=\"tfsechead \"><span class=\"ltr\"><a target=\"_blank\" href=\"http://resources.huygens.knaw.nl/retroboeken/generalemissiven/#page=235&amp;source=11\" title=\"Show this document on Huygens\" sec=\"11 224:22\">11 224:22</a></span></span>  <span class=\"txtu\">najaar </span><span class=\"txtu\">van </span><span class=\"txtu\">1 </span><span class=\"txtu\">744 </span><span class=\"txtu\">hoopt </span><span class=\"txtu\">Batavia </span><span class=\"txtu\">te </span><span class=\"txtu\">kunnen </span><span class=\"txtu\">combineren </span><span class=\"txtu\">met </span><span class=\"txtu\">die </span><span class=\"txtu\">van </span><span class=\"txtu\">het </span><span class=\"txtu\">voorjaar </span><span class=\"txtu\">van </span><span class=\"txtu\">1 </span><span class=\"txtu\">745 </span></div>"
      ],
      "text/plain": [
       "<IPython.core.display.HTML object>"
      ]
     },
     "metadata": {},
     "output_type": "display_data"
    },
    {
     "name": "stdout",
     "output_type": "stream",
     "text": [
      "Overlap 125: Batavia - Banda "
     ]
    },
    {
     "data": {
      "text/html": [
       "<div class=\"\"><span class=\"tfsechead \"><span class=\"ltr\"><a target=\"_blank\" href=\"http://resources.huygens.knaw.nl/retroboeken/generalemissiven/#page=619&amp;source=11\" title=\"Show this document on Huygens\" sec=\"11 608:1\">11 608:1</a></span></span>  <span class=\"txtu \"><span class=\"structure\"><span class=\"nd\">volume</span> 11, <span class=\"nd\">letter</span> Van Imhoff, Cluysenaar, Overbeek, Van den Bosch, Van Broyel, Verijssel; Batavia, 30 maart 1748</span></span></div>"
      ],
      "text/plain": [
       "<IPython.core.display.HTML object>"
      ]
     },
     "metadata": {},
     "output_type": "display_data"
    },
    {
     "data": {
      "text/html": [
       "<div class=\"\"><span class=\"tfsechead \"><span class=\"ltr\"><a target=\"_blank\" href=\"http://resources.huygens.knaw.nl/retroboeken/generalemissiven/#page=619&amp;source=11\" title=\"Show this document on Huygens\" sec=\"11 608:21\">11 608:21</a></span></span>  <span class=\"txtu\">Batavia </span></div>"
      ],
      "text/plain": [
       "<IPython.core.display.HTML object>"
      ]
     },
     "metadata": {},
     "output_type": "display_data"
    },
    {
     "data": {
      "text/html": [
       "<div class=\"\"><span class=\"tfsechead \"><span class=\"ltr\"><a target=\"_blank\" href=\"http://resources.huygens.knaw.nl/retroboeken/generalemissiven/#page=619&amp;source=11\" title=\"Show this document on Huygens\" sec=\"11 608:21\">11 608:21</a></span></span>  <span class=\"txtu\">de </span><span class=\"txtu\">rede </span><span class=\"txtu\">van </span><span class=\"txtu\">Batavia </span><span class=\"txtu\">verlaten. </span></div>"
      ],
      "text/plain": [
       "<IPython.core.display.HTML object>"
      ]
     },
     "metadata": {},
     "output_type": "display_data"
    },
    {
     "data": {
      "text/html": [
       "<div class=\"\"><span class=\"tfsechead \"><span class=\"ltr\"><a target=\"_blank\" href=\"http://resources.huygens.knaw.nl/retroboeken/generalemissiven/#page=619&amp;source=11\" title=\"Show this document on Huygens\" sec=\"11 608:22\">11 608:22</a></span></span>  <span class=\"txtu\">Banda </span></div>"
      ],
      "text/plain": [
       "<IPython.core.display.HTML object>"
      ]
     },
     "metadata": {},
     "output_type": "display_data"
    },
    {
     "data": {
      "text/html": [
       "<div class=\"\"><span class=\"tfsechead \"><span class=\"ltr\"><a target=\"_blank\" href=\"http://resources.huygens.knaw.nl/retroboeken/generalemissiven/#page=619&amp;source=11\" title=\"Show this document on Huygens\" sec=\"11 608:22\">11 608:22</a></span></span>  <span class=\"txtu\">Banda </span></div>"
      ],
      "text/plain": [
       "<IPython.core.display.HTML object>"
      ]
     },
     "metadata": {},
     "output_type": "display_data"
    },
    {
     "name": "stdout",
     "output_type": "stream",
     "text": [
      "Overlap 126: Batavia - Banda "
     ]
    },
    {
     "data": {
      "text/html": [
       "<div class=\"\"><span class=\"tfsechead \"><span class=\"ltr\"><a target=\"_blank\" href=\"http://resources.huygens.knaw.nl/retroboeken/generalemissiven/#page=619&amp;source=11\" title=\"Show this document on Huygens\" sec=\"11 608:1\">11 608:1</a></span></span>  <span class=\"txtu \"><span class=\"structure\"><span class=\"nd\">volume</span> 11, <span class=\"nd\">letter</span> Van Imhoff, Cluysenaar, Overbeek, Van den Bosch, Van Broyel, Verijssel; Batavia, 30 maart 1748</span></span></div>"
      ],
      "text/plain": [
       "<IPython.core.display.HTML object>"
      ]
     },
     "metadata": {},
     "output_type": "display_data"
    },
    {
     "data": {
      "text/html": [
       "<div class=\"\"><span class=\"tfsechead \"><span class=\"ltr\"><a target=\"_blank\" href=\"http://resources.huygens.knaw.nl/retroboeken/generalemissiven/#page=619&amp;source=11\" title=\"Show this document on Huygens\" sec=\"11 608:21\">11 608:21</a></span></span>  <span class=\"txtu\">Batavia </span></div>"
      ],
      "text/plain": [
       "<IPython.core.display.HTML object>"
      ]
     },
     "metadata": {},
     "output_type": "display_data"
    },
    {
     "data": {
      "text/html": [
       "<div class=\"\"><span class=\"tfsechead \"><span class=\"ltr\"><a target=\"_blank\" href=\"http://resources.huygens.knaw.nl/retroboeken/generalemissiven/#page=619&amp;source=11\" title=\"Show this document on Huygens\" sec=\"11 608:21\">11 608:21</a></span></span>  <span class=\"txtu\">de </span><span class=\"txtu\">rede </span><span class=\"txtu\">van </span><span class=\"txtu\">Batavia </span><span class=\"txtu\">verlaten. </span></div>"
      ],
      "text/plain": [
       "<IPython.core.display.HTML object>"
      ]
     },
     "metadata": {},
     "output_type": "display_data"
    },
    {
     "data": {
      "text/html": [
       "<div class=\"\"><span class=\"tfsechead \"><span class=\"ltr\"><a target=\"_blank\" href=\"http://resources.huygens.knaw.nl/retroboeken/generalemissiven/#page=619&amp;source=11\" title=\"Show this document on Huygens\" sec=\"11 608:25\">11 608:25</a></span></span>  <span class=\"txtu\">Banda </span></div>"
      ],
      "text/plain": [
       "<IPython.core.display.HTML object>"
      ]
     },
     "metadata": {},
     "output_type": "display_data"
    },
    {
     "data": {
      "text/html": [
       "<div class=\"\"><span class=\"tfsechead \"><span class=\"ltr\"><a target=\"_blank\" href=\"http://resources.huygens.knaw.nl/retroboeken/generalemissiven/#page=619&amp;source=11\" title=\"Show this document on Huygens\" sec=\"11 608:25\">11 608:25</a></span></span>  <span class=\"txtu\">naar </span><span class=\"txtu\">Banda </span><span class=\"txtu\">gestuurd. </span><span class=\"txtu\">Geen </span><span class=\"txtu\">van </span><span class=\"txtu\">de </span><span class=\"txtu\">Oosterkwartieren </span><span class=\"txtu\">heeft </span><span class=\"txtu\">soldaten </span><span class=\"txtu\">gekregen </span><span class=\"txtu\">omdat </span></div>"
      ],
      "text/plain": [
       "<IPython.core.display.HTML object>"
      ]
     },
     "metadata": {},
     "output_type": "display_data"
    },
    {
     "name": "stdout",
     "output_type": "stream",
     "text": [
      "Overlap 127: Banda - Batavia "
     ]
    },
    {
     "data": {
      "text/html": [
       "<div class=\"\"><span class=\"tfsechead \"><span class=\"ltr\"><a target=\"_blank\" href=\"http://resources.huygens.knaw.nl/retroboeken/generalemissiven/#page=619&amp;source=11\" title=\"Show this document on Huygens\" sec=\"11 608:1\">11 608:1</a></span></span>  <span class=\"txtu \"><span class=\"structure\"><span class=\"nd\">volume</span> 11, <span class=\"nd\">letter</span> Van Imhoff, Cluysenaar, Overbeek, Van den Bosch, Van Broyel, Verijssel; Batavia, 30 maart 1748</span></span></div>"
      ],
      "text/plain": [
       "<IPython.core.display.HTML object>"
      ]
     },
     "metadata": {},
     "output_type": "display_data"
    },
    {
     "data": {
      "text/html": [
       "<div class=\"\"><span class=\"tfsechead \"><span class=\"ltr\"><a target=\"_blank\" href=\"http://resources.huygens.knaw.nl/retroboeken/generalemissiven/#page=619&amp;source=11\" title=\"Show this document on Huygens\" sec=\"11 608:22\">11 608:22</a></span></span>  <span class=\"txtu\">Banda </span></div>"
      ],
      "text/plain": [
       "<IPython.core.display.HTML object>"
      ]
     },
     "metadata": {},
     "output_type": "display_data"
    },
    {
     "data": {
      "text/html": [
       "<div class=\"\"><span class=\"tfsechead \"><span class=\"ltr\"><a target=\"_blank\" href=\"http://resources.huygens.knaw.nl/retroboeken/generalemissiven/#page=619&amp;source=11\" title=\"Show this document on Huygens\" sec=\"11 608:22\">11 608:22</a></span></span>  <span class=\"txtu\">Banda </span></div>"
      ],
      "text/plain": [
       "<IPython.core.display.HTML object>"
      ]
     },
     "metadata": {},
     "output_type": "display_data"
    },
    {
     "data": {
      "text/html": [
       "<div class=\"\"><span class=\"tfsechead \"><span class=\"ltr\"><a target=\"_blank\" href=\"http://resources.huygens.knaw.nl/retroboeken/generalemissiven/#page=619&amp;source=11\" title=\"Show this document on Huygens\" sec=\"11 608:26\">11 608:26</a></span></span>  <span class=\"txtu\">Batavia </span></div>"
      ],
      "text/plain": [
       "<IPython.core.display.HTML object>"
      ]
     },
     "metadata": {},
     "output_type": "display_data"
    },
    {
     "data": {
      "text/html": [
       "<div class=\"\"><span class=\"tfsechead \"><span class=\"ltr\"><a target=\"_blank\" href=\"http://resources.huygens.knaw.nl/retroboeken/generalemissiven/#page=619&amp;source=11\" title=\"Show this document on Huygens\" sec=\"11 608:26\">11 608:26</a></span></span>  <span class=\"txtu\">het </span><span class=\"txtu\">garnizoen </span><span class=\"txtu\">van </span><span class=\"txtu\">Batavia </span><span class=\"txtu\">zwaar </span><span class=\"txtu\">onderbezet </span><span class=\"txtu\">is. </span><span class=\"txtu\">In </span><span class=\"txtu\">februari </span><span class=\"txtu\">is </span><span class=\"txtu\">Batavia </span><span class=\"txtu\">er </span><span class=\"txtu\">nauwelijks </span><span class=\"txtu\">in </span><span class=\"txtu\">geslaagd </span></div>"
      ],
      "text/plain": [
       "<IPython.core.display.HTML object>"
      ]
     },
     "metadata": {},
     "output_type": "display_data"
    },
    {
     "name": "stdout",
     "output_type": "stream",
     "text": [
      "Overlap 128: Banda - Batavia "
     ]
    },
    {
     "data": {
      "text/html": [
       "<div class=\"\"><span class=\"tfsechead \"><span class=\"ltr\"><a target=\"_blank\" href=\"http://resources.huygens.knaw.nl/retroboeken/generalemissiven/#page=619&amp;source=11\" title=\"Show this document on Huygens\" sec=\"11 608:1\">11 608:1</a></span></span>  <span class=\"txtu \"><span class=\"structure\"><span class=\"nd\">volume</span> 11, <span class=\"nd\">letter</span> Van Imhoff, Cluysenaar, Overbeek, Van den Bosch, Van Broyel, Verijssel; Batavia, 30 maart 1748</span></span></div>"
      ],
      "text/plain": [
       "<IPython.core.display.HTML object>"
      ]
     },
     "metadata": {},
     "output_type": "display_data"
    },
    {
     "data": {
      "text/html": [
       "<div class=\"\"><span class=\"tfsechead \"><span class=\"ltr\"><a target=\"_blank\" href=\"http://resources.huygens.knaw.nl/retroboeken/generalemissiven/#page=619&amp;source=11\" title=\"Show this document on Huygens\" sec=\"11 608:25\">11 608:25</a></span></span>  <span class=\"txtu\">Banda </span></div>"
      ],
      "text/plain": [
       "<IPython.core.display.HTML object>"
      ]
     },
     "metadata": {},
     "output_type": "display_data"
    },
    {
     "data": {
      "text/html": [
       "<div class=\"\"><span class=\"tfsechead \"><span class=\"ltr\"><a target=\"_blank\" href=\"http://resources.huygens.knaw.nl/retroboeken/generalemissiven/#page=619&amp;source=11\" title=\"Show this document on Huygens\" sec=\"11 608:25\">11 608:25</a></span></span>  <span class=\"txtu\">naar </span><span class=\"txtu\">Banda </span><span class=\"txtu\">gestuurd. </span><span class=\"txtu\">Geen </span><span class=\"txtu\">van </span><span class=\"txtu\">de </span><span class=\"txtu\">Oosterkwartieren </span><span class=\"txtu\">heeft </span><span class=\"txtu\">soldaten </span><span class=\"txtu\">gekregen </span><span class=\"txtu\">omdat </span></div>"
      ],
      "text/plain": [
       "<IPython.core.display.HTML object>"
      ]
     },
     "metadata": {},
     "output_type": "display_data"
    },
    {
     "data": {
      "text/html": [
       "<div class=\"\"><span class=\"tfsechead \"><span class=\"ltr\"><a target=\"_blank\" href=\"http://resources.huygens.knaw.nl/retroboeken/generalemissiven/#page=619&amp;source=11\" title=\"Show this document on Huygens\" sec=\"11 608:26\">11 608:26</a></span></span>  <span class=\"txtu\">Batavia </span></div>"
      ],
      "text/plain": [
       "<IPython.core.display.HTML object>"
      ]
     },
     "metadata": {},
     "output_type": "display_data"
    },
    {
     "data": {
      "text/html": [
       "<div class=\"\"><span class=\"tfsechead \"><span class=\"ltr\"><a target=\"_blank\" href=\"http://resources.huygens.knaw.nl/retroboeken/generalemissiven/#page=619&amp;source=11\" title=\"Show this document on Huygens\" sec=\"11 608:26\">11 608:26</a></span></span>  <span class=\"txtu\">het </span><span class=\"txtu\">garnizoen </span><span class=\"txtu\">van </span><span class=\"txtu\">Batavia </span><span class=\"txtu\">zwaar </span><span class=\"txtu\">onderbezet </span><span class=\"txtu\">is. </span><span class=\"txtu\">In </span><span class=\"txtu\">februari </span><span class=\"txtu\">is </span><span class=\"txtu\">Batavia </span><span class=\"txtu\">er </span><span class=\"txtu\">nauwelijks </span><span class=\"txtu\">in </span><span class=\"txtu\">geslaagd </span></div>"
      ],
      "text/plain": [
       "<IPython.core.display.HTML object>"
      ]
     },
     "metadata": {},
     "output_type": "display_data"
    },
    {
     "name": "stdout",
     "output_type": "stream",
     "text": [
      "Overlap 129: Batavia - Banda "
     ]
    },
    {
     "data": {
      "text/html": [
       "<div class=\"\"><span class=\"tfsechead \"><span class=\"ltr\"><a target=\"_blank\" href=\"http://resources.huygens.knaw.nl/retroboeken/generalemissiven/#page=746&amp;source=11\" title=\"Show this document on Huygens\" sec=\"11 735:1\">11 735:1</a></span></span>  <span class=\"txtu \"><span class=\"structure\"><span class=\"nd\">volume</span> 11, <span class=\"nd\">letter</span> Van Imhoff, Cluysenaar, Overbeek, Van den Bosch, Mossel, Van Broyel, Verijssel, Van der Waeyen, Van der Parra, Mersen; Batavia, 30 april 1749</span></span></div>"
      ],
      "text/plain": [
       "<IPython.core.display.HTML object>"
      ]
     },
     "metadata": {},
     "output_type": "display_data"
    },
    {
     "data": {
      "text/html": [
       "<div class=\"\"><span class=\"tfsechead \"><span class=\"ltr\"><a target=\"_blank\" href=\"http://resources.huygens.knaw.nl/retroboeken/generalemissiven/#page=746&amp;source=11\" title=\"Show this document on Huygens\" sec=\"11 735:12\">11 735:12</a></span></span>  <span class=\"txtu\">Batavia </span></div>"
      ],
      "text/plain": [
       "<IPython.core.display.HTML object>"
      ]
     },
     "metadata": {},
     "output_type": "display_data"
    },
    {
     "data": {
      "text/html": [
       "<div class=\"\"><span class=\"tfsechead \"><span class=\"ltr\"><a target=\"_blank\" href=\"http://resources.huygens.knaw.nl/retroboeken/generalemissiven/#page=746&amp;source=11\" title=\"Show this document on Huygens\" sec=\"11 735:12\">11 735:12</a></span></span>  <span class=\"txtu\">en </span><span class=\"txtu\">de </span><span class=\"txtu\">pantjalang </span><span class=\"txtu\">Buitel </span><span class=\"txtu\">uit </span><span class=\"txtu\">Batavia </span><span class=\"txtu\">vertrokken </span><span class=\"txtu\">om </span><span class=\"txtu\">in </span><span class=\"txtu\">Amboina </span><span class=\"txtu\">dienst </span><span class=\"txtu\">te </span><span class=\"txtu\">doen, </span><span class=\"txtu\">gevolgd </span><span class=\"txtu\">door </span></div>"
      ],
      "text/plain": [
       "<IPython.core.display.HTML object>"
      ]
     },
     "metadata": {},
     "output_type": "display_data"
    },
    {
     "data": {
      "text/html": [
       "<div class=\"\"><span class=\"tfsechead \"><span class=\"ltr\"><a target=\"_blank\" href=\"http://resources.huygens.knaw.nl/retroboeken/generalemissiven/#page=746&amp;source=11\" title=\"Show this document on Huygens\" sec=\"11 735:16\">11 735:16</a></span></span>  <span class=\"txtu\">Banda </span></div>"
      ],
      "text/plain": [
       "<IPython.core.display.HTML object>"
      ]
     },
     "metadata": {},
     "output_type": "display_data"
    },
    {
     "data": {
      "text/html": [
       "<div class=\"\"><span class=\"tfsechead \"><span class=\"ltr\"><a target=\"_blank\" href=\"http://resources.huygens.knaw.nl/retroboeken/generalemissiven/#page=746&amp;source=11\" title=\"Show this document on Huygens\" sec=\"11 735:16\">11 735:16</a></span></span>  <span class=\"txtu\">Banda </span></div>"
      ],
      "text/plain": [
       "<IPython.core.display.HTML object>"
      ]
     },
     "metadata": {},
     "output_type": "display_data"
    },
    {
     "name": "stdout",
     "output_type": "stream",
     "text": [
      "Overlap 130: Batavia - Banda "
     ]
    },
    {
     "data": {
      "text/html": [
       "<div class=\"\"><span class=\"tfsechead \"><span class=\"ltr\"><a target=\"_blank\" href=\"http://resources.huygens.knaw.nl/retroboeken/generalemissiven/#page=746&amp;source=11\" title=\"Show this document on Huygens\" sec=\"11 735:1\">11 735:1</a></span></span>  <span class=\"txtu \"><span class=\"structure\"><span class=\"nd\">volume</span> 11, <span class=\"nd\">letter</span> Van Imhoff, Cluysenaar, Overbeek, Van den Bosch, Mossel, Van Broyel, Verijssel, Van der Waeyen, Van der Parra, Mersen; Batavia, 30 april 1749</span></span></div>"
      ],
      "text/plain": [
       "<IPython.core.display.HTML object>"
      ]
     },
     "metadata": {},
     "output_type": "display_data"
    },
    {
     "data": {
      "text/html": [
       "<div class=\"\"><span class=\"tfsechead \"><span class=\"ltr\"><a target=\"_blank\" href=\"http://resources.huygens.knaw.nl/retroboeken/generalemissiven/#page=746&amp;source=11\" title=\"Show this document on Huygens\" sec=\"11 735:12\">11 735:12</a></span></span>  <span class=\"txtu\">Batavia </span></div>"
      ],
      "text/plain": [
       "<IPython.core.display.HTML object>"
      ]
     },
     "metadata": {},
     "output_type": "display_data"
    },
    {
     "data": {
      "text/html": [
       "<div class=\"\"><span class=\"tfsechead \"><span class=\"ltr\"><a target=\"_blank\" href=\"http://resources.huygens.knaw.nl/retroboeken/generalemissiven/#page=746&amp;source=11\" title=\"Show this document on Huygens\" sec=\"11 735:12\">11 735:12</a></span></span>  <span class=\"txtu\">en </span><span class=\"txtu\">de </span><span class=\"txtu\">pantjalang </span><span class=\"txtu\">Buitel </span><span class=\"txtu\">uit </span><span class=\"txtu\">Batavia </span><span class=\"txtu\">vertrokken </span><span class=\"txtu\">om </span><span class=\"txtu\">in </span><span class=\"txtu\">Amboina </span><span class=\"txtu\">dienst </span><span class=\"txtu\">te </span><span class=\"txtu\">doen, </span><span class=\"txtu\">gevolgd </span><span class=\"txtu\">door </span></div>"
      ],
      "text/plain": [
       "<IPython.core.display.HTML object>"
      ]
     },
     "metadata": {},
     "output_type": "display_data"
    },
    {
     "data": {
      "text/html": [
       "<div class=\"\"><span class=\"tfsechead \"><span class=\"ltr\"><a target=\"_blank\" href=\"http://resources.huygens.knaw.nl/retroboeken/generalemissiven/#page=746&amp;source=11\" title=\"Show this document on Huygens\" sec=\"11 735:17\">11 735:17</a></span></span>  <span class=\"txtu\">Banda </span></div>"
      ],
      "text/plain": [
       "<IPython.core.display.HTML object>"
      ]
     },
     "metadata": {},
     "output_type": "display_data"
    },
    {
     "data": {
      "text/html": [
       "<div class=\"\"><span class=\"tfsechead \"><span class=\"ltr\"><a target=\"_blank\" href=\"http://resources.huygens.knaw.nl/retroboeken/generalemissiven/#page=746&amp;source=11\" title=\"Show this document on Huygens\" sec=\"11 735:17\">11 735:17</a></span></span>  <span class=\"txtu\">Banda </span><span class=\"txtu\">heeft </span><span class=\"txtu\">in </span><span class=\"txtu\">selver </span><span class=\"txtu\">voegen </span><span class=\"txtu\">met </span><span class=\"txtu\">het </span><span class=\"txtu\">over </span><span class=\"txtu\">Macassar </span><span class=\"txtu\">derwaarts </span><span class=\"txtu\">gesondene </span><span class=\"txtu\">schip </span></div>"
      ],
      "text/plain": [
       "<IPython.core.display.HTML object>"
      ]
     },
     "metadata": {},
     "output_type": "display_data"
    },
    {
     "name": "stdout",
     "output_type": "stream",
     "text": [
      "Overlap 131: Batavia - Banda "
     ]
    },
    {
     "data": {
      "text/html": [
       "<div class=\"\"><span class=\"tfsechead \"><span class=\"ltr\"><a target=\"_blank\" href=\"http://resources.huygens.knaw.nl/retroboeken/generalemissiven/#page=765&amp;source=11\" title=\"Show this document on Huygens\" sec=\"11 754:1\">11 754:1</a></span></span>  <span class=\"txtu \"><span class=\"structure\"><span class=\"nd\">volume</span> 11, <span class=\"nd\">letter</span> Van Imhoff, Cluysenaar, Overbeek, Van den Bosch, Mossel, Van Broyel, Verijssel, Van der Waeyen, Van der Parra, Mersen; Batavia, 17 oktober 1749</span></span></div>"
      ],
      "text/plain": [
       "<IPython.core.display.HTML object>"
      ]
     },
     "metadata": {},
     "output_type": "display_data"
    },
    {
     "data": {
      "text/html": [
       "<div class=\"\"><span class=\"tfsechead \"><span class=\"ltr\"><a target=\"_blank\" href=\"http://resources.huygens.knaw.nl/retroboeken/generalemissiven/#page=765&amp;source=11\" title=\"Show this document on Huygens\" sec=\"11 754:7\">11 754:7</a></span></span>  <span class=\"txtu\">Batavia </span></div>"
      ],
      "text/plain": [
       "<IPython.core.display.HTML object>"
      ]
     },
     "metadata": {},
     "output_type": "display_data"
    },
    {
     "data": {
      "text/html": [
       "<div class=\"\"><span class=\"tfsechead \"><span class=\"ltr\"><a target=\"_blank\" href=\"http://resources.huygens.knaw.nl/retroboeken/generalemissiven/#page=765&amp;source=11\" title=\"Show this document on Huygens\" sec=\"11 754:7\">11 754:7</a></span></span>  <span class=\"txtu\">Batavia </span><span class=\"txtu\">beantwoordt </span><span class=\"txtu\">in </span><span class=\"txtu\">deze </span><span class=\"txtu\">missive </span><span class=\"txtu\">de </span><span class=\"txtu\">brieven </span><span class=\"txtu\">van </span><span class=\"txtu\">Heren </span><span class=\"txtu\">XVII </span><span class=\"txtu\">van </span><span class=\"txtu\">14 </span><span class=\"txtu\">september </span></div>"
      ],
      "text/plain": [
       "<IPython.core.display.HTML object>"
      ]
     },
     "metadata": {},
     "output_type": "display_data"
    },
    {
     "data": {
      "text/html": [
       "<div class=\"\"><span class=\"tfsechead \"><span class=\"ltr\"><a target=\"_blank\" href=\"http://resources.huygens.knaw.nl/retroboeken/generalemissiven/#page=765&amp;source=11\" title=\"Show this document on Huygens\" sec=\"11 754:21\">11 754:21</a></span></span>  <span class=\"txtu\">Banda </span></div>"
      ],
      "text/plain": [
       "<IPython.core.display.HTML object>"
      ]
     },
     "metadata": {},
     "output_type": "display_data"
    },
    {
     "data": {
      "text/html": [
       "<div class=\"\"><span class=\"tfsechead \"><span class=\"ltr\"><a target=\"_blank\" href=\"http://resources.huygens.knaw.nl/retroboeken/generalemissiven/#page=765&amp;source=11\" title=\"Show this document on Huygens\" sec=\"11 754:21\">11 754:21</a></span></span>  <span class=\"txtu\">niet </span><span class=\"txtu\">wat </span><span class=\"txtu\">dese </span><span class=\"txtu\">provintie </span><span class=\"txtu\">en </span><span class=\"txtu\">het </span><span class=\"txtu\">nabuurige </span><span class=\"txtu\">Banda </span><span class=\"txtu\">aanbelangt, </span><span class=\"txtu\">daar </span><span class=\"txtu\">de </span><span class=\"txtu\">Compagnie </span><span class=\"txtu\">meester </span></div>"
      ],
      "text/plain": [
       "<IPython.core.display.HTML object>"
      ]
     },
     "metadata": {},
     "output_type": "display_data"
    },
    {
     "name": "stdout",
     "output_type": "stream",
     "text": [
      "Overlap 132: Batavia - Banda "
     ]
    },
    {
     "data": {
      "text/html": [
       "<div class=\"\"><span class=\"tfsechead \"><span class=\"ltr\"><a target=\"_blank\" href=\"http://resources.huygens.knaw.nl/retroboeken/generalemissiven/#page=765&amp;source=11\" title=\"Show this document on Huygens\" sec=\"11 754:1\">11 754:1</a></span></span>  <span class=\"txtu \"><span class=\"structure\"><span class=\"nd\">volume</span> 11, <span class=\"nd\">letter</span> Van Imhoff, Cluysenaar, Overbeek, Van den Bosch, Mossel, Van Broyel, Verijssel, Van der Waeyen, Van der Parra, Mersen; Batavia, 17 oktober 1749</span></span></div>"
      ],
      "text/plain": [
       "<IPython.core.display.HTML object>"
      ]
     },
     "metadata": {},
     "output_type": "display_data"
    },
    {
     "data": {
      "text/html": [
       "<div class=\"\"><span class=\"tfsechead \"><span class=\"ltr\"><a target=\"_blank\" href=\"http://resources.huygens.knaw.nl/retroboeken/generalemissiven/#page=765&amp;source=11\" title=\"Show this document on Huygens\" sec=\"11 754:11\">11 754:11</a></span></span>  <span class=\"txtu\">Batavia </span></div>"
      ],
      "text/plain": [
       "<IPython.core.display.HTML object>"
      ]
     },
     "metadata": {},
     "output_type": "display_data"
    },
    {
     "data": {
      "text/html": [
       "<div class=\"\"><span class=\"tfsechead \"><span class=\"ltr\"><a target=\"_blank\" href=\"http://resources.huygens.knaw.nl/retroboeken/generalemissiven/#page=765&amp;source=11\" title=\"Show this document on Huygens\" sec=\"11 754:11\">11 754:11</a></span></span>  <span class=\"txtu\">in </span><span class=\"txtu\">de </span><span class=\"txtu\">Oosterkwartieren. </span><span class=\"txtu\">Alles </span><span class=\"txtu\">wat </span><span class=\"txtu\">volgens </span><span class=\"txtu\">Batavia </span><span class=\"txtu\">hierover </span><span class=\"txtu\">te </span><span class=\"txtu\">zeggen </span><span class=\"txtu\">is </span><span class=\"txtu\">staat </span><span class=\"txtu\">in </span><span class=\"txtu\">de </span><span class=\"txtu\">brieven </span></div>"
      ],
      "text/plain": [
       "<IPython.core.display.HTML object>"
      ]
     },
     "metadata": {},
     "output_type": "display_data"
    },
    {
     "data": {
      "text/html": [
       "<div class=\"\"><span class=\"tfsechead \"><span class=\"ltr\"><a target=\"_blank\" href=\"http://resources.huygens.knaw.nl/retroboeken/generalemissiven/#page=765&amp;source=11\" title=\"Show this document on Huygens\" sec=\"11 754:21\">11 754:21</a></span></span>  <span class=\"txtu\">Banda </span></div>"
      ],
      "text/plain": [
       "<IPython.core.display.HTML object>"
      ]
     },
     "metadata": {},
     "output_type": "display_data"
    },
    {
     "data": {
      "text/html": [
       "<div class=\"\"><span class=\"tfsechead \"><span class=\"ltr\"><a target=\"_blank\" href=\"http://resources.huygens.knaw.nl/retroboeken/generalemissiven/#page=765&amp;source=11\" title=\"Show this document on Huygens\" sec=\"11 754:21\">11 754:21</a></span></span>  <span class=\"txtu\">niet </span><span class=\"txtu\">wat </span><span class=\"txtu\">dese </span><span class=\"txtu\">provintie </span><span class=\"txtu\">en </span><span class=\"txtu\">het </span><span class=\"txtu\">nabuurige </span><span class=\"txtu\">Banda </span><span class=\"txtu\">aanbelangt, </span><span class=\"txtu\">daar </span><span class=\"txtu\">de </span><span class=\"txtu\">Compagnie </span><span class=\"txtu\">meester </span></div>"
      ],
      "text/plain": [
       "<IPython.core.display.HTML object>"
      ]
     },
     "metadata": {},
     "output_type": "display_data"
    },
    {
     "name": "stdout",
     "output_type": "stream",
     "text": [
      "Overlap 133: Batavia - Banda, "
     ]
    },
    {
     "data": {
      "text/html": [
       "<div class=\"\"><span class=\"tfsechead \"><span class=\"ltr\"><a target=\"_blank\" href=\"http://resources.huygens.knaw.nl/retroboeken/generalemissiven/#page=869&amp;source=11\" title=\"Show this document on Huygens\" sec=\"11 858:1\">11 858:1</a></span></span>  <span class=\"txtu \"><span class=\"structure\"><span class=\"nd\">volume</span> 11, <span class=\"nd\">letter</span> Van Imhoff, Cluysenaar, Overbeek, Van Broyel, Van der Waeyen, Van der Parra, Van der Spar, Huyghens; Batavia, 4 september 1750</span></span></div>"
      ],
      "text/plain": [
       "<IPython.core.display.HTML object>"
      ]
     },
     "metadata": {},
     "output_type": "display_data"
    },
    {
     "data": {
      "text/html": [
       "<div class=\"\"><span class=\"tfsechead \"><span class=\"ltr\"><a target=\"_blank\" href=\"http://resources.huygens.knaw.nl/retroboeken/generalemissiven/#page=869&amp;source=11\" title=\"Show this document on Huygens\" sec=\"11 858:8\">11 858:8</a></span></span>  <span class=\"txtu\">Batavia </span></div>"
      ],
      "text/plain": [
       "<IPython.core.display.HTML object>"
      ]
     },
     "metadata": {},
     "output_type": "display_data"
    },
    {
     "data": {
      "text/html": [
       "<div class=\"\"><span class=\"tfsechead \"><span class=\"ltr\"><a target=\"_blank\" href=\"http://resources.huygens.knaw.nl/retroboeken/generalemissiven/#page=869&amp;source=11\" title=\"Show this document on Huygens\" sec=\"11 858:8\">11 858:8</a></span></span>  <span class=\"txtu\">1749 </span><span class=\"txtu\">in </span><span class=\"txtu\">Batavia </span><span class=\"txtu\">aangekomen. </span><span class=\"txtu\">Men </span><span class=\"txtu\">heeft </span><span class=\"txtu\">daardoor </span><span class=\"txtu\">voor </span><span class=\"txtu\">het </span><span class=\"txtu\">eerst </span><span class=\"txtu\">in </span><span class=\"txtu\">zeven </span><span class=\"txtu\">jaar </span><span class=\"txtu\">alle </span><span class=\"txtu\">goederen </span></div>"
      ],
      "text/plain": [
       "<IPython.core.display.HTML object>"
      ]
     },
     "metadata": {},
     "output_type": "display_data"
    },
    {
     "data": {
      "text/html": [
       "<div class=\"\"><span class=\"tfsechead \"><span class=\"ltr\"><a target=\"_blank\" href=\"http://resources.huygens.knaw.nl/retroboeken/generalemissiven/#page=869&amp;source=11\" title=\"Show this document on Huygens\" sec=\"11 858:18\">11 858:18</a></span></span>  <span class=\"txtu\">Banda, </span></div>"
      ],
      "text/plain": [
       "<IPython.core.display.HTML object>"
      ]
     },
     "metadata": {},
     "output_type": "display_data"
    },
    {
     "data": {
      "text/html": [
       "<div class=\"\"><span class=\"tfsechead \"><span class=\"ltr\"><a target=\"_blank\" href=\"http://resources.huygens.knaw.nl/retroboeken/generalemissiven/#page=869&amp;source=11\" title=\"Show this document on Huygens\" sec=\"11 858:18\">11 858:18</a></span></span>  <span class=\"txtu\">en </span><span class=\"txtu\">’t </span><span class=\"txtu\">Huys </span><span class=\"txtu\">te </span><span class=\"txtu\">Foreest </span><span class=\"txtu\">van </span><span class=\"txtu\">Banda, </span><span class=\"txtu\">de </span><span class=\"txtu\">Anthonia </span><span class=\"txtu\">van </span><span class=\"txtu\">Ternate, </span><span class=\"txtu\">Bosbeek </span><span class=\"txtu\">en </span><span class=\"txtu\">Hartenlust </span></div>"
      ],
      "text/plain": [
       "<IPython.core.display.HTML object>"
      ]
     },
     "metadata": {},
     "output_type": "display_data"
    },
    {
     "name": "stdout",
     "output_type": "stream",
     "text": [
      "Overlap 134: Batavia - Banda "
     ]
    },
    {
     "data": {
      "text/html": [
       "<div class=\"\"><span class=\"tfsechead \"><span class=\"ltr\"><a target=\"_blank\" href=\"http://resources.huygens.knaw.nl/retroboeken/generalemissiven/#page=287&amp;source=12\" title=\"Show this document on Huygens\" sec=\"12 276:1\">12 276:1</a></span></span>  <span class=\"txtu \"><span class=\"structure\"><span class=\"nd\">volume</span> 12, <span class=\"nd\">letter</span> Mossel, Cluysenaar, Van Broyel, Van der Waeyen, Van der Parra, Van der Spar, Van Gollenesse, Van de Velde, Van Rheede, De Nijs, Van Bazel; Batavia, 31 december 1752</span></span></div>"
      ],
      "text/plain": [
       "<IPython.core.display.HTML object>"
      ]
     },
     "metadata": {},
     "output_type": "display_data"
    },
    {
     "data": {
      "text/html": [
       "<div class=\"\"><span class=\"tfsechead \"><span class=\"ltr\"><a target=\"_blank\" href=\"http://resources.huygens.knaw.nl/retroboeken/generalemissiven/#page=287&amp;source=12\" title=\"Show this document on Huygens\" sec=\"12 276:5\">12 276:5</a></span></span>  <span class=\"txtu\">Batavia </span></div>"
      ],
      "text/plain": [
       "<IPython.core.display.HTML object>"
      ]
     },
     "metadata": {},
     "output_type": "display_data"
    },
    {
     "data": {
      "text/html": [
       "<div class=\"\"><span class=\"tfsechead \"><span class=\"ltr\"><a target=\"_blank\" href=\"http://resources.huygens.knaw.nl/retroboeken/generalemissiven/#page=287&amp;source=12\" title=\"Show this document on Huygens\" sec=\"12 276:5\">12 276:5</a></span></span>  <span class=\"txtu\">Batavia </span><span class=\"txtu\">meldt </span><span class=\"txtu\">wat </span><span class=\"txtu\">men </span><span class=\"txtu\">sinds </span><span class=\"txtu\">de </span><span class=\"txtu\">laatste </span><span class=\"txtu\">brief </span><span class=\"txtu\">over </span><span class=\"txtu\">de </span><span class=\"txtu\">vijftigste </span><span class=\"txtu\">penning </span><span class=\"txtu\">van </span><span class=\"txtu\">10 </span><span class=\"txtu\">oktober </span></div>"
      ],
      "text/plain": [
       "<IPython.core.display.HTML object>"
      ]
     },
     "metadata": {},
     "output_type": "display_data"
    },
    {
     "data": {
      "text/html": [
       "<div class=\"\"><span class=\"tfsechead \"><span class=\"ltr\"><a target=\"_blank\" href=\"http://resources.huygens.knaw.nl/retroboeken/generalemissiven/#page=287&amp;source=12\" title=\"Show this document on Huygens\" sec=\"12 276:8\">12 276:8</a></span></span>  <span class=\"txtu\">Banda </span></div>"
      ],
      "text/plain": [
       "<IPython.core.display.HTML object>"
      ]
     },
     "metadata": {},
     "output_type": "display_data"
    },
    {
     "data": {
      "text/html": [
       "<div class=\"\"><span class=\"tfsechead \"><span class=\"ltr\"><a target=\"_blank\" href=\"http://resources.huygens.knaw.nl/retroboeken/generalemissiven/#page=287&amp;source=12\" title=\"Show this document on Huygens\" sec=\"12 276:8\">12 276:8</a></span></span>  <span class=\"txtu\">personeel </span><span class=\"txtu\">aan </span><span class=\"txtu\">zijn </span><span class=\"txtu\">verplichtingen </span><span class=\"txtu\">heeft </span><span class=\"txtu\">voldaan. </span><span class=\"txtu\">Van </span><span class=\"txtu\">Banda </span><span class=\"txtu\">heeft </span><span class=\"txtu\">men </span><span class=\"txtu\">een </span><span class=\"txtu\">brief </span><span class=\"txtu\">van </span><span class=\"txtu\">gouverneur </span></div>"
      ],
      "text/plain": [
       "<IPython.core.display.HTML object>"
      ]
     },
     "metadata": {},
     "output_type": "display_data"
    },
    {
     "name": "stdout",
     "output_type": "stream",
     "text": [
      "Overlap 135: Batavia - Bandase "
     ]
    },
    {
     "data": {
      "text/html": [
       "<div class=\"\"><span class=\"tfsechead \"><span class=\"ltr\"><a target=\"_blank\" href=\"http://resources.huygens.knaw.nl/retroboeken/generalemissiven/#page=287&amp;source=12\" title=\"Show this document on Huygens\" sec=\"12 276:1\">12 276:1</a></span></span>  <span class=\"txtu \"><span class=\"structure\"><span class=\"nd\">volume</span> 12, <span class=\"nd\">letter</span> Mossel, Cluysenaar, Van Broyel, Van der Waeyen, Van der Parra, Van der Spar, Van Gollenesse, Van de Velde, Van Rheede, De Nijs, Van Bazel; Batavia, 31 december 1752</span></span></div>"
      ],
      "text/plain": [
       "<IPython.core.display.HTML object>"
      ]
     },
     "metadata": {},
     "output_type": "display_data"
    },
    {
     "data": {
      "text/html": [
       "<div class=\"\"><span class=\"tfsechead \"><span class=\"ltr\"><a target=\"_blank\" href=\"http://resources.huygens.knaw.nl/retroboeken/generalemissiven/#page=287&amp;source=12\" title=\"Show this document on Huygens\" sec=\"12 276:5\">12 276:5</a></span></span>  <span class=\"txtu\">Batavia </span></div>"
      ],
      "text/plain": [
       "<IPython.core.display.HTML object>"
      ]
     },
     "metadata": {},
     "output_type": "display_data"
    },
    {
     "data": {
      "text/html": [
       "<div class=\"\"><span class=\"tfsechead \"><span class=\"ltr\"><a target=\"_blank\" href=\"http://resources.huygens.knaw.nl/retroboeken/generalemissiven/#page=287&amp;source=12\" title=\"Show this document on Huygens\" sec=\"12 276:5\">12 276:5</a></span></span>  <span class=\"txtu\">Batavia </span><span class=\"txtu\">meldt </span><span class=\"txtu\">wat </span><span class=\"txtu\">men </span><span class=\"txtu\">sinds </span><span class=\"txtu\">de </span><span class=\"txtu\">laatste </span><span class=\"txtu\">brief </span><span class=\"txtu\">over </span><span class=\"txtu\">de </span><span class=\"txtu\">vijftigste </span><span class=\"txtu\">penning </span><span class=\"txtu\">van </span><span class=\"txtu\">10 </span><span class=\"txtu\">oktober </span></div>"
      ],
      "text/plain": [
       "<IPython.core.display.HTML object>"
      ]
     },
     "metadata": {},
     "output_type": "display_data"
    },
    {
     "data": {
      "text/html": [
       "<div class=\"\"><span class=\"tfsechead \"><span class=\"ltr\"><a target=\"_blank\" href=\"http://resources.huygens.knaw.nl/retroboeken/generalemissiven/#page=287&amp;source=12\" title=\"Show this document on Huygens\" sec=\"12 276:13\">12 276:13</a></span></span>  <span class=\"txtu\">Bandase </span></div>"
      ],
      "text/plain": [
       "<IPython.core.display.HTML object>"
      ]
     },
     "metadata": {},
     "output_type": "display_data"
    },
    {
     "data": {
      "text/html": [
       "<div class=\"\"><span class=\"tfsechead \"><span class=\"ltr\"><a target=\"_blank\" href=\"http://resources.huygens.knaw.nl/retroboeken/generalemissiven/#page=287&amp;source=12\" title=\"Show this document on Huygens\" sec=\"12 276:13\">12 276:13</a></span></span>  <span class=\"txtu\">Eene </span><span class=\"txtu\">specificatie </span><span class=\"txtu\">van </span><span class=\"txtu\">hetgeene </span><span class=\"txtu\">door </span><span class=\"txtu\">de </span><span class=\"txtu\">Bandase </span><span class=\"txtu\">weeskamer </span><span class=\"txtu\">voor </span><span class=\"txtu\">reekening </span><span class=\"txtu\">van </span><span class=\"txtu\">haare </span></div>"
      ],
      "text/plain": [
       "<IPython.core.display.HTML object>"
      ]
     },
     "metadata": {},
     "output_type": "display_data"
    },
    {
     "name": "stdout",
     "output_type": "stream",
     "text": [
      "Overlap 136: Batavia - Banda "
     ]
    },
    {
     "data": {
      "text/html": [
       "<div class=\"\"><span class=\"tfsechead \"><span class=\"ltr\"><a target=\"_blank\" href=\"http://resources.huygens.knaw.nl/retroboeken/generalemissiven/#page=287&amp;source=12\" title=\"Show this document on Huygens\" sec=\"12 276:1\">12 276:1</a></span></span>  <span class=\"txtu \"><span class=\"structure\"><span class=\"nd\">volume</span> 12, <span class=\"nd\">letter</span> Mossel, Cluysenaar, Van Broyel, Van der Waeyen, Van der Parra, Van der Spar, Van Gollenesse, Van de Velde, Van Rheede, De Nijs, Van Bazel; Batavia, 31 december 1752</span></span></div>"
      ],
      "text/plain": [
       "<IPython.core.display.HTML object>"
      ]
     },
     "metadata": {},
     "output_type": "display_data"
    },
    {
     "data": {
      "text/html": [
       "<div class=\"\"><span class=\"tfsechead \"><span class=\"ltr\"><a target=\"_blank\" href=\"http://resources.huygens.knaw.nl/retroboeken/generalemissiven/#page=287&amp;source=12\" title=\"Show this document on Huygens\" sec=\"12 276:5\">12 276:5</a></span></span>  <span class=\"txtu\">Batavia </span></div>"
      ],
      "text/plain": [
       "<IPython.core.display.HTML object>"
      ]
     },
     "metadata": {},
     "output_type": "display_data"
    },
    {
     "data": {
      "text/html": [
       "<div class=\"\"><span class=\"tfsechead \"><span class=\"ltr\"><a target=\"_blank\" href=\"http://resources.huygens.knaw.nl/retroboeken/generalemissiven/#page=287&amp;source=12\" title=\"Show this document on Huygens\" sec=\"12 276:5\">12 276:5</a></span></span>  <span class=\"txtu\">Batavia </span><span class=\"txtu\">meldt </span><span class=\"txtu\">wat </span><span class=\"txtu\">men </span><span class=\"txtu\">sinds </span><span class=\"txtu\">de </span><span class=\"txtu\">laatste </span><span class=\"txtu\">brief </span><span class=\"txtu\">over </span><span class=\"txtu\">de </span><span class=\"txtu\">vijftigste </span><span class=\"txtu\">penning </span><span class=\"txtu\">van </span><span class=\"txtu\">10 </span><span class=\"txtu\">oktober </span></div>"
      ],
      "text/plain": [
       "<IPython.core.display.HTML object>"
      ]
     },
     "metadata": {},
     "output_type": "display_data"
    },
    {
     "data": {
      "text/html": [
       "<div class=\"\"><span class=\"tfsechead \"><span class=\"ltr\"><a target=\"_blank\" href=\"http://resources.huygens.knaw.nl/retroboeken/generalemissiven/#page=287&amp;source=12\" title=\"Show this document on Huygens\" sec=\"12 276:17\">12 276:17</a></span></span>  <span class=\"txtu\">Banda </span></div>"
      ],
      "text/plain": [
       "<IPython.core.display.HTML object>"
      ]
     },
     "metadata": {},
     "output_type": "display_data"
    },
    {
     "data": {
      "text/html": [
       "<div class=\"\"><span class=\"tfsechead \"><span class=\"ltr\"><a target=\"_blank\" href=\"http://resources.huygens.knaw.nl/retroboeken/generalemissiven/#page=287&amp;source=12\" title=\"Show this document on Huygens\" sec=\"12 276:17\">12 276:17</a></span></span>  <span class=\"txtu\">Twee </span><span class=\"txtu\">extract </span><span class=\"txtu\">brieven </span><span class=\"txtu\">door </span><span class=\"txtu\">de </span><span class=\"txtu\">Bataviase </span><span class=\"txtu\">weeskamer </span><span class=\"txtu\">aan </span><span class=\"txtu\">die </span><span class=\"txtu\">in </span><span class=\"txtu\">Banda </span><span class=\"txtu\">over </span><span class=\"txtu\">de </span><span class=\"txtu\">voorsz. </span></div>"
      ],
      "text/plain": [
       "<IPython.core.display.HTML object>"
      ]
     },
     "metadata": {},
     "output_type": "display_data"
    },
    {
     "name": "stdout",
     "output_type": "stream",
     "text": [
      "Overlap 137: Batavia - Banda’s "
     ]
    },
    {
     "data": {
      "text/html": [
       "<div class=\"\"><span class=\"tfsechead \"><span class=\"ltr\"><a target=\"_blank\" href=\"http://resources.huygens.knaw.nl/retroboeken/generalemissiven/#page=287&amp;source=12\" title=\"Show this document on Huygens\" sec=\"12 276:1\">12 276:1</a></span></span>  <span class=\"txtu \"><span class=\"structure\"><span class=\"nd\">volume</span> 12, <span class=\"nd\">letter</span> Mossel, Cluysenaar, Van Broyel, Van der Waeyen, Van der Parra, Van der Spar, Van Gollenesse, Van de Velde, Van Rheede, De Nijs, Van Bazel; Batavia, 31 december 1752</span></span></div>"
      ],
      "text/plain": [
       "<IPython.core.display.HTML object>"
      ]
     },
     "metadata": {},
     "output_type": "display_data"
    },
    {
     "data": {
      "text/html": [
       "<div class=\"\"><span class=\"tfsechead \"><span class=\"ltr\"><a target=\"_blank\" href=\"http://resources.huygens.knaw.nl/retroboeken/generalemissiven/#page=287&amp;source=12\" title=\"Show this document on Huygens\" sec=\"12 276:5\">12 276:5</a></span></span>  <span class=\"txtu\">Batavia </span></div>"
      ],
      "text/plain": [
       "<IPython.core.display.HTML object>"
      ]
     },
     "metadata": {},
     "output_type": "display_data"
    },
    {
     "data": {
      "text/html": [
       "<div class=\"\"><span class=\"tfsechead \"><span class=\"ltr\"><a target=\"_blank\" href=\"http://resources.huygens.knaw.nl/retroboeken/generalemissiven/#page=287&amp;source=12\" title=\"Show this document on Huygens\" sec=\"12 276:5\">12 276:5</a></span></span>  <span class=\"txtu\">Batavia </span><span class=\"txtu\">meldt </span><span class=\"txtu\">wat </span><span class=\"txtu\">men </span><span class=\"txtu\">sinds </span><span class=\"txtu\">de </span><span class=\"txtu\">laatste </span><span class=\"txtu\">brief </span><span class=\"txtu\">over </span><span class=\"txtu\">de </span><span class=\"txtu\">vijftigste </span><span class=\"txtu\">penning </span><span class=\"txtu\">van </span><span class=\"txtu\">10 </span><span class=\"txtu\">oktober </span></div>"
      ],
      "text/plain": [
       "<IPython.core.display.HTML object>"
      ]
     },
     "metadata": {},
     "output_type": "display_data"
    },
    {
     "data": {
      "text/html": [
       "<div class=\"\"><span class=\"tfsechead \"><span class=\"ltr\"><a target=\"_blank\" href=\"http://resources.huygens.knaw.nl/retroboeken/generalemissiven/#page=287&amp;source=12\" title=\"Show this document on Huygens\" sec=\"12 276:22\">12 276:22</a></span></span>  <span class=\"txtu\">Banda’s </span></div>"
      ],
      "text/plain": [
       "<IPython.core.display.HTML object>"
      ]
     },
     "metadata": {},
     "output_type": "display_data"
    },
    {
     "data": {
      "text/html": [
       "<div class=\"\"><span class=\"tfsechead \"><span class=\"ltr\"><a target=\"_blank\" href=\"http://resources.huygens.knaw.nl/retroboeken/generalemissiven/#page=287&amp;source=12\" title=\"Show this document on Huygens\" sec=\"12 276:22\">12 276:22</a></span></span>  <span class=\"txtu\">Eene </span><span class=\"txtu\">resolutie </span><span class=\"txtu\">genomen </span><span class=\"txtu\">in </span><span class=\"txtu\">Politicquen </span><span class=\"txtu\">Rade </span><span class=\"txtu\">te </span><span class=\"txtu\">Neira (</span><span class=\"txtu\">Banda’s </span><span class=\"txtu\">hoofdplaats) </span><span class=\"txtu\">op </span><span class=\"txtu\">den </span><span class=\"txtu\">27e </span></div>"
      ],
      "text/plain": [
       "<IPython.core.display.HTML object>"
      ]
     },
     "metadata": {},
     "output_type": "display_data"
    },
    {
     "name": "stdout",
     "output_type": "stream",
     "text": [
      "Overlap 138: Batavia - Banda "
     ]
    },
    {
     "data": {
      "text/html": [
       "<div class=\"\"><span class=\"tfsechead \"><span class=\"ltr\"><a target=\"_blank\" href=\"http://resources.huygens.knaw.nl/retroboeken/generalemissiven/#page=287&amp;source=12\" title=\"Show this document on Huygens\" sec=\"12 276:1\">12 276:1</a></span></span>  <span class=\"txtu \"><span class=\"structure\"><span class=\"nd\">volume</span> 12, <span class=\"nd\">letter</span> Mossel, Cluysenaar, Van Broyel, Van der Waeyen, Van der Parra, Van der Spar, Van Gollenesse, Van de Velde, Van Rheede, De Nijs, Van Bazel; Batavia, 31 december 1752</span></span></div>"
      ],
      "text/plain": [
       "<IPython.core.display.HTML object>"
      ]
     },
     "metadata": {},
     "output_type": "display_data"
    },
    {
     "data": {
      "text/html": [
       "<div class=\"\"><span class=\"tfsechead \"><span class=\"ltr\"><a target=\"_blank\" href=\"http://resources.huygens.knaw.nl/retroboeken/generalemissiven/#page=287&amp;source=12\" title=\"Show this document on Huygens\" sec=\"12 276:7\">12 276:7</a></span></span>  <span class=\"txtu\">Batavia </span></div>"
      ],
      "text/plain": [
       "<IPython.core.display.HTML object>"
      ]
     },
     "metadata": {},
     "output_type": "display_data"
    },
    {
     "data": {
      "text/html": [
       "<div class=\"\"><span class=\"tfsechead \"><span class=\"ltr\"><a target=\"_blank\" href=\"http://resources.huygens.knaw.nl/retroboeken/generalemissiven/#page=287&amp;source=12\" title=\"Show this document on Huygens\" sec=\"12 276:7\">12 276:7</a></span></span>  <span class=\"txtu\">heeft </span><span class=\"txtu\">Batavia </span><span class=\"txtu\">een </span><span class=\"txtu\">brief </span><span class=\"txtu\">d. </span><span class=\"txtu\">d. </span><span class=\"txtu\">30 </span><span class=\"txtu\">september </span><span class=\"txtu\">1752 </span><span class=\"txtu\">ontvangen </span><span class=\"txtu\">waarin </span><span class=\"txtu\">vermeld </span><span class=\"txtu\">staat </span><span class=\"txtu\">dat </span><span class=\"txtu\">het </span></div>"
      ],
      "text/plain": [
       "<IPython.core.display.HTML object>"
      ]
     },
     "metadata": {},
     "output_type": "display_data"
    },
    {
     "data": {
      "text/html": [
       "<div class=\"\"><span class=\"tfsechead \"><span class=\"ltr\"><a target=\"_blank\" href=\"http://resources.huygens.knaw.nl/retroboeken/generalemissiven/#page=287&amp;source=12\" title=\"Show this document on Huygens\" sec=\"12 276:8\">12 276:8</a></span></span>  <span class=\"txtu\">Banda </span></div>"
      ],
      "text/plain": [
       "<IPython.core.display.HTML object>"
      ]
     },
     "metadata": {},
     "output_type": "display_data"
    },
    {
     "data": {
      "text/html": [
       "<div class=\"\"><span class=\"tfsechead \"><span class=\"ltr\"><a target=\"_blank\" href=\"http://resources.huygens.knaw.nl/retroboeken/generalemissiven/#page=287&amp;source=12\" title=\"Show this document on Huygens\" sec=\"12 276:8\">12 276:8</a></span></span>  <span class=\"txtu\">personeel </span><span class=\"txtu\">aan </span><span class=\"txtu\">zijn </span><span class=\"txtu\">verplichtingen </span><span class=\"txtu\">heeft </span><span class=\"txtu\">voldaan. </span><span class=\"txtu\">Van </span><span class=\"txtu\">Banda </span><span class=\"txtu\">heeft </span><span class=\"txtu\">men </span><span class=\"txtu\">een </span><span class=\"txtu\">brief </span><span class=\"txtu\">van </span><span class=\"txtu\">gouverneur </span></div>"
      ],
      "text/plain": [
       "<IPython.core.display.HTML object>"
      ]
     },
     "metadata": {},
     "output_type": "display_data"
    },
    {
     "name": "stdout",
     "output_type": "stream",
     "text": [
      "Overlap 139: Batavia - Bandase "
     ]
    },
    {
     "data": {
      "text/html": [
       "<div class=\"\"><span class=\"tfsechead \"><span class=\"ltr\"><a target=\"_blank\" href=\"http://resources.huygens.knaw.nl/retroboeken/generalemissiven/#page=287&amp;source=12\" title=\"Show this document on Huygens\" sec=\"12 276:1\">12 276:1</a></span></span>  <span class=\"txtu \"><span class=\"structure\"><span class=\"nd\">volume</span> 12, <span class=\"nd\">letter</span> Mossel, Cluysenaar, Van Broyel, Van der Waeyen, Van der Parra, Van der Spar, Van Gollenesse, Van de Velde, Van Rheede, De Nijs, Van Bazel; Batavia, 31 december 1752</span></span></div>"
      ],
      "text/plain": [
       "<IPython.core.display.HTML object>"
      ]
     },
     "metadata": {},
     "output_type": "display_data"
    },
    {
     "data": {
      "text/html": [
       "<div class=\"\"><span class=\"tfsechead \"><span class=\"ltr\"><a target=\"_blank\" href=\"http://resources.huygens.knaw.nl/retroboeken/generalemissiven/#page=287&amp;source=12\" title=\"Show this document on Huygens\" sec=\"12 276:7\">12 276:7</a></span></span>  <span class=\"txtu\">Batavia </span></div>"
      ],
      "text/plain": [
       "<IPython.core.display.HTML object>"
      ]
     },
     "metadata": {},
     "output_type": "display_data"
    },
    {
     "data": {
      "text/html": [
       "<div class=\"\"><span class=\"tfsechead \"><span class=\"ltr\"><a target=\"_blank\" href=\"http://resources.huygens.knaw.nl/retroboeken/generalemissiven/#page=287&amp;source=12\" title=\"Show this document on Huygens\" sec=\"12 276:7\">12 276:7</a></span></span>  <span class=\"txtu\">heeft </span><span class=\"txtu\">Batavia </span><span class=\"txtu\">een </span><span class=\"txtu\">brief </span><span class=\"txtu\">d. </span><span class=\"txtu\">d. </span><span class=\"txtu\">30 </span><span class=\"txtu\">september </span><span class=\"txtu\">1752 </span><span class=\"txtu\">ontvangen </span><span class=\"txtu\">waarin </span><span class=\"txtu\">vermeld </span><span class=\"txtu\">staat </span><span class=\"txtu\">dat </span><span class=\"txtu\">het </span></div>"
      ],
      "text/plain": [
       "<IPython.core.display.HTML object>"
      ]
     },
     "metadata": {},
     "output_type": "display_data"
    },
    {
     "data": {
      "text/html": [
       "<div class=\"\"><span class=\"tfsechead \"><span class=\"ltr\"><a target=\"_blank\" href=\"http://resources.huygens.knaw.nl/retroboeken/generalemissiven/#page=287&amp;source=12\" title=\"Show this document on Huygens\" sec=\"12 276:13\">12 276:13</a></span></span>  <span class=\"txtu\">Bandase </span></div>"
      ],
      "text/plain": [
       "<IPython.core.display.HTML object>"
      ]
     },
     "metadata": {},
     "output_type": "display_data"
    },
    {
     "data": {
      "text/html": [
       "<div class=\"\"><span class=\"tfsechead \"><span class=\"ltr\"><a target=\"_blank\" href=\"http://resources.huygens.knaw.nl/retroboeken/generalemissiven/#page=287&amp;source=12\" title=\"Show this document on Huygens\" sec=\"12 276:13\">12 276:13</a></span></span>  <span class=\"txtu\">Eene </span><span class=\"txtu\">specificatie </span><span class=\"txtu\">van </span><span class=\"txtu\">hetgeene </span><span class=\"txtu\">door </span><span class=\"txtu\">de </span><span class=\"txtu\">Bandase </span><span class=\"txtu\">weeskamer </span><span class=\"txtu\">voor </span><span class=\"txtu\">reekening </span><span class=\"txtu\">van </span><span class=\"txtu\">haare </span></div>"
      ],
      "text/plain": [
       "<IPython.core.display.HTML object>"
      ]
     },
     "metadata": {},
     "output_type": "display_data"
    },
    {
     "name": "stdout",
     "output_type": "stream",
     "text": [
      "Overlap 140: Batavia - Banda "
     ]
    },
    {
     "data": {
      "text/html": [
       "<div class=\"\"><span class=\"tfsechead \"><span class=\"ltr\"><a target=\"_blank\" href=\"http://resources.huygens.knaw.nl/retroboeken/generalemissiven/#page=287&amp;source=12\" title=\"Show this document on Huygens\" sec=\"12 276:1\">12 276:1</a></span></span>  <span class=\"txtu \"><span class=\"structure\"><span class=\"nd\">volume</span> 12, <span class=\"nd\">letter</span> Mossel, Cluysenaar, Van Broyel, Van der Waeyen, Van der Parra, Van der Spar, Van Gollenesse, Van de Velde, Van Rheede, De Nijs, Van Bazel; Batavia, 31 december 1752</span></span></div>"
      ],
      "text/plain": [
       "<IPython.core.display.HTML object>"
      ]
     },
     "metadata": {},
     "output_type": "display_data"
    },
    {
     "data": {
      "text/html": [
       "<div class=\"\"><span class=\"tfsechead \"><span class=\"ltr\"><a target=\"_blank\" href=\"http://resources.huygens.knaw.nl/retroboeken/generalemissiven/#page=287&amp;source=12\" title=\"Show this document on Huygens\" sec=\"12 276:7\">12 276:7</a></span></span>  <span class=\"txtu\">Batavia </span></div>"
      ],
      "text/plain": [
       "<IPython.core.display.HTML object>"
      ]
     },
     "metadata": {},
     "output_type": "display_data"
    },
    {
     "data": {
      "text/html": [
       "<div class=\"\"><span class=\"tfsechead \"><span class=\"ltr\"><a target=\"_blank\" href=\"http://resources.huygens.knaw.nl/retroboeken/generalemissiven/#page=287&amp;source=12\" title=\"Show this document on Huygens\" sec=\"12 276:7\">12 276:7</a></span></span>  <span class=\"txtu\">heeft </span><span class=\"txtu\">Batavia </span><span class=\"txtu\">een </span><span class=\"txtu\">brief </span><span class=\"txtu\">d. </span><span class=\"txtu\">d. </span><span class=\"txtu\">30 </span><span class=\"txtu\">september </span><span class=\"txtu\">1752 </span><span class=\"txtu\">ontvangen </span><span class=\"txtu\">waarin </span><span class=\"txtu\">vermeld </span><span class=\"txtu\">staat </span><span class=\"txtu\">dat </span><span class=\"txtu\">het </span></div>"
      ],
      "text/plain": [
       "<IPython.core.display.HTML object>"
      ]
     },
     "metadata": {},
     "output_type": "display_data"
    },
    {
     "data": {
      "text/html": [
       "<div class=\"\"><span class=\"tfsechead \"><span class=\"ltr\"><a target=\"_blank\" href=\"http://resources.huygens.knaw.nl/retroboeken/generalemissiven/#page=287&amp;source=12\" title=\"Show this document on Huygens\" sec=\"12 276:17\">12 276:17</a></span></span>  <span class=\"txtu\">Banda </span></div>"
      ],
      "text/plain": [
       "<IPython.core.display.HTML object>"
      ]
     },
     "metadata": {},
     "output_type": "display_data"
    },
    {
     "data": {
      "text/html": [
       "<div class=\"\"><span class=\"tfsechead \"><span class=\"ltr\"><a target=\"_blank\" href=\"http://resources.huygens.knaw.nl/retroboeken/generalemissiven/#page=287&amp;source=12\" title=\"Show this document on Huygens\" sec=\"12 276:17\">12 276:17</a></span></span>  <span class=\"txtu\">Twee </span><span class=\"txtu\">extract </span><span class=\"txtu\">brieven </span><span class=\"txtu\">door </span><span class=\"txtu\">de </span><span class=\"txtu\">Bataviase </span><span class=\"txtu\">weeskamer </span><span class=\"txtu\">aan </span><span class=\"txtu\">die </span><span class=\"txtu\">in </span><span class=\"txtu\">Banda </span><span class=\"txtu\">over </span><span class=\"txtu\">de </span><span class=\"txtu\">voorsz. </span></div>"
      ],
      "text/plain": [
       "<IPython.core.display.HTML object>"
      ]
     },
     "metadata": {},
     "output_type": "display_data"
    },
    {
     "name": "stdout",
     "output_type": "stream",
     "text": [
      "Overlap 141: Batavia - Banda’s "
     ]
    },
    {
     "data": {
      "text/html": [
       "<div class=\"\"><span class=\"tfsechead \"><span class=\"ltr\"><a target=\"_blank\" href=\"http://resources.huygens.knaw.nl/retroboeken/generalemissiven/#page=287&amp;source=12\" title=\"Show this document on Huygens\" sec=\"12 276:1\">12 276:1</a></span></span>  <span class=\"txtu \"><span class=\"structure\"><span class=\"nd\">volume</span> 12, <span class=\"nd\">letter</span> Mossel, Cluysenaar, Van Broyel, Van der Waeyen, Van der Parra, Van der Spar, Van Gollenesse, Van de Velde, Van Rheede, De Nijs, Van Bazel; Batavia, 31 december 1752</span></span></div>"
      ],
      "text/plain": [
       "<IPython.core.display.HTML object>"
      ]
     },
     "metadata": {},
     "output_type": "display_data"
    },
    {
     "data": {
      "text/html": [
       "<div class=\"\"><span class=\"tfsechead \"><span class=\"ltr\"><a target=\"_blank\" href=\"http://resources.huygens.knaw.nl/retroboeken/generalemissiven/#page=287&amp;source=12\" title=\"Show this document on Huygens\" sec=\"12 276:7\">12 276:7</a></span></span>  <span class=\"txtu\">Batavia </span></div>"
      ],
      "text/plain": [
       "<IPython.core.display.HTML object>"
      ]
     },
     "metadata": {},
     "output_type": "display_data"
    },
    {
     "data": {
      "text/html": [
       "<div class=\"\"><span class=\"tfsechead \"><span class=\"ltr\"><a target=\"_blank\" href=\"http://resources.huygens.knaw.nl/retroboeken/generalemissiven/#page=287&amp;source=12\" title=\"Show this document on Huygens\" sec=\"12 276:7\">12 276:7</a></span></span>  <span class=\"txtu\">heeft </span><span class=\"txtu\">Batavia </span><span class=\"txtu\">een </span><span class=\"txtu\">brief </span><span class=\"txtu\">d. </span><span class=\"txtu\">d. </span><span class=\"txtu\">30 </span><span class=\"txtu\">september </span><span class=\"txtu\">1752 </span><span class=\"txtu\">ontvangen </span><span class=\"txtu\">waarin </span><span class=\"txtu\">vermeld </span><span class=\"txtu\">staat </span><span class=\"txtu\">dat </span><span class=\"txtu\">het </span></div>"
      ],
      "text/plain": [
       "<IPython.core.display.HTML object>"
      ]
     },
     "metadata": {},
     "output_type": "display_data"
    },
    {
     "data": {
      "text/html": [
       "<div class=\"\"><span class=\"tfsechead \"><span class=\"ltr\"><a target=\"_blank\" href=\"http://resources.huygens.knaw.nl/retroboeken/generalemissiven/#page=287&amp;source=12\" title=\"Show this document on Huygens\" sec=\"12 276:22\">12 276:22</a></span></span>  <span class=\"txtu\">Banda’s </span></div>"
      ],
      "text/plain": [
       "<IPython.core.display.HTML object>"
      ]
     },
     "metadata": {},
     "output_type": "display_data"
    },
    {
     "data": {
      "text/html": [
       "<div class=\"\"><span class=\"tfsechead \"><span class=\"ltr\"><a target=\"_blank\" href=\"http://resources.huygens.knaw.nl/retroboeken/generalemissiven/#page=287&amp;source=12\" title=\"Show this document on Huygens\" sec=\"12 276:22\">12 276:22</a></span></span>  <span class=\"txtu\">Eene </span><span class=\"txtu\">resolutie </span><span class=\"txtu\">genomen </span><span class=\"txtu\">in </span><span class=\"txtu\">Politicquen </span><span class=\"txtu\">Rade </span><span class=\"txtu\">te </span><span class=\"txtu\">Neira (</span><span class=\"txtu\">Banda’s </span><span class=\"txtu\">hoofdplaats) </span><span class=\"txtu\">op </span><span class=\"txtu\">den </span><span class=\"txtu\">27e </span></div>"
      ],
      "text/plain": [
       "<IPython.core.display.HTML object>"
      ]
     },
     "metadata": {},
     "output_type": "display_data"
    },
    {
     "name": "stdout",
     "output_type": "stream",
     "text": [
      "Overlap 142: Banda - Bataviase "
     ]
    },
    {
     "data": {
      "text/html": [
       "<div class=\"\"><span class=\"tfsechead \"><span class=\"ltr\"><a target=\"_blank\" href=\"http://resources.huygens.knaw.nl/retroboeken/generalemissiven/#page=287&amp;source=12\" title=\"Show this document on Huygens\" sec=\"12 276:1\">12 276:1</a></span></span>  <span class=\"txtu \"><span class=\"structure\"><span class=\"nd\">volume</span> 12, <span class=\"nd\">letter</span> Mossel, Cluysenaar, Van Broyel, Van der Waeyen, Van der Parra, Van der Spar, Van Gollenesse, Van de Velde, Van Rheede, De Nijs, Van Bazel; Batavia, 31 december 1752</span></span></div>"
      ],
      "text/plain": [
       "<IPython.core.display.HTML object>"
      ]
     },
     "metadata": {},
     "output_type": "display_data"
    },
    {
     "data": {
      "text/html": [
       "<div class=\"\"><span class=\"tfsechead \"><span class=\"ltr\"><a target=\"_blank\" href=\"http://resources.huygens.knaw.nl/retroboeken/generalemissiven/#page=287&amp;source=12\" title=\"Show this document on Huygens\" sec=\"12 276:8\">12 276:8</a></span></span>  <span class=\"txtu\">Banda </span></div>"
      ],
      "text/plain": [
       "<IPython.core.display.HTML object>"
      ]
     },
     "metadata": {},
     "output_type": "display_data"
    },
    {
     "data": {
      "text/html": [
       "<div class=\"\"><span class=\"tfsechead \"><span class=\"ltr\"><a target=\"_blank\" href=\"http://resources.huygens.knaw.nl/retroboeken/generalemissiven/#page=287&amp;source=12\" title=\"Show this document on Huygens\" sec=\"12 276:8\">12 276:8</a></span></span>  <span class=\"txtu\">personeel </span><span class=\"txtu\">aan </span><span class=\"txtu\">zijn </span><span class=\"txtu\">verplichtingen </span><span class=\"txtu\">heeft </span><span class=\"txtu\">voldaan. </span><span class=\"txtu\">Van </span><span class=\"txtu\">Banda </span><span class=\"txtu\">heeft </span><span class=\"txtu\">men </span><span class=\"txtu\">een </span><span class=\"txtu\">brief </span><span class=\"txtu\">van </span><span class=\"txtu\">gouverneur </span></div>"
      ],
      "text/plain": [
       "<IPython.core.display.HTML object>"
      ]
     },
     "metadata": {},
     "output_type": "display_data"
    },
    {
     "data": {
      "text/html": [
       "<div class=\"\"><span class=\"tfsechead \"><span class=\"ltr\"><a target=\"_blank\" href=\"http://resources.huygens.knaw.nl/retroboeken/generalemissiven/#page=287&amp;source=12\" title=\"Show this document on Huygens\" sec=\"12 276:17\">12 276:17</a></span></span>  <span class=\"txtu\">Bataviase </span></div>"
      ],
      "text/plain": [
       "<IPython.core.display.HTML object>"
      ]
     },
     "metadata": {},
     "output_type": "display_data"
    },
    {
     "data": {
      "text/html": [
       "<div class=\"\"><span class=\"tfsechead \"><span class=\"ltr\"><a target=\"_blank\" href=\"http://resources.huygens.knaw.nl/retroboeken/generalemissiven/#page=287&amp;source=12\" title=\"Show this document on Huygens\" sec=\"12 276:17\">12 276:17</a></span></span>  <span class=\"txtu\">Twee </span><span class=\"txtu\">extract </span><span class=\"txtu\">brieven </span><span class=\"txtu\">door </span><span class=\"txtu\">de </span><span class=\"txtu\">Bataviase </span><span class=\"txtu\">weeskamer </span><span class=\"txtu\">aan </span><span class=\"txtu\">die </span><span class=\"txtu\">in </span><span class=\"txtu\">Banda </span><span class=\"txtu\">over </span><span class=\"txtu\">de </span><span class=\"txtu\">voorsz. </span></div>"
      ],
      "text/plain": [
       "<IPython.core.display.HTML object>"
      ]
     },
     "metadata": {},
     "output_type": "display_data"
    },
    {
     "name": "stdout",
     "output_type": "stream",
     "text": [
      "Overlap 143: Bandase - Bataviase "
     ]
    },
    {
     "data": {
      "text/html": [
       "<div class=\"\"><span class=\"tfsechead \"><span class=\"ltr\"><a target=\"_blank\" href=\"http://resources.huygens.knaw.nl/retroboeken/generalemissiven/#page=287&amp;source=12\" title=\"Show this document on Huygens\" sec=\"12 276:1\">12 276:1</a></span></span>  <span class=\"txtu \"><span class=\"structure\"><span class=\"nd\">volume</span> 12, <span class=\"nd\">letter</span> Mossel, Cluysenaar, Van Broyel, Van der Waeyen, Van der Parra, Van der Spar, Van Gollenesse, Van de Velde, Van Rheede, De Nijs, Van Bazel; Batavia, 31 december 1752</span></span></div>"
      ],
      "text/plain": [
       "<IPython.core.display.HTML object>"
      ]
     },
     "metadata": {},
     "output_type": "display_data"
    },
    {
     "data": {
      "text/html": [
       "<div class=\"\"><span class=\"tfsechead \"><span class=\"ltr\"><a target=\"_blank\" href=\"http://resources.huygens.knaw.nl/retroboeken/generalemissiven/#page=287&amp;source=12\" title=\"Show this document on Huygens\" sec=\"12 276:13\">12 276:13</a></span></span>  <span class=\"txtu\">Bandase </span></div>"
      ],
      "text/plain": [
       "<IPython.core.display.HTML object>"
      ]
     },
     "metadata": {},
     "output_type": "display_data"
    },
    {
     "data": {
      "text/html": [
       "<div class=\"\"><span class=\"tfsechead \"><span class=\"ltr\"><a target=\"_blank\" href=\"http://resources.huygens.knaw.nl/retroboeken/generalemissiven/#page=287&amp;source=12\" title=\"Show this document on Huygens\" sec=\"12 276:13\">12 276:13</a></span></span>  <span class=\"txtu\">Eene </span><span class=\"txtu\">specificatie </span><span class=\"txtu\">van </span><span class=\"txtu\">hetgeene </span><span class=\"txtu\">door </span><span class=\"txtu\">de </span><span class=\"txtu\">Bandase </span><span class=\"txtu\">weeskamer </span><span class=\"txtu\">voor </span><span class=\"txtu\">reekening </span><span class=\"txtu\">van </span><span class=\"txtu\">haare </span></div>"
      ],
      "text/plain": [
       "<IPython.core.display.HTML object>"
      ]
     },
     "metadata": {},
     "output_type": "display_data"
    },
    {
     "data": {
      "text/html": [
       "<div class=\"\"><span class=\"tfsechead \"><span class=\"ltr\"><a target=\"_blank\" href=\"http://resources.huygens.knaw.nl/retroboeken/generalemissiven/#page=287&amp;source=12\" title=\"Show this document on Huygens\" sec=\"12 276:17\">12 276:17</a></span></span>  <span class=\"txtu\">Bataviase </span></div>"
      ],
      "text/plain": [
       "<IPython.core.display.HTML object>"
      ]
     },
     "metadata": {},
     "output_type": "display_data"
    },
    {
     "data": {
      "text/html": [
       "<div class=\"\"><span class=\"tfsechead \"><span class=\"ltr\"><a target=\"_blank\" href=\"http://resources.huygens.knaw.nl/retroboeken/generalemissiven/#page=287&amp;source=12\" title=\"Show this document on Huygens\" sec=\"12 276:17\">12 276:17</a></span></span>  <span class=\"txtu\">Twee </span><span class=\"txtu\">extract </span><span class=\"txtu\">brieven </span><span class=\"txtu\">door </span><span class=\"txtu\">de </span><span class=\"txtu\">Bataviase </span><span class=\"txtu\">weeskamer </span><span class=\"txtu\">aan </span><span class=\"txtu\">die </span><span class=\"txtu\">in </span><span class=\"txtu\">Banda </span><span class=\"txtu\">over </span><span class=\"txtu\">de </span><span class=\"txtu\">voorsz. </span></div>"
      ],
      "text/plain": [
       "<IPython.core.display.HTML object>"
      ]
     },
     "metadata": {},
     "output_type": "display_data"
    },
    {
     "name": "stdout",
     "output_type": "stream",
     "text": [
      "Overlap 144: Bataviase - Banda "
     ]
    },
    {
     "data": {
      "text/html": [
       "<div class=\"\"><span class=\"tfsechead \"><span class=\"ltr\"><a target=\"_blank\" href=\"http://resources.huygens.knaw.nl/retroboeken/generalemissiven/#page=287&amp;source=12\" title=\"Show this document on Huygens\" sec=\"12 276:1\">12 276:1</a></span></span>  <span class=\"txtu \"><span class=\"structure\"><span class=\"nd\">volume</span> 12, <span class=\"nd\">letter</span> Mossel, Cluysenaar, Van Broyel, Van der Waeyen, Van der Parra, Van der Spar, Van Gollenesse, Van de Velde, Van Rheede, De Nijs, Van Bazel; Batavia, 31 december 1752</span></span></div>"
      ],
      "text/plain": [
       "<IPython.core.display.HTML object>"
      ]
     },
     "metadata": {},
     "output_type": "display_data"
    },
    {
     "data": {
      "text/html": [
       "<div class=\"\"><span class=\"tfsechead \"><span class=\"ltr\"><a target=\"_blank\" href=\"http://resources.huygens.knaw.nl/retroboeken/generalemissiven/#page=287&amp;source=12\" title=\"Show this document on Huygens\" sec=\"12 276:17\">12 276:17</a></span></span>  <span class=\"txtu\">Bataviase </span></div>"
      ],
      "text/plain": [
       "<IPython.core.display.HTML object>"
      ]
     },
     "metadata": {},
     "output_type": "display_data"
    },
    {
     "data": {
      "text/html": [
       "<div class=\"\"><span class=\"tfsechead \"><span class=\"ltr\"><a target=\"_blank\" href=\"http://resources.huygens.knaw.nl/retroboeken/generalemissiven/#page=287&amp;source=12\" title=\"Show this document on Huygens\" sec=\"12 276:17\">12 276:17</a></span></span>  <span class=\"txtu\">Twee </span><span class=\"txtu\">extract </span><span class=\"txtu\">brieven </span><span class=\"txtu\">door </span><span class=\"txtu\">de </span><span class=\"txtu\">Bataviase </span><span class=\"txtu\">weeskamer </span><span class=\"txtu\">aan </span><span class=\"txtu\">die </span><span class=\"txtu\">in </span><span class=\"txtu\">Banda </span><span class=\"txtu\">over </span><span class=\"txtu\">de </span><span class=\"txtu\">voorsz. </span></div>"
      ],
      "text/plain": [
       "<IPython.core.display.HTML object>"
      ]
     },
     "metadata": {},
     "output_type": "display_data"
    },
    {
     "data": {
      "text/html": [
       "<div class=\"\"><span class=\"tfsechead \"><span class=\"ltr\"><a target=\"_blank\" href=\"http://resources.huygens.knaw.nl/retroboeken/generalemissiven/#page=287&amp;source=12\" title=\"Show this document on Huygens\" sec=\"12 276:17\">12 276:17</a></span></span>  <span class=\"txtu\">Banda </span></div>"
      ],
      "text/plain": [
       "<IPython.core.display.HTML object>"
      ]
     },
     "metadata": {},
     "output_type": "display_data"
    },
    {
     "data": {
      "text/html": [
       "<div class=\"\"><span class=\"tfsechead \"><span class=\"ltr\"><a target=\"_blank\" href=\"http://resources.huygens.knaw.nl/retroboeken/generalemissiven/#page=287&amp;source=12\" title=\"Show this document on Huygens\" sec=\"12 276:17\">12 276:17</a></span></span>  <span class=\"txtu\">Twee </span><span class=\"txtu\">extract </span><span class=\"txtu\">brieven </span><span class=\"txtu\">door </span><span class=\"txtu\">de </span><span class=\"txtu\">Bataviase </span><span class=\"txtu\">weeskamer </span><span class=\"txtu\">aan </span><span class=\"txtu\">die </span><span class=\"txtu\">in </span><span class=\"txtu\">Banda </span><span class=\"txtu\">over </span><span class=\"txtu\">de </span><span class=\"txtu\">voorsz. </span></div>"
      ],
      "text/plain": [
       "<IPython.core.display.HTML object>"
      ]
     },
     "metadata": {},
     "output_type": "display_data"
    },
    {
     "name": "stdout",
     "output_type": "stream",
     "text": [
      "Overlap 145: Bataviase - Banda’s "
     ]
    },
    {
     "data": {
      "text/html": [
       "<div class=\"\"><span class=\"tfsechead \"><span class=\"ltr\"><a target=\"_blank\" href=\"http://resources.huygens.knaw.nl/retroboeken/generalemissiven/#page=287&amp;source=12\" title=\"Show this document on Huygens\" sec=\"12 276:1\">12 276:1</a></span></span>  <span class=\"txtu \"><span class=\"structure\"><span class=\"nd\">volume</span> 12, <span class=\"nd\">letter</span> Mossel, Cluysenaar, Van Broyel, Van der Waeyen, Van der Parra, Van der Spar, Van Gollenesse, Van de Velde, Van Rheede, De Nijs, Van Bazel; Batavia, 31 december 1752</span></span></div>"
      ],
      "text/plain": [
       "<IPython.core.display.HTML object>"
      ]
     },
     "metadata": {},
     "output_type": "display_data"
    },
    {
     "data": {
      "text/html": [
       "<div class=\"\"><span class=\"tfsechead \"><span class=\"ltr\"><a target=\"_blank\" href=\"http://resources.huygens.knaw.nl/retroboeken/generalemissiven/#page=287&amp;source=12\" title=\"Show this document on Huygens\" sec=\"12 276:17\">12 276:17</a></span></span>  <span class=\"txtu\">Bataviase </span></div>"
      ],
      "text/plain": [
       "<IPython.core.display.HTML object>"
      ]
     },
     "metadata": {},
     "output_type": "display_data"
    },
    {
     "data": {
      "text/html": [
       "<div class=\"\"><span class=\"tfsechead \"><span class=\"ltr\"><a target=\"_blank\" href=\"http://resources.huygens.knaw.nl/retroboeken/generalemissiven/#page=287&amp;source=12\" title=\"Show this document on Huygens\" sec=\"12 276:17\">12 276:17</a></span></span>  <span class=\"txtu\">Twee </span><span class=\"txtu\">extract </span><span class=\"txtu\">brieven </span><span class=\"txtu\">door </span><span class=\"txtu\">de </span><span class=\"txtu\">Bataviase </span><span class=\"txtu\">weeskamer </span><span class=\"txtu\">aan </span><span class=\"txtu\">die </span><span class=\"txtu\">in </span><span class=\"txtu\">Banda </span><span class=\"txtu\">over </span><span class=\"txtu\">de </span><span class=\"txtu\">voorsz. </span></div>"
      ],
      "text/plain": [
       "<IPython.core.display.HTML object>"
      ]
     },
     "metadata": {},
     "output_type": "display_data"
    },
    {
     "data": {
      "text/html": [
       "<div class=\"\"><span class=\"tfsechead \"><span class=\"ltr\"><a target=\"_blank\" href=\"http://resources.huygens.knaw.nl/retroboeken/generalemissiven/#page=287&amp;source=12\" title=\"Show this document on Huygens\" sec=\"12 276:22\">12 276:22</a></span></span>  <span class=\"txtu\">Banda’s </span></div>"
      ],
      "text/plain": [
       "<IPython.core.display.HTML object>"
      ]
     },
     "metadata": {},
     "output_type": "display_data"
    },
    {
     "data": {
      "text/html": [
       "<div class=\"\"><span class=\"tfsechead \"><span class=\"ltr\"><a target=\"_blank\" href=\"http://resources.huygens.knaw.nl/retroboeken/generalemissiven/#page=287&amp;source=12\" title=\"Show this document on Huygens\" sec=\"12 276:22\">12 276:22</a></span></span>  <span class=\"txtu\">Eene </span><span class=\"txtu\">resolutie </span><span class=\"txtu\">genomen </span><span class=\"txtu\">in </span><span class=\"txtu\">Politicquen </span><span class=\"txtu\">Rade </span><span class=\"txtu\">te </span><span class=\"txtu\">Neira (</span><span class=\"txtu\">Banda’s </span><span class=\"txtu\">hoofdplaats) </span><span class=\"txtu\">op </span><span class=\"txtu\">den </span><span class=\"txtu\">27e </span></div>"
      ],
      "text/plain": [
       "<IPython.core.display.HTML object>"
      ]
     },
     "metadata": {},
     "output_type": "display_data"
    },
    {
     "name": "stdout",
     "output_type": "stream",
     "text": [
      "Overlap 146: Banda - Batavia "
     ]
    },
    {
     "data": {
      "text/html": [
       "<div class=\"\"><span class=\"tfsechead \"><span class=\"ltr\"><a target=\"_blank\" href=\"http://resources.huygens.knaw.nl/retroboeken/generalemissiven/#page=287&amp;source=12\" title=\"Show this document on Huygens\" sec=\"12 276:1\">12 276:1</a></span></span>  <span class=\"txtu \"><span class=\"structure\"><span class=\"nd\">volume</span> 12, <span class=\"nd\">letter</span> Mossel, Cluysenaar, Van Broyel, Van der Waeyen, Van der Parra, Van der Spar, Van Gollenesse, Van de Velde, Van Rheede, De Nijs, Van Bazel; Batavia, 31 december 1752</span></span></div>"
      ],
      "text/plain": [
       "<IPython.core.display.HTML object>"
      ]
     },
     "metadata": {},
     "output_type": "display_data"
    },
    {
     "data": {
      "text/html": [
       "<div class=\"\"><span class=\"tfsechead \"><span class=\"ltr\"><a target=\"_blank\" href=\"http://resources.huygens.knaw.nl/retroboeken/generalemissiven/#page=287&amp;source=12\" title=\"Show this document on Huygens\" sec=\"12 276:8\">12 276:8</a></span></span>  <span class=\"txtu\">Banda </span></div>"
      ],
      "text/plain": [
       "<IPython.core.display.HTML object>"
      ]
     },
     "metadata": {},
     "output_type": "display_data"
    },
    {
     "data": {
      "text/html": [
       "<div class=\"\"><span class=\"tfsechead \"><span class=\"ltr\"><a target=\"_blank\" href=\"http://resources.huygens.knaw.nl/retroboeken/generalemissiven/#page=287&amp;source=12\" title=\"Show this document on Huygens\" sec=\"12 276:8\">12 276:8</a></span></span>  <span class=\"txtu\">personeel </span><span class=\"txtu\">aan </span><span class=\"txtu\">zijn </span><span class=\"txtu\">verplichtingen </span><span class=\"txtu\">heeft </span><span class=\"txtu\">voldaan. </span><span class=\"txtu\">Van </span><span class=\"txtu\">Banda </span><span class=\"txtu\">heeft </span><span class=\"txtu\">men </span><span class=\"txtu\">een </span><span class=\"txtu\">brief </span><span class=\"txtu\">van </span><span class=\"txtu\">gouverneur </span></div>"
      ],
      "text/plain": [
       "<IPython.core.display.HTML object>"
      ]
     },
     "metadata": {},
     "output_type": "display_data"
    },
    {
     "data": {
      "text/html": [
       "<div class=\"\"><span class=\"tfsechead \"><span class=\"ltr\"><a target=\"_blank\" href=\"http://resources.huygens.knaw.nl/retroboeken/generalemissiven/#page=287&amp;source=12\" title=\"Show this document on Huygens\" sec=\"12 276:19\">12 276:19</a></span></span>  <span class=\"txtu\">Batavia </span></div>"
      ],
      "text/plain": [
       "<IPython.core.display.HTML object>"
      ]
     },
     "metadata": {},
     "output_type": "display_data"
    },
    {
     "data": {
      "text/html": [
       "<div class=\"\"><span class=\"tfsechead \"><span class=\"ltr\"><a target=\"_blank\" href=\"http://resources.huygens.knaw.nl/retroboeken/generalemissiven/#page=287&amp;source=12\" title=\"Show this document on Huygens\" sec=\"12 276:19\">12 276:19</a></span></span>  <span class=\"txtu\">Vervolgens </span><span class=\"txtu\">heeft </span><span class=\"txtu\">Batavia </span><span class=\"txtu\">een </span><span class=\"txtu\">brief </span><span class=\"txtu\">van </span><span class=\"txtu\">het </span><span class=\"txtu\">bestuur </span><span class=\"txtu\">van </span><span class=\"txtu\">5 </span><span class=\"txtu\">september </span><span class=\"txtu\">ontvangen </span><span class=\"txtu\">met </span></div>"
      ],
      "text/plain": [
       "<IPython.core.display.HTML object>"
      ]
     },
     "metadata": {},
     "output_type": "display_data"
    },
    {
     "name": "stdout",
     "output_type": "stream",
     "text": [
      "Overlap 147: Bandase - Batavia "
     ]
    },
    {
     "data": {
      "text/html": [
       "<div class=\"\"><span class=\"tfsechead \"><span class=\"ltr\"><a target=\"_blank\" href=\"http://resources.huygens.knaw.nl/retroboeken/generalemissiven/#page=287&amp;source=12\" title=\"Show this document on Huygens\" sec=\"12 276:1\">12 276:1</a></span></span>  <span class=\"txtu \"><span class=\"structure\"><span class=\"nd\">volume</span> 12, <span class=\"nd\">letter</span> Mossel, Cluysenaar, Van Broyel, Van der Waeyen, Van der Parra, Van der Spar, Van Gollenesse, Van de Velde, Van Rheede, De Nijs, Van Bazel; Batavia, 31 december 1752</span></span></div>"
      ],
      "text/plain": [
       "<IPython.core.display.HTML object>"
      ]
     },
     "metadata": {},
     "output_type": "display_data"
    },
    {
     "data": {
      "text/html": [
       "<div class=\"\"><span class=\"tfsechead \"><span class=\"ltr\"><a target=\"_blank\" href=\"http://resources.huygens.knaw.nl/retroboeken/generalemissiven/#page=287&amp;source=12\" title=\"Show this document on Huygens\" sec=\"12 276:13\">12 276:13</a></span></span>  <span class=\"txtu\">Bandase </span></div>"
      ],
      "text/plain": [
       "<IPython.core.display.HTML object>"
      ]
     },
     "metadata": {},
     "output_type": "display_data"
    },
    {
     "data": {
      "text/html": [
       "<div class=\"\"><span class=\"tfsechead \"><span class=\"ltr\"><a target=\"_blank\" href=\"http://resources.huygens.knaw.nl/retroboeken/generalemissiven/#page=287&amp;source=12\" title=\"Show this document on Huygens\" sec=\"12 276:13\">12 276:13</a></span></span>  <span class=\"txtu\">Eene </span><span class=\"txtu\">specificatie </span><span class=\"txtu\">van </span><span class=\"txtu\">hetgeene </span><span class=\"txtu\">door </span><span class=\"txtu\">de </span><span class=\"txtu\">Bandase </span><span class=\"txtu\">weeskamer </span><span class=\"txtu\">voor </span><span class=\"txtu\">reekening </span><span class=\"txtu\">van </span><span class=\"txtu\">haare </span></div>"
      ],
      "text/plain": [
       "<IPython.core.display.HTML object>"
      ]
     },
     "metadata": {},
     "output_type": "display_data"
    },
    {
     "data": {
      "text/html": [
       "<div class=\"\"><span class=\"tfsechead \"><span class=\"ltr\"><a target=\"_blank\" href=\"http://resources.huygens.knaw.nl/retroboeken/generalemissiven/#page=287&amp;source=12\" title=\"Show this document on Huygens\" sec=\"12 276:19\">12 276:19</a></span></span>  <span class=\"txtu\">Batavia </span></div>"
      ],
      "text/plain": [
       "<IPython.core.display.HTML object>"
      ]
     },
     "metadata": {},
     "output_type": "display_data"
    },
    {
     "data": {
      "text/html": [
       "<div class=\"\"><span class=\"tfsechead \"><span class=\"ltr\"><a target=\"_blank\" href=\"http://resources.huygens.knaw.nl/retroboeken/generalemissiven/#page=287&amp;source=12\" title=\"Show this document on Huygens\" sec=\"12 276:19\">12 276:19</a></span></span>  <span class=\"txtu\">Vervolgens </span><span class=\"txtu\">heeft </span><span class=\"txtu\">Batavia </span><span class=\"txtu\">een </span><span class=\"txtu\">brief </span><span class=\"txtu\">van </span><span class=\"txtu\">het </span><span class=\"txtu\">bestuur </span><span class=\"txtu\">van </span><span class=\"txtu\">5 </span><span class=\"txtu\">september </span><span class=\"txtu\">ontvangen </span><span class=\"txtu\">met </span></div>"
      ],
      "text/plain": [
       "<IPython.core.display.HTML object>"
      ]
     },
     "metadata": {},
     "output_type": "display_data"
    },
    {
     "name": "stdout",
     "output_type": "stream",
     "text": [
      "Overlap 148: Banda - Batavia "
     ]
    },
    {
     "data": {
      "text/html": [
       "<div class=\"\"><span class=\"tfsechead \"><span class=\"ltr\"><a target=\"_blank\" href=\"http://resources.huygens.knaw.nl/retroboeken/generalemissiven/#page=287&amp;source=12\" title=\"Show this document on Huygens\" sec=\"12 276:1\">12 276:1</a></span></span>  <span class=\"txtu \"><span class=\"structure\"><span class=\"nd\">volume</span> 12, <span class=\"nd\">letter</span> Mossel, Cluysenaar, Van Broyel, Van der Waeyen, Van der Parra, Van der Spar, Van Gollenesse, Van de Velde, Van Rheede, De Nijs, Van Bazel; Batavia, 31 december 1752</span></span></div>"
      ],
      "text/plain": [
       "<IPython.core.display.HTML object>"
      ]
     },
     "metadata": {},
     "output_type": "display_data"
    },
    {
     "data": {
      "text/html": [
       "<div class=\"\"><span class=\"tfsechead \"><span class=\"ltr\"><a target=\"_blank\" href=\"http://resources.huygens.knaw.nl/retroboeken/generalemissiven/#page=287&amp;source=12\" title=\"Show this document on Huygens\" sec=\"12 276:17\">12 276:17</a></span></span>  <span class=\"txtu\">Banda </span></div>"
      ],
      "text/plain": [
       "<IPython.core.display.HTML object>"
      ]
     },
     "metadata": {},
     "output_type": "display_data"
    },
    {
     "data": {
      "text/html": [
       "<div class=\"\"><span class=\"tfsechead \"><span class=\"ltr\"><a target=\"_blank\" href=\"http://resources.huygens.knaw.nl/retroboeken/generalemissiven/#page=287&amp;source=12\" title=\"Show this document on Huygens\" sec=\"12 276:17\">12 276:17</a></span></span>  <span class=\"txtu\">Twee </span><span class=\"txtu\">extract </span><span class=\"txtu\">brieven </span><span class=\"txtu\">door </span><span class=\"txtu\">de </span><span class=\"txtu\">Bataviase </span><span class=\"txtu\">weeskamer </span><span class=\"txtu\">aan </span><span class=\"txtu\">die </span><span class=\"txtu\">in </span><span class=\"txtu\">Banda </span><span class=\"txtu\">over </span><span class=\"txtu\">de </span><span class=\"txtu\">voorsz. </span></div>"
      ],
      "text/plain": [
       "<IPython.core.display.HTML object>"
      ]
     },
     "metadata": {},
     "output_type": "display_data"
    },
    {
     "data": {
      "text/html": [
       "<div class=\"\"><span class=\"tfsechead \"><span class=\"ltr\"><a target=\"_blank\" href=\"http://resources.huygens.knaw.nl/retroboeken/generalemissiven/#page=287&amp;source=12\" title=\"Show this document on Huygens\" sec=\"12 276:19\">12 276:19</a></span></span>  <span class=\"txtu\">Batavia </span></div>"
      ],
      "text/plain": [
       "<IPython.core.display.HTML object>"
      ]
     },
     "metadata": {},
     "output_type": "display_data"
    },
    {
     "data": {
      "text/html": [
       "<div class=\"\"><span class=\"tfsechead \"><span class=\"ltr\"><a target=\"_blank\" href=\"http://resources.huygens.knaw.nl/retroboeken/generalemissiven/#page=287&amp;source=12\" title=\"Show this document on Huygens\" sec=\"12 276:19\">12 276:19</a></span></span>  <span class=\"txtu\">Vervolgens </span><span class=\"txtu\">heeft </span><span class=\"txtu\">Batavia </span><span class=\"txtu\">een </span><span class=\"txtu\">brief </span><span class=\"txtu\">van </span><span class=\"txtu\">het </span><span class=\"txtu\">bestuur </span><span class=\"txtu\">van </span><span class=\"txtu\">5 </span><span class=\"txtu\">september </span><span class=\"txtu\">ontvangen </span><span class=\"txtu\">met </span></div>"
      ],
      "text/plain": [
       "<IPython.core.display.HTML object>"
      ]
     },
     "metadata": {},
     "output_type": "display_data"
    },
    {
     "name": "stdout",
     "output_type": "stream",
     "text": [
      "Overlap 149: Batavia - Banda’s "
     ]
    },
    {
     "data": {
      "text/html": [
       "<div class=\"\"><span class=\"tfsechead \"><span class=\"ltr\"><a target=\"_blank\" href=\"http://resources.huygens.knaw.nl/retroboeken/generalemissiven/#page=287&amp;source=12\" title=\"Show this document on Huygens\" sec=\"12 276:1\">12 276:1</a></span></span>  <span class=\"txtu \"><span class=\"structure\"><span class=\"nd\">volume</span> 12, <span class=\"nd\">letter</span> Mossel, Cluysenaar, Van Broyel, Van der Waeyen, Van der Parra, Van der Spar, Van Gollenesse, Van de Velde, Van Rheede, De Nijs, Van Bazel; Batavia, 31 december 1752</span></span></div>"
      ],
      "text/plain": [
       "<IPython.core.display.HTML object>"
      ]
     },
     "metadata": {},
     "output_type": "display_data"
    },
    {
     "data": {
      "text/html": [
       "<div class=\"\"><span class=\"tfsechead \"><span class=\"ltr\"><a target=\"_blank\" href=\"http://resources.huygens.knaw.nl/retroboeken/generalemissiven/#page=287&amp;source=12\" title=\"Show this document on Huygens\" sec=\"12 276:19\">12 276:19</a></span></span>  <span class=\"txtu\">Batavia </span></div>"
      ],
      "text/plain": [
       "<IPython.core.display.HTML object>"
      ]
     },
     "metadata": {},
     "output_type": "display_data"
    },
    {
     "data": {
      "text/html": [
       "<div class=\"\"><span class=\"tfsechead \"><span class=\"ltr\"><a target=\"_blank\" href=\"http://resources.huygens.knaw.nl/retroboeken/generalemissiven/#page=287&amp;source=12\" title=\"Show this document on Huygens\" sec=\"12 276:19\">12 276:19</a></span></span>  <span class=\"txtu\">Vervolgens </span><span class=\"txtu\">heeft </span><span class=\"txtu\">Batavia </span><span class=\"txtu\">een </span><span class=\"txtu\">brief </span><span class=\"txtu\">van </span><span class=\"txtu\">het </span><span class=\"txtu\">bestuur </span><span class=\"txtu\">van </span><span class=\"txtu\">5 </span><span class=\"txtu\">september </span><span class=\"txtu\">ontvangen </span><span class=\"txtu\">met </span></div>"
      ],
      "text/plain": [
       "<IPython.core.display.HTML object>"
      ]
     },
     "metadata": {},
     "output_type": "display_data"
    },
    {
     "data": {
      "text/html": [
       "<div class=\"\"><span class=\"tfsechead \"><span class=\"ltr\"><a target=\"_blank\" href=\"http://resources.huygens.knaw.nl/retroboeken/generalemissiven/#page=287&amp;source=12\" title=\"Show this document on Huygens\" sec=\"12 276:22\">12 276:22</a></span></span>  <span class=\"txtu\">Banda’s </span></div>"
      ],
      "text/plain": [
       "<IPython.core.display.HTML object>"
      ]
     },
     "metadata": {},
     "output_type": "display_data"
    },
    {
     "data": {
      "text/html": [
       "<div class=\"\"><span class=\"tfsechead \"><span class=\"ltr\"><a target=\"_blank\" href=\"http://resources.huygens.knaw.nl/retroboeken/generalemissiven/#page=287&amp;source=12\" title=\"Show this document on Huygens\" sec=\"12 276:22\">12 276:22</a></span></span>  <span class=\"txtu\">Eene </span><span class=\"txtu\">resolutie </span><span class=\"txtu\">genomen </span><span class=\"txtu\">in </span><span class=\"txtu\">Politicquen </span><span class=\"txtu\">Rade </span><span class=\"txtu\">te </span><span class=\"txtu\">Neira (</span><span class=\"txtu\">Banda’s </span><span class=\"txtu\">hoofdplaats) </span><span class=\"txtu\">op </span><span class=\"txtu\">den </span><span class=\"txtu\">27e </span></div>"
      ],
      "text/plain": [
       "<IPython.core.display.HTML object>"
      ]
     },
     "metadata": {},
     "output_type": "display_data"
    },
    {
     "name": "stdout",
     "output_type": "stream",
     "text": [
      "Overlap 150: Batavia - Banda "
     ]
    },
    {
     "data": {
      "text/html": [
       "<div class=\"\"><span class=\"tfsechead \"><span class=\"ltr\"><a target=\"_blank\" href=\"http://resources.huygens.knaw.nl/retroboeken/generalemissiven/#page=304&amp;source=12\" title=\"Show this document on Huygens\" sec=\"12 293:1\">12 293:1</a></span></span>  <span class=\"txtu \"><span class=\"structure\"><span class=\"nd\">volume</span> 12, <span class=\"nd\">letter</span> Mossel, Van der Waeyen, Van der Parra, Van der Spar, Van Gollenesse, Van de Velde, Van Rheede, De Nijs, Van Bazel, Hooreman; Batavia, 31 december 1753</span></span></div>"
      ],
      "text/plain": [
       "<IPython.core.display.HTML object>"
      ]
     },
     "metadata": {},
     "output_type": "display_data"
    },
    {
     "data": {
      "text/html": [
       "<div class=\"\"><span class=\"tfsechead \"><span class=\"ltr\"><a target=\"_blank\" href=\"http://resources.huygens.knaw.nl/retroboeken/generalemissiven/#page=304&amp;source=12\" title=\"Show this document on Huygens\" sec=\"12 293:3\">12 293:3</a></span></span>  <span class=\"txtu\">Batavia </span></div>"
      ],
      "text/plain": [
       "<IPython.core.display.HTML object>"
      ]
     },
     "metadata": {},
     "output_type": "display_data"
    },
    {
     "data": {
      "text/html": [
       "<div class=\"\"><span class=\"tfsechead \"><span class=\"ltr\"><a target=\"_blank\" href=\"http://resources.huygens.knaw.nl/retroboeken/generalemissiven/#page=304&amp;source=12\" title=\"Show this document on Huygens\" sec=\"12 293:3\">12 293:3</a></span></span>  <span class=\"txtu\">Batavia </span><span class=\"txtu\">stuurt </span><span class=\"txtu\">deze </span><span class=\"txtu\">missive </span><span class=\"txtu\">met </span><span class=\"txtu\">de </span><span class=\"txtu\">Lekkerland, </span><span class=\"txtu\">Gustaaf </span><span class=\"txtu\">Willem, </span><span class=\"txtu\">Gerechtigheid </span><span class=\"txtu\">en </span></div>"
      ],
      "text/plain": [
       "<IPython.core.display.HTML object>"
      ]
     },
     "metadata": {},
     "output_type": "display_data"
    },
    {
     "data": {
      "text/html": [
       "<div class=\"\"><span class=\"tfsechead \"><span class=\"ltr\"><a target=\"_blank\" href=\"http://resources.huygens.knaw.nl/retroboeken/generalemissiven/#page=304&amp;source=12\" title=\"Show this document on Huygens\" sec=\"12 293:11\">12 293:11</a></span></span>  <span class=\"txtu\">Banda </span></div>"
      ],
      "text/plain": [
       "<IPython.core.display.HTML object>"
      ]
     },
     "metadata": {},
     "output_type": "display_data"
    },
    {
     "data": {
      "text/html": [
       "<div class=\"\"><span class=\"tfsechead \"><span class=\"ltr\"><a target=\"_blank\" href=\"http://resources.huygens.knaw.nl/retroboeken/generalemissiven/#page=304&amp;source=12\" title=\"Show this document on Huygens\" sec=\"12 293:11\">12 293:11</a></span></span>  <span class=\"txtu\">laag </span><span class=\"txtu\">schatten. </span><span class=\"txtu\">De </span><span class=\"txtu\">Hoge </span><span class=\"txtu\">Regering </span><span class=\"txtu\">heeft </span><span class=\"txtu\">de </span><span class=\"txtu\">Ouwerkerk </span><span class=\"txtu\">via </span><span class=\"txtu\">Banda </span><span class=\"txtu\">en </span><span class=\"txtu\">de </span><span class=\"txtu\">Snoek </span><span class=\"txtu\">via </span><span class=\"txtu\">Makassar, </span></div>"
      ],
      "text/plain": [
       "<IPython.core.display.HTML object>"
      ]
     },
     "metadata": {},
     "output_type": "display_data"
    },
    {
     "name": "stdout",
     "output_type": "stream",
     "text": [
      "Overlap 151: Batavia - Banda "
     ]
    },
    {
     "data": {
      "text/html": [
       "<div class=\"\"><span class=\"tfsechead \"><span class=\"ltr\"><a target=\"_blank\" href=\"http://resources.huygens.knaw.nl/retroboeken/generalemissiven/#page=304&amp;source=12\" title=\"Show this document on Huygens\" sec=\"12 293:1\">12 293:1</a></span></span>  <span class=\"txtu \"><span class=\"structure\"><span class=\"nd\">volume</span> 12, <span class=\"nd\">letter</span> Mossel, Van der Waeyen, Van der Parra, Van der Spar, Van Gollenesse, Van de Velde, Van Rheede, De Nijs, Van Bazel, Hooreman; Batavia, 31 december 1753</span></span></div>"
      ],
      "text/plain": [
       "<IPython.core.display.HTML object>"
      ]
     },
     "metadata": {},
     "output_type": "display_data"
    },
    {
     "data": {
      "text/html": [
       "<div class=\"\"><span class=\"tfsechead \"><span class=\"ltr\"><a target=\"_blank\" href=\"http://resources.huygens.knaw.nl/retroboeken/generalemissiven/#page=304&amp;source=12\" title=\"Show this document on Huygens\" sec=\"12 293:7\">12 293:7</a></span></span>  <span class=\"txtu\">Batavia </span></div>"
      ],
      "text/plain": [
       "<IPython.core.display.HTML object>"
      ]
     },
     "metadata": {},
     "output_type": "display_data"
    },
    {
     "data": {
      "text/html": [
       "<div class=\"\"><span class=\"tfsechead \"><span class=\"ltr\"><a target=\"_blank\" href=\"http://resources.huygens.knaw.nl/retroboeken/generalemissiven/#page=304&amp;source=12\" title=\"Show this document on Huygens\" sec=\"12 293:7\">12 293:7</a></span></span>  <span class=\"txtu\">Vandaar </span><span class=\"txtu\">dit </span><span class=\"txtu\">jaar </span><span class=\"txtu\">slechts </span><span class=\"txtu\">150. </span><span class=\"txtu\">000 </span><span class=\"txtu\">Ib </span><span class=\"txtu\">kruidnagels </span><span class=\"txtu\">ontvangen </span><span class=\"txtu\">zodat </span><span class=\"txtu\">Batavia </span><span class=\"txtu\">dit </span><span class=\"txtu\">keer </span><span class=\"txtu\">geen </span></div>"
      ],
      "text/plain": [
       "<IPython.core.display.HTML object>"
      ]
     },
     "metadata": {},
     "output_type": "display_data"
    },
    {
     "data": {
      "text/html": [
       "<div class=\"\"><span class=\"tfsechead \"><span class=\"ltr\"><a target=\"_blank\" href=\"http://resources.huygens.knaw.nl/retroboeken/generalemissiven/#page=304&amp;source=12\" title=\"Show this document on Huygens\" sec=\"12 293:11\">12 293:11</a></span></span>  <span class=\"txtu\">Banda </span></div>"
      ],
      "text/plain": [
       "<IPython.core.display.HTML object>"
      ]
     },
     "metadata": {},
     "output_type": "display_data"
    },
    {
     "data": {
      "text/html": [
       "<div class=\"\"><span class=\"tfsechead \"><span class=\"ltr\"><a target=\"_blank\" href=\"http://resources.huygens.knaw.nl/retroboeken/generalemissiven/#page=304&amp;source=12\" title=\"Show this document on Huygens\" sec=\"12 293:11\">12 293:11</a></span></span>  <span class=\"txtu\">laag </span><span class=\"txtu\">schatten. </span><span class=\"txtu\">De </span><span class=\"txtu\">Hoge </span><span class=\"txtu\">Regering </span><span class=\"txtu\">heeft </span><span class=\"txtu\">de </span><span class=\"txtu\">Ouwerkerk </span><span class=\"txtu\">via </span><span class=\"txtu\">Banda </span><span class=\"txtu\">en </span><span class=\"txtu\">de </span><span class=\"txtu\">Snoek </span><span class=\"txtu\">via </span><span class=\"txtu\">Makassar, </span></div>"
      ],
      "text/plain": [
       "<IPython.core.display.HTML object>"
      ]
     },
     "metadata": {},
     "output_type": "display_data"
    },
    {
     "name": "stdout",
     "output_type": "stream",
     "text": [
      "Overlap 152: Batavia - Banda "
     ]
    },
    {
     "data": {
      "text/html": [
       "<div class=\"\"><span class=\"tfsechead \"><span class=\"ltr\"><a target=\"_blank\" href=\"http://resources.huygens.knaw.nl/retroboeken/generalemissiven/#page=304&amp;source=12\" title=\"Show this document on Huygens\" sec=\"12 293:1\">12 293:1</a></span></span>  <span class=\"txtu \"><span class=\"structure\"><span class=\"nd\">volume</span> 12, <span class=\"nd\">letter</span> Mossel, Van der Waeyen, Van der Parra, Van der Spar, Van Gollenesse, Van de Velde, Van Rheede, De Nijs, Van Bazel, Hooreman; Batavia, 31 december 1753</span></span></div>"
      ],
      "text/plain": [
       "<IPython.core.display.HTML object>"
      ]
     },
     "metadata": {},
     "output_type": "display_data"
    },
    {
     "data": {
      "text/html": [
       "<div class=\"\"><span class=\"tfsechead \"><span class=\"ltr\"><a target=\"_blank\" href=\"http://resources.huygens.knaw.nl/retroboeken/generalemissiven/#page=304&amp;source=12\" title=\"Show this document on Huygens\" sec=\"12 293:10\">12 293:10</a></span></span>  <span class=\"txtu\">Batavia </span></div>"
      ],
      "text/plain": [
       "<IPython.core.display.HTML object>"
      ]
     },
     "metadata": {},
     "output_type": "display_data"
    },
    {
     "data": {
      "text/html": [
       "<div class=\"\"><span class=\"tfsechead \"><span class=\"ltr\"><a target=\"_blank\" href=\"http://resources.huygens.knaw.nl/retroboeken/generalemissiven/#page=304&amp;source=12\" title=\"Show this document on Huygens\" sec=\"12 293:10\">12 293:10</a></span></span>  <span class=\"txtu\">Ib </span><span class=\"txtu\">bedraagt, </span><span class=\"txtu\">verwacht </span><span class=\"txtu\">Batavia </span><span class=\"txtu\">een </span><span class=\"txtu\">grotere </span><span class=\"txtu\">hoeveelheid </span><span class=\"txtu\">omdat </span><span class=\"txtu\">de </span><span class=\"txtu\">inlanders </span><span class=\"txtu\">meestal </span><span class=\"txtu\">te </span></div>"
      ],
      "text/plain": [
       "<IPython.core.display.HTML object>"
      ]
     },
     "metadata": {},
     "output_type": "display_data"
    },
    {
     "data": {
      "text/html": [
       "<div class=\"\"><span class=\"tfsechead \"><span class=\"ltr\"><a target=\"_blank\" href=\"http://resources.huygens.knaw.nl/retroboeken/generalemissiven/#page=304&amp;source=12\" title=\"Show this document on Huygens\" sec=\"12 293:11\">12 293:11</a></span></span>  <span class=\"txtu\">Banda </span></div>"
      ],
      "text/plain": [
       "<IPython.core.display.HTML object>"
      ]
     },
     "metadata": {},
     "output_type": "display_data"
    },
    {
     "data": {
      "text/html": [
       "<div class=\"\"><span class=\"tfsechead \"><span class=\"ltr\"><a target=\"_blank\" href=\"http://resources.huygens.knaw.nl/retroboeken/generalemissiven/#page=304&amp;source=12\" title=\"Show this document on Huygens\" sec=\"12 293:11\">12 293:11</a></span></span>  <span class=\"txtu\">laag </span><span class=\"txtu\">schatten. </span><span class=\"txtu\">De </span><span class=\"txtu\">Hoge </span><span class=\"txtu\">Regering </span><span class=\"txtu\">heeft </span><span class=\"txtu\">de </span><span class=\"txtu\">Ouwerkerk </span><span class=\"txtu\">via </span><span class=\"txtu\">Banda </span><span class=\"txtu\">en </span><span class=\"txtu\">de </span><span class=\"txtu\">Snoek </span><span class=\"txtu\">via </span><span class=\"txtu\">Makassar, </span></div>"
      ],
      "text/plain": [
       "<IPython.core.display.HTML object>"
      ]
     },
     "metadata": {},
     "output_type": "display_data"
    },
    {
     "name": "stdout",
     "output_type": "stream",
     "text": [
      "Overlap 153: Batavia - Banda "
     ]
    },
    {
     "data": {
      "text/html": [
       "<div class=\"\"><span class=\"tfsechead \"><span class=\"ltr\"><a target=\"_blank\" href=\"http://resources.huygens.knaw.nl/retroboeken/generalemissiven/#page=405&amp;source=12\" title=\"Show this document on Huygens\" sec=\"12 394:1\">12 394:1</a></span></span>  <span class=\"txtu \"><span class=\"structure\"><span class=\"nd\">volume</span> 12, <span class=\"nd\">letter</span> Mossel, Van der Waeyen, Van der Parra, Van der Spar, Van Gollenesse, Van de Velde, Van Rheede, Van Bazel, Hooreman, Van Hohendorf, Van Riemsdijk; Batavia, 15 oktober 1754</span></span></div>"
      ],
      "text/plain": [
       "<IPython.core.display.HTML object>"
      ]
     },
     "metadata": {},
     "output_type": "display_data"
    },
    {
     "data": {
      "text/html": [
       "<div class=\"\"><span class=\"tfsechead \"><span class=\"ltr\"><a target=\"_blank\" href=\"http://resources.huygens.knaw.nl/retroboeken/generalemissiven/#page=405&amp;source=12\" title=\"Show this document on Huygens\" sec=\"12 394:5\">12 394:5</a></span></span>  <span class=\"txtu\">Batavia </span></div>"
      ],
      "text/plain": [
       "<IPython.core.display.HTML object>"
      ]
     },
     "metadata": {},
     "output_type": "display_data"
    },
    {
     "data": {
      "text/html": [
       "<div class=\"\"><span class=\"tfsechead \"><span class=\"ltr\"><a target=\"_blank\" href=\"http://resources.huygens.knaw.nl/retroboeken/generalemissiven/#page=405&amp;source=12\" title=\"Show this document on Huygens\" sec=\"12 394:5\">12 394:5</a></span></span>  <span class=\"txtu\">Batavia </span><span class=\"txtu\">beantwoordt </span><span class=\"txtu\">de </span><span class=\"txtu\">brieven </span><span class=\"txtu\">van </span><span class=\"txtu\">Heren </span><span class=\"txtu\">XVII </span><span class=\"txtu\">van </span><span class=\"txtu\">8 </span><span class=\"txtu\">en </span><span class=\"txtu\">12 </span><span class=\"txtu\">oktober </span><span class=\"txtu\">1753 </span><span class=\"txtu\">en </span><span class=\"txtu\">verwijst </span></div>"
      ],
      "text/plain": [
       "<IPython.core.display.HTML object>"
      ]
     },
     "metadata": {},
     "output_type": "display_data"
    },
    {
     "data": {
      "text/html": [
       "<div class=\"\"><span class=\"tfsechead \"><span class=\"ltr\"><a target=\"_blank\" href=\"http://resources.huygens.knaw.nl/retroboeken/generalemissiven/#page=405&amp;source=12\" title=\"Show this document on Huygens\" sec=\"12 394:19\">12 394:19</a></span></span>  <span class=\"txtu\">Banda </span></div>"
      ],
      "text/plain": [
       "<IPython.core.display.HTML object>"
      ]
     },
     "metadata": {},
     "output_type": "display_data"
    },
    {
     "data": {
      "text/html": [
       "<div class=\"\"><span class=\"tfsechead \"><span class=\"ltr\"><a target=\"_blank\" href=\"http://resources.huygens.knaw.nl/retroboeken/generalemissiven/#page=405&amp;source=12\" title=\"Show this document on Huygens\" sec=\"12 394:19\">12 394:19</a></span></span>  <span class=\"txtu\">Banda </span></div>"
      ],
      "text/plain": [
       "<IPython.core.display.HTML object>"
      ]
     },
     "metadata": {},
     "output_type": "display_data"
    },
    {
     "name": "stdout",
     "output_type": "stream",
     "text": [
      "Overlap 154: Batavia - Banda "
     ]
    },
    {
     "data": {
      "text/html": [
       "<div class=\"\"><span class=\"tfsechead \"><span class=\"ltr\"><a target=\"_blank\" href=\"http://resources.huygens.knaw.nl/retroboeken/generalemissiven/#page=405&amp;source=12\" title=\"Show this document on Huygens\" sec=\"12 394:1\">12 394:1</a></span></span>  <span class=\"txtu \"><span class=\"structure\"><span class=\"nd\">volume</span> 12, <span class=\"nd\">letter</span> Mossel, Van der Waeyen, Van der Parra, Van der Spar, Van Gollenesse, Van de Velde, Van Rheede, Van Bazel, Hooreman, Van Hohendorf, Van Riemsdijk; Batavia, 15 oktober 1754</span></span></div>"
      ],
      "text/plain": [
       "<IPython.core.display.HTML object>"
      ]
     },
     "metadata": {},
     "output_type": "display_data"
    },
    {
     "data": {
      "text/html": [
       "<div class=\"\"><span class=\"tfsechead \"><span class=\"ltr\"><a target=\"_blank\" href=\"http://resources.huygens.knaw.nl/retroboeken/generalemissiven/#page=405&amp;source=12\" title=\"Show this document on Huygens\" sec=\"12 394:5\">12 394:5</a></span></span>  <span class=\"txtu\">Batavia </span></div>"
      ],
      "text/plain": [
       "<IPython.core.display.HTML object>"
      ]
     },
     "metadata": {},
     "output_type": "display_data"
    },
    {
     "data": {
      "text/html": [
       "<div class=\"\"><span class=\"tfsechead \"><span class=\"ltr\"><a target=\"_blank\" href=\"http://resources.huygens.knaw.nl/retroboeken/generalemissiven/#page=405&amp;source=12\" title=\"Show this document on Huygens\" sec=\"12 394:5\">12 394:5</a></span></span>  <span class=\"txtu\">Batavia </span><span class=\"txtu\">beantwoordt </span><span class=\"txtu\">de </span><span class=\"txtu\">brieven </span><span class=\"txtu\">van </span><span class=\"txtu\">Heren </span><span class=\"txtu\">XVII </span><span class=\"txtu\">van </span><span class=\"txtu\">8 </span><span class=\"txtu\">en </span><span class=\"txtu\">12 </span><span class=\"txtu\">oktober </span><span class=\"txtu\">1753 </span><span class=\"txtu\">en </span><span class=\"txtu\">verwijst </span></div>"
      ],
      "text/plain": [
       "<IPython.core.display.HTML object>"
      ]
     },
     "metadata": {},
     "output_type": "display_data"
    },
    {
     "data": {
      "text/html": [
       "<div class=\"\"><span class=\"tfsechead \"><span class=\"ltr\"><a target=\"_blank\" href=\"http://resources.huygens.knaw.nl/retroboeken/generalemissiven/#page=405&amp;source=12\" title=\"Show this document on Huygens\" sec=\"12 394:20\">12 394:20</a></span></span>  <span class=\"txtu\">Banda </span></div>"
      ],
      "text/plain": [
       "<IPython.core.display.HTML object>"
      ]
     },
     "metadata": {},
     "output_type": "display_data"
    },
    {
     "data": {
      "text/html": [
       "<div class=\"\"><span class=\"tfsechead \"><span class=\"ltr\"><a target=\"_blank\" href=\"http://resources.huygens.knaw.nl/retroboeken/generalemissiven/#page=405&amp;source=12\" title=\"Show this document on Huygens\" sec=\"12 394:20\">12 394:20</a></span></span>  <span class=\"txtu\">De </span><span class=\"txtu\">verpagting </span><span class=\"txtu\">der </span><span class=\"txtu\">Warkayse </span><span class=\"txtu\">paarlreeven </span><span class=\"txtu\">te </span><span class=\"txtu\">Banda </span><span class=\"txtu\">zal </span><span class=\"txtu\">men </span><span class=\"txtu\">weder </span><span class=\"txtu\">aanbeveelen </span><span class=\"txtu\">en </span><span class=\"txtu\">het </span></div>"
      ],
      "text/plain": [
       "<IPython.core.display.HTML object>"
      ]
     },
     "metadata": {},
     "output_type": "display_data"
    },
    {
     "name": "stdout",
     "output_type": "stream",
     "text": [
      "Overlap 155: Batavia - Bandase "
     ]
    },
    {
     "data": {
      "text/html": [
       "<div class=\"\"><span class=\"tfsechead \"><span class=\"ltr\"><a target=\"_blank\" href=\"http://resources.huygens.knaw.nl/retroboeken/generalemissiven/#page=405&amp;source=12\" title=\"Show this document on Huygens\" sec=\"12 394:1\">12 394:1</a></span></span>  <span class=\"txtu \"><span class=\"structure\"><span class=\"nd\">volume</span> 12, <span class=\"nd\">letter</span> Mossel, Van der Waeyen, Van der Parra, Van der Spar, Van Gollenesse, Van de Velde, Van Rheede, Van Bazel, Hooreman, Van Hohendorf, Van Riemsdijk; Batavia, 15 oktober 1754</span></span></div>"
      ],
      "text/plain": [
       "<IPython.core.display.HTML object>"
      ]
     },
     "metadata": {},
     "output_type": "display_data"
    },
    {
     "data": {
      "text/html": [
       "<div class=\"\"><span class=\"tfsechead \"><span class=\"ltr\"><a target=\"_blank\" href=\"http://resources.huygens.knaw.nl/retroboeken/generalemissiven/#page=405&amp;source=12\" title=\"Show this document on Huygens\" sec=\"12 394:5\">12 394:5</a></span></span>  <span class=\"txtu\">Batavia </span></div>"
      ],
      "text/plain": [
       "<IPython.core.display.HTML object>"
      ]
     },
     "metadata": {},
     "output_type": "display_data"
    },
    {
     "data": {
      "text/html": [
       "<div class=\"\"><span class=\"tfsechead \"><span class=\"ltr\"><a target=\"_blank\" href=\"http://resources.huygens.knaw.nl/retroboeken/generalemissiven/#page=405&amp;source=12\" title=\"Show this document on Huygens\" sec=\"12 394:5\">12 394:5</a></span></span>  <span class=\"txtu\">Batavia </span><span class=\"txtu\">beantwoordt </span><span class=\"txtu\">de </span><span class=\"txtu\">brieven </span><span class=\"txtu\">van </span><span class=\"txtu\">Heren </span><span class=\"txtu\">XVII </span><span class=\"txtu\">van </span><span class=\"txtu\">8 </span><span class=\"txtu\">en </span><span class=\"txtu\">12 </span><span class=\"txtu\">oktober </span><span class=\"txtu\">1753 </span><span class=\"txtu\">en </span><span class=\"txtu\">verwijst </span></div>"
      ],
      "text/plain": [
       "<IPython.core.display.HTML object>"
      ]
     },
     "metadata": {},
     "output_type": "display_data"
    },
    {
     "data": {
      "text/html": [
       "<div class=\"\"><span class=\"tfsechead \"><span class=\"ltr\"><a target=\"_blank\" href=\"http://resources.huygens.knaw.nl/retroboeken/generalemissiven/#page=405&amp;source=12\" title=\"Show this document on Huygens\" sec=\"12 394:21\">12 394:21</a></span></span>  <span class=\"txtu\">Bandase </span></div>"
      ],
      "text/plain": [
       "<IPython.core.display.HTML object>"
      ]
     },
     "metadata": {},
     "output_type": "display_data"
    },
    {
     "data": {
      "text/html": [
       "<div class=\"\"><span class=\"tfsechead \"><span class=\"ltr\"><a target=\"_blank\" href=\"http://resources.huygens.knaw.nl/retroboeken/generalemissiven/#page=405&amp;source=12\" title=\"Show this document on Huygens\" sec=\"12 394:21\">12 394:21</a></span></span>  <span class=\"txtu\">aankweeken </span><span class=\"txtu\">van </span><span class=\"txtu\">hoornvee </span><span class=\"txtu\">op </span><span class=\"txtu\">de </span><span class=\"txtu\">Bandase </span><span class=\"txtu\">eylanden </span><span class=\"txtu\">met </span><span class=\"txtu\">vlijt </span><span class=\"txtu\">doen </span><span class=\"txtu\">aanvatten </span><span class=\"txtu\">en </span><span class=\"txtu\">favoriseeren, </span></div>"
      ],
      "text/plain": [
       "<IPython.core.display.HTML object>"
      ]
     },
     "metadata": {},
     "output_type": "display_data"
    },
    {
     "name": "stdout",
     "output_type": "stream",
     "text": [
      "Overlap 156: Batavia - Banda "
     ]
    },
    {
     "data": {
      "text/html": [
       "<div class=\"\"><span class=\"tfsechead \"><span class=\"ltr\"><a target=\"_blank\" href=\"http://resources.huygens.knaw.nl/retroboeken/generalemissiven/#page=405&amp;source=12\" title=\"Show this document on Huygens\" sec=\"12 394:1\">12 394:1</a></span></span>  <span class=\"txtu \"><span class=\"structure\"><span class=\"nd\">volume</span> 12, <span class=\"nd\">letter</span> Mossel, Van der Waeyen, Van der Parra, Van der Spar, Van Gollenesse, Van de Velde, Van Rheede, Van Bazel, Hooreman, Van Hohendorf, Van Riemsdijk; Batavia, 15 oktober 1754</span></span></div>"
      ],
      "text/plain": [
       "<IPython.core.display.HTML object>"
      ]
     },
     "metadata": {},
     "output_type": "display_data"
    },
    {
     "data": {
      "text/html": [
       "<div class=\"\"><span class=\"tfsechead \"><span class=\"ltr\"><a target=\"_blank\" href=\"http://resources.huygens.knaw.nl/retroboeken/generalemissiven/#page=405&amp;source=12\" title=\"Show this document on Huygens\" sec=\"12 394:13\">12 394:13</a></span></span>  <span class=\"txtu\">Batavia </span></div>"
      ],
      "text/plain": [
       "<IPython.core.display.HTML object>"
      ]
     },
     "metadata": {},
     "output_type": "display_data"
    },
    {
     "data": {
      "text/html": [
       "<div class=\"\"><span class=\"tfsechead \"><span class=\"ltr\"><a target=\"_blank\" href=\"http://resources.huygens.knaw.nl/retroboeken/generalemissiven/#page=405&amp;source=12\" title=\"Show this document on Huygens\" sec=\"12 394:13\">12 394:13</a></span></span>  <span class=\"txtu\">wijzigen </span><span class=\"txtu\">omdat </span><span class=\"txtu\">dit </span><span class=\"txtu\">‘ </span><span class=\"txtu\">aan </span><span class=\"txtu\">de </span><span class=\"txtu\">dienaren </span><span class=\"txtu\">mede </span><span class=\"txtu\">niets </span><span class=\"txtu\">onbehoorlijks </span><span class=\"txtu\">toelaat </span><span class=\"txtu\">’. </span><span class=\"txtu\">Batavia </span><span class=\"txtu\">heeft </span><span class=\"txtu\">dus </span></div>"
      ],
      "text/plain": [
       "<IPython.core.display.HTML object>"
      ]
     },
     "metadata": {},
     "output_type": "display_data"
    },
    {
     "data": {
      "text/html": [
       "<div class=\"\"><span class=\"tfsechead \"><span class=\"ltr\"><a target=\"_blank\" href=\"http://resources.huygens.knaw.nl/retroboeken/generalemissiven/#page=405&amp;source=12\" title=\"Show this document on Huygens\" sec=\"12 394:19\">12 394:19</a></span></span>  <span class=\"txtu\">Banda </span></div>"
      ],
      "text/plain": [
       "<IPython.core.display.HTML object>"
      ]
     },
     "metadata": {},
     "output_type": "display_data"
    },
    {
     "data": {
      "text/html": [
       "<div class=\"\"><span class=\"tfsechead \"><span class=\"ltr\"><a target=\"_blank\" href=\"http://resources.huygens.knaw.nl/retroboeken/generalemissiven/#page=405&amp;source=12\" title=\"Show this document on Huygens\" sec=\"12 394:19\">12 394:19</a></span></span>  <span class=\"txtu\">Banda </span></div>"
      ],
      "text/plain": [
       "<IPython.core.display.HTML object>"
      ]
     },
     "metadata": {},
     "output_type": "display_data"
    },
    {
     "name": "stdout",
     "output_type": "stream",
     "text": [
      "Overlap 157: Batavia - Banda "
     ]
    },
    {
     "data": {
      "text/html": [
       "<div class=\"\"><span class=\"tfsechead \"><span class=\"ltr\"><a target=\"_blank\" href=\"http://resources.huygens.knaw.nl/retroboeken/generalemissiven/#page=405&amp;source=12\" title=\"Show this document on Huygens\" sec=\"12 394:1\">12 394:1</a></span></span>  <span class=\"txtu \"><span class=\"structure\"><span class=\"nd\">volume</span> 12, <span class=\"nd\">letter</span> Mossel, Van der Waeyen, Van der Parra, Van der Spar, Van Gollenesse, Van de Velde, Van Rheede, Van Bazel, Hooreman, Van Hohendorf, Van Riemsdijk; Batavia, 15 oktober 1754</span></span></div>"
      ],
      "text/plain": [
       "<IPython.core.display.HTML object>"
      ]
     },
     "metadata": {},
     "output_type": "display_data"
    },
    {
     "data": {
      "text/html": [
       "<div class=\"\"><span class=\"tfsechead \"><span class=\"ltr\"><a target=\"_blank\" href=\"http://resources.huygens.knaw.nl/retroboeken/generalemissiven/#page=405&amp;source=12\" title=\"Show this document on Huygens\" sec=\"12 394:13\">12 394:13</a></span></span>  <span class=\"txtu\">Batavia </span></div>"
      ],
      "text/plain": [
       "<IPython.core.display.HTML object>"
      ]
     },
     "metadata": {},
     "output_type": "display_data"
    },
    {
     "data": {
      "text/html": [
       "<div class=\"\"><span class=\"tfsechead \"><span class=\"ltr\"><a target=\"_blank\" href=\"http://resources.huygens.knaw.nl/retroboeken/generalemissiven/#page=405&amp;source=12\" title=\"Show this document on Huygens\" sec=\"12 394:13\">12 394:13</a></span></span>  <span class=\"txtu\">wijzigen </span><span class=\"txtu\">omdat </span><span class=\"txtu\">dit </span><span class=\"txtu\">‘ </span><span class=\"txtu\">aan </span><span class=\"txtu\">de </span><span class=\"txtu\">dienaren </span><span class=\"txtu\">mede </span><span class=\"txtu\">niets </span><span class=\"txtu\">onbehoorlijks </span><span class=\"txtu\">toelaat </span><span class=\"txtu\">’. </span><span class=\"txtu\">Batavia </span><span class=\"txtu\">heeft </span><span class=\"txtu\">dus </span></div>"
      ],
      "text/plain": [
       "<IPython.core.display.HTML object>"
      ]
     },
     "metadata": {},
     "output_type": "display_data"
    },
    {
     "data": {
      "text/html": [
       "<div class=\"\"><span class=\"tfsechead \"><span class=\"ltr\"><a target=\"_blank\" href=\"http://resources.huygens.knaw.nl/retroboeken/generalemissiven/#page=405&amp;source=12\" title=\"Show this document on Huygens\" sec=\"12 394:20\">12 394:20</a></span></span>  <span class=\"txtu\">Banda </span></div>"
      ],
      "text/plain": [
       "<IPython.core.display.HTML object>"
      ]
     },
     "metadata": {},
     "output_type": "display_data"
    },
    {
     "data": {
      "text/html": [
       "<div class=\"\"><span class=\"tfsechead \"><span class=\"ltr\"><a target=\"_blank\" href=\"http://resources.huygens.knaw.nl/retroboeken/generalemissiven/#page=405&amp;source=12\" title=\"Show this document on Huygens\" sec=\"12 394:20\">12 394:20</a></span></span>  <span class=\"txtu\">De </span><span class=\"txtu\">verpagting </span><span class=\"txtu\">der </span><span class=\"txtu\">Warkayse </span><span class=\"txtu\">paarlreeven </span><span class=\"txtu\">te </span><span class=\"txtu\">Banda </span><span class=\"txtu\">zal </span><span class=\"txtu\">men </span><span class=\"txtu\">weder </span><span class=\"txtu\">aanbeveelen </span><span class=\"txtu\">en </span><span class=\"txtu\">het </span></div>"
      ],
      "text/plain": [
       "<IPython.core.display.HTML object>"
      ]
     },
     "metadata": {},
     "output_type": "display_data"
    },
    {
     "name": "stdout",
     "output_type": "stream",
     "text": [
      "Overlap 158: Batavia - Bandase "
     ]
    },
    {
     "data": {
      "text/html": [
       "<div class=\"\"><span class=\"tfsechead \"><span class=\"ltr\"><a target=\"_blank\" href=\"http://resources.huygens.knaw.nl/retroboeken/generalemissiven/#page=405&amp;source=12\" title=\"Show this document on Huygens\" sec=\"12 394:1\">12 394:1</a></span></span>  <span class=\"txtu \"><span class=\"structure\"><span class=\"nd\">volume</span> 12, <span class=\"nd\">letter</span> Mossel, Van der Waeyen, Van der Parra, Van der Spar, Van Gollenesse, Van de Velde, Van Rheede, Van Bazel, Hooreman, Van Hohendorf, Van Riemsdijk; Batavia, 15 oktober 1754</span></span></div>"
      ],
      "text/plain": [
       "<IPython.core.display.HTML object>"
      ]
     },
     "metadata": {},
     "output_type": "display_data"
    },
    {
     "data": {
      "text/html": [
       "<div class=\"\"><span class=\"tfsechead \"><span class=\"ltr\"><a target=\"_blank\" href=\"http://resources.huygens.knaw.nl/retroboeken/generalemissiven/#page=405&amp;source=12\" title=\"Show this document on Huygens\" sec=\"12 394:13\">12 394:13</a></span></span>  <span class=\"txtu\">Batavia </span></div>"
      ],
      "text/plain": [
       "<IPython.core.display.HTML object>"
      ]
     },
     "metadata": {},
     "output_type": "display_data"
    },
    {
     "data": {
      "text/html": [
       "<div class=\"\"><span class=\"tfsechead \"><span class=\"ltr\"><a target=\"_blank\" href=\"http://resources.huygens.knaw.nl/retroboeken/generalemissiven/#page=405&amp;source=12\" title=\"Show this document on Huygens\" sec=\"12 394:13\">12 394:13</a></span></span>  <span class=\"txtu\">wijzigen </span><span class=\"txtu\">omdat </span><span class=\"txtu\">dit </span><span class=\"txtu\">‘ </span><span class=\"txtu\">aan </span><span class=\"txtu\">de </span><span class=\"txtu\">dienaren </span><span class=\"txtu\">mede </span><span class=\"txtu\">niets </span><span class=\"txtu\">onbehoorlijks </span><span class=\"txtu\">toelaat </span><span class=\"txtu\">’. </span><span class=\"txtu\">Batavia </span><span class=\"txtu\">heeft </span><span class=\"txtu\">dus </span></div>"
      ],
      "text/plain": [
       "<IPython.core.display.HTML object>"
      ]
     },
     "metadata": {},
     "output_type": "display_data"
    },
    {
     "data": {
      "text/html": [
       "<div class=\"\"><span class=\"tfsechead \"><span class=\"ltr\"><a target=\"_blank\" href=\"http://resources.huygens.knaw.nl/retroboeken/generalemissiven/#page=405&amp;source=12\" title=\"Show this document on Huygens\" sec=\"12 394:21\">12 394:21</a></span></span>  <span class=\"txtu\">Bandase </span></div>"
      ],
      "text/plain": [
       "<IPython.core.display.HTML object>"
      ]
     },
     "metadata": {},
     "output_type": "display_data"
    },
    {
     "data": {
      "text/html": [
       "<div class=\"\"><span class=\"tfsechead \"><span class=\"ltr\"><a target=\"_blank\" href=\"http://resources.huygens.knaw.nl/retroboeken/generalemissiven/#page=405&amp;source=12\" title=\"Show this document on Huygens\" sec=\"12 394:21\">12 394:21</a></span></span>  <span class=\"txtu\">aankweeken </span><span class=\"txtu\">van </span><span class=\"txtu\">hoornvee </span><span class=\"txtu\">op </span><span class=\"txtu\">de </span><span class=\"txtu\">Bandase </span><span class=\"txtu\">eylanden </span><span class=\"txtu\">met </span><span class=\"txtu\">vlijt </span><span class=\"txtu\">doen </span><span class=\"txtu\">aanvatten </span><span class=\"txtu\">en </span><span class=\"txtu\">favoriseeren, </span></div>"
      ],
      "text/plain": [
       "<IPython.core.display.HTML object>"
      ]
     },
     "metadata": {},
     "output_type": "display_data"
    },
    {
     "name": "stdout",
     "output_type": "stream",
     "text": [
      "Overlap 159: Batavia - Banda "
     ]
    },
    {
     "data": {
      "text/html": [
       "<div class=\"\"><span class=\"tfsechead \"><span class=\"ltr\"><a target=\"_blank\" href=\"http://resources.huygens.knaw.nl/retroboeken/generalemissiven/#page=19&amp;source=13\" title=\"Show this document on Huygens\" sec=\"13 8:1\">13 8:1</a></span></span>  <span class=\"txtu \"><span class=\"structure\"><span class=\"nd\">volume</span> 13, <span class=\"nd\">letter</span> Mossel, Van der Waeyen, Van der Parra, Van der Spar, Van de Velde, Van Rheede, De Nijs, Van Bazel, Hooreman, Van Hohendorf, Van Riemsdijk, De Klerk; Batavia, 15 oktober 1756</span></span></div>"
      ],
      "text/plain": [
       "<IPython.core.display.HTML object>"
      ]
     },
     "metadata": {},
     "output_type": "display_data"
    },
    {
     "data": {
      "text/html": [
       "<div class=\"\"><span class=\"tfsechead \"><span class=\"ltr\"><a target=\"_blank\" href=\"http://resources.huygens.knaw.nl/retroboeken/generalemissiven/#page=19&amp;source=13\" title=\"Show this document on Huygens\" sec=\"13 8:8\">13 8:8</a></span></span>  <span class=\"txtu\">Batavia </span></div>"
      ],
      "text/plain": [
       "<IPython.core.display.HTML object>"
      ]
     },
     "metadata": {},
     "output_type": "display_data"
    },
    {
     "data": {
      "text/html": [
       "<div class=\"\"><span class=\"tfsechead \"><span class=\"ltr\"><a target=\"_blank\" href=\"http://resources.huygens.knaw.nl/retroboeken/generalemissiven/#page=19&amp;source=13\" title=\"Show this document on Huygens\" sec=\"13 8:8\">13 8:8</a></span></span>  <span class=\"txtu\">Deze </span><span class=\"txtu\">missive </span><span class=\"txtu\">wordt </span><span class=\"txtu\">verstuurd </span><span class=\"txtu\">met </span><span class=\"txtu\">de </span><span class=\"txtu\">Vredestein. </span><span class=\"txtu\">In </span><span class=\"txtu\">het </span><span class=\"txtu\">voorjaar </span><span class=\"txtu\">heeft </span><span class=\"txtu\">Batavia </span><span class=\"txtu\">de </span></div>"
      ],
      "text/plain": [
       "<IPython.core.display.HTML object>"
      ]
     },
     "metadata": {},
     "output_type": "display_data"
    },
    {
     "data": {
      "text/html": [
       "<div class=\"\"><span class=\"tfsechead \"><span class=\"ltr\"><a target=\"_blank\" href=\"http://resources.huygens.knaw.nl/retroboeken/generalemissiven/#page=19&amp;source=13\" title=\"Show this document on Huygens\" sec=\"13 8:12\">13 8:12</a></span></span>  <span class=\"txtu\">Banda </span></div>"
      ],
      "text/plain": [
       "<IPython.core.display.HTML object>"
      ]
     },
     "metadata": {},
     "output_type": "display_data"
    },
    {
     "data": {
      "text/html": [
       "<div class=\"\"><span class=\"tfsechead \"><span class=\"ltr\"><a target=\"_blank\" href=\"http://resources.huygens.knaw.nl/retroboeken/generalemissiven/#page=19&amp;source=13\" title=\"Show this document on Huygens\" sec=\"13 8:12\">13 8:12</a></span></span>  <span class=\"txtu\">Batavia </span><span class=\"txtu\">naar </span><span class=\"txtu\">de </span><span class=\"txtu\">brieven </span><span class=\"txtu\">naar </span><span class=\"txtu\">Banda </span><span class=\"txtu\">d. </span><span class=\"txtu\">d. </span><span class=\"txtu\">28 </span><span class=\"txtu\">december </span><span class=\"txtu\">1753, </span><span class=\"txtu\">5 </span><span class=\"txtu\">december </span><span class=\"txtu\">1754 </span><span class=\"txtu\">en </span></div>"
      ],
      "text/plain": [
       "<IPython.core.display.HTML object>"
      ]
     },
     "metadata": {},
     "output_type": "display_data"
    },
    {
     "name": "stdout",
     "output_type": "stream",
     "text": [
      "Overlap 160: Batavia - Banda "
     ]
    },
    {
     "data": {
      "text/html": [
       "<div class=\"\"><span class=\"tfsechead \"><span class=\"ltr\"><a target=\"_blank\" href=\"http://resources.huygens.knaw.nl/retroboeken/generalemissiven/#page=19&amp;source=13\" title=\"Show this document on Huygens\" sec=\"13 8:1\">13 8:1</a></span></span>  <span class=\"txtu \"><span class=\"structure\"><span class=\"nd\">volume</span> 13, <span class=\"nd\">letter</span> Mossel, Van der Waeyen, Van der Parra, Van der Spar, Van de Velde, Van Rheede, De Nijs, Van Bazel, Hooreman, Van Hohendorf, Van Riemsdijk, De Klerk; Batavia, 15 oktober 1756</span></span></div>"
      ],
      "text/plain": [
       "<IPython.core.display.HTML object>"
      ]
     },
     "metadata": {},
     "output_type": "display_data"
    },
    {
     "data": {
      "text/html": [
       "<div class=\"\"><span class=\"tfsechead \"><span class=\"ltr\"><a target=\"_blank\" href=\"http://resources.huygens.knaw.nl/retroboeken/generalemissiven/#page=19&amp;source=13\" title=\"Show this document on Huygens\" sec=\"13 8:8\">13 8:8</a></span></span>  <span class=\"txtu\">Batavia </span></div>"
      ],
      "text/plain": [
       "<IPython.core.display.HTML object>"
      ]
     },
     "metadata": {},
     "output_type": "display_data"
    },
    {
     "data": {
      "text/html": [
       "<div class=\"\"><span class=\"tfsechead \"><span class=\"ltr\"><a target=\"_blank\" href=\"http://resources.huygens.knaw.nl/retroboeken/generalemissiven/#page=19&amp;source=13\" title=\"Show this document on Huygens\" sec=\"13 8:8\">13 8:8</a></span></span>  <span class=\"txtu\">Deze </span><span class=\"txtu\">missive </span><span class=\"txtu\">wordt </span><span class=\"txtu\">verstuurd </span><span class=\"txtu\">met </span><span class=\"txtu\">de </span><span class=\"txtu\">Vredestein. </span><span class=\"txtu\">In </span><span class=\"txtu\">het </span><span class=\"txtu\">voorjaar </span><span class=\"txtu\">heeft </span><span class=\"txtu\">Batavia </span><span class=\"txtu\">de </span></div>"
      ],
      "text/plain": [
       "<IPython.core.display.HTML object>"
      ]
     },
     "metadata": {},
     "output_type": "display_data"
    },
    {
     "data": {
      "text/html": [
       "<div class=\"\"><span class=\"tfsechead \"><span class=\"ltr\"><a target=\"_blank\" href=\"http://resources.huygens.knaw.nl/retroboeken/generalemissiven/#page=19&amp;source=13\" title=\"Show this document on Huygens\" sec=\"13 8:13\">13 8:13</a></span></span>  <span class=\"txtu\">Banda </span></div>"
      ],
      "text/plain": [
       "<IPython.core.display.HTML object>"
      ]
     },
     "metadata": {},
     "output_type": "display_data"
    },
    {
     "data": {
      "text/html": [
       "<div class=\"\"><span class=\"tfsechead \"><span class=\"ltr\"><a target=\"_blank\" href=\"http://resources.huygens.knaw.nl/retroboeken/generalemissiven/#page=19&amp;source=13\" title=\"Show this document on Huygens\" sec=\"13 8:13\">13 8:13</a></span></span>  <span class=\"txtu\">28 </span><span class=\"txtu\">december </span><span class=\"txtu\">1755 </span><span class=\"txtu\">en </span><span class=\"txtu\">naar </span><span class=\"txtu\">de </span><span class=\"txtu\">brieven </span><span class=\"txtu\">van </span><span class=\"txtu\">Banda </span><span class=\"txtu\">d. </span><span class=\"txtu\">d. </span><span class=\"txtu\">31 </span><span class=\"txtu\">mei </span><span class=\"txtu\">1754 </span><span class=\"txtu\">en </span><span class=\"txtu\">28 </span><span class=\"txtu\">november </span><span class=\"txtu\">1755. </span></div>"
      ],
      "text/plain": [
       "<IPython.core.display.HTML object>"
      ]
     },
     "metadata": {},
     "output_type": "display_data"
    },
    {
     "name": "stdout",
     "output_type": "stream",
     "text": [
      "Overlap 161: Batavia - Banda "
     ]
    },
    {
     "data": {
      "text/html": [
       "<div class=\"\"><span class=\"tfsechead \"><span class=\"ltr\"><a target=\"_blank\" href=\"http://resources.huygens.knaw.nl/retroboeken/generalemissiven/#page=19&amp;source=13\" title=\"Show this document on Huygens\" sec=\"13 8:1\">13 8:1</a></span></span>  <span class=\"txtu \"><span class=\"structure\"><span class=\"nd\">volume</span> 13, <span class=\"nd\">letter</span> Mossel, Van der Waeyen, Van der Parra, Van der Spar, Van de Velde, Van Rheede, De Nijs, Van Bazel, Hooreman, Van Hohendorf, Van Riemsdijk, De Klerk; Batavia, 15 oktober 1756</span></span></div>"
      ],
      "text/plain": [
       "<IPython.core.display.HTML object>"
      ]
     },
     "metadata": {},
     "output_type": "display_data"
    },
    {
     "data": {
      "text/html": [
       "<div class=\"\"><span class=\"tfsechead \"><span class=\"ltr\"><a target=\"_blank\" href=\"http://resources.huygens.knaw.nl/retroboeken/generalemissiven/#page=19&amp;source=13\" title=\"Show this document on Huygens\" sec=\"13 8:8\">13 8:8</a></span></span>  <span class=\"txtu\">Batavia </span></div>"
      ],
      "text/plain": [
       "<IPython.core.display.HTML object>"
      ]
     },
     "metadata": {},
     "output_type": "display_data"
    },
    {
     "data": {
      "text/html": [
       "<div class=\"\"><span class=\"tfsechead \"><span class=\"ltr\"><a target=\"_blank\" href=\"http://resources.huygens.knaw.nl/retroboeken/generalemissiven/#page=19&amp;source=13\" title=\"Show this document on Huygens\" sec=\"13 8:8\">13 8:8</a></span></span>  <span class=\"txtu\">Deze </span><span class=\"txtu\">missive </span><span class=\"txtu\">wordt </span><span class=\"txtu\">verstuurd </span><span class=\"txtu\">met </span><span class=\"txtu\">de </span><span class=\"txtu\">Vredestein. </span><span class=\"txtu\">In </span><span class=\"txtu\">het </span><span class=\"txtu\">voorjaar </span><span class=\"txtu\">heeft </span><span class=\"txtu\">Batavia </span><span class=\"txtu\">de </span></div>"
      ],
      "text/plain": [
       "<IPython.core.display.HTML object>"
      ]
     },
     "metadata": {},
     "output_type": "display_data"
    },
    {
     "data": {
      "text/html": [
       "<div class=\"\"><span class=\"tfsechead \"><span class=\"ltr\"><a target=\"_blank\" href=\"http://resources.huygens.knaw.nl/retroboeken/generalemissiven/#page=19&amp;source=13\" title=\"Show this document on Huygens\" sec=\"13 8:15\">13 8:15</a></span></span>  <span class=\"txtu\">Banda </span></div>"
      ],
      "text/plain": [
       "<IPython.core.display.HTML object>"
      ]
     },
     "metadata": {},
     "output_type": "display_data"
    },
    {
     "data": {
      "text/html": [
       "<div class=\"\"><span class=\"tfsechead \"><span class=\"ltr\"><a target=\"_blank\" href=\"http://resources.huygens.knaw.nl/retroboeken/generalemissiven/#page=19&amp;source=13\" title=\"Show this document on Huygens\" sec=\"13 8:15\">13 8:15</a></span></span>  <span class=\"txtu\">Banda </span><span class=\"txtu\">zijn </span><span class=\"txtu\">te </span><span class=\"txtu\">vinden </span><span class=\"txtu\">in </span><span class=\"txtu\">de </span><span class=\"txtu\">Bandase </span><span class=\"txtu\">resoluties </span><span class=\"txtu\">van </span><span class=\"txtu\">15 </span><span class=\"txtu\">februari, </span><span class=\"txtu\">6 </span><span class=\"txtu\">en </span><span class=\"txtu\">18 </span><span class=\"txtu\">maart, </span><span class=\"txtu\">en </span><span class=\"txtu\">16 </span><span class=\"txtu\">april </span></div>"
      ],
      "text/plain": [
       "<IPython.core.display.HTML object>"
      ]
     },
     "metadata": {},
     "output_type": "display_data"
    },
    {
     "name": "stdout",
     "output_type": "stream",
     "text": [
      "Overlap 162: Batavia - Bandase "
     ]
    },
    {
     "data": {
      "text/html": [
       "<div class=\"\"><span class=\"tfsechead \"><span class=\"ltr\"><a target=\"_blank\" href=\"http://resources.huygens.knaw.nl/retroboeken/generalemissiven/#page=19&amp;source=13\" title=\"Show this document on Huygens\" sec=\"13 8:1\">13 8:1</a></span></span>  <span class=\"txtu \"><span class=\"structure\"><span class=\"nd\">volume</span> 13, <span class=\"nd\">letter</span> Mossel, Van der Waeyen, Van der Parra, Van der Spar, Van de Velde, Van Rheede, De Nijs, Van Bazel, Hooreman, Van Hohendorf, Van Riemsdijk, De Klerk; Batavia, 15 oktober 1756</span></span></div>"
      ],
      "text/plain": [
       "<IPython.core.display.HTML object>"
      ]
     },
     "metadata": {},
     "output_type": "display_data"
    },
    {
     "data": {
      "text/html": [
       "<div class=\"\"><span class=\"tfsechead \"><span class=\"ltr\"><a target=\"_blank\" href=\"http://resources.huygens.knaw.nl/retroboeken/generalemissiven/#page=19&amp;source=13\" title=\"Show this document on Huygens\" sec=\"13 8:8\">13 8:8</a></span></span>  <span class=\"txtu\">Batavia </span></div>"
      ],
      "text/plain": [
       "<IPython.core.display.HTML object>"
      ]
     },
     "metadata": {},
     "output_type": "display_data"
    },
    {
     "data": {
      "text/html": [
       "<div class=\"\"><span class=\"tfsechead \"><span class=\"ltr\"><a target=\"_blank\" href=\"http://resources.huygens.knaw.nl/retroboeken/generalemissiven/#page=19&amp;source=13\" title=\"Show this document on Huygens\" sec=\"13 8:8\">13 8:8</a></span></span>  <span class=\"txtu\">Deze </span><span class=\"txtu\">missive </span><span class=\"txtu\">wordt </span><span class=\"txtu\">verstuurd </span><span class=\"txtu\">met </span><span class=\"txtu\">de </span><span class=\"txtu\">Vredestein. </span><span class=\"txtu\">In </span><span class=\"txtu\">het </span><span class=\"txtu\">voorjaar </span><span class=\"txtu\">heeft </span><span class=\"txtu\">Batavia </span><span class=\"txtu\">de </span></div>"
      ],
      "text/plain": [
       "<IPython.core.display.HTML object>"
      ]
     },
     "metadata": {},
     "output_type": "display_data"
    },
    {
     "data": {
      "text/html": [
       "<div class=\"\"><span class=\"tfsechead \"><span class=\"ltr\"><a target=\"_blank\" href=\"http://resources.huygens.knaw.nl/retroboeken/generalemissiven/#page=19&amp;source=13\" title=\"Show this document on Huygens\" sec=\"13 8:15\">13 8:15</a></span></span>  <span class=\"txtu\">Bandase </span></div>"
      ],
      "text/plain": [
       "<IPython.core.display.HTML object>"
      ]
     },
     "metadata": {},
     "output_type": "display_data"
    },
    {
     "data": {
      "text/html": [
       "<div class=\"\"><span class=\"tfsechead \"><span class=\"ltr\"><a target=\"_blank\" href=\"http://resources.huygens.knaw.nl/retroboeken/generalemissiven/#page=19&amp;source=13\" title=\"Show this document on Huygens\" sec=\"13 8:15\">13 8:15</a></span></span>  <span class=\"txtu\">Banda </span><span class=\"txtu\">zijn </span><span class=\"txtu\">te </span><span class=\"txtu\">vinden </span><span class=\"txtu\">in </span><span class=\"txtu\">de </span><span class=\"txtu\">Bandase </span><span class=\"txtu\">resoluties </span><span class=\"txtu\">van </span><span class=\"txtu\">15 </span><span class=\"txtu\">februari, </span><span class=\"txtu\">6 </span><span class=\"txtu\">en </span><span class=\"txtu\">18 </span><span class=\"txtu\">maart, </span><span class=\"txtu\">en </span><span class=\"txtu\">16 </span><span class=\"txtu\">april </span></div>"
      ],
      "text/plain": [
       "<IPython.core.display.HTML object>"
      ]
     },
     "metadata": {},
     "output_type": "display_data"
    },
    {
     "name": "stdout",
     "output_type": "stream",
     "text": [
      "Overlap 163: Batavia - Banda’s "
     ]
    },
    {
     "data": {
      "text/html": [
       "<div class=\"\"><span class=\"tfsechead \"><span class=\"ltr\"><a target=\"_blank\" href=\"http://resources.huygens.knaw.nl/retroboeken/generalemissiven/#page=19&amp;source=13\" title=\"Show this document on Huygens\" sec=\"13 8:1\">13 8:1</a></span></span>  <span class=\"txtu \"><span class=\"structure\"><span class=\"nd\">volume</span> 13, <span class=\"nd\">letter</span> Mossel, Van der Waeyen, Van der Parra, Van der Spar, Van de Velde, Van Rheede, De Nijs, Van Bazel, Hooreman, Van Hohendorf, Van Riemsdijk, De Klerk; Batavia, 15 oktober 1756</span></span></div>"
      ],
      "text/plain": [
       "<IPython.core.display.HTML object>"
      ]
     },
     "metadata": {},
     "output_type": "display_data"
    },
    {
     "data": {
      "text/html": [
       "<div class=\"\"><span class=\"tfsechead \"><span class=\"ltr\"><a target=\"_blank\" href=\"http://resources.huygens.knaw.nl/retroboeken/generalemissiven/#page=19&amp;source=13\" title=\"Show this document on Huygens\" sec=\"13 8:8\">13 8:8</a></span></span>  <span class=\"txtu\">Batavia </span></div>"
      ],
      "text/plain": [
       "<IPython.core.display.HTML object>"
      ]
     },
     "metadata": {},
     "output_type": "display_data"
    },
    {
     "data": {
      "text/html": [
       "<div class=\"\"><span class=\"tfsechead \"><span class=\"ltr\"><a target=\"_blank\" href=\"http://resources.huygens.knaw.nl/retroboeken/generalemissiven/#page=19&amp;source=13\" title=\"Show this document on Huygens\" sec=\"13 8:8\">13 8:8</a></span></span>  <span class=\"txtu\">Deze </span><span class=\"txtu\">missive </span><span class=\"txtu\">wordt </span><span class=\"txtu\">verstuurd </span><span class=\"txtu\">met </span><span class=\"txtu\">de </span><span class=\"txtu\">Vredestein. </span><span class=\"txtu\">In </span><span class=\"txtu\">het </span><span class=\"txtu\">voorjaar </span><span class=\"txtu\">heeft </span><span class=\"txtu\">Batavia </span><span class=\"txtu\">de </span></div>"
      ],
      "text/plain": [
       "<IPython.core.display.HTML object>"
      ]
     },
     "metadata": {},
     "output_type": "display_data"
    },
    {
     "data": {
      "text/html": [
       "<div class=\"\"><span class=\"tfsechead \"><span class=\"ltr\"><a target=\"_blank\" href=\"http://resources.huygens.knaw.nl/retroboeken/generalemissiven/#page=19&amp;source=13\" title=\"Show this document on Huygens\" sec=\"13 8:18\">13 8:18</a></span></span>  <span class=\"txtu\">Banda’s </span></div>"
      ],
      "text/plain": [
       "<IPython.core.display.HTML object>"
      ]
     },
     "metadata": {},
     "output_type": "display_data"
    },
    {
     "data": {
      "text/html": [
       "<div class=\"\"><span class=\"tfsechead \"><span class=\"ltr\"><a target=\"_blank\" href=\"http://resources.huygens.knaw.nl/retroboeken/generalemissiven/#page=19&amp;source=13\" title=\"Show this document on Huygens\" sec=\"13 8:18\">13 8:18</a></span></span>  <span class=\"txtu\">De </span><span class=\"txtu\">verplaatsing </span><span class=\"txtu\">van </span><span class=\"txtu\">’t </span><span class=\"txtu\">Banda’s </span><span class=\"txtu\">hoofdcomptoir </span><span class=\"txtu\">na </span><span class=\"txtu\">Lontoir </span><span class=\"txtu\">is </span><span class=\"txtu\">van </span><span class=\"txtu\">geen </span><span class=\"txtu\">de </span><span class=\"txtu\">minste </span></div>"
      ],
      "text/plain": [
       "<IPython.core.display.HTML object>"
      ]
     },
     "metadata": {},
     "output_type": "display_data"
    },
    {
     "name": "stdout",
     "output_type": "stream",
     "text": [
      "Overlap 164: Batavia - Banda "
     ]
    },
    {
     "data": {
      "text/html": [
       "<div class=\"\"><span class=\"tfsechead \"><span class=\"ltr\"><a target=\"_blank\" href=\"http://resources.huygens.knaw.nl/retroboeken/generalemissiven/#page=19&amp;source=13\" title=\"Show this document on Huygens\" sec=\"13 8:1\">13 8:1</a></span></span>  <span class=\"txtu \"><span class=\"structure\"><span class=\"nd\">volume</span> 13, <span class=\"nd\">letter</span> Mossel, Van der Waeyen, Van der Parra, Van der Spar, Van de Velde, Van Rheede, De Nijs, Van Bazel, Hooreman, Van Hohendorf, Van Riemsdijk, De Klerk; Batavia, 15 oktober 1756</span></span></div>"
      ],
      "text/plain": [
       "<IPython.core.display.HTML object>"
      ]
     },
     "metadata": {},
     "output_type": "display_data"
    },
    {
     "data": {
      "text/html": [
       "<div class=\"\"><span class=\"tfsechead \"><span class=\"ltr\"><a target=\"_blank\" href=\"http://resources.huygens.knaw.nl/retroboeken/generalemissiven/#page=19&amp;source=13\" title=\"Show this document on Huygens\" sec=\"13 8:8\">13 8:8</a></span></span>  <span class=\"txtu\">Batavia </span></div>"
      ],
      "text/plain": [
       "<IPython.core.display.HTML object>"
      ]
     },
     "metadata": {},
     "output_type": "display_data"
    },
    {
     "data": {
      "text/html": [
       "<div class=\"\"><span class=\"tfsechead \"><span class=\"ltr\"><a target=\"_blank\" href=\"http://resources.huygens.knaw.nl/retroboeken/generalemissiven/#page=19&amp;source=13\" title=\"Show this document on Huygens\" sec=\"13 8:8\">13 8:8</a></span></span>  <span class=\"txtu\">Deze </span><span class=\"txtu\">missive </span><span class=\"txtu\">wordt </span><span class=\"txtu\">verstuurd </span><span class=\"txtu\">met </span><span class=\"txtu\">de </span><span class=\"txtu\">Vredestein. </span><span class=\"txtu\">In </span><span class=\"txtu\">het </span><span class=\"txtu\">voorjaar </span><span class=\"txtu\">heeft </span><span class=\"txtu\">Batavia </span><span class=\"txtu\">de </span></div>"
      ],
      "text/plain": [
       "<IPython.core.display.HTML object>"
      ]
     },
     "metadata": {},
     "output_type": "display_data"
    },
    {
     "data": {
      "text/html": [
       "<div class=\"\"><span class=\"tfsechead \"><span class=\"ltr\"><a target=\"_blank\" href=\"http://resources.huygens.knaw.nl/retroboeken/generalemissiven/#page=19&amp;source=13\" title=\"Show this document on Huygens\" sec=\"13 8:21\">13 8:21</a></span></span>  <span class=\"txtu\">Banda </span></div>"
      ],
      "text/plain": [
       "<IPython.core.display.HTML object>"
      ]
     },
     "metadata": {},
     "output_type": "display_data"
    },
    {
     "data": {
      "text/html": [
       "<div class=\"\"><span class=\"tfsechead \"><span class=\"ltr\"><a target=\"_blank\" href=\"http://resources.huygens.knaw.nl/retroboeken/generalemissiven/#page=19&amp;source=13\" title=\"Show this document on Huygens\" sec=\"13 8:21\">13 8:21</a></span></span>  <span class=\"txtu\">4 </span><span class=\"txtu\">december </span><span class=\"txtu\">1753, </span><span class=\"txtu\">brief </span><span class=\"txtu\">na </span><span class=\"txtu\">Banda </span><span class=\"txtu\">uit. </span><span class=\"txtu\">dier </span><span class=\"txtu\">maand, </span><span class=\"txtu\">brief </span><span class=\"txtu\">van </span><span class=\"txtu\">Banda </span><span class=\"txtu\">na </span><span class=\"txtu\">herwaards </span></div>"
      ],
      "text/plain": [
       "<IPython.core.display.HTML object>"
      ]
     },
     "metadata": {},
     "output_type": "display_data"
    },
    {
     "name": "stdout",
     "output_type": "stream",
     "text": [
      "Overlap 165: Batavia - Banda "
     ]
    },
    {
     "data": {
      "text/html": [
       "<div class=\"\"><span class=\"tfsechead \"><span class=\"ltr\"><a target=\"_blank\" href=\"http://resources.huygens.knaw.nl/retroboeken/generalemissiven/#page=19&amp;source=13\" title=\"Show this document on Huygens\" sec=\"13 8:1\">13 8:1</a></span></span>  <span class=\"txtu \"><span class=\"structure\"><span class=\"nd\">volume</span> 13, <span class=\"nd\">letter</span> Mossel, Van der Waeyen, Van der Parra, Van der Spar, Van de Velde, Van Rheede, De Nijs, Van Bazel, Hooreman, Van Hohendorf, Van Riemsdijk, De Klerk; Batavia, 15 oktober 1756</span></span></div>"
      ],
      "text/plain": [
       "<IPython.core.display.HTML object>"
      ]
     },
     "metadata": {},
     "output_type": "display_data"
    },
    {
     "data": {
      "text/html": [
       "<div class=\"\"><span class=\"tfsechead \"><span class=\"ltr\"><a target=\"_blank\" href=\"http://resources.huygens.knaw.nl/retroboeken/generalemissiven/#page=19&amp;source=13\" title=\"Show this document on Huygens\" sec=\"13 8:8\">13 8:8</a></span></span>  <span class=\"txtu\">Batavia </span></div>"
      ],
      "text/plain": [
       "<IPython.core.display.HTML object>"
      ]
     },
     "metadata": {},
     "output_type": "display_data"
    },
    {
     "data": {
      "text/html": [
       "<div class=\"\"><span class=\"tfsechead \"><span class=\"ltr\"><a target=\"_blank\" href=\"http://resources.huygens.knaw.nl/retroboeken/generalemissiven/#page=19&amp;source=13\" title=\"Show this document on Huygens\" sec=\"13 8:8\">13 8:8</a></span></span>  <span class=\"txtu\">Deze </span><span class=\"txtu\">missive </span><span class=\"txtu\">wordt </span><span class=\"txtu\">verstuurd </span><span class=\"txtu\">met </span><span class=\"txtu\">de </span><span class=\"txtu\">Vredestein. </span><span class=\"txtu\">In </span><span class=\"txtu\">het </span><span class=\"txtu\">voorjaar </span><span class=\"txtu\">heeft </span><span class=\"txtu\">Batavia </span><span class=\"txtu\">de </span></div>"
      ],
      "text/plain": [
       "<IPython.core.display.HTML object>"
      ]
     },
     "metadata": {},
     "output_type": "display_data"
    },
    {
     "data": {
      "text/html": [
       "<div class=\"\"><span class=\"tfsechead \"><span class=\"ltr\"><a target=\"_blank\" href=\"http://resources.huygens.knaw.nl/retroboeken/generalemissiven/#page=19&amp;source=13\" title=\"Show this document on Huygens\" sec=\"13 8:21\">13 8:21</a></span></span>  <span class=\"txtu\">Banda </span></div>"
      ],
      "text/plain": [
       "<IPython.core.display.HTML object>"
      ]
     },
     "metadata": {},
     "output_type": "display_data"
    },
    {
     "data": {
      "text/html": [
       "<div class=\"\"><span class=\"tfsechead \"><span class=\"ltr\"><a target=\"_blank\" href=\"http://resources.huygens.knaw.nl/retroboeken/generalemissiven/#page=19&amp;source=13\" title=\"Show this document on Huygens\" sec=\"13 8:21\">13 8:21</a></span></span>  <span class=\"txtu\">4 </span><span class=\"txtu\">december </span><span class=\"txtu\">1753, </span><span class=\"txtu\">brief </span><span class=\"txtu\">na </span><span class=\"txtu\">Banda </span><span class=\"txtu\">uit. </span><span class=\"txtu\">dier </span><span class=\"txtu\">maand, </span><span class=\"txtu\">brief </span><span class=\"txtu\">van </span><span class=\"txtu\">Banda </span><span class=\"txtu\">na </span><span class=\"txtu\">herwaards </span></div>"
      ],
      "text/plain": [
       "<IPython.core.display.HTML object>"
      ]
     },
     "metadata": {},
     "output_type": "display_data"
    },
    {
     "name": "stdout",
     "output_type": "stream",
     "text": [
      "Overlap 166: Batavia - Banda "
     ]
    },
    {
     "data": {
      "text/html": [
       "<div class=\"\"><span class=\"tfsechead \"><span class=\"ltr\"><a target=\"_blank\" href=\"http://resources.huygens.knaw.nl/retroboeken/generalemissiven/#page=19&amp;source=13\" title=\"Show this document on Huygens\" sec=\"13 8:1\">13 8:1</a></span></span>  <span class=\"txtu \"><span class=\"structure\"><span class=\"nd\">volume</span> 13, <span class=\"nd\">letter</span> Mossel, Van der Waeyen, Van der Parra, Van der Spar, Van de Velde, Van Rheede, De Nijs, Van Bazel, Hooreman, Van Hohendorf, Van Riemsdijk, De Klerk; Batavia, 15 oktober 1756</span></span></div>"
      ],
      "text/plain": [
       "<IPython.core.display.HTML object>"
      ]
     },
     "metadata": {},
     "output_type": "display_data"
    },
    {
     "data": {
      "text/html": [
       "<div class=\"\"><span class=\"tfsechead \"><span class=\"ltr\"><a target=\"_blank\" href=\"http://resources.huygens.knaw.nl/retroboeken/generalemissiven/#page=19&amp;source=13\" title=\"Show this document on Huygens\" sec=\"13 8:12\">13 8:12</a></span></span>  <span class=\"txtu\">Batavia </span></div>"
      ],
      "text/plain": [
       "<IPython.core.display.HTML object>"
      ]
     },
     "metadata": {},
     "output_type": "display_data"
    },
    {
     "data": {
      "text/html": [
       "<div class=\"\"><span class=\"tfsechead \"><span class=\"ltr\"><a target=\"_blank\" href=\"http://resources.huygens.knaw.nl/retroboeken/generalemissiven/#page=19&amp;source=13\" title=\"Show this document on Huygens\" sec=\"13 8:12\">13 8:12</a></span></span>  <span class=\"txtu\">Batavia </span><span class=\"txtu\">naar </span><span class=\"txtu\">de </span><span class=\"txtu\">brieven </span><span class=\"txtu\">naar </span><span class=\"txtu\">Banda </span><span class=\"txtu\">d. </span><span class=\"txtu\">d. </span><span class=\"txtu\">28 </span><span class=\"txtu\">december </span><span class=\"txtu\">1753, </span><span class=\"txtu\">5 </span><span class=\"txtu\">december </span><span class=\"txtu\">1754 </span><span class=\"txtu\">en </span></div>"
      ],
      "text/plain": [
       "<IPython.core.display.HTML object>"
      ]
     },
     "metadata": {},
     "output_type": "display_data"
    },
    {
     "data": {
      "text/html": [
       "<div class=\"\"><span class=\"tfsechead \"><span class=\"ltr\"><a target=\"_blank\" href=\"http://resources.huygens.knaw.nl/retroboeken/generalemissiven/#page=19&amp;source=13\" title=\"Show this document on Huygens\" sec=\"13 8:12\">13 8:12</a></span></span>  <span class=\"txtu\">Banda </span></div>"
      ],
      "text/plain": [
       "<IPython.core.display.HTML object>"
      ]
     },
     "metadata": {},
     "output_type": "display_data"
    },
    {
     "data": {
      "text/html": [
       "<div class=\"\"><span class=\"tfsechead \"><span class=\"ltr\"><a target=\"_blank\" href=\"http://resources.huygens.knaw.nl/retroboeken/generalemissiven/#page=19&amp;source=13\" title=\"Show this document on Huygens\" sec=\"13 8:12\">13 8:12</a></span></span>  <span class=\"txtu\">Batavia </span><span class=\"txtu\">naar </span><span class=\"txtu\">de </span><span class=\"txtu\">brieven </span><span class=\"txtu\">naar </span><span class=\"txtu\">Banda </span><span class=\"txtu\">d. </span><span class=\"txtu\">d. </span><span class=\"txtu\">28 </span><span class=\"txtu\">december </span><span class=\"txtu\">1753, </span><span class=\"txtu\">5 </span><span class=\"txtu\">december </span><span class=\"txtu\">1754 </span><span class=\"txtu\">en </span></div>"
      ],
      "text/plain": [
       "<IPython.core.display.HTML object>"
      ]
     },
     "metadata": {},
     "output_type": "display_data"
    },
    {
     "name": "stdout",
     "output_type": "stream",
     "text": [
      "Overlap 167: Batavia - Banda "
     ]
    },
    {
     "data": {
      "text/html": [
       "<div class=\"\"><span class=\"tfsechead \"><span class=\"ltr\"><a target=\"_blank\" href=\"http://resources.huygens.knaw.nl/retroboeken/generalemissiven/#page=19&amp;source=13\" title=\"Show this document on Huygens\" sec=\"13 8:1\">13 8:1</a></span></span>  <span class=\"txtu \"><span class=\"structure\"><span class=\"nd\">volume</span> 13, <span class=\"nd\">letter</span> Mossel, Van der Waeyen, Van der Parra, Van der Spar, Van de Velde, Van Rheede, De Nijs, Van Bazel, Hooreman, Van Hohendorf, Van Riemsdijk, De Klerk; Batavia, 15 oktober 1756</span></span></div>"
      ],
      "text/plain": [
       "<IPython.core.display.HTML object>"
      ]
     },
     "metadata": {},
     "output_type": "display_data"
    },
    {
     "data": {
      "text/html": [
       "<div class=\"\"><span class=\"tfsechead \"><span class=\"ltr\"><a target=\"_blank\" href=\"http://resources.huygens.knaw.nl/retroboeken/generalemissiven/#page=19&amp;source=13\" title=\"Show this document on Huygens\" sec=\"13 8:12\">13 8:12</a></span></span>  <span class=\"txtu\">Batavia </span></div>"
      ],
      "text/plain": [
       "<IPython.core.display.HTML object>"
      ]
     },
     "metadata": {},
     "output_type": "display_data"
    },
    {
     "data": {
      "text/html": [
       "<div class=\"\"><span class=\"tfsechead \"><span class=\"ltr\"><a target=\"_blank\" href=\"http://resources.huygens.knaw.nl/retroboeken/generalemissiven/#page=19&amp;source=13\" title=\"Show this document on Huygens\" sec=\"13 8:12\">13 8:12</a></span></span>  <span class=\"txtu\">Batavia </span><span class=\"txtu\">naar </span><span class=\"txtu\">de </span><span class=\"txtu\">brieven </span><span class=\"txtu\">naar </span><span class=\"txtu\">Banda </span><span class=\"txtu\">d. </span><span class=\"txtu\">d. </span><span class=\"txtu\">28 </span><span class=\"txtu\">december </span><span class=\"txtu\">1753, </span><span class=\"txtu\">5 </span><span class=\"txtu\">december </span><span class=\"txtu\">1754 </span><span class=\"txtu\">en </span></div>"
      ],
      "text/plain": [
       "<IPython.core.display.HTML object>"
      ]
     },
     "metadata": {},
     "output_type": "display_data"
    },
    {
     "data": {
      "text/html": [
       "<div class=\"\"><span class=\"tfsechead \"><span class=\"ltr\"><a target=\"_blank\" href=\"http://resources.huygens.knaw.nl/retroboeken/generalemissiven/#page=19&amp;source=13\" title=\"Show this document on Huygens\" sec=\"13 8:13\">13 8:13</a></span></span>  <span class=\"txtu\">Banda </span></div>"
      ],
      "text/plain": [
       "<IPython.core.display.HTML object>"
      ]
     },
     "metadata": {},
     "output_type": "display_data"
    },
    {
     "data": {
      "text/html": [
       "<div class=\"\"><span class=\"tfsechead \"><span class=\"ltr\"><a target=\"_blank\" href=\"http://resources.huygens.knaw.nl/retroboeken/generalemissiven/#page=19&amp;source=13\" title=\"Show this document on Huygens\" sec=\"13 8:13\">13 8:13</a></span></span>  <span class=\"txtu\">28 </span><span class=\"txtu\">december </span><span class=\"txtu\">1755 </span><span class=\"txtu\">en </span><span class=\"txtu\">naar </span><span class=\"txtu\">de </span><span class=\"txtu\">brieven </span><span class=\"txtu\">van </span><span class=\"txtu\">Banda </span><span class=\"txtu\">d. </span><span class=\"txtu\">d. </span><span class=\"txtu\">31 </span><span class=\"txtu\">mei </span><span class=\"txtu\">1754 </span><span class=\"txtu\">en </span><span class=\"txtu\">28 </span><span class=\"txtu\">november </span><span class=\"txtu\">1755. </span></div>"
      ],
      "text/plain": [
       "<IPython.core.display.HTML object>"
      ]
     },
     "metadata": {},
     "output_type": "display_data"
    },
    {
     "name": "stdout",
     "output_type": "stream",
     "text": [
      "Overlap 168: Batavia - Banda "
     ]
    },
    {
     "data": {
      "text/html": [
       "<div class=\"\"><span class=\"tfsechead \"><span class=\"ltr\"><a target=\"_blank\" href=\"http://resources.huygens.knaw.nl/retroboeken/generalemissiven/#page=19&amp;source=13\" title=\"Show this document on Huygens\" sec=\"13 8:1\">13 8:1</a></span></span>  <span class=\"txtu \"><span class=\"structure\"><span class=\"nd\">volume</span> 13, <span class=\"nd\">letter</span> Mossel, Van der Waeyen, Van der Parra, Van der Spar, Van de Velde, Van Rheede, De Nijs, Van Bazel, Hooreman, Van Hohendorf, Van Riemsdijk, De Klerk; Batavia, 15 oktober 1756</span></span></div>"
      ],
      "text/plain": [
       "<IPython.core.display.HTML object>"
      ]
     },
     "metadata": {},
     "output_type": "display_data"
    },
    {
     "data": {
      "text/html": [
       "<div class=\"\"><span class=\"tfsechead \"><span class=\"ltr\"><a target=\"_blank\" href=\"http://resources.huygens.knaw.nl/retroboeken/generalemissiven/#page=19&amp;source=13\" title=\"Show this document on Huygens\" sec=\"13 8:12\">13 8:12</a></span></span>  <span class=\"txtu\">Batavia </span></div>"
      ],
      "text/plain": [
       "<IPython.core.display.HTML object>"
      ]
     },
     "metadata": {},
     "output_type": "display_data"
    },
    {
     "data": {
      "text/html": [
       "<div class=\"\"><span class=\"tfsechead \"><span class=\"ltr\"><a target=\"_blank\" href=\"http://resources.huygens.knaw.nl/retroboeken/generalemissiven/#page=19&amp;source=13\" title=\"Show this document on Huygens\" sec=\"13 8:12\">13 8:12</a></span></span>  <span class=\"txtu\">Batavia </span><span class=\"txtu\">naar </span><span class=\"txtu\">de </span><span class=\"txtu\">brieven </span><span class=\"txtu\">naar </span><span class=\"txtu\">Banda </span><span class=\"txtu\">d. </span><span class=\"txtu\">d. </span><span class=\"txtu\">28 </span><span class=\"txtu\">december </span><span class=\"txtu\">1753, </span><span class=\"txtu\">5 </span><span class=\"txtu\">december </span><span class=\"txtu\">1754 </span><span class=\"txtu\">en </span></div>"
      ],
      "text/plain": [
       "<IPython.core.display.HTML object>"
      ]
     },
     "metadata": {},
     "output_type": "display_data"
    },
    {
     "data": {
      "text/html": [
       "<div class=\"\"><span class=\"tfsechead \"><span class=\"ltr\"><a target=\"_blank\" href=\"http://resources.huygens.knaw.nl/retroboeken/generalemissiven/#page=19&amp;source=13\" title=\"Show this document on Huygens\" sec=\"13 8:15\">13 8:15</a></span></span>  <span class=\"txtu\">Banda </span></div>"
      ],
      "text/plain": [
       "<IPython.core.display.HTML object>"
      ]
     },
     "metadata": {},
     "output_type": "display_data"
    },
    {
     "data": {
      "text/html": [
       "<div class=\"\"><span class=\"tfsechead \"><span class=\"ltr\"><a target=\"_blank\" href=\"http://resources.huygens.knaw.nl/retroboeken/generalemissiven/#page=19&amp;source=13\" title=\"Show this document on Huygens\" sec=\"13 8:15\">13 8:15</a></span></span>  <span class=\"txtu\">Banda </span><span class=\"txtu\">zijn </span><span class=\"txtu\">te </span><span class=\"txtu\">vinden </span><span class=\"txtu\">in </span><span class=\"txtu\">de </span><span class=\"txtu\">Bandase </span><span class=\"txtu\">resoluties </span><span class=\"txtu\">van </span><span class=\"txtu\">15 </span><span class=\"txtu\">februari, </span><span class=\"txtu\">6 </span><span class=\"txtu\">en </span><span class=\"txtu\">18 </span><span class=\"txtu\">maart, </span><span class=\"txtu\">en </span><span class=\"txtu\">16 </span><span class=\"txtu\">april </span></div>"
      ],
      "text/plain": [
       "<IPython.core.display.HTML object>"
      ]
     },
     "metadata": {},
     "output_type": "display_data"
    },
    {
     "name": "stdout",
     "output_type": "stream",
     "text": [
      "Overlap 169: Batavia - Bandase "
     ]
    },
    {
     "data": {
      "text/html": [
       "<div class=\"\"><span class=\"tfsechead \"><span class=\"ltr\"><a target=\"_blank\" href=\"http://resources.huygens.knaw.nl/retroboeken/generalemissiven/#page=19&amp;source=13\" title=\"Show this document on Huygens\" sec=\"13 8:1\">13 8:1</a></span></span>  <span class=\"txtu \"><span class=\"structure\"><span class=\"nd\">volume</span> 13, <span class=\"nd\">letter</span> Mossel, Van der Waeyen, Van der Parra, Van der Spar, Van de Velde, Van Rheede, De Nijs, Van Bazel, Hooreman, Van Hohendorf, Van Riemsdijk, De Klerk; Batavia, 15 oktober 1756</span></span></div>"
      ],
      "text/plain": [
       "<IPython.core.display.HTML object>"
      ]
     },
     "metadata": {},
     "output_type": "display_data"
    },
    {
     "data": {
      "text/html": [
       "<div class=\"\"><span class=\"tfsechead \"><span class=\"ltr\"><a target=\"_blank\" href=\"http://resources.huygens.knaw.nl/retroboeken/generalemissiven/#page=19&amp;source=13\" title=\"Show this document on Huygens\" sec=\"13 8:12\">13 8:12</a></span></span>  <span class=\"txtu\">Batavia </span></div>"
      ],
      "text/plain": [
       "<IPython.core.display.HTML object>"
      ]
     },
     "metadata": {},
     "output_type": "display_data"
    },
    {
     "data": {
      "text/html": [
       "<div class=\"\"><span class=\"tfsechead \"><span class=\"ltr\"><a target=\"_blank\" href=\"http://resources.huygens.knaw.nl/retroboeken/generalemissiven/#page=19&amp;source=13\" title=\"Show this document on Huygens\" sec=\"13 8:12\">13 8:12</a></span></span>  <span class=\"txtu\">Batavia </span><span class=\"txtu\">naar </span><span class=\"txtu\">de </span><span class=\"txtu\">brieven </span><span class=\"txtu\">naar </span><span class=\"txtu\">Banda </span><span class=\"txtu\">d. </span><span class=\"txtu\">d. </span><span class=\"txtu\">28 </span><span class=\"txtu\">december </span><span class=\"txtu\">1753, </span><span class=\"txtu\">5 </span><span class=\"txtu\">december </span><span class=\"txtu\">1754 </span><span class=\"txtu\">en </span></div>"
      ],
      "text/plain": [
       "<IPython.core.display.HTML object>"
      ]
     },
     "metadata": {},
     "output_type": "display_data"
    },
    {
     "data": {
      "text/html": [
       "<div class=\"\"><span class=\"tfsechead \"><span class=\"ltr\"><a target=\"_blank\" href=\"http://resources.huygens.knaw.nl/retroboeken/generalemissiven/#page=19&amp;source=13\" title=\"Show this document on Huygens\" sec=\"13 8:15\">13 8:15</a></span></span>  <span class=\"txtu\">Bandase </span></div>"
      ],
      "text/plain": [
       "<IPython.core.display.HTML object>"
      ]
     },
     "metadata": {},
     "output_type": "display_data"
    },
    {
     "data": {
      "text/html": [
       "<div class=\"\"><span class=\"tfsechead \"><span class=\"ltr\"><a target=\"_blank\" href=\"http://resources.huygens.knaw.nl/retroboeken/generalemissiven/#page=19&amp;source=13\" title=\"Show this document on Huygens\" sec=\"13 8:15\">13 8:15</a></span></span>  <span class=\"txtu\">Banda </span><span class=\"txtu\">zijn </span><span class=\"txtu\">te </span><span class=\"txtu\">vinden </span><span class=\"txtu\">in </span><span class=\"txtu\">de </span><span class=\"txtu\">Bandase </span><span class=\"txtu\">resoluties </span><span class=\"txtu\">van </span><span class=\"txtu\">15 </span><span class=\"txtu\">februari, </span><span class=\"txtu\">6 </span><span class=\"txtu\">en </span><span class=\"txtu\">18 </span><span class=\"txtu\">maart, </span><span class=\"txtu\">en </span><span class=\"txtu\">16 </span><span class=\"txtu\">april </span></div>"
      ],
      "text/plain": [
       "<IPython.core.display.HTML object>"
      ]
     },
     "metadata": {},
     "output_type": "display_data"
    },
    {
     "name": "stdout",
     "output_type": "stream",
     "text": [
      "Overlap 170: Batavia - Banda’s "
     ]
    },
    {
     "data": {
      "text/html": [
       "<div class=\"\"><span class=\"tfsechead \"><span class=\"ltr\"><a target=\"_blank\" href=\"http://resources.huygens.knaw.nl/retroboeken/generalemissiven/#page=19&amp;source=13\" title=\"Show this document on Huygens\" sec=\"13 8:1\">13 8:1</a></span></span>  <span class=\"txtu \"><span class=\"structure\"><span class=\"nd\">volume</span> 13, <span class=\"nd\">letter</span> Mossel, Van der Waeyen, Van der Parra, Van der Spar, Van de Velde, Van Rheede, De Nijs, Van Bazel, Hooreman, Van Hohendorf, Van Riemsdijk, De Klerk; Batavia, 15 oktober 1756</span></span></div>"
      ],
      "text/plain": [
       "<IPython.core.display.HTML object>"
      ]
     },
     "metadata": {},
     "output_type": "display_data"
    },
    {
     "data": {
      "text/html": [
       "<div class=\"\"><span class=\"tfsechead \"><span class=\"ltr\"><a target=\"_blank\" href=\"http://resources.huygens.knaw.nl/retroboeken/generalemissiven/#page=19&amp;source=13\" title=\"Show this document on Huygens\" sec=\"13 8:12\">13 8:12</a></span></span>  <span class=\"txtu\">Batavia </span></div>"
      ],
      "text/plain": [
       "<IPython.core.display.HTML object>"
      ]
     },
     "metadata": {},
     "output_type": "display_data"
    },
    {
     "data": {
      "text/html": [
       "<div class=\"\"><span class=\"tfsechead \"><span class=\"ltr\"><a target=\"_blank\" href=\"http://resources.huygens.knaw.nl/retroboeken/generalemissiven/#page=19&amp;source=13\" title=\"Show this document on Huygens\" sec=\"13 8:12\">13 8:12</a></span></span>  <span class=\"txtu\">Batavia </span><span class=\"txtu\">naar </span><span class=\"txtu\">de </span><span class=\"txtu\">brieven </span><span class=\"txtu\">naar </span><span class=\"txtu\">Banda </span><span class=\"txtu\">d. </span><span class=\"txtu\">d. </span><span class=\"txtu\">28 </span><span class=\"txtu\">december </span><span class=\"txtu\">1753, </span><span class=\"txtu\">5 </span><span class=\"txtu\">december </span><span class=\"txtu\">1754 </span><span class=\"txtu\">en </span></div>"
      ],
      "text/plain": [
       "<IPython.core.display.HTML object>"
      ]
     },
     "metadata": {},
     "output_type": "display_data"
    },
    {
     "data": {
      "text/html": [
       "<div class=\"\"><span class=\"tfsechead \"><span class=\"ltr\"><a target=\"_blank\" href=\"http://resources.huygens.knaw.nl/retroboeken/generalemissiven/#page=19&amp;source=13\" title=\"Show this document on Huygens\" sec=\"13 8:18\">13 8:18</a></span></span>  <span class=\"txtu\">Banda’s </span></div>"
      ],
      "text/plain": [
       "<IPython.core.display.HTML object>"
      ]
     },
     "metadata": {},
     "output_type": "display_data"
    },
    {
     "data": {
      "text/html": [
       "<div class=\"\"><span class=\"tfsechead \"><span class=\"ltr\"><a target=\"_blank\" href=\"http://resources.huygens.knaw.nl/retroboeken/generalemissiven/#page=19&amp;source=13\" title=\"Show this document on Huygens\" sec=\"13 8:18\">13 8:18</a></span></span>  <span class=\"txtu\">De </span><span class=\"txtu\">verplaatsing </span><span class=\"txtu\">van </span><span class=\"txtu\">’t </span><span class=\"txtu\">Banda’s </span><span class=\"txtu\">hoofdcomptoir </span><span class=\"txtu\">na </span><span class=\"txtu\">Lontoir </span><span class=\"txtu\">is </span><span class=\"txtu\">van </span><span class=\"txtu\">geen </span><span class=\"txtu\">de </span><span class=\"txtu\">minste </span></div>"
      ],
      "text/plain": [
       "<IPython.core.display.HTML object>"
      ]
     },
     "metadata": {},
     "output_type": "display_data"
    },
    {
     "name": "stdout",
     "output_type": "stream",
     "text": [
      "Overlap 171: Batavia - Banda "
     ]
    },
    {
     "data": {
      "text/html": [
       "<div class=\"\"><span class=\"tfsechead \"><span class=\"ltr\"><a target=\"_blank\" href=\"http://resources.huygens.knaw.nl/retroboeken/generalemissiven/#page=19&amp;source=13\" title=\"Show this document on Huygens\" sec=\"13 8:1\">13 8:1</a></span></span>  <span class=\"txtu \"><span class=\"structure\"><span class=\"nd\">volume</span> 13, <span class=\"nd\">letter</span> Mossel, Van der Waeyen, Van der Parra, Van der Spar, Van de Velde, Van Rheede, De Nijs, Van Bazel, Hooreman, Van Hohendorf, Van Riemsdijk, De Klerk; Batavia, 15 oktober 1756</span></span></div>"
      ],
      "text/plain": [
       "<IPython.core.display.HTML object>"
      ]
     },
     "metadata": {},
     "output_type": "display_data"
    },
    {
     "data": {
      "text/html": [
       "<div class=\"\"><span class=\"tfsechead \"><span class=\"ltr\"><a target=\"_blank\" href=\"http://resources.huygens.knaw.nl/retroboeken/generalemissiven/#page=19&amp;source=13\" title=\"Show this document on Huygens\" sec=\"13 8:12\">13 8:12</a></span></span>  <span class=\"txtu\">Batavia </span></div>"
      ],
      "text/plain": [
       "<IPython.core.display.HTML object>"
      ]
     },
     "metadata": {},
     "output_type": "display_data"
    },
    {
     "data": {
      "text/html": [
       "<div class=\"\"><span class=\"tfsechead \"><span class=\"ltr\"><a target=\"_blank\" href=\"http://resources.huygens.knaw.nl/retroboeken/generalemissiven/#page=19&amp;source=13\" title=\"Show this document on Huygens\" sec=\"13 8:12\">13 8:12</a></span></span>  <span class=\"txtu\">Batavia </span><span class=\"txtu\">naar </span><span class=\"txtu\">de </span><span class=\"txtu\">brieven </span><span class=\"txtu\">naar </span><span class=\"txtu\">Banda </span><span class=\"txtu\">d. </span><span class=\"txtu\">d. </span><span class=\"txtu\">28 </span><span class=\"txtu\">december </span><span class=\"txtu\">1753, </span><span class=\"txtu\">5 </span><span class=\"txtu\">december </span><span class=\"txtu\">1754 </span><span class=\"txtu\">en </span></div>"
      ],
      "text/plain": [
       "<IPython.core.display.HTML object>"
      ]
     },
     "metadata": {},
     "output_type": "display_data"
    },
    {
     "data": {
      "text/html": [
       "<div class=\"\"><span class=\"tfsechead \"><span class=\"ltr\"><a target=\"_blank\" href=\"http://resources.huygens.knaw.nl/retroboeken/generalemissiven/#page=19&amp;source=13\" title=\"Show this document on Huygens\" sec=\"13 8:21\">13 8:21</a></span></span>  <span class=\"txtu\">Banda </span></div>"
      ],
      "text/plain": [
       "<IPython.core.display.HTML object>"
      ]
     },
     "metadata": {},
     "output_type": "display_data"
    },
    {
     "data": {
      "text/html": [
       "<div class=\"\"><span class=\"tfsechead \"><span class=\"ltr\"><a target=\"_blank\" href=\"http://resources.huygens.knaw.nl/retroboeken/generalemissiven/#page=19&amp;source=13\" title=\"Show this document on Huygens\" sec=\"13 8:21\">13 8:21</a></span></span>  <span class=\"txtu\">4 </span><span class=\"txtu\">december </span><span class=\"txtu\">1753, </span><span class=\"txtu\">brief </span><span class=\"txtu\">na </span><span class=\"txtu\">Banda </span><span class=\"txtu\">uit. </span><span class=\"txtu\">dier </span><span class=\"txtu\">maand, </span><span class=\"txtu\">brief </span><span class=\"txtu\">van </span><span class=\"txtu\">Banda </span><span class=\"txtu\">na </span><span class=\"txtu\">herwaards </span></div>"
      ],
      "text/plain": [
       "<IPython.core.display.HTML object>"
      ]
     },
     "metadata": {},
     "output_type": "display_data"
    },
    {
     "name": "stdout",
     "output_type": "stream",
     "text": [
      "Overlap 172: Batavia - Banda "
     ]
    },
    {
     "data": {
      "text/html": [
       "<div class=\"\"><span class=\"tfsechead \"><span class=\"ltr\"><a target=\"_blank\" href=\"http://resources.huygens.knaw.nl/retroboeken/generalemissiven/#page=19&amp;source=13\" title=\"Show this document on Huygens\" sec=\"13 8:1\">13 8:1</a></span></span>  <span class=\"txtu \"><span class=\"structure\"><span class=\"nd\">volume</span> 13, <span class=\"nd\">letter</span> Mossel, Van der Waeyen, Van der Parra, Van der Spar, Van de Velde, Van Rheede, De Nijs, Van Bazel, Hooreman, Van Hohendorf, Van Riemsdijk, De Klerk; Batavia, 15 oktober 1756</span></span></div>"
      ],
      "text/plain": [
       "<IPython.core.display.HTML object>"
      ]
     },
     "metadata": {},
     "output_type": "display_data"
    },
    {
     "data": {
      "text/html": [
       "<div class=\"\"><span class=\"tfsechead \"><span class=\"ltr\"><a target=\"_blank\" href=\"http://resources.huygens.knaw.nl/retroboeken/generalemissiven/#page=19&amp;source=13\" title=\"Show this document on Huygens\" sec=\"13 8:12\">13 8:12</a></span></span>  <span class=\"txtu\">Batavia </span></div>"
      ],
      "text/plain": [
       "<IPython.core.display.HTML object>"
      ]
     },
     "metadata": {},
     "output_type": "display_data"
    },
    {
     "data": {
      "text/html": [
       "<div class=\"\"><span class=\"tfsechead \"><span class=\"ltr\"><a target=\"_blank\" href=\"http://resources.huygens.knaw.nl/retroboeken/generalemissiven/#page=19&amp;source=13\" title=\"Show this document on Huygens\" sec=\"13 8:12\">13 8:12</a></span></span>  <span class=\"txtu\">Batavia </span><span class=\"txtu\">naar </span><span class=\"txtu\">de </span><span class=\"txtu\">brieven </span><span class=\"txtu\">naar </span><span class=\"txtu\">Banda </span><span class=\"txtu\">d. </span><span class=\"txtu\">d. </span><span class=\"txtu\">28 </span><span class=\"txtu\">december </span><span class=\"txtu\">1753, </span><span class=\"txtu\">5 </span><span class=\"txtu\">december </span><span class=\"txtu\">1754 </span><span class=\"txtu\">en </span></div>"
      ],
      "text/plain": [
       "<IPython.core.display.HTML object>"
      ]
     },
     "metadata": {},
     "output_type": "display_data"
    },
    {
     "data": {
      "text/html": [
       "<div class=\"\"><span class=\"tfsechead \"><span class=\"ltr\"><a target=\"_blank\" href=\"http://resources.huygens.knaw.nl/retroboeken/generalemissiven/#page=19&amp;source=13\" title=\"Show this document on Huygens\" sec=\"13 8:21\">13 8:21</a></span></span>  <span class=\"txtu\">Banda </span></div>"
      ],
      "text/plain": [
       "<IPython.core.display.HTML object>"
      ]
     },
     "metadata": {},
     "output_type": "display_data"
    },
    {
     "data": {
      "text/html": [
       "<div class=\"\"><span class=\"tfsechead \"><span class=\"ltr\"><a target=\"_blank\" href=\"http://resources.huygens.knaw.nl/retroboeken/generalemissiven/#page=19&amp;source=13\" title=\"Show this document on Huygens\" sec=\"13 8:21\">13 8:21</a></span></span>  <span class=\"txtu\">4 </span><span class=\"txtu\">december </span><span class=\"txtu\">1753, </span><span class=\"txtu\">brief </span><span class=\"txtu\">na </span><span class=\"txtu\">Banda </span><span class=\"txtu\">uit. </span><span class=\"txtu\">dier </span><span class=\"txtu\">maand, </span><span class=\"txtu\">brief </span><span class=\"txtu\">van </span><span class=\"txtu\">Banda </span><span class=\"txtu\">na </span><span class=\"txtu\">herwaards </span></div>"
      ],
      "text/plain": [
       "<IPython.core.display.HTML object>"
      ]
     },
     "metadata": {},
     "output_type": "display_data"
    },
    {
     "name": "stdout",
     "output_type": "stream",
     "text": [
      "Overlap 173: Banda - Batavia "
     ]
    },
    {
     "data": {
      "text/html": [
       "<div class=\"\"><span class=\"tfsechead \"><span class=\"ltr\"><a target=\"_blank\" href=\"http://resources.huygens.knaw.nl/retroboeken/generalemissiven/#page=494&amp;source=13\" title=\"Show this document on Huygens\" sec=\"13 483:1\">13 483:1</a></span></span>  <span class=\"txtu \"><span class=\"structure\"><span class=\"nd\">volume</span> 13, <span class=\"nd\">letter</span> Mossel, Van der Waeyen, Van der Parra, Van der Spar, De Nijs, Van Bazel, Hooreman, Van Hohendorf, Van Riemsdijk, De Klerk, Van Mijlendonk; Batavia, 15 oktober 1760</span></span></div>"
      ],
      "text/plain": [
       "<IPython.core.display.HTML object>"
      ]
     },
     "metadata": {},
     "output_type": "display_data"
    },
    {
     "data": {
      "text/html": [
       "<div class=\"\"><span class=\"tfsechead \"><span class=\"ltr\"><a target=\"_blank\" href=\"http://resources.huygens.knaw.nl/retroboeken/generalemissiven/#page=494&amp;source=13\" title=\"Show this document on Huygens\" sec=\"13 483:13\">13 483:13</a></span></span>  <span class=\"txtu\">Banda </span></div>"
      ],
      "text/plain": [
       "<IPython.core.display.HTML object>"
      ]
     },
     "metadata": {},
     "output_type": "display_data"
    },
    {
     "data": {
      "text/html": [
       "<div class=\"\"><span class=\"tfsechead \"><span class=\"ltr\"><a target=\"_blank\" href=\"http://resources.huygens.knaw.nl/retroboeken/generalemissiven/#page=494&amp;source=13\" title=\"Show this document on Huygens\" sec=\"13 483:13\">13 483:13</a></span></span>  <span class=\"txtu\">Banda </span></div>"
      ],
      "text/plain": [
       "<IPython.core.display.HTML object>"
      ]
     },
     "metadata": {},
     "output_type": "display_data"
    },
    {
     "data": {
      "text/html": [
       "<div class=\"\"><span class=\"tfsechead \"><span class=\"ltr\"><a target=\"_blank\" href=\"http://resources.huygens.knaw.nl/retroboeken/generalemissiven/#page=494&amp;source=13\" title=\"Show this document on Huygens\" sec=\"13 483:18\">13 483:18</a></span></span>  <span class=\"txtu\">Batavia </span></div>"
      ],
      "text/plain": [
       "<IPython.core.display.HTML object>"
      ]
     },
     "metadata": {},
     "output_type": "display_data"
    },
    {
     "data": {
      "text/html": [
       "<div class=\"\"><span class=\"tfsechead \"><span class=\"ltr\"><a target=\"_blank\" href=\"http://resources.huygens.knaw.nl/retroboeken/generalemissiven/#page=494&amp;source=13\" title=\"Show this document on Huygens\" sec=\"13 483:18\">13 483:18</a></span></span>  <span class=\"txtu\">Batavia </span><span class=\"txtu\">of </span><span class=\"txtu\">Java </span><span class=\"txtu\">de </span><span class=\"txtu\">rijst </span><span class=\"txtu\">daarheen </span><span class=\"txtu\">brengen, </span><span class=\"txtu\">altijd </span><span class=\"txtu\">veilig </span><span class=\"txtu\">óverkwamen </span><span class=\"txtu\">dan </span><span class=\"txtu\">zou </span><span class=\"txtu\">de </span><span class=\"txtu\">vaart </span><span class=\"txtu\">op </span></div>"
      ],
      "text/plain": [
       "<IPython.core.display.HTML object>"
      ]
     },
     "metadata": {},
     "output_type": "display_data"
    },
    {
     "name": "stdout",
     "output_type": "stream",
     "text": [
      "Overlap 174: Banda - Batavia "
     ]
    },
    {
     "data": {
      "text/html": [
       "<div class=\"\"><span class=\"tfsechead \"><span class=\"ltr\"><a target=\"_blank\" href=\"http://resources.huygens.knaw.nl/retroboeken/generalemissiven/#page=494&amp;source=13\" title=\"Show this document on Huygens\" sec=\"13 483:1\">13 483:1</a></span></span>  <span class=\"txtu \"><span class=\"structure\"><span class=\"nd\">volume</span> 13, <span class=\"nd\">letter</span> Mossel, Van der Waeyen, Van der Parra, Van der Spar, De Nijs, Van Bazel, Hooreman, Van Hohendorf, Van Riemsdijk, De Klerk, Van Mijlendonk; Batavia, 15 oktober 1760</span></span></div>"
      ],
      "text/plain": [
       "<IPython.core.display.HTML object>"
      ]
     },
     "metadata": {},
     "output_type": "display_data"
    },
    {
     "data": {
      "text/html": [
       "<div class=\"\"><span class=\"tfsechead \"><span class=\"ltr\"><a target=\"_blank\" href=\"http://resources.huygens.knaw.nl/retroboeken/generalemissiven/#page=494&amp;source=13\" title=\"Show this document on Huygens\" sec=\"13 483:15\">13 483:15</a></span></span>  <span class=\"txtu\">Banda </span></div>"
      ],
      "text/plain": [
       "<IPython.core.display.HTML object>"
      ]
     },
     "metadata": {},
     "output_type": "display_data"
    },
    {
     "data": {
      "text/html": [
       "<div class=\"\"><span class=\"tfsechead \"><span class=\"ltr\"><a target=\"_blank\" href=\"http://resources.huygens.knaw.nl/retroboeken/generalemissiven/#page=494&amp;source=13\" title=\"Show this document on Huygens\" sec=\"13 483:15\">13 483:15</a></span></span>  <span class=\"txtu\">om </span><span class=\"txtu\">bij </span><span class=\"txtu\">rijst </span><span class=\"txtu\">gebrek </span><span class=\"txtu\">zes </span><span class=\"txtu\">burgervaartuigen </span><span class=\"txtu\">naar </span><span class=\"txtu\">Makassar </span><span class=\"txtu\">te </span><span class=\"txtu\">zenden. </span><span class=\"txtu\">Amboina </span><span class=\"txtu\">en </span><span class=\"txtu\">Banda </span></div>"
      ],
      "text/plain": [
       "<IPython.core.display.HTML object>"
      ]
     },
     "metadata": {},
     "output_type": "display_data"
    },
    {
     "data": {
      "text/html": [
       "<div class=\"\"><span class=\"tfsechead \"><span class=\"ltr\"><a target=\"_blank\" href=\"http://resources.huygens.knaw.nl/retroboeken/generalemissiven/#page=494&amp;source=13\" title=\"Show this document on Huygens\" sec=\"13 483:18\">13 483:18</a></span></span>  <span class=\"txtu\">Batavia </span></div>"
      ],
      "text/plain": [
       "<IPython.core.display.HTML object>"
      ]
     },
     "metadata": {},
     "output_type": "display_data"
    },
    {
     "data": {
      "text/html": [
       "<div class=\"\"><span class=\"tfsechead \"><span class=\"ltr\"><a target=\"_blank\" href=\"http://resources.huygens.knaw.nl/retroboeken/generalemissiven/#page=494&amp;source=13\" title=\"Show this document on Huygens\" sec=\"13 483:18\">13 483:18</a></span></span>  <span class=\"txtu\">Batavia </span><span class=\"txtu\">of </span><span class=\"txtu\">Java </span><span class=\"txtu\">de </span><span class=\"txtu\">rijst </span><span class=\"txtu\">daarheen </span><span class=\"txtu\">brengen, </span><span class=\"txtu\">altijd </span><span class=\"txtu\">veilig </span><span class=\"txtu\">óverkwamen </span><span class=\"txtu\">dan </span><span class=\"txtu\">zou </span><span class=\"txtu\">de </span><span class=\"txtu\">vaart </span><span class=\"txtu\">op </span></div>"
      ],
      "text/plain": [
       "<IPython.core.display.HTML object>"
      ]
     },
     "metadata": {},
     "output_type": "display_data"
    },
    {
     "name": "stdout",
     "output_type": "stream",
     "text": [
      "Overlap 175: Batavia - Banda "
     ]
    },
    {
     "data": {
      "text/html": [
       "<div class=\"\"><span class=\"tfsechead \"><span class=\"ltr\"><a target=\"_blank\" href=\"http://resources.huygens.knaw.nl/retroboeken/generalemissiven/#page=494&amp;source=13\" title=\"Show this document on Huygens\" sec=\"13 483:1\">13 483:1</a></span></span>  <span class=\"txtu \"><span class=\"structure\"><span class=\"nd\">volume</span> 13, <span class=\"nd\">letter</span> Mossel, Van der Waeyen, Van der Parra, Van der Spar, De Nijs, Van Bazel, Hooreman, Van Hohendorf, Van Riemsdijk, De Klerk, Van Mijlendonk; Batavia, 15 oktober 1760</span></span></div>"
      ],
      "text/plain": [
       "<IPython.core.display.HTML object>"
      ]
     },
     "metadata": {},
     "output_type": "display_data"
    },
    {
     "data": {
      "text/html": [
       "<div class=\"\"><span class=\"tfsechead \"><span class=\"ltr\"><a target=\"_blank\" href=\"http://resources.huygens.knaw.nl/retroboeken/generalemissiven/#page=494&amp;source=13\" title=\"Show this document on Huygens\" sec=\"13 483:18\">13 483:18</a></span></span>  <span class=\"txtu\">Batavia </span></div>"
      ],
      "text/plain": [
       "<IPython.core.display.HTML object>"
      ]
     },
     "metadata": {},
     "output_type": "display_data"
    },
    {
     "data": {
      "text/html": [
       "<div class=\"\"><span class=\"tfsechead \"><span class=\"ltr\"><a target=\"_blank\" href=\"http://resources.huygens.knaw.nl/retroboeken/generalemissiven/#page=494&amp;source=13\" title=\"Show this document on Huygens\" sec=\"13 483:18\">13 483:18</a></span></span>  <span class=\"txtu\">Batavia </span><span class=\"txtu\">of </span><span class=\"txtu\">Java </span><span class=\"txtu\">de </span><span class=\"txtu\">rijst </span><span class=\"txtu\">daarheen </span><span class=\"txtu\">brengen, </span><span class=\"txtu\">altijd </span><span class=\"txtu\">veilig </span><span class=\"txtu\">óverkwamen </span><span class=\"txtu\">dan </span><span class=\"txtu\">zou </span><span class=\"txtu\">de </span><span class=\"txtu\">vaart </span><span class=\"txtu\">op </span></div>"
      ],
      "text/plain": [
       "<IPython.core.display.HTML object>"
      ]
     },
     "metadata": {},
     "output_type": "display_data"
    },
    {
     "data": {
      "text/html": [
       "<div class=\"\"><span class=\"tfsechead \"><span class=\"ltr\"><a target=\"_blank\" href=\"http://resources.huygens.knaw.nl/retroboeken/generalemissiven/#page=494&amp;source=13\" title=\"Show this document on Huygens\" sec=\"13 483:20\">13 483:20</a></span></span>  <span class=\"txtu\">Banda </span></div>"
      ],
      "text/plain": [
       "<IPython.core.display.HTML object>"
      ]
     },
     "metadata": {},
     "output_type": "display_data"
    },
    {
     "data": {
      "text/html": [
       "<div class=\"\"><span class=\"tfsechead \"><span class=\"ltr\"><a target=\"_blank\" href=\"http://resources.huygens.knaw.nl/retroboeken/generalemissiven/#page=494&amp;source=13\" title=\"Show this document on Huygens\" sec=\"13 483:20\">13 483:20</a></span></span>  <span class=\"txtu\">reis </span><span class=\"txtu\">zouden </span><span class=\"txtu\">missen, </span><span class=\"txtu\">dan </span><span class=\"txtu\">dreigt </span><span class=\"txtu\">er </span><span class=\"txtu\">voor </span><span class=\"txtu\">Amboina </span><span class=\"txtu\">en </span><span class=\"txtu\">Banda </span><span class=\"txtu\">groot </span><span class=\"txtu\">gevaar. </span><span class=\"txtu\">Daarom </span><span class=\"txtu\">is </span><span class=\"txtu\">toestemming </span></div>"
      ],
      "text/plain": [
       "<IPython.core.display.HTML object>"
      ]
     },
     "metadata": {},
     "output_type": "display_data"
    },
    {
     "name": "stdout",
     "output_type": "stream",
     "text": [
      "Overlap 176: Banda - Batavia "
     ]
    },
    {
     "data": {
      "text/html": [
       "<div class=\"\"><span class=\"tfsechead \"><span class=\"ltr\"><a target=\"_blank\" href=\"http://resources.huygens.knaw.nl/retroboeken/generalemissiven/#page=494&amp;source=13\" title=\"Show this document on Huygens\" sec=\"13 483:1\">13 483:1</a></span></span>  <span class=\"txtu \"><span class=\"structure\"><span class=\"nd\">volume</span> 13, <span class=\"nd\">letter</span> Mossel, Van der Waeyen, Van der Parra, Van der Spar, De Nijs, Van Bazel, Hooreman, Van Hohendorf, Van Riemsdijk, De Klerk, Van Mijlendonk; Batavia, 15 oktober 1760</span></span></div>"
      ],
      "text/plain": [
       "<IPython.core.display.HTML object>"
      ]
     },
     "metadata": {},
     "output_type": "display_data"
    },
    {
     "data": {
      "text/html": [
       "<div class=\"\"><span class=\"tfsechead \"><span class=\"ltr\"><a target=\"_blank\" href=\"http://resources.huygens.knaw.nl/retroboeken/generalemissiven/#page=494&amp;source=13\" title=\"Show this document on Huygens\" sec=\"13 483:13\">13 483:13</a></span></span>  <span class=\"txtu\">Banda </span></div>"
      ],
      "text/plain": [
       "<IPython.core.display.HTML object>"
      ]
     },
     "metadata": {},
     "output_type": "display_data"
    },
    {
     "data": {
      "text/html": [
       "<div class=\"\"><span class=\"tfsechead \"><span class=\"ltr\"><a target=\"_blank\" href=\"http://resources.huygens.knaw.nl/retroboeken/generalemissiven/#page=494&amp;source=13\" title=\"Show this document on Huygens\" sec=\"13 483:13\">13 483:13</a></span></span>  <span class=\"txtu\">Banda </span></div>"
      ],
      "text/plain": [
       "<IPython.core.display.HTML object>"
      ]
     },
     "metadata": {},
     "output_type": "display_data"
    },
    {
     "data": {
      "text/html": [
       "<div class=\"\"><span class=\"tfsechead \"><span class=\"ltr\"><a target=\"_blank\" href=\"http://resources.huygens.knaw.nl/retroboeken/generalemissiven/#page=494&amp;source=13\" title=\"Show this document on Huygens\" sec=\"13 483:22\">13 483:22</a></span></span>  <span class=\"txtu\">Batavia </span></div>"
      ],
      "text/plain": [
       "<IPython.core.display.HTML object>"
      ]
     },
     "metadata": {},
     "output_type": "display_data"
    },
    {
     "data": {
      "text/html": [
       "<div class=\"\"><span class=\"tfsechead \"><span class=\"ltr\"><a target=\"_blank\" href=\"http://resources.huygens.knaw.nl/retroboeken/generalemissiven/#page=494&amp;source=13\" title=\"Show this document on Huygens\" sec=\"13 483:22\">13 483:22</a></span></span>  <span class=\"txtu\">het, </span><span class=\"txtu\">wanneer </span><span class=\"txtu\">de </span><span class=\"txtu\">vaart </span><span class=\"txtu\">op </span><span class=\"txtu\">Batavia </span><span class=\"txtu\">wegens </span><span class=\"txtu\">de </span><span class=\"txtu\">moesson </span><span class=\"txtu\">onmogelijk </span><span class=\"txtu\">is, </span><span class=\"txtu\">wel </span><span class=\"txtu\">mogelijk </span><span class=\"txtu\">is </span></div>"
      ],
      "text/plain": [
       "<IPython.core.display.HTML object>"
      ]
     },
     "metadata": {},
     "output_type": "display_data"
    },
    {
     "name": "stdout",
     "output_type": "stream",
     "text": [
      "Overlap 177: Banda - Batavia "
     ]
    },
    {
     "data": {
      "text/html": [
       "<div class=\"\"><span class=\"tfsechead \"><span class=\"ltr\"><a target=\"_blank\" href=\"http://resources.huygens.knaw.nl/retroboeken/generalemissiven/#page=494&amp;source=13\" title=\"Show this document on Huygens\" sec=\"13 483:1\">13 483:1</a></span></span>  <span class=\"txtu \"><span class=\"structure\"><span class=\"nd\">volume</span> 13, <span class=\"nd\">letter</span> Mossel, Van der Waeyen, Van der Parra, Van der Spar, De Nijs, Van Bazel, Hooreman, Van Hohendorf, Van Riemsdijk, De Klerk, Van Mijlendonk; Batavia, 15 oktober 1760</span></span></div>"
      ],
      "text/plain": [
       "<IPython.core.display.HTML object>"
      ]
     },
     "metadata": {},
     "output_type": "display_data"
    },
    {
     "data": {
      "text/html": [
       "<div class=\"\"><span class=\"tfsechead \"><span class=\"ltr\"><a target=\"_blank\" href=\"http://resources.huygens.knaw.nl/retroboeken/generalemissiven/#page=494&amp;source=13\" title=\"Show this document on Huygens\" sec=\"13 483:15\">13 483:15</a></span></span>  <span class=\"txtu\">Banda </span></div>"
      ],
      "text/plain": [
       "<IPython.core.display.HTML object>"
      ]
     },
     "metadata": {},
     "output_type": "display_data"
    },
    {
     "data": {
      "text/html": [
       "<div class=\"\"><span class=\"tfsechead \"><span class=\"ltr\"><a target=\"_blank\" href=\"http://resources.huygens.knaw.nl/retroboeken/generalemissiven/#page=494&amp;source=13\" title=\"Show this document on Huygens\" sec=\"13 483:15\">13 483:15</a></span></span>  <span class=\"txtu\">om </span><span class=\"txtu\">bij </span><span class=\"txtu\">rijst </span><span class=\"txtu\">gebrek </span><span class=\"txtu\">zes </span><span class=\"txtu\">burgervaartuigen </span><span class=\"txtu\">naar </span><span class=\"txtu\">Makassar </span><span class=\"txtu\">te </span><span class=\"txtu\">zenden. </span><span class=\"txtu\">Amboina </span><span class=\"txtu\">en </span><span class=\"txtu\">Banda </span></div>"
      ],
      "text/plain": [
       "<IPython.core.display.HTML object>"
      ]
     },
     "metadata": {},
     "output_type": "display_data"
    },
    {
     "data": {
      "text/html": [
       "<div class=\"\"><span class=\"tfsechead \"><span class=\"ltr\"><a target=\"_blank\" href=\"http://resources.huygens.knaw.nl/retroboeken/generalemissiven/#page=494&amp;source=13\" title=\"Show this document on Huygens\" sec=\"13 483:22\">13 483:22</a></span></span>  <span class=\"txtu\">Batavia </span></div>"
      ],
      "text/plain": [
       "<IPython.core.display.HTML object>"
      ]
     },
     "metadata": {},
     "output_type": "display_data"
    },
    {
     "data": {
      "text/html": [
       "<div class=\"\"><span class=\"tfsechead \"><span class=\"ltr\"><a target=\"_blank\" href=\"http://resources.huygens.knaw.nl/retroboeken/generalemissiven/#page=494&amp;source=13\" title=\"Show this document on Huygens\" sec=\"13 483:22\">13 483:22</a></span></span>  <span class=\"txtu\">het, </span><span class=\"txtu\">wanneer </span><span class=\"txtu\">de </span><span class=\"txtu\">vaart </span><span class=\"txtu\">op </span><span class=\"txtu\">Batavia </span><span class=\"txtu\">wegens </span><span class=\"txtu\">de </span><span class=\"txtu\">moesson </span><span class=\"txtu\">onmogelijk </span><span class=\"txtu\">is, </span><span class=\"txtu\">wel </span><span class=\"txtu\">mogelijk </span><span class=\"txtu\">is </span></div>"
      ],
      "text/plain": [
       "<IPython.core.display.HTML object>"
      ]
     },
     "metadata": {},
     "output_type": "display_data"
    },
    {
     "name": "stdout",
     "output_type": "stream",
     "text": [
      "Overlap 178: Banda - Batavia "
     ]
    },
    {
     "data": {
      "text/html": [
       "<div class=\"\"><span class=\"tfsechead \"><span class=\"ltr\"><a target=\"_blank\" href=\"http://resources.huygens.knaw.nl/retroboeken/generalemissiven/#page=494&amp;source=13\" title=\"Show this document on Huygens\" sec=\"13 483:1\">13 483:1</a></span></span>  <span class=\"txtu \"><span class=\"structure\"><span class=\"nd\">volume</span> 13, <span class=\"nd\">letter</span> Mossel, Van der Waeyen, Van der Parra, Van der Spar, De Nijs, Van Bazel, Hooreman, Van Hohendorf, Van Riemsdijk, De Klerk, Van Mijlendonk; Batavia, 15 oktober 1760</span></span></div>"
      ],
      "text/plain": [
       "<IPython.core.display.HTML object>"
      ]
     },
     "metadata": {},
     "output_type": "display_data"
    },
    {
     "data": {
      "text/html": [
       "<div class=\"\"><span class=\"tfsechead \"><span class=\"ltr\"><a target=\"_blank\" href=\"http://resources.huygens.knaw.nl/retroboeken/generalemissiven/#page=494&amp;source=13\" title=\"Show this document on Huygens\" sec=\"13 483:20\">13 483:20</a></span></span>  <span class=\"txtu\">Banda </span></div>"
      ],
      "text/plain": [
       "<IPython.core.display.HTML object>"
      ]
     },
     "metadata": {},
     "output_type": "display_data"
    },
    {
     "data": {
      "text/html": [
       "<div class=\"\"><span class=\"tfsechead \"><span class=\"ltr\"><a target=\"_blank\" href=\"http://resources.huygens.knaw.nl/retroboeken/generalemissiven/#page=494&amp;source=13\" title=\"Show this document on Huygens\" sec=\"13 483:20\">13 483:20</a></span></span>  <span class=\"txtu\">reis </span><span class=\"txtu\">zouden </span><span class=\"txtu\">missen, </span><span class=\"txtu\">dan </span><span class=\"txtu\">dreigt </span><span class=\"txtu\">er </span><span class=\"txtu\">voor </span><span class=\"txtu\">Amboina </span><span class=\"txtu\">en </span><span class=\"txtu\">Banda </span><span class=\"txtu\">groot </span><span class=\"txtu\">gevaar. </span><span class=\"txtu\">Daarom </span><span class=\"txtu\">is </span><span class=\"txtu\">toestemming </span></div>"
      ],
      "text/plain": [
       "<IPython.core.display.HTML object>"
      ]
     },
     "metadata": {},
     "output_type": "display_data"
    },
    {
     "data": {
      "text/html": [
       "<div class=\"\"><span class=\"tfsechead \"><span class=\"ltr\"><a target=\"_blank\" href=\"http://resources.huygens.knaw.nl/retroboeken/generalemissiven/#page=494&amp;source=13\" title=\"Show this document on Huygens\" sec=\"13 483:22\">13 483:22</a></span></span>  <span class=\"txtu\">Batavia </span></div>"
      ],
      "text/plain": [
       "<IPython.core.display.HTML object>"
      ]
     },
     "metadata": {},
     "output_type": "display_data"
    },
    {
     "data": {
      "text/html": [
       "<div class=\"\"><span class=\"tfsechead \"><span class=\"ltr\"><a target=\"_blank\" href=\"http://resources.huygens.knaw.nl/retroboeken/generalemissiven/#page=494&amp;source=13\" title=\"Show this document on Huygens\" sec=\"13 483:22\">13 483:22</a></span></span>  <span class=\"txtu\">het, </span><span class=\"txtu\">wanneer </span><span class=\"txtu\">de </span><span class=\"txtu\">vaart </span><span class=\"txtu\">op </span><span class=\"txtu\">Batavia </span><span class=\"txtu\">wegens </span><span class=\"txtu\">de </span><span class=\"txtu\">moesson </span><span class=\"txtu\">onmogelijk </span><span class=\"txtu\">is, </span><span class=\"txtu\">wel </span><span class=\"txtu\">mogelijk </span><span class=\"txtu\">is </span></div>"
      ],
      "text/plain": [
       "<IPython.core.display.HTML object>"
      ]
     },
     "metadata": {},
     "output_type": "display_data"
    },
    {
     "name": "stdout",
     "output_type": "stream",
     "text": [
      "Overlap 179: Batavia - Banda "
     ]
    },
    {
     "data": {
      "text/html": [
       "<div class=\"\"><span class=\"tfsechead \"><span class=\"ltr\"><a target=\"_blank\" href=\"http://resources.huygens.knaw.nl/retroboeken/generalemissiven/#page=512&amp;source=13\" title=\"Show this document on Huygens\" sec=\"13 501:1\">13 501:1</a></span></span>  <span class=\"txtu \"><span class=\"structure\"><span class=\"nd\">volume</span> 13, <span class=\"nd\">letter</span> Mossel, Van der Waeyen, Van der Parra, Van der Spar, De Nijs, Van Bazel, Hooreman, Van Riemsdijk, De Klerk, Van Mijlendonk; Batavia, 31 december 1760</span></span></div>"
      ],
      "text/plain": [
       "<IPython.core.display.HTML object>"
      ]
     },
     "metadata": {},
     "output_type": "display_data"
    },
    {
     "data": {
      "text/html": [
       "<div class=\"\"><span class=\"tfsechead \"><span class=\"ltr\"><a target=\"_blank\" href=\"http://resources.huygens.knaw.nl/retroboeken/generalemissiven/#page=512&amp;source=13\" title=\"Show this document on Huygens\" sec=\"13 501:9\">13 501:9</a></span></span>  <span class=\"txtu\">Batavia </span></div>"
      ],
      "text/plain": [
       "<IPython.core.display.HTML object>"
      ]
     },
     "metadata": {},
     "output_type": "display_data"
    },
    {
     "data": {
      "text/html": [
       "<div class=\"\"><span class=\"tfsechead \"><span class=\"ltr\"><a target=\"_blank\" href=\"http://resources.huygens.knaw.nl/retroboeken/generalemissiven/#page=512&amp;source=13\" title=\"Show this document on Huygens\" sec=\"13 501:9\">13 501:9</a></span></span>  <span class=\"txtu\">is </span><span class=\"txtu\">24. </span><span class=\"txtu\">733 </span><span class=\"txtu\">Ib </span><span class=\"txtu\">te </span><span class=\"txtu\">Batavia </span><span class=\"txtu\">aangevoerd </span><span class=\"txtu\">met </span><span class=\"txtu\">nog </span><span class=\"txtu\">1 </span><span class=\"txtu\">7j </span><span class=\"txtu\">Ib </span><span class=\"txtu\">cassia </span><span class=\"txtu\">fistula </span><span class=\"txtu\">in </span><span class=\"txtu\">zes </span><span class=\"txtu\">flessen </span><span class=\"txtu\">en </span><span class=\"txtu\">enige </span></div>"
      ],
      "text/plain": [
       "<IPython.core.display.HTML object>"
      ]
     },
     "metadata": {},
     "output_type": "display_data"
    },
    {
     "data": {
      "text/html": [
       "<div class=\"\"><span class=\"tfsechead \"><span class=\"ltr\"><a target=\"_blank\" href=\"http://resources.huygens.knaw.nl/retroboeken/generalemissiven/#page=512&amp;source=13\" title=\"Show this document on Huygens\" sec=\"13 501:14\">13 501:14</a></span></span>  <span class=\"txtu\">Banda </span></div>"
      ],
      "text/plain": [
       "<IPython.core.display.HTML object>"
      ]
     },
     "metadata": {},
     "output_type": "display_data"
    },
    {
     "data": {
      "text/html": [
       "<div class=\"\"><span class=\"tfsechead \"><span class=\"ltr\"><a target=\"_blank\" href=\"http://resources.huygens.knaw.nl/retroboeken/generalemissiven/#page=512&amp;source=13\" title=\"Show this document on Huygens\" sec=\"13 501:14\">13 501:14</a></span></span>  <span class=\"txtu\">en </span><span class=\"txtu\">de </span><span class=\"txtu\">Hercules </span><span class=\"txtu\">via </span><span class=\"txtu\">Banda </span><span class=\"txtu\">naar </span><span class=\"txtu\">Amboina </span><span class=\"txtu\">gestuurd. </span><span class=\"txtu\">Sinds </span><span class=\"txtu\">het </span><span class=\"txtu\">voorafgaande </span><span class=\"txtu\">jaar </span><span class=\"txtu\">is </span><span class=\"txtu\">het </span><span class=\"txtu\">aantal </span></div>"
      ],
      "text/plain": [
       "<IPython.core.display.HTML object>"
      ]
     },
     "metadata": {},
     "output_type": "display_data"
    },
    {
     "name": "stdout",
     "output_type": "stream",
     "text": [
      "Overlap 180: Batavia - Banda "
     ]
    },
    {
     "data": {
      "text/html": [
       "<div class=\"\"><span class=\"tfsechead \"><span class=\"ltr\"><a target=\"_blank\" href=\"http://resources.huygens.knaw.nl/retroboeken/generalemissiven/#page=33&amp;source=14\" title=\"Show this document on Huygens\" sec=\"14 33:1\">14 33:1</a></span></span>  <span class=\"txtu \"><span class=\"structure\"><span class=\"nd\">volume</span> 14, <span class=\"nd\">letter</span> Van der Parra, Hooreman, Van der Spar, Van Riemsdijk, Van Bazel, De Klerk, Van Ossenberg, Van Mijlendonk, Romp; Batavia, 31 december 1761</span></span></div>"
      ],
      "text/plain": [
       "<IPython.core.display.HTML object>"
      ]
     },
     "metadata": {},
     "output_type": "display_data"
    },
    {
     "data": {
      "text/html": [
       "<div class=\"\"><span class=\"tfsechead \"><span class=\"ltr\"><a target=\"_blank\" href=\"http://resources.huygens.knaw.nl/retroboeken/generalemissiven/#page=33&amp;source=14\" title=\"Show this document on Huygens\" sec=\"14 33:12\">14 33:12</a></span></span>  <span class=\"txtu\">Batavia </span></div>"
      ],
      "text/plain": [
       "<IPython.core.display.HTML object>"
      ]
     },
     "metadata": {},
     "output_type": "display_data"
    },
    {
     "data": {
      "text/html": [
       "<div class=\"\"><span class=\"tfsechead \"><span class=\"ltr\"><a target=\"_blank\" href=\"http://resources.huygens.knaw.nl/retroboeken/generalemissiven/#page=46&amp;source=14_1\" title=\"Show this document on Huygens\" sec=\"14 33:12\">14 33:12</a></span></span>  <span class=\"txtu\">meegenomen. </span><span class=\"txtu\">Onder </span><span class=\"txtu\">Batavia </span><span class=\"txtu\">wordt </span><span class=\"txtu\">daarop </span><span class=\"txtu\">geantwoord. </span><span class=\"txtu\">fol. </span><span class=\"txtu\">511 </span></div>"
      ],
      "text/plain": [
       "<IPython.core.display.HTML object>"
      ]
     },
     "metadata": {},
     "output_type": "display_data"
    },
    {
     "data": {
      "text/html": [
       "<div class=\"\"><span class=\"tfsechead \"><span class=\"ltr\"><a target=\"_blank\" href=\"http://resources.huygens.knaw.nl/retroboeken/generalemissiven/#page=33&amp;source=14\" title=\"Show this document on Huygens\" sec=\"14 33:28\">14 33:28</a></span></span>  <span class=\"txtu\">Banda </span></div>"
      ],
      "text/plain": [
       "<IPython.core.display.HTML object>"
      ]
     },
     "metadata": {},
     "output_type": "display_data"
    },
    {
     "data": {
      "text/html": [
       "<div class=\"\"><span class=\"tfsechead \"><span class=\"ltr\"><a target=\"_blank\" href=\"http://resources.huygens.knaw.nl/retroboeken/generalemissiven/#page=46&amp;source=14_1\" title=\"Show this document on Huygens\" sec=\"14 33:28\">14 33:28</a></span></span>  <span class=\"txtu\">Ambon </span><span class=\"txtu\">en </span><span class=\"txtu\">dat </span><span class=\"txtu\">op </span><span class=\"txtu\">Banda </span><span class=\"txtu\">opgedragen </span><span class=\"txtu\">om </span><span class=\"txtu\">bij </span><span class=\"txtu\">vervoer </span><span class=\"txtu\">naar </span><span class=\"txtu\">Batavia </span><span class=\"txtu\">de </span><span class=\"txtu\">kruidnagels </span><span class=\"txtu\">zonder </span><span class=\"txtu\">het </span></div>"
      ],
      "text/plain": [
       "<IPython.core.display.HTML object>"
      ]
     },
     "metadata": {},
     "output_type": "display_data"
    },
    {
     "name": "stdout",
     "output_type": "stream",
     "text": [
      "Overlap 181: Banda - Batavia "
     ]
    },
    {
     "data": {
      "text/html": [
       "<div class=\"\"><span class=\"tfsechead \"><span class=\"ltr\"><a target=\"_blank\" href=\"http://resources.huygens.knaw.nl/retroboeken/generalemissiven/#page=33&amp;source=14\" title=\"Show this document on Huygens\" sec=\"14 33:1\">14 33:1</a></span></span>  <span class=\"txtu \"><span class=\"structure\"><span class=\"nd\">volume</span> 14, <span class=\"nd\">letter</span> Van der Parra, Hooreman, Van der Spar, Van Riemsdijk, Van Bazel, De Klerk, Van Ossenberg, Van Mijlendonk, Romp; Batavia, 31 december 1761</span></span></div>"
      ],
      "text/plain": [
       "<IPython.core.display.HTML object>"
      ]
     },
     "metadata": {},
     "output_type": "display_data"
    },
    {
     "data": {
      "text/html": [
       "<div class=\"\"><span class=\"tfsechead \"><span class=\"ltr\"><a target=\"_blank\" href=\"http://resources.huygens.knaw.nl/retroboeken/generalemissiven/#page=33&amp;source=14\" title=\"Show this document on Huygens\" sec=\"14 33:28\">14 33:28</a></span></span>  <span class=\"txtu\">Banda </span></div>"
      ],
      "text/plain": [
       "<IPython.core.display.HTML object>"
      ]
     },
     "metadata": {},
     "output_type": "display_data"
    },
    {
     "data": {
      "text/html": [
       "<div class=\"\"><span class=\"tfsechead \"><span class=\"ltr\"><a target=\"_blank\" href=\"http://resources.huygens.knaw.nl/retroboeken/generalemissiven/#page=46&amp;source=14_1\" title=\"Show this document on Huygens\" sec=\"14 33:28\">14 33:28</a></span></span>  <span class=\"txtu\">Ambon </span><span class=\"txtu\">en </span><span class=\"txtu\">dat </span><span class=\"txtu\">op </span><span class=\"txtu\">Banda </span><span class=\"txtu\">opgedragen </span><span class=\"txtu\">om </span><span class=\"txtu\">bij </span><span class=\"txtu\">vervoer </span><span class=\"txtu\">naar </span><span class=\"txtu\">Batavia </span><span class=\"txtu\">de </span><span class=\"txtu\">kruidnagels </span><span class=\"txtu\">zonder </span><span class=\"txtu\">het </span></div>"
      ],
      "text/plain": [
       "<IPython.core.display.HTML object>"
      ]
     },
     "metadata": {},
     "output_type": "display_data"
    },
    {
     "data": {
      "text/html": [
       "<div class=\"\"><span class=\"tfsechead \"><span class=\"ltr\"><a target=\"_blank\" href=\"http://resources.huygens.knaw.nl/retroboeken/generalemissiven/#page=33&amp;source=14\" title=\"Show this document on Huygens\" sec=\"14 33:28\">14 33:28</a></span></span>  <span class=\"txtu\">Batavia </span></div>"
      ],
      "text/plain": [
       "<IPython.core.display.HTML object>"
      ]
     },
     "metadata": {},
     "output_type": "display_data"
    },
    {
     "data": {
      "text/html": [
       "<div class=\"\"><span class=\"tfsechead \"><span class=\"ltr\"><a target=\"_blank\" href=\"http://resources.huygens.knaw.nl/retroboeken/generalemissiven/#page=46&amp;source=14_1\" title=\"Show this document on Huygens\" sec=\"14 33:28\">14 33:28</a></span></span>  <span class=\"txtu\">Ambon </span><span class=\"txtu\">en </span><span class=\"txtu\">dat </span><span class=\"txtu\">op </span><span class=\"txtu\">Banda </span><span class=\"txtu\">opgedragen </span><span class=\"txtu\">om </span><span class=\"txtu\">bij </span><span class=\"txtu\">vervoer </span><span class=\"txtu\">naar </span><span class=\"txtu\">Batavia </span><span class=\"txtu\">de </span><span class=\"txtu\">kruidnagels </span><span class=\"txtu\">zonder </span><span class=\"txtu\">het </span></div>"
      ],
      "text/plain": [
       "<IPython.core.display.HTML object>"
      ]
     },
     "metadata": {},
     "output_type": "display_data"
    },
    {
     "name": "stdout",
     "output_type": "stream",
     "text": [
      "Overlap 182: Batavia - Banda "
     ]
    },
    {
     "data": {
      "text/html": [
       "<div class=\"\"><span class=\"tfsechead \"><span class=\"ltr\"><a target=\"_blank\" href=\"http://resources.huygens.knaw.nl/retroboeken/generalemissiven/#page=479&amp;source=14\" title=\"Show this document on Huygens\" sec=\"14 479:1\">14 479:1</a></span></span>  <span class=\"txtu \"><span class=\"structure\"><span class=\"nd\">volume</span> 14, <span class=\"nd\">letter</span> Van der Parra, Hooreman, Van der Spar, Van Riemsdijk, Schreuder, Van Bazel, De Klerk, Van Ossenberg, Taillefert, Romp, Hilgers, Haksteen, Alting; Batavia, 8 mei 1764</span></span></div>"
      ],
      "text/plain": [
       "<IPython.core.display.HTML object>"
      ]
     },
     "metadata": {},
     "output_type": "display_data"
    },
    {
     "data": {
      "text/html": [
       "<div class=\"\"><span class=\"tfsechead \"><span class=\"ltr\"><a target=\"_blank\" href=\"http://resources.huygens.knaw.nl/retroboeken/generalemissiven/#page=479&amp;source=14\" title=\"Show this document on Huygens\" sec=\"14 479:11\">14 479:11</a></span></span>  <span class=\"txtu\">Batavia </span></div>"
      ],
      "text/plain": [
       "<IPython.core.display.HTML object>"
      ]
     },
     "metadata": {},
     "output_type": "display_data"
    },
    {
     "data": {
      "text/html": [
       "<div class=\"\"><span class=\"tfsechead \"><span class=\"ltr\"><a target=\"_blank\" href=\"http://resources.huygens.knaw.nl/retroboeken/generalemissiven/#page=492&amp;source=14_1\" title=\"Show this document on Huygens\" sec=\"14 479:11\">14 479:11</a></span></span>  <span class=\"txtu\">op </span><span class=\"txtu\">25 </span><span class=\"txtu\">januari </span><span class=\"txtu\">1764 </span><span class=\"txtu\">van </span><span class=\"txtu\">de </span><span class=\"txtu\">rede </span><span class=\"txtu\">van </span><span class=\"txtu\">Batavia </span><span class=\"txtu\">vertrokken </span><span class=\"txtu\">en </span><span class=\"txtu\">zeer </span><span class=\"txtu\">voorspoedig </span><span class=\"txtu\">in </span><span class=\"txtu\">drie </span><span class=\"txtu\">à </span><span class=\"txtu\">vier </span></div>"
      ],
      "text/plain": [
       "<IPython.core.display.HTML object>"
      ]
     },
     "metadata": {},
     "output_type": "display_data"
    },
    {
     "data": {
      "text/html": [
       "<div class=\"\"><span class=\"tfsechead \"><span class=\"ltr\"><a target=\"_blank\" href=\"http://resources.huygens.knaw.nl/retroboeken/generalemissiven/#page=479&amp;source=14\" title=\"Show this document on Huygens\" sec=\"14 479:23\">14 479:23</a></span></span>  <span class=\"txtu\">Banda </span></div>"
      ],
      "text/plain": [
       "<IPython.core.display.HTML object>"
      ]
     },
     "metadata": {},
     "output_type": "display_data"
    },
    {
     "data": {
      "text/html": [
       "<div class=\"\"><span class=\"tfsechead \"><span class=\"ltr\"><a target=\"_blank\" href=\"http://resources.huygens.knaw.nl/retroboeken/generalemissiven/#page=492&amp;source=14_1\" title=\"Show this document on Huygens\" sec=\"14 479:23\">14 479:23</a></span></span>  <span class=\"txtu\">Banda </span></div>"
      ],
      "text/plain": [
       "<IPython.core.display.HTML object>"
      ]
     },
     "metadata": {},
     "output_type": "display_data"
    },
    {
     "name": "stdout",
     "output_type": "stream",
     "text": [
      "Overlap 183: Batavia - Banda "
     ]
    },
    {
     "data": {
      "text/html": [
       "<div class=\"\"><span class=\"tfsechead \"><span class=\"ltr\"><a target=\"_blank\" href=\"http://resources.huygens.knaw.nl/retroboeken/generalemissiven/#page=479&amp;source=14\" title=\"Show this document on Huygens\" sec=\"14 479:1\">14 479:1</a></span></span>  <span class=\"txtu \"><span class=\"structure\"><span class=\"nd\">volume</span> 14, <span class=\"nd\">letter</span> Van der Parra, Hooreman, Van der Spar, Van Riemsdijk, Schreuder, Van Bazel, De Klerk, Van Ossenberg, Taillefert, Romp, Hilgers, Haksteen, Alting; Batavia, 8 mei 1764</span></span></div>"
      ],
      "text/plain": [
       "<IPython.core.display.HTML object>"
      ]
     },
     "metadata": {},
     "output_type": "display_data"
    },
    {
     "data": {
      "text/html": [
       "<div class=\"\"><span class=\"tfsechead \"><span class=\"ltr\"><a target=\"_blank\" href=\"http://resources.huygens.knaw.nl/retroboeken/generalemissiven/#page=479&amp;source=14\" title=\"Show this document on Huygens\" sec=\"14 479:11\">14 479:11</a></span></span>  <span class=\"txtu\">Batavia </span></div>"
      ],
      "text/plain": [
       "<IPython.core.display.HTML object>"
      ]
     },
     "metadata": {},
     "output_type": "display_data"
    },
    {
     "data": {
      "text/html": [
       "<div class=\"\"><span class=\"tfsechead \"><span class=\"ltr\"><a target=\"_blank\" href=\"http://resources.huygens.knaw.nl/retroboeken/generalemissiven/#page=492&amp;source=14_1\" title=\"Show this document on Huygens\" sec=\"14 479:11\">14 479:11</a></span></span>  <span class=\"txtu\">op </span><span class=\"txtu\">25 </span><span class=\"txtu\">januari </span><span class=\"txtu\">1764 </span><span class=\"txtu\">van </span><span class=\"txtu\">de </span><span class=\"txtu\">rede </span><span class=\"txtu\">van </span><span class=\"txtu\">Batavia </span><span class=\"txtu\">vertrokken </span><span class=\"txtu\">en </span><span class=\"txtu\">zeer </span><span class=\"txtu\">voorspoedig </span><span class=\"txtu\">in </span><span class=\"txtu\">drie </span><span class=\"txtu\">à </span><span class=\"txtu\">vier </span></div>"
      ],
      "text/plain": [
       "<IPython.core.display.HTML object>"
      ]
     },
     "metadata": {},
     "output_type": "display_data"
    },
    {
     "data": {
      "text/html": [
       "<div class=\"\"><span class=\"tfsechead \"><span class=\"ltr\"><a target=\"_blank\" href=\"http://resources.huygens.knaw.nl/retroboeken/generalemissiven/#page=479&amp;source=14\" title=\"Show this document on Huygens\" sec=\"14 479:24\">14 479:24</a></span></span>  <span class=\"txtu\">Banda </span></div>"
      ],
      "text/plain": [
       "<IPython.core.display.HTML object>"
      ]
     },
     "metadata": {},
     "output_type": "display_data"
    },
    {
     "data": {
      "text/html": [
       "<div class=\"\"><span class=\"tfsechead \"><span class=\"ltr\"><a target=\"_blank\" href=\"http://resources.huygens.knaw.nl/retroboeken/generalemissiven/#page=492&amp;source=14_1\" title=\"Show this document on Huygens\" sec=\"14 479:24\">14 479:24</a></span></span>  <span class=\"txtu\">De </span><span class=\"txtu\">negotieboeken </span><span class=\"txtu\">van </span><span class=\"txtu\">Banda </span><span class=\"txtu\">voor </span><span class=\"txtu\">1761/</span><span class=\"txtu\">62 </span><span class=\"txtu\">zijn </span><span class=\"txtu\">nu </span><span class=\"txtu\">ontvangen </span><span class=\"txtu\">en </span><span class=\"txtu\">door </span><span class=\"txtu\">de </span></div>"
      ],
      "text/plain": [
       "<IPython.core.display.HTML object>"
      ]
     },
     "metadata": {},
     "output_type": "display_data"
    },
    {
     "name": "stdout",
     "output_type": "stream",
     "text": [
      "Overlap 184: Batavia - Banda "
     ]
    },
    {
     "data": {
      "text/html": [
       "<div class=\"\"><span class=\"tfsechead \"><span class=\"ltr\"><a target=\"_blank\" href=\"http://resources.huygens.knaw.nl/retroboeken/generalemissiven/#page=479&amp;source=14\" title=\"Show this document on Huygens\" sec=\"14 479:1\">14 479:1</a></span></span>  <span class=\"txtu \"><span class=\"structure\"><span class=\"nd\">volume</span> 14, <span class=\"nd\">letter</span> Van der Parra, Hooreman, Van der Spar, Van Riemsdijk, Schreuder, Van Bazel, De Klerk, Van Ossenberg, Taillefert, Romp, Hilgers, Haksteen, Alting; Batavia, 8 mei 1764</span></span></div>"
      ],
      "text/plain": [
       "<IPython.core.display.HTML object>"
      ]
     },
     "metadata": {},
     "output_type": "display_data"
    },
    {
     "data": {
      "text/html": [
       "<div class=\"\"><span class=\"tfsechead \"><span class=\"ltr\"><a target=\"_blank\" href=\"http://resources.huygens.knaw.nl/retroboeken/generalemissiven/#page=479&amp;source=14\" title=\"Show this document on Huygens\" sec=\"14 479:18\">14 479:18</a></span></span>  <span class=\"txtu\">Batavia </span></div>"
      ],
      "text/plain": [
       "<IPython.core.display.HTML object>"
      ]
     },
     "metadata": {},
     "output_type": "display_data"
    },
    {
     "data": {
      "text/html": [
       "<div class=\"\"><span class=\"tfsechead \"><span class=\"ltr\"><a target=\"_blank\" href=\"http://resources.huygens.knaw.nl/retroboeken/generalemissiven/#page=492&amp;source=14_1\" title=\"Show this document on Huygens\" sec=\"14 479:18\">14 479:18</a></span></span>  <span class=\"txtu\">Met </span><span class=\"txtu\">de </span><span class=\"txtu\">vaartuigen </span><span class=\"txtu\">die </span><span class=\"txtu\">uit </span><span class=\"txtu\">Batavia </span><span class=\"txtu\">en </span><span class=\"txtu\">Java </span><span class=\"txtu\">naar </span><span class=\"txtu\">Ambon </span><span class=\"txtu\">gingen, </span><span class=\"txtu\">is </span><span class=\"txtu\">t. </span><span class=\"txtu\">w. </span><span class=\"txtu\">v. </span><span class=\"txtu\">ƒ </span><span class=\"txtu\">131. </span><span class=\"txtu\">936 </span></div>"
      ],
      "text/plain": [
       "<IPython.core.display.HTML object>"
      ]
     },
     "metadata": {},
     "output_type": "display_data"
    },
    {
     "data": {
      "text/html": [
       "<div class=\"\"><span class=\"tfsechead \"><span class=\"ltr\"><a target=\"_blank\" href=\"http://resources.huygens.knaw.nl/retroboeken/generalemissiven/#page=479&amp;source=14\" title=\"Show this document on Huygens\" sec=\"14 479:23\">14 479:23</a></span></span>  <span class=\"txtu\">Banda </span></div>"
      ],
      "text/plain": [
       "<IPython.core.display.HTML object>"
      ]
     },
     "metadata": {},
     "output_type": "display_data"
    },
    {
     "data": {
      "text/html": [
       "<div class=\"\"><span class=\"tfsechead \"><span class=\"ltr\"><a target=\"_blank\" href=\"http://resources.huygens.knaw.nl/retroboeken/generalemissiven/#page=492&amp;source=14_1\" title=\"Show this document on Huygens\" sec=\"14 479:23\">14 479:23</a></span></span>  <span class=\"txtu\">Banda </span></div>"
      ],
      "text/plain": [
       "<IPython.core.display.HTML object>"
      ]
     },
     "metadata": {},
     "output_type": "display_data"
    },
    {
     "name": "stdout",
     "output_type": "stream",
     "text": [
      "Overlap 185: Batavia - Banda "
     ]
    },
    {
     "data": {
      "text/html": [
       "<div class=\"\"><span class=\"tfsechead \"><span class=\"ltr\"><a target=\"_blank\" href=\"http://resources.huygens.knaw.nl/retroboeken/generalemissiven/#page=479&amp;source=14\" title=\"Show this document on Huygens\" sec=\"14 479:1\">14 479:1</a></span></span>  <span class=\"txtu \"><span class=\"structure\"><span class=\"nd\">volume</span> 14, <span class=\"nd\">letter</span> Van der Parra, Hooreman, Van der Spar, Van Riemsdijk, Schreuder, Van Bazel, De Klerk, Van Ossenberg, Taillefert, Romp, Hilgers, Haksteen, Alting; Batavia, 8 mei 1764</span></span></div>"
      ],
      "text/plain": [
       "<IPython.core.display.HTML object>"
      ]
     },
     "metadata": {},
     "output_type": "display_data"
    },
    {
     "data": {
      "text/html": [
       "<div class=\"\"><span class=\"tfsechead \"><span class=\"ltr\"><a target=\"_blank\" href=\"http://resources.huygens.knaw.nl/retroboeken/generalemissiven/#page=479&amp;source=14\" title=\"Show this document on Huygens\" sec=\"14 479:18\">14 479:18</a></span></span>  <span class=\"txtu\">Batavia </span></div>"
      ],
      "text/plain": [
       "<IPython.core.display.HTML object>"
      ]
     },
     "metadata": {},
     "output_type": "display_data"
    },
    {
     "data": {
      "text/html": [
       "<div class=\"\"><span class=\"tfsechead \"><span class=\"ltr\"><a target=\"_blank\" href=\"http://resources.huygens.knaw.nl/retroboeken/generalemissiven/#page=492&amp;source=14_1\" title=\"Show this document on Huygens\" sec=\"14 479:18\">14 479:18</a></span></span>  <span class=\"txtu\">Met </span><span class=\"txtu\">de </span><span class=\"txtu\">vaartuigen </span><span class=\"txtu\">die </span><span class=\"txtu\">uit </span><span class=\"txtu\">Batavia </span><span class=\"txtu\">en </span><span class=\"txtu\">Java </span><span class=\"txtu\">naar </span><span class=\"txtu\">Ambon </span><span class=\"txtu\">gingen, </span><span class=\"txtu\">is </span><span class=\"txtu\">t. </span><span class=\"txtu\">w. </span><span class=\"txtu\">v. </span><span class=\"txtu\">ƒ </span><span class=\"txtu\">131. </span><span class=\"txtu\">936 </span></div>"
      ],
      "text/plain": [
       "<IPython.core.display.HTML object>"
      ]
     },
     "metadata": {},
     "output_type": "display_data"
    },
    {
     "data": {
      "text/html": [
       "<div class=\"\"><span class=\"tfsechead \"><span class=\"ltr\"><a target=\"_blank\" href=\"http://resources.huygens.knaw.nl/retroboeken/generalemissiven/#page=479&amp;source=14\" title=\"Show this document on Huygens\" sec=\"14 479:24\">14 479:24</a></span></span>  <span class=\"txtu\">Banda </span></div>"
      ],
      "text/plain": [
       "<IPython.core.display.HTML object>"
      ]
     },
     "metadata": {},
     "output_type": "display_data"
    },
    {
     "data": {
      "text/html": [
       "<div class=\"\"><span class=\"tfsechead \"><span class=\"ltr\"><a target=\"_blank\" href=\"http://resources.huygens.knaw.nl/retroboeken/generalemissiven/#page=492&amp;source=14_1\" title=\"Show this document on Huygens\" sec=\"14 479:24\">14 479:24</a></span></span>  <span class=\"txtu\">De </span><span class=\"txtu\">negotieboeken </span><span class=\"txtu\">van </span><span class=\"txtu\">Banda </span><span class=\"txtu\">voor </span><span class=\"txtu\">1761/</span><span class=\"txtu\">62 </span><span class=\"txtu\">zijn </span><span class=\"txtu\">nu </span><span class=\"txtu\">ontvangen </span><span class=\"txtu\">en </span><span class=\"txtu\">door </span><span class=\"txtu\">de </span></div>"
      ],
      "text/plain": [
       "<IPython.core.display.HTML object>"
      ]
     },
     "metadata": {},
     "output_type": "display_data"
    },
    {
     "name": "stdout",
     "output_type": "stream",
     "text": [
      "Overlap 186: Batavia - Banda "
     ]
    },
    {
     "data": {
      "text/html": [
       "<div class=\"\"><span class=\"tfsechead \"><span class=\"ltr\"><a target=\"_blank\" href=\"http://resources.huygens.knaw.nl/retroboeken/generalemissiven/#page=681&amp;source=14\" title=\"Show this document on Huygens\" sec=\"14 681:1\">14 681:1</a></span></span>  <span class=\"txtu \"><span class=\"structure\"><span class=\"nd\">volume</span> 14, <span class=\"nd\">letter</span> Van der Parra, Van Riemsdijk, Schreuder, Van Bazel, De Klerk, Van Ossenberg, Taillefert, Romp, Hilgers, Alting; Batavia, 8 mei 1765</span></span></div>"
      ],
      "text/plain": [
       "<IPython.core.display.HTML object>"
      ]
     },
     "metadata": {},
     "output_type": "display_data"
    },
    {
     "data": {
      "text/html": [
       "<div class=\"\"><span class=\"tfsechead \"><span class=\"ltr\"><a target=\"_blank\" href=\"http://resources.huygens.knaw.nl/retroboeken/generalemissiven/#page=681&amp;source=14\" title=\"Show this document on Huygens\" sec=\"14 681:22\">14 681:22</a></span></span>  <span class=\"txtu\">Batavia </span></div>"
      ],
      "text/plain": [
       "<IPython.core.display.HTML object>"
      ]
     },
     "metadata": {},
     "output_type": "display_data"
    },
    {
     "data": {
      "text/html": [
       "<div class=\"\"><span class=\"tfsechead \"><span class=\"ltr\"><a target=\"_blank\" href=\"http://resources.huygens.knaw.nl/retroboeken/generalemissiven/#page=154&amp;source=14_2\" title=\"Show this document on Huygens\" sec=\"14 681:22\">14 681:22</a></span></span>  <span class=\"txtu\">Over </span><span class=\"txtu\">Ambon </span><span class=\"txtu\">valt </span><span class=\"txtu\">slechts </span><span class=\"txtu\">te </span><span class=\"txtu\">melden </span><span class=\"txtu\">dat </span><span class=\"txtu\">de </span><span class=\"txtu\">schepen </span><span class=\"txtu\">daarheen </span><span class=\"txtu\">te </span><span class=\"txtu\">Batavia </span><span class=\"txtu\">en </span><span class=\"txtu\">op </span><span class=\"txtu\">Java'</span><span class=\"txtu\">s </span></div>"
      ],
      "text/plain": [
       "<IPython.core.display.HTML object>"
      ]
     },
     "metadata": {},
     "output_type": "display_data"
    },
    {
     "data": {
      "text/html": [
       "<div class=\"\"><span class=\"tfsechead \"><span class=\"ltr\"><a target=\"_blank\" href=\"http://resources.huygens.knaw.nl/retroboeken/generalemissiven/#page=681&amp;source=14\" title=\"Show this document on Huygens\" sec=\"14 681:25\">14 681:25</a></span></span>  <span class=\"txtu\">Banda </span></div>"
      ],
      "text/plain": [
       "<IPython.core.display.HTML object>"
      ]
     },
     "metadata": {},
     "output_type": "display_data"
    },
    {
     "data": {
      "text/html": [
       "<div class=\"\"><span class=\"tfsechead \"><span class=\"ltr\"><a target=\"_blank\" href=\"http://resources.huygens.knaw.nl/retroboeken/generalemissiven/#page=154&amp;source=14_2\" title=\"Show this document on Huygens\" sec=\"14 681:25\">14 681:25</a></span></span>  <span class=\"txtu\">Banda </span></div>"
      ],
      "text/plain": [
       "<IPython.core.display.HTML object>"
      ]
     },
     "metadata": {},
     "output_type": "display_data"
    },
    {
     "name": "stdout",
     "output_type": "stream",
     "text": [
      "Overlap 187: Batavia - Banda "
     ]
    },
    {
     "data": {
      "text/html": [
       "<div class=\"\"><span class=\"tfsechead \"><span class=\"ltr\"><a target=\"_blank\" href=\"http://resources.huygens.knaw.nl/retroboeken/generalemissiven/#page=681&amp;source=14\" title=\"Show this document on Huygens\" sec=\"14 681:1\">14 681:1</a></span></span>  <span class=\"txtu \"><span class=\"structure\"><span class=\"nd\">volume</span> 14, <span class=\"nd\">letter</span> Van der Parra, Van Riemsdijk, Schreuder, Van Bazel, De Klerk, Van Ossenberg, Taillefert, Romp, Hilgers, Alting; Batavia, 8 mei 1765</span></span></div>"
      ],
      "text/plain": [
       "<IPython.core.display.HTML object>"
      ]
     },
     "metadata": {},
     "output_type": "display_data"
    },
    {
     "data": {
      "text/html": [
       "<div class=\"\"><span class=\"tfsechead \"><span class=\"ltr\"><a target=\"_blank\" href=\"http://resources.huygens.knaw.nl/retroboeken/generalemissiven/#page=681&amp;source=14\" title=\"Show this document on Huygens\" sec=\"14 681:22\">14 681:22</a></span></span>  <span class=\"txtu\">Batavia </span></div>"
      ],
      "text/plain": [
       "<IPython.core.display.HTML object>"
      ]
     },
     "metadata": {},
     "output_type": "display_data"
    },
    {
     "data": {
      "text/html": [
       "<div class=\"\"><span class=\"tfsechead \"><span class=\"ltr\"><a target=\"_blank\" href=\"http://resources.huygens.knaw.nl/retroboeken/generalemissiven/#page=154&amp;source=14_2\" title=\"Show this document on Huygens\" sec=\"14 681:22\">14 681:22</a></span></span>  <span class=\"txtu\">Over </span><span class=\"txtu\">Ambon </span><span class=\"txtu\">valt </span><span class=\"txtu\">slechts </span><span class=\"txtu\">te </span><span class=\"txtu\">melden </span><span class=\"txtu\">dat </span><span class=\"txtu\">de </span><span class=\"txtu\">schepen </span><span class=\"txtu\">daarheen </span><span class=\"txtu\">te </span><span class=\"txtu\">Batavia </span><span class=\"txtu\">en </span><span class=\"txtu\">op </span><span class=\"txtu\">Java'</span><span class=\"txtu\">s </span></div>"
      ],
      "text/plain": [
       "<IPython.core.display.HTML object>"
      ]
     },
     "metadata": {},
     "output_type": "display_data"
    },
    {
     "data": {
      "text/html": [
       "<div class=\"\"><span class=\"tfsechead \"><span class=\"ltr\"><a target=\"_blank\" href=\"http://resources.huygens.knaw.nl/retroboeken/generalemissiven/#page=681&amp;source=14\" title=\"Show this document on Huygens\" sec=\"14 681:27\">14 681:27</a></span></span>  <span class=\"txtu\">Banda </span></div>"
      ],
      "text/plain": [
       "<IPython.core.display.HTML object>"
      ]
     },
     "metadata": {},
     "output_type": "display_data"
    },
    {
     "data": {
      "text/html": [
       "<div class=\"\"><span class=\"tfsechead \"><span class=\"ltr\"><a target=\"_blank\" href=\"http://resources.huygens.knaw.nl/retroboeken/generalemissiven/#page=154&amp;source=14_2\" title=\"Show this document on Huygens\" sec=\"14 681:27\">14 681:27</a></span></span>  <span class=\"txtu\">huishouding </span><span class=\"txtu\">uit </span><span class=\"txtu\">Batavia </span><span class=\"txtu\">naar </span><span class=\"txtu\">Banda </span><span class=\"txtu\">vertrokken. </span><span class=\"txtu\">Dit </span><span class=\"txtu\">schip </span><span class=\"txtu\">zou </span><span class=\"txtu\">uit </span><span class=\"txtu\">Surabaja </span><span class=\"txtu\">en </span><span class=\"txtu\">Gresik </span><span class=\"txtu\">250 </span><span class=\"txtu\">lasten </span></div>"
      ],
      "text/plain": [
       "<IPython.core.display.HTML object>"
      ]
     },
     "metadata": {},
     "output_type": "display_data"
    },
    {
     "name": "stdout",
     "output_type": "stream",
     "text": [
      "Overlap 188: Banda - Batavia "
     ]
    },
    {
     "data": {
      "text/html": [
       "<div class=\"\"><span class=\"tfsechead \"><span class=\"ltr\"><a target=\"_blank\" href=\"http://resources.huygens.knaw.nl/retroboeken/generalemissiven/#page=681&amp;source=14\" title=\"Show this document on Huygens\" sec=\"14 681:1\">14 681:1</a></span></span>  <span class=\"txtu \"><span class=\"structure\"><span class=\"nd\">volume</span> 14, <span class=\"nd\">letter</span> Van der Parra, Van Riemsdijk, Schreuder, Van Bazel, De Klerk, Van Ossenberg, Taillefert, Romp, Hilgers, Alting; Batavia, 8 mei 1765</span></span></div>"
      ],
      "text/plain": [
       "<IPython.core.display.HTML object>"
      ]
     },
     "metadata": {},
     "output_type": "display_data"
    },
    {
     "data": {
      "text/html": [
       "<div class=\"\"><span class=\"tfsechead \"><span class=\"ltr\"><a target=\"_blank\" href=\"http://resources.huygens.knaw.nl/retroboeken/generalemissiven/#page=681&amp;source=14\" title=\"Show this document on Huygens\" sec=\"14 681:25\">14 681:25</a></span></span>  <span class=\"txtu\">Banda </span></div>"
      ],
      "text/plain": [
       "<IPython.core.display.HTML object>"
      ]
     },
     "metadata": {},
     "output_type": "display_data"
    },
    {
     "data": {
      "text/html": [
       "<div class=\"\"><span class=\"tfsechead \"><span class=\"ltr\"><a target=\"_blank\" href=\"http://resources.huygens.knaw.nl/retroboeken/generalemissiven/#page=154&amp;source=14_2\" title=\"Show this document on Huygens\" sec=\"14 681:25\">14 681:25</a></span></span>  <span class=\"txtu\">Banda </span></div>"
      ],
      "text/plain": [
       "<IPython.core.display.HTML object>"
      ]
     },
     "metadata": {},
     "output_type": "display_data"
    },
    {
     "data": {
      "text/html": [
       "<div class=\"\"><span class=\"tfsechead \"><span class=\"ltr\"><a target=\"_blank\" href=\"http://resources.huygens.knaw.nl/retroboeken/generalemissiven/#page=681&amp;source=14\" title=\"Show this document on Huygens\" sec=\"14 681:27\">14 681:27</a></span></span>  <span class=\"txtu\">Batavia </span></div>"
      ],
      "text/plain": [
       "<IPython.core.display.HTML object>"
      ]
     },
     "metadata": {},
     "output_type": "display_data"
    },
    {
     "data": {
      "text/html": [
       "<div class=\"\"><span class=\"tfsechead \"><span class=\"ltr\"><a target=\"_blank\" href=\"http://resources.huygens.knaw.nl/retroboeken/generalemissiven/#page=154&amp;source=14_2\" title=\"Show this document on Huygens\" sec=\"14 681:27\">14 681:27</a></span></span>  <span class=\"txtu\">huishouding </span><span class=\"txtu\">uit </span><span class=\"txtu\">Batavia </span><span class=\"txtu\">naar </span><span class=\"txtu\">Banda </span><span class=\"txtu\">vertrokken. </span><span class=\"txtu\">Dit </span><span class=\"txtu\">schip </span><span class=\"txtu\">zou </span><span class=\"txtu\">uit </span><span class=\"txtu\">Surabaja </span><span class=\"txtu\">en </span><span class=\"txtu\">Gresik </span><span class=\"txtu\">250 </span><span class=\"txtu\">lasten </span></div>"
      ],
      "text/plain": [
       "<IPython.core.display.HTML object>"
      ]
     },
     "metadata": {},
     "output_type": "display_data"
    },
    {
     "name": "stdout",
     "output_type": "stream",
     "text": [
      "Overlap 189: Batavia - Banda "
     ]
    },
    {
     "data": {
      "text/html": [
       "<div class=\"\"><span class=\"tfsechead \"><span class=\"ltr\"><a target=\"_blank\" href=\"http://resources.huygens.knaw.nl/retroboeken/generalemissiven/#page=681&amp;source=14\" title=\"Show this document on Huygens\" sec=\"14 681:1\">14 681:1</a></span></span>  <span class=\"txtu \"><span class=\"structure\"><span class=\"nd\">volume</span> 14, <span class=\"nd\">letter</span> Van der Parra, Van Riemsdijk, Schreuder, Van Bazel, De Klerk, Van Ossenberg, Taillefert, Romp, Hilgers, Alting; Batavia, 8 mei 1765</span></span></div>"
      ],
      "text/plain": [
       "<IPython.core.display.HTML object>"
      ]
     },
     "metadata": {},
     "output_type": "display_data"
    },
    {
     "data": {
      "text/html": [
       "<div class=\"\"><span class=\"tfsechead \"><span class=\"ltr\"><a target=\"_blank\" href=\"http://resources.huygens.knaw.nl/retroboeken/generalemissiven/#page=681&amp;source=14\" title=\"Show this document on Huygens\" sec=\"14 681:27\">14 681:27</a></span></span>  <span class=\"txtu\">Batavia </span></div>"
      ],
      "text/plain": [
       "<IPython.core.display.HTML object>"
      ]
     },
     "metadata": {},
     "output_type": "display_data"
    },
    {
     "data": {
      "text/html": [
       "<div class=\"\"><span class=\"tfsechead \"><span class=\"ltr\"><a target=\"_blank\" href=\"http://resources.huygens.knaw.nl/retroboeken/generalemissiven/#page=154&amp;source=14_2\" title=\"Show this document on Huygens\" sec=\"14 681:27\">14 681:27</a></span></span>  <span class=\"txtu\">huishouding </span><span class=\"txtu\">uit </span><span class=\"txtu\">Batavia </span><span class=\"txtu\">naar </span><span class=\"txtu\">Banda </span><span class=\"txtu\">vertrokken. </span><span class=\"txtu\">Dit </span><span class=\"txtu\">schip </span><span class=\"txtu\">zou </span><span class=\"txtu\">uit </span><span class=\"txtu\">Surabaja </span><span class=\"txtu\">en </span><span class=\"txtu\">Gresik </span><span class=\"txtu\">250 </span><span class=\"txtu\">lasten </span></div>"
      ],
      "text/plain": [
       "<IPython.core.display.HTML object>"
      ]
     },
     "metadata": {},
     "output_type": "display_data"
    },
    {
     "data": {
      "text/html": [
       "<div class=\"\"><span class=\"tfsechead \"><span class=\"ltr\"><a target=\"_blank\" href=\"http://resources.huygens.knaw.nl/retroboeken/generalemissiven/#page=681&amp;source=14\" title=\"Show this document on Huygens\" sec=\"14 681:27\">14 681:27</a></span></span>  <span class=\"txtu\">Banda </span></div>"
      ],
      "text/plain": [
       "<IPython.core.display.HTML object>"
      ]
     },
     "metadata": {},
     "output_type": "display_data"
    },
    {
     "data": {
      "text/html": [
       "<div class=\"\"><span class=\"tfsechead \"><span class=\"ltr\"><a target=\"_blank\" href=\"http://resources.huygens.knaw.nl/retroboeken/generalemissiven/#page=154&amp;source=14_2\" title=\"Show this document on Huygens\" sec=\"14 681:27\">14 681:27</a></span></span>  <span class=\"txtu\">huishouding </span><span class=\"txtu\">uit </span><span class=\"txtu\">Batavia </span><span class=\"txtu\">naar </span><span class=\"txtu\">Banda </span><span class=\"txtu\">vertrokken. </span><span class=\"txtu\">Dit </span><span class=\"txtu\">schip </span><span class=\"txtu\">zou </span><span class=\"txtu\">uit </span><span class=\"txtu\">Surabaja </span><span class=\"txtu\">en </span><span class=\"txtu\">Gresik </span><span class=\"txtu\">250 </span><span class=\"txtu\">lasten </span></div>"
      ],
      "text/plain": [
       "<IPython.core.display.HTML object>"
      ]
     },
     "metadata": {},
     "output_type": "display_data"
    }
   ],
   "source": [
    "obj.detect_overlap()"
   ]
  },
  {
   "cell_type": "code",
   "execution_count": 19,
   "id": "daa185e4-dfb9-4acd-b1d1-f1a4963b9610",
   "metadata": {},
   "outputs": [
    {
     "data": {
      "text/html": [
       "<div class=\"\"><span class=\"tfsechead \"><span class=\"ltr\"><a target=\"_blank\" href=\"http://resources.huygens.knaw.nl/retroboeken/generalemissiven/#page=129&amp;source=6\" title=\"Show this document on Huygens\" sec=\"6 114:1\">6 114:1</a></span></span>  <span class=\"txtu\">XXVII. </span><span class=\"txtu\">WILLEM </span><span class=\"txtu\">VAN </span><span class=\"txtu\">OUTHOORN, </span><span class=\"txtu\">JOAN </span><span class=\"txtu\">VAN </span><span class=\"txtu\">HOORN, </span><span class=\"txtu\">LAURENS </span></div>"
      ],
      "text/plain": [
       "<IPython.core.display.HTML object>"
      ]
     },
     "metadata": {},
     "output_type": "display_data"
    },
    {
     "data": {
      "text/html": [
       "<div class=\"\"><span class=\"tfsechead \"><span class=\"ltr\"><a target=\"_blank\" href=\"http://resources.huygens.knaw.nl/retroboeken/generalemissiven/#page=129&amp;source=6\" title=\"Show this document on Huygens\" sec=\"6 114:2\">6 114:2</a></span></span>  <span class=\"txtu\">PIJL, </span><span class=\"txtu\">DIRK </span><span class=\"txtu\">DE </span><span class=\"txtu\">HAAS, </span><span class=\"txtu\">ABRAHAM </span><span class=\"txtu\">VAN </span><span class=\"txtu\">RIEBEECK, </span><span class=\"txtu\">JOANNES </span><span class=\"txtu\">COPS, </span></div>"
      ],
      "text/plain": [
       "<IPython.core.display.HTML object>"
      ]
     },
     "metadata": {},
     "output_type": "display_data"
    },
    {
     "data": {
      "text/html": [
       "<div class=\"\"><span class=\"tfsechead \"><span class=\"ltr\"><a target=\"_blank\" href=\"http://resources.huygens.knaw.nl/retroboeken/generalemissiven/#page=129&amp;source=6\" title=\"Show this document on Huygens\" sec=\"6 114:3\">6 114:3</a></span></span>  <span class=\"txtu\">MANUEL </span><span class=\"txtu\">BORNEZEE, </span><span class=\"txtu\">THOMAS </span><span class=\"txtu\">VAN </span><span class=\"txtu\">RHEE, </span><span class=\"txtu\">JACOB </span><span class=\"txtu\">VAN </span><span class=\"txtu\">DAM </span><span class=\"txtu\">EN </span></div>"
      ],
      "text/plain": [
       "<IPython.core.display.HTML object>"
      ]
     },
     "metadata": {},
     "output_type": "display_data"
    },
    {
     "data": {
      "text/html": [
       "<div class=\"\"><span class=\"tfsechead \"><span class=\"ltr\"><a target=\"_blank\" href=\"http://resources.huygens.knaw.nl/retroboeken/generalemissiven/#page=129&amp;source=6\" title=\"Show this document on Huygens\" sec=\"6 114:4\">6 114:4</a></span></span>  <span class=\"txtu\">CHRISTOFFEL </span><span class=\"txtu\">VAN </span><span class=\"txtu\">SWOLL, </span><span class=\"txtu\">BATAVIA </span><span class=\"txtu\">26 </span><span class=\"txtu\">october </span><span class=\"txtu\">1700. </span></div>"
      ],
      "text/plain": [
       "<IPython.core.display.HTML object>"
      ]
     },
     "metadata": {},
     "output_type": "display_data"
    },
    {
     "data": {
      "text/html": [
       "<div class=\"\"><span class=\"tfsechead \"><span class=\"ltr\"><a target=\"_blank\" href=\"http://resources.huygens.knaw.nl/retroboeken/generalemissiven/#page=129&amp;source=6\" title=\"Show this document on Huygens\" sec=\"6 114:5\">6 114:5</a></span></span>  <span class=\"txtu\">Kol. </span><span class=\"txtu\">Arch. </span><span class=\"txtu\">1520, </span><span class=\"txtu\">fol. </span><span class=\"txtu\">4-</span><span class=\"txtu\">15. </span></div>"
      ],
      "text/plain": [
       "<IPython.core.display.HTML object>"
      ]
     },
     "metadata": {},
     "output_type": "display_data"
    },
    {
     "data": {
      "text/html": [
       "<div class=\"\"><span class=\"tfsechead \"><span class=\"ltr\"><a target=\"_blank\" href=\"http://resources.huygens.knaw.nl/retroboeken/generalemissiven/#page=129&amp;source=6\" title=\"Show this document on Huygens\" sec=\"6 114:6\">6 114:6</a></span></span>  <span class=\"txtu\">De </span><span class=\"txtu\">voorgaande </span><span class=\"txtu\">schepen </span><span class=\"txtu\">verschenen </span><span class=\"txtu\">aan </span><span class=\"txtu\">de </span><span class=\"txtu\">Kaap, </span><span class=\"txtu\">de </span><span class=\"txtu\">Lek </span><span class=\"txtu\">brengt </span><span class=\"txtu\">de </span><span class=\"txtu\">lading </span><span class=\"txtu\">van </span><span class=\"txtu\">de </span></div>"
      ],
      "text/plain": [
       "<IPython.core.display.HTML object>"
      ]
     },
     "metadata": {},
     "output_type": "display_data"
    },
    {
     "data": {
      "text/html": [
       "<div class=\"\"><span class=\"tfsechead \"><span class=\"ltr\"><a target=\"_blank\" href=\"http://resources.huygens.knaw.nl/retroboeken/generalemissiven/#page=129&amp;source=6\" title=\"Show this document on Huygens\" sec=\"6 114:7\">6 114:7</a></span></span>  <span class=\"txtu\">Waalstroom </span><span class=\"txtu\">van </span><span class=\"txtu\">daar </span><span class=\"txtu\">naar </span><span class=\"txtu\">patria; </span><span class=\"txtu\">uit </span><span class=\"txtu\">patria </span><span class=\"txtu\">kwamen </span><span class=\"txtu\">25 </span><span class=\"txtu\">mei </span><span class=\"txtu\">de </span><span class=\"txtu\">Matroos </span><span class=\"txtu\">met </span><span class=\"txtu\">68 </span></div>"
      ],
      "text/plain": [
       "<IPython.core.display.HTML object>"
      ]
     },
     "metadata": {},
     "output_type": "display_data"
    },
    {
     "data": {
      "text/html": [
       "<div class=\"\"><span class=\"tfsechead \"><span class=\"ltr\"><a target=\"_blank\" href=\"http://resources.huygens.knaw.nl/retroboeken/generalemissiven/#page=129&amp;source=6\" title=\"Show this document on Huygens\" sec=\"6 114:8\">6 114:8</a></span></span>  <span class=\"txtu\">koppen, </span><span class=\"txtu\">10 </span><span class=\"txtu\">juni </span><span class=\"txtu\">Oestgeest </span><span class=\"txtu\">201, </span><span class=\"txtu\">5 </span><span class=\"txtu\">juli </span><span class=\"txtu\">Unie </span><span class=\"txtu\">272, </span><span class=\"txtu\">Oostersteyn </span><span class=\"txtu\">284, </span><span class=\"txtu\">Zoeten </span><span class=\"txtu\">184, </span><span class=\"txtu\">12 </span><span class=\"txtu\">juli </span></div>"
      ],
      "text/plain": [
       "<IPython.core.display.HTML object>"
      ]
     },
     "metadata": {},
     "output_type": "display_data"
    },
    {
     "data": {
      "text/html": [
       "<div class=\"\"><span class=\"tfsechead \"><span class=\"ltr\"><a target=\"_blank\" href=\"http://resources.huygens.knaw.nl/retroboeken/generalemissiven/#page=129&amp;source=6\" title=\"Show this document on Huygens\" sec=\"6 114:9\">6 114:9</a></span></span>  <span class=\"txtu\">Nieuwburgh </span><span class=\"txtu\">108, </span><span class=\"txtu\">14 </span><span class=\"txtu\">juli </span><span class=\"txtu\">Theeboom </span><span class=\"txtu\">90, </span><span class=\"txtu\">14 </span><span class=\"txtu\">augustus </span><span class=\"txtu\">Carthago </span><span class=\"txtu\">225, </span><span class=\"txtu\">Flora </span><span class=\"txtu\">81, </span><span class=\"txtu\">27 </span><span class=\"txtu\">aug. </span></div>"
      ],
      "text/plain": [
       "<IPython.core.display.HTML object>"
      ]
     },
     "metadata": {},
     "output_type": "display_data"
    },
    {
     "data": {
      "text/html": [
       "<div class=\"\"><span class=\"tfsechead \"><span class=\"ltr\"><a target=\"_blank\" href=\"http://resources.huygens.knaw.nl/retroboeken/generalemissiven/#page=129&amp;source=6\" title=\"Show this document on Huygens\" sec=\"6 114:10\">6 114:10</a></span></span>  <span class=\"txtu\">Domburg </span><span class=\"txtu\">223, </span><span class=\"txtu\">28 </span><span class=\"txtu\">aug. </span><span class=\"txtu\">Schoondijcke </span><span class=\"txtu\">196, </span><span class=\"txtu\">8 </span><span class=\"txtu\">sept. </span><span class=\"txtu\">Ellemeet </span><span class=\"txtu\">232, </span><span class=\"txtu\">10 </span><span class=\"txtu\">sept. </span><span class=\"txtu\">Schellak </span><span class=\"txtu\">70, </span></div>"
      ],
      "text/plain": [
       "<IPython.core.display.HTML object>"
      ]
     },
     "metadata": {},
     "output_type": "display_data"
    },
    {
     "data": {
      "text/html": [
       "<div class=\"\"><span class=\"tfsechead \"><span class=\"ltr\"><a target=\"_blank\" href=\"http://resources.huygens.knaw.nl/retroboeken/generalemissiven/#page=129&amp;source=6\" title=\"Show this document on Huygens\" sec=\"6 114:11\">6 114:11</a></span></span>  <span class=\"txtu\">in </span><span class=\"txtu\">totaal </span><span class=\"txtu\">met </span><span class=\"txtu\">slechts </span><span class=\"txtu\">40 </span><span class=\"txtu\">doden, </span><span class=\"txtu\">met </span><span class=\"txtu\">een </span><span class=\"txtu\">brief </span><span class=\"txtu\">van </span><span class=\"txtu\">30 </span><span class=\"txtu\">oct. ; </span><span class=\"txtu\">nu </span><span class=\"txtu\">vertrekken </span><span class=\"txtu\">de </span><span class=\"txtu\">Drie </span><span class=\"txtu\">Kronen, </span></div>"
      ],
      "text/plain": [
       "<IPython.core.display.HTML object>"
      ]
     },
     "metadata": {},
     "output_type": "display_data"
    },
    {
     "data": {
      "text/html": [
       "<div class=\"\"><span class=\"tfsechead \"><span class=\"ltr\"><a target=\"_blank\" href=\"http://resources.huygens.knaw.nl/retroboeken/generalemissiven/#page=129&amp;source=6\" title=\"Show this document on Huygens\" sec=\"6 114:12\">6 114:12</a></span></span>  <span class=\"txtu\">Oostersteyn </span><span class=\"txtu\">en </span><span class=\"txtu\">V </span><span class=\"txtu\">enhuysen, </span><span class=\"txtu\">de </span><span class=\"txtu\">eerste </span><span class=\"txtu\">twee </span><span class=\"txtu\">vooral </span><span class=\"txtu\">met </span><span class=\"txtu\">zijdestoffen, </span><span class=\"txtu\">te </span><span class=\"txtu\">Batavia </span><span class=\"txtu\">van </span><span class=\"txtu\">jonken </span></div>"
      ],
      "text/plain": [
       "<IPython.core.display.HTML object>"
      ]
     },
     "metadata": {},
     "output_type": "display_data"
    },
    {
     "data": {
      "text/html": [
       "<div class=\"\"><span class=\"tfsechead \"><span class=\"ltr\"><a target=\"_blank\" href=\"http://resources.huygens.knaw.nl/retroboeken/generalemissiven/#page=129&amp;source=6\" title=\"Show this document on Huygens\" sec=\"6 114:13\">6 114:13</a></span></span>  <span class=\"txtu\">ingekocht; </span><span class=\"txtu\">van </span><span class=\"txtu\">de </span><span class=\"txtu\">13 </span><span class=\"txtu\">Engelse </span><span class=\"txtu\">schepen, </span><span class=\"txtu\">in </span><span class=\"txtu\">1700 </span><span class=\"txtu\">te </span><span class=\"txtu\">Batavia </span><span class=\"txtu\">gekomen, </span><span class=\"txtu\">hadden </span><span class=\"txtu\">er </span><span class=\"txtu\">zes </span><span class=\"txtu\">als </span></div>"
      ],
      "text/plain": [
       "<IPython.core.display.HTML object>"
      ]
     },
     "metadata": {},
     "output_type": "display_data"
    },
    {
     "data": {
      "text/html": [
       "<div class=\"\"><span class=\"tfsechead \"><span class=\"ltr\"><a target=\"_blank\" href=\"http://resources.huygens.knaw.nl/retroboeken/generalemissiven/#page=129&amp;source=6\" title=\"Show this document on Huygens\" sec=\"6 114:14\">6 114:14</a></span></span>  <span class=\"txtu\">bestemming </span><span class=\"txtu\">China; </span><span class=\"txtu\">de </span><span class=\"txtu\">slecht </span><span class=\"txtu\">bezeilde </span><span class=\"txtu\">V </span><span class=\"txtu\">enhuysen </span><span class=\"txtu\">kwam </span><span class=\"txtu\">al </span><span class=\"txtu\">in </span><span class=\"txtu\">juli </span><span class=\"txtu\">uit </span><span class=\"txtu\">Coromandel, </span></div>"
      ],
      "text/plain": [
       "<IPython.core.display.HTML object>"
      ]
     },
     "metadata": {},
     "output_type": "display_data"
    },
    {
     "data": {
      "text/html": [
       "<div class=\"\"><span class=\"tfsechead \"><span class=\"ltr\"><a target=\"_blank\" href=\"http://resources.huygens.knaw.nl/retroboeken/generalemissiven/#page=129&amp;source=6\" title=\"Show this document on Huygens\" sec=\"6 114:15\">6 114:15</a></span></span>  <span class=\"txtu\">waarom. </span><span class=\"txtu\">ze </span><span class=\"txtu\">eventueel </span><span class=\"txtu\">in </span><span class=\"txtu\">afwachting </span><span class=\"txtu\">van </span><span class=\"txtu\">latere </span><span class=\"txtu\">schepen </span><span class=\"txtu\">aan </span><span class=\"txtu\">de </span><span class=\"txtu\">Kaap </span><span class=\"txtu\">mag </span><span class=\"txtu\">blijven </span></div>"
      ],
      "text/plain": [
       "<IPython.core.display.HTML object>"
      ]
     },
     "metadata": {},
     "output_type": "display_data"
    },
    {
     "data": {
      "text/html": [
       "<div class=\"\"><span class=\"tfsechead \"><span class=\"ltr\"><a target=\"_blank\" href=\"http://resources.huygens.knaw.nl/retroboeken/generalemissiven/#page=129&amp;source=6\" title=\"Show this document on Huygens\" sec=\"6 114:16\">6 114:16</a></span></span>  <span class=\"txtu\">wachten, </span><span class=\"txtu\">meer </span><span class=\"txtu\">schepen </span><span class=\"txtu\">zijn </span><span class=\"txtu\">nog </span><span class=\"txtu\">niet </span><span class=\"txtu\">beschibaar, </span><span class=\"txtu\">deels </span><span class=\"txtu\">omdat </span><span class=\"txtu\">ze </span><span class=\"txtu\">op </span><span class=\"txtu\">Onrust </span><span class=\"txtu\">gerepareerd </span></div>"
      ],
      "text/plain": [
       "<IPython.core.display.HTML object>"
      ]
     },
     "metadata": {},
     "output_type": "display_data"
    },
    {
     "data": {
      "text/html": [
       "<div class=\"\"><span class=\"tfsechead \"><span class=\"ltr\"><a target=\"_blank\" href=\"http://resources.huygens.knaw.nl/retroboeken/generalemissiven/#page=129&amp;source=6\" title=\"Show this document on Huygens\" sec=\"6 114:17\">6 114:17</a></span></span>  <span class=\"txtu\">worden; </span><span class=\"txtu\">men </span><span class=\"txtu\">verwacht </span><span class=\"txtu\">in </span><span class=\"txtu\">totaal </span><span class=\"txtu\">voor </span><span class=\"txtu\">40 </span><span class=\"txtu\">d </span><span class=\"txtu\">45 </span><span class=\"txtu\">ton </span><span class=\"txtu\">aan </span><span class=\"txtu\">lading </span><span class=\"txtu\">naar </span><span class=\"txtu\">patria </span><span class=\"txtu\">te </span><span class=\"txtu\">zullen </span></div>"
      ],
      "text/plain": [
       "<IPython.core.display.HTML object>"
      ]
     },
     "metadata": {},
     "output_type": "display_data"
    },
    {
     "data": {
      "text/html": [
       "<div class=\"\"><span class=\"tfsechead \"><span class=\"ltr\"><a target=\"_blank\" href=\"http://resources.huygens.knaw.nl/retroboeken/generalemissiven/#page=129&amp;source=6\" title=\"Show this document on Huygens\" sec=\"6 114:18\">6 114:18</a></span></span>  <span class=\"txtu\">verzenden; </span><span class=\"txtu\">Van </span><span class=\"txtu\">SwoU </span><span class=\"txtu\">bedankt </span><span class=\"txtu\">voor </span><span class=\"txtu\">zijn </span><span class=\"txtu\">promotie </span><span class=\"txtu\">tot </span><span class=\"txtu\">raad-</span><span class=\"txtu\">extraordinair , </span><span class=\"txtu\">de </span><span class=\"txtu\">ook </span><span class=\"txtu\">benoemde </span></div>"
      ],
      "text/plain": [
       "<IPython.core.display.HTML object>"
      ]
     },
     "metadata": {},
     "output_type": "display_data"
    },
    {
     "data": {
      "text/html": [
       "<div class=\"\"><span class=\"tfsechead \"><span class=\"ltr\"><a target=\"_blank\" href=\"http://resources.huygens.knaw.nl/retroboeken/generalemissiven/#page=129&amp;source=6\" title=\"Show this document on Huygens\" sec=\"6 114:19\">6 114:19</a></span></span>  <span class=\"txtu\">Van </span><span class=\"txtu\">Thije </span><span class=\"txtu\">stierf </span><span class=\"txtu\">6 </span><span class=\"txtu\">of </span><span class=\"txtu\">7 </span><span class=\"txtu\">juni </span><span class=\"txtu\">en </span><span class=\"txtu\">werd </span><span class=\"txtu\">8 </span><span class=\"txtu\">juni </span><span class=\"txtu\">als </span><span class=\"txtu\">gouverneur </span><span class=\"txtu\">van </span><span class=\"txtu\">Makassar </span><span class=\"txtu\">door </span></div>"
      ],
      "text/plain": [
       "<IPython.core.display.HTML object>"
      ]
     },
     "metadata": {},
     "output_type": "display_data"
    },
    {
     "data": {
      "text/html": [
       "<div class=\"\"><span class=\"tfsechead \"><span class=\"ltr\"><a target=\"_blank\" href=\"http://resources.huygens.knaw.nl/retroboeken/generalemissiven/#page=129&amp;source=6\" title=\"Show this document on Huygens\" sec=\"6 114:20\">6 114:20</a></span></span>  <span class=\"txtu\">den </span><span class=\"txtu\">visitateur -</span><span class=\"txtu\">generaal </span><span class=\"txtu\">Cornelis </span><span class=\"txtu\">Beernink </span><span class=\"txtu\">vervangen, </span><span class=\"txtu\">werwaarts </span><span class=\"txtu\">hij </span><span class=\"txtu\">8 </span><span class=\"txtu\">juli </span><span class=\"txtu\">vertrok, </span><span class=\"txtu\">hij </span></div>"
      ],
      "text/plain": [
       "<IPython.core.display.HTML object>"
      ]
     },
     "metadata": {},
     "output_type": "display_data"
    },
    {
     "data": {
      "text/html": [
       "<div class=\"\"><span class=\"tfsechead \"><span class=\"ltr\"><a target=\"_blank\" href=\"http://resources.huygens.knaw.nl/retroboeken/generalemissiven/#page=129&amp;source=6\" title=\"Show this document on Huygens\" sec=\"6 114:21\">6 114:21</a></span></span>  <span class=\"txtu\">kwam </span><span class=\"txtu\">er </span><span class=\"txtu\">12 </span><span class=\"txtu\">aug. </span><span class=\"txtu\">aan ; </span><span class=\"txtu\">31 </span><span class=\"txtu\">aug. </span><span class=\"txtu\">stierf </span><span class=\"txtu\">Laurens </span><span class=\"txtu\">Pit </span><span class=\"txtu\">en </span><span class=\"txtu\">10 </span><span class=\"txtu\">oct. </span><span class=\"txtu\">te </span><span class=\"txtu\">Japara </span><span class=\"txtu\">de </span><span class=\"txtu\">gezaghebber </span></div>"
      ],
      "text/plain": [
       "<IPython.core.display.HTML object>"
      ]
     },
     "metadata": {},
     "output_type": "display_data"
    },
    {
     "data": {
      "text/html": [
       "<div class=\"\"><span class=\"tfsechead \"><span class=\"ltr\"><a target=\"_blank\" href=\"http://resources.huygens.knaw.nl/retroboeken/generalemissiven/#page=129&amp;source=6\" title=\"Show this document on Huygens\" sec=\"6 114:22\">6 114:22</a></span></span>  <span class=\"txtu\">Pieter </span><span class=\"txtu\">Durant; </span><span class=\"txtu\">wissels </span><span class=\"txtu\">op </span><span class=\"txtu\">patria </span><span class=\"txtu\">werden </span><span class=\"txtu\">getrokken </span><span class=\"txtu\">voor </span><span class=\"txtu\">31766 </span><span class=\"txtu\">rsd .; </span><span class=\"txtu\">de </span><span class=\"txtu\">Drie </span><span class=\"txtu\">Kronen </span></div>"
      ],
      "text/plain": [
       "<IPython.core.display.HTML object>"
      ]
     },
     "metadata": {},
     "output_type": "display_data"
    },
    {
     "data": {
      "text/html": [
       "<div class=\"\"><span class=\"tfsechead \"><span class=\"ltr\"><a target=\"_blank\" href=\"http://resources.huygens.knaw.nl/retroboeken/generalemissiven/#page=129&amp;source=6\" title=\"Show this document on Huygens\" sec=\"6 114:23\">6 114:23</a></span></span>  <span class=\"txtu\">voor </span><span class=\"txtu\">Amsterdam </span><span class=\"txtu\">heeft </span><span class=\"txtu\">carg. </span><span class=\"txtu\">van </span><span class=\"txtu\">f. </span><span class=\"txtu\">528396, </span><span class=\"txtu\">Oostersteyn </span><span class=\"txtu\">voor </span><span class=\"txtu\">Middelburg </span><span class=\"txtu\">f. </span><span class=\"txtu\">545998 </span><span class=\"txtu\">en </span></div>"
      ],
      "text/plain": [
       "<IPython.core.display.HTML object>"
      ]
     },
     "metadata": {},
     "output_type": "display_data"
    },
    {
     "data": {
      "text/html": [
       "<div class=\"\"><span class=\"tfsechead \"><span class=\"ltr\"><a target=\"_blank\" href=\"http://resources.huygens.knaw.nl/retroboeken/generalemissiven/#page=129&amp;source=6\" title=\"Show this document on Huygens\" sec=\"6 114:24\">6 114:24</a></span></span>  <span class=\"txtu\">V </span><span class=\"txtu\">enhuysen </span><span class=\"txtu\">voor </span><span class=\"txtu\">Enkhuizen </span><span class=\"txtu\">f. </span><span class=\"txtu\">320669 » </span></div>"
      ],
      "text/plain": [
       "<IPython.core.display.HTML object>"
      ]
     },
     "metadata": {},
     "output_type": "display_data"
    },
    {
     "data": {
      "text/html": [
       "<div class=\"\"><span class=\"tfsechead \"><span class=\"ltr\"><a target=\"_blank\" href=\"http://resources.huygens.knaw.nl/retroboeken/generalemissiven/#page=129&amp;source=6\" title=\"Show this document on Huygens\" sec=\"6 114:25\">6 114:25</a></span></span>  </div>"
      ],
      "text/plain": [
       "<IPython.core.display.HTML object>"
      ]
     },
     "metadata": {},
     "output_type": "display_data"
    },
    {
     "data": {
      "text/html": [
       "<div class=\"\"><span class=\"tfsechead \"><span class=\"ltr\"><a target=\"_blank\" href=\"http://resources.huygens.knaw.nl/retroboeken/generalemissiven/#page=129&amp;source=6\" title=\"Show this document on Huygens\" sec=\"6 114:26\">6 114:26</a></span></span>  </div>"
      ],
      "text/plain": [
       "<IPython.core.display.HTML object>"
      ]
     },
     "metadata": {},
     "output_type": "display_data"
    }
   ],
   "source": [
    "for line in L.d(6018487, otype=\"line\"):\n",
    "    A.plain(line)"
   ]
  },
  {
   "cell_type": "code",
   "execution_count": 20,
   "id": "555aab19-d433-421a-abd1-ce485c401073",
   "metadata": {},
   "outputs": [
    {
     "data": {
      "text/plain": [
       "[[(6018225, 47186),\n",
       "  (6018225, 47289),\n",
       "  (6018232, 49837),\n",
       "  (6018237, 71807),\n",
       "  (6018243, 101149),\n",
       "  (6018244, 101427),\n",
       "  (6018245, 103546),\n",
       "  (6018246, 103594),\n",
       "  (6018247, 105010),\n",
       "  (6018248, 105035),\n",
       "  (6018249, 105060),\n",
       "  (6018250, 105085),\n",
       "  (6018251, 105117),\n",
       "  (6018252, 105139),\n",
       "  (6018253, 105161),\n",
       "  (6018254, 105183),\n",
       "  (6018255, 105209),\n",
       "  (6018255, 105226),\n",
       "  (6018256, 122216),\n",
       "  (6018258, 134193),\n",
       "  (6018259, 147119),\n",
       "  (6018259, 147251),\n",
       "  (6018259, 147332),\n",
       "  (6018263, 178983),\n",
       "  (6018264, 198990),\n",
       "  (6018268, 208700),\n",
       "  (6018272, 258082),\n",
       "  (6018278, 352834),\n",
       "  (6018278, 352854),\n",
       "  (6018278, 352988),\n",
       "  (6018284, 413335),\n",
       "  (6018286, 417334),\n",
       "  (6018293, 445588),\n",
       "  (6018294, 447089),\n",
       "  (6018295, 447321),\n",
       "  (6018297, 461660),\n",
       "  (6018304, 482003),\n",
       "  (6018306, 490664),\n",
       "  (6018309, 508369),\n",
       "  (6018309, 508527),\n",
       "  (6018310, 525107),\n",
       "  (6018311, 526993),\n",
       "  (6018317, 621161),\n",
       "  (6018317, 621182),\n",
       "  (6018317, 621236),\n",
       "  (6018317, 621341),\n",
       "  (6018318, 635517),\n",
       "  (6018322, 679436),\n",
       "  (6018326, 751408),\n",
       "  (6018331, 793684),\n",
       "  (6018334, 807928),\n",
       "  (6018335, 827541),\n",
       "  (6018336, 850898),\n",
       "  (6018340, 899312),\n",
       "  (6018341, 909766),\n",
       "  (6018349, 975763),\n",
       "  (6018349, 975907),\n",
       "  (6018352, 981888),\n",
       "  (6018353, 982688),\n",
       "  (6018355, 989534),\n",
       "  (6018358, 1035318),\n",
       "  (6018360, 1049729),\n",
       "  (6018363, 1061938),\n",
       "  (6018378, 1121352),\n",
       "  (6018378, 1121378),\n",
       "  (6018379, 1136515),\n",
       "  (6018386, 1143847),\n",
       "  (6018387, 1161380),\n",
       "  (6018389, 1168684),\n",
       "  (6018390, 1178975),\n",
       "  (6018396, 1212123),\n",
       "  (6018397, 1212237),\n",
       "  (6018400, 1237983),\n",
       "  (6018404, 1274617),\n",
       "  (6018405, 1287442),\n",
       "  (6018405, 1287573),\n",
       "  (6018406, 1287878),\n",
       "  (6018407, 1296784),\n",
       "  (6018408, 1296895),\n",
       "  (6018408, 1296968),\n",
       "  (6018408, 1297001),\n",
       "  (6018411, 1306726),\n",
       "  (6018411, 1306779),\n",
       "  (6018411, 1306793),\n",
       "  (6018414, 1329233),\n",
       "  (6018423, 1401844),\n",
       "  (6018424, 1402771),\n",
       "  (6018431, 1406584),\n",
       "  (6018435, 1452623),\n",
       "  (6018435, 1452677),\n",
       "  (6018444, 1537256),\n",
       "  (6018444, 1537374),\n",
       "  (6018444, 1537491),\n",
       "  (6018451, 1634433),\n",
       "  (6018451, 1634624),\n",
       "  (6018453, 1681534),\n",
       "  (6018453, 1681757),\n",
       "  (6018455, 1697788),\n",
       "  (6018456, 1698082),\n",
       "  (6018457, 1724663),\n",
       "  (6018457, 1724702),\n",
       "  (6018458, 1736573),\n",
       "  (6018458, 1736588),\n",
       "  (6018460, 1765006),\n",
       "  (6018461, 1765733),\n",
       "  (6018461, 1765757),\n",
       "  (6018461, 1765811),\n",
       "  (6018462, 1792882),\n",
       "  (6018464, 1799666),\n",
       "  (6018465, 1828429),\n",
       "  (6018465, 1828506),\n",
       "  (6018465, 1828564),\n",
       "  (6018466, 1843901),\n",
       "  (6018466, 1844031),\n",
       "  (6018467, 1846614),\n",
       "  (6018467, 1846642),\n",
       "  (6018468, 1868569),\n",
       "  (6018469, 1876696),\n",
       "  (6018471, 1909993),\n",
       "  (6018476, 1972033),\n",
       "  (6018476, 1972081),\n",
       "  (6018476, 1972090),\n",
       "  (6018477, 1976841),\n",
       "  (6018478, 1979528),\n",
       "  (6018480, 1996390),\n",
       "  (6018481, 2002219),\n",
       "  (6018483, 2002870),\n",
       "  (6018484, 2016748),\n",
       "  (6018484, 2016837),\n",
       "  (6018487, 2025098),\n",
       "  (6018487, 2025110),\n",
       "  (6018491, 2038662),\n",
       "  (6018492, 2041422),\n",
       "  (6018493, 2042599),\n",
       "  (6018493, 2042737),\n",
       "  (6018494, 2046629),\n",
       "  (6018498, 2073577),\n",
       "  (6018498, 2073628),\n",
       "  (6018499, 2079123),\n",
       "  (6018499, 2079133),\n",
       "  (6018499, 2079143),\n",
       "  (6018500, 2081486),\n",
       "  (6018500, 2081572),\n",
       "  (6018500, 2081600),\n",
       "  (6018501, 2096556),\n",
       "  (6018501, 2096577),\n",
       "  (6018501, 2096638),\n",
       "  (6018505, 2105784),\n",
       "  (6018505, 2105945),\n",
       "  (6018506, 2124042),\n",
       "  (6018507, 2124926),\n",
       "  (6018509, 2130769),\n",
       "  (6018511, 2131813),\n",
       "  (6018511, 2131825),\n",
       "  (6018517, 2160683),\n",
       "  (6018518, 2163666),\n",
       "  (6018522, 2187465),\n",
       "  (6018523, 2188217),\n",
       "  (6018523, 2188385),\n",
       "  (6018525, 2193404),\n",
       "  (6018528, 2216431),\n",
       "  (6018528, 2216518),\n",
       "  (6018528, 2216616),\n",
       "  (6018530, 2218813),\n",
       "  (6018530, 2218911),\n",
       "  (6018532, 2240172),\n",
       "  (6018533, 2246036),\n",
       "  (6018535, 2251519),\n",
       "  (6018543, 2363064),\n",
       "  (6018544, 2366762),\n",
       "  (6018549, 2438315),\n",
       "  (6018552, 2483089),\n",
       "  (6018554, 2489732),\n",
       "  (6018555, 2508275),\n",
       "  (6018555, 2508310),\n",
       "  (6018557, 2519213),\n",
       "  (6018558, 2520025),\n",
       "  (6018559, 2541473),\n",
       "  (6018562, 2572851),\n",
       "  (6018562, 2572958),\n",
       "  (6018569, 2647251),\n",
       "  (6018571, 2656910),\n",
       "  (6018574, 2684126),\n",
       "  (6018574, 2684261),\n",
       "  (6018575, 2689083),\n",
       "  (6018577, 2707946),\n",
       "  (6018579, 2720426),\n",
       "  (6018580, 2721529),\n",
       "  (6018583, 2745643),\n",
       "  (6018584, 2746857),\n",
       "  (6018584, 2746905),\n",
       "  (6018584, 2746971),\n",
       "  (6018586, 2759528),\n",
       "  (6018586, 2759634),\n",
       "  (6018586, 2759705),\n",
       "  (6018587, 2764564),\n",
       "  (6018589, 2771363),\n",
       "  (6018590, 2772893),\n",
       "  (6018593, 2791665),\n",
       "  (6018593, 2791802),\n",
       "  (6018598, 2822490),\n",
       "  (6018599, 2829347),\n",
       "  (6018613, 2921384),\n",
       "  (6018617, 2930925),\n",
       "  (6018620, 2963233),\n",
       "  (6018623, 2985878),\n",
       "  (6018625, 2995265),\n",
       "  (6018625, 2995337),\n",
       "  (6018625, 2995353),\n",
       "  (6018626, 3039601),\n",
       "  (6018628, 3053018),\n",
       "  (6018632, 3106124),\n",
       "  (6018633, 3115369),\n",
       "  (6018640, 3194598),\n",
       "  (6018641, 3217567),\n",
       "  (6018644, 3252240),\n",
       "  (6018647, 3273396),\n",
       "  (6018648, 3285165),\n",
       "  (6018648, 3285277),\n",
       "  (6018648, 3285313),\n",
       "  (6018651, 3312269),\n",
       "  (6018654, 3374092),\n",
       "  (6018656, 3389057),\n",
       "  (6018656, 3389120),\n",
       "  (6018661, 3453696),\n",
       "  (6018662, 3490978),\n",
       "  (6018664, 3560784),\n",
       "  (6018665, 3621779),\n",
       "  (6018670, 3675741),\n",
       "  (6018671, 3734024),\n",
       "  (6018676, 3858110),\n",
       "  (6018678, 3972865),\n",
       "  (6018680, 3983634),\n",
       "  (6018681, 4027167),\n",
       "  (6018681, 4027234),\n",
       "  (6018681, 4027248),\n",
       "  (6018681, 4027357),\n",
       "  (6018681, 4027376),\n",
       "  (6018683, 4039708),\n",
       "  (6018684, 4040661),\n",
       "  (6018684, 4040703),\n",
       "  (6018684, 4040879),\n",
       "  (6018687, 4095541),\n",
       "  (6018687, 4095593),\n",
       "  (6018688, 4103868),\n",
       "  (6018688, 4103880),\n",
       "  (6018688, 4103897),\n",
       "  (6018689, 4104171),\n",
       "  (6018689, 4104268),\n",
       "  (6018689, 4104328),\n",
       "  (6018690, 4150497),\n",
       "  (6018690, 4150593),\n",
       "  (6018691, 4155514),\n",
       "  (6018692, 4158951),\n",
       "  (6018693, 4159592),\n",
       "  (6018693, 4159662),\n",
       "  (6018693, 4159691),\n",
       "  (6018693, 4159724),\n",
       "  (6018693, 4159770),\n",
       "  (6018693, 4159790),\n",
       "  (6018694, 4218156),\n",
       "  (6018694, 4218175),\n",
       "  (6018694, 4218367),\n",
       "  (6018695, 4218794),\n",
       "  (6018695, 4218839),\n",
       "  (6018696, 4228881),\n",
       "  (6018697, 4229137),\n",
       "  (6018698, 4230851),\n",
       "  (6018699, 4231243),\n",
       "  (6018699, 4231280),\n",
       "  (6018699, 4231359),\n",
       "  (6018699, 4231384),\n",
       "  (6018699, 4231393),\n",
       "  (6018700, 4236075),\n",
       "  (6018701, 4301007),\n",
       "  (6018701, 4301042),\n",
       "  (6018702, 4303191),\n",
       "  (6018702, 4303221),\n",
       "  (6018703, 4304087),\n",
       "  (6018703, 4304119),\n",
       "  (6018704, 4317437),\n",
       "  (6018706, 4372608),\n",
       "  (6018706, 4372838),\n",
       "  (6018707, 4374352),\n",
       "  (6018707, 4374372),\n",
       "  (6018708, 4376045),\n",
       "  (6018708, 4376100),\n",
       "  (6018709, 4380157),\n",
       "  (6018710, 4381161),\n",
       "  (6018710, 4381347),\n",
       "  (6018711, 4394878),\n",
       "  (6018711, 4394909),\n",
       "  (6018711, 4394923),\n",
       "  (6018711, 4394943),\n",
       "  (6018711, 4395026),\n",
       "  (6018712, 4450958),\n",
       "  (6018713, 4459570),\n",
       "  (6018713, 4459621),\n",
       "  (6018713, 4459708),\n",
       "  (6018713, 4459752),\n",
       "  (6018714, 4460780),\n",
       "  (6018714, 4460817),\n",
       "  (6018715, 4467190),\n",
       "  (6018715, 4467317),\n",
       "  (6018715, 4467377),\n",
       "  (6018716, 4468447),\n",
       "  (6018716, 4468523),\n",
       "  (6018716, 4468583),\n",
       "  (6018717, 4514227),\n",
       "  (6018718, 4517946),\n",
       "  (6018718, 4517965),\n",
       "  (6018719, 4520027),\n",
       "  (6018722, 4526877),\n",
       "  (6018727, 4576046),\n",
       "  (6018728, 4579154),\n",
       "  (6018728, 4579242),\n",
       "  (6018729, 4627890),\n",
       "  (6018731, 4628686),\n",
       "  (6018732, 4630305),\n",
       "  (6018732, 4630493),\n",
       "  (6018733, 4631698),\n",
       "  (6018733, 4631791),\n",
       "  (6018733, 4631880),\n",
       "  (6018734, 4635760),\n",
       "  (6018734, 4635798),\n",
       "  (6018735, 4636497),\n",
       "  (6018736, 4680846),\n",
       "  (6018736, 4680873),\n",
       "  (6018736, 4680994),\n",
       "  (6018736, 4681012),\n",
       "  (6018737, 4681617),\n",
       "  (6018738, 4682611),\n",
       "  (6018738, 4682671),\n",
       "  (6018739, 4686859),\n",
       "  (6018739, 4686905),\n",
       "  (6018739, 4686940),\n",
       "  (6018740, 4743548),\n",
       "  (6018741, 4744259),\n",
       "  (6018741, 4744370),\n",
       "  (6018742, 4748716),\n",
       "  (6018742, 4748755),\n",
       "  (6018742, 4748785),\n",
       "  (6018742, 4748820),\n",
       "  (6018743, 4802340),\n",
       "  (6018744, 4802844),\n",
       "  (6018745, 4802976),\n",
       "  (6018746, 4807293),\n",
       "  (6018746, 4807326),\n",
       "  (6018746, 4807391),\n",
       "  (6018747, 4807505),\n",
       "  (6018748, 4869552),\n",
       "  (6018749, 4872924),\n",
       "  (6018749, 4872972),\n",
       "  (6018754, 4991945),\n",
       "  (6018755, 4993871),\n",
       "  (6018756, 5001374),\n",
       "  (6018757, 5067584),\n",
       "  (6018757, 5067687),\n",
       "  (6018758, 5069955),\n",
       "  (6018761, 5154175),\n",
       "  (6018761, 5154231),\n",
       "  (6018762, 5163990),\n",
       "  (6018766, 5261248),\n",
       "  (6018766, 5261429),\n",
       "  (6018767, 5340809),\n",
       "  (6018769, 5367309),\n",
       "  (6018769, 5367402),\n",
       "  (6018770, 5442538),\n",
       "  (6018771, 5450775),\n",
       "  (6018771, 5450909),\n",
       "  (6018771, 5450968),\n",
       "  (6018773, 5561492),\n",
       "  (6018773, 5561547),\n",
       "  (6018776, 5702428),\n",
       "  (6018776, 5702457),\n",
       "  (6018778, 5745797),\n",
       "  (6018779, 5841532),\n",
       "  (6018781, 5883441),\n",
       "  (6018782, 5968176),\n",
       "  (6018782, 5968238)],\n",
       " [(6018487, 2025046),\n",
       "  (6018490, 2038321),\n",
       "  (6018490, 2038364),\n",
       "  (6018497, 2059256),\n",
       "  (6018504, 2105237),\n",
       "  (6018526, 2211135),\n",
       "  (6018527, 2211444),\n",
       "  (6018538, 2280147)],\n",
       " [(6018179, 221),\n",
       "  (6018179, 265),\n",
       "  (6018186, 6574),\n",
       "  (6018186, 6629),\n",
       "  (6018200, 20187),\n",
       "  (6018203, 25624),\n",
       "  (6018203, 25627),\n",
       "  (6018203, 25698),\n",
       "  (6018204, 27592),\n",
       "  (6018204, 27620),\n",
       "  (6018204, 27701),\n",
       "  (6018209, 30474),\n",
       "  (6018209, 30477),\n",
       "  (6018210, 31676),\n",
       "  (6018210, 31678),\n",
       "  (6018211, 32791),\n",
       "  (6018222, 37559),\n",
       "  (6018231, 47661),\n",
       "  (6018233, 51247),\n",
       "  (6018233, 51417),\n",
       "  (6018235, 60461),\n",
       "  (6018240, 77024),\n",
       "  (6018274, 279500),\n",
       "  (6018277, 347909),\n",
       "  (6018295, 447312),\n",
       "  (6018303, 480056),\n",
       "  (6018305, 484370),\n",
       "  (6018312, 542553),\n",
       "  (6018318, 635409),\n",
       "  (6018318, 635469),\n",
       "  (6018318, 635487),\n",
       "  (6018325, 727798),\n",
       "  (6018327, 751557),\n",
       "  (6018344, 937761),\n",
       "  (6018346, 942269),\n",
       "  (6018349, 975794),\n",
       "  (6018356, 989683),\n",
       "  (6018356, 989730),\n",
       "  (6018365, 1067750),\n",
       "  (6018365, 1067774),\n",
       "  (6018365, 1067822),\n",
       "  (6018365, 1067872),\n",
       "  (6018366, 1071812),\n",
       "  (6018372, 1090965),\n",
       "  (6018373, 1096351),\n",
       "  (6018375, 1103813),\n",
       "  (6018377, 1108317),\n",
       "  (6018378, 1121381),\n",
       "  (6018378, 1121391),\n",
       "  (6018381, 1137001),\n",
       "  (6018391, 1179108),\n",
       "  (6018392, 1181456),\n",
       "  (6018394, 1202137),\n",
       "  (6018395, 1210589),\n",
       "  (6018395, 1210620),\n",
       "  (6018398, 1230513),\n",
       "  (6018400, 1237839),\n",
       "  (6018400, 1237880),\n",
       "  (6018403, 1269260),\n",
       "  (6018406, 1287865),\n",
       "  (6018406, 1287889),\n",
       "  (6018417, 1357786),\n",
       "  (6018419, 1376420),\n",
       "  (6018424, 1402725),\n",
       "  (6018427, 1404224),\n",
       "  (6018427, 1404247),\n",
       "  (6018431, 1406553),\n",
       "  (6018432, 1406887),\n",
       "  (6018432, 1406902),\n",
       "  (6018446, 1561944),\n",
       "  (6018446, 1561972),\n",
       "  (6018446, 1561988),\n",
       "  (6018450, 1633219),\n",
       "  (6018450, 1633245),\n",
       "  (6018450, 1633250),\n",
       "  (6018453, 1681631),\n",
       "  (6018453, 1681726),\n",
       "  (6018454, 1692745),\n",
       "  (6018456, 1698156),\n",
       "  (6018457, 1724654),\n",
       "  (6018457, 1724753),\n",
       "  (6018462, 1792970),\n",
       "  (6018464, 1799730),\n",
       "  (6018465, 1828509),\n",
       "  (6018466, 1844076),\n",
       "  (6018470, 1898707),\n",
       "  (6018477, 1976716),\n",
       "  (6018484, 2016874),\n",
       "  (6018491, 2038504),\n",
       "  (6018493, 2042713),\n",
       "  (6018493, 2042774),\n",
       "  (6018494, 2046703),\n",
       "  (6018495, 2054002),\n",
       "  (6018498, 2073581),\n",
       "  (6018501, 2096599),\n",
       "  (6018505, 2105921),\n",
       "  (6018507, 2124877),\n",
       "  (6018523, 2188345),\n",
       "  (6018523, 2188389),\n",
       "  (6018528, 2216447),\n",
       "  (6018528, 2216508),\n",
       "  (6018528, 2216571),\n",
       "  (6018528, 2216603),\n",
       "  (6018530, 2218748),\n",
       "  (6018536, 2270159),\n",
       "  (6018536, 2270200),\n",
       "  (6018537, 2278092),\n",
       "  (6018539, 2304309),\n",
       "  (6018539, 2304318),\n",
       "  (6018542, 2350827),\n",
       "  (6018545, 2392485),\n",
       "  (6018545, 2392540),\n",
       "  (6018546, 2401273),\n",
       "  (6018553, 2487626),\n",
       "  (6018554, 2489753),\n",
       "  (6018559, 2541454),\n",
       "  (6018559, 2541486),\n",
       "  (6018562, 2573018),\n",
       "  (6018565, 2602330),\n",
       "  (6018565, 2602504),\n",
       "  (6018569, 2647460),\n",
       "  (6018573, 2683071),\n",
       "  (6018573, 2683100),\n",
       "  (6018574, 2684166),\n",
       "  (6018577, 2707993),\n",
       "  (6018578, 2714572),\n",
       "  (6018581, 2737147),\n",
       "  (6018581, 2737186),\n",
       "  (6018582, 2742731),\n",
       "  (6018586, 2759664),\n",
       "  (6018586, 2759684),\n",
       "  (6018587, 2764457),\n",
       "  (6018587, 2764516),\n",
       "  (6018593, 2791625),\n",
       "  (6018593, 2791638),\n",
       "  (6018593, 2791673),\n",
       "  (6018594, 2795424),\n",
       "  (6018594, 2795454),\n",
       "  (6018595, 2799909),\n",
       "  (6018598, 2822338),\n",
       "  (6018602, 2856196),\n",
       "  (6018607, 2887533),\n",
       "  (6018613, 2921413),\n",
       "  (6018623, 2986011),\n",
       "  (6018632, 3105974),\n",
       "  (6018632, 3105988),\n",
       "  (6018632, 3106028),\n",
       "  (6018638, 3186438),\n",
       "  (6018641, 3217589),\n",
       "  (6018641, 3217600),\n",
       "  (6018644, 3252257),\n",
       "  (6018652, 3341318),\n",
       "  (6018661, 3453753),\n",
       "  (6018681, 4027236),\n",
       "  (6018681, 4027250),\n",
       "  (6018681, 4027329),\n",
       "  (6018690, 4150501),\n",
       "  (6018690, 4150513),\n",
       "  (6018691, 4155704),\n",
       "  (6018691, 4155705),\n",
       "  (6018692, 4158885),\n",
       "  (6018708, 4376047),\n",
       "  (6018708, 4376087),\n",
       "  (6018712, 4450993),\n",
       "  (6018712, 4450994),\n",
       "  (6018714, 4460942),\n",
       "  (6018719, 4520136),\n",
       "  (6018725, 4573782),\n",
       "  (6018736, 4680894),\n",
       "  (6018736, 4680945),\n",
       "  (6018736, 4680999),\n",
       "  (6018736, 4681041),\n",
       "  (6018739, 4686958),\n",
       "  (6018741, 4744413),\n",
       "  (6018741, 4744420),\n",
       "  (6018741, 4744432),\n",
       "  (6018749, 4872977),\n",
       "  (6018749, 4872995),\n",
       "  (6018749, 4873015),\n",
       "  (6018749, 4873021),\n",
       "  (6018749, 4873049),\n",
       "  (6018749, 4873090),\n",
       "  (6018749, 4873096),\n",
       "  (6018752, 4933813),\n",
       "  (6018761, 5154120),\n",
       "  (6018761, 5154146),\n",
       "  (6018761, 5154210),\n",
       "  (6018762, 5164067),\n",
       "  (6018766, 5261423),\n",
       "  (6018768, 5347964),\n",
       "  (6018768, 5347974),\n",
       "  (6018773, 5561605),\n",
       "  (6018773, 5561609),\n",
       "  (6018774, 5569789),\n",
       "  (6018776, 5702441),\n",
       "  (6018776, 5702459)]]"
      ]
     },
     "execution_count": 20,
     "metadata": {},
     "output_type": "execute_result"
    }
   ],
   "source": [
    "obj.named_entity_list"
   ]
  },
  {
   "cell_type": "code",
   "execution_count": 28,
   "id": "190b9895-b859-4bdc-a990-3771f3da20b9",
   "metadata": {},
   "outputs": [
    {
     "name": "stdout",
     "output_type": "stream",
     "text": [
      "5977143\n",
      "{1610: 136, 1611: 1640, 1612: 5042, 1614: 8558, 1615: 6924, 1616: 3086, 1617: 4817, 1618: 6719, 1619: 48, 1620: 496, 1621: 9832, 1622: 90, 1623: 4260, 1624: 10447, 1625: 14826, 1626: 26582, 1627: 1481, 1628: 129, 1629: 17052, 1631: 11978, 1632: 31581, 1633: 33961, 1634: 23019, 1635: 12672, 1636: 44025, 1637: 31925, 1638: 41365, 1639: 43292, 1640: 17064, 1641: 12412, 1642: 17696, 1643: 15441, 1644: 15075, 1645: 10525, 1646: 6234, 1647: 17841, 1649: 34026, 1650: 21505, 1651: 57269, 1652: 43267, 1653: 14770, 1654: 48501, 1655: 49860, 1656: 30362, 1657: 42911, 1658: 26177, 1659: 22254, 1660: 30109, 1661: 12657, 1662: 33730, 1663: 4359, 1664: 5187, 1665: 4286, 1666: 19749, 1667: 41885, 1668: 20586, 1669: 24528, 1670: 7303, 1671: 17710, 1672: 22350, 1673: 24913, 1674: 24676, 1675: 37160, 1676: 31841, 1677: 25062, 1678: 19292, 1679: 51045, 1680: 22340, 1681: 25629, 1682: 1041, 1683: 67648, 1684: 46274, 1685: 38875, 1686: 35242, 1687: 38315, 1688: 48496, 1689: 43092, 1690: 18027, 1691: 23029, 1692: 62754, 1693: 40066, 1694: 30082, 1695: 16298, 1696: 16207, 1697: 40828, 1698: 22935, 1699: 21794, 1700: 21815, 1701: 15440, 1702: 19594, 1703: 22957, 1704: 28327, 1705: 28277, 1706: 34284, 1707: 24103, 1708: 28707, 1709: 29894, 1710: 34206, 1711: 46461, 1712: 41659, 1713: 36192, 1714: 46161, 1715: 33456, 1716: 33059, 1717: 31543, 1718: 29515, 1719: 39164, 1720: 32636, 1721: 33756, 1722: 29139, 1723: 22531, 1724: 32055, 1725: 23687, 1726: 35151, 1727: 27819, 1728: 37458, 1729: 47332, 1730: 76225, 1731: 48017, 1732: 75731, 1733: 66860, 1734: 43041, 1735: 35107, 1736: 65809, 1737: 44346, 1738: 72399, 1739: 139480, 1740: 45283, 1741: 159180, 1742: 139907, 1743: 120299, 1744: 55461, 1745: 67774, 1746: 82846, 1747: 71614, 1748: 78296, 1749: 63260, 1750: 59449, 1751: 54345, 1752: 53645, 1753: 62630, 1754: 58562, 1755: 66675, 1756: 62468, 1757: 59812, 1758: 75734, 1759: 83337, 1760: 84272, 1761: 105637, 1762: 101735, 1763: 119007, 1764: 140806, 1765: 139243, 1766: 126528, 1767: 9372}\n"
     ]
    },
    {
     "data": {
      "text/plain": [
       "{1610: 2.275334553648792e-05,\n",
       " 1611: 0.00027437857852823664,\n",
       " 1612: 0.00084354682496303,\n",
       " 1614: 0.0014317877286857618,\n",
       " 1615: 0.0011584129742253113,\n",
       " 1616: 0.0005163001788647185,\n",
       " 1617: 0.0008059034224210463,\n",
       " 1618: 0.0011241156519092817,\n",
       " 1619: 8.030592542289853e-06,\n",
       " 1620: 8.298278960366182e-05,\n",
       " 1621: 0.0016449330390790383,\n",
       " 1622: 1.5057361016793474e-05,\n",
       " 1623: 0.0007127150881282245,\n",
       " 1624: 0.001747825006027127,\n",
       " 1625: 0.0024804492714997784,\n",
       " 1626: 0.004447275228315601,\n",
       " 1627: 0.0002477772407319015,\n",
       " 1628: 2.158221745740398e-05,\n",
       " 1629: 0.00285286800064847,\n",
       " 1631: 0.0020039674473239137,\n",
       " 1632: 0.005283627980792831,\n",
       " 1633: 0.005681811527681369,\n",
       " 1634: 0.003851171036061878,\n",
       " 1635: 0.0021200764311645214,\n",
       " 1636: 0.007365559097381475,\n",
       " 1637: 0.005341180560679241,\n",
       " 1638: 0.006920530427329579,\n",
       " 1639: 0.007242925257100257,\n",
       " 1640: 0.0028548756487840428,\n",
       " 1641: 0.002076577388227118,\n",
       " 1642: 0.0029606117839241926,\n",
       " 1643: 0.002583341238447867,\n",
       " 1644: 0.002522107970312907,\n",
       " 1645: 0.001760874718908348,\n",
       " 1646: 0.0010429732064298947,\n",
       " 1647: 0.0029848708655623598,\n",
       " 1649: 0.00569268628841572,\n",
       " 1650: 0.003597872762957152,\n",
       " 1651: 0.009581333423008284,\n",
       " 1652: 0.007238742656817814,\n",
       " 1653: 0.002471080246867107,\n",
       " 1654: 0.008114411851950004,\n",
       " 1655: 0.008341778003303584,\n",
       " 1656: 0.0050796843910209276,\n",
       " 1657: 0.007179182428795831,\n",
       " 1658: 0.004379517103740031,\n",
       " 1659: 0.003723183467419133,\n",
       " 1660: 0.005037356476162608,\n",
       " 1661: 0.0021175668709950556,\n",
       " 1662: 0.005643164301071599,\n",
       " 1663: 0.0007292781852466973,\n",
       " 1664: 0.0008678059066011972,\n",
       " 1665: 0.0007170649924219648,\n",
       " 1666: 0.0033040869191183816,\n",
       " 1667: 0.007007528513204385,\n",
       " 1668: 0.0034441203765745608,\n",
       " 1669: 0.004103632789110115,\n",
       " 1670: 0.0012218211945071416,\n",
       " 1671: 0.0029629540400823605,\n",
       " 1672: 0.003739244652503713,\n",
       " 1673: 0.004168044833459732,\n",
       " 1674: 0.004128393782782175,\n",
       " 1675: 0.006217017059822728,\n",
       " 1676: 0.005327127023730234,\n",
       " 1677: 0.0041929731311430895,\n",
       " 1678: 0.00322762898595533,\n",
       " 1679: 0.008540033256691365,\n",
       " 1680: 0.0037375716123907356,\n",
       " 1681: 0.004287834505548888,\n",
       " 1682: 0.00017416347576091118,\n",
       " 1683: 0.011317781756267166,\n",
       " 1684: 0.007741825818790014,\n",
       " 1685: 0.006503943439198292,\n",
       " 1686: 0.005896127966153729,\n",
       " 1687: 0.0064102531928715775,\n",
       " 1688: 0.008113575331893516,\n",
       " 1689: 0.007209464454840716,\n",
       " 1690: 0.003015989411663733,\n",
       " 1691: 0.003852844076174855,\n",
       " 1692: 0.010498995924976197,\n",
       " 1693: 0.00670320251665386,\n",
       " 1694: 0.00503283926785757,\n",
       " 1695: 0.0027267207761300007,\n",
       " 1696: 0.0027114961111019092,\n",
       " 1697: 0.006830688173262711,\n",
       " 1698: 0.0038371174991128705,\n",
       " 1699: 0.003646223622222189,\n",
       " 1700: 0.0036497370064594407,\n",
       " 1701: 0.0025831739344365696,\n",
       " 1702: 0.003278154797367237,\n",
       " 1703: 0.00384079818736142,\n",
       " 1704: 0.004739220728030098,\n",
       " 1705: 0.004730855527465212,\n",
       " 1706: 0.005735850723330527,\n",
       " 1707: 0.00403252858430859,\n",
       " 1708: 0.0048027962523232255,\n",
       " 1709: 0.0050013861137336016,\n",
       " 1710: 0.005722801010449307,\n",
       " 1711: 0.007773111668902685,\n",
       " 1712: 0.006969717806651104,\n",
       " 1713: 0.0060550667768865495,\n",
       " 1714: 0.007722920465513373,\n",
       " 1715: 0.005597323001976027,\n",
       " 1716: 0.0055309033094908385,\n",
       " 1717: 0.005277270428363517,\n",
       " 1718: 0.004937977893451771,\n",
       " 1719: 0.00655229429846333,\n",
       " 1720: 0.005460133712711909,\n",
       " 1721: 0.0056475142053653395,\n",
       " 1722: 0.004875071585203834,\n",
       " 1723: 0.0037695266785485976,\n",
       " 1724: 0.005362930082147942,\n",
       " 1725: 0.003962930115608745,\n",
       " 1726: 0.005880903301125638,\n",
       " 1727: 0.004654230290290863,\n",
       " 1728: 0.006266873655189444,\n",
       " 1729: 0.007918833462742986,\n",
       " 1730: 0.012752748261167585,\n",
       " 1731: 0.008033436710481914,\n",
       " 1732: 0.012670100079586518,\n",
       " 1733: 0.011185946195364574,\n",
       " 1734: 0.007200931950264533,\n",
       " 1735: 0.005873541924628539,\n",
       " 1736: 0.011010109679490687,\n",
       " 1737: 0.007419263685008038,\n",
       " 1738: 0.012112643113942565,\n",
       " 1739: 0.023335563495803933,\n",
       " 1740: 0.007576027543593988,\n",
       " 1741: 0.026631452518368726,\n",
       " 1742: 0.023407002308628053,\n",
       " 1743: 0.020126505255102647,\n",
       " 1744: 0.009278847770582032,\n",
       " 1745: 0.011338862061690677,\n",
       " 1746: 0.013860468119969691,\n",
       " 1747: 0.011981309465073866,\n",
       " 1748: 0.013099234868565133,\n",
       " 1749: 0.010583651754692835,\n",
       " 1750: 0.00994605616763728,\n",
       " 1751: 0.009092136493973793,\n",
       " 1752: 0.0089750236860654,\n",
       " 1753: 0.010478250227575281,\n",
       " 1754: 0.009797657509616217,\n",
       " 1755: 0.011154994953274499,\n",
       " 1756: 0.010451146977745053,\n",
       " 1757: 0.010006787523738347,\n",
       " 1758: 0.012670601991620411,\n",
       " 1759: 0.013942614389516864,\n",
       " 1760: 0.014099043640080218,\n",
       " 1761: 0.017673493841455692,\n",
       " 1762: 0.017020673589372048,\n",
       " 1763: 0.01991034847250601,\n",
       " 1764: 0.02355740861478469,\n",
       " 1765: 0.023295912445126375,\n",
       " 1766: 0.021168641941476052,\n",
       " 1767: 0.0015679731938820938}"
      ]
     },
     "execution_count": 28,
     "metadata": {},
     "output_type": "execute_result"
    }
   ],
   "source": [
    "obj.normalize_corpus()"
   ]
  },
  {
   "cell_type": "code",
   "execution_count": null,
   "id": "c7de941f-fb5d-42c9-8f7f-ab315c3d72b5",
   "metadata": {},
   "outputs": [],
   "source": []
  },
  {
   "cell_type": "code",
   "execution_count": null,
   "id": "4e3d0928-3bcd-4199-ac42-43823284694e",
   "metadata": {},
   "outputs": [],
   "source": []
  }
 ],
 "metadata": {
  "kernelspec": {
   "display_name": "Python 3 (ipykernel)",
   "language": "python",
   "name": "python3"
  },
  "language_info": {
   "codemirror_mode": {
    "name": "ipython",
    "version": 3
   },
   "file_extension": ".py",
   "mimetype": "text/x-python",
   "name": "python",
   "nbconvert_exporter": "python",
   "pygments_lexer": "ipython3",
   "version": "3.10.12"
  }
 },
 "nbformat": 4,
 "nbformat_minor": 5
}
