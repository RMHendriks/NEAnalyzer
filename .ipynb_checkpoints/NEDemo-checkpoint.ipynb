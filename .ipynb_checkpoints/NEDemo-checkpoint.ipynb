{
 "cells": [
  {
   "cell_type": "code",
   "execution_count": null,
   "id": "a39dd48d-9055-4bae-be4e-9aa0b4722779",
   "metadata": {},
   "outputs": [],
   "source": [
    "%load_ext autoreload\n",
    "%autoreload 2"
   ]
  },
  {
   "cell_type": "code",
   "execution_count": null,
   "id": "57b2e6de-e10b-43b5-a28a-021ee21ae1e1",
   "metadata": {},
   "outputs": [],
   "source": [
    "from tf.app import use"
   ]
  },
  {
   "cell_type": "code",
   "execution_count": null,
   "id": "1b46fa3a-7f18-4ee4-9ac5-ddf922d0a071",
   "metadata": {},
   "outputs": [],
   "source": [
    "A = use(\n",
    "    \"CLARIAH/wp6-missieven\",\n",
    "    version=\"1.0\",\n",
    "    mod=\"CLARIAH/wp6-missieven/voc-missives/export/tf\", # copy of entity data\n",
    "    # mod=\"cltl/voc-missives/export/tf\",\n",
    "    hoist=globals(),\n",
    ")"
   ]
  },
  {
   "cell_type": "code",
   "execution_count": null,
   "id": "26113149-1dc3-4171-bf83-4408ce0285eb",
   "metadata": {},
   "outputs": [],
   "source": [
    "from NEAnalyzer import NEA\n",
    "obj = NEA([\"Batavia\", \"Banda\", \"Amsterdam\"], A, F, T, L)\n",
    "obj2 = NEA([\"Theeboom\", \"Middelburg\"], A, F, T, L)"
   ]
  },
  {
   "cell_type": "code",
   "execution_count": null,
   "id": "0d216dd2-ac2b-4597-b0f1-c720b43ac6d6",
   "metadata": {},
   "outputs": [],
   "source": [
    "obj.print_info()"
   ]
  },
  {
   "cell_type": "code",
   "execution_count": null,
   "id": "8af7feb7-b0ab-42d9-be85-84095ef86476",
   "metadata": {},
   "outputs": [],
   "source": [
    "obj.draw_plot(use_fixed_x=True)"
   ]
  },
  {
   "cell_type": "code",
   "execution_count": null,
   "id": "188780a0-7960-4dd6-b697-f805823786cf",
   "metadata": {},
   "outputs": [],
   "source": [
    "obj2.draw_plot(use_fixed_x=False)"
   ]
  },
  {
   "cell_type": "code",
   "execution_count": null,
   "id": "780579c6-876d-4653-b3b2-83d39daa0e18",
   "metadata": {},
   "outputs": [],
   "source": [
    "obj2.draw_plot(use_fixed_x=True)"
   ]
  },
  {
   "cell_type": "code",
   "execution_count": null,
   "id": "8f30abf2-812c-4f47-9298-249c60bc8cee",
   "metadata": {},
   "outputs": [],
   "source": [
    "obj.normalize_corpus()"
   ]
  },
  {
   "cell_type": "code",
   "execution_count": null,
   "id": "dcf0a3f1-ba99-4302-a7af-0b7b165b7d48",
   "metadata": {},
   "outputs": [],
   "source": [
    "obj.detect_overlap_letter(print_letters=True)"
   ]
  },
  {
   "cell_type": "code",
   "execution_count": null,
   "id": "c81f2ceb-a2b9-44f4-89b6-f62f3fdc0293",
   "metadata": {},
   "outputs": [],
   "source": [
    "obj2.detect_overlap_letter(print_letters=True)"
   ]
  },
  {
   "cell_type": "code",
   "execution_count": null,
   "id": "a5ffac59-064a-4972-b9ef-1519d7aebfe0",
   "metadata": {},
   "outputs": [],
   "source": [
    "obj.detect_overlap_index()"
   ]
  },
  {
   "cell_type": "code",
   "execution_count": null,
   "id": "73f7ff3e-88a1-4e8e-ad3a-2e2f75fe869d",
   "metadata": {},
   "outputs": [],
   "source": []
  }
 ],
 "metadata": {
  "kernelspec": {
   "display_name": "Python 3 (ipykernel)",
   "language": "python",
   "name": "python3"
  },
  "language_info": {
   "codemirror_mode": {
    "name": "ipython",
    "version": 3
   },
   "file_extension": ".py",
   "mimetype": "text/x-python",
   "name": "python",
   "nbconvert_exporter": "python",
   "pygments_lexer": "ipython3",
   "version": "3.10.12"
  }
 },
 "nbformat": 4,
 "nbformat_minor": 5
}
